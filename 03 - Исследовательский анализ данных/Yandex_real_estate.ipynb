{
 "cells": [
  {
   "cell_type": "markdown",
   "id": "c0a7c960",
   "metadata": {},
   "source": [
    "# Исследовательский анализ данных"
   ]
  },
  {
   "cell_type": "markdown",
   "id": "865eaa53",
   "metadata": {},
   "source": [
    "***Цель исследования***: выполнить предобработку данных и изучить их, чтобы найти интересные особенности и зависимости, которые существуют на рынке недвижимости.\n",
    "\n",
    "***Дано***: в нашем распоряжении данные сервиса **Яндекс Недвижимость** — архив объявлений за несколько лет о продаже квартир в Санкт-Петербурге и соседних населённых пунктах.\n",
    "\n",
    "***Описание данных***: о каждой квартире в базе содержится два типа данных: добавленные пользователем и картографические. Например, к первому типу относятся площадь квартиры, её этаж и количество балконов, ко второму — расстояния до центра города, аэропорта и ближайшего парка. "
   ]
  },
  {
   "cell_type": "code",
   "execution_count": 1,
   "id": "cb9c9e07",
   "metadata": {},
   "outputs": [],
   "source": [
    "#Загружаем библиотеки\n",
    "import matplotlib.pylab as plt\n",
    "import pandas as pd \n",
    "import numpy as np\n",
    "import seaborn as sns"
   ]
  },
  {
   "cell_type": "code",
   "execution_count": 2,
   "id": "447c0aef",
   "metadata": {},
   "outputs": [],
   "source": [
    "#Указываем формат таблиц:\n",
    "# - количество строк в таблице было не больше 30\n",
    "# - текст в ячейке отражался полностью вне зависимости от длины \n",
    "# - все числа отражались с двумя знаками после запятой\n",
    "pd.set_option('max_rows', 30)\n",
    "pd.set_option('display.max_colwidth', None)\n",
    "pd.set_option('display.float_format', '{:.2f}'.format)\n",
    "sns.set()"
   ]
  },
  {
   "cell_type": "code",
   "execution_count": 3,
   "id": "3e2b3062",
   "metadata": {},
   "outputs": [],
   "source": [
    "#Указываем путь к файлу\n",
    "try:\n",
    "    data_before = pd.read_csv('https://code.s3.yandex.net/datasets/real_estate_data.csv', sep='\\t')\n",
    "except:\n",
    "    data_before = pd.read_csv('C:/Users/Boris/datasets/real_estate_data.csv', sep='\\t')\n",
    "#Прошу прощение, не додумался =("
   ]
  },
  {
   "cell_type": "code",
   "execution_count": 4,
   "id": "79385001",
   "metadata": {},
   "outputs": [
    {
     "name": "stdout",
     "output_type": "stream",
     "text": [
      "<class 'pandas.core.frame.DataFrame'>\n",
      "RangeIndex: 23699 entries, 0 to 23698\n",
      "Data columns (total 22 columns):\n",
      " #   Column                Non-Null Count  Dtype  \n",
      "---  ------                --------------  -----  \n",
      " 0   total_images          23699 non-null  int64  \n",
      " 1   last_price            23699 non-null  float64\n",
      " 2   total_area            23699 non-null  float64\n",
      " 3   first_day_exposition  23699 non-null  object \n",
      " 4   rooms                 23699 non-null  int64  \n",
      " 5   ceiling_height        14504 non-null  float64\n",
      " 6   floors_total          23613 non-null  float64\n",
      " 7   living_area           21796 non-null  float64\n",
      " 8   floor                 23699 non-null  int64  \n",
      " 9   is_apartment          2775 non-null   object \n",
      " 10  studio                23699 non-null  bool   \n",
      " 11  open_plan             23699 non-null  bool   \n",
      " 12  kitchen_area          21421 non-null  float64\n",
      " 13  balcony               12180 non-null  float64\n",
      " 14  locality_name         23650 non-null  object \n",
      " 15  airports_nearest      18157 non-null  float64\n",
      " 16  cityCenters_nearest   18180 non-null  float64\n",
      " 17  parks_around3000      18181 non-null  float64\n",
      " 18  parks_nearest         8079 non-null   float64\n",
      " 19  ponds_around3000      18181 non-null  float64\n",
      " 20  ponds_nearest         9110 non-null   float64\n",
      " 21  days_exposition       20518 non-null  float64\n",
      "dtypes: bool(2), float64(14), int64(3), object(3)\n",
      "memory usage: 3.7+ MB\n"
     ]
    }
   ],
   "source": [
    "data = data_before\n",
    "#Выводим общую информацию\n",
    "data.info()"
   ]
  },
  {
   "cell_type": "markdown",
   "id": "64468042",
   "metadata": {},
   "source": [
    "Из информации видим названия колонок, где:\n",
    "\n",
    "- **airports_nearest** — расстояние до ближайшего аэропорта в метрах (м)\n",
    "- **balcony** — число балконов\n",
    "- **ceiling_height** — высота потолков (м)\n",
    "- **cityCenters_nearest** — расстояние до центра города (м)\n",
    "- **days_exposition** — сколько дней было размещено объявление (от публикации до снятия)\n",
    "- **first_day_exposition** — дата публикации\n",
    "- **floor** — этаж\n",
    "- **floors_total** — всего этажей в доме\n",
    "- **is_apartment** — апартаменты (булев тип)\n",
    "- **kitchen_area** — площадь кухни в квадратных метрах (м²)\n",
    "- **last_price** — цена на момент снятия с публикации\n",
    "- **living_area** — жилая площадь в квадратных метрах (м²)\n",
    "- **locality_name** — название населённого пункта\n",
    "- **open_plan** — свободная планировка (булев тип)\n",
    "- **parks_around3000** — число парков в радиусе 3 км\n",
    "- **parks_nearest** — расстояние до ближайшего парка (м)\n",
    "- **ponds**_around3000 — число водоёмов в радиусе 3 км\n",
    "- **ponds**_nearest — расстояние до ближайшего водоёма (м)\n",
    "- **rooms** — число комнат\n",
    "- **studio** — квартира-студия (булев тип)\n",
    "- **total_area** — общая площадь квартиры в квадратных метрах (м²)\n",
    "- **total_images** — число фотографий квартиры в объявлении"
   ]
  },
  {
   "cell_type": "code",
   "execution_count": 5,
   "id": "0c1fbcc2",
   "metadata": {
    "scrolled": true
   },
   "outputs": [
    {
     "data": {
      "text/html": [
       "<div>\n",
       "<style scoped>\n",
       "    .dataframe tbody tr th:only-of-type {\n",
       "        vertical-align: middle;\n",
       "    }\n",
       "\n",
       "    .dataframe tbody tr th {\n",
       "        vertical-align: top;\n",
       "    }\n",
       "\n",
       "    .dataframe thead th {\n",
       "        text-align: right;\n",
       "    }\n",
       "</style>\n",
       "<table border=\"1\" class=\"dataframe\">\n",
       "  <thead>\n",
       "    <tr style=\"text-align: right;\">\n",
       "      <th></th>\n",
       "      <th>total_images</th>\n",
       "      <th>last_price</th>\n",
       "      <th>total_area</th>\n",
       "      <th>rooms</th>\n",
       "      <th>ceiling_height</th>\n",
       "      <th>floors_total</th>\n",
       "      <th>living_area</th>\n",
       "      <th>floor</th>\n",
       "      <th>kitchen_area</th>\n",
       "      <th>balcony</th>\n",
       "      <th>airports_nearest</th>\n",
       "      <th>cityCenters_nearest</th>\n",
       "      <th>parks_around3000</th>\n",
       "      <th>parks_nearest</th>\n",
       "      <th>ponds_around3000</th>\n",
       "      <th>ponds_nearest</th>\n",
       "      <th>days_exposition</th>\n",
       "    </tr>\n",
       "  </thead>\n",
       "  <tbody>\n",
       "    <tr>\n",
       "      <th>count</th>\n",
       "      <td>23699.00</td>\n",
       "      <td>23699.00</td>\n",
       "      <td>23699.00</td>\n",
       "      <td>23699.00</td>\n",
       "      <td>14504.00</td>\n",
       "      <td>23613.00</td>\n",
       "      <td>21796.00</td>\n",
       "      <td>23699.00</td>\n",
       "      <td>21421.00</td>\n",
       "      <td>12180.00</td>\n",
       "      <td>18157.00</td>\n",
       "      <td>18180.00</td>\n",
       "      <td>18181.00</td>\n",
       "      <td>8079.00</td>\n",
       "      <td>18181.00</td>\n",
       "      <td>9110.00</td>\n",
       "      <td>20518.00</td>\n",
       "    </tr>\n",
       "    <tr>\n",
       "      <th>mean</th>\n",
       "      <td>9.86</td>\n",
       "      <td>6541548.77</td>\n",
       "      <td>60.35</td>\n",
       "      <td>2.07</td>\n",
       "      <td>2.77</td>\n",
       "      <td>10.67</td>\n",
       "      <td>34.46</td>\n",
       "      <td>5.89</td>\n",
       "      <td>10.57</td>\n",
       "      <td>1.15</td>\n",
       "      <td>28793.67</td>\n",
       "      <td>14191.28</td>\n",
       "      <td>0.61</td>\n",
       "      <td>490.80</td>\n",
       "      <td>0.77</td>\n",
       "      <td>517.98</td>\n",
       "      <td>180.89</td>\n",
       "    </tr>\n",
       "    <tr>\n",
       "      <th>std</th>\n",
       "      <td>5.68</td>\n",
       "      <td>10887013.27</td>\n",
       "      <td>35.65</td>\n",
       "      <td>1.08</td>\n",
       "      <td>1.26</td>\n",
       "      <td>6.60</td>\n",
       "      <td>22.03</td>\n",
       "      <td>4.89</td>\n",
       "      <td>5.91</td>\n",
       "      <td>1.07</td>\n",
       "      <td>12630.88</td>\n",
       "      <td>8608.39</td>\n",
       "      <td>0.80</td>\n",
       "      <td>342.32</td>\n",
       "      <td>0.94</td>\n",
       "      <td>277.72</td>\n",
       "      <td>219.73</td>\n",
       "    </tr>\n",
       "    <tr>\n",
       "      <th>min</th>\n",
       "      <td>0.00</td>\n",
       "      <td>12190.00</td>\n",
       "      <td>12.00</td>\n",
       "      <td>0.00</td>\n",
       "      <td>1.00</td>\n",
       "      <td>1.00</td>\n",
       "      <td>2.00</td>\n",
       "      <td>1.00</td>\n",
       "      <td>1.30</td>\n",
       "      <td>0.00</td>\n",
       "      <td>0.00</td>\n",
       "      <td>181.00</td>\n",
       "      <td>0.00</td>\n",
       "      <td>1.00</td>\n",
       "      <td>0.00</td>\n",
       "      <td>13.00</td>\n",
       "      <td>1.00</td>\n",
       "    </tr>\n",
       "    <tr>\n",
       "      <th>25%</th>\n",
       "      <td>6.00</td>\n",
       "      <td>3400000.00</td>\n",
       "      <td>40.00</td>\n",
       "      <td>1.00</td>\n",
       "      <td>2.52</td>\n",
       "      <td>5.00</td>\n",
       "      <td>18.60</td>\n",
       "      <td>2.00</td>\n",
       "      <td>7.00</td>\n",
       "      <td>0.00</td>\n",
       "      <td>18585.00</td>\n",
       "      <td>9238.00</td>\n",
       "      <td>0.00</td>\n",
       "      <td>288.00</td>\n",
       "      <td>0.00</td>\n",
       "      <td>294.00</td>\n",
       "      <td>45.00</td>\n",
       "    </tr>\n",
       "    <tr>\n",
       "      <th>50%</th>\n",
       "      <td>9.00</td>\n",
       "      <td>4650000.00</td>\n",
       "      <td>52.00</td>\n",
       "      <td>2.00</td>\n",
       "      <td>2.65</td>\n",
       "      <td>9.00</td>\n",
       "      <td>30.00</td>\n",
       "      <td>4.00</td>\n",
       "      <td>9.10</td>\n",
       "      <td>1.00</td>\n",
       "      <td>26726.00</td>\n",
       "      <td>13098.50</td>\n",
       "      <td>0.00</td>\n",
       "      <td>455.00</td>\n",
       "      <td>1.00</td>\n",
       "      <td>502.00</td>\n",
       "      <td>95.00</td>\n",
       "    </tr>\n",
       "    <tr>\n",
       "      <th>75%</th>\n",
       "      <td>14.00</td>\n",
       "      <td>6800000.00</td>\n",
       "      <td>69.90</td>\n",
       "      <td>3.00</td>\n",
       "      <td>2.80</td>\n",
       "      <td>16.00</td>\n",
       "      <td>42.30</td>\n",
       "      <td>8.00</td>\n",
       "      <td>12.00</td>\n",
       "      <td>2.00</td>\n",
       "      <td>37273.00</td>\n",
       "      <td>16293.00</td>\n",
       "      <td>1.00</td>\n",
       "      <td>612.00</td>\n",
       "      <td>1.00</td>\n",
       "      <td>729.00</td>\n",
       "      <td>232.00</td>\n",
       "    </tr>\n",
       "    <tr>\n",
       "      <th>max</th>\n",
       "      <td>50.00</td>\n",
       "      <td>763000000.00</td>\n",
       "      <td>900.00</td>\n",
       "      <td>19.00</td>\n",
       "      <td>100.00</td>\n",
       "      <td>60.00</td>\n",
       "      <td>409.70</td>\n",
       "      <td>33.00</td>\n",
       "      <td>112.00</td>\n",
       "      <td>5.00</td>\n",
       "      <td>84869.00</td>\n",
       "      <td>65968.00</td>\n",
       "      <td>3.00</td>\n",
       "      <td>3190.00</td>\n",
       "      <td>3.00</td>\n",
       "      <td>1344.00</td>\n",
       "      <td>1580.00</td>\n",
       "    </tr>\n",
       "  </tbody>\n",
       "</table>\n",
       "</div>"
      ],
      "text/plain": [
       "       total_images   last_price  total_area    rooms  ceiling_height  \\\n",
       "count      23699.00     23699.00    23699.00 23699.00        14504.00   \n",
       "mean           9.86   6541548.77       60.35     2.07            2.77   \n",
       "std            5.68  10887013.27       35.65     1.08            1.26   \n",
       "min            0.00     12190.00       12.00     0.00            1.00   \n",
       "25%            6.00   3400000.00       40.00     1.00            2.52   \n",
       "50%            9.00   4650000.00       52.00     2.00            2.65   \n",
       "75%           14.00   6800000.00       69.90     3.00            2.80   \n",
       "max           50.00 763000000.00      900.00    19.00          100.00   \n",
       "\n",
       "       floors_total  living_area    floor  kitchen_area  balcony  \\\n",
       "count      23613.00     21796.00 23699.00      21421.00 12180.00   \n",
       "mean          10.67        34.46     5.89         10.57     1.15   \n",
       "std            6.60        22.03     4.89          5.91     1.07   \n",
       "min            1.00         2.00     1.00          1.30     0.00   \n",
       "25%            5.00        18.60     2.00          7.00     0.00   \n",
       "50%            9.00        30.00     4.00          9.10     1.00   \n",
       "75%           16.00        42.30     8.00         12.00     2.00   \n",
       "max           60.00       409.70    33.00        112.00     5.00   \n",
       "\n",
       "       airports_nearest  cityCenters_nearest  parks_around3000  parks_nearest  \\\n",
       "count          18157.00             18180.00          18181.00        8079.00   \n",
       "mean           28793.67             14191.28              0.61         490.80   \n",
       "std            12630.88              8608.39              0.80         342.32   \n",
       "min                0.00               181.00              0.00           1.00   \n",
       "25%            18585.00              9238.00              0.00         288.00   \n",
       "50%            26726.00             13098.50              0.00         455.00   \n",
       "75%            37273.00             16293.00              1.00         612.00   \n",
       "max            84869.00             65968.00              3.00        3190.00   \n",
       "\n",
       "       ponds_around3000  ponds_nearest  days_exposition  \n",
       "count          18181.00        9110.00         20518.00  \n",
       "mean               0.77         517.98           180.89  \n",
       "std                0.94         277.72           219.73  \n",
       "min                0.00          13.00             1.00  \n",
       "25%                0.00         294.00            45.00  \n",
       "50%                1.00         502.00            95.00  \n",
       "75%                1.00         729.00           232.00  \n",
       "max                3.00        1344.00          1580.00  "
      ]
     },
     "execution_count": 5,
     "metadata": {},
     "output_type": "execute_result"
    }
   ],
   "source": [
    "data.describe()"
   ]
  },
  {
   "cell_type": "code",
   "execution_count": 6,
   "id": "f7e2a338",
   "metadata": {},
   "outputs": [
    {
     "data": {
      "text/plain": [
       "array([[<AxesSubplot:title={'center':'total_images'}>,\n",
       "        <AxesSubplot:title={'center':'last_price'}>,\n",
       "        <AxesSubplot:title={'center':'total_area'}>,\n",
       "        <AxesSubplot:title={'center':'rooms'}>],\n",
       "       [<AxesSubplot:title={'center':'ceiling_height'}>,\n",
       "        <AxesSubplot:title={'center':'floors_total'}>,\n",
       "        <AxesSubplot:title={'center':'living_area'}>,\n",
       "        <AxesSubplot:title={'center':'floor'}>],\n",
       "       [<AxesSubplot:title={'center':'kitchen_area'}>,\n",
       "        <AxesSubplot:title={'center':'balcony'}>,\n",
       "        <AxesSubplot:title={'center':'airports_nearest'}>,\n",
       "        <AxesSubplot:title={'center':'cityCenters_nearest'}>],\n",
       "       [<AxesSubplot:title={'center':'parks_around3000'}>,\n",
       "        <AxesSubplot:title={'center':'parks_nearest'}>,\n",
       "        <AxesSubplot:title={'center':'ponds_around3000'}>,\n",
       "        <AxesSubplot:title={'center':'ponds_nearest'}>],\n",
       "       [<AxesSubplot:title={'center':'days_exposition'}>, <AxesSubplot:>,\n",
       "        <AxesSubplot:>, <AxesSubplot:>]], dtype=object)"
      ]
     },
     "execution_count": 6,
     "metadata": {},
     "output_type": "execute_result"
    },
    {
     "data": {
      "image/png": "[encoded data removed]",
      "text/plain": [
       "<Figure size 1440x1080 with 20 Axes>"
      ]
     },
     "metadata": {},
     "output_type": "display_data"
    }
   ],
   "source": [
    "#Выводим общую гистограмму для всех числовых значений столбцов\n",
    "data.hist(figsize=(20, 15))"
   ]
  },
  {
   "cell_type": "markdown",
   "id": "114ea1b7",
   "metadata": {},
   "source": [
    "Из представленных гистрограмм видно данные без предварительной обработки."
   ]
  },
  {
   "cell_type": "markdown",
   "id": "4ca55de6",
   "metadata": {},
   "source": [
    "## Предварительная обработка данных"
   ]
  },
  {
   "cell_type": "markdown",
   "id": "5f780b1a",
   "metadata": {},
   "source": [
    "На предварительном этапе обработки данных необходимо:\n",
    "-  Найти и изучить пропущенные значения в столцах;\n",
    "-  Заполнить пропущенные значения;\n",
    "-  Преобразовать типы данных в нужные;\n",
    "-  Изучить и обработать уникальные значения (артефакты) в данных.\n",
    "\n",
    "Необходимо провести работу, которая облегчить будущий анализ данных и исключит ошибки."
   ]
  },
  {
   "cell_type": "code",
   "execution_count": 7,
   "id": "7e593666",
   "metadata": {},
   "outputs": [
    {
     "data": {
      "text/html": [
       "<div>\n",
       "<style scoped>\n",
       "    .dataframe tbody tr th:only-of-type {\n",
       "        vertical-align: middle;\n",
       "    }\n",
       "\n",
       "    .dataframe tbody tr th {\n",
       "        vertical-align: top;\n",
       "    }\n",
       "\n",
       "    .dataframe thead th {\n",
       "        text-align: right;\n",
       "    }\n",
       "</style>\n",
       "<table border=\"1\" class=\"dataframe\">\n",
       "  <thead>\n",
       "    <tr style=\"text-align: right;\">\n",
       "      <th></th>\n",
       "      <th>total_images</th>\n",
       "      <th>last_price</th>\n",
       "      <th>total_area</th>\n",
       "      <th>first_day_exposition</th>\n",
       "      <th>rooms</th>\n",
       "      <th>ceiling_height</th>\n",
       "      <th>floors_total</th>\n",
       "      <th>living_area</th>\n",
       "      <th>floor</th>\n",
       "      <th>is_apartment</th>\n",
       "      <th>...</th>\n",
       "      <th>kitchen_area</th>\n",
       "      <th>balcony</th>\n",
       "      <th>locality_name</th>\n",
       "      <th>airports_nearest</th>\n",
       "      <th>cityCenters_nearest</th>\n",
       "      <th>parks_around3000</th>\n",
       "      <th>parks_nearest</th>\n",
       "      <th>ponds_around3000</th>\n",
       "      <th>ponds_nearest</th>\n",
       "      <th>days_exposition</th>\n",
       "    </tr>\n",
       "  </thead>\n",
       "  <tbody>\n",
       "    <tr>\n",
       "      <th>0</th>\n",
       "      <td>20</td>\n",
       "      <td>13000000.00</td>\n",
       "      <td>108.00</td>\n",
       "      <td>2019-03-07T00:00:00</td>\n",
       "      <td>3</td>\n",
       "      <td>2.70</td>\n",
       "      <td>16.00</td>\n",
       "      <td>51.00</td>\n",
       "      <td>8</td>\n",
       "      <td>NaN</td>\n",
       "      <td>...</td>\n",
       "      <td>25.00</td>\n",
       "      <td>NaN</td>\n",
       "      <td>Санкт-Петербург</td>\n",
       "      <td>18863.00</td>\n",
       "      <td>16028.00</td>\n",
       "      <td>1.00</td>\n",
       "      <td>482.00</td>\n",
       "      <td>2.00</td>\n",
       "      <td>755.00</td>\n",
       "      <td>NaN</td>\n",
       "    </tr>\n",
       "    <tr>\n",
       "      <th>1</th>\n",
       "      <td>7</td>\n",
       "      <td>3350000.00</td>\n",
       "      <td>40.40</td>\n",
       "      <td>2018-12-04T00:00:00</td>\n",
       "      <td>1</td>\n",
       "      <td>NaN</td>\n",
       "      <td>11.00</td>\n",
       "      <td>18.60</td>\n",
       "      <td>1</td>\n",
       "      <td>NaN</td>\n",
       "      <td>...</td>\n",
       "      <td>11.00</td>\n",
       "      <td>2.00</td>\n",
       "      <td>посёлок Шушары</td>\n",
       "      <td>12817.00</td>\n",
       "      <td>18603.00</td>\n",
       "      <td>0.00</td>\n",
       "      <td>NaN</td>\n",
       "      <td>0.00</td>\n",
       "      <td>NaN</td>\n",
       "      <td>81.00</td>\n",
       "    </tr>\n",
       "    <tr>\n",
       "      <th>2</th>\n",
       "      <td>10</td>\n",
       "      <td>5196000.00</td>\n",
       "      <td>56.00</td>\n",
       "      <td>2015-08-20T00:00:00</td>\n",
       "      <td>2</td>\n",
       "      <td>NaN</td>\n",
       "      <td>5.00</td>\n",
       "      <td>34.30</td>\n",
       "      <td>4</td>\n",
       "      <td>NaN</td>\n",
       "      <td>...</td>\n",
       "      <td>8.30</td>\n",
       "      <td>0.00</td>\n",
       "      <td>Санкт-Петербург</td>\n",
       "      <td>21741.00</td>\n",
       "      <td>13933.00</td>\n",
       "      <td>1.00</td>\n",
       "      <td>90.00</td>\n",
       "      <td>2.00</td>\n",
       "      <td>574.00</td>\n",
       "      <td>558.00</td>\n",
       "    </tr>\n",
       "    <tr>\n",
       "      <th>3</th>\n",
       "      <td>0</td>\n",
       "      <td>64900000.00</td>\n",
       "      <td>159.00</td>\n",
       "      <td>2015-07-24T00:00:00</td>\n",
       "      <td>3</td>\n",
       "      <td>NaN</td>\n",
       "      <td>14.00</td>\n",
       "      <td>NaN</td>\n",
       "      <td>9</td>\n",
       "      <td>NaN</td>\n",
       "      <td>...</td>\n",
       "      <td>NaN</td>\n",
       "      <td>0.00</td>\n",
       "      <td>Санкт-Петербург</td>\n",
       "      <td>28098.00</td>\n",
       "      <td>6800.00</td>\n",
       "      <td>2.00</td>\n",
       "      <td>84.00</td>\n",
       "      <td>3.00</td>\n",
       "      <td>234.00</td>\n",
       "      <td>424.00</td>\n",
       "    </tr>\n",
       "    <tr>\n",
       "      <th>4</th>\n",
       "      <td>2</td>\n",
       "      <td>10000000.00</td>\n",
       "      <td>100.00</td>\n",
       "      <td>2018-06-19T00:00:00</td>\n",
       "      <td>2</td>\n",
       "      <td>3.03</td>\n",
       "      <td>14.00</td>\n",
       "      <td>32.00</td>\n",
       "      <td>13</td>\n",
       "      <td>NaN</td>\n",
       "      <td>...</td>\n",
       "      <td>41.00</td>\n",
       "      <td>NaN</td>\n",
       "      <td>Санкт-Петербург</td>\n",
       "      <td>31856.00</td>\n",
       "      <td>8098.00</td>\n",
       "      <td>2.00</td>\n",
       "      <td>112.00</td>\n",
       "      <td>1.00</td>\n",
       "      <td>48.00</td>\n",
       "      <td>121.00</td>\n",
       "    </tr>\n",
       "  </tbody>\n",
       "</table>\n",
       "<p>5 rows × 22 columns</p>\n",
       "</div>"
      ],
      "text/plain": [
       "   total_images  last_price  total_area first_day_exposition  rooms  \\\n",
       "0            20 13000000.00      108.00  2019-03-07T00:00:00      3   \n",
       "1             7  3350000.00       40.40  2018-12-04T00:00:00      1   \n",
       "2            10  5196000.00       56.00  2015-08-20T00:00:00      2   \n",
       "3             0 64900000.00      159.00  2015-07-24T00:00:00      3   \n",
       "4             2 10000000.00      100.00  2018-06-19T00:00:00      2   \n",
       "\n",
       "   ceiling_height  floors_total  living_area  floor is_apartment  ...  \\\n",
       "0            2.70         16.00        51.00      8          NaN  ...   \n",
       "1             NaN         11.00        18.60      1          NaN  ...   \n",
       "2             NaN          5.00        34.30      4          NaN  ...   \n",
       "3             NaN         14.00          NaN      9          NaN  ...   \n",
       "4            3.03         14.00        32.00     13          NaN  ...   \n",
       "\n",
       "   kitchen_area  balcony    locality_name  airports_nearest  \\\n",
       "0         25.00      NaN  Санкт-Петербург          18863.00   \n",
       "1         11.00     2.00   посёлок Шушары          12817.00   \n",
       "2          8.30     0.00  Санкт-Петербург          21741.00   \n",
       "3           NaN     0.00  Санкт-Петербург          28098.00   \n",
       "4         41.00      NaN  Санкт-Петербург          31856.00   \n",
       "\n",
       "  cityCenters_nearest  parks_around3000  parks_nearest  ponds_around3000  \\\n",
       "0            16028.00              1.00         482.00              2.00   \n",
       "1            18603.00              0.00            NaN              0.00   \n",
       "2            13933.00              1.00          90.00              2.00   \n",
       "3             6800.00              2.00          84.00              3.00   \n",
       "4             8098.00              2.00         112.00              1.00   \n",
       "\n",
       "   ponds_nearest  days_exposition  \n",
       "0         755.00              NaN  \n",
       "1            NaN            81.00  \n",
       "2         574.00           558.00  \n",
       "3         234.00           424.00  \n",
       "4          48.00           121.00  \n",
       "\n",
       "[5 rows x 22 columns]"
      ]
     },
     "execution_count": 7,
     "metadata": {},
     "output_type": "execute_result"
    }
   ],
   "source": [
    "#Выводим первые 20 строк таблицы\n",
    "data.head(5)"
   ]
  },
  {
   "cell_type": "markdown",
   "id": "9c29dd5b",
   "metadata": {},
   "source": [
    "### Обработка пропусков"
   ]
  },
  {
   "cell_type": "code",
   "execution_count": 8,
   "id": "543e10f5",
   "metadata": {
    "scrolled": false
   },
   "outputs": [
    {
     "data": {
      "text/plain": [
       "total_images                0\n",
       "last_price                  0\n",
       "total_area                  0\n",
       "first_day_exposition        0\n",
       "rooms                       0\n",
       "ceiling_height           9195\n",
       "floors_total               86\n",
       "living_area              1903\n",
       "floor                       0\n",
       "is_apartment            20924\n",
       "studio                      0\n",
       "open_plan                   0\n",
       "kitchen_area             2278\n",
       "balcony                 11519\n",
       "locality_name              49\n",
       "airports_nearest         5542\n",
       "cityCenters_nearest      5519\n",
       "parks_around3000         5518\n",
       "parks_nearest           15620\n",
       "ponds_around3000         5518\n",
       "ponds_nearest           14589\n",
       "days_exposition          3181\n",
       "dtype: int64"
      ]
     },
     "execution_count": 8,
     "metadata": {},
     "output_type": "execute_result"
    }
   ],
   "source": [
    "#Подсчитаем сумму пропусков в столбцах таблицы\n",
    "data.isna().sum()"
   ]
  },
  {
   "cell_type": "markdown",
   "id": "88eade8a",
   "metadata": {},
   "source": [
    "После подсчета пропусков в таблице видим, что есть пропуски в столбце **is_apatment**, который, как мы помним, заполнен булевыми значениями данных, т.е. отсутствие данных в днем можно подразумевать как значение равное **False**."
   ]
  },
  {
   "cell_type": "code",
   "execution_count": 9,
   "id": "b2e576dc",
   "metadata": {},
   "outputs": [],
   "source": [
    "#Заменяем все пропущенные данные в столбце is_apartmen на False\n",
    "data['is_apartment'] = data['is_apartment'].fillna(value=False)"
   ]
  },
  {
   "cell_type": "markdown",
   "id": "9f52966a",
   "metadata": {},
   "source": [
    "Пропуски в столбце **balcony** могут говорить об отсутствии балкона в квартире, можно даные значение заменить на 0."
   ]
  },
  {
   "cell_type": "code",
   "execution_count": 10,
   "id": "d206fa7c",
   "metadata": {},
   "outputs": [],
   "source": [
    "#Заменяем все пропущенные данные в столбце balcony на 0\n",
    "data['balcony'] = data['balcony'].fillna(value=0)"
   ]
  },
  {
   "cell_type": "markdown",
   "id": "2e65c7de",
   "metadata": {},
   "source": [
    "Пропущенные значения в столбце **floors_total** могу указывать на частный дом, таким образом, можно заменить все пропуски в данном столбце на 1 (т.е. один этаж)."
   ]
  },
  {
   "cell_type": "code",
   "execution_count": 11,
   "id": "dcda9331",
   "metadata": {},
   "outputs": [],
   "source": [
    "#Заменяем пропущенные данные в столбце floors_total на 1\n",
    "data['floors_total'] = data['floors_total'].fillna(value=1)"
   ]
  },
  {
   "cell_type": "markdown",
   "id": "c0b53c8c",
   "metadata": {},
   "source": [
    "В таблице большое колличество пропусков данных связанных с наличием рядом парков и прудов, для удобства подсчета мы заменим пропуски на 0. Однако, чтобы избежать ошибки, мы проверим, если в столбце **parks_around3000** или **ponds_around3000** есть пропуск, но при этом в столбцах **parks_nearest** или **ponds_neares** расстояние меньше 3000, то это значит, что хотя бы 1 пруд или парк в данной зоне есть, то есть значение можно указать не 0, а 1. "
   ]
  },
  {
   "cell_type": "code",
   "execution_count": 12,
   "id": "83e6bf38",
   "metadata": {},
   "outputs": [],
   "source": [
    "#Проверяем, есть ли на расстояние 3000 метров и меньше парк или пруд\n",
    "for park in data[(data['parks_nearest'] <= 3000) & (data['parks_around3000'].isna())]: \n",
    "    data['parks_around3000'].fillna(value=1)\n",
    "for pond in data[(data['ponds_nearest'] <= 3000) & (data['ponds_around3000'].isna())]: \n",
    "    data['ponds_around3000'].fillna(value=1)\n",
    "#Заменяем пропуски в столбцах на 0\n",
    "data['parks_around3000'] = data['parks_around3000'].fillna(value=0)\n",
    "data['parks_nearest'] = data['parks_nearest'].fillna(value=0)\n",
    "data['ponds_around3000'] = data['ponds_around3000'].fillna(value=0)\n",
    "data['ponds_nearest'] = data['ponds_nearest'].fillna(value=0)"
   ]
  },
  {
   "cell_type": "markdown",
   "id": "6c513758",
   "metadata": {},
   "source": [
    "Для данных в столбцах **airports_nearest** и **cityCenters_nearest** пропуски заменим 0.\n"
   ]
  },
  {
   "cell_type": "code",
   "execution_count": 13,
   "id": "524ae945",
   "metadata": {},
   "outputs": [],
   "source": [
    "#Заменяем пропуски в столбцах airports_neares и cityCenrets_nearest на 0\n",
    "data['airports_nearest'] = data['airports_nearest'].fillna(value=0)\n",
    "data['cityCenters_nearest'] = data['cityCenters_nearest'].fillna(value=0)"
   ]
  },
  {
   "cell_type": "markdown",
   "id": "e62b455e",
   "metadata": {},
   "source": [
    "Данные с пропусками в столбце **locality_name** можно убрать, поскольку их мало и на конечную статистику они влиять не будут."
   ]
  },
  {
   "cell_type": "code",
   "execution_count": 14,
   "id": "e65508c3",
   "metadata": {},
   "outputs": [],
   "source": [
    "#Удаляем строки с пропусками в столбце locality_name и обновляем индексы\n",
    "data = data.dropna(subset=['locality_name']).reset_index()"
   ]
  },
  {
   "cell_type": "markdown",
   "id": "8395cda1",
   "metadata": {},
   "source": [
    "Данные в столбцах **ceiling_height**, **living_area** и **kitchen_area** можно заменить на медианное значение по колличеству комнат в других объявлениях."
   ]
  },
  {
   "cell_type": "code",
   "execution_count": 15,
   "id": "950ba18b",
   "metadata": {},
   "outputs": [],
   "source": [
    "#Делаем замену пропущенных данных в столбце living_area \n",
    "for i in data['rooms'].unique():\n",
    "    data.loc[(data['rooms'] == i) & (data['living_area'].isna()), 'living_area'] = \\\n",
    "    data.loc[(data['rooms'] == i), 'living_area'].median()"
   ]
  },
  {
   "cell_type": "code",
   "execution_count": 16,
   "id": "cd3ec0a9",
   "metadata": {
    "scrolled": false
   },
   "outputs": [
    {
     "name": "stderr",
     "output_type": "stream",
     "text": [
      "/opt/conda/lib/python3.9/site-packages/numpy/lib/nanfunctions.py:1117: RuntimeWarning: Mean of empty slice\n",
      "  return np.nanmean(a, axis, out=out, keepdims=keepdims)\n"
     ]
    }
   ],
   "source": [
    "# Делаем замену пропущенных данных в столбце living_area \n",
    "for t in data['rooms'].unique():\n",
    "    data.loc[(data['rooms'] == t) & (data['kitchen_area'].isna()), 'kitchen_area'] = \\\n",
    "    data.loc[(data['rooms'] == t), 'kitchen_area'].median()\n",
    "#Оставшиеся пропуски свидетельствуют о том, что это студия, а для студии значение kitchen_area будет равно 0  \n",
    "data['kitchen_area'] = data['kitchen_area'].fillna(0)"
   ]
  },
  {
   "cell_type": "code",
   "execution_count": 17,
   "id": "3d54eb1b",
   "metadata": {
    "scrolled": false
   },
   "outputs": [
    {
     "name": "stderr",
     "output_type": "stream",
     "text": [
      "/opt/conda/lib/python3.9/site-packages/numpy/lib/nanfunctions.py:1117: RuntimeWarning: Mean of empty slice\n",
      "  return np.nanmean(a, axis, out=out, keepdims=keepdims)\n"
     ]
    }
   ],
   "source": [
    "# Делаем замену пропущенных данных в столбце ceiling_height\n",
    "for k in data['rooms'].unique():\n",
    "    data.loc[(data['rooms'] == k) & (data['ceiling_height'].isna()), 'ceiling_height'] = \\\n",
    "    data.loc[(data['rooms'] == k), 'ceiling_height'].median()\n",
    "#Для оставшегося пропущенного значения с 19 комнатами, которое единственное - \n",
    "# значение ceiling_height будет равно среднему значению высоты потолка\n",
    "ceiling_height_median = data['ceiling_height'].median()\n",
    "data['ceiling_height'] = data['ceiling_height'].fillna(ceiling_height_median)"
   ]
  },
  {
   "cell_type": "code",
   "execution_count": 18,
   "id": "911646ff",
   "metadata": {
    "scrolled": false
   },
   "outputs": [
    {
     "data": {
      "text/plain": [
       "index                      0\n",
       "total_images               0\n",
       "last_price                 0\n",
       "total_area                 0\n",
       "first_day_exposition       0\n",
       "rooms                      0\n",
       "ceiling_height             0\n",
       "floors_total               0\n",
       "living_area                0\n",
       "floor                      0\n",
       "is_apartment               0\n",
       "studio                     0\n",
       "open_plan                  0\n",
       "kitchen_area               0\n",
       "balcony                    0\n",
       "locality_name              0\n",
       "airports_nearest           0\n",
       "cityCenters_nearest        0\n",
       "parks_around3000           0\n",
       "parks_nearest              0\n",
       "ponds_around3000           0\n",
       "ponds_nearest              0\n",
       "days_exposition         3180\n",
       "dtype: int64"
      ]
     },
     "execution_count": 18,
     "metadata": {},
     "output_type": "execute_result"
    }
   ],
   "source": [
    "#Заного делаем подсчет по столбцам, для проверки\n",
    "data.isna().sum()"
   ]
  },
  {
   "cell_type": "markdown",
   "id": "008a9b45",
   "metadata": {},
   "source": [
    "Таким образом, остались только пропуски в данных о дате продажи квартиры."
   ]
  },
  {
   "cell_type": "markdown",
   "id": "e7f1821d",
   "metadata": {},
   "source": [
    "### Изменение типов данных "
   ]
  },
  {
   "cell_type": "code",
   "execution_count": 19,
   "id": "baf674f8",
   "metadata": {
    "scrolled": false
   },
   "outputs": [
    {
     "name": "stdout",
     "output_type": "stream",
     "text": [
      "<class 'pandas.core.frame.DataFrame'>\n",
      "RangeIndex: 23650 entries, 0 to 23649\n",
      "Data columns (total 23 columns):\n",
      " #   Column                Non-Null Count  Dtype  \n",
      "---  ------                --------------  -----  \n",
      " 0   index                 23650 non-null  int64  \n",
      " 1   total_images          23650 non-null  int64  \n",
      " 2   last_price            23650 non-null  float64\n",
      " 3   total_area            23650 non-null  float64\n",
      " 4   first_day_exposition  23650 non-null  object \n",
      " 5   rooms                 23650 non-null  int64  \n",
      " 6   ceiling_height        23650 non-null  float64\n",
      " 7   floors_total          23650 non-null  float64\n",
      " 8   living_area           23650 non-null  float64\n",
      " 9   floor                 23650 non-null  int64  \n",
      " 10  is_apartment          23650 non-null  bool   \n",
      " 11  studio                23650 non-null  bool   \n",
      " 12  open_plan             23650 non-null  bool   \n",
      " 13  kitchen_area          23650 non-null  float64\n",
      " 14  balcony               23650 non-null  float64\n",
      " 15  locality_name         23650 non-null  object \n",
      " 16  airports_nearest      23650 non-null  float64\n",
      " 17  cityCenters_nearest   23650 non-null  float64\n",
      " 18  parks_around3000      23650 non-null  float64\n",
      " 19  parks_nearest         23650 non-null  float64\n",
      " 20  ponds_around3000      23650 non-null  float64\n",
      " 21  ponds_nearest         23650 non-null  float64\n",
      " 22  days_exposition       20470 non-null  float64\n",
      "dtypes: bool(3), float64(14), int64(4), object(2)\n",
      "memory usage: 3.7+ MB\n"
     ]
    }
   ],
   "source": [
    "#Смотрим информацию о типах данных столбцов\n",
    "data.info()"
   ]
  },
  {
   "cell_type": "markdown",
   "id": "ea31dbea",
   "metadata": {},
   "source": [
    "Заменяем тип данных в столбцах **floors_total**, **balcony**, **parks_around3000**, **ponds_around3000** и **days_exposition** на целочисленные, поскольку эти данные имеют колличественные значения."
   ]
  },
  {
   "cell_type": "code",
   "execution_count": 20,
   "id": "8c75fc31",
   "metadata": {},
   "outputs": [],
   "source": [
    "#Заменяем тип данных на int\n",
    "data['floors_total'] = data['floors_total'].astype('int')\n",
    "data['balcony'] = data['balcony'].astype('int')\n",
    "data['parks_around3000'] = data['parks_around3000'].astype('int')\n",
    "data['ponds_around3000'] = data['ponds_around3000'].astype('int')"
   ]
  },
  {
   "cell_type": "code",
   "execution_count": 21,
   "id": "28861e96",
   "metadata": {},
   "outputs": [],
   "source": [
    "#Заменяем тип данных на datetime\n",
    "data['first_day_exposition'] = pd.to_datetime(data['first_day_exposition'], format='%Y-%m-%dT%H:%M:%S')"
   ]
  },
  {
   "cell_type": "code",
   "execution_count": 22,
   "id": "e40446a4",
   "metadata": {},
   "outputs": [
    {
     "name": "stdout",
     "output_type": "stream",
     "text": [
      "<class 'pandas.core.frame.DataFrame'>\n",
      "RangeIndex: 23650 entries, 0 to 23649\n",
      "Data columns (total 23 columns):\n",
      " #   Column                Non-Null Count  Dtype         \n",
      "---  ------                --------------  -----         \n",
      " 0   index                 23650 non-null  int64         \n",
      " 1   total_images          23650 non-null  int64         \n",
      " 2   last_price            23650 non-null  float64       \n",
      " 3   total_area            23650 non-null  float64       \n",
      " 4   first_day_exposition  23650 non-null  datetime64[ns]\n",
      " 5   rooms                 23650 non-null  int64         \n",
      " 6   ceiling_height        23650 non-null  float64       \n",
      " 7   floors_total          23650 non-null  int64         \n",
      " 8   living_area           23650 non-null  float64       \n",
      " 9   floor                 23650 non-null  int64         \n",
      " 10  is_apartment          23650 non-null  bool          \n",
      " 11  studio                23650 non-null  bool          \n",
      " 12  open_plan             23650 non-null  bool          \n",
      " 13  kitchen_area          23650 non-null  float64       \n",
      " 14  balcony               23650 non-null  int64         \n",
      " 15  locality_name         23650 non-null  object        \n",
      " 16  airports_nearest      23650 non-null  float64       \n",
      " 17  cityCenters_nearest   23650 non-null  float64       \n",
      " 18  parks_around3000      23650 non-null  int64         \n",
      " 19  parks_nearest         23650 non-null  float64       \n",
      " 20  ponds_around3000      23650 non-null  int64         \n",
      " 21  ponds_nearest         23650 non-null  float64       \n",
      " 22  days_exposition       20470 non-null  float64       \n",
      "dtypes: bool(3), datetime64[ns](1), float64(10), int64(8), object(1)\n",
      "memory usage: 3.7+ MB\n"
     ]
    }
   ],
   "source": [
    "data.info()"
   ]
  },
  {
   "cell_type": "markdown",
   "id": "4c5e1491",
   "metadata": {},
   "source": [
    "Основное изменение типов данных было в столбце **first_day_exposition**, в котором было указано время, когда квартира была выставлена на продажу, это изменение необходимо, чтобы можно было сгруппировать данные по началу публикации продажи. "
   ]
  },
  {
   "cell_type": "markdown",
   "id": "af6f5b19",
   "metadata": {},
   "source": [
    "### Изучение уникальных значений столбцов"
   ]
  },
  {
   "cell_type": "markdown",
   "id": "dda4058c",
   "metadata": {},
   "source": [
    "Для удобства группирования и более точных выводом, убираем типы локаций в столбце **locality_name**."
   ]
  },
  {
   "cell_type": "code",
   "execution_count": 23,
   "id": "9824895e",
   "metadata": {
    "scrolled": false
   },
   "outputs": [
    {
     "data": {
      "text/plain": [
       "array(['Санкт-Петербург', 'посёлок Шушары', 'городской посёлок Янино-1',\n",
       "       'посёлок Парголово', 'посёлок Мурино', 'Ломоносов', 'Сертолово',\n",
       "       'Петергоф', 'Пушкин', 'деревня Кудрово', 'Коммунар', 'Колпино',\n",
       "       'поселок городского типа Красный Бор', 'Гатчина', 'поселок Мурино',\n",
       "       'деревня Фёдоровское', 'Выборг', 'Кронштадт', 'Кировск',\n",
       "       'деревня Новое Девяткино', 'посёлок Металлострой',\n",
       "       'посёлок городского типа Лебяжье',\n",
       "       'посёлок городского типа Сиверский', 'поселок Молодцово',\n",
       "       'поселок городского типа Кузьмоловский',\n",
       "       'садовое товарищество Новая Ропша', 'Павловск',\n",
       "       'деревня Пикколово', 'Всеволожск', 'Волхов', 'Кингисепп',\n",
       "       'Приозерск', 'Сестрорецк', 'деревня Куттузи', 'посёлок Аннино',\n",
       "       'поселок городского типа Ефимовский', 'посёлок Плодовое',\n",
       "       'деревня Заклинье', 'поселок Торковичи', 'поселок Первомайское',\n",
       "       'Красное Село', 'посёлок Понтонный', 'Сясьстрой', 'деревня Старая',\n",
       "       'деревня Лесколово', 'посёлок Новый Свет', 'Сланцы',\n",
       "       'село Путилово', 'Ивангород', 'Мурино', 'Шлиссельбург',\n",
       "       'Никольское', 'Зеленогорск', 'Сосновый Бор', 'поселок Новый Свет',\n",
       "       'деревня Оржицы', 'деревня Кальтино', 'Кудрово',\n",
       "       'поселок Романовка', 'посёлок Бугры', 'поселок Бугры',\n",
       "       'поселок городского типа Рощино', 'Кириши', 'Луга', 'Волосово',\n",
       "       'Отрадное', 'село Павлово', 'поселок Оредеж', 'село Копорье',\n",
       "       'посёлок городского типа Красный Бор', 'посёлок Молодёжное',\n",
       "       'Тихвин', 'посёлок Победа', 'деревня Нурма',\n",
       "       'поселок городского типа Синявино', 'Тосно',\n",
       "       'посёлок городского типа Кузьмоловский', 'посёлок Стрельна',\n",
       "       'Бокситогорск', 'посёлок Александровская', 'деревня Лопухинка',\n",
       "       'Пикалёво', 'поселок Терволово',\n",
       "       'поселок городского типа Советский', 'Подпорожье',\n",
       "       'посёлок Петровское', 'посёлок городского типа Токсово',\n",
       "       'поселок Сельцо', 'посёлок городского типа Вырица',\n",
       "       'деревня Кипень', 'деревня Келози', 'деревня Вартемяги',\n",
       "       'посёлок Тельмана', 'поселок Севастьяново',\n",
       "       'городской поселок Большая Ижора', 'городской посёлок Павлово',\n",
       "       'деревня Агалатово', 'посёлок Новогорелово',\n",
       "       'городской посёлок Лесогорский', 'деревня Лаголово',\n",
       "       'поселок Цвелодубово', 'поселок городского типа Рахья',\n",
       "       'поселок городского типа Вырица', 'деревня Белогорка',\n",
       "       'поселок Заводской', 'городской посёлок Новоселье',\n",
       "       'деревня Большие Колпаны', 'деревня Горбунки', 'деревня Батово',\n",
       "       'деревня Заневка', 'деревня Иссад', 'Приморск',\n",
       "       'городской посёлок Фёдоровское', 'деревня Мистолово',\n",
       "       'Новая Ладога', 'поселок Зимитицы', 'поселок Барышево',\n",
       "       'деревня Разметелево', 'поселок городского типа имени Свердлова',\n",
       "       'деревня Пеники', 'поселок Рябово', 'деревня Пудомяги',\n",
       "       'поселок станции Корнево', 'деревня Низино', 'деревня Бегуницы',\n",
       "       'посёлок Поляны', 'городской посёлок Мга', 'поселок Елизаветино',\n",
       "       'посёлок городского типа Кузнечное', 'деревня Колтуши',\n",
       "       'поселок Запорожское', 'посёлок городского типа Рощино',\n",
       "       'деревня Гостилицы', 'деревня Малое Карлино',\n",
       "       'посёлок Мичуринское', 'посёлок городского типа имени Морозова',\n",
       "       'посёлок Песочный', 'посёлок Сосново', 'деревня Аро',\n",
       "       'поселок Ильичёво', 'посёлок городского типа Тайцы',\n",
       "       'деревня Малое Верево', 'деревня Извара', 'поселок станции Вещево',\n",
       "       'село Паша', 'деревня Калитино',\n",
       "       'посёлок городского типа Ульяновка', 'деревня Чудской Бор',\n",
       "       'поселок городского типа Дубровка', 'деревня Мины',\n",
       "       'поселок Войсковицы', 'посёлок городского типа имени Свердлова',\n",
       "       'деревня Коркино', 'посёлок Ропша',\n",
       "       'поселок городского типа Приладожский', 'посёлок Щеглово',\n",
       "       'посёлок Гаврилово', 'Лодейное Поле', 'деревня Рабитицы',\n",
       "       'поселок городского типа Никольский', 'деревня Кузьмолово',\n",
       "       'деревня Малые Колпаны', 'поселок Тельмана',\n",
       "       'посёлок Петро-Славянка', 'городской посёлок Назия',\n",
       "       'посёлок Репино', 'посёлок Ильичёво', 'поселок Углово',\n",
       "       'поселок Старая Малукса', 'садовое товарищество Рахья',\n",
       "       'поселок Аннино', 'поселок Победа', 'деревня Меньково',\n",
       "       'деревня Старые Бегуницы', 'посёлок Сапёрный', 'поселок Семрино',\n",
       "       'поселок Гаврилово', 'поселок Глажево', 'поселок Кобринское',\n",
       "       'деревня Гарболово', 'деревня Юкки',\n",
       "       'поселок станции Приветнинское', 'деревня Мануйлово',\n",
       "       'деревня Пчева', 'поселок Поляны', 'поселок Цвылёво',\n",
       "       'поселок Мельниково', 'посёлок Пудость', 'посёлок Усть-Луга',\n",
       "       'Светогорск', 'Любань', 'поселок Селезнёво',\n",
       "       'поселок городского типа Рябово', 'Каменногорск', 'деревня Кривко',\n",
       "       'поселок Глебычево', 'деревня Парицы', 'поселок Жилпосёлок',\n",
       "       'посёлок городского типа Мга', 'городской поселок Янино-1',\n",
       "       'посёлок Войскорово', 'село Никольское', 'посёлок Терволово',\n",
       "       'поселок Стеклянный', 'посёлок городского типа Важины',\n",
       "       'посёлок Мыза-Ивановка', 'село Русско-Высоцкое',\n",
       "       'поселок городского типа Лебяжье',\n",
       "       'поселок городского типа Форносово', 'село Старая Ладога',\n",
       "       'поселок Житково', 'городской посёлок Виллози', 'деревня Лампово',\n",
       "       'деревня Шпаньково', 'деревня Лаврики', 'посёлок Сумино',\n",
       "       'посёлок Возрождение', 'деревня Старосиверская',\n",
       "       'посёлок Кикерино', 'поселок Возрождение',\n",
       "       'деревня Старое Хинколово', 'посёлок Пригородный',\n",
       "       'посёлок Торфяное', 'городской посёлок Будогощь',\n",
       "       'поселок Суходолье', 'поселок Красная Долина', 'деревня Хапо-Ое',\n",
       "       'поселок городского типа Дружная Горка', 'поселок Лисий Нос',\n",
       "       'деревня Яльгелево', 'посёлок Стеклянный', 'село Рождествено',\n",
       "       'деревня Старополье', 'посёлок Левашово', 'деревня Сяськелево',\n",
       "       'деревня Камышовка',\n",
       "       'садоводческое некоммерческое товарищество Лесная Поляна',\n",
       "       'деревня Хязельки', 'поселок Жилгородок',\n",
       "       'посёлок городского типа Павлово', 'деревня Ялгино',\n",
       "       'поселок Новый Учхоз', 'городской посёлок Рощино',\n",
       "       'поселок Гончарово', 'поселок Почап', 'посёлок Сапёрное',\n",
       "       'посёлок Платформа 69-й километр', 'поселок Каложицы',\n",
       "       'деревня Фалилеево', 'деревня Пельгора',\n",
       "       'поселок городского типа Лесогорский', 'деревня Торошковичи',\n",
       "       'посёлок Белоостров', 'посёлок Алексеевка', 'поселок Серебрянский',\n",
       "       'поселок Лукаши', 'поселок Петровское', 'деревня Щеглово',\n",
       "       'поселок Мичуринское', 'деревня Тарасово', 'поселок Кингисеппский',\n",
       "       'посёлок при железнодорожной станции Вещево', 'поселок Ушаки',\n",
       "       'деревня Котлы', 'деревня Сижно', 'деревня Торосово',\n",
       "       'посёлок Форт Красная Горка', 'поселок городского типа Токсово',\n",
       "       'деревня Новолисино', 'посёлок станции Громово', 'деревня Глинка',\n",
       "       'посёлок Мельниково', 'поселок городского типа Назия',\n",
       "       'деревня Старая Пустошь', 'поселок Коммунары', 'поселок Починок',\n",
       "       'посёлок городского типа Вознесенье', 'деревня Разбегаево',\n",
       "       'посёлок городского типа Рябово', 'поселок Гладкое',\n",
       "       'посёлок при железнодорожной станции Приветнинское',\n",
       "       'поселок Тёсово-4', 'посёлок Жилгородок', 'деревня Бор',\n",
       "       'посёлок Коробицыно', 'деревня Большая Вруда', 'деревня Курковицы',\n",
       "       'посёлок Лисий Нос', 'городской посёлок Советский',\n",
       "       'посёлок Кобралово', 'деревня Суоранда', 'поселок Кобралово',\n",
       "       'поселок городского типа Кондратьево',\n",
       "       'коттеджный поселок Счастье', 'поселок Любань', 'деревня Реброво',\n",
       "       'деревня Зимитицы', 'деревня Тойворово', 'поселок Семиозерье',\n",
       "       'поселок Лесное', 'поселок Совхозный', 'поселок Усть-Луга',\n",
       "       'посёлок Ленинское', 'посёлок Суйда',\n",
       "       'посёлок городского типа Форносово', 'деревня Нижние Осельки',\n",
       "       'посёлок станции Свирь', 'поселок Перово', 'Высоцк',\n",
       "       'поселок Гарболово', 'село Шум', 'поселок Котельский',\n",
       "       'поселок станции Лужайка', 'деревня Большая Пустомержа',\n",
       "       'поселок Красносельское', 'деревня Вахнова Кара', 'деревня Пижма',\n",
       "       'коттеджный поселок Кивеннапа Север', 'поселок Коробицыно',\n",
       "       'поселок Ромашки', 'посёлок Перово', 'деревня Каськово',\n",
       "       'деревня Куровицы', 'посёлок Плоское', 'поселок Сумино',\n",
       "       'поселок городского типа Большая Ижора', 'поселок Кирпичное',\n",
       "       'деревня Ям-Тесово', 'деревня Раздолье', 'деревня Терпилицы',\n",
       "       'посёлок Шугозеро', 'деревня Ваганово', 'поселок Пушное',\n",
       "       'садовое товарищество Садко', 'посёлок Усть-Ижора',\n",
       "       'деревня Выскатка', 'городской посёлок Свирьстрой',\n",
       "       'поселок Громово', 'деревня Кисельня', 'посёлок Старая Малукса',\n",
       "       'деревня Трубников Бор', 'поселок Калитино',\n",
       "       'посёлок Высокоключевой', 'садовое товарищество Приладожский',\n",
       "       'посёлок Пансионат Зелёный Бор', 'деревня Ненимяки',\n",
       "       'поселок Пансионат Зелёный Бор', 'деревня Снегирёвка',\n",
       "       'деревня Рапполово', 'деревня Пустынка', 'поселок Рабитицы',\n",
       "       'деревня Большой Сабск', 'деревня Русско', 'деревня Лупполово',\n",
       "       'деревня Большое Рейзино', 'деревня Малая Романовка',\n",
       "       'поселок Дружноселье', 'поселок Пчевжа', 'поселок Володарское',\n",
       "       'деревня Нижняя', 'коттеджный посёлок Лесное', 'деревня Тихковицы',\n",
       "       'деревня Борисова Грива', 'посёлок Дзержинского'], dtype=object)"
      ]
     },
     "execution_count": 23,
     "metadata": {},
     "output_type": "execute_result"
    }
   ],
   "source": [
    "#Показываем уникальные значения для столбца locality_name\n",
    "data['locality_name'].unique()"
   ]
  },
  {
   "cell_type": "code",
   "execution_count": 24,
   "id": "ed41dfe6",
   "metadata": {
    "scrolled": true
   },
   "outputs": [
    {
     "data": {
      "text/plain": [
       "364"
      ]
     },
     "execution_count": 24,
     "metadata": {},
     "output_type": "execute_result"
    }
   ],
   "source": [
    "len(data['locality_name'].unique())"
   ]
  },
  {
   "cell_type": "markdown",
   "id": "c3055f51",
   "metadata": {},
   "source": [
    "По данным видно, что есть ошибки в словах поселок и посёлок, а также, некоторые несоответствия в названиях местности."
   ]
  },
  {
   "cell_type": "code",
   "execution_count": 25,
   "id": "bd380604",
   "metadata": {
    "scrolled": true
   },
   "outputs": [],
   "source": [
    "#Создадим переменную locality, в которой укажем все названия, которые хотим убрать или заменить\n",
    "locality = ['поселок ', 'посёлок ', 'деревня ', 'коттеджный поселок ', 'коттеджный посёлок ', 'село ', 'поселок городского типа ', 'посёлок городского типа ', 'садовое товарищество ', 'городской поселок ', 'городской посёлок ', 'городского типа ', 'городской ', 'садоводческое некоммерческое товарищество ', 'при железнодорожной станции ', 'имени ', 'коттеджный ', 'станции ']\n",
    "#С помощью цикла for сделаем замены в данных\n",
    "for local in locality: \n",
    "    data['locality_name'] = data['locality_name'].str.replace(local, '')\n",
    "    "
   ]
  },
  {
   "cell_type": "code",
   "execution_count": 26,
   "id": "1fc44b01",
   "metadata": {
    "scrolled": false
   },
   "outputs": [
    {
     "data": {
      "text/plain": [
       "array(['Санкт-Петербург', 'Шушары', 'Янино-1', 'Парголово', 'Мурино',\n",
       "       'Ломоносов', 'Сертолово', 'Петергоф', 'Пушкин', 'Кудрово',\n",
       "       'Коммунар', 'Колпино', 'Красный Бор', 'Гатчина', 'Фёдоровское',\n",
       "       'Выборг', 'Кронштадт', 'Кировск', 'Новое Девяткино',\n",
       "       'Металлострой', 'Лебяжье', 'Сиверский', 'Молодцово',\n",
       "       'Кузьмоловский', 'Новая Ропша', 'Павловск', 'Пикколово',\n",
       "       'Всеволожск', 'Волхов', 'Кингисепп', 'Приозерск', 'Сестрорецк',\n",
       "       'Куттузи', 'Аннино', 'Ефимовский', 'Плодовое', 'Заклинье',\n",
       "       'Торковичи', 'Первомайское', 'Красное Село', 'Понтонный',\n",
       "       'Сясьстрой', 'Старая', 'Лесколово', 'Новый Свет', 'Сланцы',\n",
       "       'Путилово', 'Ивангород', 'Шлиссельбург', 'Никольское',\n",
       "       'Зеленогорск', 'Сосновый Бор', 'Оржицы', 'Кальтино', 'Романовка',\n",
       "       'Бугры', 'Рощино', 'Кириши', 'Луга', 'Волосово', 'Отрадное',\n",
       "       'Павлово', 'Оредеж', 'Копорье', 'Молодёжное', 'Тихвин', 'Победа',\n",
       "       'Нурма', 'Синявино', 'Тосно', 'Стрельна', 'Бокситогорск',\n",
       "       'Александровская', 'Лопухинка', 'Пикалёво', 'Терволово',\n",
       "       'Советский', 'Подпорожье', 'Петровское', 'Токсово', 'Сельцо',\n",
       "       'Вырица', 'Кипень', 'Келози', 'Вартемяги', 'Тельмана',\n",
       "       'Севастьяново', 'Большая Ижора', 'Агалатово', 'Новогорелово',\n",
       "       'Лесогорский', 'Лаголово', 'Цвелодубово', 'Рахья', 'Белогорка',\n",
       "       'Заводской', 'Новоселье', 'Большие Колпаны', 'Горбунки', 'Батово',\n",
       "       'Заневка', 'Иссад', 'Приморск', 'Мистолово', 'Новая Ладога',\n",
       "       'Зимитицы', 'Барышево', 'Разметелево', 'Свердлова', 'Пеники',\n",
       "       'Рябово', 'Пудомяги', 'Корнево', 'Низино', 'Бегуницы', 'Поляны',\n",
       "       'Мга', 'Елизаветино', 'Кузнечное', 'Колтуши', 'Запорожское',\n",
       "       'Гостилицы', 'Малое Карлино', 'Мичуринское', 'Морозова',\n",
       "       'Песочный', 'Сосново', 'Аро', 'Ильичёво', 'Тайцы', 'Малое Верево',\n",
       "       'Извара', 'Вещево', 'Паша', 'Калитино', 'Ульяновка', 'Чудской Бор',\n",
       "       'Дубровка', 'Мины', 'Войсковицы', 'Коркино', 'Ропша',\n",
       "       'Приладожский', 'Щеглово', 'Гаврилово', 'Лодейное Поле',\n",
       "       'Рабитицы', 'Никольский', 'Кузьмолово', 'Малые Колпаны',\n",
       "       'Петро-Славянка', 'Назия', 'Репино', 'Углово', 'Старая Малукса',\n",
       "       'Меньково', 'Старые Бегуницы', 'Сапёрный', 'Семрино', 'Глажево',\n",
       "       'Кобринское', 'Гарболово', 'Юкки', 'Приветнинское', 'Мануйлово',\n",
       "       'Пчева', 'Цвылёво', 'Мельниково', 'Пудость', 'Усть-Луга',\n",
       "       'Светогорск', 'Любань', 'Селезнёво', 'Каменногорск', 'Кривко',\n",
       "       'Глебычево', 'Парицы', 'Жилпосёлок', 'Войскорово', 'Стеклянный',\n",
       "       'Важины', 'Мыза-Ивановка', 'Русско-Высоцкое', 'Форносово',\n",
       "       'Старая Ладога', 'Житково', 'Виллози', 'Лампово', 'Шпаньково',\n",
       "       'Лаврики', 'Сумино', 'Возрождение', 'Старосиверская', 'Кикерино',\n",
       "       'Старое Хинколово', 'Пригородный', 'Торфяное', 'Будогощь',\n",
       "       'Суходолье', 'Красная Долина', 'Хапо-Ое', 'Дружная Горка',\n",
       "       'Лисий Нос', 'Яльгелево', 'Рождествено', 'Старополье', 'Левашово',\n",
       "       'Сяськелево', 'Камышовка', 'Лесная Поляна', 'Хязельки',\n",
       "       'Жилгородок', 'Ялгино', 'Новый Учхоз', 'Гончарово', 'Почап',\n",
       "       'Сапёрное', 'Платформа 69-й километр', 'Каложицы', 'Фалилеево',\n",
       "       'Пельгора', 'Торошковичи', 'Белоостров', 'Алексеевка',\n",
       "       'Серебрянский', 'Лукаши', 'Тарасово', 'Кингисеппский', 'Ушаки',\n",
       "       'Котлы', 'Сижно', 'Торосово', 'Форт Красная Горка', 'Новолисино',\n",
       "       'Громово', 'Глинка', 'Старая Пустошь', 'Коммунары', 'Починок',\n",
       "       'Вознесенье', 'Разбегаево', 'Гладкое', 'Тёсово-4', 'Бор',\n",
       "       'Коробицыно', 'Большая Вруда', 'Курковицы', 'Кобралово',\n",
       "       'Суоранда', 'Кондратьево', 'Счастье', 'Реброво', 'Тойворово',\n",
       "       'Семиозерье', 'Лесное', 'Совхозный', 'Ленинское', 'Суйда',\n",
       "       'Нижние Осельки', 'Свирь', 'Перово', 'Высоцк', 'Шум', 'Котельский',\n",
       "       'Лужайка', 'Большая Пустомержа', 'Красносельское', 'Вахнова Кара',\n",
       "       'Пижма', 'Кивеннапа Север', 'Ромашки', 'Каськово', 'Куровицы',\n",
       "       'Плоское', 'Кирпичное', 'Ям-Тесово', 'Раздолье', 'Терпилицы',\n",
       "       'Шугозеро', 'Ваганово', 'Пушное', 'Садко', 'Усть-Ижора',\n",
       "       'Выскатка', 'Свирьстрой', 'Кисельня', 'Трубников Бор',\n",
       "       'Высокоключевой', 'Пансионат Зелёный Бор', 'Ненимяки',\n",
       "       'Снегирёвка', 'Рапполово', 'Пустынка', 'Большой Сабск', 'Русско',\n",
       "       'Лупполово', 'Большое Рейзино', 'Малая Романовка', 'Дружноселье',\n",
       "       'Пчевжа', 'Володарское', 'Нижняя', 'Тихковицы', 'Борисова Грива',\n",
       "       'Дзержинского'], dtype=object)"
      ]
     },
     "execution_count": 26,
     "metadata": {},
     "output_type": "execute_result"
    }
   ],
   "source": [
    "#Проверяем результат замены\n",
    "data['locality_name'].unique()"
   ]
  },
  {
   "cell_type": "code",
   "execution_count": 27,
   "id": "ff7974a8",
   "metadata": {
    "scrolled": true
   },
   "outputs": [
    {
     "data": {
      "text/plain": [
       "305"
      ]
     },
     "execution_count": 27,
     "metadata": {},
     "output_type": "execute_result"
    }
   ],
   "source": [
    "len(data['locality_name'].unique())"
   ]
  },
  {
   "cell_type": "markdown",
   "id": "7e7ea7f0",
   "metadata": {},
   "source": [
    "Таки образом, получается избежать ошибок в типах локаций, а также, упростить навигацию по имени. "
   ]
  },
  {
   "cell_type": "markdown",
   "id": "51faf214",
   "metadata": {},
   "source": [
    "### Нахождение аномалий"
   ]
  },
  {
   "cell_type": "markdown",
   "id": "a2378053",
   "metadata": {},
   "source": [
    "В некоторых столбцах могут находится аномальные значения данных, при предварительном просмотре было выявлено, что в столбце **ceiling_height** есть квартиры с высотой 27 и выше метров. "
   ]
  },
  {
   "cell_type": "code",
   "execution_count": 28,
   "id": "2a751063",
   "metadata": {},
   "outputs": [
    {
     "name": "stdout",
     "output_type": "stream",
     "text": [
      "<class 'pandas.core.frame.DataFrame'>\n",
      "RangeIndex: 23650 entries, 0 to 23649\n",
      "Data columns (total 23 columns):\n",
      " #   Column                Non-Null Count  Dtype         \n",
      "---  ------                --------------  -----         \n",
      " 0   index                 23650 non-null  int64         \n",
      " 1   total_images          23650 non-null  int64         \n",
      " 2   last_price            23650 non-null  float64       \n",
      " 3   total_area            23650 non-null  float64       \n",
      " 4   first_day_exposition  23650 non-null  datetime64[ns]\n",
      " 5   rooms                 23650 non-null  int64         \n",
      " 6   ceiling_height        23650 non-null  float64       \n",
      " 7   floors_total          23650 non-null  int64         \n",
      " 8   living_area           23650 non-null  float64       \n",
      " 9   floor                 23650 non-null  int64         \n",
      " 10  is_apartment          23650 non-null  bool          \n",
      " 11  studio                23650 non-null  bool          \n",
      " 12  open_plan             23650 non-null  bool          \n",
      " 13  kitchen_area          23650 non-null  float64       \n",
      " 14  balcony               23650 non-null  int64         \n",
      " 15  locality_name         23650 non-null  object        \n",
      " 16  airports_nearest      23650 non-null  float64       \n",
      " 17  cityCenters_nearest   23650 non-null  float64       \n",
      " 18  parks_around3000      23650 non-null  int64         \n",
      " 19  parks_nearest         23650 non-null  float64       \n",
      " 20  ponds_around3000      23650 non-null  int64         \n",
      " 21  ponds_nearest         23650 non-null  float64       \n",
      " 22  days_exposition       20470 non-null  float64       \n",
      "dtypes: bool(3), datetime64[ns](1), float64(10), int64(8), object(1)\n",
      "memory usage: 3.7+ MB\n"
     ]
    }
   ],
   "source": [
    "data.info()"
   ]
  },
  {
   "cell_type": "code",
   "execution_count": 29,
   "id": "2601de4b",
   "metadata": {
    "scrolled": false
   },
   "outputs": [
    {
     "data": {
      "text/plain": [
       "array([  2.7 ,   2.64,   2.6 ,   2.65,   3.03,   2.5 ,   2.67,   2.56,\n",
       "         3.05,   2.75,   2.8 ,   2.9 ,   2.55,   3.1 ,   3.  ,   3.2 ,\n",
       "         2.61,   3.25,   3.45,   2.77,   2.85,   2.57,   4.15,   3.5 ,\n",
       "         3.3 ,   2.71,   4.  ,   2.47,   2.73,   2.84,   2.34,   3.4 ,\n",
       "         3.06,   2.72,   2.54,   2.51,   2.78,   2.76,  25.  ,   2.58,\n",
       "         3.7 ,   2.52,   5.2 ,   2.87,   2.66,   2.59,   2.  ,   2.45,\n",
       "         3.6 ,   2.92,   3.11,   3.38,   3.13,   3.8 ,   3.15,   3.42,\n",
       "         3.55,   3.16,   3.62,   3.12,   2.53,   2.74,   2.96,   2.46,\n",
       "         5.3 ,   5.  ,   2.79,   2.95,   4.06,   2.94,   3.82,   3.54,\n",
       "         3.53,   2.83,   4.7 ,   2.4 ,   3.01,   5.6 ,   3.65,   3.9 ,\n",
       "         3.18,   3.35,   2.3 ,   3.57,   2.48,   2.62,   2.82,   3.98,\n",
       "         2.63,   3.83,   3.52,   3.95,   3.75,   2.88,   3.67,   3.87,\n",
       "         3.66,   3.85,   3.86,   4.19,   3.24,   4.8 ,   4.5 ,   4.2 ,\n",
       "         3.36,  32.  ,   3.08,   3.68,   3.07,   3.37,   3.09,   8.  ,\n",
       "         3.26,   3.34,   2.81,   3.44,   2.97,   3.14,   4.37,   2.68,\n",
       "         3.22,   3.27,  27.  ,   4.1 ,   2.93,   3.46,  24.  ,   3.47,\n",
       "         3.33,   3.63,   3.32,  26.  ,   1.2 ,   8.3 ,   2.98,   2.86,\n",
       "         3.17,   4.4 ,   3.28,   3.04,   4.45,   5.5 ,   3.84,   3.23,\n",
       "         3.02,   3.21,   3.43,   3.78,   4.3 ,   3.39,   2.69,   3.31,\n",
       "         4.65,   3.56,   2.2 ,   3.51,   3.93,   2.99,   3.49,  14.  ,\n",
       "         4.14,   2.91,   3.88,   1.75,   4.25,   3.29,  20.  ,   2.25,\n",
       "         3.76,   3.69,   6.  ,  22.6 ,   2.89,   3.58,   5.8 ,  27.5 ,\n",
       "         2.49,   4.9 ,   3.48,  10.3 ,   1.  , 100.  ,   3.59])"
      ]
     },
     "execution_count": 29,
     "metadata": {},
     "output_type": "execute_result"
    }
   ],
   "source": [
    "data['ceiling_height'].unique()"
   ]
  },
  {
   "cell_type": "markdown",
   "id": "2d47d2b5",
   "metadata": {},
   "source": [
    "Можно предположить, что значение 27 метров ошибочное и, скорее всего, имели ввиду 2.7 местра, поэтому для подобных аномальных значений мы сделае замену. "
   ]
  },
  {
   "cell_type": "code",
   "execution_count": 30,
   "id": "e7569c5e",
   "metadata": {},
   "outputs": [],
   "source": [
    "#Указываем все аномальные значения, которые можно заменить\n",
    "data['ceiling_height'] = data['ceiling_height'].replace({27.5 : 2.75, 22.6 : 2.26, 32 : 3.2, 25 : 2.5, 27 : 2.7, 24 : 2.4, 26 : 2.6, 20 : 2.0})"
   ]
  },
  {
   "cell_type": "markdown",
   "id": "69a391e0",
   "metadata": {},
   "source": [
    "Тем не менее, остаются значения, которые трудно поддаются логике и их заменить не имеется возможностей, таких значений не много, поэтому мы можем их сразу отбросить."
   ]
  },
  {
   "cell_type": "code",
   "execution_count": 31,
   "id": "905d5818",
   "metadata": {},
   "outputs": [],
   "source": [
    "#Оставляем только релевантные значения\n",
    "data = data.query('ceiling_height > 1.5 and ceiling_height < 8')"
   ]
  },
  {
   "cell_type": "code",
   "execution_count": 32,
   "id": "e32368af",
   "metadata": {},
   "outputs": [
    {
     "data": {
      "text/plain": [
       "array([2.7 , 2.64, 2.6 , 2.65, 3.03, 2.5 , 2.67, 2.56, 3.05, 2.75, 2.8 ,\n",
       "       2.9 , 2.55, 3.1 , 3.  , 3.2 , 2.61, 3.25, 3.45, 2.77, 2.85, 2.57,\n",
       "       4.15, 3.5 , 3.3 , 2.71, 4.  , 2.47, 2.73, 2.84, 2.34, 3.4 , 3.06,\n",
       "       2.72, 2.54, 2.51, 2.78, 2.76, 2.58, 3.7 , 2.52, 5.2 , 2.87, 2.66,\n",
       "       2.59, 2.  , 2.45, 3.6 , 2.92, 3.11, 3.38, 3.13, 3.8 , 3.15, 3.42,\n",
       "       3.55, 3.16, 3.62, 3.12, 2.53, 2.74, 2.96, 2.46, 5.3 , 5.  , 2.79,\n",
       "       2.95, 4.06, 2.94, 3.82, 3.54, 3.53, 2.83, 4.7 , 2.4 , 3.01, 5.6 ,\n",
       "       3.65, 3.9 , 3.18, 3.35, 2.3 , 3.57, 2.48, 2.62, 2.82, 3.98, 2.63,\n",
       "       3.83, 3.52, 3.95, 3.75, 2.88, 3.67, 3.87, 3.66, 3.85, 3.86, 4.19,\n",
       "       3.24, 4.8 , 4.5 , 4.2 , 3.36, 3.08, 3.68, 3.07, 3.37, 3.09, 3.26,\n",
       "       3.34, 2.81, 3.44, 2.97, 3.14, 4.37, 2.68, 3.22, 3.27, 4.1 , 2.93,\n",
       "       3.46, 3.47, 3.33, 3.63, 3.32, 2.98, 2.86, 3.17, 4.4 , 3.28, 3.04,\n",
       "       4.45, 5.5 , 3.84, 3.23, 3.02, 3.21, 3.43, 3.78, 4.3 , 3.39, 2.69,\n",
       "       3.31, 4.65, 3.56, 2.2 , 3.51, 3.93, 2.99, 3.49, 4.14, 2.91, 3.88,\n",
       "       1.75, 4.25, 3.29, 2.25, 3.76, 3.69, 6.  , 2.26, 2.89, 3.58, 5.8 ,\n",
       "       2.49, 4.9 , 3.48, 3.59])"
      ]
     },
     "execution_count": 32,
     "metadata": {},
     "output_type": "execute_result"
    }
   ],
   "source": [
    "\n",
    "# Код ревьюера\n",
    "data.update(data[(data['ceiling_height'] >= 20) & (data['ceiling_height'] <= 36)]['ceiling_height']/10)\n",
    "data['ceiling_height'].unique()"
   ]
  },
  {
   "cell_type": "markdown",
   "id": "3d5295a8",
   "metadata": {},
   "source": [
    "### Изменение названий столбцов"
   ]
  },
  {
   "cell_type": "code",
   "execution_count": 33,
   "id": "4cdc4f75",
   "metadata": {},
   "outputs": [],
   "source": [
    "#Для более легкого и понятного вида изменим названия столбцов таблицы\n",
    "data = data.rename(columns = {'cityCenters_nearest':'city_centers_nearest', 'parks_around3000':'parks_around','ponds_around3000':'ponds_around'})"
   ]
  },
  {
   "cell_type": "markdown",
   "id": "9b91a047",
   "metadata": {},
   "source": [
    "Таким образом, предварительная обработка данных, в ходе которой были *обработаны пропуски*, *изменены типы данных*, *изучены и обработканы уникальные значения и аномалии*, была выполнена. "
   ]
  },
  {
   "cell_type": "markdown",
   "id": "ee3d9246",
   "metadata": {},
   "source": [
    "## Вычисление вспомогательных параметров"
   ]
  },
  {
   "cell_type": "markdown",
   "id": "99c4663d",
   "metadata": {},
   "source": [
    "Для вспомогательных расчетов, мы создадим новые столбцы, где подсчитаем цену за квадратный метр для каждой квартиры, день недели публикации, месяц публикации, год публикации."
   ]
  },
  {
   "cell_type": "code",
   "execution_count": 34,
   "id": "78712c38",
   "metadata": {},
   "outputs": [],
   "source": [
    "#Вычисляем цену за квадратный метр для каждой квартиры\n",
    "data['square_price'] = round(data['last_price'] / data['total_area'], 2)"
   ]
  },
  {
   "cell_type": "code",
   "execution_count": 35,
   "id": "864cffa7",
   "metadata": {},
   "outputs": [],
   "source": [
    "#День недели начала публикации\n",
    "data['week_day_exposition'] = pd.DatetimeIndex(data['first_day_exposition']).weekday"
   ]
  },
  {
   "cell_type": "code",
   "execution_count": 36,
   "id": "07322985",
   "metadata": {},
   "outputs": [],
   "source": [
    "#Месяц начала публикации\n",
    "data['month_exposition'] = pd.DatetimeIndex(data['first_day_exposition']).month"
   ]
  },
  {
   "cell_type": "code",
   "execution_count": 37,
   "id": "31fae626",
   "metadata": {},
   "outputs": [],
   "source": [
    "#Год начала публикации\n",
    "data['year_exposition'] = pd.DatetimeIndex(data['first_day_exposition']).year"
   ]
  },
  {
   "cell_type": "code",
   "execution_count": 38,
   "id": "a46bc929",
   "metadata": {},
   "outputs": [],
   "source": [
    "#Создаем функцию распределения по типам этажей\n",
    "def floor_type(row):\n",
    "    if row['floor'] == 1:\n",
    "        return 'первый'\n",
    "    elif row['floor'] == row['floors_total']:\n",
    "        return 'последний'\n",
    "    else:\n",
    "        return 'другой'"
   ]
  },
  {
   "cell_type": "code",
   "execution_count": 39,
   "id": "59a644aa",
   "metadata": {
    "scrolled": true
   },
   "outputs": [],
   "source": [
    "#Добавляем столбец типов этажей\n",
    "data['floor_type'] = data.apply(floor_type, axis=1)"
   ]
  },
  {
   "cell_type": "code",
   "execution_count": 40,
   "id": "13b4fb93",
   "metadata": {},
   "outputs": [],
   "source": [
    "#Вычисляем расстояние до центра города в км и округляем до целого\n",
    "data['center_distance'] = round(data['city_centers_nearest'] / 1000)"
   ]
  },
  {
   "cell_type": "markdown",
   "id": "0f956046",
   "metadata": {},
   "source": [
    "Все вспомогательные параметры были вычислены, можно приступать к исследовательскому анализу полученных данных."
   ]
  },
  {
   "cell_type": "code",
   "execution_count": 41,
   "id": "4ad956e4",
   "metadata": {},
   "outputs": [
    {
     "name": "stdout",
     "output_type": "stream",
     "text": [
      "Процент оставшихся после предобработки данных: 99.75526393518714 %\n",
      "<class 'pandas.core.frame.DataFrame'>\n",
      "Int64Index: 23641 entries, 0 to 23649\n",
      "Data columns (total 29 columns):\n",
      " #   Column                Non-Null Count  Dtype         \n",
      "---  ------                --------------  -----         \n",
      " 0   index                 23641 non-null  int64         \n",
      " 1   total_images          23641 non-null  int64         \n",
      " 2   last_price            23641 non-null  float64       \n",
      " 3   total_area            23641 non-null  float64       \n",
      " 4   first_day_exposition  23641 non-null  datetime64[ns]\n",
      " 5   rooms                 23641 non-null  int64         \n",
      " 6   ceiling_height        23641 non-null  float64       \n",
      " 7   floors_total          23641 non-null  int64         \n",
      " 8   living_area           23641 non-null  float64       \n",
      " 9   floor                 23641 non-null  int64         \n",
      " 10  is_apartment          23641 non-null  bool          \n",
      " 11  studio                23641 non-null  bool          \n",
      " 12  open_plan             23641 non-null  bool          \n",
      " 13  kitchen_area          23641 non-null  float64       \n",
      " 14  balcony               23641 non-null  int64         \n",
      " 15  locality_name         23641 non-null  object        \n",
      " 16  airports_nearest      23641 non-null  float64       \n",
      " 17  city_centers_nearest  23641 non-null  float64       \n",
      " 18  parks_around          23641 non-null  int64         \n",
      " 19  parks_nearest         23641 non-null  float64       \n",
      " 20  ponds_around          23641 non-null  int64         \n",
      " 21  ponds_nearest         23641 non-null  float64       \n",
      " 22  days_exposition       20461 non-null  float64       \n",
      " 23  square_price          23641 non-null  float64       \n",
      " 24  week_day_exposition   23641 non-null  int64         \n",
      " 25  month_exposition      23641 non-null  int64         \n",
      " 26  year_exposition       23641 non-null  int64         \n",
      " 27  floor_type            23641 non-null  object        \n",
      " 28  center_distance       23641 non-null  float64       \n",
      "dtypes: bool(3), datetime64[ns](1), float64(12), int64(11), object(2)\n",
      "memory usage: 4.9+ MB\n",
      "None\n"
     ]
    }
   ],
   "source": [
    "print('Процент оставшихся после предобработки данных:', len(data) / len(data_before) * 100, '%')\n",
    "print(data.info())"
   ]
  },
  {
   "cell_type": "markdown",
   "id": "ba72d6db",
   "metadata": {},
   "source": [
    "## Исследовательский анализ данных"
   ]
  },
  {
   "cell_type": "markdown",
   "id": "17851347",
   "metadata": {},
   "source": [
    "### Изучение параметров данных"
   ]
  },
  {
   "cell_type": "markdown",
   "id": "b6ca1fa7",
   "metadata": {},
   "source": [
    "Изучаем следующие параметры объекта: \n",
    "\n",
    "***Общая площадь***"
   ]
  },
  {
   "cell_type": "code",
   "execution_count": 42,
   "id": "53d84ab5",
   "metadata": {
    "scrolled": false
   },
   "outputs": [
    {
     "data": {
      "image/png": "[encoded data removed]",
      "text/plain": [
       "<Figure size 432x288 with 1 Axes>"
      ]
     },
     "metadata": {},
     "output_type": "display_data"
    }
   ],
   "source": [
    "#Строим гистограмму для общей площади квартир\n",
    "plt.hist(data['total_area'],\n",
    "         bins=50,\n",
    "         range=(12,200),\n",
    "         color='C0',\n",
    "         histtype='bar',\n",
    "         stacked=False)\n",
    "plt.title('Общая площадь квартир')\n",
    "plt.xlabel('Площадь квартир')\n",
    "plt.ylabel('Колличество квартир')\n",
    "plt.show()"
   ]
  },
  {
   "cell_type": "code",
   "execution_count": 43,
   "id": "1e1f85df",
   "metadata": {},
   "outputs": [
    {
     "data": {
      "text/plain": [
       "count   23641.00\n",
       "mean       60.33\n",
       "std        35.67\n",
       "min        12.00\n",
       "25%        40.00\n",
       "50%        52.00\n",
       "75%        69.74\n",
       "max       900.00\n",
       "Name: total_area, dtype: float64"
      ]
     },
     "execution_count": 43,
     "metadata": {},
     "output_type": "execute_result"
    }
   ],
   "source": [
    "#Смотрим описание данных\n",
    "data['total_area'].describe()"
   ]
  },
  {
   "cell_type": "markdown",
   "id": "411c1881",
   "metadata": {},
   "source": [
    "Из полученных данных видно, что основной общей площадью продаваемых квартир является 52 квадратных метра, при этом разброс по данным 1 и 3 кварты составляет от 40 до 69.74 квадратных метров соответственно. Также, из данных видно, что максимальное значение общей площади 900, а минимальное 12 квадратных метров. "
   ]
  },
  {
   "cell_type": "markdown",
   "id": "7b4c936e",
   "metadata": {},
   "source": [
    "***Жилая площадь***"
   ]
  },
  {
   "cell_type": "code",
   "execution_count": 44,
   "id": "892d15f3",
   "metadata": {},
   "outputs": [
    {
     "data": {
      "image/png": "[encoded data removed]",
      "text/plain": [
       "<Figure size 432x288 with 1 Axes>"
      ]
     },
     "metadata": {},
     "output_type": "display_data"
    }
   ],
   "source": [
    "#Строим гистограмму для жилой площади квартир\n",
    "plt.hist(data['living_area'],\n",
    "         bins=90,\n",
    "         range=(10,100),\n",
    "         color='C0',\n",
    "         histtype='bar',\n",
    "         stacked=False)\n",
    "plt.title('Жилая площадь квартир')\n",
    "plt.xlabel('Жилая площадь')\n",
    "plt.ylabel('Колличество квартир')\n",
    "plt.show()"
   ]
  },
  {
   "cell_type": "code",
   "execution_count": 45,
   "id": "b3cde978",
   "metadata": {},
   "outputs": [
    {
     "data": {
      "text/plain": [
       "count   23641.00\n",
       "mean       34.32\n",
       "std        21.71\n",
       "min         2.00\n",
       "25%        18.40\n",
       "50%        30.30\n",
       "75%        42.70\n",
       "max       409.70\n",
       "Name: living_area, dtype: float64"
      ]
     },
     "execution_count": 45,
     "metadata": {},
     "output_type": "execute_result"
    }
   ],
   "source": [
    "#Смотрим описание данных\n",
    "data['living_area'].describe()"
   ]
  },
  {
   "cell_type": "markdown",
   "id": "4d8861eb",
   "metadata": {},
   "source": [
    "Из построенной гистограммы четко видно 3 кварты, которые также отражены в данных. Медианным значением данных является 30.3 квадратных метра жилой площади. Первая 18.4 и третья кварта 42.7 квадратных метра сильно выделяется на графике. Можно ли утверждать, что данные значения являются популярными, или это советское наследие? В любом случае, данные довольно интересны.\n",
    "При этом минимальной жилой площадью являетс 2 квадратных метра, а максимальной 409.7. Треклятый капитализм или ошибка в данных? =)"
   ]
  },
  {
   "cell_type": "markdown",
   "id": "15862727",
   "metadata": {},
   "source": [
    "***Площадь кухни***"
   ]
  },
  {
   "cell_type": "code",
   "execution_count": 46,
   "id": "fc4e9d12",
   "metadata": {},
   "outputs": [
    {
     "data": {
      "image/png": "[encoded data removed]",
      "text/plain": [
       "<Figure size 432x288 with 1 Axes>"
      ]
     },
     "metadata": {},
     "output_type": "display_data"
    }
   ],
   "source": [
    "#Строим гистограмму для площади кухни\n",
    "plt.hist(data['kitchen_area'],\n",
    "         bins=50,\n",
    "         range=(0,50),\n",
    "         color='C0',\n",
    "         histtype='bar',\n",
    "         stacked=False)\n",
    "plt.title('Площадь кухни')\n",
    "plt.xlabel('Площадь кухни')\n",
    "plt.ylabel('Колличество квартир')\n",
    "plt.show()"
   ]
  },
  {
   "cell_type": "code",
   "execution_count": 47,
   "id": "973419ca",
   "metadata": {},
   "outputs": [
    {
     "data": {
      "text/plain": [
       "count   23641.00\n",
       "mean       10.37\n",
       "std         5.72\n",
       "min         0.00\n",
       "25%         7.20\n",
       "50%         9.01\n",
       "75%        11.50\n",
       "max       112.00\n",
       "Name: kitchen_area, dtype: float64"
      ]
     },
     "execution_count": 47,
     "metadata": {},
     "output_type": "execute_result"
    }
   ],
   "source": [
    "#Смотрим описание данных\n",
    "data['kitchen_area'].describe()"
   ]
  },
  {
   "cell_type": "markdown",
   "id": "fc79c68d",
   "metadata": {},
   "source": [
    "Медианное значение площади кухни в продаваемых квартирах 9.01 квадратных метра. При этом на гистограмме видно определенное колличество квартир, где площадь кухни равна 0, как мы определили раньше, это квартиры-студии, где кухни не предусмотрены. "
   ]
  },
  {
   "cell_type": "markdown",
   "id": "c792fbe8",
   "metadata": {},
   "source": [
    "***Цена объекта***"
   ]
  },
  {
   "cell_type": "code",
   "execution_count": 48,
   "id": "0b184b2d",
   "metadata": {},
   "outputs": [
    {
     "data": {
      "image/png": "[encoded data removed]",
      "text/plain": [
       "<Figure size 432x288 with 1 Axes>"
      ]
     },
     "metadata": {},
     "output_type": "display_data"
    }
   ],
   "source": [
    "#Строим гистограмму для цены объекта\n",
    "plt.hist(data['last_price'],\n",
    "         bins=50,\n",
    "         range=(10,10000000),\n",
    "         color='C0',\n",
    "         histtype='bar',\n",
    "         stacked=False)\n",
    "plt.title('Цена объекта')\n",
    "plt.xlabel('Цена')\n",
    "plt.ylabel('Колличество квартир')\n",
    "plt.show()"
   ]
  },
  {
   "cell_type": "code",
   "execution_count": 49,
   "id": "33b733bf",
   "metadata": {},
   "outputs": [
    {
     "data": {
      "text/plain": [
       "count       23641.00\n",
       "mean      6541442.88\n",
       "std      10898222.39\n",
       "min         12190.00\n",
       "25%       3400000.00\n",
       "50%       4650000.00\n",
       "75%       6799000.00\n",
       "max     763000000.00\n",
       "Name: last_price, dtype: float64"
      ]
     },
     "execution_count": 49,
     "metadata": {},
     "output_type": "execute_result"
    }
   ],
   "source": [
    "#Смотрим описание данных\n",
    "data['last_price'].describe()"
   ]
  },
  {
   "cell_type": "markdown",
   "id": "47274551",
   "metadata": {},
   "source": [
    "По данным видно, что медианное значение стоимости кварит составляет 4650000 рублей. Однако, значение стандартного октлонения, указывает на то, что разброс по цене может быть очень большим. Нижняя цена за квартиру будет 12190 рублей, пора задумываться об отъезде в Питер? "
   ]
  },
  {
   "cell_type": "markdown",
   "id": "185b71e5",
   "metadata": {},
   "source": [
    "***Колличество комнат***"
   ]
  },
  {
   "cell_type": "code",
   "execution_count": 50,
   "id": "05b88db9",
   "metadata": {},
   "outputs": [
    {
     "data": {
      "image/png": "[encoded data removed]",
      "text/plain": [
       "<Figure size 432x288 with 1 Axes>"
      ]
     },
     "metadata": {},
     "output_type": "display_data"
    }
   ],
   "source": [
    "#Строим гистограмму для колличества комнат\n",
    "plt.hist(data['rooms'],\n",
    "         bins=10,\n",
    "         range=(0,9),\n",
    "         color='C0',\n",
    "         histtype='bar',\n",
    "         stacked=False)\n",
    "plt.title('Колличество комнат')\n",
    "plt.xlabel('Комнаты')\n",
    "plt.ylabel('Колличество квартир')\n",
    "plt.show()"
   ]
  },
  {
   "cell_type": "code",
   "execution_count": 51,
   "id": "e6ecfef5",
   "metadata": {},
   "outputs": [
    {
     "data": {
      "text/plain": [
       "count   23641.00\n",
       "mean        2.07\n",
       "std         1.08\n",
       "min         0.00\n",
       "25%         1.00\n",
       "50%         2.00\n",
       "75%         3.00\n",
       "max        19.00\n",
       "Name: rooms, dtype: float64"
      ]
     },
     "execution_count": 51,
     "metadata": {},
     "output_type": "execute_result"
    }
   ],
   "source": [
    "#Смотрим описание данных\n",
    "data['rooms'].describe()"
   ]
  },
  {
   "cell_type": "markdown",
   "id": "9a692e83",
   "metadata": {},
   "source": [
    "В основном выделяются квартиры с 1, 2 и 3 комнатами. По данным видно, что среднее колличество комнта равно 2-м. "
   ]
  },
  {
   "cell_type": "markdown",
   "id": "80ec54e9",
   "metadata": {},
   "source": [
    "***Высота потолков***"
   ]
  },
  {
   "cell_type": "code",
   "execution_count": 52,
   "id": "838e5596",
   "metadata": {},
   "outputs": [
    {
     "data": {
      "image/png": "[encoded data removed]",
      "text/plain": [
       "<Figure size 432x288 with 1 Axes>"
      ]
     },
     "metadata": {},
     "output_type": "display_data"
    }
   ],
   "source": [
    "#Строим гистограмму для высоты потолков\n",
    "plt.hist(data['ceiling_height'],\n",
    "         bins=30,\n",
    "         range=(2.5,4),\n",
    "         color='C0',\n",
    "         histtype='bar',\n",
    "         stacked=False)\n",
    "plt.title('Высота потолков')\n",
    "plt.xlabel('Высота потолков')\n",
    "plt.ylabel('Колличество квартир')\n",
    "plt.show()"
   ]
  },
  {
   "cell_type": "code",
   "execution_count": 53,
   "id": "f13c321c",
   "metadata": {},
   "outputs": [
    {
     "data": {
      "text/plain": [
       "count   23641.00\n",
       "mean        2.69\n",
       "std         0.23\n",
       "min         1.75\n",
       "25%         2.60\n",
       "50%         2.64\n",
       "75%         2.70\n",
       "max         6.00\n",
       "Name: ceiling_height, dtype: float64"
      ]
     },
     "execution_count": 53,
     "metadata": {},
     "output_type": "execute_result"
    }
   ],
   "source": [
    "#Смотрим описание данных\n",
    "data['ceiling_height'].describe()"
   ]
  },
  {
   "cell_type": "markdown",
   "id": "f2db6705",
   "metadata": {},
   "source": [
    "По данным видно, что медианное значение высоты потолков равно 2.64 метра."
   ]
  },
  {
   "cell_type": "markdown",
   "id": "3e7a5539",
   "metadata": {},
   "source": [
    "***Этаж квартиры***"
   ]
  },
  {
   "cell_type": "code",
   "execution_count": 54,
   "id": "f0375c64",
   "metadata": {},
   "outputs": [
    {
     "data": {
      "image/png": "[encoded data removed]",
      "text/plain": [
       "<Figure size 432x288 with 1 Axes>"
      ]
     },
     "metadata": {},
     "output_type": "display_data"
    }
   ],
   "source": [
    "#Строим гистограмму для этажей квартиры\n",
    "plt.hist(data['floor'],\n",
    "         bins=30,\n",
    "         range=(1,30),\n",
    "         color='C0',\n",
    "         histtype='bar',\n",
    "         stacked=False)\n",
    "plt.title('Этаж квартиры')\n",
    "plt.xlabel('Этаж')\n",
    "plt.ylabel('Колличество квартир')\n",
    "plt.show()"
   ]
  },
  {
   "cell_type": "code",
   "execution_count": 55,
   "id": "b68d49c8",
   "metadata": {},
   "outputs": [
    {
     "data": {
      "text/plain": [
       "count   23641.00\n",
       "mean        5.89\n",
       "std         4.88\n",
       "min         1.00\n",
       "25%         2.00\n",
       "50%         4.00\n",
       "75%         8.00\n",
       "max        33.00\n",
       "Name: floor, dtype: float64"
      ]
     },
     "execution_count": 55,
     "metadata": {},
     "output_type": "execute_result"
    }
   ],
   "source": [
    "#Смотрим описание данных\n",
    "data['floor'].describe()"
   ]
  },
  {
   "cell_type": "markdown",
   "id": "1e08158d",
   "metadata": {},
   "source": [
    "По данным видно, что средний этаж у продаваемых квартир четвертый."
   ]
  },
  {
   "cell_type": "markdown",
   "id": "edb35632",
   "metadata": {},
   "source": [
    "***Тип этажа квартир***"
   ]
  },
  {
   "cell_type": "code",
   "execution_count": 56,
   "id": "2afe44a0",
   "metadata": {},
   "outputs": [
    {
     "data": {
      "image/png": "[encoded data removed]",
      "text/plain": [
       "<Figure size 432x288 with 1 Axes>"
      ]
     },
     "metadata": {},
     "output_type": "display_data"
    }
   ],
   "source": [
    "#Строим гистограмму для типа этажей квартир\n",
    "plt.hist(data['floor_type'],\n",
    "         bins=3,\n",
    "         range=(0,3),\n",
    "         color='C0',\n",
    "         histtype='barstacked',\n",
    "         stacked=False)\n",
    "plt.title('Тип этажей квартир')\n",
    "plt.xlabel('Тип')\n",
    "plt.ylabel('Колличество квартир')\n",
    "plt.show()"
   ]
  },
  {
   "cell_type": "markdown",
   "id": "a761b976",
   "metadata": {},
   "source": [
    "По данным видно, что в основном квартиры продаются не на первом и не последнем этажах."
   ]
  },
  {
   "cell_type": "markdown",
   "id": "1eb2e07b",
   "metadata": {},
   "source": [
    "***Общее колличество этажей в доме***"
   ]
  },
  {
   "cell_type": "code",
   "execution_count": 57,
   "id": "8563c650",
   "metadata": {},
   "outputs": [
    {
     "data": {
      "image/png": "[encoded data removed]",
      "text/plain": [
       "<Figure size 432x288 with 1 Axes>"
      ]
     },
     "metadata": {},
     "output_type": "display_data"
    }
   ],
   "source": [
    "#Строим гистограмму для общего колличества этажей в доме\n",
    "plt.hist(data['floors_total'],\n",
    "         bins=30,\n",
    "         range=(1,30),\n",
    "         color='C0',\n",
    "         histtype='bar',\n",
    "         stacked=False)\n",
    "plt.title('Общее колличество этажей в доме')\n",
    "plt.xlabel('Колличество этажей')\n",
    "plt.ylabel('Колличество квартир')\n",
    "plt.show()"
   ]
  },
  {
   "cell_type": "code",
   "execution_count": 58,
   "id": "77eb7f99",
   "metadata": {},
   "outputs": [
    {
     "data": {
      "text/plain": [
       "count   23641.00\n",
       "mean       10.64\n",
       "std         6.61\n",
       "min         1.00\n",
       "25%         5.00\n",
       "50%         9.00\n",
       "75%        16.00\n",
       "max        60.00\n",
       "Name: floors_total, dtype: float64"
      ]
     },
     "execution_count": 58,
     "metadata": {},
     "output_type": "execute_result"
    }
   ],
   "source": [
    "#Смотрим описание данных\n",
    "data['floors_total'].describe()"
   ]
  },
  {
   "cell_type": "markdown",
   "id": "67c50037",
   "metadata": {},
   "source": [
    "По медианным значениям общее колличество этажей в основном составляет 9."
   ]
  },
  {
   "cell_type": "markdown",
   "id": "5af96534",
   "metadata": {},
   "source": [
    "***Расстояние до центра города в метрах***"
   ]
  },
  {
   "cell_type": "code",
   "execution_count": 59,
   "id": "f72e4480",
   "metadata": {},
   "outputs": [
    {
     "data": {
      "image/png": "[encoded data removed]",
      "text/plain": [
       "<Figure size 432x288 with 1 Axes>"
      ]
     },
     "metadata": {},
     "output_type": "display_data"
    }
   ],
   "source": [
    "#Строим гистограмму для расстояния до центра города\n",
    "plt.hist(data['center_distance']*1000,\n",
    "         bins=50,\n",
    "         range=(1,60000),\n",
    "         color='C0',\n",
    "         histtype='bar',\n",
    "         stacked=False)\n",
    "plt.title('Расстояние до центра города')\n",
    "plt.xlabel('Расстояние')\n",
    "plt.ylabel('Колличество квартир')\n",
    "plt.show()"
   ]
  },
  {
   "cell_type": "code",
   "execution_count": 60,
   "id": "a82e7950",
   "metadata": {},
   "outputs": [
    {
     "data": {
      "text/plain": [
       "count   18105.00\n",
       "mean       14.21\n",
       "std         8.60\n",
       "min         1.00\n",
       "25%         9.00\n",
       "50%        13.00\n",
       "75%        16.00\n",
       "max        66.00\n",
       "Name: center_distance, dtype: float64"
      ]
     },
     "execution_count": 60,
     "metadata": {},
     "output_type": "execute_result"
    }
   ],
   "source": [
    "#Смотрим описание данных при дистанции не равно 0\n",
    "data.query('center_distance != 0')['center_distance'].describe()"
   ]
  },
  {
   "cell_type": "markdown",
   "id": "13c4015a",
   "metadata": {},
   "source": [
    "Из данных видно, что среднее расстояние до центра ~13 км. "
   ]
  },
  {
   "cell_type": "markdown",
   "id": "bdff571a",
   "metadata": {},
   "source": [
    "***Расстояние до ближайшего аэропорта***"
   ]
  },
  {
   "cell_type": "code",
   "execution_count": 61,
   "id": "2cf86ee0",
   "metadata": {},
   "outputs": [
    {
     "data": {
      "image/png": "[encoded data removed]",
      "text/plain": [
       "<Figure size 432x288 with 1 Axes>"
      ]
     },
     "metadata": {},
     "output_type": "display_data"
    }
   ],
   "source": [
    "#Строим гистограмму для расстояния до ближайшего аэропорта\n",
    "plt.hist(data['airports_nearest'],\n",
    "         bins=50,\n",
    "         range=(10000,60000),\n",
    "         color='C0',\n",
    "         histtype='bar',\n",
    "         stacked=False)\n",
    "plt.title('Расстояние до ближайшего аэропорта')\n",
    "plt.xlabel('Расстояние')\n",
    "plt.ylabel('Колличество квартир')\n",
    "plt.show()"
   ]
  },
  {
   "cell_type": "code",
   "execution_count": 62,
   "id": "ab0bddde",
   "metadata": {},
   "outputs": [
    {
     "data": {
      "text/plain": [
       "count   18108.00\n",
       "mean    28805.48\n",
       "std     12637.01\n",
       "min      6450.00\n",
       "25%     18576.00\n",
       "50%     26756.50\n",
       "75%     37310.00\n",
       "max     84869.00\n",
       "Name: airports_nearest, dtype: float64"
      ]
     },
     "execution_count": 62,
     "metadata": {},
     "output_type": "execute_result"
    }
   ],
   "source": [
    "#Смотрим описание данных при дистанции не равно 0\n",
    "data.query('airports_nearest != 0')['airports_nearest'].describe()"
   ]
  },
  {
   "cell_type": "markdown",
   "id": "67640d69",
   "metadata": {},
   "source": [
    "Медианное значение расстояния от квартиры до аэропорта является 26756 метров. "
   ]
  },
  {
   "cell_type": "markdown",
   "id": "0498b959",
   "metadata": {},
   "source": [
    "***День недели при публикации***"
   ]
  },
  {
   "cell_type": "code",
   "execution_count": 63,
   "id": "1767c84e",
   "metadata": {},
   "outputs": [
    {
     "data": {
      "image/png": "[encoded data removed]",
      "text/plain": [
       "<Figure size 432x288 with 1 Axes>"
      ]
     },
     "metadata": {},
     "output_type": "display_data"
    }
   ],
   "source": [
    "#Строим гистограмму для дня недели при публикации\n",
    "plt.hist(data['week_day_exposition'],\n",
    "         bins=7,\n",
    "         range=(0,6),\n",
    "         color='C0',\n",
    "         histtype='bar',\n",
    "         stacked=False)\n",
    "plt.title('День недели при публикации')\n",
    "plt.xlabel('День')\n",
    "plt.ylabel('Колличество квартир')\n",
    "plt.show()"
   ]
  },
  {
   "cell_type": "markdown",
   "id": "a68bb294",
   "metadata": {},
   "source": [
    "Из гистограммы видно, что наибольшее колличество публикаций осуществляется в будние дни. "
   ]
  },
  {
   "cell_type": "markdown",
   "id": "d466e9a9",
   "metadata": {},
   "source": [
    "***Месяц публикации***"
   ]
  },
  {
   "cell_type": "code",
   "execution_count": 64,
   "id": "72b82bb8",
   "metadata": {},
   "outputs": [
    {
     "data": {
      "image/png": "[encoded data removed]",
      "text/plain": [
       "<Figure size 432x288 with 1 Axes>"
      ]
     },
     "metadata": {},
     "output_type": "display_data"
    }
   ],
   "source": [
    "#Строим гистограмму для месяца публикации\n",
    "plt.hist(data['month_exposition'],\n",
    "         bins=12,\n",
    "         range=(1,12),\n",
    "         color='C0',\n",
    "         histtype='bar',\n",
    "         stacked=False)\n",
    "plt.title('Месяц публикации')\n",
    "plt.xlabel('Месяц')\n",
    "plt.ylabel('Колличество квартир')\n",
    "plt.show()"
   ]
  },
  {
   "cell_type": "markdown",
   "id": "1e48de75",
   "metadata": {},
   "source": [
    "По данным видно, что много публикаций приходится на конец зимы и начало весны, а таже конец лета и осень, интересно, с чем это связано. "
   ]
  },
  {
   "cell_type": "markdown",
   "id": "3918786c",
   "metadata": {},
   "source": [
    "### Изучение времени продаж квартир"
   ]
  },
  {
   "cell_type": "markdown",
   "id": "994ebacf",
   "metadata": {},
   "source": [
    "Изучаем параметры времени продаж квартир, смотри от чего зависит скорость продажи, есть ли зависимость от стоимости квартиры и времени ее продажи."
   ]
  },
  {
   "cell_type": "code",
   "execution_count": 65,
   "id": "4d4d8d4b",
   "metadata": {},
   "outputs": [
    {
     "data": {
      "image/png": "[encoded data removed]",
      "text/plain": [
       "<Figure size 432x288 with 1 Axes>"
      ]
     },
     "metadata": {},
     "output_type": "display_data"
    }
   ],
   "source": [
    "#Строим гистограмму для времени продаж квартир\n",
    "plt.hist(data.query('days_exposition != [45, 60, 90]')['days_exposition'],\n",
    "         bins=100,\n",
    "         range=(1,300),\n",
    "         color='C0',\n",
    "         histtype='bar',\n",
    "         stacked=False)\n",
    "plt.title('Время продаж квартир')\n",
    "plt.xlabel('Колличество дней')\n",
    "plt.ylabel('Колличество квартир')\n",
    "plt.show()"
   ]
  },
  {
   "cell_type": "code",
   "execution_count": 66,
   "id": "46259cb1",
   "metadata": {
    "scrolled": true
   },
   "outputs": [
    {
     "data": {
      "text/plain": [
       "count   20461.00\n",
       "mean      180.74\n",
       "std       219.80\n",
       "min         1.00\n",
       "25%        45.00\n",
       "50%        95.00\n",
       "75%       231.00\n",
       "max      1580.00\n",
       "Name: days_exposition, dtype: float64"
      ]
     },
     "execution_count": 66,
     "metadata": {},
     "output_type": "execute_result"
    }
   ],
   "source": [
    "#Изучаем данные по времени продаж квартир\n",
    "data.query('days_exposition != 0')['days_exposition'].describe()"
   ]
  },
  {
   "cell_type": "markdown",
   "id": "dd5141c8",
   "metadata": {},
   "source": [
    "Из данных видно, что медианное значение продажи квартир составляет 95 дней, а среднее время продажи 180 дней. \n",
    "Основное колличество квартир продается в срок до 100 дней. Однако, время продажи может доходить и до 230 дней и выше. "
   ]
  },
  {
   "cell_type": "code",
   "execution_count": 67,
   "id": "9d2f830a",
   "metadata": {
    "scrolled": false
   },
   "outputs": [
    {
     "name": "stdout",
     "output_type": "stream",
     "text": [
      "                      Дни до продажи  Этаж  Стоимость  Площадь квартиры  \\\n",
      "Дни до продажи                  1.00 -0.04       0.09              0.16   \n",
      "Этаж                           -0.04  1.00       0.00             -0.03   \n",
      "Стоимость                       0.09  0.00       1.00              0.65   \n",
      "Площадь квартиры                0.16 -0.03       0.65              1.00   \n",
      "Расстояние до центра           -0.06  0.01      -0.20             -0.23   \n",
      "Цена за квадрат                 0.06  0.06       0.76              0.29   \n",
      "\n",
      "                      Расстояние до центра  Цена за квадрат  \n",
      "Дни до продажи                       -0.06             0.06  \n",
      "Этаж                                  0.01             0.06  \n",
      "Стоимость                            -0.20             0.76  \n",
      "Площадь квартиры                     -0.23             0.29  \n",
      "Расстояние до центра                  1.00            -0.32  \n",
      "Цена за квадрат                      -0.32             1.00  \n"
     ]
    },
    {
     "data": {
      "text/plain": [
       "<AxesSubplot:>"
      ]
     },
     "execution_count": 67,
     "metadata": {},
     "output_type": "execute_result"
    },
    {
     "data": {
      "image/png": "[encoded data removed]",
      "text/plain": [
       "<Figure size 432x288 with 2 Axes>"
      ]
     },
     "metadata": {},
     "output_type": "display_data"
    }
   ],
   "source": [
    "#Создаем матрицу корреляции для параметров и строим по ней heatmap\n",
    "data_exposition = data.query('days_exposition !=0 and center_distance !=0')[['days_exposition', 'floor', 'last_price', 'total_area', 'center_distance', 'square_price']].copy()\n",
    "data_exposition.columns = ['Дни до продажи', 'Этаж', 'Стоимость', 'Площадь квартиры', 'Расстояние до центра', 'Цена за квадрат']\n",
    "data_exposition_corr = data_exposition.corr()\n",
    "print(data_exposition_corr)\n",
    "sns.heatmap(data_exposition_corr, annot=True, linecolor='white', cbar=True)"
   ]
  },
  {
   "cell_type": "markdown",
   "id": "41ff6ec0",
   "metadata": {},
   "source": [
    "Для выявления зависимости составляем **heatmap** корреляции данных, как наиболее наглядный вариант. Отсюда видим, что зависимости других параметров от времени продажи квартир нет. Четко прослеживается корреляции площади квартиры и ее стоимости. "
   ]
  },
  {
   "cell_type": "code",
   "execution_count": 68,
   "id": "ef4190ae",
   "metadata": {},
   "outputs": [
    {
     "data": {
      "image/png": "[encoded data removed]",
      "text/plain": [
       "<Figure size 432x288 with 1 Axes>"
      ]
     },
     "metadata": {},
     "output_type": "display_data"
    }
   ],
   "source": [
    "#Делаем сводную таблицу по дням продаи и стоимости квартиры\n",
    "(\n",
    "data.query('days_exposition != 0 and last_price !=0')\n",
    "    .pivot_table(index='last_price', values='days_exposition')\n",
    "    .plot(kind='hist', bins=50, range=(0, 500), legend=False)\n",
    ")\n",
    "plt.ylabel('Стоимость кваритры')\n",
    "plt.xlabel('Дни до продажи')\n",
    "plt.show()"
   ]
  },
  {
   "cell_type": "markdown",
   "id": "93e81bbe",
   "metadata": {},
   "source": [
    "На удивление квартиры с большей стоимостью продаются быстрее. Скорее всего это связано с местом продажи квартиры. Т.е. в Санкт-Петербурге стоимость выше, но и спрос больше, но данны параметр мы изучем позже. "
   ]
  },
  {
   "cell_type": "markdown",
   "id": "6fba70de",
   "metadata": {},
   "source": [
    "### Изучение факторов стоимости квартиры"
   ]
  },
  {
   "cell_type": "markdown",
   "id": "2db10b22",
   "metadata": {},
   "source": [
    "Изучаем факторы влияния на стоимость квартир:\n",
    "- общую площадь;\n",
    "- жилую площадь;\n",
    "- площадь кухни;\n",
    "- колличество комнат;\n",
    "- этаж;\n",
    "- дату размещения."
   ]
  },
  {
   "cell_type": "code",
   "execution_count": 69,
   "id": "2d59d5f3",
   "metadata": {},
   "outputs": [
    {
     "data": {
      "text/plain": [
       "array([[<AxesSubplot:xlabel='floor', ylabel='floor'>,\n",
       "        <AxesSubplot:xlabel='kitchen_area', ylabel='floor'>,\n",
       "        <AxesSubplot:xlabel='living_area', ylabel='floor'>,\n",
       "        <AxesSubplot:xlabel='rooms', ylabel='floor'>,\n",
       "        <AxesSubplot:xlabel='total_area', ylabel='floor'>],\n",
       "       [<AxesSubplot:xlabel='floor', ylabel='kitchen_area'>,\n",
       "        <AxesSubplot:xlabel='kitchen_area', ylabel='kitchen_area'>,\n",
       "        <AxesSubplot:xlabel='living_area', ylabel='kitchen_area'>,\n",
       "        <AxesSubplot:xlabel='rooms', ylabel='kitchen_area'>,\n",
       "        <AxesSubplot:xlabel='total_area', ylabel='kitchen_area'>],\n",
       "       [<AxesSubplot:xlabel='floor', ylabel='living_area'>,\n",
       "        <AxesSubplot:xlabel='kitchen_area', ylabel='living_area'>,\n",
       "        <AxesSubplot:xlabel='living_area', ylabel='living_area'>,\n",
       "        <AxesSubplot:xlabel='rooms', ylabel='living_area'>,\n",
       "        <AxesSubplot:xlabel='total_area', ylabel='living_area'>],\n",
       "       [<AxesSubplot:xlabel='floor', ylabel='rooms'>,\n",
       "        <AxesSubplot:xlabel='kitchen_area', ylabel='rooms'>,\n",
       "        <AxesSubplot:xlabel='living_area', ylabel='rooms'>,\n",
       "        <AxesSubplot:xlabel='rooms', ylabel='rooms'>,\n",
       "        <AxesSubplot:xlabel='total_area', ylabel='rooms'>],\n",
       "       [<AxesSubplot:xlabel='floor', ylabel='total_area'>,\n",
       "        <AxesSubplot:xlabel='kitchen_area', ylabel='total_area'>,\n",
       "        <AxesSubplot:xlabel='living_area', ylabel='total_area'>,\n",
       "        <AxesSubplot:xlabel='rooms', ylabel='total_area'>,\n",
       "        <AxesSubplot:xlabel='total_area', ylabel='total_area'>]],\n",
       "      dtype=object)"
      ]
     },
     "execution_count": 69,
     "metadata": {},
     "output_type": "execute_result"
    },
    {
     "data": {
      "image/png": "[encoded data removed]",
      "text/plain": [
       "<Figure size 648x648 with 25 Axes>"
      ]
     },
     "metadata": {},
     "output_type": "display_data"
    }
   ],
   "source": [
    "#Изучаем факторы стоимости квартиры от её общей площади, жилой площади, площади кухни, колличества комнат и этажа\n",
    "data_price_total = data.pivot_table(index='last_price',\n",
    "                                    values=['total_area', 'living_area', 'kitchen_area', 'rooms', 'floor'])\n",
    "#Строим матрицу распределений для каждого параметра\n",
    "pd.plotting.scatter_matrix(data_price_total, figsize=(9, 9))"
   ]
  },
  {
   "cell_type": "markdown",
   "id": "5e62e1f3",
   "metadata": {},
   "source": [
    "Из матрицы распределений видно, что есть четкие зависимости стоимости квартиры от общей площади, жилой и кухонной площадей, а также от колличества комнат в квартире. А вот этаж не так сильно влияет на параметры стоимости.\n",
    "\n",
    "***Посмотрим численные значения корреляции:***"
   ]
  },
  {
   "cell_type": "code",
   "execution_count": 70,
   "id": "2e39e244",
   "metadata": {},
   "outputs": [
    {
     "name": "stdout",
     "output_type": "stream",
     "text": [
      "               Этаж  Площадь кухни  Жилая площадь  Кол-во комнат  \\\n",
      "Этаж           1.00           0.03          -0.07          -0.07   \n",
      "Площадь кухни  0.03           1.00           0.55           0.46   \n",
      "Жилая площадь -0.07           0.55           1.00           0.86   \n",
      "Кол-во комнат -0.07           0.46           0.86           1.00   \n",
      "Общая площадь -0.04           0.63           0.91           0.79   \n",
      "\n",
      "               Общая площадь  \n",
      "Этаж                   -0.04  \n",
      "Площадь кухни           0.63  \n",
      "Жилая площадь           0.91  \n",
      "Кол-во комнат           0.79  \n",
      "Общая площадь           1.00  \n"
     ]
    },
    {
     "data": {
      "text/plain": [
       "<AxesSubplot:>"
      ]
     },
     "execution_count": 70,
     "metadata": {},
     "output_type": "execute_result"
    },
    {
     "data": {
      "image/png": "[encoded data removed]",
      "text/plain": [
       "<Figure size 432x288 with 2 Axes>"
      ]
     },
     "metadata": {},
     "output_type": "display_data"
    }
   ],
   "source": [
    "data_price_total.columns = ['Этаж', 'Площадь кухни', 'Жилая площадь', 'Кол-во комнат', 'Общая площадь']\n",
    "print(data_price_total.corr())\n",
    "sns.heatmap(data_price_total.corr(), annot=True, cbar=True, linecolor='white', cmap='RdYlGn')"
   ]
  },
  {
   "cell_type": "markdown",
   "id": "b43b138a",
   "metadata": {},
   "source": [
    "Таким образом, при экстрополяции результатов, четко видно, что на стоимость квартиры влияет общая площадь, колличество комнат, жилая площадь и в меньшей степени площадь кухни. \n",
    "\n",
    "Помимо этого, необходимо посмотреть как стоимость продажи квартиры зависила от даты объявления."
   ]
  },
  {
   "cell_type": "code",
   "execution_count": 71,
   "id": "9d14b6f7",
   "metadata": {
    "scrolled": false
   },
   "outputs": [
    {
     "data": {
      "text/plain": [
       "<matplotlib.legend.Legend at 0x7fb15a0cfa60>"
      ]
     },
     "execution_count": 71,
     "metadata": {},
     "output_type": "execute_result"
    },
    {
     "data": {
      "image/png": "[encoded data removed]",
      "text/plain": [
       "<Figure size 432x288 with 1 Axes>"
      ]
     },
     "metadata": {},
     "output_type": "display_data"
    }
   ],
   "source": [
    "#Делаем сводную таблицу с данными стоимости квартир по годам\n",
    "data_price_exposition_year = data.pivot_table(index='year_exposition',\n",
    "                                              values='last_price',\n",
    "                                              aggfunc=['mean', 'median'])\n",
    "#Строим график по получившейся таблице\n",
    "data_price_exposition_year.plot(style='-o', xlabel='Год продажи', ylabel='Стоимость квартиры')\n",
    "plt.legend(['Среднее значение', 'Медианное значение'])"
   ]
  },
  {
   "cell_type": "markdown",
   "id": "1b3baf0e",
   "metadata": {},
   "source": [
    "По данным видно, что общая стоимость квартир сильно просела с 2014 года, дальше после 2018 снова начала набирать в стоимости. "
   ]
  },
  {
   "cell_type": "code",
   "execution_count": 72,
   "id": "2bfd349e",
   "metadata": {
    "scrolled": false
   },
   "outputs": [
    {
     "data": {
      "text/plain": [
       "<matplotlib.legend.Legend at 0x7fb15aeec940>"
      ]
     },
     "execution_count": 72,
     "metadata": {},
     "output_type": "execute_result"
    },
    {
     "data": {
      "image/png": "[encoded data removed]",
      "text/plain": [
       "<Figure size 432x288 with 1 Axes>"
      ]
     },
     "metadata": {},
     "output_type": "display_data"
    }
   ],
   "source": [
    "#Делаем сводную таблицу с данными стоимости квартир по месецам\n",
    "data_price_exposition_month = data.pivot_table(index='month_exposition',\n",
    "                                              values='last_price',\n",
    "                                              aggfunc=['mean', 'median'])\n",
    "#Строим график по получившейся таблице\n",
    "data_price_exposition_month.plot(style='-o', legend=False, xlabel='Месяц продажи', ylabel='Стоимость квартиры')\n",
    "plt.legend(['Среднее значение', 'Медианное значение'])"
   ]
  },
  {
   "cell_type": "markdown",
   "id": "3704ecb7",
   "metadata": {},
   "source": [
    "Если смотреть по месяцам, то видно небольшое отклонение в весенние месяцы в сторону повышения стоимости квартиры, тем не менее почти все данные однородны. "
   ]
  },
  {
   "cell_type": "code",
   "execution_count": 73,
   "id": "b740fc94",
   "metadata": {
    "scrolled": true
   },
   "outputs": [
    {
     "data": {
      "text/plain": [
       "<matplotlib.legend.Legend at 0x7fb15a0de520>"
      ]
     },
     "execution_count": 73,
     "metadata": {},
     "output_type": "execute_result"
    },
    {
     "data": {
      "image/png": "[encoded data removed]",
      "text/plain": [
       "<Figure size 432x288 with 1 Axes>"
      ]
     },
     "metadata": {},
     "output_type": "display_data"
    }
   ],
   "source": [
    "#Делаем сводную таблицу с данными стоимости квартир по дням недели\n",
    "data_price_exposition_month = data.pivot_table(index='week_day_exposition',\n",
    "                                              values='last_price',\n",
    "                                              aggfunc=['mean', 'median'])\n",
    "#Строим график по получившейся таблице\n",
    "data_price_exposition_month.plot(style='-o', legend=False, xlabel='День продажи', ylabel='Стоимость квартиры')\n",
    "plt.legend(['Среднее значение', 'Медианное значение'])"
   ]
  },
  {
   "cell_type": "markdown",
   "id": "f3819650",
   "metadata": {},
   "source": [
    "По медианным значения, нет разницы в какой день недели выставлять на продажу квартиру, почти везде стоимость одинаковая. "
   ]
  },
  {
   "cell_type": "code",
   "execution_count": 74,
   "id": "7845b466",
   "metadata": {
    "scrolled": false
   },
   "outputs": [
    {
     "data": {
      "text/plain": [
       "<matplotlib.legend.Legend at 0x7fb15ae5cac0>"
      ]
     },
     "execution_count": 74,
     "metadata": {},
     "output_type": "execute_result"
    },
    {
     "data": {
      "image/png": "[encoded data removed]",
      "text/plain": [
       "<Figure size 648x648 with 1 Axes>"
      ]
     },
     "metadata": {},
     "output_type": "display_data"
    }
   ],
   "source": [
    "#Делаем сводную таблицу с данными стоимости квартир по типу этажа\n",
    "data_price_floor_type = data.pivot_table(index='floor_type',\n",
    "                                         values='last_price',\n",
    "                                         aggfunc=['mean', 'median'])\n",
    "#Строим график по получившейся таблице\n",
    "data_price_floor_type.plot(kind='bar', figsize=(9, 9))\n",
    "plt.legend(['Среднее значение', 'Медианное значение'])"
   ]
  },
  {
   "cell_type": "markdown",
   "id": "02c2919d",
   "metadata": {},
   "source": [
    "Из графика видим, что последний этаж в среднем имеет большую стоимость, там не менее, если брать медианные данные, то стоимость квартиры больше у квартир не на первом или последнем этажах."
   ]
  },
  {
   "cell_type": "markdown",
   "id": "6682e0f8",
   "metadata": {},
   "source": [
    "### Изучение стоимости квадратного метра по населенным пунктам"
   ]
  },
  {
   "cell_type": "markdown",
   "id": "36e07a57",
   "metadata": {},
   "source": [
    "Нам необходимо посчитать среднюю цену одного квадратного метра в 10 населенных пунктах с наибольшим числом объявлений. А также, среди этих населенных пунктов выделить пункт с наибольшей и наименьшей стоимостью квадратного метра.  "
   ]
  },
  {
   "cell_type": "code",
   "execution_count": 75,
   "id": "0c116615",
   "metadata": {},
   "outputs": [
    {
     "name": "stdout",
     "output_type": "stream",
     "text": [
      "Колличество объявлений по городам:\n",
      "locality_name\n",
      "Санкт-Петербург    15715\n",
      "Мурино               590\n",
      "Кудрово              472\n",
      "Шушары               440\n",
      "Всеволожск           398\n",
      "Пушкин               369\n",
      "Колпино              338\n",
      "Парголово            327\n",
      "Гатчина              307\n",
      "Выборг               237\n",
      "Name: locality_name, dtype: int64\n"
     ]
    },
    {
     "data": {
      "image/png": "[encoded data removed]",
      "text/plain": [
       "<Figure size 648x648 with 1 Axes>"
      ]
     },
     "metadata": {},
     "output_type": "display_data"
    }
   ],
   "source": [
    "#Группируем данные по населённым пунктам и считаем колличества объявлений там, составляем топ 10\n",
    "city_top = data.groupby('locality_name')['locality_name'].count().sort_values(ascending=False).head(10)\n",
    "#Строим круговую диограмму\n",
    "city_top.plot(kind='pie', ylabel='', title='Топ 10 населённых пунктов', autopct='%1.0f%%', figsize=(9, 9))\n",
    "print('Колличество объявлений по городам:')\n",
    "print(city_top)"
   ]
  },
  {
   "cell_type": "markdown",
   "id": "05184f1e",
   "metadata": {},
   "source": [
    "Как мы видим, Санкт-Петербург занимает подавляющее колличество объявлений о продаже."
   ]
  },
  {
   "cell_type": "code",
   "execution_count": 76,
   "id": "7c8e4f65",
   "metadata": {},
   "outputs": [
    {
     "data": {
      "text/plain": [
       "<AxesSubplot:ylabel='Средняя стоимость квадратного метра'>"
      ]
     },
     "execution_count": 76,
     "metadata": {},
     "output_type": "execute_result"
    },
    {
     "data": {
      "image/png": "[encoded data removed]",
      "text/plain": [
       "<Figure size 432x288 with 1 Axes>"
      ]
     },
     "metadata": {},
     "output_type": "display_data"
    }
   ],
   "source": [
    "#Делаем сводную таблицу, с индексами из топ 10 и средней стоимостью квадратного метра\n",
    "city_square_price = data.query('locality_name in @city_top.index').pivot_table(index='locality_name', values='square_price')\n",
    "#Строим столбчатый график\n",
    "(\n",
    "city_square_price.sort_values(by='square_price', ascending=False)\n",
    "                 .plot(kind='bar', legend=False, xlabel='', ylabel='Средняя стоимость квадратного метра')\n",
    ")    "
   ]
  },
  {
   "cell_type": "markdown",
   "id": "64418572",
   "metadata": {},
   "source": [
    "По графику видно, что наибольшей ценностью квадратного метра жилья обладает Санкт-Петербург, далее идут пригородные Пушкин и Кудрово. Наименьшей стоимостью квадратного метра обладает Выборг, который замыкает топ 10 город по стоимости квадратного метра. "
   ]
  },
  {
   "cell_type": "markdown",
   "id": "6e1e10ae",
   "metadata": {},
   "source": [
    "### Изучение стоиомости км до центра города"
   ]
  },
  {
   "cell_type": "markdown",
   "id": "cf13f791",
   "metadata": {},
   "source": [
    "Вычисляем среднюю стоимость каждого км до центра города"
   ]
  },
  {
   "cell_type": "code",
   "execution_count": 77,
   "id": "252df69b",
   "metadata": {},
   "outputs": [
    {
     "data": {
      "text/plain": [
       "<AxesSubplot:xlabel='Расстояние до центра', ylabel='Средняя стоимость квадратного м квартиры'>"
      ]
     },
     "execution_count": 77,
     "metadata": {},
     "output_type": "execute_result"
    },
    {
     "data": {
      "image/png": "[encoded data removed]",
      "text/plain": [
       "<Figure size 432x288 with 1 Axes>"
      ]
     },
     "metadata": {},
     "output_type": "display_data"
    }
   ],
   "source": [
    "#Делаем сводную таблицу\n",
    "data_distance_price = data.query('locality_name == \"Санкт-Петербург\"').pivot_table(index='center_distance', \n",
    "                                                                                   values='square_price')\n",
    "#Делаем график\n",
    "data_distance_price.plot(style='-o', \n",
    "                         legend=False, \n",
    "                         xlabel='Расстояние до центра', \n",
    "                         ylabel='Средняя стоимость квадратного м квартиры')"
   ]
  },
  {
   "cell_type": "markdown",
   "id": "c23fe685",
   "metadata": {},
   "source": [
    "График показывает, что чем дальше квартира находится от центра города, тем дешевле квадратный метр её стоимости."
   ]
  },
  {
   "cell_type": "markdown",
   "id": "a407e9df",
   "metadata": {},
   "source": [
    "## Общий вывод"
   ]
  },
  {
   "cell_type": "markdown",
   "id": "739467ff",
   "metadata": {},
   "source": [
    "**Предварительная обработка данных:**\n",
    "-  были найдены и обработаны пропуски в данных;\n",
    "-  изменены типы данных, в особенности в столбце с датой объявлления;\n",
    "-  найдены и обработанные некорректные названия населённых пунктов;\n",
    "-  найдены и обработаны аномальные значения данных;\n",
    "-  обработаны названия столбцов для более лёгкого ориентирования по данным.\n",
    "\n",
    "**Вычисления вспомогательных параметров:**\n",
    "для вспомогательных расчтетов были созданы новые столбцы, где была вычислена цена за квадратный метр для каждой квартиры, добален тип этажей и расстояние до центра города в киллометрах. А также, вычислены день недели, название месяца и год, когда было опубликовано объявление. \n",
    "\n",
    "**Проведён исследовательский анализ данных**\n",
    "\n",
    "Изучены параметры общей, жилой и кухонной площадей квартир, цена за квартиру, колличество комнат и этаж расположения, высота потолка и расстояние до центра, аэропорта и времени, когда квартира была выложена на продажу. \n",
    "\n",
    "***Время продажи квартир:*** из данных выяснили, что медианное время продажи квартир составляет 95 дней, а среднее время продажи 180 дней. Т.е. основное колличество квартир продается в срок до 10 дней. При этом, по 1 кварте, можно сказать что 45 дней будет являтся быстрой продажей, а 231 день долгой. Также, было выяснено, что корреляционной зависимости от этажа, площади, расстояния до центра на время продажи квартир нет. Тем не менее, по данным можно увидеть, что квартиры с большей стоимость быстрее продаются, что может быть связано с тем, что данные квартиры продаются в Сантк-Петербурге, а не окрестностях.\n",
    "\n",
    "***Изучение факторов стоимости квартир:*** было выяснено, что на стоимость квартиры в значительной степени вляют площадь кухни, жилая площадь, колличество комнат, общая площадь. Также, было выявлено, что с 2014 года квартиры несколько потеряли в стоимости, но после 2018 года снова начался рост. Некоторый рост числа продаж квартир прослеживается в весенние месяцы, но он незначительный. \n",
    "\n",
    "***Изучение стоимости квадратного метра по населенным пунктам:*** значительное колличество объявлений по продажам квартир было выявлено в Санкт-Петербурге и его пригородах. Это же обуславливает и среднюю стоимость за квадратный метр, где самая большая стоимость будет в Санкт-Петербурге, далее идут его пригороды -Пушкин, Кудрово, Парголово, Мурино, замыкает же топ 10 населённых пунктов Выборг. \n",
    "\n",
    "***Изучение стоимости км до центра города:*** по данным было выявлено, что чем ближе к центру города, тем больше стоимость квадратного км. "
   ]
  }
 ],
 "metadata": {
  "ExecuteTimeLog": [
   {
    "duration": 1033,
    "start_time": "2023-05-06T06:43:54.204Z"
   },
   {
    "duration": 3,
    "start_time": "2023-05-06T06:43:55.239Z"
   },
   {
    "duration": 174,
    "start_time": "2023-05-06T06:43:55.244Z"
   },
   {
    "duration": 1,
    "start_time": "2023-05-06T06:43:55.421Z"
   },
   {
    "duration": 0,
    "start_time": "2023-05-06T06:43:55.422Z"
   },
   {
    "duration": 0,
    "start_time": "2023-05-06T06:43:55.423Z"
   },
   {
    "duration": 0,
    "start_time": "2023-05-06T06:43:55.424Z"
   },
   {
    "duration": 0,
    "start_time": "2023-05-06T06:43:55.425Z"
   },
   {
    "duration": 0,
    "start_time": "2023-05-06T06:43:55.426Z"
   },
   {
    "duration": 0,
    "start_time": "2023-05-06T06:43:55.427Z"
   },
   {
    "duration": 0,
    "start_time": "2023-05-06T06:43:55.428Z"
   },
   {
    "duration": 0,
    "start_time": "2023-05-06T06:43:55.429Z"
   },
   {
    "duration": 0,
    "start_time": "2023-05-06T06:43:55.430Z"
   },
   {
    "duration": 0,
    "start_time": "2023-05-06T06:43:55.431Z"
   },
   {
    "duration": 0,
    "start_time": "2023-05-06T06:43:55.432Z"
   },
   {
    "duration": 0,
    "start_time": "2023-05-06T06:43:55.432Z"
   },
   {
    "duration": 0,
    "start_time": "2023-05-06T06:43:55.433Z"
   },
   {
    "duration": 0,
    "start_time": "2023-05-06T06:43:55.434Z"
   },
   {
    "duration": 0,
    "start_time": "2023-05-06T06:43:55.435Z"
   },
   {
    "duration": 0,
    "start_time": "2023-05-06T06:43:55.436Z"
   },
   {
    "duration": 0,
    "start_time": "2023-05-06T06:43:55.437Z"
   },
   {
    "duration": 0,
    "start_time": "2023-05-06T06:43:55.437Z"
   },
   {
    "duration": 0,
    "start_time": "2023-05-06T06:43:55.438Z"
   },
   {
    "duration": 0,
    "start_time": "2023-05-06T06:43:55.439Z"
   },
   {
    "duration": 0,
    "start_time": "2023-05-06T06:43:55.440Z"
   },
   {
    "duration": 0,
    "start_time": "2023-05-06T06:43:55.441Z"
   },
   {
    "duration": 0,
    "start_time": "2023-05-06T06:43:55.441Z"
   },
   {
    "duration": 0,
    "start_time": "2023-05-06T06:43:55.442Z"
   },
   {
    "duration": 0,
    "start_time": "2023-05-06T06:43:55.477Z"
   },
   {
    "duration": 0,
    "start_time": "2023-05-06T06:43:55.478Z"
   },
   {
    "duration": 0,
    "start_time": "2023-05-06T06:43:55.478Z"
   },
   {
    "duration": 0,
    "start_time": "2023-05-06T06:43:55.479Z"
   },
   {
    "duration": 0,
    "start_time": "2023-05-06T06:43:55.479Z"
   },
   {
    "duration": 0,
    "start_time": "2023-05-06T06:43:55.480Z"
   },
   {
    "duration": 0,
    "start_time": "2023-05-06T06:43:55.480Z"
   },
   {
    "duration": 0,
    "start_time": "2023-05-06T06:43:55.481Z"
   },
   {
    "duration": 0,
    "start_time": "2023-05-06T06:43:55.481Z"
   },
   {
    "duration": 0,
    "start_time": "2023-05-06T06:43:55.482Z"
   },
   {
    "duration": 0,
    "start_time": "2023-05-06T06:43:55.482Z"
   },
   {
    "duration": 0,
    "start_time": "2023-05-06T06:43:55.483Z"
   },
   {
    "duration": 0,
    "start_time": "2023-05-06T06:43:55.483Z"
   },
   {
    "duration": 1,
    "start_time": "2023-05-06T06:43:55.483Z"
   },
   {
    "duration": 0,
    "start_time": "2023-05-06T06:43:55.484Z"
   },
   {
    "duration": 0,
    "start_time": "2023-05-06T06:43:55.484Z"
   },
   {
    "duration": 0,
    "start_time": "2023-05-06T06:43:55.485Z"
   },
   {
    "duration": 0,
    "start_time": "2023-05-06T06:43:55.485Z"
   },
   {
    "duration": 0,
    "start_time": "2023-05-06T06:43:55.486Z"
   },
   {
    "duration": 0,
    "start_time": "2023-05-06T06:43:55.486Z"
   },
   {
    "duration": 0,
    "start_time": "2023-05-06T06:43:55.487Z"
   },
   {
    "duration": 0,
    "start_time": "2023-05-06T06:43:55.487Z"
   },
   {
    "duration": 0,
    "start_time": "2023-05-06T06:43:55.488Z"
   },
   {
    "duration": 0,
    "start_time": "2023-05-06T06:43:55.490Z"
   },
   {
    "duration": 0,
    "start_time": "2023-05-06T06:43:55.491Z"
   },
   {
    "duration": 0,
    "start_time": "2023-05-06T06:43:55.492Z"
   },
   {
    "duration": 0,
    "start_time": "2023-05-06T06:43:55.493Z"
   },
   {
    "duration": 0,
    "start_time": "2023-05-06T06:43:55.494Z"
   },
   {
    "duration": 0,
    "start_time": "2023-05-06T06:43:55.496Z"
   },
   {
    "duration": 0,
    "start_time": "2023-05-06T06:43:55.497Z"
   },
   {
    "duration": 0,
    "start_time": "2023-05-06T06:43:55.498Z"
   },
   {
    "duration": 0,
    "start_time": "2023-05-06T06:43:55.500Z"
   },
   {
    "duration": 0,
    "start_time": "2023-05-06T06:43:55.501Z"
   },
   {
    "duration": 0,
    "start_time": "2023-05-06T06:43:55.502Z"
   },
   {
    "duration": 0,
    "start_time": "2023-05-06T06:43:55.507Z"
   },
   {
    "duration": 0,
    "start_time": "2023-05-06T06:43:55.508Z"
   },
   {
    "duration": 0,
    "start_time": "2023-05-06T06:43:55.509Z"
   },
   {
    "duration": 0,
    "start_time": "2023-05-06T06:43:55.511Z"
   },
   {
    "duration": 0,
    "start_time": "2023-05-06T06:43:55.512Z"
   },
   {
    "duration": 0,
    "start_time": "2023-05-06T06:43:55.513Z"
   },
   {
    "duration": 0,
    "start_time": "2023-05-06T06:43:55.582Z"
   },
   {
    "duration": 0,
    "start_time": "2023-05-06T06:43:55.583Z"
   },
   {
    "duration": 0,
    "start_time": "2023-05-06T06:43:55.583Z"
   },
   {
    "duration": 0,
    "start_time": "2023-05-06T06:43:55.584Z"
   },
   {
    "duration": 0,
    "start_time": "2023-05-06T06:43:55.585Z"
   },
   {
    "duration": 0,
    "start_time": "2023-05-06T06:43:55.586Z"
   },
   {
    "duration": 0,
    "start_time": "2023-05-06T06:43:55.586Z"
   },
   {
    "duration": 49,
    "start_time": "2023-05-06T06:49:05.522Z"
   },
   {
    "duration": 1289,
    "start_time": "2023-05-06T06:49:14.934Z"
   },
   {
    "duration": 5,
    "start_time": "2023-05-06T06:49:16.225Z"
   },
   {
    "duration": 299,
    "start_time": "2023-05-06T06:49:16.354Z"
   },
   {
    "duration": 12,
    "start_time": "2023-05-06T06:49:18.278Z"
   },
   {
    "duration": 271,
    "start_time": "2023-05-06T06:49:30.707Z"
   },
   {
    "duration": 15,
    "start_time": "2023-05-06T06:49:31.763Z"
   },
   {
    "duration": 1115,
    "start_time": "2023-05-06T06:49:39.830Z"
   },
   {
    "duration": 4,
    "start_time": "2023-05-06T06:49:40.947Z"
   },
   {
    "duration": 375,
    "start_time": "2023-05-06T06:49:40.953Z"
   },
   {
    "duration": 15,
    "start_time": "2023-05-06T06:49:41.330Z"
   },
   {
    "duration": 86,
    "start_time": "2023-05-06T06:49:41.347Z"
   },
   {
    "duration": 2306,
    "start_time": "2023-05-06T06:49:41.435Z"
   },
   {
    "duration": 23,
    "start_time": "2023-05-06T06:49:43.743Z"
   },
   {
    "duration": 11,
    "start_time": "2023-05-06T06:49:43.768Z"
   },
   {
    "duration": 17,
    "start_time": "2023-05-06T06:49:43.781Z"
   },
   {
    "duration": 4,
    "start_time": "2023-05-06T06:49:43.802Z"
   },
   {
    "duration": 4,
    "start_time": "2023-05-06T06:49:43.808Z"
   },
   {
    "duration": 6,
    "start_time": "2023-05-06T06:49:43.814Z"
   },
   {
    "duration": 124,
    "start_time": "2023-05-06T06:49:43.822Z"
   },
   {
    "duration": 5,
    "start_time": "2023-05-06T06:49:43.947Z"
   },
   {
    "duration": 12,
    "start_time": "2023-05-06T06:49:43.954Z"
   },
   {
    "duration": 52,
    "start_time": "2023-05-06T06:49:43.968Z"
   },
   {
    "duration": 31,
    "start_time": "2023-05-06T06:49:44.022Z"
   },
   {
    "duration": 53,
    "start_time": "2023-05-06T06:49:44.055Z"
   },
   {
    "duration": 9,
    "start_time": "2023-05-06T06:49:44.110Z"
   },
   {
    "duration": 14,
    "start_time": "2023-05-06T06:49:44.120Z"
   },
   {
    "duration": 9,
    "start_time": "2023-05-06T06:49:44.136Z"
   },
   {
    "duration": 12,
    "start_time": "2023-05-06T06:49:44.147Z"
   },
   {
    "duration": 18,
    "start_time": "2023-05-06T06:49:44.192Z"
   },
   {
    "duration": 7,
    "start_time": "2023-05-06T06:49:44.212Z"
   },
   {
    "duration": 6,
    "start_time": "2023-05-06T06:49:44.221Z"
   },
   {
    "duration": 211,
    "start_time": "2023-05-06T06:49:44.229Z"
   },
   {
    "duration": 9,
    "start_time": "2023-05-06T06:49:44.441Z"
   },
   {
    "duration": 5,
    "start_time": "2023-05-06T06:49:44.455Z"
   },
   {
    "duration": 34,
    "start_time": "2023-05-06T06:49:44.461Z"
   },
   {
    "duration": 7,
    "start_time": "2023-05-06T06:49:44.497Z"
   },
   {
    "duration": 7,
    "start_time": "2023-05-06T06:49:44.506Z"
   },
   {
    "duration": 10,
    "start_time": "2023-05-06T06:49:44.515Z"
   },
   {
    "duration": 5,
    "start_time": "2023-05-06T06:49:44.527Z"
   },
   {
    "duration": 6,
    "start_time": "2023-05-06T06:49:44.533Z"
   },
   {
    "duration": 6,
    "start_time": "2023-05-06T06:49:44.541Z"
   },
   {
    "duration": 6,
    "start_time": "2023-05-06T06:49:44.549Z"
   },
   {
    "duration": 6,
    "start_time": "2023-05-06T06:49:44.591Z"
   },
   {
    "duration": 3,
    "start_time": "2023-05-06T06:49:44.599Z"
   },
   {
    "duration": 347,
    "start_time": "2023-05-06T06:49:44.604Z"
   },
   {
    "duration": 4,
    "start_time": "2023-05-06T06:49:44.953Z"
   },
   {
    "duration": 217,
    "start_time": "2023-05-06T06:49:44.958Z"
   },
   {
    "duration": 16,
    "start_time": "2023-05-06T06:49:45.177Z"
   },
   {
    "duration": 241,
    "start_time": "2023-05-06T06:49:45.195Z"
   },
   {
    "duration": 8,
    "start_time": "2023-05-06T06:49:45.438Z"
   },
   {
    "duration": 236,
    "start_time": "2023-05-06T06:49:45.448Z"
   },
   {
    "duration": 14,
    "start_time": "2023-05-06T06:49:45.685Z"
   },
   {
    "duration": 257,
    "start_time": "2023-05-06T06:49:45.701Z"
   },
   {
    "duration": 9,
    "start_time": "2023-05-06T06:49:45.960Z"
   },
   {
    "duration": 200,
    "start_time": "2023-05-06T06:49:45.971Z"
   },
   {
    "duration": 10,
    "start_time": "2023-05-06T06:49:46.173Z"
   },
   {
    "duration": 233,
    "start_time": "2023-05-06T06:49:46.192Z"
   },
   {
    "duration": 10,
    "start_time": "2023-05-06T06:49:46.428Z"
   },
   {
    "duration": 354,
    "start_time": "2023-05-06T06:49:46.440Z"
   },
   {
    "duration": 9,
    "start_time": "2023-05-06T06:49:46.795Z"
   },
   {
    "duration": 138,
    "start_time": "2023-05-06T06:49:46.806Z"
   },
   {
    "duration": 208,
    "start_time": "2023-05-06T06:49:46.945Z"
   },
   {
    "duration": 8,
    "start_time": "2023-05-06T06:49:47.154Z"
   },
   {
    "duration": 274,
    "start_time": "2023-05-06T06:49:47.164Z"
   },
   {
    "duration": 18,
    "start_time": "2023-05-06T06:49:47.440Z"
   },
   {
    "duration": 250,
    "start_time": "2023-05-06T06:49:47.460Z"
   },
   {
    "duration": 14,
    "start_time": "2023-05-06T06:49:47.713Z"
   },
   {
    "duration": 176,
    "start_time": "2023-05-06T06:49:47.728Z"
   },
   {
    "duration": 173,
    "start_time": "2023-05-06T06:49:47.905Z"
   },
   {
    "duration": 276,
    "start_time": "2023-05-06T06:49:48.080Z"
   },
   {
    "duration": 12,
    "start_time": "2023-05-06T06:49:48.357Z"
   },
   {
    "duration": 557,
    "start_time": "2023-05-06T06:49:48.371Z"
   },
   {
    "duration": 357,
    "start_time": "2023-05-06T06:49:48.930Z"
   },
   {
    "duration": 1321,
    "start_time": "2023-05-06T06:49:49.291Z"
   },
   {
    "duration": 372,
    "start_time": "2023-05-06T06:49:50.613Z"
   },
   {
    "duration": 228,
    "start_time": "2023-05-06T06:49:50.991Z"
   },
   {
    "duration": 310,
    "start_time": "2023-05-06T06:49:51.221Z"
   },
   {
    "duration": 202,
    "start_time": "2023-05-06T06:49:51.533Z"
   },
   {
    "duration": 188,
    "start_time": "2023-05-06T06:49:51.737Z"
   },
   {
    "duration": 205,
    "start_time": "2023-05-06T06:49:51.927Z"
   },
   {
    "duration": 218,
    "start_time": "2023-05-06T06:49:52.134Z"
   },
   {
    "duration": 393,
    "start_time": "2023-05-06T06:50:27.813Z"
   },
   {
    "duration": 1178,
    "start_time": "2023-05-06T10:37:03.443Z"
   },
   {
    "duration": 4,
    "start_time": "2023-05-06T10:37:04.623Z"
   },
   {
    "duration": 243,
    "start_time": "2023-05-06T10:37:04.629Z"
   },
   {
    "duration": 16,
    "start_time": "2023-05-06T10:37:04.874Z"
   },
   {
    "duration": 81,
    "start_time": "2023-05-06T10:37:04.892Z"
   },
   {
    "duration": 2332,
    "start_time": "2023-05-06T10:37:04.975Z"
   },
   {
    "duration": 21,
    "start_time": "2023-05-06T10:37:07.309Z"
   },
   {
    "duration": 13,
    "start_time": "2023-05-06T10:37:07.332Z"
   },
   {
    "duration": 8,
    "start_time": "2023-05-06T10:37:07.346Z"
   },
   {
    "duration": 5,
    "start_time": "2023-05-06T10:37:07.357Z"
   },
   {
    "duration": 9,
    "start_time": "2023-05-06T10:37:07.363Z"
   },
   {
    "duration": 19,
    "start_time": "2023-05-06T10:37:07.374Z"
   },
   {
    "duration": 101,
    "start_time": "2023-05-06T10:37:07.395Z"
   },
   {
    "duration": 4,
    "start_time": "2023-05-06T10:37:07.497Z"
   },
   {
    "duration": 37,
    "start_time": "2023-05-06T10:37:07.503Z"
   },
   {
    "duration": 33,
    "start_time": "2023-05-06T10:37:07.541Z"
   },
   {
    "duration": 31,
    "start_time": "2023-05-06T10:37:07.576Z"
   },
   {
    "duration": 39,
    "start_time": "2023-05-06T10:37:07.609Z"
   },
   {
    "duration": 7,
    "start_time": "2023-05-06T10:37:07.650Z"
   },
   {
    "duration": 35,
    "start_time": "2023-05-06T10:37:07.659Z"
   },
   {
    "duration": 25,
    "start_time": "2023-05-06T10:37:07.696Z"
   },
   {
    "duration": 8,
    "start_time": "2023-05-06T10:37:07.723Z"
   },
   {
    "duration": 22,
    "start_time": "2023-05-06T10:37:07.732Z"
   },
   {
    "duration": 8,
    "start_time": "2023-05-06T10:37:07.756Z"
   },
   {
    "duration": 13,
    "start_time": "2023-05-06T10:37:07.766Z"
   },
   {
    "duration": 257,
    "start_time": "2023-05-06T10:37:07.781Z"
   },
   {
    "duration": 6,
    "start_time": "2023-05-06T10:37:08.040Z"
   },
   {
    "duration": 29,
    "start_time": "2023-05-06T10:37:08.050Z"
   },
   {
    "duration": 29,
    "start_time": "2023-05-06T10:37:08.081Z"
   },
   {
    "duration": 31,
    "start_time": "2023-05-06T10:37:08.111Z"
   },
   {
    "duration": 36,
    "start_time": "2023-05-06T10:37:08.143Z"
   },
   {
    "duration": 29,
    "start_time": "2023-05-06T10:37:08.181Z"
   },
   {
    "duration": 21,
    "start_time": "2023-05-06T10:37:08.212Z"
   },
   {
    "duration": 24,
    "start_time": "2023-05-06T10:37:08.235Z"
   },
   {
    "duration": 28,
    "start_time": "2023-05-06T10:37:08.260Z"
   },
   {
    "duration": 25,
    "start_time": "2023-05-06T10:37:08.289Z"
   },
   {
    "duration": 17,
    "start_time": "2023-05-06T10:37:08.316Z"
   },
   {
    "duration": 8,
    "start_time": "2023-05-06T10:37:08.335Z"
   },
   {
    "duration": 345,
    "start_time": "2023-05-06T10:37:08.345Z"
   },
   {
    "duration": 5,
    "start_time": "2023-05-06T10:37:08.691Z"
   },
   {
    "duration": 246,
    "start_time": "2023-05-06T10:37:08.697Z"
   },
   {
    "duration": 9,
    "start_time": "2023-05-06T10:37:08.945Z"
   },
   {
    "duration": 289,
    "start_time": "2023-05-06T10:37:08.956Z"
   },
   {
    "duration": 9,
    "start_time": "2023-05-06T10:37:09.247Z"
   },
   {
    "duration": 268,
    "start_time": "2023-05-06T10:37:09.257Z"
   },
   {
    "duration": 10,
    "start_time": "2023-05-06T10:37:09.527Z"
   },
   {
    "duration": 266,
    "start_time": "2023-05-06T10:37:09.539Z"
   },
   {
    "duration": 15,
    "start_time": "2023-05-06T10:37:09.807Z"
   },
   {
    "duration": 197,
    "start_time": "2023-05-06T10:37:09.824Z"
   },
   {
    "duration": 8,
    "start_time": "2023-05-06T10:37:10.022Z"
   },
   {
    "duration": 245,
    "start_time": "2023-05-06T10:37:10.031Z"
   },
   {
    "duration": 8,
    "start_time": "2023-05-06T10:37:10.278Z"
   },
   {
    "duration": 335,
    "start_time": "2023-05-06T10:37:10.288Z"
   },
   {
    "duration": 8,
    "start_time": "2023-05-06T10:37:10.625Z"
   },
   {
    "duration": 155,
    "start_time": "2023-05-06T10:37:10.634Z"
   },
   {
    "duration": 230,
    "start_time": "2023-05-06T10:37:10.791Z"
   },
   {
    "duration": 8,
    "start_time": "2023-05-06T10:37:11.023Z"
   },
   {
    "duration": 256,
    "start_time": "2023-05-06T10:37:11.033Z"
   },
   {
    "duration": 15,
    "start_time": "2023-05-06T10:37:11.291Z"
   },
   {
    "duration": 243,
    "start_time": "2023-05-06T10:37:11.318Z"
   },
   {
    "duration": 13,
    "start_time": "2023-05-06T10:37:11.562Z"
   },
   {
    "duration": 180,
    "start_time": "2023-05-06T10:37:11.577Z"
   },
   {
    "duration": 222,
    "start_time": "2023-05-06T10:37:11.759Z"
   },
   {
    "duration": 324,
    "start_time": "2023-05-06T10:37:11.982Z"
   },
   {
    "duration": 20,
    "start_time": "2023-05-06T10:37:12.308Z"
   },
   {
    "duration": 587,
    "start_time": "2023-05-06T10:37:12.330Z"
   },
   {
    "duration": 350,
    "start_time": "2023-05-06T10:37:12.919Z"
   },
   {
    "duration": 1432,
    "start_time": "2023-05-06T10:37:13.271Z"
   },
   {
    "duration": 420,
    "start_time": "2023-05-06T10:37:14.705Z"
   },
   {
    "duration": 220,
    "start_time": "2023-05-06T10:37:15.127Z"
   },
   {
    "duration": 306,
    "start_time": "2023-05-06T10:37:15.349Z"
   },
   {
    "duration": 206,
    "start_time": "2023-05-06T10:37:15.657Z"
   },
   {
    "duration": 197,
    "start_time": "2023-05-06T10:37:15.864Z"
   },
   {
    "duration": 214,
    "start_time": "2023-05-06T10:37:16.063Z"
   },
   {
    "duration": 192,
    "start_time": "2023-05-06T10:37:16.279Z"
   },
   {
    "duration": 51,
    "start_time": "2023-05-06T10:54:04.804Z"
   },
   {
    "duration": 1242,
    "start_time": "2023-05-06T10:54:13.202Z"
   },
   {
    "duration": 5,
    "start_time": "2023-05-06T10:54:14.446Z"
   },
   {
    "duration": 229,
    "start_time": "2023-05-06T10:54:14.453Z"
   },
   {
    "duration": 21,
    "start_time": "2023-05-06T10:54:14.684Z"
   },
   {
    "duration": 84,
    "start_time": "2023-05-06T10:54:14.708Z"
   },
   {
    "duration": 2029,
    "start_time": "2023-05-06T10:54:14.795Z"
   },
   {
    "duration": 17,
    "start_time": "2023-05-06T10:54:16.826Z"
   },
   {
    "duration": 16,
    "start_time": "2023-05-06T10:54:16.844Z"
   },
   {
    "duration": 13,
    "start_time": "2023-05-06T10:54:16.861Z"
   },
   {
    "duration": 16,
    "start_time": "2023-05-06T10:54:16.876Z"
   },
   {
    "duration": 11,
    "start_time": "2023-05-06T10:54:16.893Z"
   },
   {
    "duration": 78,
    "start_time": "2023-05-06T10:54:16.906Z"
   },
   {
    "duration": 4,
    "start_time": "2023-05-06T10:54:16.985Z"
   },
   {
    "duration": 20,
    "start_time": "2023-05-06T10:54:16.992Z"
   },
   {
    "duration": 43,
    "start_time": "2023-05-06T10:54:17.013Z"
   },
   {
    "duration": 34,
    "start_time": "2023-05-06T10:54:17.058Z"
   },
   {
    "duration": 30,
    "start_time": "2023-05-06T10:54:17.093Z"
   },
   {
    "duration": 27,
    "start_time": "2023-05-06T10:54:17.125Z"
   },
   {
    "duration": 13,
    "start_time": "2023-05-06T10:54:17.154Z"
   },
   {
    "duration": 134,
    "start_time": "2023-05-06T10:54:17.168Z"
   },
   {
    "duration": 0,
    "start_time": "2023-05-06T10:54:17.305Z"
   },
   {
    "duration": 0,
    "start_time": "2023-05-06T10:54:17.307Z"
   },
   {
    "duration": 0,
    "start_time": "2023-05-06T10:54:17.308Z"
   },
   {
    "duration": 0,
    "start_time": "2023-05-06T10:54:17.310Z"
   },
   {
    "duration": 0,
    "start_time": "2023-05-06T10:54:17.311Z"
   },
   {
    "duration": 0,
    "start_time": "2023-05-06T10:54:17.312Z"
   },
   {
    "duration": 0,
    "start_time": "2023-05-06T10:54:17.314Z"
   },
   {
    "duration": 0,
    "start_time": "2023-05-06T10:54:17.316Z"
   },
   {
    "duration": 0,
    "start_time": "2023-05-06T10:54:17.317Z"
   },
   {
    "duration": 0,
    "start_time": "2023-05-06T10:54:17.318Z"
   },
   {
    "duration": 0,
    "start_time": "2023-05-06T10:54:17.319Z"
   },
   {
    "duration": 0,
    "start_time": "2023-05-06T10:54:17.349Z"
   },
   {
    "duration": 0,
    "start_time": "2023-05-06T10:54:17.350Z"
   },
   {
    "duration": 0,
    "start_time": "2023-05-06T10:54:17.351Z"
   },
   {
    "duration": 0,
    "start_time": "2023-05-06T10:54:17.353Z"
   },
   {
    "duration": 0,
    "start_time": "2023-05-06T10:54:17.354Z"
   },
   {
    "duration": 0,
    "start_time": "2023-05-06T10:54:17.355Z"
   },
   {
    "duration": 0,
    "start_time": "2023-05-06T10:54:17.357Z"
   },
   {
    "duration": 0,
    "start_time": "2023-05-06T10:54:17.358Z"
   },
   {
    "duration": 0,
    "start_time": "2023-05-06T10:54:17.360Z"
   },
   {
    "duration": 0,
    "start_time": "2023-05-06T10:54:17.361Z"
   },
   {
    "duration": 0,
    "start_time": "2023-05-06T10:54:17.363Z"
   },
   {
    "duration": 0,
    "start_time": "2023-05-06T10:54:17.364Z"
   },
   {
    "duration": 0,
    "start_time": "2023-05-06T10:54:17.366Z"
   },
   {
    "duration": 0,
    "start_time": "2023-05-06T10:54:17.366Z"
   },
   {
    "duration": 0,
    "start_time": "2023-05-06T10:54:17.368Z"
   },
   {
    "duration": 0,
    "start_time": "2023-05-06T10:54:17.369Z"
   },
   {
    "duration": 0,
    "start_time": "2023-05-06T10:54:17.370Z"
   },
   {
    "duration": 0,
    "start_time": "2023-05-06T10:54:17.372Z"
   },
   {
    "duration": 0,
    "start_time": "2023-05-06T10:54:17.374Z"
   },
   {
    "duration": 0,
    "start_time": "2023-05-06T10:54:17.375Z"
   },
   {
    "duration": 0,
    "start_time": "2023-05-06T10:54:17.376Z"
   },
   {
    "duration": 0,
    "start_time": "2023-05-06T10:54:17.378Z"
   },
   {
    "duration": 1,
    "start_time": "2023-05-06T10:54:17.379Z"
   },
   {
    "duration": 0,
    "start_time": "2023-05-06T10:54:17.381Z"
   },
   {
    "duration": 0,
    "start_time": "2023-05-06T10:54:17.382Z"
   },
   {
    "duration": 0,
    "start_time": "2023-05-06T10:54:17.383Z"
   },
   {
    "duration": 0,
    "start_time": "2023-05-06T10:54:17.384Z"
   },
   {
    "duration": 0,
    "start_time": "2023-05-06T10:54:17.385Z"
   },
   {
    "duration": 0,
    "start_time": "2023-05-06T10:54:17.386Z"
   },
   {
    "duration": 0,
    "start_time": "2023-05-06T10:54:17.449Z"
   },
   {
    "duration": 0,
    "start_time": "2023-05-06T10:54:17.451Z"
   },
   {
    "duration": 0,
    "start_time": "2023-05-06T10:54:17.452Z"
   },
   {
    "duration": 0,
    "start_time": "2023-05-06T10:54:17.453Z"
   },
   {
    "duration": 0,
    "start_time": "2023-05-06T10:54:17.454Z"
   },
   {
    "duration": 0,
    "start_time": "2023-05-06T10:54:17.455Z"
   },
   {
    "duration": 0,
    "start_time": "2023-05-06T10:54:17.456Z"
   },
   {
    "duration": 0,
    "start_time": "2023-05-06T10:54:17.457Z"
   },
   {
    "duration": 0,
    "start_time": "2023-05-06T10:54:17.458Z"
   },
   {
    "duration": 0,
    "start_time": "2023-05-06T10:54:17.459Z"
   },
   {
    "duration": 0,
    "start_time": "2023-05-06T10:54:17.459Z"
   },
   {
    "duration": 0,
    "start_time": "2023-05-06T10:54:17.460Z"
   },
   {
    "duration": 1,
    "start_time": "2023-05-06T10:54:17.460Z"
   },
   {
    "duration": 0,
    "start_time": "2023-05-06T10:54:17.461Z"
   },
   {
    "duration": 0,
    "start_time": "2023-05-06T10:54:17.462Z"
   },
   {
    "duration": 5,
    "start_time": "2023-05-06T10:54:53.380Z"
   },
   {
    "duration": 18,
    "start_time": "2023-05-06T10:57:29.552Z"
   },
   {
    "duration": 1094,
    "start_time": "2023-05-06T10:59:14.995Z"
   },
   {
    "duration": 4,
    "start_time": "2023-05-06T10:59:16.091Z"
   },
   {
    "duration": 202,
    "start_time": "2023-05-06T10:59:16.097Z"
   },
   {
    "duration": 15,
    "start_time": "2023-05-06T10:59:16.301Z"
   },
   {
    "duration": 88,
    "start_time": "2023-05-06T10:59:16.319Z"
   },
   {
    "duration": 2099,
    "start_time": "2023-05-06T10:59:16.409Z"
   },
   {
    "duration": 18,
    "start_time": "2023-05-06T10:59:18.509Z"
   },
   {
    "duration": 8,
    "start_time": "2023-05-06T10:59:18.529Z"
   },
   {
    "duration": 5,
    "start_time": "2023-05-06T10:59:18.538Z"
   },
   {
    "duration": 15,
    "start_time": "2023-05-06T10:59:18.544Z"
   },
   {
    "duration": 5,
    "start_time": "2023-05-06T10:59:18.561Z"
   },
   {
    "duration": 83,
    "start_time": "2023-05-06T10:59:18.567Z"
   },
   {
    "duration": 4,
    "start_time": "2023-05-06T10:59:18.651Z"
   },
   {
    "duration": 12,
    "start_time": "2023-05-06T10:59:18.657Z"
   },
   {
    "duration": 31,
    "start_time": "2023-05-06T10:59:18.671Z"
   },
   {
    "duration": 26,
    "start_time": "2023-05-06T10:59:18.703Z"
   },
   {
    "duration": 41,
    "start_time": "2023-05-06T10:59:18.731Z"
   },
   {
    "duration": 8,
    "start_time": "2023-05-06T10:59:18.773Z"
   },
   {
    "duration": 28,
    "start_time": "2023-05-06T10:59:18.783Z"
   },
   {
    "duration": 6,
    "start_time": "2023-05-06T10:59:18.812Z"
   },
   {
    "duration": 7,
    "start_time": "2023-05-06T10:59:18.820Z"
   },
   {
    "duration": 25,
    "start_time": "2023-05-06T10:59:18.828Z"
   },
   {
    "duration": 6,
    "start_time": "2023-05-06T10:59:18.855Z"
   },
   {
    "duration": 10,
    "start_time": "2023-05-06T10:59:18.863Z"
   },
   {
    "duration": 230,
    "start_time": "2023-05-06T10:59:18.875Z"
   },
   {
    "duration": 6,
    "start_time": "2023-05-06T10:59:19.106Z"
   },
   {
    "duration": 29,
    "start_time": "2023-05-06T10:59:19.113Z"
   },
   {
    "duration": 13,
    "start_time": "2023-05-06T10:59:19.143Z"
   },
   {
    "duration": 10,
    "start_time": "2023-05-06T10:59:19.157Z"
   },
   {
    "duration": 14,
    "start_time": "2023-05-06T10:59:19.169Z"
   },
   {
    "duration": 18,
    "start_time": "2023-05-06T10:59:19.185Z"
   },
   {
    "duration": 15,
    "start_time": "2023-05-06T10:59:19.205Z"
   },
   {
    "duration": 4,
    "start_time": "2023-05-06T10:59:19.222Z"
   },
   {
    "duration": 5,
    "start_time": "2023-05-06T10:59:19.228Z"
   },
   {
    "duration": 17,
    "start_time": "2023-05-06T10:59:19.235Z"
   },
   {
    "duration": 5,
    "start_time": "2023-05-06T10:59:19.254Z"
   },
   {
    "duration": 8,
    "start_time": "2023-05-06T10:59:19.261Z"
   },
   {
    "duration": 4,
    "start_time": "2023-05-06T10:59:19.270Z"
   },
   {
    "duration": 350,
    "start_time": "2023-05-06T10:59:19.275Z"
   },
   {
    "duration": 5,
    "start_time": "2023-05-06T10:59:19.626Z"
   },
   {
    "duration": 241,
    "start_time": "2023-05-06T10:59:19.637Z"
   },
   {
    "duration": 8,
    "start_time": "2023-05-06T10:59:19.880Z"
   },
   {
    "duration": 237,
    "start_time": "2023-05-06T10:59:19.889Z"
   },
   {
    "duration": 8,
    "start_time": "2023-05-06T10:59:20.127Z"
   },
   {
    "duration": 213,
    "start_time": "2023-05-06T10:59:20.136Z"
   },
   {
    "duration": 7,
    "start_time": "2023-05-06T10:59:20.351Z"
   },
   {
    "duration": 208,
    "start_time": "2023-05-06T10:59:20.360Z"
   },
   {
    "duration": 8,
    "start_time": "2023-05-06T10:59:20.570Z"
   },
   {
    "duration": 169,
    "start_time": "2023-05-06T10:59:20.579Z"
   },
   {
    "duration": 8,
    "start_time": "2023-05-06T10:59:20.750Z"
   },
   {
    "duration": 218,
    "start_time": "2023-05-06T10:59:20.759Z"
   },
   {
    "duration": 9,
    "start_time": "2023-05-06T10:59:20.979Z"
   },
   {
    "duration": 282,
    "start_time": "2023-05-06T10:59:20.990Z"
   },
   {
    "duration": 8,
    "start_time": "2023-05-06T10:59:21.274Z"
   },
   {
    "duration": 152,
    "start_time": "2023-05-06T10:59:21.284Z"
   },
   {
    "duration": 189,
    "start_time": "2023-05-06T10:59:21.437Z"
   },
   {
    "duration": 7,
    "start_time": "2023-05-06T10:59:21.628Z"
   },
   {
    "duration": 203,
    "start_time": "2023-05-06T10:59:21.636Z"
   },
   {
    "duration": 21,
    "start_time": "2023-05-06T10:59:21.840Z"
   },
   {
    "duration": 203,
    "start_time": "2023-05-06T10:59:21.862Z"
   },
   {
    "duration": 17,
    "start_time": "2023-05-06T10:59:22.067Z"
   },
   {
    "duration": 168,
    "start_time": "2023-05-06T10:59:22.086Z"
   },
   {
    "duration": 156,
    "start_time": "2023-05-06T10:59:22.256Z"
   },
   {
    "duration": 244,
    "start_time": "2023-05-06T10:59:22.414Z"
   },
   {
    "duration": 13,
    "start_time": "2023-05-06T10:59:22.659Z"
   },
   {
    "duration": 483,
    "start_time": "2023-05-06T10:59:22.674Z"
   },
   {
    "duration": 282,
    "start_time": "2023-05-06T10:59:23.158Z"
   },
   {
    "duration": 1319,
    "start_time": "2023-05-06T10:59:23.448Z"
   },
   {
    "duration": 379,
    "start_time": "2023-05-06T10:59:24.769Z"
   },
   {
    "duration": 220,
    "start_time": "2023-05-06T10:59:25.150Z"
   },
   {
    "duration": 263,
    "start_time": "2023-05-06T10:59:25.372Z"
   },
   {
    "duration": 194,
    "start_time": "2023-05-06T10:59:25.636Z"
   },
   {
    "duration": 175,
    "start_time": "2023-05-06T10:59:25.831Z"
   },
   {
    "duration": 194,
    "start_time": "2023-05-06T10:59:26.008Z"
   },
   {
    "duration": 177,
    "start_time": "2023-05-06T10:59:26.204Z"
   },
   {
    "duration": 117,
    "start_time": "2023-05-06T11:07:39.361Z"
   },
   {
    "duration": 12,
    "start_time": "2023-05-06T11:07:43.941Z"
   },
   {
    "duration": 10,
    "start_time": "2023-05-06T11:09:09.614Z"
   },
   {
    "duration": 279,
    "start_time": "2023-05-06T11:09:21.065Z"
   },
   {
    "duration": 1203,
    "start_time": "2023-05-06T11:09:30.711Z"
   },
   {
    "duration": 245,
    "start_time": "2023-05-06T11:09:42.113Z"
   },
   {
    "duration": 1283,
    "start_time": "2023-05-07T09:49:32.471Z"
   },
   {
    "duration": 3,
    "start_time": "2023-05-07T09:49:33.756Z"
   },
   {
    "duration": 347,
    "start_time": "2023-05-07T09:49:33.760Z"
   },
   {
    "duration": 29,
    "start_time": "2023-05-07T09:49:34.109Z"
   },
   {
    "duration": 82,
    "start_time": "2023-05-07T09:49:34.140Z"
   },
   {
    "duration": 2175,
    "start_time": "2023-05-07T09:49:34.234Z"
   },
   {
    "duration": 19,
    "start_time": "2023-05-07T09:49:36.411Z"
   },
   {
    "duration": 32,
    "start_time": "2023-05-07T09:49:36.431Z"
   },
   {
    "duration": 38,
    "start_time": "2023-05-07T09:49:36.464Z"
   },
   {
    "duration": 36,
    "start_time": "2023-05-07T09:49:36.505Z"
   },
   {
    "duration": 53,
    "start_time": "2023-05-07T09:49:36.543Z"
   },
   {
    "duration": 107,
    "start_time": "2023-05-07T09:49:36.598Z"
   },
   {
    "duration": 23,
    "start_time": "2023-05-07T09:49:36.707Z"
   },
   {
    "duration": 28,
    "start_time": "2023-05-07T09:49:36.732Z"
   },
   {
    "duration": 66,
    "start_time": "2023-05-07T09:49:36.762Z"
   },
   {
    "duration": 29,
    "start_time": "2023-05-07T09:49:36.830Z"
   },
   {
    "duration": 38,
    "start_time": "2023-05-07T09:49:36.860Z"
   },
   {
    "duration": 18,
    "start_time": "2023-05-07T09:49:36.900Z"
   },
   {
    "duration": 21,
    "start_time": "2023-05-07T09:49:36.919Z"
   },
   {
    "duration": 19,
    "start_time": "2023-05-07T09:49:36.941Z"
   },
   {
    "duration": 14,
    "start_time": "2023-05-07T09:49:36.961Z"
   },
   {
    "duration": 37,
    "start_time": "2023-05-07T09:49:36.976Z"
   },
   {
    "duration": 22,
    "start_time": "2023-05-07T09:49:37.014Z"
   },
   {
    "duration": 30,
    "start_time": "2023-05-07T09:49:37.037Z"
   },
   {
    "duration": 199,
    "start_time": "2023-05-07T09:49:37.068Z"
   },
   {
    "duration": 6,
    "start_time": "2023-05-07T09:49:37.269Z"
   },
   {
    "duration": 6,
    "start_time": "2023-05-07T09:49:37.277Z"
   },
   {
    "duration": 13,
    "start_time": "2023-05-07T09:49:37.286Z"
   },
   {
    "duration": 6,
    "start_time": "2023-05-07T09:49:37.301Z"
   },
   {
    "duration": 7,
    "start_time": "2023-05-07T09:49:37.308Z"
   },
   {
    "duration": 9,
    "start_time": "2023-05-07T09:49:37.334Z"
   },
   {
    "duration": 15,
    "start_time": "2023-05-07T09:49:37.345Z"
   },
   {
    "duration": 4,
    "start_time": "2023-05-07T09:49:37.361Z"
   },
   {
    "duration": 17,
    "start_time": "2023-05-07T09:49:37.367Z"
   },
   {
    "duration": 10,
    "start_time": "2023-05-07T09:49:37.386Z"
   },
   {
    "duration": 5,
    "start_time": "2023-05-07T09:49:37.398Z"
   },
   {
    "duration": 9,
    "start_time": "2023-05-07T09:49:37.404Z"
   },
   {
    "duration": 19,
    "start_time": "2023-05-07T09:49:37.414Z"
   },
   {
    "duration": 316,
    "start_time": "2023-05-07T09:49:37.435Z"
   },
   {
    "duration": 5,
    "start_time": "2023-05-07T09:49:37.753Z"
   },
   {
    "duration": 267,
    "start_time": "2023-05-07T09:49:37.759Z"
   },
   {
    "duration": 13,
    "start_time": "2023-05-07T09:49:38.028Z"
   },
   {
    "duration": 267,
    "start_time": "2023-05-07T09:49:38.043Z"
   },
   {
    "duration": 7,
    "start_time": "2023-05-07T09:49:38.312Z"
   },
   {
    "duration": 224,
    "start_time": "2023-05-07T09:49:38.333Z"
   },
   {
    "duration": 7,
    "start_time": "2023-05-07T09:49:38.559Z"
   },
   {
    "duration": 210,
    "start_time": "2023-05-07T09:49:38.568Z"
   },
   {
    "duration": 8,
    "start_time": "2023-05-07T09:49:38.780Z"
   },
   {
    "duration": 168,
    "start_time": "2023-05-07T09:49:38.789Z"
   },
   {
    "duration": 8,
    "start_time": "2023-05-07T09:49:38.959Z"
   },
   {
    "duration": 225,
    "start_time": "2023-05-07T09:49:38.969Z"
   },
   {
    "duration": 9,
    "start_time": "2023-05-07T09:49:39.195Z"
   },
   {
    "duration": 285,
    "start_time": "2023-05-07T09:49:39.205Z"
   },
   {
    "duration": 8,
    "start_time": "2023-05-07T09:49:39.491Z"
   },
   {
    "duration": 136,
    "start_time": "2023-05-07T09:49:39.501Z"
   },
   {
    "duration": 196,
    "start_time": "2023-05-07T09:49:39.639Z"
   },
   {
    "duration": 7,
    "start_time": "2023-05-07T09:49:39.837Z"
   },
   {
    "duration": 209,
    "start_time": "2023-05-07T09:49:39.845Z"
   },
   {
    "duration": 16,
    "start_time": "2023-05-07T09:49:40.056Z"
   },
   {
    "duration": 233,
    "start_time": "2023-05-07T09:49:40.074Z"
   },
   {
    "duration": 12,
    "start_time": "2023-05-07T09:49:40.309Z"
   },
   {
    "duration": 159,
    "start_time": "2023-05-07T09:49:40.323Z"
   },
   {
    "duration": 160,
    "start_time": "2023-05-07T09:49:40.484Z"
   },
   {
    "duration": 253,
    "start_time": "2023-05-07T09:49:40.646Z"
   },
   {
    "duration": 12,
    "start_time": "2023-05-07T09:49:40.900Z"
   },
   {
    "duration": 570,
    "start_time": "2023-05-07T09:49:40.913Z"
   },
   {
    "duration": 316,
    "start_time": "2023-05-07T09:49:41.484Z"
   },
   {
    "duration": 1322,
    "start_time": "2023-05-07T09:49:41.801Z"
   },
   {
    "duration": 412,
    "start_time": "2023-05-07T09:49:43.126Z"
   },
   {
    "duration": 205,
    "start_time": "2023-05-07T09:49:43.539Z"
   },
   {
    "duration": 309,
    "start_time": "2023-05-07T09:49:43.746Z"
   },
   {
    "duration": 207,
    "start_time": "2023-05-07T09:49:44.057Z"
   },
   {
    "duration": 177,
    "start_time": "2023-05-07T09:49:44.266Z"
   },
   {
    "duration": 202,
    "start_time": "2023-05-07T09:49:44.445Z"
   },
   {
    "duration": 162,
    "start_time": "2023-05-07T09:49:44.649Z"
   },
   {
    "duration": 14,
    "start_time": "2023-05-07T09:51:09.021Z"
   },
   {
    "duration": 1104,
    "start_time": "2023-05-07T09:56:34.557Z"
   },
   {
    "duration": 5,
    "start_time": "2023-05-07T09:56:35.663Z"
   },
   {
    "duration": 470,
    "start_time": "2023-05-07T09:56:35.669Z"
   },
   {
    "duration": 14,
    "start_time": "2023-05-07T09:56:36.141Z"
   },
   {
    "duration": 78,
    "start_time": "2023-05-07T09:56:36.157Z"
   },
   {
    "duration": 2253,
    "start_time": "2023-05-07T09:56:36.236Z"
   },
   {
    "duration": 21,
    "start_time": "2023-05-07T09:56:38.491Z"
   },
   {
    "duration": 12,
    "start_time": "2023-05-07T09:56:38.513Z"
   },
   {
    "duration": 7,
    "start_time": "2023-05-07T09:56:38.527Z"
   },
   {
    "duration": 3,
    "start_time": "2023-05-07T09:56:38.535Z"
   },
   {
    "duration": 6,
    "start_time": "2023-05-07T09:56:38.540Z"
   },
   {
    "duration": 107,
    "start_time": "2023-05-07T09:56:38.547Z"
   },
   {
    "duration": 4,
    "start_time": "2023-05-07T09:56:38.656Z"
   },
   {
    "duration": 13,
    "start_time": "2023-05-07T09:56:38.662Z"
   },
   {
    "duration": 29,
    "start_time": "2023-05-07T09:56:38.677Z"
   },
   {
    "duration": 54,
    "start_time": "2023-05-07T09:56:38.708Z"
   },
   {
    "duration": 31,
    "start_time": "2023-05-07T09:56:38.764Z"
   },
   {
    "duration": 8,
    "start_time": "2023-05-07T09:56:38.797Z"
   },
   {
    "duration": 39,
    "start_time": "2023-05-07T09:56:38.806Z"
   },
   {
    "duration": 7,
    "start_time": "2023-05-07T09:56:38.846Z"
   },
   {
    "duration": 7,
    "start_time": "2023-05-07T09:56:38.854Z"
   },
   {
    "duration": 16,
    "start_time": "2023-05-07T09:56:38.862Z"
   },
   {
    "duration": 7,
    "start_time": "2023-05-07T09:56:38.880Z"
   },
   {
    "duration": 6,
    "start_time": "2023-05-07T09:56:38.888Z"
   },
   {
    "duration": 224,
    "start_time": "2023-05-07T09:56:38.895Z"
   },
   {
    "duration": 6,
    "start_time": "2023-05-07T09:56:39.121Z"
   },
   {
    "duration": 5,
    "start_time": "2023-05-07T09:56:39.133Z"
   },
   {
    "duration": 17,
    "start_time": "2023-05-07T09:56:39.139Z"
   },
   {
    "duration": 5,
    "start_time": "2023-05-07T09:56:39.157Z"
   },
   {
    "duration": 16,
    "start_time": "2023-05-07T09:56:39.164Z"
   },
   {
    "duration": 10,
    "start_time": "2023-05-07T09:56:39.182Z"
   },
   {
    "duration": 16,
    "start_time": "2023-05-07T09:56:39.194Z"
   },
   {
    "duration": 25,
    "start_time": "2023-05-07T09:56:39.211Z"
   },
   {
    "duration": 12,
    "start_time": "2023-05-07T09:56:39.237Z"
   },
   {
    "duration": 15,
    "start_time": "2023-05-07T09:56:39.250Z"
   },
   {
    "duration": 20,
    "start_time": "2023-05-07T09:56:39.267Z"
   },
   {
    "duration": 8,
    "start_time": "2023-05-07T09:56:39.289Z"
   },
   {
    "duration": 11,
    "start_time": "2023-05-07T09:56:39.298Z"
   },
   {
    "duration": 326,
    "start_time": "2023-05-07T09:56:39.311Z"
   },
   {
    "duration": 4,
    "start_time": "2023-05-07T09:56:39.639Z"
   },
   {
    "duration": 18,
    "start_time": "2023-05-07T09:56:39.648Z"
   },
   {
    "duration": 244,
    "start_time": "2023-05-07T09:56:39.668Z"
   },
   {
    "duration": 8,
    "start_time": "2023-05-07T09:56:39.914Z"
   },
   {
    "duration": 243,
    "start_time": "2023-05-07T09:56:39.933Z"
   },
   {
    "duration": 8,
    "start_time": "2023-05-07T09:56:40.178Z"
   },
   {
    "duration": 237,
    "start_time": "2023-05-07T09:56:40.187Z"
   },
   {
    "duration": 9,
    "start_time": "2023-05-07T09:56:40.425Z"
   },
   {
    "duration": 240,
    "start_time": "2023-05-07T09:56:40.435Z"
   },
   {
    "duration": 8,
    "start_time": "2023-05-07T09:56:40.676Z"
   },
   {
    "duration": 172,
    "start_time": "2023-05-07T09:56:40.686Z"
   },
   {
    "duration": 7,
    "start_time": "2023-05-07T09:56:40.860Z"
   },
   {
    "duration": 218,
    "start_time": "2023-05-07T09:56:40.869Z"
   },
   {
    "duration": 9,
    "start_time": "2023-05-07T09:56:41.088Z"
   },
   {
    "duration": 334,
    "start_time": "2023-05-07T09:56:41.099Z"
   },
   {
    "duration": 8,
    "start_time": "2023-05-07T09:56:41.435Z"
   },
   {
    "duration": 135,
    "start_time": "2023-05-07T09:56:41.445Z"
   },
   {
    "duration": 212,
    "start_time": "2023-05-07T09:56:41.582Z"
   },
   {
    "duration": 8,
    "start_time": "2023-05-07T09:56:41.796Z"
   },
   {
    "duration": 223,
    "start_time": "2023-05-07T09:56:41.806Z"
   },
   {
    "duration": 17,
    "start_time": "2023-05-07T09:56:42.030Z"
   },
   {
    "duration": 242,
    "start_time": "2023-05-07T09:56:42.049Z"
   },
   {
    "duration": 15,
    "start_time": "2023-05-07T09:56:42.293Z"
   },
   {
    "duration": 182,
    "start_time": "2023-05-07T09:56:42.310Z"
   },
   {
    "duration": 175,
    "start_time": "2023-05-07T09:56:42.494Z"
   },
   {
    "duration": 47,
    "start_time": "2023-05-07T09:57:01.382Z"
   },
   {
    "duration": 1146,
    "start_time": "2023-05-07T09:57:12.590Z"
   },
   {
    "duration": 4,
    "start_time": "2023-05-07T09:57:13.738Z"
   },
   {
    "duration": 153,
    "start_time": "2023-05-07T09:57:13.743Z"
   },
   {
    "duration": 13,
    "start_time": "2023-05-07T09:57:13.898Z"
   },
   {
    "duration": 67,
    "start_time": "2023-05-07T09:57:13.913Z"
   },
   {
    "duration": 2317,
    "start_time": "2023-05-07T09:57:13.981Z"
   },
   {
    "duration": 22,
    "start_time": "2023-05-07T09:57:16.300Z"
   },
   {
    "duration": 17,
    "start_time": "2023-05-07T09:57:16.324Z"
   },
   {
    "duration": 6,
    "start_time": "2023-05-07T09:57:16.343Z"
   },
   {
    "duration": 7,
    "start_time": "2023-05-07T09:57:16.351Z"
   },
   {
    "duration": 10,
    "start_time": "2023-05-07T09:57:16.360Z"
   },
   {
    "duration": 126,
    "start_time": "2023-05-07T09:57:16.373Z"
   },
   {
    "duration": 5,
    "start_time": "2023-05-07T09:57:16.501Z"
   },
   {
    "duration": 29,
    "start_time": "2023-05-07T09:57:16.510Z"
   },
   {
    "duration": 33,
    "start_time": "2023-05-07T09:57:16.541Z"
   },
   {
    "duration": 35,
    "start_time": "2023-05-07T09:57:16.576Z"
   },
   {
    "duration": 59,
    "start_time": "2023-05-07T09:57:16.613Z"
   },
   {
    "duration": 11,
    "start_time": "2023-05-07T09:57:16.674Z"
   },
   {
    "duration": 33,
    "start_time": "2023-05-07T09:57:16.687Z"
   },
   {
    "duration": 11,
    "start_time": "2023-05-07T09:57:16.735Z"
   },
   {
    "duration": 19,
    "start_time": "2023-05-07T09:57:16.748Z"
   },
   {
    "duration": 37,
    "start_time": "2023-05-07T09:57:16.770Z"
   },
   {
    "duration": 14,
    "start_time": "2023-05-07T09:57:16.810Z"
   },
   {
    "duration": 10,
    "start_time": "2023-05-07T09:57:16.833Z"
   },
   {
    "duration": 249,
    "start_time": "2023-05-07T09:57:16.846Z"
   },
   {
    "duration": 8,
    "start_time": "2023-05-07T09:57:17.097Z"
   },
   {
    "duration": 26,
    "start_time": "2023-05-07T09:57:17.106Z"
   },
   {
    "duration": 42,
    "start_time": "2023-05-07T09:57:17.134Z"
   },
   {
    "duration": 7,
    "start_time": "2023-05-07T09:57:17.178Z"
   },
   {
    "duration": 7,
    "start_time": "2023-05-07T09:57:17.187Z"
   },
   {
    "duration": 11,
    "start_time": "2023-05-07T09:57:17.196Z"
   },
   {
    "duration": 27,
    "start_time": "2023-05-07T09:57:17.209Z"
   },
   {
    "duration": 4,
    "start_time": "2023-05-07T09:57:17.238Z"
   },
   {
    "duration": 12,
    "start_time": "2023-05-07T09:57:17.244Z"
   },
   {
    "duration": 10,
    "start_time": "2023-05-07T09:57:17.258Z"
   },
   {
    "duration": 6,
    "start_time": "2023-05-07T09:57:17.270Z"
   },
   {
    "duration": 6,
    "start_time": "2023-05-07T09:57:17.278Z"
   },
   {
    "duration": 6,
    "start_time": "2023-05-07T09:57:17.285Z"
   },
   {
    "duration": 387,
    "start_time": "2023-05-07T09:57:17.293Z"
   },
   {
    "duration": 4,
    "start_time": "2023-05-07T09:57:17.682Z"
   },
   {
    "duration": 20,
    "start_time": "2023-05-07T09:57:17.691Z"
   },
   {
    "duration": 256,
    "start_time": "2023-05-07T09:57:17.713Z"
   },
   {
    "duration": 10,
    "start_time": "2023-05-07T09:57:17.971Z"
   },
   {
    "duration": 292,
    "start_time": "2023-05-07T09:57:17.982Z"
   },
   {
    "duration": 9,
    "start_time": "2023-05-07T09:57:18.276Z"
   },
   {
    "duration": 257,
    "start_time": "2023-05-07T09:57:18.287Z"
   },
   {
    "duration": 9,
    "start_time": "2023-05-07T09:57:18.546Z"
   },
   {
    "duration": 250,
    "start_time": "2023-05-07T09:57:18.556Z"
   },
   {
    "duration": 9,
    "start_time": "2023-05-07T09:57:18.808Z"
   },
   {
    "duration": 201,
    "start_time": "2023-05-07T09:57:18.819Z"
   },
   {
    "duration": 14,
    "start_time": "2023-05-07T09:57:19.022Z"
   },
   {
    "duration": 265,
    "start_time": "2023-05-07T09:57:19.038Z"
   },
   {
    "duration": 10,
    "start_time": "2023-05-07T09:57:19.304Z"
   },
   {
    "duration": 344,
    "start_time": "2023-05-07T09:57:19.315Z"
   },
   {
    "duration": 9,
    "start_time": "2023-05-07T09:57:19.661Z"
   },
   {
    "duration": 166,
    "start_time": "2023-05-07T09:57:19.671Z"
   },
   {
    "duration": 226,
    "start_time": "2023-05-07T09:57:19.839Z"
   },
   {
    "duration": 9,
    "start_time": "2023-05-07T09:57:20.067Z"
   },
   {
    "duration": 252,
    "start_time": "2023-05-07T09:57:20.078Z"
   },
   {
    "duration": 16,
    "start_time": "2023-05-07T09:57:20.334Z"
   },
   {
    "duration": 262,
    "start_time": "2023-05-07T09:57:20.352Z"
   },
   {
    "duration": 20,
    "start_time": "2023-05-07T09:57:20.616Z"
   },
   {
    "duration": 186,
    "start_time": "2023-05-07T09:57:20.639Z"
   },
   {
    "duration": 192,
    "start_time": "2023-05-07T09:57:20.827Z"
   },
   {
    "duration": 340,
    "start_time": "2023-05-07T09:57:21.021Z"
   },
   {
    "duration": 20,
    "start_time": "2023-05-07T09:57:21.363Z"
   },
   {
    "duration": 616,
    "start_time": "2023-05-07T09:57:21.384Z"
   },
   {
    "duration": 366,
    "start_time": "2023-05-07T09:57:22.002Z"
   },
   {
    "duration": 1559,
    "start_time": "2023-05-07T09:57:22.370Z"
   },
   {
    "duration": 408,
    "start_time": "2023-05-07T09:57:23.930Z"
   },
   {
    "duration": 231,
    "start_time": "2023-05-07T09:57:24.340Z"
   },
   {
    "duration": 356,
    "start_time": "2023-05-07T09:57:24.574Z"
   },
   {
    "duration": 231,
    "start_time": "2023-05-07T09:57:24.933Z"
   },
   {
    "duration": 207,
    "start_time": "2023-05-07T09:57:25.166Z"
   },
   {
    "duration": 227,
    "start_time": "2023-05-07T09:57:25.375Z"
   },
   {
    "duration": 187,
    "start_time": "2023-05-07T09:57:25.604Z"
   },
   {
    "duration": 283,
    "start_time": "2023-05-07T09:58:27.022Z"
   },
   {
    "duration": 309,
    "start_time": "2023-05-07T09:58:52.637Z"
   },
   {
    "duration": 272,
    "start_time": "2023-05-07T09:59:50.699Z"
   },
   {
    "duration": 254,
    "start_time": "2023-05-07T09:59:59.509Z"
   },
   {
    "duration": 618,
    "start_time": "2023-05-07T10:00:06.548Z"
   },
   {
    "duration": 331,
    "start_time": "2023-05-07T10:00:16.474Z"
   },
   {
    "duration": 306,
    "start_time": "2023-05-07T10:02:55.831Z"
   },
   {
    "duration": 281,
    "start_time": "2023-05-07T10:05:03.510Z"
   },
   {
    "duration": 274,
    "start_time": "2023-05-07T10:05:07.356Z"
   },
   {
    "duration": 422,
    "start_time": "2023-05-07T10:05:12.556Z"
   },
   {
    "duration": 295,
    "start_time": "2023-05-07T10:05:20.018Z"
   },
   {
    "duration": 514,
    "start_time": "2023-05-07T10:05:32.887Z"
   },
   {
    "duration": 265,
    "start_time": "2023-05-07T10:05:48.050Z"
   },
   {
    "duration": 260,
    "start_time": "2023-05-07T10:05:55.413Z"
   },
   {
    "duration": 262,
    "start_time": "2023-05-07T10:06:07.886Z"
   },
   {
    "duration": 251,
    "start_time": "2023-05-07T10:06:13.586Z"
   },
   {
    "duration": 443,
    "start_time": "2023-05-07T10:06:17.604Z"
   },
   {
    "duration": 299,
    "start_time": "2023-05-07T10:06:21.896Z"
   },
   {
    "duration": 249,
    "start_time": "2023-05-07T10:06:25.711Z"
   },
   {
    "duration": 270,
    "start_time": "2023-05-07T10:06:32.432Z"
   },
   {
    "duration": 279,
    "start_time": "2023-05-07T10:06:47.792Z"
   },
   {
    "duration": 38,
    "start_time": "2023-05-07T10:09:48.017Z"
   },
   {
    "duration": 314,
    "start_time": "2023-05-07T10:09:52.703Z"
   },
   {
    "duration": 473,
    "start_time": "2023-05-07T10:10:01.371Z"
   },
   {
    "duration": 298,
    "start_time": "2023-05-07T10:10:04.479Z"
   },
   {
    "duration": 300,
    "start_time": "2023-05-07T10:10:08.617Z"
   },
   {
    "duration": 510,
    "start_time": "2023-05-07T10:10:15.625Z"
   },
   {
    "duration": 730,
    "start_time": "2023-05-07T10:10:27.917Z"
   },
   {
    "duration": 315,
    "start_time": "2023-05-07T10:10:34.652Z"
   },
   {
    "duration": 400,
    "start_time": "2023-05-07T10:10:38.725Z"
   },
   {
    "duration": 259,
    "start_time": "2023-05-07T10:10:46.857Z"
   },
   {
    "duration": 273,
    "start_time": "2023-05-07T10:10:53.587Z"
   },
   {
    "duration": 466,
    "start_time": "2023-05-07T10:10:59.176Z"
   },
   {
    "duration": 299,
    "start_time": "2023-05-07T10:11:07.073Z"
   },
   {
    "duration": 328,
    "start_time": "2023-05-07T10:11:53.009Z"
   },
   {
    "duration": 261,
    "start_time": "2023-05-07T10:11:58.658Z"
   },
   {
    "duration": 263,
    "start_time": "2023-05-07T10:12:01.873Z"
   },
   {
    "duration": 416,
    "start_time": "2023-05-07T10:12:07.674Z"
   },
   {
    "duration": 264,
    "start_time": "2023-05-07T10:12:10.815Z"
   },
   {
    "duration": 274,
    "start_time": "2023-05-07T10:12:14.348Z"
   },
   {
    "duration": 265,
    "start_time": "2023-05-07T10:12:17.574Z"
   },
   {
    "duration": 259,
    "start_time": "2023-05-07T10:12:21.054Z"
   },
   {
    "duration": 260,
    "start_time": "2023-05-07T10:12:25.048Z"
   },
   {
    "duration": 416,
    "start_time": "2023-05-07T10:12:59.697Z"
   },
   {
    "duration": 271,
    "start_time": "2023-05-07T10:13:04.715Z"
   },
   {
    "duration": 264,
    "start_time": "2023-05-07T10:13:51.184Z"
   },
   {
    "duration": 265,
    "start_time": "2023-05-07T10:13:56.977Z"
   },
   {
    "duration": 290,
    "start_time": "2023-05-07T10:14:03.137Z"
   },
   {
    "duration": 346,
    "start_time": "2023-05-07T10:14:13.281Z"
   },
   {
    "duration": 407,
    "start_time": "2023-05-07T10:14:20.034Z"
   },
   {
    "duration": 305,
    "start_time": "2023-05-07T10:14:34.821Z"
   },
   {
    "duration": 300,
    "start_time": "2023-05-07T10:14:47.938Z"
   },
   {
    "duration": 328,
    "start_time": "2023-05-07T10:14:55.985Z"
   },
   {
    "duration": 392,
    "start_time": "2023-05-07T10:15:06.434Z"
   },
   {
    "duration": 20,
    "start_time": "2023-05-07T10:17:39.008Z"
   },
   {
    "duration": 204,
    "start_time": "2023-05-07T10:17:48.477Z"
   },
   {
    "duration": 17,
    "start_time": "2023-05-07T10:18:06.966Z"
   },
   {
    "duration": 221,
    "start_time": "2023-05-07T10:18:30.861Z"
   },
   {
    "duration": 210,
    "start_time": "2023-05-07T10:18:44.513Z"
   },
   {
    "duration": 220,
    "start_time": "2023-05-07T10:18:49.537Z"
   },
   {
    "duration": 152,
    "start_time": "2023-05-07T10:19:30.747Z"
   },
   {
    "duration": 5,
    "start_time": "2023-05-07T10:19:35.866Z"
   },
   {
    "duration": 17,
    "start_time": "2023-05-07T10:20:12.890Z"
   },
   {
    "duration": 285,
    "start_time": "2023-05-07T10:20:16.464Z"
   },
   {
    "duration": 173,
    "start_time": "2023-05-07T10:20:39.538Z"
   },
   {
    "duration": 191,
    "start_time": "2023-05-07T10:21:23.963Z"
   },
   {
    "duration": 179,
    "start_time": "2023-05-07T10:21:44.054Z"
   },
   {
    "duration": 160,
    "start_time": "2023-05-07T10:21:58.822Z"
   },
   {
    "duration": 186,
    "start_time": "2023-05-07T10:22:04.097Z"
   },
   {
    "duration": 183,
    "start_time": "2023-05-07T10:22:27.621Z"
   },
   {
    "duration": 181,
    "start_time": "2023-05-07T10:22:45.385Z"
   },
   {
    "duration": 151,
    "start_time": "2023-05-07T10:22:57.129Z"
   },
   {
    "duration": 214,
    "start_time": "2023-05-07T10:23:07.134Z"
   },
   {
    "duration": 200,
    "start_time": "2023-05-07T10:23:14.882Z"
   },
   {
    "duration": 226,
    "start_time": "2023-05-07T10:23:30.390Z"
   },
   {
    "duration": 173,
    "start_time": "2023-05-07T10:25:08.519Z"
   },
   {
    "duration": 9,
    "start_time": "2023-05-07T10:28:52.728Z"
   },
   {
    "duration": 440,
    "start_time": "2023-05-07T10:28:55.639Z"
   },
   {
    "duration": 19,
    "start_time": "2023-05-07T10:28:56.732Z"
   },
   {
    "duration": 1766,
    "start_time": "2023-05-07T10:29:43.534Z"
   },
   {
    "duration": 714,
    "start_time": "2023-05-07T10:29:55.931Z"
   },
   {
    "duration": 5,
    "start_time": "2023-05-07T10:30:08.629Z"
   },
   {
    "duration": 17,
    "start_time": "2023-05-07T10:30:24.543Z"
   },
   {
    "duration": 4,
    "start_time": "2023-05-07T10:31:22.379Z"
   },
   {
    "duration": 57,
    "start_time": "2023-05-07T10:32:11.484Z"
   },
   {
    "duration": 4,
    "start_time": "2023-05-07T10:32:15.199Z"
   },
   {
    "duration": 3,
    "start_time": "2023-05-07T10:32:21.187Z"
   },
   {
    "duration": 50,
    "start_time": "2023-05-07T10:32:26.252Z"
   },
   {
    "duration": 53,
    "start_time": "2023-05-07T10:32:33.243Z"
   },
   {
    "duration": 4,
    "start_time": "2023-05-07T10:32:43.956Z"
   },
   {
    "duration": 4,
    "start_time": "2023-05-07T10:33:01.546Z"
   },
   {
    "duration": 24,
    "start_time": "2023-05-07T10:33:14.386Z"
   },
   {
    "duration": 16,
    "start_time": "2023-05-07T10:33:18.996Z"
   },
   {
    "duration": 1208,
    "start_time": "2023-05-07T10:33:43.503Z"
   },
   {
    "duration": 4,
    "start_time": "2023-05-07T10:33:44.714Z"
   },
   {
    "duration": 240,
    "start_time": "2023-05-07T10:33:44.720Z"
   },
   {
    "duration": 16,
    "start_time": "2023-05-07T10:33:44.962Z"
   },
   {
    "duration": 80,
    "start_time": "2023-05-07T10:33:44.981Z"
   },
   {
    "duration": 2246,
    "start_time": "2023-05-07T10:33:45.063Z"
   },
   {
    "duration": 18,
    "start_time": "2023-05-07T10:33:47.311Z"
   },
   {
    "duration": 11,
    "start_time": "2023-05-07T10:33:47.331Z"
   },
   {
    "duration": 5,
    "start_time": "2023-05-07T10:33:47.344Z"
   },
   {
    "duration": 6,
    "start_time": "2023-05-07T10:33:47.350Z"
   },
   {
    "duration": 5,
    "start_time": "2023-05-07T10:33:47.357Z"
   },
   {
    "duration": 100,
    "start_time": "2023-05-07T10:33:47.363Z"
   },
   {
    "duration": 3,
    "start_time": "2023-05-07T10:33:47.465Z"
   },
   {
    "duration": 48,
    "start_time": "2023-05-07T10:33:47.471Z"
   },
   {
    "duration": 28,
    "start_time": "2023-05-07T10:33:47.521Z"
   },
   {
    "duration": 29,
    "start_time": "2023-05-07T10:33:47.550Z"
   },
   {
    "duration": 30,
    "start_time": "2023-05-07T10:33:47.581Z"
   },
   {
    "duration": 24,
    "start_time": "2023-05-07T10:33:47.613Z"
   },
   {
    "duration": 16,
    "start_time": "2023-05-07T10:33:47.638Z"
   },
   {
    "duration": 7,
    "start_time": "2023-05-07T10:33:47.655Z"
   },
   {
    "duration": 20,
    "start_time": "2023-05-07T10:33:47.664Z"
   },
   {
    "duration": 17,
    "start_time": "2023-05-07T10:33:47.686Z"
   },
   {
    "duration": 7,
    "start_time": "2023-05-07T10:33:47.705Z"
   },
   {
    "duration": 20,
    "start_time": "2023-05-07T10:33:47.714Z"
   },
   {
    "duration": 199,
    "start_time": "2023-05-07T10:33:47.736Z"
   },
   {
    "duration": 7,
    "start_time": "2023-05-07T10:33:47.936Z"
   },
   {
    "duration": 32,
    "start_time": "2023-05-07T10:33:47.944Z"
   },
   {
    "duration": 18,
    "start_time": "2023-05-07T10:33:47.978Z"
   },
   {
    "duration": 12,
    "start_time": "2023-05-07T10:33:47.998Z"
   },
   {
    "duration": 8,
    "start_time": "2023-05-07T10:33:48.013Z"
   },
   {
    "duration": 46,
    "start_time": "2023-05-07T10:33:48.022Z"
   },
   {
    "duration": 16,
    "start_time": "2023-05-07T10:33:48.070Z"
   },
   {
    "duration": 5,
    "start_time": "2023-05-07T10:33:48.087Z"
   },
   {
    "duration": 8,
    "start_time": "2023-05-07T10:33:48.093Z"
   },
   {
    "duration": 13,
    "start_time": "2023-05-07T10:33:48.102Z"
   },
   {
    "duration": 6,
    "start_time": "2023-05-07T10:33:48.117Z"
   },
   {
    "duration": 11,
    "start_time": "2023-05-07T10:33:48.124Z"
   },
   {
    "duration": 106,
    "start_time": "2023-05-07T10:33:48.137Z"
   },
   {
    "duration": 335,
    "start_time": "2023-05-07T10:33:48.246Z"
   },
   {
    "duration": 5,
    "start_time": "2023-05-07T10:33:48.582Z"
   },
   {
    "duration": 18,
    "start_time": "2023-05-07T10:33:48.590Z"
   },
   {
    "duration": 226,
    "start_time": "2023-05-07T10:33:48.609Z"
   },
   {
    "duration": 9,
    "start_time": "2023-05-07T10:33:48.836Z"
   },
   {
    "duration": 263,
    "start_time": "2023-05-07T10:33:48.847Z"
   },
   {
    "duration": 8,
    "start_time": "2023-05-07T10:33:49.112Z"
   },
   {
    "duration": 222,
    "start_time": "2023-05-07T10:33:49.121Z"
   },
   {
    "duration": 8,
    "start_time": "2023-05-07T10:33:49.344Z"
   },
   {
    "duration": 220,
    "start_time": "2023-05-07T10:33:49.353Z"
   },
   {
    "duration": 9,
    "start_time": "2023-05-07T10:33:49.574Z"
   },
   {
    "duration": 173,
    "start_time": "2023-05-07T10:33:49.585Z"
   },
   {
    "duration": 8,
    "start_time": "2023-05-07T10:33:49.759Z"
   },
   {
    "duration": 216,
    "start_time": "2023-05-07T10:33:49.769Z"
   },
   {
    "duration": 9,
    "start_time": "2023-05-07T10:33:49.986Z"
   },
   {
    "duration": 324,
    "start_time": "2023-05-07T10:33:49.997Z"
   },
   {
    "duration": 15,
    "start_time": "2023-05-07T10:33:50.323Z"
   },
   {
    "duration": 132,
    "start_time": "2023-05-07T10:33:50.340Z"
   },
   {
    "duration": 209,
    "start_time": "2023-05-07T10:33:50.474Z"
   },
   {
    "duration": 9,
    "start_time": "2023-05-07T10:33:50.684Z"
   },
   {
    "duration": 220,
    "start_time": "2023-05-07T10:33:50.695Z"
   },
   {
    "duration": 22,
    "start_time": "2023-05-07T10:33:50.917Z"
   },
   {
    "duration": 229,
    "start_time": "2023-05-07T10:33:50.941Z"
   },
   {
    "duration": 13,
    "start_time": "2023-05-07T10:33:51.171Z"
   },
   {
    "duration": 171,
    "start_time": "2023-05-07T10:33:51.186Z"
   },
   {
    "duration": 172,
    "start_time": "2023-05-07T10:33:51.359Z"
   },
   {
    "duration": 279,
    "start_time": "2023-05-07T10:33:51.532Z"
   },
   {
    "duration": 22,
    "start_time": "2023-05-07T10:33:51.813Z"
   },
   {
    "duration": 533,
    "start_time": "2023-05-07T10:33:51.836Z"
   },
   {
    "duration": 328,
    "start_time": "2023-05-07T10:33:52.371Z"
   },
   {
    "duration": 1329,
    "start_time": "2023-05-07T10:33:52.700Z"
   },
   {
    "duration": 388,
    "start_time": "2023-05-07T10:33:54.032Z"
   },
   {
    "duration": 211,
    "start_time": "2023-05-07T10:33:54.422Z"
   },
   {
    "duration": 300,
    "start_time": "2023-05-07T10:33:54.635Z"
   },
   {
    "duration": 201,
    "start_time": "2023-05-07T10:33:54.937Z"
   },
   {
    "duration": 192,
    "start_time": "2023-05-07T10:33:55.140Z"
   },
   {
    "duration": 192,
    "start_time": "2023-05-07T10:33:55.334Z"
   },
   {
    "duration": 206,
    "start_time": "2023-05-07T10:33:55.527Z"
   },
   {
    "duration": 206,
    "start_time": "2023-05-07T10:33:55.735Z"
   }
  ],
  "kernelspec": {
   "display_name": "Python 3 (ipykernel)",
   "language": "python",
   "name": "python3"
  },
  "language_info": {
   "codemirror_mode": {
    "name": "ipython",
    "version": 3
   },
   "file_extension": ".py",
   "mimetype": "text/x-python",
   "name": "python",
   "nbconvert_exporter": "python",
   "pygments_lexer": "ipython3",
   "version": "3.9.16"
  },
  "toc": {
   "base_numbering": 1,
   "nav_menu": {},
   "number_sections": true,
   "sideBar": true,
   "skip_h1_title": false,
   "title_cell": "Table of Contents",
   "title_sidebar": "Contents",
   "toc_cell": false,
   "toc_position": {
    "height": "calc(100% - 180px)",
    "left": "10px",
    "top": "150px",
    "width": "269px"
   },
   "toc_section_display": true,
   "toc_window_display": true
  },
  "varInspector": {
   "cols": {
    "lenName": 16,
    "lenType": 16,
    "lenVar": 40
   },
   "kernels_config": {
    "python": {
     "delete_cmd_postfix": "",
     "delete_cmd_prefix": "del ",
     "library": "var_list.py",
     "varRefreshCmd": "print(var_dic_list())"
    },
    "r": {
     "delete_cmd_postfix": ") ",
     "delete_cmd_prefix": "rm(",
     "library": "var_list.r",
     "varRefreshCmd": "cat(var_dic_list()) "
    }
   },
   "position": {
    "height": "360.852px",
    "left": "1067px",
    "right": "20px",
    "top": "120px",
    "width": "353px"
   },
   "types_to_exclude": [
    "module",
    "function",
    "builtin_function_or_method",
    "instance",
    "_Feature"
   ],
   "window_display": false
  }
 },
 "nbformat": 4,
 "nbformat_minor": 5
}
