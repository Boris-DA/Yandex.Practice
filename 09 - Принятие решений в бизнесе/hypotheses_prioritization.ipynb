{
 "cells": [
  {
   "cell_type": "markdown",
   "id": "05689c59",
   "metadata": {},
   "source": [
    "# Принятие решений в бизнесе"
   ]
  },
  {
   "cell_type": "markdown",
   "id": "5f23bcbe",
   "metadata": {},
   "source": [
    "**Позиция:** аналитик крупного интернет магазина.\n",
    "\n",
    "**Дано:** список гипотез для увеличения выручки.\n",
    "\n",
    "**Необходимо:** приоритизировать гипотезы, запустить A/B-тест и проанализировать результаты. \n",
    "\n",
    "**Первая часть задания - Приоритизация гипотез**\n",
    "\n",
    "- Примените фреймворк ICE для приоритизации гипотез. Отсортируйте их по убыванию приоритета.\n",
    "- Примените фреймворк RICE для приоритизации гипотез. Отсортируйте их по убыванию приоритета.\n",
    "- Укажите, как изменилась приоритизация гипотез при применении RICE вместо ICE. Объясните, почему так произошло.\n",
    "\n",
    "**Вторая часть задания - Анализ A/B-теста**\n",
    "\n",
    "- Проанализируйте A/B-тест:\n",
    "- Постройте график кумулятивной выручки по группам. Сделайте выводы и предположения.\n",
    "- Постройте график кумулятивного среднего чека по группам. Сделайте выводы и предположения.\n",
    "- Постройте график относительного изменения кумулятивного среднего чека группы B к группе A. Сделайте выводы и предположения.\n",
    "- Постройте график кумулятивного среднего количества заказов на посетителя по группам. Сделайте выводы и предположения.\n",
    "- Постройте график относительного изменения кумулятивного среднего количества заказов на посетителя группы B к группе A. Сделайте выводы и предположения.\n",
    "- Постройте точечный график количества заказов по пользователям. Сделайте выводы и предположения.\n",
    "- Посчитайте 95-й и 99-й перцентили количества заказов на пользователя. Выберите границу для определения аномальных пользователей.\n",
    "- Постройте точечный график стоимостей заказов. Сделайте выводы и предположения.\n",
    "- Посчитайте 95-й и 99-й перцентили стоимости заказов. Выберите границу для определения аномальных заказов.\n",
    "- Посчитайте статистическую значимость различий в среднем количестве заказов на посетителя между группами по «сырым» данным. - Сделайте выводы и предположения.\n",
    "- Посчитайте статистическую значимость различий в среднем чеке заказа между группами по «сырым» данным. Сделайте выводы и предположения.\n",
    "- Посчитайте статистическую значимость различий в среднем количестве заказов на посетителя между группами по «очищенным» данным. - Сделайте выводы и предположения.\n",
    "- Посчитайте статистическую значимость различий в среднем чеке заказа между группами по «очищенным» данным. Сделайте выводы и предположения.\n",
    "\n",
    "**По результатам теста необходимо принять решение. Варианты решений:**\n",
    "\n",
    "1. Остановить тест, зафиксировать победу одной из групп.\n",
    "2. Остановить тест, зафиксировать отсутствие различий между группами.\n",
    "3. Продолжить тест."
   ]
  },
  {
   "cell_type": "code",
   "execution_count": 1,
   "id": "1e3f600b",
   "metadata": {},
   "outputs": [],
   "source": [
    "# Загружаем библиотеки\n",
    "import pandas as pd\n",
    "import datetime as dt\n",
    "import numpy as np\n",
    "import seaborn as sns\n",
    "import matplotlib.pyplot as plt\n",
    "import scipy.stats as stats\n",
    "from pandas.plotting import register_matplotlib_converters"
   ]
  },
  {
   "cell_type": "code",
   "execution_count": 2,
   "id": "ea20b7e2",
   "metadata": {},
   "outputs": [],
   "source": [
    "# Указываем базовые настройки \n",
    "pd.set_option('display.max_colwidth', None)\n",
    "pd.set_option('display.float_format', '{:.2f}'.format)\n",
    "register_matplotlib_converters()\n",
    "sns.set_style('whitegrid')"
   ]
  },
  {
   "cell_type": "code",
   "execution_count": 3,
   "id": "8cabb856",
   "metadata": {},
   "outputs": [],
   "source": [
    "# Указываем путь к файлу\n",
    "try:\n",
    "    hypothesis, orders, visitors = (\n",
    "        pd.read_csv('/datasets/hypothesis.csv'),\n",
    "        pd.read_csv('/datasets/orders.csv'),\n",
    "        pd.read_csv('/datasets/visitors.csv')\n",
    "    )\n",
    "except: \n",
    "    hypothesis, orders, visitors = (\n",
    "        pd.read_csv('C:/Users/Boris/datasets/hypothesis.csv'),\n",
    "        pd.read_csv('C:/Users/Boris/datasets/orders.csv'),\n",
    "        pd.read_csv('C:/Users/Boris/datasets/visitors.csv')\n",
    "    )"
   ]
  },
  {
   "cell_type": "markdown",
   "id": "d9f69302",
   "metadata": {},
   "source": [
    "## Предварительная обработка данных"
   ]
  },
  {
   "cell_type": "code",
   "execution_count": 4,
   "id": "c4215f49",
   "metadata": {},
   "outputs": [],
   "source": [
    "# Задаем функцию предварительного просмотра данных\n",
    "def first_look(df):\n",
    "    print('-'*20, 'Первые 10 строк', '-'*20 ,end='\\n')\n",
    "    display(df.head(10))\n",
    "    print('-'*20, 'Информация', '-'*20 ,end='\\n')\n",
    "    display(df.info())\n",
    "    print('-'*20, 'Описание данных', '-'*20 ,end='\\n')\n",
    "    display(df.describe())\n",
    "    print('-'*20, 'Cумма пропусков', '-'*20 ,end='\\n')\n",
    "    display(df.isna().sum())\n",
    "    print('-'*20, 'Сумма дубликатов', '-'*20 ,end='\\n')\n",
    "    display(df.duplicated().sum())"
   ]
  },
  {
   "cell_type": "markdown",
   "id": "1ebd62a8",
   "metadata": {},
   "source": [
    "### Набор данных hypothesis"
   ]
  },
  {
   "cell_type": "code",
   "execution_count": 5,
   "id": "d465b970",
   "metadata": {},
   "outputs": [
    {
     "name": "stdout",
     "output_type": "stream",
     "text": [
      "-------------------- Первые 10 строк --------------------\n"
     ]
    },
    {
     "data": {
      "text/html": [
       "<div>\n",
       "<style scoped>\n",
       "    .dataframe tbody tr th:only-of-type {\n",
       "        vertical-align: middle;\n",
       "    }\n",
       "\n",
       "    .dataframe tbody tr th {\n",
       "        vertical-align: top;\n",
       "    }\n",
       "\n",
       "    .dataframe thead th {\n",
       "        text-align: right;\n",
       "    }\n",
       "</style>\n",
       "<table border=\"1\" class=\"dataframe\">\n",
       "  <thead>\n",
       "    <tr style=\"text-align: right;\">\n",
       "      <th></th>\n",
       "      <th>Hypothesis</th>\n",
       "      <th>Reach</th>\n",
       "      <th>Impact</th>\n",
       "      <th>Confidence</th>\n",
       "      <th>Efforts</th>\n",
       "    </tr>\n",
       "  </thead>\n",
       "  <tbody>\n",
       "    <tr>\n",
       "      <th>0</th>\n",
       "      <td>Добавить два новых канала привлечения трафика, что позволит привлекать на 30% больше пользователей</td>\n",
       "      <td>3</td>\n",
       "      <td>10</td>\n",
       "      <td>8</td>\n",
       "      <td>6</td>\n",
       "    </tr>\n",
       "    <tr>\n",
       "      <th>1</th>\n",
       "      <td>Запустить собственную службу доставки, что сократит срок доставки заказов</td>\n",
       "      <td>2</td>\n",
       "      <td>5</td>\n",
       "      <td>4</td>\n",
       "      <td>10</td>\n",
       "    </tr>\n",
       "    <tr>\n",
       "      <th>2</th>\n",
       "      <td>Добавить блоки рекомендаций товаров на сайт интернет магазина, чтобы повысить конверсию и средний чек заказа</td>\n",
       "      <td>8</td>\n",
       "      <td>3</td>\n",
       "      <td>7</td>\n",
       "      <td>3</td>\n",
       "    </tr>\n",
       "    <tr>\n",
       "      <th>3</th>\n",
       "      <td>Изменить структура категорий, что увеличит конверсию, т.к. пользователи быстрее найдут нужный товар</td>\n",
       "      <td>8</td>\n",
       "      <td>3</td>\n",
       "      <td>3</td>\n",
       "      <td>8</td>\n",
       "    </tr>\n",
       "    <tr>\n",
       "      <th>4</th>\n",
       "      <td>Изменить цвет фона главной страницы, чтобы увеличить вовлеченность пользователей</td>\n",
       "      <td>3</td>\n",
       "      <td>1</td>\n",
       "      <td>1</td>\n",
       "      <td>1</td>\n",
       "    </tr>\n",
       "    <tr>\n",
       "      <th>5</th>\n",
       "      <td>Добавить страницу отзывов клиентов о магазине, что позволит увеличить количество заказов</td>\n",
       "      <td>3</td>\n",
       "      <td>2</td>\n",
       "      <td>2</td>\n",
       "      <td>3</td>\n",
       "    </tr>\n",
       "    <tr>\n",
       "      <th>6</th>\n",
       "      <td>Показать на главной странице баннеры с актуальными акциями и распродажами, чтобы увеличить конверсию</td>\n",
       "      <td>5</td>\n",
       "      <td>3</td>\n",
       "      <td>8</td>\n",
       "      <td>3</td>\n",
       "    </tr>\n",
       "    <tr>\n",
       "      <th>7</th>\n",
       "      <td>Добавить форму подписки на все основные страницы, чтобы собрать базу клиентов для email-рассылок</td>\n",
       "      <td>10</td>\n",
       "      <td>7</td>\n",
       "      <td>8</td>\n",
       "      <td>5</td>\n",
       "    </tr>\n",
       "    <tr>\n",
       "      <th>8</th>\n",
       "      <td>Запустить акцию, дающую скидку на товар в день рождения</td>\n",
       "      <td>1</td>\n",
       "      <td>9</td>\n",
       "      <td>9</td>\n",
       "      <td>5</td>\n",
       "    </tr>\n",
       "  </tbody>\n",
       "</table>\n",
       "</div>"
      ],
      "text/plain": [
       "                                                                                                     Hypothesis  \\\n",
       "0            Добавить два новых канала привлечения трафика, что позволит привлекать на 30% больше пользователей   \n",
       "1                                     Запустить собственную службу доставки, что сократит срок доставки заказов   \n",
       "2  Добавить блоки рекомендаций товаров на сайт интернет магазина, чтобы повысить конверсию и средний чек заказа   \n",
       "3           Изменить структура категорий, что увеличит конверсию, т.к. пользователи быстрее найдут нужный товар   \n",
       "4                              Изменить цвет фона главной страницы, чтобы увеличить вовлеченность пользователей   \n",
       "5                      Добавить страницу отзывов клиентов о магазине, что позволит увеличить количество заказов   \n",
       "6          Показать на главной странице баннеры с актуальными акциями и распродажами, чтобы увеличить конверсию   \n",
       "7              Добавить форму подписки на все основные страницы, чтобы собрать базу клиентов для email-рассылок   \n",
       "8                                                       Запустить акцию, дающую скидку на товар в день рождения   \n",
       "\n",
       "   Reach  Impact  Confidence  Efforts  \n",
       "0      3      10           8        6  \n",
       "1      2       5           4       10  \n",
       "2      8       3           7        3  \n",
       "3      8       3           3        8  \n",
       "4      3       1           1        1  \n",
       "5      3       2           2        3  \n",
       "6      5       3           8        3  \n",
       "7     10       7           8        5  \n",
       "8      1       9           9        5  "
      ]
     },
     "metadata": {},
     "output_type": "display_data"
    },
    {
     "name": "stdout",
     "output_type": "stream",
     "text": [
      "-------------------- Информация --------------------\n",
      "<class 'pandas.core.frame.DataFrame'>\n",
      "RangeIndex: 9 entries, 0 to 8\n",
      "Data columns (total 5 columns):\n",
      " #   Column      Non-Null Count  Dtype \n",
      "---  ------      --------------  ----- \n",
      " 0   Hypothesis  9 non-null      object\n",
      " 1   Reach       9 non-null      int64 \n",
      " 2   Impact      9 non-null      int64 \n",
      " 3   Confidence  9 non-null      int64 \n",
      " 4   Efforts     9 non-null      int64 \n",
      "dtypes: int64(4), object(1)\n",
      "memory usage: 488.0+ bytes\n"
     ]
    },
    {
     "data": {
      "text/plain": [
       "None"
      ]
     },
     "metadata": {},
     "output_type": "display_data"
    },
    {
     "name": "stdout",
     "output_type": "stream",
     "text": [
      "-------------------- Описание данных --------------------\n"
     ]
    },
    {
     "data": {
      "text/html": [
       "<div>\n",
       "<style scoped>\n",
       "    .dataframe tbody tr th:only-of-type {\n",
       "        vertical-align: middle;\n",
       "    }\n",
       "\n",
       "    .dataframe tbody tr th {\n",
       "        vertical-align: top;\n",
       "    }\n",
       "\n",
       "    .dataframe thead th {\n",
       "        text-align: right;\n",
       "    }\n",
       "</style>\n",
       "<table border=\"1\" class=\"dataframe\">\n",
       "  <thead>\n",
       "    <tr style=\"text-align: right;\">\n",
       "      <th></th>\n",
       "      <th>Reach</th>\n",
       "      <th>Impact</th>\n",
       "      <th>Confidence</th>\n",
       "      <th>Efforts</th>\n",
       "    </tr>\n",
       "  </thead>\n",
       "  <tbody>\n",
       "    <tr>\n",
       "      <th>count</th>\n",
       "      <td>9.00</td>\n",
       "      <td>9.00</td>\n",
       "      <td>9.00</td>\n",
       "      <td>9.00</td>\n",
       "    </tr>\n",
       "    <tr>\n",
       "      <th>mean</th>\n",
       "      <td>4.78</td>\n",
       "      <td>4.78</td>\n",
       "      <td>5.56</td>\n",
       "      <td>4.89</td>\n",
       "    </tr>\n",
       "    <tr>\n",
       "      <th>std</th>\n",
       "      <td>3.15</td>\n",
       "      <td>3.19</td>\n",
       "      <td>3.05</td>\n",
       "      <td>2.80</td>\n",
       "    </tr>\n",
       "    <tr>\n",
       "      <th>min</th>\n",
       "      <td>1.00</td>\n",
       "      <td>1.00</td>\n",
       "      <td>1.00</td>\n",
       "      <td>1.00</td>\n",
       "    </tr>\n",
       "    <tr>\n",
       "      <th>25%</th>\n",
       "      <td>3.00</td>\n",
       "      <td>3.00</td>\n",
       "      <td>3.00</td>\n",
       "      <td>3.00</td>\n",
       "    </tr>\n",
       "    <tr>\n",
       "      <th>50%</th>\n",
       "      <td>3.00</td>\n",
       "      <td>3.00</td>\n",
       "      <td>7.00</td>\n",
       "      <td>5.00</td>\n",
       "    </tr>\n",
       "    <tr>\n",
       "      <th>75%</th>\n",
       "      <td>8.00</td>\n",
       "      <td>7.00</td>\n",
       "      <td>8.00</td>\n",
       "      <td>6.00</td>\n",
       "    </tr>\n",
       "    <tr>\n",
       "      <th>max</th>\n",
       "      <td>10.00</td>\n",
       "      <td>10.00</td>\n",
       "      <td>9.00</td>\n",
       "      <td>10.00</td>\n",
       "    </tr>\n",
       "  </tbody>\n",
       "</table>\n",
       "</div>"
      ],
      "text/plain": [
       "       Reach  Impact  Confidence  Efforts\n",
       "count   9.00    9.00        9.00     9.00\n",
       "mean    4.78    4.78        5.56     4.89\n",
       "std     3.15    3.19        3.05     2.80\n",
       "min     1.00    1.00        1.00     1.00\n",
       "25%     3.00    3.00        3.00     3.00\n",
       "50%     3.00    3.00        7.00     5.00\n",
       "75%     8.00    7.00        8.00     6.00\n",
       "max    10.00   10.00        9.00    10.00"
      ]
     },
     "metadata": {},
     "output_type": "display_data"
    },
    {
     "name": "stdout",
     "output_type": "stream",
     "text": [
      "-------------------- Cумма пропусков --------------------\n"
     ]
    },
    {
     "data": {
      "text/plain": [
       "Hypothesis    0\n",
       "Reach         0\n",
       "Impact        0\n",
       "Confidence    0\n",
       "Efforts       0\n",
       "dtype: int64"
      ]
     },
     "metadata": {},
     "output_type": "display_data"
    },
    {
     "name": "stdout",
     "output_type": "stream",
     "text": [
      "-------------------- Сумма дубликатов --------------------\n"
     ]
    },
    {
     "data": {
      "text/plain": [
       "0"
      ]
     },
     "metadata": {},
     "output_type": "display_data"
    }
   ],
   "source": [
    "# Применяем функцию fisrt_look\n",
    "first_look(hypothesis)"
   ]
  },
  {
   "cell_type": "markdown",
   "id": "f814fdb1",
   "metadata": {},
   "source": [
    "Сразу приведем названия стобцов к нижнему регистру:"
   ]
  },
  {
   "cell_type": "code",
   "execution_count": 6,
   "id": "746f0805",
   "metadata": {},
   "outputs": [],
   "source": [
    "hypothesis.columns = hypothesis.columns.str.lower()"
   ]
  },
  {
   "cell_type": "markdown",
   "id": "d1807fc4",
   "metadata": {},
   "source": [
    "Из набора данных **hypothesis** видим: \n",
    "\n",
    "- *Hypothesis* — краткое описание гипотезы;\n",
    "- *Reach* — охват пользователей по 10-балльной шкале;\n",
    "- *Impact* — влияние на пользователей по 10-балльной шкале;\n",
    "- *Confidence* — уверенность в гипотезе по 10-балльной шкале;\n",
    "- *Efforts* — затраты ресурсов на проверку гипотезы по 10-балльной шкале. Чем больше значение Efforts, тем дороже проверка гипотезы.\n",
    "\n",
    "Дано 9 теорий, для каждой из которой расчитан охват, влияние, уверенность в гипотезе и затраты на проверку.\n",
    "\n",
    "В наборе данных нет дубликатов или пропусков"
   ]
  },
  {
   "cell_type": "markdown",
   "id": "0090ff0f",
   "metadata": {},
   "source": [
    "### Набор данных orders"
   ]
  },
  {
   "cell_type": "code",
   "execution_count": 7,
   "id": "4d03ffc5",
   "metadata": {
    "scrolled": false
   },
   "outputs": [
    {
     "name": "stdout",
     "output_type": "stream",
     "text": [
      "-------------------- Первые 10 строк --------------------\n"
     ]
    },
    {
     "data": {
      "text/html": [
       "<div>\n",
       "<style scoped>\n",
       "    .dataframe tbody tr th:only-of-type {\n",
       "        vertical-align: middle;\n",
       "    }\n",
       "\n",
       "    .dataframe tbody tr th {\n",
       "        vertical-align: top;\n",
       "    }\n",
       "\n",
       "    .dataframe thead th {\n",
       "        text-align: right;\n",
       "    }\n",
       "</style>\n",
       "<table border=\"1\" class=\"dataframe\">\n",
       "  <thead>\n",
       "    <tr style=\"text-align: right;\">\n",
       "      <th></th>\n",
       "      <th>transactionId</th>\n",
       "      <th>visitorId</th>\n",
       "      <th>date</th>\n",
       "      <th>revenue</th>\n",
       "      <th>group</th>\n",
       "    </tr>\n",
       "  </thead>\n",
       "  <tbody>\n",
       "    <tr>\n",
       "      <th>0</th>\n",
       "      <td>3667963787</td>\n",
       "      <td>3312258926</td>\n",
       "      <td>2019-08-15</td>\n",
       "      <td>1650</td>\n",
       "      <td>B</td>\n",
       "    </tr>\n",
       "    <tr>\n",
       "      <th>1</th>\n",
       "      <td>2804400009</td>\n",
       "      <td>3642806036</td>\n",
       "      <td>2019-08-15</td>\n",
       "      <td>730</td>\n",
       "      <td>B</td>\n",
       "    </tr>\n",
       "    <tr>\n",
       "      <th>2</th>\n",
       "      <td>2961555356</td>\n",
       "      <td>4069496402</td>\n",
       "      <td>2019-08-15</td>\n",
       "      <td>400</td>\n",
       "      <td>A</td>\n",
       "    </tr>\n",
       "    <tr>\n",
       "      <th>3</th>\n",
       "      <td>3797467345</td>\n",
       "      <td>1196621759</td>\n",
       "      <td>2019-08-15</td>\n",
       "      <td>9759</td>\n",
       "      <td>B</td>\n",
       "    </tr>\n",
       "    <tr>\n",
       "      <th>4</th>\n",
       "      <td>2282983706</td>\n",
       "      <td>2322279887</td>\n",
       "      <td>2019-08-15</td>\n",
       "      <td>2308</td>\n",
       "      <td>B</td>\n",
       "    </tr>\n",
       "    <tr>\n",
       "      <th>5</th>\n",
       "      <td>182168103</td>\n",
       "      <td>935554773</td>\n",
       "      <td>2019-08-15</td>\n",
       "      <td>2210</td>\n",
       "      <td>B</td>\n",
       "    </tr>\n",
       "    <tr>\n",
       "      <th>6</th>\n",
       "      <td>398296753</td>\n",
       "      <td>2900797465</td>\n",
       "      <td>2019-08-15</td>\n",
       "      <td>1860</td>\n",
       "      <td>B</td>\n",
       "    </tr>\n",
       "    <tr>\n",
       "      <th>7</th>\n",
       "      <td>2626614568</td>\n",
       "      <td>78758296</td>\n",
       "      <td>2019-08-15</td>\n",
       "      <td>1044</td>\n",
       "      <td>A</td>\n",
       "    </tr>\n",
       "    <tr>\n",
       "      <th>8</th>\n",
       "      <td>1576988021</td>\n",
       "      <td>295230930</td>\n",
       "      <td>2019-08-15</td>\n",
       "      <td>13710</td>\n",
       "      <td>A</td>\n",
       "    </tr>\n",
       "    <tr>\n",
       "      <th>9</th>\n",
       "      <td>1506739906</td>\n",
       "      <td>1882260405</td>\n",
       "      <td>2019-08-15</td>\n",
       "      <td>1855</td>\n",
       "      <td>B</td>\n",
       "    </tr>\n",
       "  </tbody>\n",
       "</table>\n",
       "</div>"
      ],
      "text/plain": [
       "   transactionId   visitorId        date  revenue group\n",
       "0     3667963787  3312258926  2019-08-15     1650     B\n",
       "1     2804400009  3642806036  2019-08-15      730     B\n",
       "2     2961555356  4069496402  2019-08-15      400     A\n",
       "3     3797467345  1196621759  2019-08-15     9759     B\n",
       "4     2282983706  2322279887  2019-08-15     2308     B\n",
       "5      182168103   935554773  2019-08-15     2210     B\n",
       "6      398296753  2900797465  2019-08-15     1860     B\n",
       "7     2626614568    78758296  2019-08-15     1044     A\n",
       "8     1576988021   295230930  2019-08-15    13710     A\n",
       "9     1506739906  1882260405  2019-08-15     1855     B"
      ]
     },
     "metadata": {},
     "output_type": "display_data"
    },
    {
     "name": "stdout",
     "output_type": "stream",
     "text": [
      "-------------------- Информация --------------------\n",
      "<class 'pandas.core.frame.DataFrame'>\n",
      "RangeIndex: 1197 entries, 0 to 1196\n",
      "Data columns (total 5 columns):\n",
      " #   Column         Non-Null Count  Dtype \n",
      "---  ------         --------------  ----- \n",
      " 0   transactionId  1197 non-null   int64 \n",
      " 1   visitorId      1197 non-null   int64 \n",
      " 2   date           1197 non-null   object\n",
      " 3   revenue        1197 non-null   int64 \n",
      " 4   group          1197 non-null   object\n",
      "dtypes: int64(3), object(2)\n",
      "memory usage: 46.9+ KB\n"
     ]
    },
    {
     "data": {
      "text/plain": [
       "None"
      ]
     },
     "metadata": {},
     "output_type": "display_data"
    },
    {
     "name": "stdout",
     "output_type": "stream",
     "text": [
      "-------------------- Описание данных --------------------\n"
     ]
    },
    {
     "data": {
      "text/html": [
       "<div>\n",
       "<style scoped>\n",
       "    .dataframe tbody tr th:only-of-type {\n",
       "        vertical-align: middle;\n",
       "    }\n",
       "\n",
       "    .dataframe tbody tr th {\n",
       "        vertical-align: top;\n",
       "    }\n",
       "\n",
       "    .dataframe thead th {\n",
       "        text-align: right;\n",
       "    }\n",
       "</style>\n",
       "<table border=\"1\" class=\"dataframe\">\n",
       "  <thead>\n",
       "    <tr style=\"text-align: right;\">\n",
       "      <th></th>\n",
       "      <th>transactionId</th>\n",
       "      <th>visitorId</th>\n",
       "      <th>revenue</th>\n",
       "    </tr>\n",
       "  </thead>\n",
       "  <tbody>\n",
       "    <tr>\n",
       "      <th>count</th>\n",
       "      <td>1197.00</td>\n",
       "      <td>1197.00</td>\n",
       "      <td>1197.00</td>\n",
       "    </tr>\n",
       "    <tr>\n",
       "      <th>mean</th>\n",
       "      <td>2155621385.53</td>\n",
       "      <td>2165960143.10</td>\n",
       "      <td>8348.01</td>\n",
       "    </tr>\n",
       "    <tr>\n",
       "      <th>std</th>\n",
       "      <td>1229084904.76</td>\n",
       "      <td>1236014192.15</td>\n",
       "      <td>39191.13</td>\n",
       "    </tr>\n",
       "    <tr>\n",
       "      <th>min</th>\n",
       "      <td>1062393.00</td>\n",
       "      <td>5114589.00</td>\n",
       "      <td>50.00</td>\n",
       "    </tr>\n",
       "    <tr>\n",
       "      <th>25%</th>\n",
       "      <td>1166775572.00</td>\n",
       "      <td>1111826046.00</td>\n",
       "      <td>1220.00</td>\n",
       "    </tr>\n",
       "    <tr>\n",
       "      <th>50%</th>\n",
       "      <td>2145193898.00</td>\n",
       "      <td>2217984702.00</td>\n",
       "      <td>2978.00</td>\n",
       "    </tr>\n",
       "    <tr>\n",
       "      <th>75%</th>\n",
       "      <td>3237740112.00</td>\n",
       "      <td>3177606451.00</td>\n",
       "      <td>8290.00</td>\n",
       "    </tr>\n",
       "    <tr>\n",
       "      <th>max</th>\n",
       "      <td>4293855558.00</td>\n",
       "      <td>4283872382.00</td>\n",
       "      <td>1294500.00</td>\n",
       "    </tr>\n",
       "  </tbody>\n",
       "</table>\n",
       "</div>"
      ],
      "text/plain": [
       "       transactionId     visitorId    revenue\n",
       "count        1197.00       1197.00    1197.00\n",
       "mean   2155621385.53 2165960143.10    8348.01\n",
       "std    1229084904.76 1236014192.15   39191.13\n",
       "min       1062393.00    5114589.00      50.00\n",
       "25%    1166775572.00 1111826046.00    1220.00\n",
       "50%    2145193898.00 2217984702.00    2978.00\n",
       "75%    3237740112.00 3177606451.00    8290.00\n",
       "max    4293855558.00 4283872382.00 1294500.00"
      ]
     },
     "metadata": {},
     "output_type": "display_data"
    },
    {
     "name": "stdout",
     "output_type": "stream",
     "text": [
      "-------------------- Cумма пропусков --------------------\n"
     ]
    },
    {
     "data": {
      "text/plain": [
       "transactionId    0\n",
       "visitorId        0\n",
       "date             0\n",
       "revenue          0\n",
       "group            0\n",
       "dtype: int64"
      ]
     },
     "metadata": {},
     "output_type": "display_data"
    },
    {
     "name": "stdout",
     "output_type": "stream",
     "text": [
      "-------------------- Сумма дубликатов --------------------\n"
     ]
    },
    {
     "data": {
      "text/plain": [
       "0"
      ]
     },
     "metadata": {},
     "output_type": "display_data"
    }
   ],
   "source": [
    "first_look(orders)"
   ]
  },
  {
   "cell_type": "markdown",
   "id": "9f22c194",
   "metadata": {},
   "source": [
    "Сразу приведем названия столбцов к нижнему регистру:"
   ]
  },
  {
   "cell_type": "code",
   "execution_count": 8,
   "id": "f3d3b3e0",
   "metadata": {},
   "outputs": [],
   "source": [
    "orders.columns = orders.columns.str.lower()"
   ]
  },
  {
   "cell_type": "markdown",
   "id": "307d5149",
   "metadata": {},
   "source": [
    "Из набора данных **orders** получили: \n",
    "\n",
    "- *transactionId* — идентификатор заказа;\n",
    "- *visitorId* — идентификатор пользователя, совершившего заказ;\n",
    "- *date* — дата, когда был совершён заказ;\n",
    "- *revenue* — выручка заказа;\n",
    "- *group* — группа A/B-теста, в которую попал заказ.\n",
    "\n",
    "Всего в данном наборе данных есть 1197 строк, в которых указаны индификаторы заказа и пользователя, дата и выручка, а также, группа, в которую попал заказ. \n",
    "\n",
    "Пропусков или дубликатов нет."
   ]
  },
  {
   "cell_type": "markdown",
   "id": "462b6c72",
   "metadata": {},
   "source": [
    "### Набор данных visitors"
   ]
  },
  {
   "cell_type": "code",
   "execution_count": 9,
   "id": "60f422c0",
   "metadata": {},
   "outputs": [
    {
     "name": "stdout",
     "output_type": "stream",
     "text": [
      "-------------------- Первые 10 строк --------------------\n"
     ]
    },
    {
     "data": {
      "text/html": [
       "<div>\n",
       "<style scoped>\n",
       "    .dataframe tbody tr th:only-of-type {\n",
       "        vertical-align: middle;\n",
       "    }\n",
       "\n",
       "    .dataframe tbody tr th {\n",
       "        vertical-align: top;\n",
       "    }\n",
       "\n",
       "    .dataframe thead th {\n",
       "        text-align: right;\n",
       "    }\n",
       "</style>\n",
       "<table border=\"1\" class=\"dataframe\">\n",
       "  <thead>\n",
       "    <tr style=\"text-align: right;\">\n",
       "      <th></th>\n",
       "      <th>date</th>\n",
       "      <th>group</th>\n",
       "      <th>visitors</th>\n",
       "    </tr>\n",
       "  </thead>\n",
       "  <tbody>\n",
       "    <tr>\n",
       "      <th>0</th>\n",
       "      <td>2019-08-01</td>\n",
       "      <td>A</td>\n",
       "      <td>719</td>\n",
       "    </tr>\n",
       "    <tr>\n",
       "      <th>1</th>\n",
       "      <td>2019-08-02</td>\n",
       "      <td>A</td>\n",
       "      <td>619</td>\n",
       "    </tr>\n",
       "    <tr>\n",
       "      <th>2</th>\n",
       "      <td>2019-08-03</td>\n",
       "      <td>A</td>\n",
       "      <td>507</td>\n",
       "    </tr>\n",
       "    <tr>\n",
       "      <th>3</th>\n",
       "      <td>2019-08-04</td>\n",
       "      <td>A</td>\n",
       "      <td>717</td>\n",
       "    </tr>\n",
       "    <tr>\n",
       "      <th>4</th>\n",
       "      <td>2019-08-05</td>\n",
       "      <td>A</td>\n",
       "      <td>756</td>\n",
       "    </tr>\n",
       "    <tr>\n",
       "      <th>5</th>\n",
       "      <td>2019-08-06</td>\n",
       "      <td>A</td>\n",
       "      <td>667</td>\n",
       "    </tr>\n",
       "    <tr>\n",
       "      <th>6</th>\n",
       "      <td>2019-08-07</td>\n",
       "      <td>A</td>\n",
       "      <td>644</td>\n",
       "    </tr>\n",
       "    <tr>\n",
       "      <th>7</th>\n",
       "      <td>2019-08-08</td>\n",
       "      <td>A</td>\n",
       "      <td>610</td>\n",
       "    </tr>\n",
       "    <tr>\n",
       "      <th>8</th>\n",
       "      <td>2019-08-09</td>\n",
       "      <td>A</td>\n",
       "      <td>617</td>\n",
       "    </tr>\n",
       "    <tr>\n",
       "      <th>9</th>\n",
       "      <td>2019-08-10</td>\n",
       "      <td>A</td>\n",
       "      <td>406</td>\n",
       "    </tr>\n",
       "  </tbody>\n",
       "</table>\n",
       "</div>"
      ],
      "text/plain": [
       "         date group  visitors\n",
       "0  2019-08-01     A       719\n",
       "1  2019-08-02     A       619\n",
       "2  2019-08-03     A       507\n",
       "3  2019-08-04     A       717\n",
       "4  2019-08-05     A       756\n",
       "5  2019-08-06     A       667\n",
       "6  2019-08-07     A       644\n",
       "7  2019-08-08     A       610\n",
       "8  2019-08-09     A       617\n",
       "9  2019-08-10     A       406"
      ]
     },
     "metadata": {},
     "output_type": "display_data"
    },
    {
     "name": "stdout",
     "output_type": "stream",
     "text": [
      "-------------------- Информация --------------------\n",
      "<class 'pandas.core.frame.DataFrame'>\n",
      "RangeIndex: 62 entries, 0 to 61\n",
      "Data columns (total 3 columns):\n",
      " #   Column    Non-Null Count  Dtype \n",
      "---  ------    --------------  ----- \n",
      " 0   date      62 non-null     object\n",
      " 1   group     62 non-null     object\n",
      " 2   visitors  62 non-null     int64 \n",
      "dtypes: int64(1), object(2)\n",
      "memory usage: 1.6+ KB\n"
     ]
    },
    {
     "data": {
      "text/plain": [
       "None"
      ]
     },
     "metadata": {},
     "output_type": "display_data"
    },
    {
     "name": "stdout",
     "output_type": "stream",
     "text": [
      "-------------------- Описание данных --------------------\n"
     ]
    },
    {
     "data": {
      "text/html": [
       "<div>\n",
       "<style scoped>\n",
       "    .dataframe tbody tr th:only-of-type {\n",
       "        vertical-align: middle;\n",
       "    }\n",
       "\n",
       "    .dataframe tbody tr th {\n",
       "        vertical-align: top;\n",
       "    }\n",
       "\n",
       "    .dataframe thead th {\n",
       "        text-align: right;\n",
       "    }\n",
       "</style>\n",
       "<table border=\"1\" class=\"dataframe\">\n",
       "  <thead>\n",
       "    <tr style=\"text-align: right;\">\n",
       "      <th></th>\n",
       "      <th>visitors</th>\n",
       "    </tr>\n",
       "  </thead>\n",
       "  <tbody>\n",
       "    <tr>\n",
       "      <th>count</th>\n",
       "      <td>62.00</td>\n",
       "    </tr>\n",
       "    <tr>\n",
       "      <th>mean</th>\n",
       "      <td>607.29</td>\n",
       "    </tr>\n",
       "    <tr>\n",
       "      <th>std</th>\n",
       "      <td>114.40</td>\n",
       "    </tr>\n",
       "    <tr>\n",
       "      <th>min</th>\n",
       "      <td>361.00</td>\n",
       "    </tr>\n",
       "    <tr>\n",
       "      <th>25%</th>\n",
       "      <td>534.00</td>\n",
       "    </tr>\n",
       "    <tr>\n",
       "      <th>50%</th>\n",
       "      <td>624.50</td>\n",
       "    </tr>\n",
       "    <tr>\n",
       "      <th>75%</th>\n",
       "      <td>710.50</td>\n",
       "    </tr>\n",
       "    <tr>\n",
       "      <th>max</th>\n",
       "      <td>770.00</td>\n",
       "    </tr>\n",
       "  </tbody>\n",
       "</table>\n",
       "</div>"
      ],
      "text/plain": [
       "       visitors\n",
       "count     62.00\n",
       "mean     607.29\n",
       "std      114.40\n",
       "min      361.00\n",
       "25%      534.00\n",
       "50%      624.50\n",
       "75%      710.50\n",
       "max      770.00"
      ]
     },
     "metadata": {},
     "output_type": "display_data"
    },
    {
     "name": "stdout",
     "output_type": "stream",
     "text": [
      "-------------------- Cумма пропусков --------------------\n"
     ]
    },
    {
     "data": {
      "text/plain": [
       "date        0\n",
       "group       0\n",
       "visitors    0\n",
       "dtype: int64"
      ]
     },
     "metadata": {},
     "output_type": "display_data"
    },
    {
     "name": "stdout",
     "output_type": "stream",
     "text": [
      "-------------------- Сумма дубликатов --------------------\n"
     ]
    },
    {
     "data": {
      "text/plain": [
       "0"
      ]
     },
     "metadata": {},
     "output_type": "display_data"
    }
   ],
   "source": [
    "first_look(visitors)"
   ]
  },
  {
   "cell_type": "markdown",
   "id": "13249d50",
   "metadata": {},
   "source": [
    "В наборе данных **visitors**:\n",
    "\n",
    "- *date* — дата;\n",
    "- *group* — группа A/B-теста;\n",
    "- *visitors* — количество пользователей в указанную дату в указанной группе A/B-теста\n",
    "\n",
    "В данном наборе данных указано колличество пользователей, которые были в указанную дату и в указанной группе. \n",
    "\n",
    "Пропусков или дубликатов нет."
   ]
  },
  {
   "cell_type": "markdown",
   "id": "b71ecabc",
   "metadata": {},
   "source": [
    "### Изменение типов данных"
   ]
  },
  {
   "cell_type": "code",
   "execution_count": 10,
   "id": "01022ca1",
   "metadata": {
    "scrolled": false
   },
   "outputs": [
    {
     "name": "stdout",
     "output_type": "stream",
     "text": [
      "<class 'pandas.core.frame.DataFrame'>\n",
      "RangeIndex: 9 entries, 0 to 8\n",
      "Data columns (total 5 columns):\n",
      " #   Column      Non-Null Count  Dtype \n",
      "---  ------      --------------  ----- \n",
      " 0   hypothesis  9 non-null      object\n",
      " 1   reach       9 non-null      int64 \n",
      " 2   impact      9 non-null      int64 \n",
      " 3   confidence  9 non-null      int64 \n",
      " 4   efforts     9 non-null      int64 \n",
      "dtypes: int64(4), object(1)\n",
      "memory usage: 488.0+ bytes\n"
     ]
    },
    {
     "data": {
      "text/plain": [
       "None"
      ]
     },
     "metadata": {},
     "output_type": "display_data"
    },
    {
     "name": "stdout",
     "output_type": "stream",
     "text": [
      "<class 'pandas.core.frame.DataFrame'>\n",
      "RangeIndex: 1197 entries, 0 to 1196\n",
      "Data columns (total 5 columns):\n",
      " #   Column         Non-Null Count  Dtype \n",
      "---  ------         --------------  ----- \n",
      " 0   transactionid  1197 non-null   int64 \n",
      " 1   visitorid      1197 non-null   int64 \n",
      " 2   date           1197 non-null   object\n",
      " 3   revenue        1197 non-null   int64 \n",
      " 4   group          1197 non-null   object\n",
      "dtypes: int64(3), object(2)\n",
      "memory usage: 46.9+ KB\n"
     ]
    },
    {
     "data": {
      "text/plain": [
       "None"
      ]
     },
     "metadata": {},
     "output_type": "display_data"
    },
    {
     "name": "stdout",
     "output_type": "stream",
     "text": [
      "<class 'pandas.core.frame.DataFrame'>\n",
      "RangeIndex: 62 entries, 0 to 61\n",
      "Data columns (total 3 columns):\n",
      " #   Column    Non-Null Count  Dtype \n",
      "---  ------    --------------  ----- \n",
      " 0   date      62 non-null     object\n",
      " 1   group     62 non-null     object\n",
      " 2   visitors  62 non-null     int64 \n",
      "dtypes: int64(1), object(2)\n",
      "memory usage: 1.6+ KB\n"
     ]
    },
    {
     "data": {
      "text/plain": [
       "None"
      ]
     },
     "metadata": {},
     "output_type": "display_data"
    }
   ],
   "source": [
    "display(hypothesis.info())\n",
    "display(orders.info())\n",
    "display(visitors.info())"
   ]
  },
  {
   "cell_type": "markdown",
   "id": "9320e450",
   "metadata": {},
   "source": [
    "Мы видим, что в наборе данных orders и visitors тип date стоит как object, заменим его на date:"
   ]
  },
  {
   "cell_type": "code",
   "execution_count": 11,
   "id": "d979958f",
   "metadata": {},
   "outputs": [],
   "source": [
    "# изменяем тип данных на дату\n",
    "orders['date'] = orders['date'].map(\n",
    "    lambda x: dt.datetime.strptime(x, '%Y-%m-%d')\n",
    ")\n",
    "\n",
    "# изменяем тип данных в visitors на дату\n",
    "visitors['date'] = visitors['date'].map(\n",
    "    lambda x: dt.datetime.strptime(x, '%Y-%m-%d')\n",
    ")"
   ]
  },
  {
   "cell_type": "markdown",
   "id": "66d49e49",
   "metadata": {},
   "source": [
    "Изменили тип данных в необходимых данных"
   ]
  },
  {
   "cell_type": "markdown",
   "id": "b80b31a1",
   "metadata": {},
   "source": [
    "### Проверка пересечений составов групп теста"
   ]
  },
  {
   "cell_type": "markdown",
   "id": "0b804a47",
   "metadata": {},
   "source": [
    "Найдем значение колличества пользователей в обеих группах:"
   ]
  },
  {
   "cell_type": "code",
   "execution_count": 12,
   "id": "d0ff825b",
   "metadata": {
    "scrolled": true
   },
   "outputs": [
    {
     "name": "stdout",
     "output_type": "stream",
     "text": [
      "Колличество пользователей в обеих группах 58\n"
     ]
    }
   ],
   "source": [
    "# находим пересечение множеств пользователей групп\n",
    "intersection = list(\n",
    "    set(orders.query('group == \\\"A\\\"')['visitorid'].unique()) & \n",
    "    set(orders.query('group == \\\"B\\\"')['visitorid'].unique())\n",
    ")\n",
    "print('Колличество пользователей в обеих группах', len(intersection))"
   ]
  },
  {
   "cell_type": "markdown",
   "id": "325db9e5",
   "metadata": {},
   "source": [
    "Получили 58 пользователей, которые числятся как в группе A, так и в группе B. Проверим процент колличества данных повторений от общего числа пользователей в группах:"
   ]
  },
  {
   "cell_type": "code",
   "execution_count": 13,
   "id": "db321b15",
   "metadata": {},
   "outputs": [
    {
     "name": "stdout",
     "output_type": "stream",
     "text": [
      "Процент повторений от общего числа в группе A: 11.53 %\n",
      "Процент повторений от общего числа в группе B: 9.9 %\n"
     ]
    }
   ],
   "source": [
    "# Выведем процент повторов для группы A\n",
    "print('Процент повторений от общего числа в группе A:',\\\n",
    "      round(len(intersection) / orders.query('group == \\\"A\\\"')['visitorid'].nunique() * 100, 2), '%')\n",
    "# Выведем процент повторов для группы B\n",
    "print('Процент повторений от общего числа в группе B:',\\\n",
    "      round(len(intersection) / orders.query('group == \\\"B\\\"')['visitorid'].nunique() * 100, 2), '%')"
   ]
  },
  {
   "cell_type": "markdown",
   "id": "d246a606",
   "metadata": {},
   "source": [
    "Получили процент повторений от общего числа в группах, теперь исключим повторяющихся в обеих группах пользователей из данных:"
   ]
  },
  {
   "cell_type": "code",
   "execution_count": 14,
   "id": "67613959",
   "metadata": {},
   "outputs": [],
   "source": [
    "orders = orders.query('visitorid not in @intersection')"
   ]
  },
  {
   "cell_type": "markdown",
   "id": "c1e6a626",
   "metadata": {},
   "source": [
    "Таким образом, получили корректные данные."
   ]
  },
  {
   "cell_type": "markdown",
   "id": "5d8d1eb9",
   "metadata": {},
   "source": [
    "### Вывод по разделу"
   ]
  },
  {
   "cell_type": "markdown",
   "id": "081a9c30",
   "metadata": {},
   "source": [
    "В имеющихся у нас данных нет пропусков или дубликатов, а значит о целостности можно не беспокоиться. \n",
    "Данные хорошо описаны. Все названия приведены в рабочий вид. Типы данных изменены на нужные. \n",
    "\n",
    "Проведён подсчёт колличествоа пользователей в обеих группах, подсчитан процент повторов. \n",
    "\n",
    "Можно приступать к следующему этапу работы. "
   ]
  },
  {
   "cell_type": "markdown",
   "id": "c6f88961",
   "metadata": {},
   "source": [
    "## Приоритизация гипотез"
   ]
  },
  {
   "cell_type": "markdown",
   "id": "7f02795a",
   "metadata": {},
   "source": [
    "Чтобы максимизировать ожидаемое улучшение ключевых метрик бизнеса мы приоритизируем гипотезы. \n",
    "\n",
    "Фреймворки ICE и RICE состоят из четырёх компонентов:\n",
    "\n",
    "- Reach — скольких пользователей затронет изменение, которое вы хотите внести;\n",
    "- Impact — насколько сильно изменение повлияет на пользователей, их опыт и удовлетворение от продукта;\n",
    "- Confidence — насколько вы уверены, что это изменение повлияет на пользователей именно так; \n",
    "- Efforts — сколько стоит протестировать эту гипотезу. "
   ]
  },
  {
   "cell_type": "markdown",
   "id": "599a7c38",
   "metadata": {},
   "source": [
    "### Метод ICE"
   ]
  },
  {
   "cell_type": "markdown",
   "id": "93aa95cc",
   "metadata": {},
   "source": [
    "Делаем расчет приоритизации гипотез метдом ICE:\n",
    "<font face=\"Microsoft Yahei\">$$ICE\\;score  = \\dfrac{impact\\:\\times\\: confidence}{efforts}$$</font>"
   ]
  },
  {
   "cell_type": "code",
   "execution_count": 15,
   "id": "abff46b3",
   "metadata": {},
   "outputs": [
    {
     "data": {
      "text/html": [
       "<div>\n",
       "<style scoped>\n",
       "    .dataframe tbody tr th:only-of-type {\n",
       "        vertical-align: middle;\n",
       "    }\n",
       "\n",
       "    .dataframe tbody tr th {\n",
       "        vertical-align: top;\n",
       "    }\n",
       "\n",
       "    .dataframe thead th {\n",
       "        text-align: right;\n",
       "    }\n",
       "</style>\n",
       "<table border=\"1\" class=\"dataframe\">\n",
       "  <thead>\n",
       "    <tr style=\"text-align: right;\">\n",
       "      <th></th>\n",
       "      <th>hypothesis</th>\n",
       "      <th>reach</th>\n",
       "      <th>impact</th>\n",
       "      <th>confidence</th>\n",
       "      <th>efforts</th>\n",
       "      <th>ice</th>\n",
       "    </tr>\n",
       "  </thead>\n",
       "  <tbody>\n",
       "    <tr>\n",
       "      <th>8</th>\n",
       "      <td>Запустить акцию, дающую скидку на товар в день рождения</td>\n",
       "      <td>1</td>\n",
       "      <td>9</td>\n",
       "      <td>9</td>\n",
       "      <td>5</td>\n",
       "      <td>16.20</td>\n",
       "    </tr>\n",
       "    <tr>\n",
       "      <th>0</th>\n",
       "      <td>Добавить два новых канала привлечения трафика, что позволит привлекать на 30% больше пользователей</td>\n",
       "      <td>3</td>\n",
       "      <td>10</td>\n",
       "      <td>8</td>\n",
       "      <td>6</td>\n",
       "      <td>13.33</td>\n",
       "    </tr>\n",
       "    <tr>\n",
       "      <th>7</th>\n",
       "      <td>Добавить форму подписки на все основные страницы, чтобы собрать базу клиентов для email-рассылок</td>\n",
       "      <td>10</td>\n",
       "      <td>7</td>\n",
       "      <td>8</td>\n",
       "      <td>5</td>\n",
       "      <td>11.20</td>\n",
       "    </tr>\n",
       "    <tr>\n",
       "      <th>6</th>\n",
       "      <td>Показать на главной странице баннеры с актуальными акциями и распродажами, чтобы увеличить конверсию</td>\n",
       "      <td>5</td>\n",
       "      <td>3</td>\n",
       "      <td>8</td>\n",
       "      <td>3</td>\n",
       "      <td>8.00</td>\n",
       "    </tr>\n",
       "    <tr>\n",
       "      <th>2</th>\n",
       "      <td>Добавить блоки рекомендаций товаров на сайт интернет магазина, чтобы повысить конверсию и средний чек заказа</td>\n",
       "      <td>8</td>\n",
       "      <td>3</td>\n",
       "      <td>7</td>\n",
       "      <td>3</td>\n",
       "      <td>7.00</td>\n",
       "    </tr>\n",
       "    <tr>\n",
       "      <th>1</th>\n",
       "      <td>Запустить собственную службу доставки, что сократит срок доставки заказов</td>\n",
       "      <td>2</td>\n",
       "      <td>5</td>\n",
       "      <td>4</td>\n",
       "      <td>10</td>\n",
       "      <td>2.00</td>\n",
       "    </tr>\n",
       "    <tr>\n",
       "      <th>5</th>\n",
       "      <td>Добавить страницу отзывов клиентов о магазине, что позволит увеличить количество заказов</td>\n",
       "      <td>3</td>\n",
       "      <td>2</td>\n",
       "      <td>2</td>\n",
       "      <td>3</td>\n",
       "      <td>1.33</td>\n",
       "    </tr>\n",
       "    <tr>\n",
       "      <th>3</th>\n",
       "      <td>Изменить структура категорий, что увеличит конверсию, т.к. пользователи быстрее найдут нужный товар</td>\n",
       "      <td>8</td>\n",
       "      <td>3</td>\n",
       "      <td>3</td>\n",
       "      <td>8</td>\n",
       "      <td>1.12</td>\n",
       "    </tr>\n",
       "    <tr>\n",
       "      <th>4</th>\n",
       "      <td>Изменить цвет фона главной страницы, чтобы увеличить вовлеченность пользователей</td>\n",
       "      <td>3</td>\n",
       "      <td>1</td>\n",
       "      <td>1</td>\n",
       "      <td>1</td>\n",
       "      <td>1.00</td>\n",
       "    </tr>\n",
       "  </tbody>\n",
       "</table>\n",
       "</div>"
      ],
      "text/plain": [
       "                                                                                                     hypothesis  \\\n",
       "8                                                       Запустить акцию, дающую скидку на товар в день рождения   \n",
       "0            Добавить два новых канала привлечения трафика, что позволит привлекать на 30% больше пользователей   \n",
       "7              Добавить форму подписки на все основные страницы, чтобы собрать базу клиентов для email-рассылок   \n",
       "6          Показать на главной странице баннеры с актуальными акциями и распродажами, чтобы увеличить конверсию   \n",
       "2  Добавить блоки рекомендаций товаров на сайт интернет магазина, чтобы повысить конверсию и средний чек заказа   \n",
       "1                                     Запустить собственную службу доставки, что сократит срок доставки заказов   \n",
       "5                      Добавить страницу отзывов клиентов о магазине, что позволит увеличить количество заказов   \n",
       "3           Изменить структура категорий, что увеличит конверсию, т.к. пользователи быстрее найдут нужный товар   \n",
       "4                              Изменить цвет фона главной страницы, чтобы увеличить вовлеченность пользователей   \n",
       "\n",
       "   reach  impact  confidence  efforts   ice  \n",
       "8      1       9           9        5 16.20  \n",
       "0      3      10           8        6 13.33  \n",
       "7     10       7           8        5 11.20  \n",
       "6      5       3           8        3  8.00  \n",
       "2      8       3           7        3  7.00  \n",
       "1      2       5           4       10  2.00  \n",
       "5      3       2           2        3  1.33  \n",
       "3      8       3           3        8  1.12  \n",
       "4      3       1           1        1  1.00  "
      ]
     },
     "execution_count": 15,
     "metadata": {},
     "output_type": "execute_result"
    }
   ],
   "source": [
    "# Делаем расчет ICE\n",
    "hypothesis['ice'] = (hypothesis['impact'] * hypothesis['confidence']) / hypothesis['efforts']\n",
    "hypothesis.sort_values(by='ice', ascending=False)"
   ]
  },
  {
   "cell_type": "markdown",
   "id": "a365bf75",
   "metadata": {},
   "source": [
    "После расчётов видим, что с отрывом есть 3 гипотезы, который можно отметить как ниболее приоритетные по методу ICE. "
   ]
  },
  {
   "cell_type": "markdown",
   "id": "9faded64",
   "metadata": {},
   "source": [
    "### Метод RICE"
   ]
  },
  {
   "cell_type": "markdown",
   "id": "d5291c56",
   "metadata": {},
   "source": [
    "Делаем расчет приоритизации гипотез метдом RICE:\n",
    "<font face=\"Microsoft Yahei\">$$RICE\\;score  = \\dfrac{reach\\:\\times\\: impact\\: \\times\\: confidence}{efforts}$$</font>"
   ]
  },
  {
   "cell_type": "code",
   "execution_count": 16,
   "id": "a2164c8d",
   "metadata": {},
   "outputs": [
    {
     "data": {
      "text/html": [
       "<div>\n",
       "<style scoped>\n",
       "    .dataframe tbody tr th:only-of-type {\n",
       "        vertical-align: middle;\n",
       "    }\n",
       "\n",
       "    .dataframe tbody tr th {\n",
       "        vertical-align: top;\n",
       "    }\n",
       "\n",
       "    .dataframe thead th {\n",
       "        text-align: right;\n",
       "    }\n",
       "</style>\n",
       "<table border=\"1\" class=\"dataframe\">\n",
       "  <thead>\n",
       "    <tr style=\"text-align: right;\">\n",
       "      <th></th>\n",
       "      <th>hypothesis</th>\n",
       "      <th>reach</th>\n",
       "      <th>impact</th>\n",
       "      <th>confidence</th>\n",
       "      <th>efforts</th>\n",
       "      <th>ice</th>\n",
       "      <th>rice</th>\n",
       "    </tr>\n",
       "  </thead>\n",
       "  <tbody>\n",
       "    <tr>\n",
       "      <th>7</th>\n",
       "      <td>Добавить форму подписки на все основные страницы, чтобы собрать базу клиентов для email-рассылок</td>\n",
       "      <td>10</td>\n",
       "      <td>7</td>\n",
       "      <td>8</td>\n",
       "      <td>5</td>\n",
       "      <td>11.20</td>\n",
       "      <td>112.00</td>\n",
       "    </tr>\n",
       "    <tr>\n",
       "      <th>2</th>\n",
       "      <td>Добавить блоки рекомендаций товаров на сайт интернет магазина, чтобы повысить конверсию и средний чек заказа</td>\n",
       "      <td>8</td>\n",
       "      <td>3</td>\n",
       "      <td>7</td>\n",
       "      <td>3</td>\n",
       "      <td>7.00</td>\n",
       "      <td>56.00</td>\n",
       "    </tr>\n",
       "    <tr>\n",
       "      <th>0</th>\n",
       "      <td>Добавить два новых канала привлечения трафика, что позволит привлекать на 30% больше пользователей</td>\n",
       "      <td>3</td>\n",
       "      <td>10</td>\n",
       "      <td>8</td>\n",
       "      <td>6</td>\n",
       "      <td>13.33</td>\n",
       "      <td>40.00</td>\n",
       "    </tr>\n",
       "    <tr>\n",
       "      <th>6</th>\n",
       "      <td>Показать на главной странице баннеры с актуальными акциями и распродажами, чтобы увеличить конверсию</td>\n",
       "      <td>5</td>\n",
       "      <td>3</td>\n",
       "      <td>8</td>\n",
       "      <td>3</td>\n",
       "      <td>8.00</td>\n",
       "      <td>40.00</td>\n",
       "    </tr>\n",
       "    <tr>\n",
       "      <th>8</th>\n",
       "      <td>Запустить акцию, дающую скидку на товар в день рождения</td>\n",
       "      <td>1</td>\n",
       "      <td>9</td>\n",
       "      <td>9</td>\n",
       "      <td>5</td>\n",
       "      <td>16.20</td>\n",
       "      <td>16.20</td>\n",
       "    </tr>\n",
       "    <tr>\n",
       "      <th>3</th>\n",
       "      <td>Изменить структура категорий, что увеличит конверсию, т.к. пользователи быстрее найдут нужный товар</td>\n",
       "      <td>8</td>\n",
       "      <td>3</td>\n",
       "      <td>3</td>\n",
       "      <td>8</td>\n",
       "      <td>1.12</td>\n",
       "      <td>9.00</td>\n",
       "    </tr>\n",
       "    <tr>\n",
       "      <th>1</th>\n",
       "      <td>Запустить собственную службу доставки, что сократит срок доставки заказов</td>\n",
       "      <td>2</td>\n",
       "      <td>5</td>\n",
       "      <td>4</td>\n",
       "      <td>10</td>\n",
       "      <td>2.00</td>\n",
       "      <td>4.00</td>\n",
       "    </tr>\n",
       "    <tr>\n",
       "      <th>5</th>\n",
       "      <td>Добавить страницу отзывов клиентов о магазине, что позволит увеличить количество заказов</td>\n",
       "      <td>3</td>\n",
       "      <td>2</td>\n",
       "      <td>2</td>\n",
       "      <td>3</td>\n",
       "      <td>1.33</td>\n",
       "      <td>4.00</td>\n",
       "    </tr>\n",
       "    <tr>\n",
       "      <th>4</th>\n",
       "      <td>Изменить цвет фона главной страницы, чтобы увеличить вовлеченность пользователей</td>\n",
       "      <td>3</td>\n",
       "      <td>1</td>\n",
       "      <td>1</td>\n",
       "      <td>1</td>\n",
       "      <td>1.00</td>\n",
       "      <td>3.00</td>\n",
       "    </tr>\n",
       "  </tbody>\n",
       "</table>\n",
       "</div>"
      ],
      "text/plain": [
       "                                                                                                     hypothesis  \\\n",
       "7              Добавить форму подписки на все основные страницы, чтобы собрать базу клиентов для email-рассылок   \n",
       "2  Добавить блоки рекомендаций товаров на сайт интернет магазина, чтобы повысить конверсию и средний чек заказа   \n",
       "0            Добавить два новых канала привлечения трафика, что позволит привлекать на 30% больше пользователей   \n",
       "6          Показать на главной странице баннеры с актуальными акциями и распродажами, чтобы увеличить конверсию   \n",
       "8                                                       Запустить акцию, дающую скидку на товар в день рождения   \n",
       "3           Изменить структура категорий, что увеличит конверсию, т.к. пользователи быстрее найдут нужный товар   \n",
       "1                                     Запустить собственную службу доставки, что сократит срок доставки заказов   \n",
       "5                      Добавить страницу отзывов клиентов о магазине, что позволит увеличить количество заказов   \n",
       "4                              Изменить цвет фона главной страницы, чтобы увеличить вовлеченность пользователей   \n",
       "\n",
       "   reach  impact  confidence  efforts   ice   rice  \n",
       "7     10       7           8        5 11.20 112.00  \n",
       "2      8       3           7        3  7.00  56.00  \n",
       "0      3      10           8        6 13.33  40.00  \n",
       "6      5       3           8        3  8.00  40.00  \n",
       "8      1       9           9        5 16.20  16.20  \n",
       "3      8       3           3        8  1.12   9.00  \n",
       "1      2       5           4       10  2.00   4.00  \n",
       "5      3       2           2        3  1.33   4.00  \n",
       "4      3       1           1        1  1.00   3.00  "
      ]
     },
     "execution_count": 16,
     "metadata": {},
     "output_type": "execute_result"
    }
   ],
   "source": [
    "# Делаем расчет RICE\n",
    "hypothesis['rice'] = (hypothesis['reach'] * hypothesis['impact'] * hypothesis['confidence']) / hypothesis['efforts']\n",
    "hypothesis.sort_values(by='rice', ascending=False)"
   ]
  },
  {
   "cell_type": "markdown",
   "id": "32a0fced",
   "metadata": {},
   "source": [
    "После расчётов по методу RICE лидеры несколько поменялись, с большим отрывом выделяется одна гипотеза. В данном методе большое значение имеет охват аудитории. \n",
    "\n",
    "Сравним результаты методов:"
   ]
  },
  {
   "cell_type": "code",
   "execution_count": 17,
   "id": "cac0766a",
   "metadata": {},
   "outputs": [
    {
     "data": {
      "text/html": [
       "<div>\n",
       "<style scoped>\n",
       "    .dataframe tbody tr th:only-of-type {\n",
       "        vertical-align: middle;\n",
       "    }\n",
       "\n",
       "    .dataframe tbody tr th {\n",
       "        vertical-align: top;\n",
       "    }\n",
       "\n",
       "    .dataframe thead th {\n",
       "        text-align: right;\n",
       "    }\n",
       "</style>\n",
       "<table border=\"1\" class=\"dataframe\">\n",
       "  <thead>\n",
       "    <tr style=\"text-align: right;\">\n",
       "      <th></th>\n",
       "      <th>ice</th>\n",
       "      <th>rice</th>\n",
       "      <th>ratio</th>\n",
       "    </tr>\n",
       "  </thead>\n",
       "  <tbody>\n",
       "    <tr>\n",
       "      <th>7</th>\n",
       "      <td>11.20</td>\n",
       "      <td>112.00</td>\n",
       "      <td>0.10</td>\n",
       "    </tr>\n",
       "    <tr>\n",
       "      <th>2</th>\n",
       "      <td>7.00</td>\n",
       "      <td>56.00</td>\n",
       "      <td>0.12</td>\n",
       "    </tr>\n",
       "    <tr>\n",
       "      <th>3</th>\n",
       "      <td>1.12</td>\n",
       "      <td>9.00</td>\n",
       "      <td>0.12</td>\n",
       "    </tr>\n",
       "    <tr>\n",
       "      <th>6</th>\n",
       "      <td>8.00</td>\n",
       "      <td>40.00</td>\n",
       "      <td>0.20</td>\n",
       "    </tr>\n",
       "    <tr>\n",
       "      <th>4</th>\n",
       "      <td>1.00</td>\n",
       "      <td>3.00</td>\n",
       "      <td>0.33</td>\n",
       "    </tr>\n",
       "    <tr>\n",
       "      <th>5</th>\n",
       "      <td>1.33</td>\n",
       "      <td>4.00</td>\n",
       "      <td>0.33</td>\n",
       "    </tr>\n",
       "    <tr>\n",
       "      <th>0</th>\n",
       "      <td>13.33</td>\n",
       "      <td>40.00</td>\n",
       "      <td>0.33</td>\n",
       "    </tr>\n",
       "    <tr>\n",
       "      <th>1</th>\n",
       "      <td>2.00</td>\n",
       "      <td>4.00</td>\n",
       "      <td>0.50</td>\n",
       "    </tr>\n",
       "    <tr>\n",
       "      <th>8</th>\n",
       "      <td>16.20</td>\n",
       "      <td>16.20</td>\n",
       "      <td>1.00</td>\n",
       "    </tr>\n",
       "  </tbody>\n",
       "</table>\n",
       "</div>"
      ],
      "text/plain": [
       "    ice   rice  ratio\n",
       "7 11.20 112.00   0.10\n",
       "2  7.00  56.00   0.12\n",
       "3  1.12   9.00   0.12\n",
       "6  8.00  40.00   0.20\n",
       "4  1.00   3.00   0.33\n",
       "5  1.33   4.00   0.33\n",
       "0 13.33  40.00   0.33\n",
       "1  2.00   4.00   0.50\n",
       "8 16.20  16.20   1.00"
      ]
     },
     "execution_count": 17,
     "metadata": {},
     "output_type": "execute_result"
    }
   ],
   "source": [
    "hypothesis['ratio'] = hypothesis['ice'] / hypothesis['rice']\n",
    "hypothesis[['ice', 'rice', 'ratio']].sort_values(by='ratio')"
   ]
  },
  {
   "cell_type": "markdown",
   "id": "8215c1d0",
   "metadata": {},
   "source": [
    "### Вывод по разделу"
   ]
  },
  {
   "cell_type": "markdown",
   "id": "5cdcec40",
   "metadata": {},
   "source": [
    "Мы осуществили приоритизацию гипотез. Стоит отметить что результаты несколько разнятся для методов ICE и RICE. В методе RICE мы наглядно увидели, что данный метод отмечает воздейсвие проверки гипотез на охват пользователей. \n",
    "\n",
    "По полученным данным, можно отметить гипотезы, которые стоит проверять в первую очередь с учетом охвата пользователей: \n",
    "- Гипотеза №7. Добавить форму подписки на все основные страницы, чтобы собрать базу клиентов для email-рассылок;\n",
    "- Гипотеза №2. Добавить блоки рекомендаций товаров на сайт интернет магазина, чтобы повысить конверсию и средний чек заказа\n",
    "- Гипотеза №0. Добавить два новых канала привлечения трафика, что позволит привлекать на 30% больше пользователей\n",
    "- Гипотеза №6. Показать на главной странице баннеры с актуальными акциями и распродажами, чтобы увеличить конверсию\t\n",
    "\n",
    "Если делать уклон не на охват пользователей, то можно отметить следующие гипотезы: \n",
    "- Гипотеза №8. Запустить акцию, дающую скидку на товар в день рождения\n",
    "- Гипотеза №0. Добавить два новых канала привлечения трафика, что позволит привлекать на 30% больше пользователей\t\n",
    "- Гипотеза №7. Добавить форму подписки на все основные страницы, чтобы собрать базу клиентов для email-рассылок\n",
    "\n",
    "Как мы видим, есть схожести в обоих списках. \n",
    "\n",
    "По моему мнению начинать в первую очередь стоить начать проверку теории №7 с большим охватом. Она принесёт наибольшие диведенты компании. "
   ]
  },
  {
   "cell_type": "markdown",
   "id": "31c82ae5",
   "metadata": {},
   "source": [
    "## Анализ A/B теста "
   ]
  },
  {
   "cell_type": "markdown",
   "id": "32536bcb",
   "metadata": {},
   "source": [
    "Для дальнейшего анализа A/B теста создадим массив уникальных пар дат и групп теста. Далее получим агрегированные кумулятивные данные по дням для посетителей. "
   ]
  },
  {
   "cell_type": "code",
   "execution_count": 18,
   "id": "650edc5b",
   "metadata": {},
   "outputs": [
    {
     "data": {
      "text/html": [
       "<div>\n",
       "<style scoped>\n",
       "    .dataframe tbody tr th:only-of-type {\n",
       "        vertical-align: middle;\n",
       "    }\n",
       "\n",
       "    .dataframe tbody tr th {\n",
       "        vertical-align: top;\n",
       "    }\n",
       "\n",
       "    .dataframe thead th {\n",
       "        text-align: right;\n",
       "    }\n",
       "</style>\n",
       "<table border=\"1\" class=\"dataframe\">\n",
       "  <thead>\n",
       "    <tr style=\"text-align: right;\">\n",
       "      <th></th>\n",
       "      <th>date</th>\n",
       "      <th>group</th>\n",
       "      <th>orders</th>\n",
       "      <th>buyers</th>\n",
       "      <th>revenue</th>\n",
       "      <th>visitors</th>\n",
       "    </tr>\n",
       "  </thead>\n",
       "  <tbody>\n",
       "    <tr>\n",
       "      <th>0</th>\n",
       "      <td>2019-08-01</td>\n",
       "      <td>A</td>\n",
       "      <td>23</td>\n",
       "      <td>19</td>\n",
       "      <td>142779</td>\n",
       "      <td>719</td>\n",
       "    </tr>\n",
       "    <tr>\n",
       "      <th>1</th>\n",
       "      <td>2019-08-01</td>\n",
       "      <td>B</td>\n",
       "      <td>17</td>\n",
       "      <td>17</td>\n",
       "      <td>59758</td>\n",
       "      <td>713</td>\n",
       "    </tr>\n",
       "    <tr>\n",
       "      <th>2</th>\n",
       "      <td>2019-08-02</td>\n",
       "      <td>A</td>\n",
       "      <td>42</td>\n",
       "      <td>36</td>\n",
       "      <td>234381</td>\n",
       "      <td>1338</td>\n",
       "    </tr>\n",
       "    <tr>\n",
       "      <th>3</th>\n",
       "      <td>2019-08-02</td>\n",
       "      <td>B</td>\n",
       "      <td>40</td>\n",
       "      <td>39</td>\n",
       "      <td>221801</td>\n",
       "      <td>1294</td>\n",
       "    </tr>\n",
       "    <tr>\n",
       "      <th>4</th>\n",
       "      <td>2019-08-03</td>\n",
       "      <td>A</td>\n",
       "      <td>66</td>\n",
       "      <td>60</td>\n",
       "      <td>346854</td>\n",
       "      <td>1845</td>\n",
       "    </tr>\n",
       "  </tbody>\n",
       "</table>\n",
       "</div>"
      ],
      "text/plain": [
       "        date group  orders  buyers  revenue  visitors\n",
       "0 2019-08-01     A      23      19   142779       719\n",
       "1 2019-08-01     B      17      17    59758       713\n",
       "2 2019-08-02     A      42      36   234381      1338\n",
       "3 2019-08-02     B      40      39   221801      1294\n",
       "4 2019-08-03     A      66      60   346854      1845"
      ]
     },
     "execution_count": 18,
     "metadata": {},
     "output_type": "execute_result"
    }
   ],
   "source": [
    "#создаем массив уникальных пар значений дат и групп теста\n",
    "dt_groups = orders[['date', 'group']].drop_duplicates()  \n",
    "\n",
    "#получаем агрегированные кумулятивные по дням данные о заказах \n",
    "orders_aggregated = dt_groups.apply(\n",
    "    lambda x: orders[\n",
    "        np.logical_and(\n",
    "            orders['date'] <= x['date'], orders['group'] == x['group']\n",
    "        )\n",
    "    ].agg({\n",
    "            'date': 'max',\n",
    "            'group': 'max',\n",
    "            'transactionid': 'nunique',\n",
    "            'visitorid': 'nunique',\n",
    "            'revenue': 'sum',\n",
    "        }\n",
    "    ),\n",
    "    axis=1,\n",
    ").sort_values(by=['date', 'group'])\n",
    "\n",
    "# получаем агрегированные кумулятивные по дням данные о посетителях интернет-магазина \n",
    "visitors_aggregated = dt_groups.apply(\n",
    "    lambda x: visitors[\n",
    "        np.logical_and(\n",
    "            visitors['date'] <= x['date'], visitors['group'] == x['group']\n",
    "        )\n",
    "    ].agg({\n",
    "        'date': 'max',\n",
    "        'group': 'max', \n",
    "        'visitors': 'sum'\n",
    "    }\n",
    "    ),\n",
    "    axis=1,\n",
    ").sort_values(by=['date', 'group']) \n",
    "\n",
    "#объединям полученные таблицы по дате и группе \n",
    "cumulative_df = orders_aggregated.merge(\n",
    "    visitors_aggregated, left_on=['date', 'group'], right_on=['date', 'group']\n",
    ")\n",
    "#переименум столбцы \n",
    "cumulative_df.columns = [\n",
    "    'date',\n",
    "    'group',\n",
    "    'orders',\n",
    "    'buyers',\n",
    "    'revenue',\n",
    "    'visitors',\n",
    "] \n",
    "#выведем полученную таблицу\n",
    "cumulative_df.head()"
   ]
  },
  {
   "cell_type": "markdown",
   "id": "954e96f8",
   "metadata": {},
   "source": [
    "Получили оптимизированные данные."
   ]
  },
  {
   "cell_type": "markdown",
   "id": "776dc75d",
   "metadata": {},
   "source": [
    "### График кумулятивной выручки по группам"
   ]
  },
  {
   "cell_type": "markdown",
   "id": "2f1bafbe",
   "metadata": {},
   "source": [
    "Пострим график кумулятивной выручки по группам:"
   ]
  },
  {
   "cell_type": "code",
   "execution_count": 19,
   "id": "db9f11c3",
   "metadata": {},
   "outputs": [
    {
     "data": {
      "image/png": "[encoded data removed]",
      "text/plain": [
       "<Figure size 720x432 with 1 Axes>"
      ]
     },
     "metadata": {},
     "output_type": "display_data"
    }
   ],
   "source": [
    "#зададим параметры графика \n",
    "plt.figure(figsize=(10,6))  \n",
    "\n",
    "# датафрейм с кумулятивным количеством заказов и кумулятивной выручкой по дням в группе А\n",
    "cumulative_revenue_a = cumulative_df[cumulative_df['group']=='A'][['date','revenue', 'orders']]\n",
    "\n",
    "# датафрейм с кумулятивным количеством заказов и кумулятивной выручкой по дням в группе B\n",
    "cumulative_revenue_b = cumulative_df[cumulative_df['group']=='B'][['date','revenue', 'orders']]\n",
    "\n",
    "# строим график выручки группы А\n",
    "plt.plot(cumulative_revenue_a['date'], cumulative_revenue_a['revenue'], label='A')\n",
    "\n",
    "# строим график выручки группы B\n",
    "plt.plot(cumulative_revenue_b['date'], cumulative_revenue_b['revenue'], label='B')\n",
    "\n",
    "# зададим описание графика\n",
    "plt.legend(['Группа А', 'Группа B']) \n",
    "plt.xlabel('Дата')\n",
    "plt.ylabel('Выручка') \n",
    "plt.title('Кумулятивная выручка по дням и группам A/B-тестирования')\n",
    "plt.xticks(rotation = 60)\n",
    "plt.show() "
   ]
  },
  {
   "cell_type": "markdown",
   "id": "8e1c77e0",
   "metadata": {},
   "source": [
    "По полученным данным видно, что на протяжении всего срока проведений эксперимента группа B лидирует. Также, виден сильный скачок в период с 17 по 18 авнусиа 2019 года. Вполне возможно, что это связано с анамальными значениями стоимости или колличества заказов. "
   ]
  },
  {
   "cell_type": "markdown",
   "id": "bd88b642",
   "metadata": {},
   "source": [
    "### График кумулятивного среднего чека по группам"
   ]
  },
  {
   "cell_type": "code",
   "execution_count": 20,
   "id": "af1359f2",
   "metadata": {},
   "outputs": [
    {
     "data": {
      "image/png": "[encoded data removed]",
      "text/plain": [
       "<Figure size 720x432 with 1 Axes>"
      ]
     },
     "metadata": {},
     "output_type": "display_data"
    }
   ],
   "source": [
    "#зададим параметры графика \n",
    "plt.figure(figsize=(10,6))  \n",
    "\n",
    "#построим графики, что бы получить средний чек, разделим выручку на число заказов\n",
    "plt.plot(cumulative_revenue_a['date'], cumulative_revenue_a['revenue']/cumulative_revenue_a['orders'], label='A')\n",
    "plt.plot(cumulative_revenue_b['date'], cumulative_revenue_b['revenue']/cumulative_revenue_b['orders'], label='B')\n",
    "plt.legend()  \n",
    "\n",
    "# зададим описание графика\n",
    "plt.legend(['Группа А', 'Группа B']) \n",
    "plt.xlabel('Дата')\n",
    "plt.ylabel('Средний чек') \n",
    "plt.title('Кумулятивный средний чек по дням и группам A/B-тестирования')\n",
    "plt.xticks(rotation = 60)\n",
    "plt.show()  "
   ]
  },
  {
   "cell_type": "markdown",
   "id": "153ed124",
   "metadata": {},
   "source": [
    "По полученным данным видно:\n",
    "\n",
    "- в первой половине теста графики ведут себя не стабильно, есть как сильные росты, так и падения\n",
    "- на графике среднего чека анамальное значения для группе B в период с 08.17 по 08.21 уже более явное\n",
    "- к коцу периода коммулятивный средний чек группы B, выше, чем у А, но стоит учесть, что были анамальные значения\n",
    "- к концу периода у группы А есть тенденция к росту, а у B к снижению"
   ]
  },
  {
   "cell_type": "markdown",
   "id": "33d78cef",
   "metadata": {},
   "source": [
    "### График относительного изменения кумулятивного среднего чека группы B к группе A"
   ]
  },
  {
   "cell_type": "code",
   "execution_count": 21,
   "id": "160bffe4",
   "metadata": {},
   "outputs": [
    {
     "data": {
      "image/png": "[encoded data removed]",
      "text/plain": [
       "<Figure size 720x432 with 1 Axes>"
      ]
     },
     "metadata": {},
     "output_type": "display_data"
    }
   ],
   "source": [
    "#объеденим по столбцу с датой и зададим суффиксы для каждый группы \n",
    "merged_revenue = cumulative_revenue_a.merge(\n",
    "    cumulative_revenue_b, \n",
    "    left_on='date', right_on='date', \n",
    "    how='left',\n",
    "    suffixes=['_a', '_b']\n",
    ")\n",
    "\n",
    "# зададим размеры графика  \n",
    "plt.figure(figsize=(10,6))   \n",
    "# cтроим отношение средних чеков\n",
    "plt.plot(\n",
    "    merged_revenue['date'],\n",
    "    (merged_revenue['revenue_b']/\n",
    "     merged_revenue['orders_b'])/\n",
    "    (merged_revenue['revenue_a']/\n",
    "     merged_revenue['orders_a'])\n",
    "    -1\n",
    ")\n",
    "\n",
    "# добавляем ось X\n",
    "plt.axhline(y=0, color='black', linestyle='--')  \n",
    "# зададим описание графика \n",
    "plt.xlabel('Дата')\n",
    "plt.ylabel('Отношение') \n",
    "plt.title('Относительное изменение кумулятивного среднего чека группы B к группе A')\n",
    "plt.xticks(rotation = 60)\n",
    "plt.show()   "
   ]
  },
  {
   "cell_type": "markdown",
   "id": "6b51dbce",
   "metadata": {},
   "source": [
    "По полученным данным видим резкие скачки. Это может означать, что в эти дни были произведены аномальные значения в данных."
   ]
  },
  {
   "cell_type": "markdown",
   "id": "3ea36c52",
   "metadata": {},
   "source": [
    "### График кумулятивного среднего количества заказов на посетителя по группам"
   ]
  },
  {
   "cell_type": "code",
   "execution_count": 22,
   "id": "5bd41f6c",
   "metadata": {},
   "outputs": [
    {
     "data": {
      "image/png": "[encoded data removed]",
      "text/plain": [
       "<Figure size 864x576 with 1 Axes>"
      ]
     },
     "metadata": {},
     "output_type": "display_data"
    }
   ],
   "source": [
    "# считаем кумулятивную конверсию\n",
    "cumulative_df['conversion'] = cumulative_df['orders']/cumulative_df['visitors']\n",
    "\n",
    "# отделяем данные по группе A\n",
    "cumulative_df_a = cumulative_df[cumulative_df['group']=='A']\n",
    "\n",
    "# отделяем данные по группе B\n",
    "cumulative_df_b = cumulative_df[cumulative_df['group']=='B']\n",
    "\n",
    "# зададим размеры графика  \n",
    "plt.figure(figsize=(12,8))   \n",
    "\n",
    "# строим графики\n",
    "plt.plot(cumulative_df_a['date'], cumulative_df_a['conversion'], label='A')\n",
    "plt.plot(cumulative_df_b['date'], cumulative_df_b['conversion'], label='B')\n",
    "\n",
    "\n",
    "# зададим описание графика\n",
    "plt.legend(['Группа А', 'Группа B']) \n",
    "# задаем масштаб осей\n",
    "plt.xlabel('Дата')\n",
    "plt.ylabel('Колличечтво заказов') \n",
    "plt.title('Кумулятивное колличество заказов по группам')\n",
    "plt.xticks(rotation = 60)\n",
    "plt.show()  "
   ]
  },
  {
   "cell_type": "markdown",
   "id": "a714f0a7",
   "metadata": {},
   "source": [
    "На грфике видим, что в первые дни колличество заказов у группы А была выше, чем у В, но спустя 6 дней со времени запуска теста, это поменялось:\n",
    "* для А конверсия держалась на уровне от 0.029 до 0.031,\n",
    "* для B от 0.034 до 0.036\n",
    "\n",
    "Предварительно гипотеза подтверждается, с новововведениями на сайте - колличество посетителей растёт  "
   ]
  },
  {
   "cell_type": "markdown",
   "id": "ae409dee",
   "metadata": {},
   "source": [
    "### График относительного изменения кумулятивного среднего количества заказов на посетителя группы B к группе A"
   ]
  },
  {
   "cell_type": "code",
   "execution_count": 23,
   "id": "875c3df1",
   "metadata": {},
   "outputs": [
    {
     "data": {
      "image/png": "[encoded data removed]",
      "text/plain": [
       "<Figure size 720x432 with 1 Axes>"
      ]
     },
     "metadata": {},
     "output_type": "display_data"
    }
   ],
   "source": [
    "#объеденим по столбцу с датой и зададим суффиксы для каждый группы  \n",
    "merged_сonversion = cumulative_df_a[['date','conversion']].merge(\n",
    "    cumulative_df_b[['date','conversion']], \n",
    "    left_on='date',\n",
    "    right_on='date', \n",
    "    how='left',\n",
    "    suffixes=['_a', '_b']\n",
    ")\n",
    "\n",
    "# зададим размеры графика  \n",
    "plt.figure(figsize=(10,6))   \n",
    "\n",
    "plt.plot(merged_сonversion['date'],\n",
    "         merged_сonversion['conversion_b']/\n",
    "         merged_сonversion['conversion_a']-1,\n",
    "        )\n",
    "# добавляем ось X c нулевым приростом и отметку в 20% \n",
    "plt.axhline(y=0, color='black', linestyle='--')  \n",
    "plt.axhline(y=0.2, color='grey', linestyle='--') \n",
    "# зададим описание графика \n",
    "plt.ylabel('Колличество заказов') \n",
    "plt.xlabel('Дата') \n",
    "plt.title('Относительный прирост колличества заказов группы B относительно группы A') \n",
    "plt.xticks(rotation = 60)\n",
    "plt.show()"
   ]
  },
  {
   "cell_type": "markdown",
   "id": "312e3a06",
   "metadata": {},
   "source": [
    "На графике видим, что в начале теста, колличество заказов показывало не стабильные результаты, сначало резко поднималось, а потом опускалось, но на 6й день теста, получили стабильный прирост, который привысил 20% и установился в пределах от 10 до 15 % к концу периода."
   ]
  },
  {
   "cell_type": "markdown",
   "id": "0e64fd4d",
   "metadata": {},
   "source": [
    "### Точечный график количества заказов по пользователям"
   ]
  },
  {
   "cell_type": "code",
   "execution_count": 24,
   "id": "29b5eb45",
   "metadata": {},
   "outputs": [
    {
     "data": {
      "image/png": "[encoded data removed]",
      "text/plain": [
       "<Figure size 720x432 with 1 Axes>"
      ]
     },
     "metadata": {},
     "output_type": "display_data"
    }
   ],
   "source": [
    "#создадим сводную таблицу с кол-вом закзазов для каждого пользователя \n",
    "orders_count = (\n",
    "    orders\n",
    "    .groupby('visitorid', as_index=False)\n",
    "    .agg({'transactionid': 'nunique'})\n",
    ")\n",
    "#переименуем столбуы \n",
    "orders_count.columns = ['user_id', 'orders']\n",
    "\n",
    "# серия из чисел от 0 до количества наблюдений в orders_count \n",
    "x_values = pd.Series(range(0, len(orders_count)))\n",
    "# зададим размеры графика  \n",
    "plt.figure(figsize=(10,6)) \n",
    "#построим график \n",
    "plt.scatter(x_values, orders_count['orders'])  \n",
    "# зададим описание графика \n",
    "plt.ylabel('Кол-во заказов') \n",
    "plt.xlabel('Кол-во пользователей') \n",
    "plt.title('Распределение по кол-ву сделанных заказов') \n",
    "plt.show() "
   ]
  },
  {
   "cell_type": "markdown",
   "id": "27bbe482",
   "metadata": {},
   "source": [
    "Больше всего пользователей с 1м или 2мя заказами, остальные довольно редкие, пользователей с 3-я заказами уже можно посчитать на взгляд по кол-ву точек на графике, но есть уникальные, которые сделали до11 заказов за период."
   ]
  },
  {
   "cell_type": "markdown",
   "id": "c8e00d25",
   "metadata": {},
   "source": [
    "### 95-й и 99-й перцентили количества заказов на пользователя"
   ]
  },
  {
   "cell_type": "code",
   "execution_count": 25,
   "id": "14119fff",
   "metadata": {},
   "outputs": [
    {
     "name": "stdout",
     "output_type": "stream",
     "text": [
      "[1. 2.]\n"
     ]
    }
   ],
   "source": [
    "# Определяем 95-й и 99-й процентили\n",
    "print(np.percentile(orders_count['orders'], [95, 99])) "
   ]
  },
  {
   "cell_type": "markdown",
   "id": "f1274c8e",
   "metadata": {},
   "source": [
    "Получаем следующий результат:\n",
    "* не более 5 % совершили больше 1-ух заказов\n",
    "* не более 1 % совершили больше 2-ух заказов\n",
    "\n",
    "Устанавливаем границу по колличеству заказов на пользователя в 2 шт."
   ]
  },
  {
   "cell_type": "markdown",
   "id": "8a5320f6",
   "metadata": {},
   "source": [
    "### Точечный график стоимостей заказов"
   ]
  },
  {
   "cell_type": "code",
   "execution_count": 26,
   "id": "701c095d",
   "metadata": {},
   "outputs": [
    {
     "data": {
      "image/png": "[encoded data removed]",
      "text/plain": [
       "<Figure size 720x432 with 1 Axes>"
      ]
     },
     "metadata": {},
     "output_type": "display_data"
    }
   ],
   "source": [
    "# серия из чисел от 0 до количества наблюдений в orders \n",
    "x_values = pd.Series(range(0, len(orders['revenue'])))\n",
    "# зададим размеры графика  \n",
    "plt.figure(figsize=(10,6)) \n",
    "#построим график \n",
    "scattter_plot = plt.scatter(x_values, orders['revenue'])  \n",
    "# зададим описание графика \n",
    "plt.ylabel('Стоимость заказов') \n",
    "plt.xlabel('Кол-во пользователей') \n",
    "plt.title('Распределение по сумме сделанных заказов') \n",
    "plt.show() "
   ]
  },
  {
   "cell_type": "markdown",
   "id": "b8b325f4",
   "metadata": {},
   "source": [
    "Можно уже заметить, что максимальное значения сильно превосходит остальные. Заказы на 200 тысяч и миллинон - очевидно будут сильно выбиваться. Зададим лимит в 100 000, что бы подробнее изучить распредление наиболее частых заказов:"
   ]
  },
  {
   "cell_type": "code",
   "execution_count": 27,
   "id": "08517e2b",
   "metadata": {},
   "outputs": [
    {
     "data": {
      "image/png": "[encoded data removed]",
      "text/plain": [
       "<Figure size 720x432 with 1 Axes>"
      ]
     },
     "metadata": {},
     "output_type": "display_data"
    }
   ],
   "source": [
    "# серия из чисел от 0 до количества наблюдений в orders \n",
    "x_values = pd.Series(range(0, len(orders['revenue'])))\n",
    "# зададим размеры графика  \n",
    "plt.figure(figsize=(10,6))\n",
    "#построим график \n",
    "plt.scatter(x_values, orders['revenue'])\n",
    "#срежем очевидно анамальные заказы \n",
    "plt.ylim(0, 100000) \n",
    "# зададим описание графика \n",
    "plt.ylabel('Стоимость заказов') \n",
    "plt.xlabel('Кол-во пользователей') \n",
    "plt.title('Распределение по сумме сделанных заказов') \n",
    "plt.show()  "
   ]
  },
  {
   "cell_type": "markdown",
   "id": "4846dc39",
   "metadata": {},
   "source": [
    "Видим, что основные значения лежат в пределах до приблизтельно 20000, по графику всё ещё сложно оценить границу анамально большого заказа, воспользуемся подсчётом процентелией"
   ]
  },
  {
   "cell_type": "markdown",
   "id": "fa861df9",
   "metadata": {},
   "source": [
    "### 95-й и 99-й перцентили стоимости заказов"
   ]
  },
  {
   "cell_type": "code",
   "execution_count": 28,
   "id": "764c49b7",
   "metadata": {},
   "outputs": [
    {
     "name": "stdout",
     "output_type": "stream",
     "text": [
      "[26785. 53904.]\n"
     ]
    }
   ],
   "source": [
    "# Находим 95-й и 99-й процентили\n",
    "print(np.percentile(orders['revenue'], [95, 99]))  "
   ]
  },
  {
   "cell_type": "markdown",
   "id": "b3552e35",
   "metadata": {},
   "source": [
    "Получаем следующий результат:\n",
    "* не более 5 % заказов стомостью более 26785 рублей \n",
    "* не более 1 % заказов стомостью более 53904 рублей  \n",
    "\n",
    "Устанавливаем границу по сумме заказа в 26785 рублей."
   ]
  },
  {
   "cell_type": "markdown",
   "id": "95d515ed",
   "metadata": {},
   "source": [
    "### Статистическая значимость различий в среднем количестве заказов на посетителя между группами по «сырым» данным"
   ]
  },
  {
   "cell_type": "markdown",
   "id": "93674c18",
   "metadata": {},
   "source": [
    "Статистическую значимость различий будет считать с помощью теста Манна-Уитни\n",
    "\n",
    "**Нулевая гипотеза:** Различий в колличестве заказов между группами нет\n",
    "\n",
    "**Альтернативная гипотеза:** Различия в колличестве заказов между группами есть\n",
    "\n",
    "**Коэффициент альфа:** 0.05"
   ]
  },
  {
   "cell_type": "code",
   "execution_count": 29,
   "id": "2aad6a20",
   "metadata": {},
   "outputs": [
    {
     "name": "stdout",
     "output_type": "stream",
     "text": [
      "Значение p-value : 0.011018084110014696\n",
      "Отвергаем нулевую гипотезу\n",
      "Среднее колличество заказов группы А: 2.5%\n",
      "Среднее колличество заказов B: 2.9%\n",
      "Отношение колличеств заказов в группе В к колличеству заказов в группе А: 0.160\n"
     ]
    }
   ],
   "source": [
    "# таблицы с данными по заказам на каждого пользователя\n",
    "orders_by_users_a = orders[orders['group']=='A'].groupby('visitorid')['transactionid'].nunique().reset_index()\n",
    "orders_by_users_a.columns=['visitorsid','orders']\n",
    "\n",
    "orders_by_users_b = orders[orders['group']=='B'].groupby('visitorid')['transactionid'].nunique().reset_index()\n",
    "orders_by_users_b.columns=['visitorsid','orders'] \n",
    "# ------------------\n",
    "sample_a = pd.concat(\n",
    "    [\n",
    "        orders_by_users_a['orders'],\n",
    "        pd.Series(0, \n",
    "                  index=np.arange\n",
    "                  (visitors[visitors['group']=='A']['visitors'].sum() - len(orders_by_users_a['orders'])\n",
    "                  ),\n",
    "                  name='orders'\n",
    "                 )\n",
    "    ],\n",
    "    axis=0)\n",
    "sample_b = pd.concat(\n",
    "    [\n",
    "        orders_by_users_b['orders'],\n",
    "        pd.Series\n",
    "        (0,\n",
    "         index=np.arange(\n",
    "             visitors[visitors['group']=='B']['visitors'].sum() - len(orders_by_users_b['orders'])\n",
    "         ),\n",
    "         name='orders'\n",
    "        )\n",
    "    ],\n",
    "    axis=0)\n",
    "# ---------------------------\n",
    "result_1 = stats.mannwhitneyu(sample_a, sample_b)[1] \n",
    "#задаим значение aplha\n",
    "alpha = 0.05\n",
    "#введем значение p-value\n",
    "print(f'Значение p-value : {result_1}')\n",
    "# условный оператор с выводом строки с ответом\n",
    "if result_1 < alpha:\n",
    "    print(\"Отвергаем нулевую гипотезу\")\n",
    "else:\n",
    "    print(\"Не получилось отвергнуть нулевую гипотезу\")  \n",
    "print('Среднее колличество заказов группы А: {:.1%}'.format(sample_a.mean()))\n",
    "print('Среднее колличество заказов B: {:.1%}'.format(sample_b.mean()))  \n",
    "print('Отношение колличеств заказов в группе В к колличеству заказов в группе А: {0:.3f}'.format(sample_b.mean()/sample_a.mean()-1))  "
   ]
  },
  {
   "cell_type": "markdown",
   "id": "0842acbd",
   "metadata": {},
   "source": [
    "P-value меньше заданного значения alpha - отвергаем нулевую гипотезу, следовательно верно утвеждение о том, что различия в колличестве заказов есть. \n",
    "\n",
    "Отношения колличества заказов группы А к В 0.16, что можно интропритировать как относительный прирост в ~16%, что является не плохим результатом, на следующих этапах посмотрим какое значения будут иметь данные без аномалий "
   ]
  },
  {
   "cell_type": "markdown",
   "id": "6e0f9d00",
   "metadata": {},
   "source": [
    "### Статистическая значимость различий в среднем чеке заказа между группами по «сырым» данным"
   ]
  },
  {
   "cell_type": "markdown",
   "id": "7178ffce",
   "metadata": {},
   "source": [
    "**Нулевая гипотеза:** Различий в средних чеках между группами нет\n",
    "\n",
    "**Альтернативная гипотеза:** Различия в средних чеках между группами есть\n",
    "\n",
    "**Коэффициент альфа:** 0.05\n"
   ]
  },
  {
   "cell_type": "code",
   "execution_count": 34,
   "id": "d67d2f7d",
   "metadata": {},
   "outputs": [
    {
     "name": "stdout",
     "output_type": "stream",
     "text": [
      "Значение p-value : 0.8294908998149533\n",
      "Не получилось отвергнуть нулевую гипотезу\n",
      "Средний чек группы А: 7189.44\n",
      "Средний чек группы B: 9249.95\n",
      "Отношение значения среднего чека в группе B к значению среднего чека в группе A : 1.29\n"
     ]
    }
   ],
   "source": [
    "result_2 = stats.mannwhitneyu(orders[orders['group']=='A']['revenue'], orders[orders['group']=='B']['revenue'])[1]  \n",
    "#введем значение p-value\n",
    "print(f'Значение p-value : {result_2}')\n",
    "# условный оператор с выводом строки с ответом\n",
    "if result_2 < alpha:\n",
    "    print(\"Отвергаем нулевую гипотезу\")\n",
    "else:\n",
    "    print(\"Не получилось отвергнуть нулевую гипотезу\")  \n",
    "#выведем основные показатели\n",
    "print('Средний чек группы А: {:.2f}'.format(orders[orders['group']=='A']['revenue'].mean()))\n",
    "print('Средний чек группы B: {:.2f}'.format(orders[orders['group']=='B']['revenue'].mean())) \n",
    "print('Отношение значения среднего чека в группе B к значению среднего чека в группе A : {:.2f}'.format(orders[orders['group']=='B']['revenue'].mean() / orders[orders['group']=='A']['revenue'].mean()))"
   ]
  },
  {
   "cell_type": "markdown",
   "id": "ba78ac69",
   "metadata": {},
   "source": [
    "P-value значительно больше alpha, значит принимаем нулевую гипотезу - статичстичкой значимости различий в средних чеках нет, несмотря на разницу общего среднего значения по группам, которая составила в абсолютных значений 29%"
   ]
  },
  {
   "cell_type": "markdown",
   "id": "ef22bfd7",
   "metadata": {},
   "source": [
    "### Статистическую значимость различий в среднем количестве заказов на посетителя между группами по «очищенным» данным"
   ]
  },
  {
   "cell_type": "code",
   "execution_count": 31,
   "id": "40486708",
   "metadata": {},
   "outputs": [
    {
     "name": "stdout",
     "output_type": "stream",
     "text": [
      "568     113298937\n",
      "1099    148427295\n",
      "928     204675465\n",
      "33      249864742\n",
      "684     358944393\n",
      "dtype: int64\n",
      " \n",
      "Кол-во анамальных пользователей:  58\n"
     ]
    }
   ],
   "source": [
    "# собираем пользователей с большим кол-вом заказов \n",
    "many_orders = pd.concat(\n",
    "    [\n",
    "        orders_by_users_a[orders_by_users_a['orders'] > 2]['visitorsid'],\n",
    "        orders_by_users_b[orders_by_users_b['orders'] > 2]['visitorsid'],\n",
    "    ],\n",
    "    axis=0,\n",
    ")\n",
    "\n",
    "# собираем пользователей с слишком дорогими заказами\n",
    "expensive_orders = orders[orders['revenue'] > 26785]['visitorid']\n",
    "\n",
    "# объединяем всё в один датафрейм \n",
    "abnormal_users = (\n",
    "    pd.concat([many_orders, expensive_orders], axis=0)\n",
    "    .drop_duplicates()\n",
    "    .sort_values()\n",
    ")\n",
    "print(abnormal_users.head(5))\n",
    "print(' ')\n",
    "print('Кол-во анамальных пользователей: ', abnormal_users.shape[0])"
   ]
  },
  {
   "cell_type": "markdown",
   "id": "4003f720",
   "metadata": {},
   "source": [
    "Такое кол-во может повлиять на итоговые выводы, используем полученные данные для того, чтобы убрать аномалии:"
   ]
  },
  {
   "cell_type": "markdown",
   "id": "533a1e3d",
   "metadata": {},
   "source": [
    "Статистическую значимость различий будет считать с помощью теста Манна-Уитни\n",
    "\n",
    "**Нулевая гипотеза:** Различий в колличестве заказов между \"отфильтрованными\" группами нет\n",
    "\n",
    "**Альтернативная гипотеза:** Различия в колличестве заказов между \"отфильтрованными\" группами есть\n",
    "\n",
    "**Коэффициент альфа:** 0.05"
   ]
  },
  {
   "cell_type": "code",
   "execution_count": 32,
   "id": "68284879",
   "metadata": {},
   "outputs": [
    {
     "name": "stdout",
     "output_type": "stream",
     "text": [
      "Значение p-value : 0.01235203801772639\n",
      "Отвергаем нулевую гипотезу\n",
      "Среднее колличество заказов (очищенная) группы А: 2.3%\n",
      "Среднее колличество заказов (очищенная) группы B: 2.7%\n",
      "Отношение колличества заказов в группе В к колличеству заказов в группе А, по очищенным данным: 0.182\n"
     ]
    }
   ],
   "source": [
    "#отфильтруем данные в группе А \n",
    "sample_a_filtered = pd.concat(\n",
    "    [\n",
    "        orders_by_users_a[\n",
    "            np.logical_not(orders_by_users_a['visitorsid'].isin(abnormal_users))\n",
    "        ]['orders'],\n",
    "        pd.Series(\n",
    "            0,\n",
    "            index=np.arange(\n",
    "                visitors[visitors['group']=='A']['visitors'].sum() - len(orders_by_users_a['orders'])\n",
    "            ),\n",
    "            name='orders',\n",
    "        ),\n",
    "    ],\n",
    "    axis=0,\n",
    ")\n",
    "\n",
    "#отфильтруем данные в группе В\n",
    "sample_b_filtered = pd.concat(\n",
    "    [\n",
    "        orders_by_users_b[\n",
    "            np.logical_not(orders_by_users_b['visitorsid'].isin(abnormal_users))\n",
    "        ]['orders'],\n",
    "        pd.Series(\n",
    "            0,\n",
    "            index=np.arange(\n",
    "                visitors[visitors['group']=='B']['visitors'].sum() - len(orders_by_users_b['orders'])\n",
    "            ),\n",
    "            name='orders',\n",
    "        ),\n",
    "    ],\n",
    "    axis=0,\n",
    ")  \n",
    "\n",
    "result_3 = stats.mannwhitneyu(sample_a_filtered, sample_b_filtered)[1] \n",
    "#ведем значение pvalue\n",
    "print(f'Значение p-value : {result_3}') \n",
    "# условный оператор с выводом строки с ответом\n",
    "if result_3 < alpha:\n",
    "    print(\"Отвергаем нулевую гипотезу\")\n",
    "else:\n",
    "    print(\"Не получилось отвергнуть нулевую гипотезу\") \n",
    "print('Среднее колличество заказов (очищенная) группы А: {:.1%}'.format(sample_a_filtered.mean()))\n",
    "print('Среднее колличество заказов (очищенная) группы B: {:.1%}'.format(sample_b_filtered.mean())) \n",
    "print('Отношение колличества заказов в группе В к колличеству заказов в группе А, по очищенным данным: {0:.3f}'.format(sample_b_filtered.mean()/sample_a_filtered.mean()-1))"
   ]
  },
  {
   "cell_type": "markdown",
   "id": "a23b876e",
   "metadata": {},
   "source": [
    "Для \"очищенных\" данных также справедливо утверждение о том, что колличества заказов разные и нулевая гипотеза верна. Само значение колличества заказов изменилось в меньшую сторону для обоих групп, лидируют по-прежнему пользователи из B, а средний прирост оказался выше более 2-х%"
   ]
  },
  {
   "cell_type": "markdown",
   "id": "bba9222e",
   "metadata": {},
   "source": [
    "### Статистическая значимость различий в среднем чеке заказа между группами по «очищенным» данным"
   ]
  },
  {
   "cell_type": "markdown",
   "id": "20d0a915",
   "metadata": {},
   "source": [
    "Для \"сырых\" данных была принята нулевая гипотеза, проверим можем ли мы говорить о статистическом равенстве для \"очищенных\" данных\n",
    "\n",
    "**Нулевая гипотеза:** Различий в средних чеках между \"отфильтрованными\" группами нет\n",
    "\n",
    "**Альтернативная гипотеза:** Различия в средних чеках между \"отфильрованными\" группами есть\n",
    "\n",
    "**Коэффициент альфа:** 0.05"
   ]
  },
  {
   "cell_type": "code",
   "execution_count": 33,
   "id": "65cfe092",
   "metadata": {},
   "outputs": [
    {
     "name": "stdout",
     "output_type": "stream",
     "text": [
      "Значение p-value : 0.6458964038091206\n",
      "Не получилось отвергнуть нулевую гипотезу\n",
      "Средний чек группы А (очищенная): 4855.2\n",
      "Средний чек группы B (очищенная): 5102.5\n",
      "Отношение значения среднего чека в группе B к значению среднего чека в группе A, по очищенным данным: 0.95\n"
     ]
    }
   ],
   "source": [
    "result4 = stats.mannwhitneyu(\n",
    "    orders[np.logical_and(\n",
    "        orders['group']=='A',\n",
    "        np.logical_not(orders['visitorid'].isin(abnormal_users)))]['revenue'],\n",
    "    orders[np.logical_and(\n",
    "        orders['group']=='B',\n",
    "        np.logical_not(orders['visitorid'].isin(abnormal_users)))]['revenue'])[1] \n",
    "\n",
    "#посчитаем среднием значения \n",
    "mean_revenue_b = orders[np.logical_and(orders['group']=='B',\n",
    "                                       np.logical_not(orders['visitorid'].\n",
    "                                                      isin(abnormal_users)))]['revenue'].mean()\n",
    "mean_revenue_a = orders[np.logical_and(orders['group']=='A',\n",
    "                                       np.logical_not(orders['visitorid'].\n",
    "                                                      isin(abnormal_users)))]['revenue'].mean() \n",
    "\n",
    "print(f'Значение p-value : {result4}')  \n",
    "# условный оператор с выводом строки с ответом\n",
    "if result4 < alpha:\n",
    "    print(\"Отвергаем нулевую гипотезу\")\n",
    "else:\n",
    "    print(\"Не получилось отвергнуть нулевую гипотезу\")  \n",
    "#выведем всю необходимую информацию\n",
    "print('Средний чек группы А (очищенная): {:.1f}'.format(mean_revenue_b))\n",
    "print('Средний чек группы B (очищенная): {:.1f}'.format(mean_revenue_a))\n",
    "print('Отношение значения среднего чека в группе B к значению среднего чека в группе A, по очищенным данным: {0:.2f}'.format(mean_revenue_b / mean_revenue_a)) "
   ]
  },
  {
   "cell_type": "markdown",
   "id": "bbf3405d",
   "metadata": {},
   "source": [
    "Для \"очищенных\" данных статистическая занчимость средних чеков группы B и A, также равны, но стоит заметить, что абсолютные значения практически выровнились, отношение близко к единице"
   ]
  },
  {
   "cell_type": "markdown",
   "id": "c173bbd5",
   "metadata": {},
   "source": [
    "## Выводы"
   ]
  },
  {
   "cell_type": "markdown",
   "id": "6bbb9764",
   "metadata": {},
   "source": [
    "По результатам тестирования было выявлено:\n",
    "\n",
    "1. И по \"сырым\" и по \"очищенным\" данным различия в колличестве заказов по группам A и B есть. Относительный выигрыш группы \"B\" над \"A\" равен 18.2% по \"очищенным\" и 16% по \"сырым\" данным.\n",
    "\n",
    "2. Оказалось, что и по \"сырым\" и по \"очищенным\" данным различия в средних чеках групп A и B отстутствуют, несмотря на то, что средний чек группы B оказался незначительно (на 5%) ниже среднего чека группы A по \"очищенным\" данным, в то время как по \"сырым\" данным, он был больше аж на 29%\n",
    "\n",
    "Таким образом, по результатам A/B-тестирования мы пришли к следующим выводам:\n",
    "\n",
    "* Существует статистически значимая разница между колличествами заказов групп A и B как при подсчёте по \"сырым\", так и по \"очищенным\" данным. \n",
    "* Статистически значимой разницы между средними чеками групп нет. Однако при \"очищенных данных\" средний чек группы В проигрывает группе А относительно на 5%.\n",
    "* График относительного изменения накопительного колличества заказов группы B к группе A показывает, что колличество заказов в группе В стабильно лучше группы А. Возможно это значение ещё колеблется вокруг среднего, но уже точно А не будет лучше.\n",
    "* По графику относительного изменения среднего чека группы В к группе А нельзя сказать ничего конкретного. График искажён аномальными значениями.\n",
    "* Изменения, которые показывались группе В улучшили колличество заказов пользователей, но на средний чек эти изменения повлияли в меньшей степени (если не брать в счёт аномально дорогие заказы).\n",
    "\n",
    "Выводы по проверке гипотез:\n",
    "\n",
    "1. Статистическая значимость различий в среднем количестве заказов на посетителя между группами по «сырым» данным:\n",
    "    \n",
    "    **Нулевая гипотеза:** Различий в колличестве заказов между группами нет - ***Отвергаем***\n",
    "\n",
    "2. Статистическая значимость различий в среднем чеке заказа между группами по «сырым» данным:\n",
    "    \n",
    "    **Нулевая гипотеза:** Различий в средних чеках между группами нет - ***Не получилось отвергнуть нулевую гипотезу***\n",
    "    \n",
    "3.  Статистическую значимость различий в среднем количестве заказов на посетителя между группами по «очищенным» данным:\n",
    "\n",
    "    **Нулевая гипотеза:** Различий в колличестве заказов между \"отфильтрованными\" группами нет - ***Отвергаем нулевую гипотезу***\n",
    "    \n",
    "4.  Статистическая значимость различий в среднем чеке заказа между группами по «очищенным» данным:\n",
    "\n",
    "    **Нулевая гипотеза:** Различий в средних чеках между \"отфильтрованными\" группами нет - ***Не получилось отвергнуть нулевую гипотезу***\n",
    "\n",
    "\n",
    "Думаю, тест можно остановить и признать его успешным. Заметно улучшение в колличестве заказов в группе В относительно группы А."
   ]
  }
 ],
 "metadata": {
  "ExecuteTimeLog": [
   {
    "duration": 1078,
    "start_time": "2023-07-31T19:23:41.899Z"
   },
   {
    "duration": 9,
    "start_time": "2023-07-31T19:23:42.979Z"
   },
   {
    "duration": 190,
    "start_time": "2023-07-31T19:23:42.989Z"
   },
   {
    "duration": 4,
    "start_time": "2023-07-31T19:23:43.181Z"
   },
   {
    "duration": 44,
    "start_time": "2023-07-31T19:23:43.186Z"
   },
   {
    "duration": 3,
    "start_time": "2023-07-31T19:23:43.231Z"
   },
   {
    "duration": 50,
    "start_time": "2023-07-31T19:23:43.236Z"
   },
   {
    "duration": 3,
    "start_time": "2023-07-31T19:23:43.287Z"
   },
   {
    "duration": 33,
    "start_time": "2023-07-31T19:23:43.292Z"
   },
   {
    "duration": 11,
    "start_time": "2023-07-31T19:23:43.360Z"
   },
   {
    "duration": 11,
    "start_time": "2023-07-31T19:23:43.372Z"
   },
   {
    "duration": 12,
    "start_time": "2023-07-31T19:23:43.384Z"
   },
   {
    "duration": 277,
    "start_time": "2023-07-31T19:23:43.398Z"
   },
   {
    "duration": 353,
    "start_time": "2023-07-31T19:23:43.677Z"
   },
   {
    "duration": 399,
    "start_time": "2023-07-31T19:23:44.032Z"
   },
   {
    "duration": 459,
    "start_time": "2023-07-31T19:23:44.433Z"
   },
   {
    "duration": 411,
    "start_time": "2023-07-31T19:23:44.894Z"
   },
   {
    "duration": 429,
    "start_time": "2023-07-31T19:23:45.306Z"
   },
   {
    "duration": 176,
    "start_time": "2023-07-31T19:23:45.738Z"
   },
   {
    "duration": 4,
    "start_time": "2023-07-31T19:23:45.917Z"
   },
   {
    "duration": 213,
    "start_time": "2023-07-31T19:23:45.923Z"
   },
   {
    "duration": 183,
    "start_time": "2023-07-31T19:23:46.138Z"
   },
   {
    "duration": 5,
    "start_time": "2023-07-31T19:23:46.323Z"
   },
   {
    "duration": 132,
    "start_time": "2023-07-31T19:23:46.330Z"
   },
   {
    "duration": 13,
    "start_time": "2023-07-31T19:23:46.465Z"
   },
   {
    "duration": 10,
    "start_time": "2023-07-31T19:23:46.479Z"
   },
   {
    "duration": 30,
    "start_time": "2023-07-31T19:23:46.491Z"
   },
   {
    "duration": 61,
    "start_time": "2023-07-31T19:23:46.523Z"
   },
   {
    "duration": 46,
    "start_time": "2023-07-31T19:54:52.973Z"
   },
   {
    "duration": 1426,
    "start_time": "2023-07-31T19:54:59.010Z"
   },
   {
    "duration": 21,
    "start_time": "2023-07-31T19:55:00.439Z"
   },
   {
    "duration": 238,
    "start_time": "2023-07-31T19:55:00.464Z"
   },
   {
    "duration": 5,
    "start_time": "2023-07-31T19:55:00.704Z"
   },
   {
    "duration": 81,
    "start_time": "2023-07-31T19:55:00.712Z"
   },
   {
    "duration": 3,
    "start_time": "2023-07-31T19:55:00.795Z"
   },
   {
    "duration": 97,
    "start_time": "2023-07-31T19:55:00.799Z"
   },
   {
    "duration": 13,
    "start_time": "2023-07-31T19:55:00.898Z"
   },
   {
    "duration": 60,
    "start_time": "2023-07-31T19:55:00.913Z"
   },
   {
    "duration": 12,
    "start_time": "2023-07-31T19:55:00.975Z"
   },
   {
    "duration": 87,
    "start_time": "2023-07-31T19:55:00.989Z"
   },
   {
    "duration": 31,
    "start_time": "2023-07-31T19:55:01.080Z"
   },
   {
    "duration": 50,
    "start_time": "2023-07-31T19:55:01.113Z"
   },
   {
    "duration": 332,
    "start_time": "2023-07-31T19:55:01.175Z"
   },
   {
    "duration": 402,
    "start_time": "2023-07-31T19:55:01.510Z"
   },
   {
    "duration": 392,
    "start_time": "2023-07-31T19:55:01.913Z"
   },
   {
    "duration": 520,
    "start_time": "2023-07-31T19:55:02.307Z"
   },
   {
    "duration": 446,
    "start_time": "2023-07-31T19:55:02.828Z"
   },
   {
    "duration": 460,
    "start_time": "2023-07-31T19:55:03.276Z"
   },
   {
    "duration": 221,
    "start_time": "2023-07-31T19:55:03.740Z"
   },
   {
    "duration": 8,
    "start_time": "2023-07-31T19:55:03.964Z"
   },
   {
    "duration": 211,
    "start_time": "2023-07-31T19:55:03.974Z"
   },
   {
    "duration": 203,
    "start_time": "2023-07-31T19:55:04.187Z"
   },
   {
    "duration": 5,
    "start_time": "2023-07-31T19:55:04.392Z"
   },
   {
    "duration": 151,
    "start_time": "2023-07-31T19:55:04.399Z"
   },
   {
    "duration": 32,
    "start_time": "2023-07-31T19:55:04.559Z"
   },
   {
    "duration": 16,
    "start_time": "2023-07-31T19:55:04.593Z"
   },
   {
    "duration": 48,
    "start_time": "2023-07-31T19:55:04.611Z"
   },
   {
    "duration": 22,
    "start_time": "2023-07-31T19:55:04.661Z"
   },
   {
    "duration": 30,
    "start_time": "2023-07-31T19:55:26.467Z"
   },
   {
    "duration": 19,
    "start_time": "2023-07-31T19:56:27.754Z"
   },
   {
    "duration": 15,
    "start_time": "2023-07-31T19:56:41.574Z"
   },
   {
    "duration": 568,
    "start_time": "2023-07-31T19:58:24.474Z"
   },
   {
    "duration": 1242,
    "start_time": "2023-07-31T19:59:01.050Z"
   },
   {
    "duration": 9,
    "start_time": "2023-07-31T19:59:02.295Z"
   },
   {
    "duration": 119,
    "start_time": "2023-07-31T19:59:02.306Z"
   },
   {
    "duration": 6,
    "start_time": "2023-07-31T19:59:02.427Z"
   },
   {
    "duration": 67,
    "start_time": "2023-07-31T19:59:02.436Z"
   },
   {
    "duration": 4,
    "start_time": "2023-07-31T19:59:02.505Z"
   },
   {
    "duration": 81,
    "start_time": "2023-07-31T19:59:02.511Z"
   },
   {
    "duration": 3,
    "start_time": "2023-07-31T19:59:02.594Z"
   },
   {
    "duration": 75,
    "start_time": "2023-07-31T19:59:02.599Z"
   },
   {
    "duration": 32,
    "start_time": "2023-07-31T19:59:02.676Z"
   },
   {
    "duration": 14,
    "start_time": "2023-07-31T19:59:02.710Z"
   },
   {
    "duration": 48,
    "start_time": "2023-07-31T19:59:02.726Z"
   },
   {
    "duration": 12,
    "start_time": "2023-07-31T19:59:02.776Z"
   },
   {
    "duration": 10,
    "start_time": "2023-07-31T19:59:02.790Z"
   },
   {
    "duration": 318,
    "start_time": "2023-07-31T19:59:02.801Z"
   },
   {
    "duration": 409,
    "start_time": "2023-07-31T19:59:03.121Z"
   },
   {
    "duration": 310,
    "start_time": "2023-07-31T19:59:03.532Z"
   },
   {
    "duration": 429,
    "start_time": "2023-07-31T19:59:03.844Z"
   },
   {
    "duration": 641,
    "start_time": "2023-07-31T19:59:04.276Z"
   },
   {
    "duration": 703,
    "start_time": "2023-07-31T19:59:04.961Z"
   },
   {
    "duration": 403,
    "start_time": "2023-07-31T19:59:05.668Z"
   },
   {
    "duration": 6,
    "start_time": "2023-07-31T19:59:06.074Z"
   },
   {
    "duration": 344,
    "start_time": "2023-07-31T19:59:06.081Z"
   },
   {
    "duration": 197,
    "start_time": "2023-07-31T19:59:06.427Z"
   },
   {
    "duration": 5,
    "start_time": "2023-07-31T19:59:06.625Z"
   },
   {
    "duration": 138,
    "start_time": "2023-07-31T19:59:06.631Z"
   },
   {
    "duration": 12,
    "start_time": "2023-07-31T19:59:06.773Z"
   },
   {
    "duration": 9,
    "start_time": "2023-07-31T19:59:06.787Z"
   },
   {
    "duration": 29,
    "start_time": "2023-07-31T19:59:06.798Z"
   },
   {
    "duration": 17,
    "start_time": "2023-07-31T19:59:06.829Z"
   },
   {
    "duration": 37,
    "start_time": "2023-07-31T19:59:19.345Z"
   },
   {
    "duration": 2284,
    "start_time": "2023-07-31T20:01:21.957Z"
   },
   {
    "duration": 11,
    "start_time": "2023-07-31T20:01:42.254Z"
   },
   {
    "duration": 1993,
    "start_time": "2023-07-31T20:03:47.416Z"
   },
   {
    "duration": 11,
    "start_time": "2023-07-31T20:03:57.353Z"
   },
   {
    "duration": 10,
    "start_time": "2023-07-31T20:04:27.683Z"
   },
   {
    "duration": 126,
    "start_time": "2023-07-31T20:04:36.245Z"
   },
   {
    "duration": 16,
    "start_time": "2023-07-31T20:04:50.256Z"
   },
   {
    "duration": 13,
    "start_time": "2023-07-31T20:05:01.644Z"
   },
   {
    "duration": 120,
    "start_time": "2023-07-31T20:05:29.008Z"
   },
   {
    "duration": 11,
    "start_time": "2023-07-31T20:05:41.284Z"
   },
   {
    "duration": 15,
    "start_time": "2023-07-31T20:05:49.452Z"
   },
   {
    "duration": 10,
    "start_time": "2023-07-31T20:05:57.470Z"
   },
   {
    "duration": 15,
    "start_time": "2023-07-31T20:06:03.856Z"
   },
   {
    "duration": 11,
    "start_time": "2023-07-31T20:06:50.515Z"
   },
   {
    "duration": 9,
    "start_time": "2023-07-31T20:07:27.015Z"
   },
   {
    "duration": 10,
    "start_time": "2023-07-31T20:07:50.207Z"
   },
   {
    "duration": 12,
    "start_time": "2023-07-31T20:07:54.152Z"
   },
   {
    "duration": 12,
    "start_time": "2023-07-31T20:08:00.456Z"
   },
   {
    "duration": 10,
    "start_time": "2023-07-31T20:08:03.872Z"
   },
   {
    "duration": 36,
    "start_time": "2023-07-31T20:16:39.567Z"
   },
   {
    "duration": 14,
    "start_time": "2023-07-31T20:19:11.269Z"
   },
   {
    "duration": 30,
    "start_time": "2023-07-31T20:21:33.703Z"
   },
   {
    "duration": 16,
    "start_time": "2023-07-31T20:27:04.266Z"
   },
   {
    "duration": 1199,
    "start_time": "2023-07-31T20:41:07.486Z"
   },
   {
    "duration": 9,
    "start_time": "2023-07-31T20:41:08.687Z"
   },
   {
    "duration": 82,
    "start_time": "2023-07-31T20:41:08.698Z"
   },
   {
    "duration": 4,
    "start_time": "2023-07-31T20:41:08.782Z"
   },
   {
    "duration": 59,
    "start_time": "2023-07-31T20:41:08.787Z"
   },
   {
    "duration": 13,
    "start_time": "2023-07-31T20:41:08.856Z"
   },
   {
    "duration": 51,
    "start_time": "2023-07-31T20:41:08.874Z"
   },
   {
    "duration": 4,
    "start_time": "2023-07-31T20:41:08.927Z"
   },
   {
    "duration": 46,
    "start_time": "2023-07-31T20:41:08.966Z"
   },
   {
    "duration": 59,
    "start_time": "2023-07-31T20:41:09.015Z"
   },
   {
    "duration": 18,
    "start_time": "2023-07-31T20:41:09.078Z"
   },
   {
    "duration": 13,
    "start_time": "2023-07-31T20:41:09.098Z"
   },
   {
    "duration": 26,
    "start_time": "2023-07-31T20:41:09.113Z"
   },
   {
    "duration": 31,
    "start_time": "2023-07-31T20:41:09.142Z"
   },
   {
    "duration": 12,
    "start_time": "2023-07-31T20:41:09.175Z"
   },
   {
    "duration": 11,
    "start_time": "2023-07-31T20:41:09.188Z"
   },
   {
    "duration": 300,
    "start_time": "2023-07-31T20:41:09.200Z"
   },
   {
    "duration": 397,
    "start_time": "2023-07-31T20:41:09.502Z"
   },
   {
    "duration": 298,
    "start_time": "2023-07-31T20:41:09.902Z"
   },
   {
    "duration": 364,
    "start_time": "2023-07-31T20:41:10.202Z"
   },
   {
    "duration": 534,
    "start_time": "2023-07-31T20:41:10.573Z"
   },
   {
    "duration": 683,
    "start_time": "2023-07-31T20:41:11.109Z"
   },
   {
    "duration": 498,
    "start_time": "2023-07-31T20:41:11.793Z"
   },
   {
    "duration": 5,
    "start_time": "2023-07-31T20:41:12.292Z"
   },
   {
    "duration": 471,
    "start_time": "2023-07-31T20:41:12.298Z"
   },
   {
    "duration": 314,
    "start_time": "2023-07-31T20:41:12.777Z"
   },
   {
    "duration": 5,
    "start_time": "2023-07-31T20:41:13.093Z"
   },
   {
    "duration": 169,
    "start_time": "2023-07-31T20:41:13.101Z"
   },
   {
    "duration": 16,
    "start_time": "2023-07-31T20:41:13.273Z"
   },
   {
    "duration": 10,
    "start_time": "2023-07-31T20:41:13.291Z"
   },
   {
    "duration": 39,
    "start_time": "2023-07-31T20:41:13.302Z"
   },
   {
    "duration": 22,
    "start_time": "2023-07-31T20:41:13.360Z"
   },
   {
    "duration": 1492,
    "start_time": "2023-08-01T21:00:51.883Z"
   },
   {
    "duration": 11,
    "start_time": "2023-08-01T21:00:53.377Z"
   },
   {
    "duration": 244,
    "start_time": "2023-08-01T21:00:53.390Z"
   },
   {
    "duration": 4,
    "start_time": "2023-08-01T21:00:53.636Z"
   },
   {
    "duration": 57,
    "start_time": "2023-08-01T21:00:53.642Z"
   },
   {
    "duration": 3,
    "start_time": "2023-08-01T21:00:53.700Z"
   },
   {
    "duration": 71,
    "start_time": "2023-08-01T21:00:53.705Z"
   },
   {
    "duration": 4,
    "start_time": "2023-08-01T21:00:53.778Z"
   },
   {
    "duration": 37,
    "start_time": "2023-08-01T21:00:53.784Z"
   },
   {
    "duration": 66,
    "start_time": "2023-08-01T21:00:53.822Z"
   },
   {
    "duration": 16,
    "start_time": "2023-08-01T21:00:53.891Z"
   },
   {
    "duration": 15,
    "start_time": "2023-08-01T21:00:53.909Z"
   },
   {
    "duration": 43,
    "start_time": "2023-08-01T21:00:53.926Z"
   },
   {
    "duration": 17,
    "start_time": "2023-08-01T21:00:53.974Z"
   },
   {
    "duration": 14,
    "start_time": "2023-08-01T21:00:53.993Z"
   },
   {
    "duration": 18,
    "start_time": "2023-08-01T21:00:54.009Z"
   },
   {
    "duration": 377,
    "start_time": "2023-08-01T21:00:54.029Z"
   },
   {
    "duration": 430,
    "start_time": "2023-08-01T21:00:54.408Z"
   },
   {
    "duration": 354,
    "start_time": "2023-08-01T21:00:54.840Z"
   },
   {
    "duration": 437,
    "start_time": "2023-08-01T21:00:55.196Z"
   },
   {
    "duration": 378,
    "start_time": "2023-08-01T21:00:55.635Z"
   },
   {
    "duration": 402,
    "start_time": "2023-08-01T21:00:56.015Z"
   },
   {
    "duration": 196,
    "start_time": "2023-08-01T21:00:56.419Z"
   },
   {
    "duration": 5,
    "start_time": "2023-08-01T21:00:56.617Z"
   },
   {
    "duration": 218,
    "start_time": "2023-08-01T21:00:56.623Z"
   },
   {
    "duration": 211,
    "start_time": "2023-08-01T21:00:56.843Z"
   },
   {
    "duration": 21,
    "start_time": "2023-08-01T21:00:57.056Z"
   },
   {
    "duration": 125,
    "start_time": "2023-08-01T21:00:57.086Z"
   },
   {
    "duration": 13,
    "start_time": "2023-08-01T21:00:57.212Z"
   },
   {
    "duration": 30,
    "start_time": "2023-08-01T21:00:57.227Z"
   },
   {
    "duration": 42,
    "start_time": "2023-08-01T21:00:57.258Z"
   },
   {
    "duration": 14,
    "start_time": "2023-08-01T21:00:57.302Z"
   },
   {
    "duration": 445,
    "start_time": "2023-08-01T21:03:12.038Z"
   },
   {
    "duration": 411,
    "start_time": "2023-08-01T21:03:16.311Z"
   },
   {
    "duration": 6,
    "start_time": "2023-08-01T21:24:52.146Z"
   },
   {
    "duration": 18,
    "start_time": "2023-08-01T21:25:32.841Z"
   },
   {
    "duration": 88,
    "start_time": "2023-08-01T21:26:20.332Z"
   },
   {
    "duration": 84,
    "start_time": "2023-08-01T21:26:28.719Z"
   },
   {
    "duration": 6,
    "start_time": "2023-08-01T21:26:40.214Z"
   },
   {
    "duration": 17,
    "start_time": "2023-08-01T21:26:45.000Z"
   },
   {
    "duration": 1337,
    "start_time": "2023-08-01T21:27:50.556Z"
   },
   {
    "duration": 9,
    "start_time": "2023-08-01T21:27:51.896Z"
   },
   {
    "duration": 107,
    "start_time": "2023-08-01T21:27:51.907Z"
   },
   {
    "duration": 5,
    "start_time": "2023-08-01T21:27:52.017Z"
   },
   {
    "duration": 65,
    "start_time": "2023-08-01T21:27:52.024Z"
   },
   {
    "duration": 4,
    "start_time": "2023-08-01T21:27:52.091Z"
   },
   {
    "duration": 48,
    "start_time": "2023-08-01T21:27:52.097Z"
   },
   {
    "duration": 4,
    "start_time": "2023-08-01T21:27:52.170Z"
   },
   {
    "duration": 45,
    "start_time": "2023-08-01T21:27:52.175Z"
   },
   {
    "duration": 53,
    "start_time": "2023-08-01T21:27:52.222Z"
   },
   {
    "duration": 23,
    "start_time": "2023-08-01T21:27:52.277Z"
   },
   {
    "duration": 18,
    "start_time": "2023-08-01T21:27:52.302Z"
   },
   {
    "duration": 26,
    "start_time": "2023-08-01T21:27:52.322Z"
   },
   {
    "duration": 38,
    "start_time": "2023-08-01T21:27:52.351Z"
   },
   {
    "duration": 17,
    "start_time": "2023-08-01T21:27:52.391Z"
   },
   {
    "duration": 19,
    "start_time": "2023-08-01T21:27:52.409Z"
   },
   {
    "duration": 13,
    "start_time": "2023-08-01T21:27:52.429Z"
   },
   {
    "duration": 340,
    "start_time": "2023-08-01T21:27:52.443Z"
   },
   {
    "duration": 461,
    "start_time": "2023-08-01T21:27:52.786Z"
   },
   {
    "duration": 360,
    "start_time": "2023-08-01T21:27:53.249Z"
   },
   {
    "duration": 419,
    "start_time": "2023-08-01T21:27:53.611Z"
   },
   {
    "duration": 450,
    "start_time": "2023-08-01T21:27:54.032Z"
   },
   {
    "duration": 432,
    "start_time": "2023-08-01T21:27:54.484Z"
   },
   {
    "duration": 231,
    "start_time": "2023-08-01T21:27:54.918Z"
   },
   {
    "duration": 4,
    "start_time": "2023-08-01T21:27:55.151Z"
   },
   {
    "duration": 219,
    "start_time": "2023-08-01T21:27:55.156Z"
   },
   {
    "duration": 195,
    "start_time": "2023-08-01T21:27:55.383Z"
   },
   {
    "duration": 6,
    "start_time": "2023-08-01T21:27:55.583Z"
   },
   {
    "duration": 136,
    "start_time": "2023-08-01T21:27:55.591Z"
   },
   {
    "duration": 14,
    "start_time": "2023-08-01T21:27:55.728Z"
   },
   {
    "duration": 32,
    "start_time": "2023-08-01T21:27:55.744Z"
   },
   {
    "duration": 38,
    "start_time": "2023-08-01T21:27:55.779Z"
   },
   {
    "duration": 15,
    "start_time": "2023-08-01T21:27:55.819Z"
   },
   {
    "duration": 7,
    "start_time": "2023-08-01T21:32:25.856Z"
   },
   {
    "duration": 1295,
    "start_time": "2023-08-01T21:33:08.098Z"
   },
   {
    "duration": 13,
    "start_time": "2023-08-01T21:33:09.397Z"
   },
   {
    "duration": 96,
    "start_time": "2023-08-01T21:33:09.411Z"
   },
   {
    "duration": 5,
    "start_time": "2023-08-01T21:33:09.509Z"
   },
   {
    "duration": 55,
    "start_time": "2023-08-01T21:33:09.517Z"
   },
   {
    "duration": 3,
    "start_time": "2023-08-01T21:33:09.574Z"
   },
   {
    "duration": 54,
    "start_time": "2023-08-01T21:33:09.579Z"
   },
   {
    "duration": 3,
    "start_time": "2023-08-01T21:33:09.635Z"
   },
   {
    "duration": 63,
    "start_time": "2023-08-01T21:33:09.640Z"
   },
   {
    "duration": 62,
    "start_time": "2023-08-01T21:33:09.705Z"
   },
   {
    "duration": 25,
    "start_time": "2023-08-01T21:33:09.770Z"
   },
   {
    "duration": 12,
    "start_time": "2023-08-01T21:33:09.796Z"
   },
   {
    "duration": 9,
    "start_time": "2023-08-01T21:33:09.810Z"
   },
   {
    "duration": 9,
    "start_time": "2023-08-01T21:33:09.822Z"
   },
   {
    "duration": 24,
    "start_time": "2023-08-01T21:33:09.833Z"
   },
   {
    "duration": 28,
    "start_time": "2023-08-01T21:33:09.869Z"
   },
   {
    "duration": 12,
    "start_time": "2023-08-01T21:33:09.899Z"
   },
   {
    "duration": 331,
    "start_time": "2023-08-01T21:33:09.913Z"
   },
   {
    "duration": 437,
    "start_time": "2023-08-01T21:33:10.246Z"
   },
   {
    "duration": 349,
    "start_time": "2023-08-01T21:33:10.690Z"
   },
   {
    "duration": 435,
    "start_time": "2023-08-01T21:33:11.041Z"
   },
   {
    "duration": 386,
    "start_time": "2023-08-01T21:33:11.478Z"
   },
   {
    "duration": 436,
    "start_time": "2023-08-01T21:33:11.865Z"
   },
   {
    "duration": 228,
    "start_time": "2023-08-01T21:33:12.303Z"
   },
   {
    "duration": 5,
    "start_time": "2023-08-01T21:33:12.533Z"
   },
   {
    "duration": 256,
    "start_time": "2023-08-01T21:33:12.540Z"
   },
   {
    "duration": 211,
    "start_time": "2023-08-01T21:33:12.799Z"
   },
   {
    "duration": 5,
    "start_time": "2023-08-01T21:33:13.012Z"
   },
   {
    "duration": 171,
    "start_time": "2023-08-01T21:33:13.019Z"
   },
   {
    "duration": 17,
    "start_time": "2023-08-01T21:33:13.196Z"
   },
   {
    "duration": 10,
    "start_time": "2023-08-01T21:33:13.214Z"
   },
   {
    "duration": 46,
    "start_time": "2023-08-01T21:33:13.225Z"
   },
   {
    "duration": 26,
    "start_time": "2023-08-01T21:33:13.273Z"
   },
   {
    "duration": 50,
    "start_time": "2023-08-02T04:07:30.074Z"
   },
   {
    "duration": 1409,
    "start_time": "2023-08-02T04:07:37.429Z"
   },
   {
    "duration": 9,
    "start_time": "2023-08-02T04:07:38.839Z"
   },
   {
    "duration": 247,
    "start_time": "2023-08-02T04:07:38.849Z"
   },
   {
    "duration": 4,
    "start_time": "2023-08-02T04:07:39.097Z"
   },
   {
    "duration": 49,
    "start_time": "2023-08-02T04:07:39.103Z"
   },
   {
    "duration": 3,
    "start_time": "2023-08-02T04:07:39.153Z"
   },
   {
    "duration": 69,
    "start_time": "2023-08-02T04:07:39.158Z"
   },
   {
    "duration": 4,
    "start_time": "2023-08-02T04:07:39.228Z"
   },
   {
    "duration": 33,
    "start_time": "2023-08-02T04:07:39.233Z"
   },
   {
    "duration": 70,
    "start_time": "2023-08-02T04:07:39.268Z"
   },
   {
    "duration": 18,
    "start_time": "2023-08-02T04:07:39.340Z"
   },
   {
    "duration": 12,
    "start_time": "2023-08-02T04:07:39.360Z"
   },
   {
    "duration": 12,
    "start_time": "2023-08-02T04:07:39.373Z"
   },
   {
    "duration": 41,
    "start_time": "2023-08-02T04:07:39.388Z"
   },
   {
    "duration": 22,
    "start_time": "2023-08-02T04:07:39.431Z"
   },
   {
    "duration": 20,
    "start_time": "2023-08-02T04:07:39.455Z"
   },
   {
    "duration": 13,
    "start_time": "2023-08-02T04:07:39.477Z"
   },
   {
    "duration": 269,
    "start_time": "2023-08-02T04:07:39.492Z"
   },
   {
    "duration": 351,
    "start_time": "2023-08-02T04:07:39.762Z"
   },
   {
    "duration": 272,
    "start_time": "2023-08-02T04:07:40.119Z"
   },
   {
    "duration": 420,
    "start_time": "2023-08-02T04:07:40.392Z"
   },
   {
    "duration": 288,
    "start_time": "2023-08-02T04:07:40.813Z"
   },
   {
    "duration": 378,
    "start_time": "2023-08-02T04:07:41.102Z"
   },
   {
    "duration": 174,
    "start_time": "2023-08-02T04:07:41.481Z"
   },
   {
    "duration": 5,
    "start_time": "2023-08-02T04:07:41.656Z"
   },
   {
    "duration": 181,
    "start_time": "2023-08-02T04:07:41.663Z"
   },
   {
    "duration": 170,
    "start_time": "2023-08-02T04:07:41.846Z"
   },
   {
    "duration": 8,
    "start_time": "2023-08-02T04:07:42.017Z"
   },
   {
    "duration": 110,
    "start_time": "2023-08-02T04:07:42.027Z"
   },
   {
    "duration": 12,
    "start_time": "2023-08-02T04:07:42.139Z"
   },
   {
    "duration": 12,
    "start_time": "2023-08-02T04:07:42.152Z"
   },
   {
    "duration": 28,
    "start_time": "2023-08-02T04:07:42.166Z"
   },
   {
    "duration": 37,
    "start_time": "2023-08-02T04:07:42.196Z"
   },
   {
    "duration": 12,
    "start_time": "2023-08-02T04:14:17.678Z"
   }
  ],
  "kernelspec": {
   "display_name": "Python 3 (ipykernel)",
   "language": "python",
   "name": "python3"
  },
  "language_info": {
   "codemirror_mode": {
    "name": "ipython",
    "version": 3
   },
   "file_extension": ".py",
   "mimetype": "text/x-python",
   "name": "python",
   "nbconvert_exporter": "python",
   "pygments_lexer": "ipython3",
   "version": "3.9.16"
  },
  "toc": {
   "base_numbering": 1,
   "nav_menu": {},
   "number_sections": true,
   "sideBar": true,
   "skip_h1_title": true,
   "title_cell": "Table of Contents",
   "title_sidebar": "Contents",
   "toc_cell": false,
   "toc_position": {
    "height": "calc(100% - 180px)",
    "left": "10px",
    "top": "150px",
    "width": "384px"
   },
   "toc_section_display": true,
   "toc_window_display": false
  },
  "varInspector": {
   "cols": {
    "lenName": 16,
    "lenType": 16,
    "lenVar": 40
   },
   "kernels_config": {
    "python": {
     "delete_cmd_postfix": "",
     "delete_cmd_prefix": "del ",
     "library": "var_list.py",
     "varRefreshCmd": "print(var_dic_list())"
    },
    "r": {
     "delete_cmd_postfix": ") ",
     "delete_cmd_prefix": "rm(",
     "library": "var_list.r",
     "varRefreshCmd": "cat(var_dic_list()) "
    }
   },
   "types_to_exclude": [
    "module",
    "function",
    "builtin_function_or_method",
    "instance",
    "_Feature"
   ],
   "window_display": false
  }
 },
 "nbformat": 4,
 "nbformat_minor": 5
}
