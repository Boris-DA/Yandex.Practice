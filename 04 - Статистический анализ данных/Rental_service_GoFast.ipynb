{
 "cells": [
  {
   "cell_type": "markdown",
   "id": "18b65ae0",
   "metadata": {},
   "source": [
    "# **Статистический анализ данных**"
   ]
  },
  {
   "cell_type": "markdown",
   "id": "c89e35d2",
   "metadata": {},
   "source": [
    "**Цель исследования:** Проанализировать данные и проверить некоторые гипотезы, которые могут помочь сервису аренды самокатов GoFast вырасти.\n",
    "\n",
    "**Дано:** Данные о некоторых пользователях из нескольких городов, а также об их поездках.\n",
    "\n",
    "**Описание параметров данных:** Чтобы совершать поездки по городу, пользователи сервиса GoFast пользуются мобильным приложением. Сервисом можно пользоваться:\n",
    "\n",
    "1) без подписки\n",
    "- абонентская плата отсутствует;\n",
    "- стоимость одной минуты поездки — 8 рублей;\n",
    "- стоимость старта (начала поездки) — 50 рублей;\n",
    "\n",
    "2) с подпиской Ultra\n",
    "- абонентская плата — 199 рублей в месяц;\n",
    "- стоимость одной минуты поездки — 6 рублей;\n",
    "- стоимость старта — бесплатно.\n",
    "\n"
   ]
  },
  {
   "cell_type": "code",
   "execution_count": 1,
   "id": "a900d8cd",
   "metadata": {},
   "outputs": [],
   "source": [
    "# загружаем необходимые библиотеки\n",
    "import pandas as pd\n",
    "import seaborn as sns\n",
    "import matplotlib.pylab as plt\n",
    "import numpy as np\n",
    "import scipy.stats as st"
   ]
  },
  {
   "cell_type": "code",
   "execution_count": 2,
   "id": "d8390291",
   "metadata": {},
   "outputs": [],
   "source": [
    "# Указываем базовые настройки \n",
    "sns.set()"
   ]
  },
  {
   "cell_type": "code",
   "execution_count": 3,
   "id": "10ce256a",
   "metadata": {},
   "outputs": [],
   "source": [
    "# Указываем путь к файлу\n",
    "try:\n",
    "    data_users_row = pd.read_csv('/datasets/users_go.csv')\n",
    "    data_rides_row = pd.read_csv('/datasets/rides_go.csv')\n",
    "    data_subscription_row = pd.read_csv('/datasets/subscriptions_go.csv')\n",
    "except: \n",
    "    data_users_row = pd.read_csv('C:/Users/Boris/datasets/users_go.csv')\n",
    "    data_rides_row = pd.read_csv('C:/Users/Boris/datasets/rides_go.csv')\n",
    "    data_subscription_row = pd.read_csv('C:/Users/Boris/datasets/subscriptions_go.csv')"
   ]
  },
  {
   "cell_type": "code",
   "execution_count": 4,
   "id": "09f929fd",
   "metadata": {},
   "outputs": [
    {
     "name": "stdout",
     "output_type": "stream",
     "text": [
      "<class 'pandas.core.frame.DataFrame'>\n",
      "RangeIndex: 1565 entries, 0 to 1564\n",
      "Data columns (total 5 columns):\n",
      " #   Column             Non-Null Count  Dtype \n",
      "---  ------             --------------  ----- \n",
      " 0   user_id            1565 non-null   int64 \n",
      " 1   name               1565 non-null   object\n",
      " 2   age                1565 non-null   int64 \n",
      " 3   city               1565 non-null   object\n",
      " 4   subscription_type  1565 non-null   object\n",
      "dtypes: int64(2), object(3)\n",
      "memory usage: 61.3+ KB\n",
      "<class 'pandas.core.frame.DataFrame'>\n",
      "RangeIndex: 18068 entries, 0 to 18067\n",
      "Data columns (total 4 columns):\n",
      " #   Column    Non-Null Count  Dtype  \n",
      "---  ------    --------------  -----  \n",
      " 0   user_id   18068 non-null  int64  \n",
      " 1   distance  18068 non-null  float64\n",
      " 2   duration  18068 non-null  float64\n",
      " 3   date      18068 non-null  object \n",
      "dtypes: float64(2), int64(1), object(1)\n",
      "memory usage: 564.8+ KB\n",
      "<class 'pandas.core.frame.DataFrame'>\n",
      "RangeIndex: 2 entries, 0 to 1\n",
      "Data columns (total 4 columns):\n",
      " #   Column             Non-Null Count  Dtype \n",
      "---  ------             --------------  ----- \n",
      " 0   subscription_type  2 non-null      object\n",
      " 1   minute_price       2 non-null      int64 \n",
      " 2   start_ride_price   2 non-null      int64 \n",
      " 3   subscription_fee   2 non-null      int64 \n",
      "dtypes: int64(3), object(1)\n",
      "memory usage: 192.0+ bytes\n"
     ]
    }
   ],
   "source": [
    "# Смотрим общую информацию о наборах данных\n",
    "data_users_row.info()\n",
    "data_rides_row.info()\n",
    "data_subscription_row.info()"
   ]
  },
  {
   "cell_type": "code",
   "execution_count": 5,
   "id": "2ba51f02",
   "metadata": {},
   "outputs": [
    {
     "data": {
      "text/html": [
       "<div>\n",
       "<style scoped>\n",
       "    .dataframe tbody tr th:only-of-type {\n",
       "        vertical-align: middle;\n",
       "    }\n",
       "\n",
       "    .dataframe tbody tr th {\n",
       "        vertical-align: top;\n",
       "    }\n",
       "\n",
       "    .dataframe thead th {\n",
       "        text-align: right;\n",
       "    }\n",
       "</style>\n",
       "<table border=\"1\" class=\"dataframe\">\n",
       "  <thead>\n",
       "    <tr style=\"text-align: right;\">\n",
       "      <th></th>\n",
       "      <th>user_id</th>\n",
       "      <th>name</th>\n",
       "      <th>age</th>\n",
       "      <th>city</th>\n",
       "      <th>subscription_type</th>\n",
       "    </tr>\n",
       "  </thead>\n",
       "  <tbody>\n",
       "    <tr>\n",
       "      <th>0</th>\n",
       "      <td>1</td>\n",
       "      <td>Кира</td>\n",
       "      <td>22</td>\n",
       "      <td>Тюмень</td>\n",
       "      <td>ultra</td>\n",
       "    </tr>\n",
       "    <tr>\n",
       "      <th>1</th>\n",
       "      <td>2</td>\n",
       "      <td>Станислав</td>\n",
       "      <td>31</td>\n",
       "      <td>Омск</td>\n",
       "      <td>ultra</td>\n",
       "    </tr>\n",
       "    <tr>\n",
       "      <th>2</th>\n",
       "      <td>3</td>\n",
       "      <td>Алексей</td>\n",
       "      <td>20</td>\n",
       "      <td>Москва</td>\n",
       "      <td>ultra</td>\n",
       "    </tr>\n",
       "    <tr>\n",
       "      <th>3</th>\n",
       "      <td>4</td>\n",
       "      <td>Константин</td>\n",
       "      <td>26</td>\n",
       "      <td>Ростов-на-Дону</td>\n",
       "      <td>ultra</td>\n",
       "    </tr>\n",
       "    <tr>\n",
       "      <th>4</th>\n",
       "      <td>5</td>\n",
       "      <td>Адель</td>\n",
       "      <td>28</td>\n",
       "      <td>Омск</td>\n",
       "      <td>ultra</td>\n",
       "    </tr>\n",
       "    <tr>\n",
       "      <th>5</th>\n",
       "      <td>6</td>\n",
       "      <td>Регина</td>\n",
       "      <td>25</td>\n",
       "      <td>Краснодар</td>\n",
       "      <td>ultra</td>\n",
       "    </tr>\n",
       "    <tr>\n",
       "      <th>6</th>\n",
       "      <td>7</td>\n",
       "      <td>Игорь</td>\n",
       "      <td>23</td>\n",
       "      <td>Омск</td>\n",
       "      <td>ultra</td>\n",
       "    </tr>\n",
       "    <tr>\n",
       "      <th>7</th>\n",
       "      <td>8</td>\n",
       "      <td>Юрий</td>\n",
       "      <td>23</td>\n",
       "      <td>Краснодар</td>\n",
       "      <td>ultra</td>\n",
       "    </tr>\n",
       "    <tr>\n",
       "      <th>8</th>\n",
       "      <td>9</td>\n",
       "      <td>Ян</td>\n",
       "      <td>21</td>\n",
       "      <td>Пятигорск</td>\n",
       "      <td>ultra</td>\n",
       "    </tr>\n",
       "    <tr>\n",
       "      <th>9</th>\n",
       "      <td>10</td>\n",
       "      <td>Валерий</td>\n",
       "      <td>18</td>\n",
       "      <td>Екатеринбург</td>\n",
       "      <td>ultra</td>\n",
       "    </tr>\n",
       "  </tbody>\n",
       "</table>\n",
       "</div>"
      ],
      "text/plain": [
       "   user_id        name  age            city subscription_type\n",
       "0        1        Кира   22          Тюмень             ultra\n",
       "1        2   Станислав   31            Омск             ultra\n",
       "2        3     Алексей   20          Москва             ultra\n",
       "3        4  Константин   26  Ростов-на-Дону             ultra\n",
       "4        5       Адель   28            Омск             ultra\n",
       "5        6      Регина   25       Краснодар             ultra\n",
       "6        7       Игорь   23            Омск             ultra\n",
       "7        8        Юрий   23       Краснодар             ultra\n",
       "8        9          Ян   21       Пятигорск             ultra\n",
       "9       10     Валерий   18    Екатеринбург             ultra"
      ]
     },
     "execution_count": 5,
     "metadata": {},
     "output_type": "execute_result"
    }
   ],
   "source": [
    "# Выводим первые строки наборов данных users\n",
    "data_users_row.head(10)"
   ]
  },
  {
   "cell_type": "code",
   "execution_count": 6,
   "id": "f716869d",
   "metadata": {},
   "outputs": [
    {
     "data": {
      "text/html": [
       "<div>\n",
       "<style scoped>\n",
       "    .dataframe tbody tr th:only-of-type {\n",
       "        vertical-align: middle;\n",
       "    }\n",
       "\n",
       "    .dataframe tbody tr th {\n",
       "        vertical-align: top;\n",
       "    }\n",
       "\n",
       "    .dataframe thead th {\n",
       "        text-align: right;\n",
       "    }\n",
       "</style>\n",
       "<table border=\"1\" class=\"dataframe\">\n",
       "  <thead>\n",
       "    <tr style=\"text-align: right;\">\n",
       "      <th></th>\n",
       "      <th>user_id</th>\n",
       "      <th>distance</th>\n",
       "      <th>duration</th>\n",
       "      <th>date</th>\n",
       "    </tr>\n",
       "  </thead>\n",
       "  <tbody>\n",
       "    <tr>\n",
       "      <th>0</th>\n",
       "      <td>1</td>\n",
       "      <td>4409.919140</td>\n",
       "      <td>25.599769</td>\n",
       "      <td>2021-01-01</td>\n",
       "    </tr>\n",
       "    <tr>\n",
       "      <th>1</th>\n",
       "      <td>1</td>\n",
       "      <td>2617.592153</td>\n",
       "      <td>15.816871</td>\n",
       "      <td>2021-01-18</td>\n",
       "    </tr>\n",
       "    <tr>\n",
       "      <th>2</th>\n",
       "      <td>1</td>\n",
       "      <td>754.159807</td>\n",
       "      <td>6.232113</td>\n",
       "      <td>2021-04-20</td>\n",
       "    </tr>\n",
       "    <tr>\n",
       "      <th>3</th>\n",
       "      <td>1</td>\n",
       "      <td>2694.783254</td>\n",
       "      <td>18.511000</td>\n",
       "      <td>2021-08-11</td>\n",
       "    </tr>\n",
       "    <tr>\n",
       "      <th>4</th>\n",
       "      <td>1</td>\n",
       "      <td>4028.687306</td>\n",
       "      <td>26.265803</td>\n",
       "      <td>2021-08-28</td>\n",
       "    </tr>\n",
       "    <tr>\n",
       "      <th>5</th>\n",
       "      <td>1</td>\n",
       "      <td>2770.890808</td>\n",
       "      <td>16.650138</td>\n",
       "      <td>2021-10-09</td>\n",
       "    </tr>\n",
       "    <tr>\n",
       "      <th>6</th>\n",
       "      <td>1</td>\n",
       "      <td>3039.020292</td>\n",
       "      <td>14.927879</td>\n",
       "      <td>2021-10-19</td>\n",
       "    </tr>\n",
       "    <tr>\n",
       "      <th>7</th>\n",
       "      <td>1</td>\n",
       "      <td>2842.118050</td>\n",
       "      <td>23.117468</td>\n",
       "      <td>2021-11-06</td>\n",
       "    </tr>\n",
       "    <tr>\n",
       "      <th>8</th>\n",
       "      <td>1</td>\n",
       "      <td>3412.690668</td>\n",
       "      <td>15.238072</td>\n",
       "      <td>2021-11-14</td>\n",
       "    </tr>\n",
       "    <tr>\n",
       "      <th>9</th>\n",
       "      <td>1</td>\n",
       "      <td>748.690645</td>\n",
       "      <td>15.041884</td>\n",
       "      <td>2021-11-22</td>\n",
       "    </tr>\n",
       "  </tbody>\n",
       "</table>\n",
       "</div>"
      ],
      "text/plain": [
       "   user_id     distance   duration        date\n",
       "0        1  4409.919140  25.599769  2021-01-01\n",
       "1        1  2617.592153  15.816871  2021-01-18\n",
       "2        1   754.159807   6.232113  2021-04-20\n",
       "3        1  2694.783254  18.511000  2021-08-11\n",
       "4        1  4028.687306  26.265803  2021-08-28\n",
       "5        1  2770.890808  16.650138  2021-10-09\n",
       "6        1  3039.020292  14.927879  2021-10-19\n",
       "7        1  2842.118050  23.117468  2021-11-06\n",
       "8        1  3412.690668  15.238072  2021-11-14\n",
       "9        1   748.690645  15.041884  2021-11-22"
      ]
     },
     "execution_count": 6,
     "metadata": {},
     "output_type": "execute_result"
    }
   ],
   "source": [
    "# Выводим первые строки наборов данных riders\n",
    "data_rides_row.head(10)"
   ]
  },
  {
   "cell_type": "code",
   "execution_count": 7,
   "id": "799ea31d",
   "metadata": {},
   "outputs": [
    {
     "data": {
      "text/html": [
       "<div>\n",
       "<style scoped>\n",
       "    .dataframe tbody tr th:only-of-type {\n",
       "        vertical-align: middle;\n",
       "    }\n",
       "\n",
       "    .dataframe tbody tr th {\n",
       "        vertical-align: top;\n",
       "    }\n",
       "\n",
       "    .dataframe thead th {\n",
       "        text-align: right;\n",
       "    }\n",
       "</style>\n",
       "<table border=\"1\" class=\"dataframe\">\n",
       "  <thead>\n",
       "    <tr style=\"text-align: right;\">\n",
       "      <th></th>\n",
       "      <th>subscription_type</th>\n",
       "      <th>minute_price</th>\n",
       "      <th>start_ride_price</th>\n",
       "      <th>subscription_fee</th>\n",
       "    </tr>\n",
       "  </thead>\n",
       "  <tbody>\n",
       "    <tr>\n",
       "      <th>0</th>\n",
       "      <td>free</td>\n",
       "      <td>8</td>\n",
       "      <td>50</td>\n",
       "      <td>0</td>\n",
       "    </tr>\n",
       "    <tr>\n",
       "      <th>1</th>\n",
       "      <td>ultra</td>\n",
       "      <td>6</td>\n",
       "      <td>0</td>\n",
       "      <td>199</td>\n",
       "    </tr>\n",
       "  </tbody>\n",
       "</table>\n",
       "</div>"
      ],
      "text/plain": [
       "  subscription_type  minute_price  start_ride_price  subscription_fee\n",
       "0              free             8                50                 0\n",
       "1             ultra             6                 0               199"
      ]
     },
     "execution_count": 7,
     "metadata": {},
     "output_type": "execute_result"
    }
   ],
   "source": [
    "# Выводим первые строки наборов данных subscripes\n",
    "data_subscription_row"
   ]
  },
  {
   "cell_type": "markdown",
   "id": "ab493145",
   "metadata": {},
   "source": [
    "Из наборов данных видно, что всего есть 1565 пользователей (набор данных **users**), которые за время наблюдения совершили 18068 поездок (набор данных **rides**). В наборе данных **subscription** указаны данные о параметрах подписки."
   ]
  },
  {
   "cell_type": "markdown",
   "id": "27784917",
   "metadata": {},
   "source": [
    "## Предварительная обработка данных"
   ]
  },
  {
   "cell_type": "markdown",
   "id": "5bb785f7",
   "metadata": {},
   "source": [
    "Приведем столбец ***date*** из набора данных **rides** к типу данных *Pandas* "
   ]
  },
  {
   "cell_type": "code",
   "execution_count": 8,
   "id": "060fbdb7",
   "metadata": {},
   "outputs": [],
   "source": [
    "# Используем библиотеку Пандас для изменения типа данных\n",
    "data_rides_row['date'] = pd.to_datetime(data_rides_row['date'], format='%Y-%m-%d')"
   ]
  },
  {
   "cell_type": "markdown",
   "id": "49181db2",
   "metadata": {},
   "source": [
    "Создаем столбец с номером месяца на основе данных из столбца ***date***"
   ]
  },
  {
   "cell_type": "code",
   "execution_count": 9,
   "id": "7729ac5f",
   "metadata": {},
   "outputs": [],
   "source": [
    "# Находим индекс для каждого месяца\n",
    "data_rides_row['month'] = pd.DatetimeIndex(data_rides_row['date']).month"
   ]
  },
  {
   "cell_type": "code",
   "execution_count": 10,
   "id": "c6490d9b",
   "metadata": {
    "scrolled": true
   },
   "outputs": [
    {
     "data": {
      "text/plain": [
       "count                            18068\n",
       "mean     2021-06-30 19:47:21.266327296\n",
       "min                2021-01-01 00:00:00\n",
       "25%                2021-04-02 00:00:00\n",
       "50%                2021-06-30 00:00:00\n",
       "75%                2021-09-28 00:00:00\n",
       "max                2021-12-30 00:00:00\n",
       "Name: date, dtype: object"
      ]
     },
     "execution_count": 10,
     "metadata": {},
     "output_type": "execute_result"
    }
   ],
   "source": [
    "# Проверяем данные в столбце date\n",
    "data_rides_row['date'].describe(datetime_is_numeric=True )"
   ]
  },
  {
   "cell_type": "markdown",
   "id": "0926c539",
   "metadata": {},
   "source": [
    "Из получившихся данных видно, что наблюдений проводились год, с 1 января 2021 года по 30 декабря 2021 года. "
   ]
  },
  {
   "cell_type": "code",
   "execution_count": 11,
   "id": "f9ddcc6b",
   "metadata": {
    "scrolled": false
   },
   "outputs": [
    {
     "data": {
      "text/plain": [
       "{'whiskers': [<matplotlib.lines.Line2D at 0x7fa1e7661760>,\n",
       "  <matplotlib.lines.Line2D at 0x7fa1e7661ac0>],\n",
       " 'caps': [<matplotlib.lines.Line2D at 0x7fa1e7661e20>,\n",
       "  <matplotlib.lines.Line2D at 0x7fa1e76761c0>],\n",
       " 'boxes': [<matplotlib.lines.Line2D at 0x7fa1e7661400>],\n",
       " 'medians': [<matplotlib.lines.Line2D at 0x7fa1e7676520>],\n",
       " 'fliers': [<matplotlib.lines.Line2D at 0x7fa1e7676880>],\n",
       " 'means': []}"
      ]
     },
     "execution_count": 11,
     "metadata": {},
     "output_type": "execute_result"
    },
    {
     "data": {
      "image/png": "[encoded data removed]",
      "text/plain": [
       "<Figure size 432x288 with 1 Axes>"
      ]
     },
     "metadata": {},
     "output_type": "display_data"
    }
   ],
   "source": [
    "# Проверяем столбец duration на наличие аномалий\n",
    "plt.boxplot(data_rides_row['duration'])"
   ]
  },
  {
   "cell_type": "markdown",
   "id": "68187558",
   "metadata": {},
   "source": [
    "Видим, что сильных выбросов нет, все значения находятся возле *усов* графика "
   ]
  },
  {
   "cell_type": "markdown",
   "id": "01e0b1ea",
   "metadata": {},
   "source": [
    "### Проверяем наличие пропусков во всех наборах данных"
   ]
  },
  {
   "cell_type": "code",
   "execution_count": 12,
   "id": "94baafe0",
   "metadata": {},
   "outputs": [
    {
     "data": {
      "text/plain": [
       "user_id              0\n",
       "name                 0\n",
       "age                  0\n",
       "city                 0\n",
       "subscription_type    0\n",
       "dtype: int64"
      ]
     },
     "execution_count": 12,
     "metadata": {},
     "output_type": "execute_result"
    }
   ],
   "source": [
    "# Осуществляем подсчет пропусков в данных users\n",
    "data_users_row.isna().sum()"
   ]
  },
  {
   "cell_type": "code",
   "execution_count": 13,
   "id": "aafb5cab",
   "metadata": {},
   "outputs": [
    {
     "data": {
      "text/plain": [
       "user_id     0\n",
       "distance    0\n",
       "duration    0\n",
       "date        0\n",
       "month       0\n",
       "dtype: int64"
      ]
     },
     "execution_count": 13,
     "metadata": {},
     "output_type": "execute_result"
    }
   ],
   "source": [
    "# Осуществляем подстчет пропусков в данных rides\n",
    "data_rides_row.isna().sum()"
   ]
  },
  {
   "cell_type": "code",
   "execution_count": 14,
   "id": "1585690d",
   "metadata": {
    "scrolled": true
   },
   "outputs": [
    {
     "data": {
      "text/plain": [
       "subscription_type    0\n",
       "minute_price         0\n",
       "start_ride_price     0\n",
       "subscription_fee     0\n",
       "dtype: int64"
      ]
     },
     "execution_count": 14,
     "metadata": {},
     "output_type": "execute_result"
    }
   ],
   "source": [
    "# Осуществляем подстчет пропусков в данных subscription\n",
    "data_subscription_row.isna().sum()"
   ]
  },
  {
   "cell_type": "markdown",
   "id": "33109bfa",
   "metadata": {},
   "source": [
    "Как мы видим, пропусков в данных нет"
   ]
  },
  {
   "cell_type": "markdown",
   "id": "059702bd",
   "metadata": {},
   "source": [
    "### Проверяем наличие дубликатов в данных"
   ]
  },
  {
   "cell_type": "markdown",
   "id": "1cac3d40",
   "metadata": {},
   "source": [
    "Ищем дубликаты в данных"
   ]
  },
  {
   "cell_type": "code",
   "execution_count": 15,
   "id": "fee8d659",
   "metadata": {},
   "outputs": [
    {
     "name": "stdout",
     "output_type": "stream",
     "text": [
      "Сумма колличества дупликантов в данных users:\n"
     ]
    },
    {
     "data": {
      "text/plain": [
       "31"
      ]
     },
     "execution_count": 15,
     "metadata": {},
     "output_type": "execute_result"
    }
   ],
   "source": [
    "# Находим сумму дупликантов\n",
    "print('Сумма колличества дупликантов в данных users:')\n",
    "data_users_row.duplicated().sum()"
   ]
  },
  {
   "cell_type": "code",
   "execution_count": 16,
   "id": "ce0ab5bb",
   "metadata": {},
   "outputs": [
    {
     "name": "stdout",
     "output_type": "stream",
     "text": [
      "Сумма колличества дупликантов в данных rides:\n"
     ]
    },
    {
     "data": {
      "text/plain": [
       "0"
      ]
     },
     "execution_count": 16,
     "metadata": {},
     "output_type": "execute_result"
    }
   ],
   "source": [
    "# Находим сумму дупликантов\n",
    "print('Сумма колличества дупликантов в данных rides:')\n",
    "data_rides_row.duplicated().sum()"
   ]
  },
  {
   "cell_type": "code",
   "execution_count": 17,
   "id": "e3df29db",
   "metadata": {},
   "outputs": [
    {
     "name": "stdout",
     "output_type": "stream",
     "text": [
      "Сумма колличества дупликантов в данных subscription:\n"
     ]
    },
    {
     "data": {
      "text/plain": [
       "0"
      ]
     },
     "execution_count": 17,
     "metadata": {},
     "output_type": "execute_result"
    }
   ],
   "source": [
    "# Находим сумму дупликантов\n",
    "print('Сумма колличества дупликантов в данных subscription:')\n",
    "data_subscription_row.duplicated().sum()"
   ]
  },
  {
   "cell_type": "code",
   "execution_count": 18,
   "id": "9776afd5",
   "metadata": {},
   "outputs": [],
   "source": [
    "# Ищем дубликанты и удаляем их, индекс можно сразу обновить, поскольку дальнейшее объединение данных будет через id пользователя\n",
    "data_users = data_users_row.drop_duplicates().reset_index()\n",
    "data_rides = data_rides_row.reset_index()\n",
    "data_subscription = data_subscription_row.reset_index()"
   ]
  },
  {
   "cell_type": "markdown",
   "id": "ee3f0a55",
   "metadata": {},
   "source": [
    "Сделаем подстчет данных **до** и **после** предварительной обработки данных"
   ]
  },
  {
   "cell_type": "code",
   "execution_count": 19,
   "id": "2fc8c76d",
   "metadata": {},
   "outputs": [
    {
     "data": {
      "text/plain": [
       "0.9801916932907349"
      ]
     },
     "execution_count": 19,
     "metadata": {},
     "output_type": "execute_result"
    }
   ],
   "source": [
    "# смотрим процентр оставшихся данных в наборе users\n",
    "data_users['user_id'].count() / data_users_row['user_id'].count()"
   ]
  },
  {
   "cell_type": "code",
   "execution_count": 20,
   "id": "0574905f",
   "metadata": {
    "scrolled": true
   },
   "outputs": [
    {
     "data": {
      "text/plain": [
       "1.0"
      ]
     },
     "execution_count": 20,
     "metadata": {},
     "output_type": "execute_result"
    }
   ],
   "source": [
    "# смотрим процент оставшихся данных в наборе rides\n",
    "data_rides['user_id'].count() / data_rides_row['user_id'].count()"
   ]
  },
  {
   "cell_type": "markdown",
   "id": "741a1ad9",
   "metadata": {},
   "source": [
    "Таким образом, более ***98%*** данных в наборе **users** было сохранено после предварительной обработки, данные в наборе **rides** и **subscription** были сохранены в полном объеме. "
   ]
  },
  {
   "cell_type": "markdown",
   "id": "719513b7",
   "metadata": {},
   "source": [
    "## Исследовательский анализ данных"
   ]
  },
  {
   "cell_type": "markdown",
   "id": "4a66c72b",
   "metadata": {},
   "source": [
    "Необходимо описать и визуализировать общую информацию о пользователях и поездках."
   ]
  },
  {
   "cell_type": "markdown",
   "id": "dbd56e11",
   "metadata": {},
   "source": [
    "### Частота встречаемости городов"
   ]
  },
  {
   "cell_type": "code",
   "execution_count": 21,
   "id": "fbf47cbd",
   "metadata": {},
   "outputs": [],
   "source": [
    "# Группируем колличество пользователей по городам\n",
    "city = data_users.groupby('city')['user_id'].count().sort_values(ascending=False)"
   ]
  },
  {
   "cell_type": "code",
   "execution_count": 22,
   "id": "4d7c65e8",
   "metadata": {},
   "outputs": [
    {
     "data": {
      "text/plain": [
       "<AxesSubplot:title={'center':'Колличество пользователей по городам'}>"
      ]
     },
     "execution_count": 22,
     "metadata": {},
     "output_type": "execute_result"
    },
    {
     "data": {
      "image/png": "[encoded data removed]",
      "text/plain": [
       "<Figure size 504x504 with 1 Axes>"
      ]
     },
     "metadata": {},
     "output_type": "display_data"
    }
   ],
   "source": [
    "# Строим круговую диограмму данных\n",
    "city.plot(kind='pie', ylabel='',title='Колличество пользователей по городам', autopct='%1.0f%%', figsize=(7, 7))"
   ]
  },
  {
   "cell_type": "code",
   "execution_count": 23,
   "id": "9b2cb877",
   "metadata": {},
   "outputs": [
    {
     "data": {
      "text/html": [
       "<div>\n",
       "<style scoped>\n",
       "    .dataframe tbody tr th:only-of-type {\n",
       "        vertical-align: middle;\n",
       "    }\n",
       "\n",
       "    .dataframe tbody tr th {\n",
       "        vertical-align: top;\n",
       "    }\n",
       "\n",
       "    .dataframe thead th {\n",
       "        text-align: right;\n",
       "    }\n",
       "</style>\n",
       "<table border=\"1\" class=\"dataframe\">\n",
       "  <thead>\n",
       "    <tr style=\"text-align: right;\">\n",
       "      <th></th>\n",
       "      <th>cities</th>\n",
       "      <th>users</th>\n",
       "    </tr>\n",
       "  </thead>\n",
       "  <tbody>\n",
       "    <tr>\n",
       "      <th>0</th>\n",
       "      <td>Пятигорск</td>\n",
       "      <td>219</td>\n",
       "    </tr>\n",
       "    <tr>\n",
       "      <th>1</th>\n",
       "      <td>Екатеринбург</td>\n",
       "      <td>204</td>\n",
       "    </tr>\n",
       "    <tr>\n",
       "      <th>2</th>\n",
       "      <td>Ростов-на-Дону</td>\n",
       "      <td>198</td>\n",
       "    </tr>\n",
       "    <tr>\n",
       "      <th>3</th>\n",
       "      <td>Краснодар</td>\n",
       "      <td>193</td>\n",
       "    </tr>\n",
       "    <tr>\n",
       "      <th>4</th>\n",
       "      <td>Сочи</td>\n",
       "      <td>189</td>\n",
       "    </tr>\n",
       "    <tr>\n",
       "      <th>5</th>\n",
       "      <td>Омск</td>\n",
       "      <td>183</td>\n",
       "    </tr>\n",
       "    <tr>\n",
       "      <th>6</th>\n",
       "      <td>Тюмень</td>\n",
       "      <td>180</td>\n",
       "    </tr>\n",
       "    <tr>\n",
       "      <th>7</th>\n",
       "      <td>Москва</td>\n",
       "      <td>168</td>\n",
       "    </tr>\n",
       "  </tbody>\n",
       "</table>\n",
       "</div>"
      ],
      "text/plain": [
       "           cities  users\n",
       "0       Пятигорск    219\n",
       "1    Екатеринбург    204\n",
       "2  Ростов-на-Дону    198\n",
       "3       Краснодар    193\n",
       "4            Сочи    189\n",
       "5            Омск    183\n",
       "6          Тюмень    180\n",
       "7          Москва    168"
      ]
     },
     "execution_count": 23,
     "metadata": {},
     "output_type": "execute_result"
    }
   ],
   "source": [
    "# Выводим числовые значения для наглядности\n",
    "city = city.reset_index()\n",
    "city.columns = ('cities', 'users')\n",
    "city"
   ]
  },
  {
   "cell_type": "code",
   "execution_count": 24,
   "id": "eb8d4b62",
   "metadata": {},
   "outputs": [
    {
     "name": "stderr",
     "output_type": "stream",
     "text": [
      "/tmp/ipykernel_1257/4058100152.py:3: MatplotlibDeprecationWarning: Using a string of single character colors as a color sequence is deprecated since 3.2 and will be removed two minor releases later. Use an explicit list instead.\n",
      "  plt.bar(city['cities'],\n"
     ]
    },
    {
     "data": {
      "text/plain": [
       "<BarContainer object of 8 artists>"
      ]
     },
     "execution_count": 24,
     "metadata": {},
     "output_type": "execute_result"
    },
    {
     "data": {
      "image/png": "[encoded data removed]",
      "text/plain": [
       "<Figure size 1080x360 with 1 Axes>"
      ]
     },
     "metadata": {},
     "output_type": "display_data"
    }
   ],
   "source": [
    "# Строим график\n",
    "plt.figure(figsize=(15, 5))\n",
    "plt.bar(city['cities'],\n",
    "        city['users'],\n",
    "        color='rgbwymc')"
   ]
  },
  {
   "cell_type": "markdown",
   "id": "10369796",
   "metadata": {},
   "source": [
    "Из данных видно, что наиболее часто пользуются сервисом в г.Пятигосрк, на который приходится 14% всех пользователей, далее идут Екатеринбург, Ростов-на-Дону и Краснодар по 13%. Замыкает восьмерку всех городов - Москва, на которую приходится 11% пользователей. "
   ]
  },
  {
   "cell_type": "markdown",
   "id": "92f7790d",
   "metadata": {},
   "source": [
    "### Соотношение пользователей с подпиской и без"
   ]
  },
  {
   "cell_type": "code",
   "execution_count": 25,
   "id": "abd1c6d1",
   "metadata": {},
   "outputs": [
    {
     "data": {
      "image/png": "[encoded data removed]",
      "text/plain": [
       "<Figure size 432x288 with 1 Axes>"
      ]
     },
     "metadata": {},
     "output_type": "display_data"
    }
   ],
   "source": [
    "# Строим гистограмму распределения\n",
    "plt.hist(data_users['subscription_type'],\n",
    "         bins=2,\n",
    "         range=(-0.5, 1.5),\n",
    "         color='C0',\n",
    "         histtype='bar',\n",
    "         stacked=False)\n",
    "plt.title('Соотношение пользователей с подпиской и без')\n",
    "plt.xlabel('Тип подписки')\n",
    "plt.ylabel('Колличество пользователей')\n",
    "plt.show()"
   ]
  },
  {
   "cell_type": "code",
   "execution_count": 26,
   "id": "12a610cc",
   "metadata": {
    "scrolled": true
   },
   "outputs": [
    {
     "name": "stdout",
     "output_type": "stream",
     "text": [
      "Процент пользователей без подписки:\n"
     ]
    },
    {
     "data": {
      "text/plain": [
       "54.4"
      ]
     },
     "execution_count": 26,
     "metadata": {},
     "output_type": "execute_result"
    }
   ],
   "source": [
    "# Считаем процент пользователей без подписки\n",
    "print('Процент пользователей без подписки:')\n",
    "round(data_users[data_users['subscription_type']=='free']['subscription_type'].count() / data_users['subscription_type'].count() *100, 1)"
   ]
  },
  {
   "cell_type": "code",
   "execution_count": 27,
   "id": "e8dec3ad",
   "metadata": {},
   "outputs": [
    {
     "name": "stdout",
     "output_type": "stream",
     "text": [
      "Процент пользователей с подпиской:\n"
     ]
    },
    {
     "data": {
      "text/plain": [
       "45.6"
      ]
     },
     "execution_count": 27,
     "metadata": {},
     "output_type": "execute_result"
    }
   ],
   "source": [
    "# Считаем процент пользователей с подпиской\n",
    "print('Процент пользователей с подпиской:')\n",
    "round(data_users[data_users['subscription_type']=='ultra']['subscription_type'].count() / data_users['subscription_type'].count() *100, 1)"
   ]
  },
  {
   "cell_type": "markdown",
   "id": "52a00606",
   "metadata": {},
   "source": [
    "Из полученных данным мы видим, что процент пользователей с подпиской **45.65** или около 700 пользователей сервиса. Пользователей же без подписки более 800 или порядка **54.4%** от всех пользователей. "
   ]
  },
  {
   "cell_type": "markdown",
   "id": "5dcb8a4b",
   "metadata": {},
   "source": [
    "### Исследование возраста пользователей"
   ]
  },
  {
   "cell_type": "code",
   "execution_count": 28,
   "id": "9a0b2509",
   "metadata": {},
   "outputs": [
    {
     "data": {
      "text/plain": [
       "mean      24.90352\n",
       "median    25.00000\n",
       "min       12.00000\n",
       "max       43.00000\n",
       "Name: age, dtype: float64"
      ]
     },
     "execution_count": 28,
     "metadata": {},
     "output_type": "execute_result"
    }
   ],
   "source": [
    "# Определяем средний, медианный, минимальный и максимальный возраста\n",
    "data_users['age'].apply(['mean', 'median', 'min', 'max'])"
   ]
  },
  {
   "cell_type": "code",
   "execution_count": 29,
   "id": "889018e5",
   "metadata": {
    "scrolled": false
   },
   "outputs": [
    {
     "data": {
      "image/png": "[encoded data removed]",
      "text/plain": [
       "<Figure size 432x288 with 1 Axes>"
      ]
     },
     "metadata": {},
     "output_type": "display_data"
    }
   ],
   "source": [
    "# Строим гистограмму распределения\n",
    "plt.hist(data_users['age'],\n",
    "         bins=31,\n",
    "         range=(12, 43),\n",
    "         color='C0',\n",
    "         histtype='bar',\n",
    "         stacked=False)\n",
    "plt.title('Распределение возраста пользователей')\n",
    "plt.xlabel('Возраст')\n",
    "plt.ylabel('Колличество пользователей')\n",
    "plt.show()"
   ]
  },
  {
   "cell_type": "code",
   "execution_count": 30,
   "id": "0c247350",
   "metadata": {},
   "outputs": [
    {
     "data": {
      "text/plain": [
       "25"
      ]
     },
     "execution_count": 30,
     "metadata": {},
     "output_type": "execute_result"
    }
   ],
   "source": [
    "# Находим наиболее часто встречающийся возраст пользователей\n",
    "data_users['age'].mode()[0]"
   ]
  },
  {
   "cell_type": "markdown",
   "id": "f9bda198",
   "metadata": {},
   "source": [
    "По имеющися данным видим, что *средний возраст* пользователей приложения равен 24.9 лет, *медианный* равен 25, он же является и наиболее часто встречающимся среди всех пользователей. При этом самому юному пользователю 12 лет, а самому возрастному 43. Распределение всех пользователей является нормальным, поэтому не вызываем вопросов к данным. "
   ]
  },
  {
   "cell_type": "markdown",
   "id": "9a4f4ba4",
   "metadata": {},
   "source": [
    "### Исследование данных по пройденному расстоянию"
   ]
  },
  {
   "cell_type": "markdown",
   "id": "52b8613d",
   "metadata": {},
   "source": [
    "Чтобы избежать некоторые выбросы в данных создадим сводную таблицу по пользователям и пройденной ими дистанции, найдем для каждого пользователя медианное и среднее(для наглядности) значения пройденного расстояния."
   ]
  },
  {
   "cell_type": "code",
   "execution_count": 31,
   "id": "26d4d4b7",
   "metadata": {},
   "outputs": [],
   "source": [
    "# Создаем сводную таблицу по пользователям и пройденной ими средней и медианной дистанциям\n",
    "distance = data_rides.pivot_table(index='user_id',\n",
    "                                  values='distance',\n",
    "                                  aggfunc=['mean', 'median'])"
   ]
  },
  {
   "cell_type": "code",
   "execution_count": 32,
   "id": "b34b0edf",
   "metadata": {},
   "outputs": [
    {
     "data": {
      "text/html": [
       "<div>\n",
       "<style scoped>\n",
       "    .dataframe tbody tr th:only-of-type {\n",
       "        vertical-align: middle;\n",
       "    }\n",
       "\n",
       "    .dataframe tbody tr th {\n",
       "        vertical-align: top;\n",
       "    }\n",
       "\n",
       "    .dataframe thead tr th {\n",
       "        text-align: left;\n",
       "    }\n",
       "</style>\n",
       "<table border=\"1\" class=\"dataframe\">\n",
       "  <thead>\n",
       "    <tr>\n",
       "      <th></th>\n",
       "      <th>mean</th>\n",
       "      <th>median</th>\n",
       "    </tr>\n",
       "    <tr>\n",
       "      <th></th>\n",
       "      <th>distance</th>\n",
       "      <th>distance</th>\n",
       "    </tr>\n",
       "  </thead>\n",
       "  <tbody>\n",
       "    <tr>\n",
       "      <th>count</th>\n",
       "      <td>1534.000000</td>\n",
       "      <td>1534.000000</td>\n",
       "    </tr>\n",
       "    <tr>\n",
       "      <th>mean</th>\n",
       "      <td>3077.296650</td>\n",
       "      <td>3134.108236</td>\n",
       "    </tr>\n",
       "    <tr>\n",
       "      <th>std</th>\n",
       "      <td>327.624403</td>\n",
       "      <td>346.362860</td>\n",
       "    </tr>\n",
       "    <tr>\n",
       "      <th>min</th>\n",
       "      <td>1630.788427</td>\n",
       "      <td>1234.763317</td>\n",
       "    </tr>\n",
       "    <tr>\n",
       "      <th>25%</th>\n",
       "      <td>2882.505704</td>\n",
       "      <td>2916.315439</td>\n",
       "    </tr>\n",
       "    <tr>\n",
       "      <th>50%</th>\n",
       "      <td>3090.864050</td>\n",
       "      <td>3131.071202</td>\n",
       "    </tr>\n",
       "    <tr>\n",
       "      <th>75%</th>\n",
       "      <td>3293.325678</td>\n",
       "      <td>3337.730942</td>\n",
       "    </tr>\n",
       "    <tr>\n",
       "      <th>max</th>\n",
       "      <td>4287.519387</td>\n",
       "      <td>4395.430303</td>\n",
       "    </tr>\n",
       "  </tbody>\n",
       "</table>\n",
       "</div>"
      ],
      "text/plain": [
       "              mean       median\n",
       "          distance     distance\n",
       "count  1534.000000  1534.000000\n",
       "mean   3077.296650  3134.108236\n",
       "std     327.624403   346.362860\n",
       "min    1630.788427  1234.763317\n",
       "25%    2882.505704  2916.315439\n",
       "50%    3090.864050  3131.071202\n",
       "75%    3293.325678  3337.730942\n",
       "max    4287.519387  4395.430303"
      ]
     },
     "execution_count": 32,
     "metadata": {},
     "output_type": "execute_result"
    }
   ],
   "source": [
    "# Выводим информацию по сводной таблицу\n",
    "distance.describe()"
   ]
  },
  {
   "cell_type": "code",
   "execution_count": 33,
   "id": "a35638c5",
   "metadata": {
    "scrolled": false
   },
   "outputs": [
    {
     "data": {
      "image/png": "[encoded data removed]",
      "text/plain": [
       "<Figure size 432x288 with 1 Axes>"
      ]
     },
     "metadata": {},
     "output_type": "display_data"
    }
   ],
   "source": [
    "# Строим гистограмму распределения\n",
    "plt.hist(distance,\n",
    "         bins=30,\n",
    "         stacked=False)\n",
    "plt.title('Распределение пройденной дистанции')\n",
    "plt.xlabel('Дистанция')\n",
    "plt.ylabel('Колличество пользователей')\n",
    "plt.legend(['Средняя', 'Медианная'])\n",
    "plt.show()"
   ]
  },
  {
   "cell_type": "markdown",
   "id": "99ae964b",
   "metadata": {},
   "source": [
    "По полученным данным становится известно, что в медианном значении каждый пользователь преодолевает 3134.11 км. Оба распределения и медианное, и среднее являются нормальными, сильных выбросов в данных не обнаружено."
   ]
  },
  {
   "cell_type": "markdown",
   "id": "50a2d168",
   "metadata": {},
   "source": [
    "### Исследование данных по продолжительности поездок"
   ]
  },
  {
   "cell_type": "code",
   "execution_count": 34,
   "id": "ee404397",
   "metadata": {},
   "outputs": [
    {
     "name": "stdout",
     "output_type": "stream",
     "text": [
      "<class 'pandas.core.frame.DataFrame'>\n",
      "RangeIndex: 18068 entries, 0 to 18067\n",
      "Data columns (total 6 columns):\n",
      " #   Column    Non-Null Count  Dtype         \n",
      "---  ------    --------------  -----         \n",
      " 0   index     18068 non-null  int64         \n",
      " 1   user_id   18068 non-null  int64         \n",
      " 2   distance  18068 non-null  float64       \n",
      " 3   duration  18068 non-null  float64       \n",
      " 4   date      18068 non-null  datetime64[ns]\n",
      " 5   month     18068 non-null  int64         \n",
      "dtypes: datetime64[ns](1), float64(2), int64(3)\n",
      "memory usage: 847.1 KB\n"
     ]
    }
   ],
   "source": [
    "# Выводим информацию и поездках\n",
    "data_rides.info()"
   ]
  },
  {
   "cell_type": "code",
   "execution_count": 35,
   "id": "63240e49",
   "metadata": {},
   "outputs": [],
   "source": [
    "# Делаем сводную таблицу по среднему и медианному значению продолжительности поездок\n",
    "duration = data_rides.pivot_table(index='user_id',\n",
    "                                  values='duration',\n",
    "                                  aggfunc=['mean', 'median'])"
   ]
  },
  {
   "cell_type": "code",
   "execution_count": 36,
   "id": "79877369",
   "metadata": {},
   "outputs": [
    {
     "data": {
      "text/html": [
       "<div>\n",
       "<style scoped>\n",
       "    .dataframe tbody tr th:only-of-type {\n",
       "        vertical-align: middle;\n",
       "    }\n",
       "\n",
       "    .dataframe tbody tr th {\n",
       "        vertical-align: top;\n",
       "    }\n",
       "\n",
       "    .dataframe thead tr th {\n",
       "        text-align: left;\n",
       "    }\n",
       "</style>\n",
       "<table border=\"1\" class=\"dataframe\">\n",
       "  <thead>\n",
       "    <tr>\n",
       "      <th></th>\n",
       "      <th>mean</th>\n",
       "      <th>median</th>\n",
       "    </tr>\n",
       "    <tr>\n",
       "      <th></th>\n",
       "      <th>duration</th>\n",
       "      <th>duration</th>\n",
       "    </tr>\n",
       "  </thead>\n",
       "  <tbody>\n",
       "    <tr>\n",
       "      <th>count</th>\n",
       "      <td>1534.000000</td>\n",
       "      <td>1534.000000</td>\n",
       "    </tr>\n",
       "    <tr>\n",
       "      <th>mean</th>\n",
       "      <td>17.926440</td>\n",
       "      <td>17.727225</td>\n",
       "    </tr>\n",
       "    <tr>\n",
       "      <th>std</th>\n",
       "      <td>1.971150</td>\n",
       "      <td>2.322542</td>\n",
       "    </tr>\n",
       "    <tr>\n",
       "      <th>min</th>\n",
       "      <td>11.163431</td>\n",
       "      <td>10.711378</td>\n",
       "    </tr>\n",
       "    <tr>\n",
       "      <th>25%</th>\n",
       "      <td>16.613880</td>\n",
       "      <td>16.189955</td>\n",
       "    </tr>\n",
       "    <tr>\n",
       "      <th>50%</th>\n",
       "      <td>17.903937</td>\n",
       "      <td>17.743728</td>\n",
       "    </tr>\n",
       "    <tr>\n",
       "      <th>75%</th>\n",
       "      <td>19.198581</td>\n",
       "      <td>19.208337</td>\n",
       "    </tr>\n",
       "    <tr>\n",
       "      <th>max</th>\n",
       "      <td>26.136000</td>\n",
       "      <td>29.983174</td>\n",
       "    </tr>\n",
       "  </tbody>\n",
       "</table>\n",
       "</div>"
      ],
      "text/plain": [
       "              mean       median\n",
       "          duration     duration\n",
       "count  1534.000000  1534.000000\n",
       "mean     17.926440    17.727225\n",
       "std       1.971150     2.322542\n",
       "min      11.163431    10.711378\n",
       "25%      16.613880    16.189955\n",
       "50%      17.903937    17.743728\n",
       "75%      19.198581    19.208337\n",
       "max      26.136000    29.983174"
      ]
     },
     "execution_count": 36,
     "metadata": {},
     "output_type": "execute_result"
    }
   ],
   "source": [
    "# Выводим информацию по сводной таблице\n",
    "duration.describe()"
   ]
  },
  {
   "cell_type": "code",
   "execution_count": 37,
   "id": "b657caa8",
   "metadata": {},
   "outputs": [
    {
     "data": {
      "image/png": "[encoded data removed]",
      "text/plain": [
       "<Figure size 432x288 with 1 Axes>"
      ]
     },
     "metadata": {},
     "output_type": "display_data"
    }
   ],
   "source": [
    "# Строим гистограмму распределения\n",
    "plt.hist(duration,\n",
    "         bins=30,\n",
    "         range=(10, 30),\n",
    "         stacked=False)\n",
    "plt.title('Распределение времени продолжительности поездок')\n",
    "plt.xlabel('Продолжительность')\n",
    "plt.ylabel('Колличество пользователей')\n",
    "plt.legend(['Среднее', 'Медианное'])\n",
    "plt.show()"
   ]
  },
  {
   "cell_type": "code",
   "execution_count": 38,
   "id": "f0632ef2",
   "metadata": {},
   "outputs": [
    {
     "name": "stdout",
     "output_type": "stream",
     "text": [
      "Выводим \"Коробку с усами для данных по медианному значению продолжительности поездок:\"\n"
     ]
    },
    {
     "data": {
      "image/png": "[encoded data removed]",
      "text/plain": [
       "<Figure size 432x288 with 1 Axes>"
      ]
     },
     "metadata": {},
     "output_type": "display_data"
    },
    {
     "name": "stdout",
     "output_type": "stream",
     "text": [
      "Выводим \"Коробку с усами для данных по медианному значению длины поездок:\"\n"
     ]
    },
    {
     "data": {
      "image/png": "[encoded data removed]",
      "text/plain": [
       "<Figure size 432x288 with 1 Axes>"
      ]
     },
     "metadata": {},
     "output_type": "display_data"
    }
   ],
   "source": [
    "print('Выводим \"Коробку с усами для данных по медианному значению продолжительности поездок:\"')\n",
    "plt.boxplot(duration['median'])\n",
    "plt.show()\n",
    "print('Выводим \"Коробку с усами для данных по медианному значению длины поездок:\"')\n",
    "plt.boxplot(distance['median'])\n",
    "plt.show()"
   ]
  },
  {
   "cell_type": "markdown",
   "id": "0694eb43",
   "metadata": {},
   "source": [
    "Из данных по продолжительности поездок видно, что среднее и медианное значение почти равны, распределение является нормальным без особых выбросов и отклонений. Медианное время продолжительности поездок составляет чуть менее 18 минут. \n",
    "\n",
    "Видно некоторые выбросы не сильные быбросы в данных."
   ]
  },
  {
   "cell_type": "markdown",
   "id": "3320711e",
   "metadata": {},
   "source": [
    "## Объединение данных"
   ]
  },
  {
   "cell_type": "code",
   "execution_count": 39,
   "id": "795a8d61",
   "metadata": {},
   "outputs": [],
   "source": [
    "# Объединяем таблицы users, rides, subscription\n",
    "data = pd.merge(data_users, data_rides, how='outer', on='user_id')\n",
    "data = pd.merge(data, data_subscription, how='outer', on='subscription_type')\n",
    "# Убираем лишние столбцы\n",
    "data = data.drop(columns=['index_x', 'index_y'])\n",
    "# Переименовываем столбец индекс\n",
    "data = data.rename(columns={'index':'sub_index'})"
   ]
  },
  {
   "cell_type": "code",
   "execution_count": 40,
   "id": "edb4a5c5",
   "metadata": {},
   "outputs": [
    {
     "data": {
      "text/plain": [
       "user_id              0\n",
       "name                 0\n",
       "age                  0\n",
       "city                 0\n",
       "subscription_type    0\n",
       "distance             0\n",
       "duration             0\n",
       "date                 0\n",
       "month                0\n",
       "sub_index            0\n",
       "minute_price         0\n",
       "start_ride_price     0\n",
       "subscription_fee     0\n",
       "dtype: int64"
      ]
     },
     "execution_count": 40,
     "metadata": {},
     "output_type": "execute_result"
    }
   ],
   "source": [
    "# Проверяем таблицу на пропуски\n",
    "data.isna().sum()"
   ]
  },
  {
   "cell_type": "markdown",
   "id": "db1736f5",
   "metadata": {},
   "source": []
  },
  {
   "cell_type": "code",
   "execution_count": 41,
   "id": "98c4228d",
   "metadata": {},
   "outputs": [
    {
     "data": {
      "text/html": [
       "<div>\n",
       "<style scoped>\n",
       "    .dataframe tbody tr th:only-of-type {\n",
       "        vertical-align: middle;\n",
       "    }\n",
       "\n",
       "    .dataframe tbody tr th {\n",
       "        vertical-align: top;\n",
       "    }\n",
       "\n",
       "    .dataframe thead th {\n",
       "        text-align: right;\n",
       "    }\n",
       "</style>\n",
       "<table border=\"1\" class=\"dataframe\">\n",
       "  <thead>\n",
       "    <tr style=\"text-align: right;\">\n",
       "      <th></th>\n",
       "      <th>user_id</th>\n",
       "      <th>name</th>\n",
       "      <th>age</th>\n",
       "      <th>city</th>\n",
       "      <th>subscription_type</th>\n",
       "      <th>distance</th>\n",
       "      <th>duration</th>\n",
       "      <th>date</th>\n",
       "      <th>month</th>\n",
       "      <th>sub_index</th>\n",
       "      <th>minute_price</th>\n",
       "      <th>start_ride_price</th>\n",
       "      <th>subscription_fee</th>\n",
       "    </tr>\n",
       "  </thead>\n",
       "  <tbody>\n",
       "    <tr>\n",
       "      <th>0</th>\n",
       "      <td>1</td>\n",
       "      <td>Кира</td>\n",
       "      <td>22</td>\n",
       "      <td>Тюмень</td>\n",
       "      <td>ultra</td>\n",
       "      <td>4409.919140</td>\n",
       "      <td>25.599769</td>\n",
       "      <td>2021-01-01</td>\n",
       "      <td>1</td>\n",
       "      <td>1</td>\n",
       "      <td>6</td>\n",
       "      <td>0</td>\n",
       "      <td>199</td>\n",
       "    </tr>\n",
       "    <tr>\n",
       "      <th>1</th>\n",
       "      <td>1</td>\n",
       "      <td>Кира</td>\n",
       "      <td>22</td>\n",
       "      <td>Тюмень</td>\n",
       "      <td>ultra</td>\n",
       "      <td>2617.592153</td>\n",
       "      <td>15.816871</td>\n",
       "      <td>2021-01-18</td>\n",
       "      <td>1</td>\n",
       "      <td>1</td>\n",
       "      <td>6</td>\n",
       "      <td>0</td>\n",
       "      <td>199</td>\n",
       "    </tr>\n",
       "    <tr>\n",
       "      <th>2</th>\n",
       "      <td>1</td>\n",
       "      <td>Кира</td>\n",
       "      <td>22</td>\n",
       "      <td>Тюмень</td>\n",
       "      <td>ultra</td>\n",
       "      <td>754.159807</td>\n",
       "      <td>6.232113</td>\n",
       "      <td>2021-04-20</td>\n",
       "      <td>4</td>\n",
       "      <td>1</td>\n",
       "      <td>6</td>\n",
       "      <td>0</td>\n",
       "      <td>199</td>\n",
       "    </tr>\n",
       "    <tr>\n",
       "      <th>3</th>\n",
       "      <td>1</td>\n",
       "      <td>Кира</td>\n",
       "      <td>22</td>\n",
       "      <td>Тюмень</td>\n",
       "      <td>ultra</td>\n",
       "      <td>2694.783254</td>\n",
       "      <td>18.511000</td>\n",
       "      <td>2021-08-11</td>\n",
       "      <td>8</td>\n",
       "      <td>1</td>\n",
       "      <td>6</td>\n",
       "      <td>0</td>\n",
       "      <td>199</td>\n",
       "    </tr>\n",
       "    <tr>\n",
       "      <th>4</th>\n",
       "      <td>1</td>\n",
       "      <td>Кира</td>\n",
       "      <td>22</td>\n",
       "      <td>Тюмень</td>\n",
       "      <td>ultra</td>\n",
       "      <td>4028.687306</td>\n",
       "      <td>26.265803</td>\n",
       "      <td>2021-08-28</td>\n",
       "      <td>8</td>\n",
       "      <td>1</td>\n",
       "      <td>6</td>\n",
       "      <td>0</td>\n",
       "      <td>199</td>\n",
       "    </tr>\n",
       "    <tr>\n",
       "      <th>...</th>\n",
       "      <td>...</td>\n",
       "      <td>...</td>\n",
       "      <td>...</td>\n",
       "      <td>...</td>\n",
       "      <td>...</td>\n",
       "      <td>...</td>\n",
       "      <td>...</td>\n",
       "      <td>...</td>\n",
       "      <td>...</td>\n",
       "      <td>...</td>\n",
       "      <td>...</td>\n",
       "      <td>...</td>\n",
       "      <td>...</td>\n",
       "    </tr>\n",
       "    <tr>\n",
       "      <th>18063</th>\n",
       "      <td>1534</td>\n",
       "      <td>Альберт</td>\n",
       "      <td>25</td>\n",
       "      <td>Краснодар</td>\n",
       "      <td>free</td>\n",
       "      <td>3781.098080</td>\n",
       "      <td>19.822962</td>\n",
       "      <td>2021-11-04</td>\n",
       "      <td>11</td>\n",
       "      <td>0</td>\n",
       "      <td>8</td>\n",
       "      <td>50</td>\n",
       "      <td>0</td>\n",
       "    </tr>\n",
       "    <tr>\n",
       "      <th>18064</th>\n",
       "      <td>1534</td>\n",
       "      <td>Альберт</td>\n",
       "      <td>25</td>\n",
       "      <td>Краснодар</td>\n",
       "      <td>free</td>\n",
       "      <td>2840.423057</td>\n",
       "      <td>21.409799</td>\n",
       "      <td>2021-11-16</td>\n",
       "      <td>11</td>\n",
       "      <td>0</td>\n",
       "      <td>8</td>\n",
       "      <td>50</td>\n",
       "      <td>0</td>\n",
       "    </tr>\n",
       "    <tr>\n",
       "      <th>18065</th>\n",
       "      <td>1534</td>\n",
       "      <td>Альберт</td>\n",
       "      <td>25</td>\n",
       "      <td>Краснодар</td>\n",
       "      <td>free</td>\n",
       "      <td>3826.185507</td>\n",
       "      <td>18.435051</td>\n",
       "      <td>2021-11-18</td>\n",
       "      <td>11</td>\n",
       "      <td>0</td>\n",
       "      <td>8</td>\n",
       "      <td>50</td>\n",
       "      <td>0</td>\n",
       "    </tr>\n",
       "    <tr>\n",
       "      <th>18066</th>\n",
       "      <td>1534</td>\n",
       "      <td>Альберт</td>\n",
       "      <td>25</td>\n",
       "      <td>Краснодар</td>\n",
       "      <td>free</td>\n",
       "      <td>2902.308661</td>\n",
       "      <td>16.674362</td>\n",
       "      <td>2021-11-27</td>\n",
       "      <td>11</td>\n",
       "      <td>0</td>\n",
       "      <td>8</td>\n",
       "      <td>50</td>\n",
       "      <td>0</td>\n",
       "    </tr>\n",
       "    <tr>\n",
       "      <th>18067</th>\n",
       "      <td>1534</td>\n",
       "      <td>Альберт</td>\n",
       "      <td>25</td>\n",
       "      <td>Краснодар</td>\n",
       "      <td>free</td>\n",
       "      <td>2371.711192</td>\n",
       "      <td>15.893917</td>\n",
       "      <td>2021-12-29</td>\n",
       "      <td>12</td>\n",
       "      <td>0</td>\n",
       "      <td>8</td>\n",
       "      <td>50</td>\n",
       "      <td>0</td>\n",
       "    </tr>\n",
       "  </tbody>\n",
       "</table>\n",
       "<p>18068 rows × 13 columns</p>\n",
       "</div>"
      ],
      "text/plain": [
       "       user_id     name  age       city subscription_type     distance  \\\n",
       "0            1     Кира   22     Тюмень             ultra  4409.919140   \n",
       "1            1     Кира   22     Тюмень             ultra  2617.592153   \n",
       "2            1     Кира   22     Тюмень             ultra   754.159807   \n",
       "3            1     Кира   22     Тюмень             ultra  2694.783254   \n",
       "4            1     Кира   22     Тюмень             ultra  4028.687306   \n",
       "...        ...      ...  ...        ...               ...          ...   \n",
       "18063     1534  Альберт   25  Краснодар              free  3781.098080   \n",
       "18064     1534  Альберт   25  Краснодар              free  2840.423057   \n",
       "18065     1534  Альберт   25  Краснодар              free  3826.185507   \n",
       "18066     1534  Альберт   25  Краснодар              free  2902.308661   \n",
       "18067     1534  Альберт   25  Краснодар              free  2371.711192   \n",
       "\n",
       "        duration       date  month  sub_index  minute_price  start_ride_price  \\\n",
       "0      25.599769 2021-01-01      1          1             6                 0   \n",
       "1      15.816871 2021-01-18      1          1             6                 0   \n",
       "2       6.232113 2021-04-20      4          1             6                 0   \n",
       "3      18.511000 2021-08-11      8          1             6                 0   \n",
       "4      26.265803 2021-08-28      8          1             6                 0   \n",
       "...          ...        ...    ...        ...           ...               ...   \n",
       "18063  19.822962 2021-11-04     11          0             8                50   \n",
       "18064  21.409799 2021-11-16     11          0             8                50   \n",
       "18065  18.435051 2021-11-18     11          0             8                50   \n",
       "18066  16.674362 2021-11-27     11          0             8                50   \n",
       "18067  15.893917 2021-12-29     12          0             8                50   \n",
       "\n",
       "       subscription_fee  \n",
       "0                   199  \n",
       "1                   199  \n",
       "2                   199  \n",
       "3                   199  \n",
       "4                   199  \n",
       "...                 ...  \n",
       "18063                 0  \n",
       "18064                 0  \n",
       "18065                 0  \n",
       "18066                 0  \n",
       "18067                 0  \n",
       "\n",
       "[18068 rows x 13 columns]"
      ]
     },
     "execution_count": 41,
     "metadata": {},
     "output_type": "execute_result"
    }
   ],
   "source": [
    "# Выводим получившуюся таблицу\n",
    "data"
   ]
  },
  {
   "cell_type": "markdown",
   "id": "a9de1e42",
   "metadata": {},
   "source": [
    "Далее нам необходимо создать две отдельные таблицы для пользователей с подпиской ***ultra*** и без подписки"
   ]
  },
  {
   "cell_type": "code",
   "execution_count": 42,
   "id": "ed28d761",
   "metadata": {},
   "outputs": [
    {
     "data": {
      "text/html": [
       "<div>\n",
       "<style scoped>\n",
       "    .dataframe tbody tr th:only-of-type {\n",
       "        vertical-align: middle;\n",
       "    }\n",
       "\n",
       "    .dataframe tbody tr th {\n",
       "        vertical-align: top;\n",
       "    }\n",
       "\n",
       "    .dataframe thead th {\n",
       "        text-align: right;\n",
       "    }\n",
       "</style>\n",
       "<table border=\"1\" class=\"dataframe\">\n",
       "  <thead>\n",
       "    <tr style=\"text-align: right;\">\n",
       "      <th></th>\n",
       "      <th>user_id</th>\n",
       "      <th>name</th>\n",
       "      <th>age</th>\n",
       "      <th>city</th>\n",
       "      <th>subscription_type</th>\n",
       "      <th>distance</th>\n",
       "      <th>duration</th>\n",
       "      <th>date</th>\n",
       "      <th>month</th>\n",
       "      <th>sub_index</th>\n",
       "      <th>minute_price</th>\n",
       "      <th>start_ride_price</th>\n",
       "      <th>subscription_fee</th>\n",
       "    </tr>\n",
       "  </thead>\n",
       "  <tbody>\n",
       "    <tr>\n",
       "      <th>0</th>\n",
       "      <td>1</td>\n",
       "      <td>Кира</td>\n",
       "      <td>22</td>\n",
       "      <td>Тюмень</td>\n",
       "      <td>ultra</td>\n",
       "      <td>4409.919140</td>\n",
       "      <td>25.599769</td>\n",
       "      <td>2021-01-01</td>\n",
       "      <td>1</td>\n",
       "      <td>1</td>\n",
       "      <td>6</td>\n",
       "      <td>0</td>\n",
       "      <td>199</td>\n",
       "    </tr>\n",
       "    <tr>\n",
       "      <th>1</th>\n",
       "      <td>1</td>\n",
       "      <td>Кира</td>\n",
       "      <td>22</td>\n",
       "      <td>Тюмень</td>\n",
       "      <td>ultra</td>\n",
       "      <td>2617.592153</td>\n",
       "      <td>15.816871</td>\n",
       "      <td>2021-01-18</td>\n",
       "      <td>1</td>\n",
       "      <td>1</td>\n",
       "      <td>6</td>\n",
       "      <td>0</td>\n",
       "      <td>199</td>\n",
       "    </tr>\n",
       "    <tr>\n",
       "      <th>2</th>\n",
       "      <td>1</td>\n",
       "      <td>Кира</td>\n",
       "      <td>22</td>\n",
       "      <td>Тюмень</td>\n",
       "      <td>ultra</td>\n",
       "      <td>754.159807</td>\n",
       "      <td>6.232113</td>\n",
       "      <td>2021-04-20</td>\n",
       "      <td>4</td>\n",
       "      <td>1</td>\n",
       "      <td>6</td>\n",
       "      <td>0</td>\n",
       "      <td>199</td>\n",
       "    </tr>\n",
       "    <tr>\n",
       "      <th>3</th>\n",
       "      <td>1</td>\n",
       "      <td>Кира</td>\n",
       "      <td>22</td>\n",
       "      <td>Тюмень</td>\n",
       "      <td>ultra</td>\n",
       "      <td>2694.783254</td>\n",
       "      <td>18.511000</td>\n",
       "      <td>2021-08-11</td>\n",
       "      <td>8</td>\n",
       "      <td>1</td>\n",
       "      <td>6</td>\n",
       "      <td>0</td>\n",
       "      <td>199</td>\n",
       "    </tr>\n",
       "    <tr>\n",
       "      <th>4</th>\n",
       "      <td>1</td>\n",
       "      <td>Кира</td>\n",
       "      <td>22</td>\n",
       "      <td>Тюмень</td>\n",
       "      <td>ultra</td>\n",
       "      <td>4028.687306</td>\n",
       "      <td>26.265803</td>\n",
       "      <td>2021-08-28</td>\n",
       "      <td>8</td>\n",
       "      <td>1</td>\n",
       "      <td>6</td>\n",
       "      <td>0</td>\n",
       "      <td>199</td>\n",
       "    </tr>\n",
       "    <tr>\n",
       "      <th>...</th>\n",
       "      <td>...</td>\n",
       "      <td>...</td>\n",
       "      <td>...</td>\n",
       "      <td>...</td>\n",
       "      <td>...</td>\n",
       "      <td>...</td>\n",
       "      <td>...</td>\n",
       "      <td>...</td>\n",
       "      <td>...</td>\n",
       "      <td>...</td>\n",
       "      <td>...</td>\n",
       "      <td>...</td>\n",
       "      <td>...</td>\n",
       "    </tr>\n",
       "    <tr>\n",
       "      <th>6495</th>\n",
       "      <td>699</td>\n",
       "      <td>Оксана</td>\n",
       "      <td>22</td>\n",
       "      <td>Москва</td>\n",
       "      <td>ultra</td>\n",
       "      <td>3973.046497</td>\n",
       "      <td>24.671163</td>\n",
       "      <td>2021-08-29</td>\n",
       "      <td>8</td>\n",
       "      <td>1</td>\n",
       "      <td>6</td>\n",
       "      <td>0</td>\n",
       "      <td>199</td>\n",
       "    </tr>\n",
       "    <tr>\n",
       "      <th>6496</th>\n",
       "      <td>699</td>\n",
       "      <td>Оксана</td>\n",
       "      <td>22</td>\n",
       "      <td>Москва</td>\n",
       "      <td>ultra</td>\n",
       "      <td>3288.702563</td>\n",
       "      <td>15.892886</td>\n",
       "      <td>2021-09-12</td>\n",
       "      <td>9</td>\n",
       "      <td>1</td>\n",
       "      <td>6</td>\n",
       "      <td>0</td>\n",
       "      <td>199</td>\n",
       "    </tr>\n",
       "    <tr>\n",
       "      <th>6497</th>\n",
       "      <td>699</td>\n",
       "      <td>Оксана</td>\n",
       "      <td>22</td>\n",
       "      <td>Москва</td>\n",
       "      <td>ultra</td>\n",
       "      <td>3076.159348</td>\n",
       "      <td>14.389525</td>\n",
       "      <td>2021-09-26</td>\n",
       "      <td>9</td>\n",
       "      <td>1</td>\n",
       "      <td>6</td>\n",
       "      <td>0</td>\n",
       "      <td>199</td>\n",
       "    </tr>\n",
       "    <tr>\n",
       "      <th>6498</th>\n",
       "      <td>699</td>\n",
       "      <td>Оксана</td>\n",
       "      <td>22</td>\n",
       "      <td>Москва</td>\n",
       "      <td>ultra</td>\n",
       "      <td>4707.845501</td>\n",
       "      <td>15.839579</td>\n",
       "      <td>2021-10-17</td>\n",
       "      <td>10</td>\n",
       "      <td>1</td>\n",
       "      <td>6</td>\n",
       "      <td>0</td>\n",
       "      <td>199</td>\n",
       "    </tr>\n",
       "    <tr>\n",
       "      <th>6499</th>\n",
       "      <td>699</td>\n",
       "      <td>Оксана</td>\n",
       "      <td>22</td>\n",
       "      <td>Москва</td>\n",
       "      <td>ultra</td>\n",
       "      <td>3202.890770</td>\n",
       "      <td>25.217345</td>\n",
       "      <td>2021-12-03</td>\n",
       "      <td>12</td>\n",
       "      <td>1</td>\n",
       "      <td>6</td>\n",
       "      <td>0</td>\n",
       "      <td>199</td>\n",
       "    </tr>\n",
       "  </tbody>\n",
       "</table>\n",
       "<p>6500 rows × 13 columns</p>\n",
       "</div>"
      ],
      "text/plain": [
       "      user_id    name  age    city subscription_type     distance   duration  \\\n",
       "0           1    Кира   22  Тюмень             ultra  4409.919140  25.599769   \n",
       "1           1    Кира   22  Тюмень             ultra  2617.592153  15.816871   \n",
       "2           1    Кира   22  Тюмень             ultra   754.159807   6.232113   \n",
       "3           1    Кира   22  Тюмень             ultra  2694.783254  18.511000   \n",
       "4           1    Кира   22  Тюмень             ultra  4028.687306  26.265803   \n",
       "...       ...     ...  ...     ...               ...          ...        ...   \n",
       "6495      699  Оксана   22  Москва             ultra  3973.046497  24.671163   \n",
       "6496      699  Оксана   22  Москва             ultra  3288.702563  15.892886   \n",
       "6497      699  Оксана   22  Москва             ultra  3076.159348  14.389525   \n",
       "6498      699  Оксана   22  Москва             ultra  4707.845501  15.839579   \n",
       "6499      699  Оксана   22  Москва             ultra  3202.890770  25.217345   \n",
       "\n",
       "           date  month  sub_index  minute_price  start_ride_price  \\\n",
       "0    2021-01-01      1          1             6                 0   \n",
       "1    2021-01-18      1          1             6                 0   \n",
       "2    2021-04-20      4          1             6                 0   \n",
       "3    2021-08-11      8          1             6                 0   \n",
       "4    2021-08-28      8          1             6                 0   \n",
       "...         ...    ...        ...           ...               ...   \n",
       "6495 2021-08-29      8          1             6                 0   \n",
       "6496 2021-09-12      9          1             6                 0   \n",
       "6497 2021-09-26      9          1             6                 0   \n",
       "6498 2021-10-17     10          1             6                 0   \n",
       "6499 2021-12-03     12          1             6                 0   \n",
       "\n",
       "      subscription_fee  \n",
       "0                  199  \n",
       "1                  199  \n",
       "2                  199  \n",
       "3                  199  \n",
       "4                  199  \n",
       "...                ...  \n",
       "6495               199  \n",
       "6496               199  \n",
       "6497               199  \n",
       "6498               199  \n",
       "6499               199  \n",
       "\n",
       "[6500 rows x 13 columns]"
      ]
     },
     "execution_count": 42,
     "metadata": {},
     "output_type": "execute_result"
    }
   ],
   "source": [
    "# Создаем таблицу пользователей с подпиской\n",
    "data_ultra = data.query('subscription_type == \"ultra\"')\n",
    "data_ultra"
   ]
  },
  {
   "cell_type": "code",
   "execution_count": 43,
   "id": "eb4f8dec",
   "metadata": {},
   "outputs": [
    {
     "data": {
      "text/html": [
       "<div>\n",
       "<style scoped>\n",
       "    .dataframe tbody tr th:only-of-type {\n",
       "        vertical-align: middle;\n",
       "    }\n",
       "\n",
       "    .dataframe tbody tr th {\n",
       "        vertical-align: top;\n",
       "    }\n",
       "\n",
       "    .dataframe thead th {\n",
       "        text-align: right;\n",
       "    }\n",
       "</style>\n",
       "<table border=\"1\" class=\"dataframe\">\n",
       "  <thead>\n",
       "    <tr style=\"text-align: right;\">\n",
       "      <th></th>\n",
       "      <th>user_id</th>\n",
       "      <th>name</th>\n",
       "      <th>age</th>\n",
       "      <th>city</th>\n",
       "      <th>subscription_type</th>\n",
       "      <th>distance</th>\n",
       "      <th>duration</th>\n",
       "      <th>date</th>\n",
       "      <th>month</th>\n",
       "      <th>sub_index</th>\n",
       "      <th>minute_price</th>\n",
       "      <th>start_ride_price</th>\n",
       "      <th>subscription_fee</th>\n",
       "    </tr>\n",
       "  </thead>\n",
       "  <tbody>\n",
       "    <tr>\n",
       "      <th>6500</th>\n",
       "      <td>700</td>\n",
       "      <td>Айдар</td>\n",
       "      <td>22</td>\n",
       "      <td>Омск</td>\n",
       "      <td>free</td>\n",
       "      <td>2515.690719</td>\n",
       "      <td>14.944286</td>\n",
       "      <td>2021-01-02</td>\n",
       "      <td>1</td>\n",
       "      <td>0</td>\n",
       "      <td>8</td>\n",
       "      <td>50</td>\n",
       "      <td>0</td>\n",
       "    </tr>\n",
       "    <tr>\n",
       "      <th>6501</th>\n",
       "      <td>700</td>\n",
       "      <td>Айдар</td>\n",
       "      <td>22</td>\n",
       "      <td>Омск</td>\n",
       "      <td>free</td>\n",
       "      <td>846.932642</td>\n",
       "      <td>16.234663</td>\n",
       "      <td>2021-02-01</td>\n",
       "      <td>2</td>\n",
       "      <td>0</td>\n",
       "      <td>8</td>\n",
       "      <td>50</td>\n",
       "      <td>0</td>\n",
       "    </tr>\n",
       "    <tr>\n",
       "      <th>6502</th>\n",
       "      <td>700</td>\n",
       "      <td>Айдар</td>\n",
       "      <td>22</td>\n",
       "      <td>Омск</td>\n",
       "      <td>free</td>\n",
       "      <td>4004.434142</td>\n",
       "      <td>20.016628</td>\n",
       "      <td>2021-02-04</td>\n",
       "      <td>2</td>\n",
       "      <td>0</td>\n",
       "      <td>8</td>\n",
       "      <td>50</td>\n",
       "      <td>0</td>\n",
       "    </tr>\n",
       "    <tr>\n",
       "      <th>6503</th>\n",
       "      <td>700</td>\n",
       "      <td>Айдар</td>\n",
       "      <td>22</td>\n",
       "      <td>Омск</td>\n",
       "      <td>free</td>\n",
       "      <td>1205.911290</td>\n",
       "      <td>9.782872</td>\n",
       "      <td>2021-02-10</td>\n",
       "      <td>2</td>\n",
       "      <td>0</td>\n",
       "      <td>8</td>\n",
       "      <td>50</td>\n",
       "      <td>0</td>\n",
       "    </tr>\n",
       "    <tr>\n",
       "      <th>6504</th>\n",
       "      <td>700</td>\n",
       "      <td>Айдар</td>\n",
       "      <td>22</td>\n",
       "      <td>Омск</td>\n",
       "      <td>free</td>\n",
       "      <td>3047.379435</td>\n",
       "      <td>17.427673</td>\n",
       "      <td>2021-02-14</td>\n",
       "      <td>2</td>\n",
       "      <td>0</td>\n",
       "      <td>8</td>\n",
       "      <td>50</td>\n",
       "      <td>0</td>\n",
       "    </tr>\n",
       "    <tr>\n",
       "      <th>...</th>\n",
       "      <td>...</td>\n",
       "      <td>...</td>\n",
       "      <td>...</td>\n",
       "      <td>...</td>\n",
       "      <td>...</td>\n",
       "      <td>...</td>\n",
       "      <td>...</td>\n",
       "      <td>...</td>\n",
       "      <td>...</td>\n",
       "      <td>...</td>\n",
       "      <td>...</td>\n",
       "      <td>...</td>\n",
       "      <td>...</td>\n",
       "    </tr>\n",
       "    <tr>\n",
       "      <th>18063</th>\n",
       "      <td>1534</td>\n",
       "      <td>Альберт</td>\n",
       "      <td>25</td>\n",
       "      <td>Краснодар</td>\n",
       "      <td>free</td>\n",
       "      <td>3781.098080</td>\n",
       "      <td>19.822962</td>\n",
       "      <td>2021-11-04</td>\n",
       "      <td>11</td>\n",
       "      <td>0</td>\n",
       "      <td>8</td>\n",
       "      <td>50</td>\n",
       "      <td>0</td>\n",
       "    </tr>\n",
       "    <tr>\n",
       "      <th>18064</th>\n",
       "      <td>1534</td>\n",
       "      <td>Альберт</td>\n",
       "      <td>25</td>\n",
       "      <td>Краснодар</td>\n",
       "      <td>free</td>\n",
       "      <td>2840.423057</td>\n",
       "      <td>21.409799</td>\n",
       "      <td>2021-11-16</td>\n",
       "      <td>11</td>\n",
       "      <td>0</td>\n",
       "      <td>8</td>\n",
       "      <td>50</td>\n",
       "      <td>0</td>\n",
       "    </tr>\n",
       "    <tr>\n",
       "      <th>18065</th>\n",
       "      <td>1534</td>\n",
       "      <td>Альберт</td>\n",
       "      <td>25</td>\n",
       "      <td>Краснодар</td>\n",
       "      <td>free</td>\n",
       "      <td>3826.185507</td>\n",
       "      <td>18.435051</td>\n",
       "      <td>2021-11-18</td>\n",
       "      <td>11</td>\n",
       "      <td>0</td>\n",
       "      <td>8</td>\n",
       "      <td>50</td>\n",
       "      <td>0</td>\n",
       "    </tr>\n",
       "    <tr>\n",
       "      <th>18066</th>\n",
       "      <td>1534</td>\n",
       "      <td>Альберт</td>\n",
       "      <td>25</td>\n",
       "      <td>Краснодар</td>\n",
       "      <td>free</td>\n",
       "      <td>2902.308661</td>\n",
       "      <td>16.674362</td>\n",
       "      <td>2021-11-27</td>\n",
       "      <td>11</td>\n",
       "      <td>0</td>\n",
       "      <td>8</td>\n",
       "      <td>50</td>\n",
       "      <td>0</td>\n",
       "    </tr>\n",
       "    <tr>\n",
       "      <th>18067</th>\n",
       "      <td>1534</td>\n",
       "      <td>Альберт</td>\n",
       "      <td>25</td>\n",
       "      <td>Краснодар</td>\n",
       "      <td>free</td>\n",
       "      <td>2371.711192</td>\n",
       "      <td>15.893917</td>\n",
       "      <td>2021-12-29</td>\n",
       "      <td>12</td>\n",
       "      <td>0</td>\n",
       "      <td>8</td>\n",
       "      <td>50</td>\n",
       "      <td>0</td>\n",
       "    </tr>\n",
       "  </tbody>\n",
       "</table>\n",
       "<p>11568 rows × 13 columns</p>\n",
       "</div>"
      ],
      "text/plain": [
       "       user_id     name  age       city subscription_type     distance  \\\n",
       "6500       700    Айдар   22       Омск              free  2515.690719   \n",
       "6501       700    Айдар   22       Омск              free   846.932642   \n",
       "6502       700    Айдар   22       Омск              free  4004.434142   \n",
       "6503       700    Айдар   22       Омск              free  1205.911290   \n",
       "6504       700    Айдар   22       Омск              free  3047.379435   \n",
       "...        ...      ...  ...        ...               ...          ...   \n",
       "18063     1534  Альберт   25  Краснодар              free  3781.098080   \n",
       "18064     1534  Альберт   25  Краснодар              free  2840.423057   \n",
       "18065     1534  Альберт   25  Краснодар              free  3826.185507   \n",
       "18066     1534  Альберт   25  Краснодар              free  2902.308661   \n",
       "18067     1534  Альберт   25  Краснодар              free  2371.711192   \n",
       "\n",
       "        duration       date  month  sub_index  minute_price  start_ride_price  \\\n",
       "6500   14.944286 2021-01-02      1          0             8                50   \n",
       "6501   16.234663 2021-02-01      2          0             8                50   \n",
       "6502   20.016628 2021-02-04      2          0             8                50   \n",
       "6503    9.782872 2021-02-10      2          0             8                50   \n",
       "6504   17.427673 2021-02-14      2          0             8                50   \n",
       "...          ...        ...    ...        ...           ...               ...   \n",
       "18063  19.822962 2021-11-04     11          0             8                50   \n",
       "18064  21.409799 2021-11-16     11          0             8                50   \n",
       "18065  18.435051 2021-11-18     11          0             8                50   \n",
       "18066  16.674362 2021-11-27     11          0             8                50   \n",
       "18067  15.893917 2021-12-29     12          0             8                50   \n",
       "\n",
       "       subscription_fee  \n",
       "6500                  0  \n",
       "6501                  0  \n",
       "6502                  0  \n",
       "6503                  0  \n",
       "6504                  0  \n",
       "...                 ...  \n",
       "18063                 0  \n",
       "18064                 0  \n",
       "18065                 0  \n",
       "18066                 0  \n",
       "18067                 0  \n",
       "\n",
       "[11568 rows x 13 columns]"
      ]
     },
     "execution_count": 43,
     "metadata": {},
     "output_type": "execute_result"
    }
   ],
   "source": [
    "# Создаем таблицу пользователей без подписки\n",
    "data_free = data.query('subscription_type == \"free\"')\n",
    "data_free"
   ]
  },
  {
   "cell_type": "markdown",
   "id": "e5c99e59",
   "metadata": {},
   "source": [
    "Визуализируем информацию о среднем расстоянии и времени поездок для пользователей обоих категорий"
   ]
  },
  {
   "cell_type": "code",
   "execution_count": 44,
   "id": "af5973dc",
   "metadata": {},
   "outputs": [
    {
     "data": {
      "text/html": [
       "<div>\n",
       "<style scoped>\n",
       "    .dataframe tbody tr th:only-of-type {\n",
       "        vertical-align: middle;\n",
       "    }\n",
       "\n",
       "    .dataframe tbody tr th {\n",
       "        vertical-align: top;\n",
       "    }\n",
       "\n",
       "    .dataframe thead th {\n",
       "        text-align: right;\n",
       "    }\n",
       "</style>\n",
       "<table border=\"1\" class=\"dataframe\">\n",
       "  <thead>\n",
       "    <tr style=\"text-align: right;\">\n",
       "      <th></th>\n",
       "      <th>Средняя дистанция</th>\n",
       "      <th>Среднее время в пути</th>\n",
       "      <th>Медианная дистанция</th>\n",
       "      <th>Медианное время в пути</th>\n",
       "    </tr>\n",
       "    <tr>\n",
       "      <th>user_id</th>\n",
       "      <th></th>\n",
       "      <th></th>\n",
       "      <th></th>\n",
       "      <th></th>\n",
       "    </tr>\n",
       "  </thead>\n",
       "  <tbody>\n",
       "    <tr>\n",
       "      <th>1</th>\n",
       "      <td>2839.181839</td>\n",
       "      <td>17.050409</td>\n",
       "      <td>2806.504429</td>\n",
       "      <td>16.233505</td>\n",
       "    </tr>\n",
       "    <tr>\n",
       "      <th>2</th>\n",
       "      <td>3087.641692</td>\n",
       "      <td>17.967662</td>\n",
       "      <td>3105.086678</td>\n",
       "      <td>18.779128</td>\n",
       "    </tr>\n",
       "    <tr>\n",
       "      <th>3</th>\n",
       "      <td>3075.633155</td>\n",
       "      <td>19.432793</td>\n",
       "      <td>2858.693148</td>\n",
       "      <td>19.835873</td>\n",
       "    </tr>\n",
       "    <tr>\n",
       "      <th>4</th>\n",
       "      <td>3202.656423</td>\n",
       "      <td>20.611684</td>\n",
       "      <td>3373.276987</td>\n",
       "      <td>20.723324</td>\n",
       "    </tr>\n",
       "    <tr>\n",
       "      <th>5</th>\n",
       "      <td>3232.449968</td>\n",
       "      <td>15.824903</td>\n",
       "      <td>3244.021903</td>\n",
       "      <td>14.904990</td>\n",
       "    </tr>\n",
       "    <tr>\n",
       "      <th>...</th>\n",
       "      <td>...</td>\n",
       "      <td>...</td>\n",
       "      <td>...</td>\n",
       "      <td>...</td>\n",
       "    </tr>\n",
       "    <tr>\n",
       "      <th>695</th>\n",
       "      <td>3144.646742</td>\n",
       "      <td>18.696910</td>\n",
       "      <td>3169.995523</td>\n",
       "      <td>16.886805</td>\n",
       "    </tr>\n",
       "    <tr>\n",
       "      <th>696</th>\n",
       "      <td>2962.621824</td>\n",
       "      <td>20.663592</td>\n",
       "      <td>2975.351390</td>\n",
       "      <td>17.751506</td>\n",
       "    </tr>\n",
       "    <tr>\n",
       "      <th>697</th>\n",
       "      <td>3044.089909</td>\n",
       "      <td>20.997917</td>\n",
       "      <td>3237.170107</td>\n",
       "      <td>19.289114</td>\n",
       "    </tr>\n",
       "    <tr>\n",
       "      <th>698</th>\n",
       "      <td>3020.273230</td>\n",
       "      <td>18.893002</td>\n",
       "      <td>3060.816044</td>\n",
       "      <td>18.964001</td>\n",
       "    </tr>\n",
       "    <tr>\n",
       "      <th>699</th>\n",
       "      <td>3600.030295</td>\n",
       "      <td>18.991398</td>\n",
       "      <td>3361.112595</td>\n",
       "      <td>18.093298</td>\n",
       "    </tr>\n",
       "  </tbody>\n",
       "</table>\n",
       "<p>699 rows × 4 columns</p>\n",
       "</div>"
      ],
      "text/plain": [
       "         Средняя дистанция  Среднее время в пути  Медианная дистанция  \\\n",
       "user_id                                                                 \n",
       "1              2839.181839             17.050409          2806.504429   \n",
       "2              3087.641692             17.967662          3105.086678   \n",
       "3              3075.633155             19.432793          2858.693148   \n",
       "4              3202.656423             20.611684          3373.276987   \n",
       "5              3232.449968             15.824903          3244.021903   \n",
       "...                    ...                   ...                  ...   \n",
       "695            3144.646742             18.696910          3169.995523   \n",
       "696            2962.621824             20.663592          2975.351390   \n",
       "697            3044.089909             20.997917          3237.170107   \n",
       "698            3020.273230             18.893002          3060.816044   \n",
       "699            3600.030295             18.991398          3361.112595   \n",
       "\n",
       "         Медианное время в пути  \n",
       "user_id                          \n",
       "1                     16.233505  \n",
       "2                     18.779128  \n",
       "3                     19.835873  \n",
       "4                     20.723324  \n",
       "5                     14.904990  \n",
       "...                         ...  \n",
       "695                   16.886805  \n",
       "696                   17.751506  \n",
       "697                   19.289114  \n",
       "698                   18.964001  \n",
       "699                   18.093298  \n",
       "\n",
       "[699 rows x 4 columns]"
      ]
     },
     "execution_count": 44,
     "metadata": {},
     "output_type": "execute_result"
    }
   ],
   "source": [
    "# Делаем сводную таблицу для пользователей с подпиской\n",
    "ultra_visual = data_ultra.pivot_table(index='user_id',\n",
    "                                      values=['duration', 'distance'],\n",
    "                                      aggfunc=['mean', 'median'])\n",
    "ultra_visual.columns = ('Средняя дистанция', 'Среднее время в пути', 'Медианная дистанция', 'Медианное время в пути')\n",
    "ultra_visual"
   ]
  },
  {
   "cell_type": "code",
   "execution_count": 45,
   "id": "ff147406",
   "metadata": {},
   "outputs": [
    {
     "data": {
      "image/png": "[encoded data removed]",
      "text/plain": [
       "<Figure size 432x288 with 1 Axes>"
      ]
     },
     "metadata": {},
     "output_type": "display_data"
    }
   ],
   "source": [
    "# Строим гистограмму распределения для пользователей с подпиской\n",
    "plt.hist([ultra_visual['Медианная дистанция'], ultra_visual['Средняя дистанция']],\n",
    "         bins=30,\n",
    "         range=(1200, 4400),\n",
    "         stacked=False)\n",
    "plt.title('Распределение пройденной дистанции пользователей ultra')\n",
    "plt.xlabel('Дистанция')\n",
    "plt.ylabel('Колличество пользователей')\n",
    "plt.legend(['Медианная', 'Средняя'])\n",
    "plt.show()"
   ]
  },
  {
   "cell_type": "code",
   "execution_count": 46,
   "id": "1455f833",
   "metadata": {},
   "outputs": [
    {
     "data": {
      "text/html": [
       "<div>\n",
       "<style scoped>\n",
       "    .dataframe tbody tr th:only-of-type {\n",
       "        vertical-align: middle;\n",
       "    }\n",
       "\n",
       "    .dataframe tbody tr th {\n",
       "        vertical-align: top;\n",
       "    }\n",
       "\n",
       "    .dataframe thead th {\n",
       "        text-align: right;\n",
       "    }\n",
       "</style>\n",
       "<table border=\"1\" class=\"dataframe\">\n",
       "  <thead>\n",
       "    <tr style=\"text-align: right;\">\n",
       "      <th></th>\n",
       "      <th>Средняя дистанция</th>\n",
       "      <th>Среднее время в пути</th>\n",
       "      <th>Медианная дистанция</th>\n",
       "      <th>Медианное время в пути</th>\n",
       "    </tr>\n",
       "  </thead>\n",
       "  <tbody>\n",
       "    <tr>\n",
       "      <th>count</th>\n",
       "      <td>699.000000</td>\n",
       "      <td>699.000000</td>\n",
       "      <td>699.000000</td>\n",
       "      <td>699.000000</td>\n",
       "    </tr>\n",
       "    <tr>\n",
       "      <th>mean</th>\n",
       "      <td>3113.459926</td>\n",
       "      <td>18.574380</td>\n",
       "      <td>3154.648287</td>\n",
       "      <td>18.297611</td>\n",
       "    </tr>\n",
       "    <tr>\n",
       "      <th>std</th>\n",
       "      <td>299.706136</td>\n",
       "      <td>2.015094</td>\n",
       "      <td>264.679709</td>\n",
       "      <td>2.346264</td>\n",
       "    </tr>\n",
       "    <tr>\n",
       "      <th>min</th>\n",
       "      <td>2098.297845</td>\n",
       "      <td>11.385922</td>\n",
       "      <td>1234.763317</td>\n",
       "      <td>10.711378</td>\n",
       "    </tr>\n",
       "    <tr>\n",
       "      <th>25%</th>\n",
       "      <td>2925.005435</td>\n",
       "      <td>17.278630</td>\n",
       "      <td>3005.332045</td>\n",
       "      <td>16.740429</td>\n",
       "    </tr>\n",
       "    <tr>\n",
       "      <th>50%</th>\n",
       "      <td>3134.349186</td>\n",
       "      <td>18.585189</td>\n",
       "      <td>3142.127676</td>\n",
       "      <td>18.189880</td>\n",
       "    </tr>\n",
       "    <tr>\n",
       "      <th>75%</th>\n",
       "      <td>3312.191643</td>\n",
       "      <td>19.789236</td>\n",
       "      <td>3287.135120</td>\n",
       "      <td>19.702890</td>\n",
       "    </tr>\n",
       "    <tr>\n",
       "      <th>max</th>\n",
       "      <td>3939.773328</td>\n",
       "      <td>26.136000</td>\n",
       "      <td>4235.928023</td>\n",
       "      <td>29.983174</td>\n",
       "    </tr>\n",
       "  </tbody>\n",
       "</table>\n",
       "</div>"
      ],
      "text/plain": [
       "       Средняя дистанция  Среднее время в пути  Медианная дистанция  \\\n",
       "count         699.000000            699.000000           699.000000   \n",
       "mean         3113.459926             18.574380          3154.648287   \n",
       "std           299.706136              2.015094           264.679709   \n",
       "min          2098.297845             11.385922          1234.763317   \n",
       "25%          2925.005435             17.278630          3005.332045   \n",
       "50%          3134.349186             18.585189          3142.127676   \n",
       "75%          3312.191643             19.789236          3287.135120   \n",
       "max          3939.773328             26.136000          4235.928023   \n",
       "\n",
       "       Медианное время в пути  \n",
       "count              699.000000  \n",
       "mean                18.297611  \n",
       "std                  2.346264  \n",
       "min                 10.711378  \n",
       "25%                 16.740429  \n",
       "50%                 18.189880  \n",
       "75%                 19.702890  \n",
       "max                 29.983174  "
      ]
     },
     "execution_count": 46,
     "metadata": {},
     "output_type": "execute_result"
    }
   ],
   "source": [
    "# Выводим информацию\n",
    "ultra_visual.describe()"
   ]
  },
  {
   "cell_type": "code",
   "execution_count": 47,
   "id": "397594bf",
   "metadata": {},
   "outputs": [
    {
     "data": {
      "text/html": [
       "<div>\n",
       "<style scoped>\n",
       "    .dataframe tbody tr th:only-of-type {\n",
       "        vertical-align: middle;\n",
       "    }\n",
       "\n",
       "    .dataframe tbody tr th {\n",
       "        vertical-align: top;\n",
       "    }\n",
       "\n",
       "    .dataframe thead th {\n",
       "        text-align: right;\n",
       "    }\n",
       "</style>\n",
       "<table border=\"1\" class=\"dataframe\">\n",
       "  <thead>\n",
       "    <tr style=\"text-align: right;\">\n",
       "      <th></th>\n",
       "      <th>Средняя дистанция</th>\n",
       "      <th>Среднее время в пути</th>\n",
       "      <th>Медианная дистанция</th>\n",
       "      <th>Медианное время в пути</th>\n",
       "    </tr>\n",
       "    <tr>\n",
       "      <th>user_id</th>\n",
       "      <th></th>\n",
       "      <th></th>\n",
       "      <th></th>\n",
       "      <th></th>\n",
       "    </tr>\n",
       "  </thead>\n",
       "  <tbody>\n",
       "    <tr>\n",
       "      <th>700</th>\n",
       "      <td>2900.117210</td>\n",
       "      <td>15.179163</td>\n",
       "      <td>3015.965321</td>\n",
       "      <td>15.616269</td>\n",
       "    </tr>\n",
       "    <tr>\n",
       "      <th>701</th>\n",
       "      <td>3107.650943</td>\n",
       "      <td>14.488954</td>\n",
       "      <td>3436.950905</td>\n",
       "      <td>15.137141</td>\n",
       "    </tr>\n",
       "    <tr>\n",
       "      <th>702</th>\n",
       "      <td>3206.315062</td>\n",
       "      <td>17.848573</td>\n",
       "      <td>3387.284767</td>\n",
       "      <td>19.228790</td>\n",
       "    </tr>\n",
       "    <tr>\n",
       "      <th>703</th>\n",
       "      <td>2483.142929</td>\n",
       "      <td>15.464765</td>\n",
       "      <td>2547.626997</td>\n",
       "      <td>10.859179</td>\n",
       "    </tr>\n",
       "    <tr>\n",
       "      <th>704</th>\n",
       "      <td>3149.195578</td>\n",
       "      <td>16.658353</td>\n",
       "      <td>3261.700990</td>\n",
       "      <td>17.509964</td>\n",
       "    </tr>\n",
       "    <tr>\n",
       "      <th>...</th>\n",
       "      <td>...</td>\n",
       "      <td>...</td>\n",
       "      <td>...</td>\n",
       "      <td>...</td>\n",
       "    </tr>\n",
       "    <tr>\n",
       "      <th>1530</th>\n",
       "      <td>2750.498225</td>\n",
       "      <td>17.198049</td>\n",
       "      <td>2724.331740</td>\n",
       "      <td>16.207316</td>\n",
       "    </tr>\n",
       "    <tr>\n",
       "      <th>1531</th>\n",
       "      <td>2915.425836</td>\n",
       "      <td>17.747487</td>\n",
       "      <td>2999.913238</td>\n",
       "      <td>18.308701</td>\n",
       "    </tr>\n",
       "    <tr>\n",
       "      <th>1532</th>\n",
       "      <td>2607.861784</td>\n",
       "      <td>16.320011</td>\n",
       "      <td>2615.477834</td>\n",
       "      <td>14.846434</td>\n",
       "    </tr>\n",
       "    <tr>\n",
       "      <th>1533</th>\n",
       "      <td>2837.707093</td>\n",
       "      <td>18.506177</td>\n",
       "      <td>2965.546552</td>\n",
       "      <td>19.772353</td>\n",
       "    </tr>\n",
       "    <tr>\n",
       "      <th>1534</th>\n",
       "      <td>3222.957142</td>\n",
       "      <td>17.679625</td>\n",
       "      <td>3434.290912</td>\n",
       "      <td>18.343604</td>\n",
       "    </tr>\n",
       "  </tbody>\n",
       "</table>\n",
       "<p>835 rows × 4 columns</p>\n",
       "</div>"
      ],
      "text/plain": [
       "         Средняя дистанция  Среднее время в пути  Медианная дистанция  \\\n",
       "user_id                                                                 \n",
       "700            2900.117210             15.179163          3015.965321   \n",
       "701            3107.650943             14.488954          3436.950905   \n",
       "702            3206.315062             17.848573          3387.284767   \n",
       "703            2483.142929             15.464765          2547.626997   \n",
       "704            3149.195578             16.658353          3261.700990   \n",
       "...                    ...                   ...                  ...   \n",
       "1530           2750.498225             17.198049          2724.331740   \n",
       "1531           2915.425836             17.747487          2999.913238   \n",
       "1532           2607.861784             16.320011          2615.477834   \n",
       "1533           2837.707093             18.506177          2965.546552   \n",
       "1534           3222.957142             17.679625          3434.290912   \n",
       "\n",
       "         Медианное время в пути  \n",
       "user_id                          \n",
       "700                   15.616269  \n",
       "701                   15.137141  \n",
       "702                   19.228790  \n",
       "703                   10.859179  \n",
       "704                   17.509964  \n",
       "...                         ...  \n",
       "1530                  16.207316  \n",
       "1531                  18.308701  \n",
       "1532                  14.846434  \n",
       "1533                  19.772353  \n",
       "1534                  18.343604  \n",
       "\n",
       "[835 rows x 4 columns]"
      ]
     },
     "execution_count": 47,
     "metadata": {},
     "output_type": "execute_result"
    }
   ],
   "source": [
    "# Создаем сводную таблицу для пользователей free\n",
    "free_visual = data_free.pivot_table(index='user_id',\n",
    "                        values=['duration', 'distance'],\n",
    "                        aggfunc=['mean', 'median'])\n",
    "free_visual.columns = ('Средняя дистанция', 'Среднее время в пути', 'Медианная дистанция', 'Медианное время в пути')\n",
    "free_visual"
   ]
  },
  {
   "cell_type": "code",
   "execution_count": 48,
   "id": "edcf3a25",
   "metadata": {},
   "outputs": [
    {
     "data": {
      "image/png": "[encoded data removed]",
      "text/plain": [
       "<Figure size 432x288 with 1 Axes>"
      ]
     },
     "metadata": {},
     "output_type": "display_data"
    }
   ],
   "source": [
    "# Строим гистограмму распределения\n",
    "plt.hist([free_visual['Медианная дистанция'], free_visual['Средняя дистанция']],\n",
    "         bins=30,\n",
    "         range=(1200, 4400),\n",
    "         stacked=False)\n",
    "plt.title('Распределение пройденной дистанции пользователей free')\n",
    "plt.xlabel('Дистанция')\n",
    "plt.ylabel('Колличество пользователей')\n",
    "plt.legend(['Медианная', 'Средняя'])\n",
    "plt.show()"
   ]
  },
  {
   "cell_type": "code",
   "execution_count": 49,
   "id": "24cfc6e5",
   "metadata": {},
   "outputs": [
    {
     "data": {
      "text/html": [
       "<div>\n",
       "<style scoped>\n",
       "    .dataframe tbody tr th:only-of-type {\n",
       "        vertical-align: middle;\n",
       "    }\n",
       "\n",
       "    .dataframe tbody tr th {\n",
       "        vertical-align: top;\n",
       "    }\n",
       "\n",
       "    .dataframe thead th {\n",
       "        text-align: right;\n",
       "    }\n",
       "</style>\n",
       "<table border=\"1\" class=\"dataframe\">\n",
       "  <thead>\n",
       "    <tr style=\"text-align: right;\">\n",
       "      <th></th>\n",
       "      <th>Средняя дистанция</th>\n",
       "      <th>Среднее время в пути</th>\n",
       "      <th>Медианная дистанция</th>\n",
       "      <th>Медианное время в пути</th>\n",
       "    </tr>\n",
       "  </thead>\n",
       "  <tbody>\n",
       "    <tr>\n",
       "      <th>count</th>\n",
       "      <td>835.000000</td>\n",
       "      <td>835.000000</td>\n",
       "      <td>835.000000</td>\n",
       "      <td>835.000000</td>\n",
       "    </tr>\n",
       "    <tr>\n",
       "      <th>mean</th>\n",
       "      <td>3047.023441</td>\n",
       "      <td>17.384033</td>\n",
       "      <td>3116.913630</td>\n",
       "      <td>17.249741</td>\n",
       "    </tr>\n",
       "    <tr>\n",
       "      <th>std</th>\n",
       "      <td>346.570021</td>\n",
       "      <td>1.759845</td>\n",
       "      <td>401.539836</td>\n",
       "      <td>2.192495</td>\n",
       "    </tr>\n",
       "    <tr>\n",
       "      <th>min</th>\n",
       "      <td>1630.788427</td>\n",
       "      <td>11.163431</td>\n",
       "      <td>1517.240842</td>\n",
       "      <td>10.859179</td>\n",
       "    </tr>\n",
       "    <tr>\n",
       "      <th>25%</th>\n",
       "      <td>2820.516763</td>\n",
       "      <td>16.209124</td>\n",
       "      <td>2839.695681</td>\n",
       "      <td>15.717285</td>\n",
       "    </tr>\n",
       "    <tr>\n",
       "      <th>50%</th>\n",
       "      <td>3057.940909</td>\n",
       "      <td>17.402644</td>\n",
       "      <td>3112.562773</td>\n",
       "      <td>17.316444</td>\n",
       "    </tr>\n",
       "    <tr>\n",
       "      <th>75%</th>\n",
       "      <td>3276.990199</td>\n",
       "      <td>18.568622</td>\n",
       "      <td>3398.451369</td>\n",
       "      <td>18.742428</td>\n",
       "    </tr>\n",
       "    <tr>\n",
       "      <th>max</th>\n",
       "      <td>4287.519387</td>\n",
       "      <td>23.069943</td>\n",
       "      <td>4395.430303</td>\n",
       "      <td>25.135593</td>\n",
       "    </tr>\n",
       "  </tbody>\n",
       "</table>\n",
       "</div>"
      ],
      "text/plain": [
       "       Средняя дистанция  Среднее время в пути  Медианная дистанция  \\\n",
       "count         835.000000            835.000000           835.000000   \n",
       "mean         3047.023441             17.384033          3116.913630   \n",
       "std           346.570021              1.759845           401.539836   \n",
       "min          1630.788427             11.163431          1517.240842   \n",
       "25%          2820.516763             16.209124          2839.695681   \n",
       "50%          3057.940909             17.402644          3112.562773   \n",
       "75%          3276.990199             18.568622          3398.451369   \n",
       "max          4287.519387             23.069943          4395.430303   \n",
       "\n",
       "       Медианное время в пути  \n",
       "count              835.000000  \n",
       "mean                17.249741  \n",
       "std                  2.192495  \n",
       "min                 10.859179  \n",
       "25%                 15.717285  \n",
       "50%                 17.316444  \n",
       "75%                 18.742428  \n",
       "max                 25.135593  "
      ]
     },
     "execution_count": 49,
     "metadata": {},
     "output_type": "execute_result"
    }
   ],
   "source": [
    "# Выводим информацию\n",
    "free_visual.describe()"
   ]
  },
  {
   "cell_type": "markdown",
   "id": "749fc7e8",
   "metadata": {},
   "source": [
    "Для наглядности возьмем медианное значение обоих распределений:"
   ]
  },
  {
   "cell_type": "code",
   "execution_count": 50,
   "id": "7a0842ca",
   "metadata": {},
   "outputs": [
    {
     "data": {
      "image/png": "[encoded data removed]",
      "text/plain": [
       "<Figure size 432x288 with 1 Axes>"
      ]
     },
     "metadata": {},
     "output_type": "display_data"
    }
   ],
   "source": [
    "# Строим гистограмму распределения\n",
    "plt.hist([ultra_visual['Медианная дистанция'], free_visual['Медианная дистанция']],\n",
    "         bins=30,\n",
    "         range=(1200, 4400),\n",
    "         stacked=False)\n",
    "plt.title('Сравнение распределений пройденной дистанции')\n",
    "plt.xlabel('Дистанция')\n",
    "plt.ylabel('Колличество пользователей')\n",
    "plt.legend(['ultra', 'free'])\n",
    "plt.show()"
   ]
  },
  {
   "cell_type": "code",
   "execution_count": 51,
   "id": "b527a61a",
   "metadata": {},
   "outputs": [
    {
     "data": {
      "image/png": "[encoded data removed]",
      "text/plain": [
       "<Figure size 432x288 with 1 Axes>"
      ]
     },
     "metadata": {},
     "output_type": "display_data"
    }
   ],
   "source": [
    "# Строим гистограмму распределения\n",
    "plt.hist([ultra_visual['Медианное время в пути'], free_visual['Медианное время в пути']],\n",
    "         bins=30,\n",
    "         range=(10, 30),\n",
    "         stacked=False)\n",
    "plt.title('Сравнение распределений времени в пути')\n",
    "plt.xlabel('Время в пути')\n",
    "plt.ylabel('Колличество пользователей')\n",
    "plt.legend(['ultra', 'free'])\n",
    "plt.show()"
   ]
  },
  {
   "cell_type": "markdown",
   "id": "6a84f722",
   "metadata": {},
   "source": [
    "По данным видно, что оба распределения являются нормальным распределением данных, заметно небольшое отклониние по времени пути, у пользователей с подпиской оно несколько выше, также, по гистограмме сравнения распределений пройденных дистанций можно заметить, что у пользователей с подпиской меньшая дисперсия в данных. "
   ]
  },
  {
   "cell_type": "markdown",
   "id": "19fc16ec",
   "metadata": {},
   "source": [
    "## Подсчет выручки"
   ]
  },
  {
   "cell_type": "markdown",
   "id": "1362dbbd",
   "metadata": {},
   "source": [
    "Создаём датафрейм с агрегированными данными о поездках на основе объединённых данных:\n",
    "- находим суммарное расстояние\n",
    "- количество поездок \n",
    "- суммарное время для каждого пользователя за каждый месяц"
   ]
  },
  {
   "cell_type": "code",
   "execution_count": 52,
   "id": "bd704861",
   "metadata": {},
   "outputs": [],
   "source": [
    "# Делаем сводную таблицу с данными по суммарной дистанции и продолжительности поездки для каждого пользователя по месяцам\n",
    "data_aggregate = data.pivot_table(index=['user_id', 'month'], \n",
    "                                  values = ['distance',\n",
    "                                            'duration',\n",
    "                                            'name', \n",
    "                                            'subscription_type'], \n",
    "                                  aggfunc={'distance':'sum',\n",
    "                                           'duration':'sum', \n",
    "                                           'name':'count', \n",
    "                                           'subscription_type': 'min'})\n",
    "\n",
    "data_aggregate.columns = ['total_distance', 'total_duration', 'trip_count', 'subscription_type']"
   ]
  },
  {
   "cell_type": "code",
   "execution_count": 53,
   "id": "d37cedb2",
   "metadata": {},
   "outputs": [
    {
     "data": {
      "text/html": [
       "<div>\n",
       "<style scoped>\n",
       "    .dataframe tbody tr th:only-of-type {\n",
       "        vertical-align: middle;\n",
       "    }\n",
       "\n",
       "    .dataframe tbody tr th {\n",
       "        vertical-align: top;\n",
       "    }\n",
       "\n",
       "    .dataframe thead th {\n",
       "        text-align: right;\n",
       "    }\n",
       "</style>\n",
       "<table border=\"1\" class=\"dataframe\">\n",
       "  <thead>\n",
       "    <tr style=\"text-align: right;\">\n",
       "      <th></th>\n",
       "      <th></th>\n",
       "      <th>total_distance</th>\n",
       "      <th>total_duration</th>\n",
       "      <th>trip_count</th>\n",
       "      <th>subscription_type</th>\n",
       "    </tr>\n",
       "    <tr>\n",
       "      <th>user_id</th>\n",
       "      <th>month</th>\n",
       "      <th></th>\n",
       "      <th></th>\n",
       "      <th></th>\n",
       "      <th></th>\n",
       "    </tr>\n",
       "  </thead>\n",
       "  <tbody>\n",
       "    <tr>\n",
       "      <th rowspan=\"5\" valign=\"top\">1</th>\n",
       "      <th>1</th>\n",
       "      <td>7027.51</td>\n",
       "      <td>42.0</td>\n",
       "      <td>2</td>\n",
       "      <td>ultra</td>\n",
       "    </tr>\n",
       "    <tr>\n",
       "      <th>4</th>\n",
       "      <td>754.16</td>\n",
       "      <td>7.0</td>\n",
       "      <td>1</td>\n",
       "      <td>ultra</td>\n",
       "    </tr>\n",
       "    <tr>\n",
       "      <th>8</th>\n",
       "      <td>6723.47</td>\n",
       "      <td>45.0</td>\n",
       "      <td>2</td>\n",
       "      <td>ultra</td>\n",
       "    </tr>\n",
       "    <tr>\n",
       "      <th>10</th>\n",
       "      <td>5809.91</td>\n",
       "      <td>32.0</td>\n",
       "      <td>2</td>\n",
       "      <td>ultra</td>\n",
       "    </tr>\n",
       "    <tr>\n",
       "      <th>11</th>\n",
       "      <td>7003.50</td>\n",
       "      <td>54.0</td>\n",
       "      <td>3</td>\n",
       "      <td>ultra</td>\n",
       "    </tr>\n",
       "    <tr>\n",
       "      <th>...</th>\n",
       "      <th>...</th>\n",
       "      <td>...</td>\n",
       "      <td>...</td>\n",
       "      <td>...</td>\n",
       "      <td>...</td>\n",
       "    </tr>\n",
       "    <tr>\n",
       "      <th rowspan=\"5\" valign=\"top\">1534</th>\n",
       "      <th>6</th>\n",
       "      <td>3409.47</td>\n",
       "      <td>25.0</td>\n",
       "      <td>2</td>\n",
       "      <td>free</td>\n",
       "    </tr>\n",
       "    <tr>\n",
       "      <th>8</th>\n",
       "      <td>7622.45</td>\n",
       "      <td>48.0</td>\n",
       "      <td>2</td>\n",
       "      <td>free</td>\n",
       "    </tr>\n",
       "    <tr>\n",
       "      <th>9</th>\n",
       "      <td>4928.17</td>\n",
       "      <td>23.0</td>\n",
       "      <td>1</td>\n",
       "      <td>free</td>\n",
       "    </tr>\n",
       "    <tr>\n",
       "      <th>11</th>\n",
       "      <td>13350.02</td>\n",
       "      <td>77.0</td>\n",
       "      <td>4</td>\n",
       "      <td>free</td>\n",
       "    </tr>\n",
       "    <tr>\n",
       "      <th>12</th>\n",
       "      <td>2371.71</td>\n",
       "      <td>16.0</td>\n",
       "      <td>1</td>\n",
       "      <td>free</td>\n",
       "    </tr>\n",
       "  </tbody>\n",
       "</table>\n",
       "<p>11331 rows × 4 columns</p>\n",
       "</div>"
      ],
      "text/plain": [
       "               total_distance  total_duration  trip_count subscription_type\n",
       "user_id month                                                              \n",
       "1       1             7027.51            42.0           2             ultra\n",
       "        4              754.16             7.0           1             ultra\n",
       "        8             6723.47            45.0           2             ultra\n",
       "        10            5809.91            32.0           2             ultra\n",
       "        11            7003.50            54.0           3             ultra\n",
       "...                       ...             ...         ...               ...\n",
       "1534    6             3409.47            25.0           2              free\n",
       "        8             7622.45            48.0           2              free\n",
       "        9             4928.17            23.0           1              free\n",
       "        11           13350.02            77.0           4              free\n",
       "        12            2371.71            16.0           1              free\n",
       "\n",
       "[11331 rows x 4 columns]"
      ]
     },
     "execution_count": 53,
     "metadata": {},
     "output_type": "execute_result"
    }
   ],
   "source": [
    "# Выводим получившуюся сводную таблицу, округляем значения\n",
    "data_aggregate['total_duration'] = np.ceil(data_aggregate['total_duration'])\n",
    "data_aggregate['total_distance'] = round(data_aggregate['total_distance'], 2)\n",
    "data_aggregate"
   ]
  },
  {
   "cell_type": "code",
   "execution_count": 54,
   "id": "c2bdc7f8",
   "metadata": {},
   "outputs": [
    {
     "data": {
      "text/html": [
       "<div>\n",
       "<style scoped>\n",
       "    .dataframe tbody tr th:only-of-type {\n",
       "        vertical-align: middle;\n",
       "    }\n",
       "\n",
       "    .dataframe tbody tr th {\n",
       "        vertical-align: top;\n",
       "    }\n",
       "\n",
       "    .dataframe thead th {\n",
       "        text-align: right;\n",
       "    }\n",
       "</style>\n",
       "<table border=\"1\" class=\"dataframe\">\n",
       "  <thead>\n",
       "    <tr style=\"text-align: right;\">\n",
       "      <th></th>\n",
       "      <th>user_id</th>\n",
       "      <th>month</th>\n",
       "      <th>total_distance</th>\n",
       "      <th>total_duration</th>\n",
       "      <th>trip_count</th>\n",
       "      <th>subscription_type</th>\n",
       "      <th>revenue</th>\n",
       "    </tr>\n",
       "  </thead>\n",
       "  <tbody>\n",
       "    <tr>\n",
       "      <th>0</th>\n",
       "      <td>1</td>\n",
       "      <td>1</td>\n",
       "      <td>7027.51</td>\n",
       "      <td>42.0</td>\n",
       "      <td>2</td>\n",
       "      <td>ultra</td>\n",
       "      <td>451.0</td>\n",
       "    </tr>\n",
       "    <tr>\n",
       "      <th>1</th>\n",
       "      <td>1</td>\n",
       "      <td>4</td>\n",
       "      <td>754.16</td>\n",
       "      <td>7.0</td>\n",
       "      <td>1</td>\n",
       "      <td>ultra</td>\n",
       "      <td>241.0</td>\n",
       "    </tr>\n",
       "    <tr>\n",
       "      <th>2</th>\n",
       "      <td>1</td>\n",
       "      <td>8</td>\n",
       "      <td>6723.47</td>\n",
       "      <td>45.0</td>\n",
       "      <td>2</td>\n",
       "      <td>ultra</td>\n",
       "      <td>469.0</td>\n",
       "    </tr>\n",
       "    <tr>\n",
       "      <th>3</th>\n",
       "      <td>1</td>\n",
       "      <td>10</td>\n",
       "      <td>5809.91</td>\n",
       "      <td>32.0</td>\n",
       "      <td>2</td>\n",
       "      <td>ultra</td>\n",
       "      <td>391.0</td>\n",
       "    </tr>\n",
       "    <tr>\n",
       "      <th>4</th>\n",
       "      <td>1</td>\n",
       "      <td>11</td>\n",
       "      <td>7003.50</td>\n",
       "      <td>54.0</td>\n",
       "      <td>3</td>\n",
       "      <td>ultra</td>\n",
       "      <td>523.0</td>\n",
       "    </tr>\n",
       "    <tr>\n",
       "      <th>...</th>\n",
       "      <td>...</td>\n",
       "      <td>...</td>\n",
       "      <td>...</td>\n",
       "      <td>...</td>\n",
       "      <td>...</td>\n",
       "      <td>...</td>\n",
       "      <td>...</td>\n",
       "    </tr>\n",
       "    <tr>\n",
       "      <th>11326</th>\n",
       "      <td>1534</td>\n",
       "      <td>6</td>\n",
       "      <td>3409.47</td>\n",
       "      <td>25.0</td>\n",
       "      <td>2</td>\n",
       "      <td>free</td>\n",
       "      <td>300.0</td>\n",
       "    </tr>\n",
       "    <tr>\n",
       "      <th>11327</th>\n",
       "      <td>1534</td>\n",
       "      <td>8</td>\n",
       "      <td>7622.45</td>\n",
       "      <td>48.0</td>\n",
       "      <td>2</td>\n",
       "      <td>free</td>\n",
       "      <td>484.0</td>\n",
       "    </tr>\n",
       "    <tr>\n",
       "      <th>11328</th>\n",
       "      <td>1534</td>\n",
       "      <td>9</td>\n",
       "      <td>4928.17</td>\n",
       "      <td>23.0</td>\n",
       "      <td>1</td>\n",
       "      <td>free</td>\n",
       "      <td>234.0</td>\n",
       "    </tr>\n",
       "    <tr>\n",
       "      <th>11329</th>\n",
       "      <td>1534</td>\n",
       "      <td>11</td>\n",
       "      <td>13350.02</td>\n",
       "      <td>77.0</td>\n",
       "      <td>4</td>\n",
       "      <td>free</td>\n",
       "      <td>816.0</td>\n",
       "    </tr>\n",
       "    <tr>\n",
       "      <th>11330</th>\n",
       "      <td>1534</td>\n",
       "      <td>12</td>\n",
       "      <td>2371.71</td>\n",
       "      <td>16.0</td>\n",
       "      <td>1</td>\n",
       "      <td>free</td>\n",
       "      <td>178.0</td>\n",
       "    </tr>\n",
       "  </tbody>\n",
       "</table>\n",
       "<p>11331 rows × 7 columns</p>\n",
       "</div>"
      ],
      "text/plain": [
       "       user_id  month  total_distance  total_duration  trip_count  \\\n",
       "0            1      1         7027.51            42.0           2   \n",
       "1            1      4          754.16             7.0           1   \n",
       "2            1      8         6723.47            45.0           2   \n",
       "3            1     10         5809.91            32.0           2   \n",
       "4            1     11         7003.50            54.0           3   \n",
       "...        ...    ...             ...             ...         ...   \n",
       "11326     1534      6         3409.47            25.0           2   \n",
       "11327     1534      8         7622.45            48.0           2   \n",
       "11328     1534      9         4928.17            23.0           1   \n",
       "11329     1534     11        13350.02            77.0           4   \n",
       "11330     1534     12         2371.71            16.0           1   \n",
       "\n",
       "      subscription_type  revenue  \n",
       "0                 ultra    451.0  \n",
       "1                 ultra    241.0  \n",
       "2                 ultra    469.0  \n",
       "3                 ultra    391.0  \n",
       "4                 ultra    523.0  \n",
       "...                 ...      ...  \n",
       "11326              free    300.0  \n",
       "11327              free    484.0  \n",
       "11328              free    234.0  \n",
       "11329              free    816.0  \n",
       "11330              free    178.0  \n",
       "\n",
       "[11331 rows x 7 columns]"
      ]
     },
     "execution_count": 54,
     "metadata": {},
     "output_type": "execute_result"
    }
   ],
   "source": [
    "# Делаем функцию подсчета ежемесячной прибыли в зависимости от наличия подписки\n",
    "def revenue(row):\n",
    "    if row['subscription_type'] == 'ultra':\n",
    "        return np.ceil((row['total_duration'] * 6) + 199)\n",
    "    elif row['subscription_type'] == 'free':\n",
    "        return np.ceil((row['total_duration'] * 8) + (row['trip_count']*50))\n",
    "\n",
    "# Применяем функцию\n",
    "data_aggregate['revenue'] = data_aggregate.apply(revenue, axis=1)\n",
    "\n",
    "# Убираем индексы и выводим получившуюся таблицу\n",
    "data_aggregate = data_aggregate.reset_index()\n",
    "data_aggregate"
   ]
  },
  {
   "cell_type": "markdown",
   "id": "f3ddd9d1",
   "metadata": {},
   "source": [
    "## Проверка гипотез"
   ]
  },
  {
   "cell_type": "markdown",
   "id": "0d80b6ee",
   "metadata": {},
   "source": [
    "Продакт-менеджеры сервиса хотят увеличить количество пользователей с подпиской. Для этого они будут проводить различные акции, но сначала нужно выяснить несколько важных моментов:\n",
    "\n",
    "- Важно понять, тратят ли пользователи с подпиской больше времени на поездки? Если да, то пользователи с подпиской могут быть «выгоднее» для компании. Проверьте гипотезу. Используйте исходные данные о продолжительности каждой сессии — отдельно для подписчиков и тех, у кого нет подписки.\n",
    "- Расстояние одной поездки в 3130 метров — оптимальное с точки зрения износа самоката. Можно ли сказать, что расстояние, которое проезжают пользователи с подпиской за одну поездку, не превышает 3130 метров? Проверьте гипотезу и сделайте выводы.\n",
    "- Проверьте гипотезу о том, будет ли помесячная выручка от пользователей с подпиской по месяцам выше, чем выручка от пользователей без подписки. Сделайте вывод.\n",
    "- Представьте такую ситуацию: техническая команда сервиса обновила сервера, с которыми взаимодействует мобильное приложение. Она надеется, что из-за этого количество обращений в техподдержку значимо снизилось. Некоторый файл содержит для каждого пользователя данные о количестве обращений до обновления и после него. Какой тест вам понадобился бы для проверки этой гипотезы?\n",
    "\n",
    "Для проверки гипотез мы будет использовать параметр допуска(**alpha**) равный 0.05"
   ]
  },
  {
   "cell_type": "markdown",
   "id": "4a9bcd42",
   "metadata": {},
   "source": [
    "### Гипотеза: 1"
   ]
  },
  {
   "cell_type": "markdown",
   "id": "18f54552",
   "metadata": {},
   "source": [
    "Выдвигаем **нулевую гипотезу**: Пользователи с подпиской тратят столько же времени на поездки как и пользователи без подписки.\n",
    "\n",
    "Тогда **альтернативная гипотеза**: Пользователи с подпиской больше меньше времени на поездки чем пользователи без подписки. "
   ]
  },
  {
   "cell_type": "code",
   "execution_count": 61,
   "id": "59f2c5db",
   "metadata": {
    "scrolled": true
   },
   "outputs": [
    {
     "name": "stdout",
     "output_type": "stream",
     "text": [
      "p-значение: 1.0\n",
      "Не отвергаем нулевую гипотезу\n"
     ]
    }
   ],
   "source": [
    "# Для проверки нулевой гипотезы сравним данные по ежемесячному времени использования сервиса\n",
    "results = st.ttest_ind(data_aggregate.query('subscription_type == \"ultra\"')['total_duration'], \n",
    "                       data_aggregate.query('subscription_type == \"free\"')['total_duration'],\n",
    "                       equal_var=False,\n",
    "                       alternative='greater') \n",
    "\n",
    "# Вычисляем p-value\n",
    "print('p-значение:', results.pvalue)\n",
    "\n",
    "# Делаем сравнение p-value с параметром допуска и выводим результат сравнения\n",
    "alpha = 0.05\n",
    "if results.pvalue < alpha: \n",
    "    print('Отвергаем нулевую гипотезу')\n",
    "else:\n",
    "    print('Не отвергаем нулевую гипотезу')"
   ]
  },
  {
   "cell_type": "markdown",
   "id": "d6f66207",
   "metadata": {},
   "source": [
    "После проведеного t-тестирования мы не можем отвергать нулевую гипотезу. "
   ]
  },
  {
   "cell_type": "markdown",
   "id": "60e6343d",
   "metadata": {},
   "source": [
    "### Гипотеза: 2\n"
   ]
  },
  {
   "cell_type": "markdown",
   "id": "f87d4eaf",
   "metadata": {},
   "source": [
    "Выдвигаем **нулевую гипотезу**: Расстояние, которое пользователи с подпиской проезжают за одну поездку равно 3130 метров\n",
    "\n",
    "Тогда **альтернативная гипотеза**: Расстояние, которое пользователи с подпиской проезжают за одну поездку больше 3130 метров"
   ]
  },
  {
   "cell_type": "code",
   "execution_count": 56,
   "id": "c82ed6fc",
   "metadata": {},
   "outputs": [
    {
     "name": "stdout",
     "output_type": "stream",
     "text": [
      "p-значение: 0.9195368847849785\n",
      "Не отвергаем нулевую гипотезу\n"
     ]
    }
   ],
   "source": [
    "# Интересующее значение\n",
    "interested_value = 3130\n",
    "# Проверка гипотезы\n",
    "results = st.ttest_1samp(data.query('subscription_type ==\"ultra\"')['distance'],\n",
    "                         interested_value,\n",
    "                         alternative='greater')\n",
    "\n",
    "# Вычисляем p-value\n",
    "print('p-значение:', results.pvalue)\n",
    "\n",
    "# Делаем сравнение p-value с параметром допуска и выводим результат сравнения\n",
    "alpha = 0.05\n",
    "if results.pvalue < alpha: \n",
    "    print('Отвергаем нулевую гипотезу')\n",
    "else:\n",
    "    print('Не отвергаем нулевую гипотезу')"
   ]
  },
  {
   "cell_type": "markdown",
   "id": "aa2a3742",
   "metadata": {},
   "source": [
    "Таким образом, гипотезу, что расстояние, которое пользователи с подпиской проезжают за одну поездку 3130 метров - отвергать нельзя. "
   ]
  },
  {
   "cell_type": "markdown",
   "id": "561cd1ac",
   "metadata": {},
   "source": [
    "### Гипотеза: 3"
   ]
  },
  {
   "cell_type": "markdown",
   "id": "2864f826",
   "metadata": {},
   "source": [
    "Выдвигаем **нулевую гипотезу**: Ежемесячная прибыль от пользователей с подпиской выше, чем от пользователей без подписки.\n",
    "\n",
    "Тогда **альтернативная гипотеза**: Ежемесячная прибыль от пользователей с подпиской ***не*** выше, чем от пользователей без подписки."
   ]
  },
  {
   "cell_type": "code",
   "execution_count": 57,
   "id": "77d9bbd5",
   "metadata": {},
   "outputs": [
    {
     "name": "stdout",
     "output_type": "stream",
     "text": [
      "p-значение: 1.0718729651261336e-44\n",
      "Отвергаем нулевую гипотезу\n"
     ]
    }
   ],
   "source": [
    "# Проверка гипотезы\n",
    "results = st.ttest_ind(data_aggregate.query('subscription_type == \"ultra\"')['revenue'], \n",
    "                       data_aggregate.query('subscription_type == \"free\"')['revenue'],\n",
    "                       equal_var=False,\n",
    "                       alternative='greater') \n",
    "\n",
    "# Вычисляем p-value\n",
    "print('p-значение:', results.pvalue)\n",
    "\n",
    "# Делаем сравнение p-value с параметром допуска и выводим результат сравнения\n",
    "alpha = 0.05\n",
    "if results.pvalue < alpha: \n",
    "    print('Отвергаем нулевую гипотезу')\n",
    "else:\n",
    "    print('Не отвергаем нулевую гипотезу')"
   ]
  },
  {
   "cell_type": "markdown",
   "id": "f2585f97",
   "metadata": {},
   "source": [
    "Таким образом, гипотеза, что пользователи с подпиской приносят больше ежемесячной прибыли не подтверждена. "
   ]
  },
  {
   "cell_type": "markdown",
   "id": "66e2ad11",
   "metadata": {},
   "source": [
    "## Общий вывод"
   ]
  },
  {
   "cell_type": "markdown",
   "id": "0e6695ec",
   "metadata": {},
   "source": [
    "Для работы были даны данные сервиса проката самокатов, из которым выяснили, что колличество пользователей равно **1534**, который совершили **11331** поездку. \n",
    "\n",
    "Была проведена работа по предварительной обработке данных: поиску наличия пропусков и их устранению, проверка наличия дубликатов. \n",
    "\n",
    "Проведён анализ данных:\n",
    "- Частота встречаимости городов\n",
    "из которого выявили, что больше всего пользуются сервисом в г. Пятигорск **14%**, далее г.Екатеринбург, г.Ростов-на-Дону, г.Краснодар - по **13%**, меньше всего из 8 город пользуются в г.Москва - **11 %** от общего числа пользователей. \n",
    "\n",
    "- Соотношение пользователей с подпиской и без\n",
    "по данным было видно, что пользователей с подпиской около **700**, что соответствует **45.65%** от общего числа пользователей. Соответственно пользователей без подписки **54.4%** от общего числа, или более **800** пользователей. \n",
    "\n",
    "- Исследование позраста пользователей\n",
    "средний возраст пользователей приложения **25 лет**, это и самый часто встречающийся в данных возраст пользователей. При этом самому юному полбзователю **12 лет**, а самому возрастному - **43 года**. \n",
    "\n",
    "- Исследование данных по пройденному расстоянию\n",
    "по медианному значению, каждый пользователь в среднем преодолевает **3134.11 км**., минимальное среднее же расстояние будет **1234.76 км**., максимальное среднее **4395.43 км**. \n",
    "\n",
    "- Исследование данных по продолжительности поездок\n",
    "среднее и медианное значение почти равны, медианное время продолжительности поездок составляет чуть менее **18 минут**.\n",
    "\n",
    "\n",
    "Были сравнены распределения продолжительности поездок и пройденному пути для пользователей с подпиской и без. У пользователей с подпиской время в пути несколько выше, также, по гистограмме сравнения распределений пройденных дистанций можно заметить, что у пользователей с подпиской меньшая дисперсия в данных.\n",
    "\n",
    "Также, был осуществлён подсчёт ежемесячных затрат пользователей на пользование сервисом. \n",
    "\n",
    "Были проверены гипотезы:\n",
    "1) Пользователи с подпиской тратят больше времени на поездки\n",
    "данную гипотезу **отвергать нельзя**.  \n",
    "\n",
    "2) Расстояние, которое пользователи с подпиской преодолевают за одну поездку не превышает 3130 м. \n",
    "после проведения t-теста стало понятно, что **отвергать данную гипотезу нельзя** \n",
    "\n",
    "3) Ежемесячная прибыль от пользователей с подпиской выше, чем от пользователей без подписки \n",
    "по результатам t-тастирования данная гипотеза **не подтверждена** \n",
    "\n",
    "Таким образом, все поставленые задачи были выполнены, гипотезы проверены. \n",
    "\n",
    "Рекомендация по развитию сервиса:\n",
    "\n",
    "- Масштабирование, с увеличением колличества самокатов, и других городов будет больше прибыль\n",
    "\n",
    "- Проводить рекламную компанию для целевой аудитории, которая была найдена в исследовании\n",
    "\n",
    "- Увеличить цену подписки, поскольку пользователи с подпиской приносят меньше прибыли "
   ]
  }
 ],
 "metadata": {
  "ExecuteTimeLog": [
   {
    "duration": 1198,
    "start_time": "2023-05-21T23:18:38.008Z"
   },
   {
    "duration": 23,
    "start_time": "2023-05-21T23:18:39.207Z"
   },
   {
    "duration": 28,
    "start_time": "2023-05-21T23:18:39.231Z"
   },
   {
    "duration": 37,
    "start_time": "2023-05-21T23:18:39.261Z"
   },
   {
    "duration": 26,
    "start_time": "2023-05-21T23:18:39.301Z"
   },
   {
    "duration": 34,
    "start_time": "2023-05-21T23:18:39.329Z"
   },
   {
    "duration": 31,
    "start_time": "2023-05-21T23:18:39.365Z"
   },
   {
    "duration": 25,
    "start_time": "2023-05-21T23:18:39.397Z"
   },
   {
    "duration": 27,
    "start_time": "2023-05-21T23:18:39.424Z"
   },
   {
    "duration": 34,
    "start_time": "2023-05-21T23:18:39.453Z"
   },
   {
    "duration": 25,
    "start_time": "2023-05-21T23:18:39.489Z"
   },
   {
    "duration": 19,
    "start_time": "2023-05-21T23:18:39.516Z"
   },
   {
    "duration": 14,
    "start_time": "2023-05-21T23:18:39.538Z"
   },
   {
    "duration": 11,
    "start_time": "2023-05-21T23:18:39.555Z"
   },
   {
    "duration": 172,
    "start_time": "2023-05-21T23:18:39.567Z"
   },
   {
    "duration": 145,
    "start_time": "2023-05-21T23:18:39.741Z"
   },
   {
    "duration": 9,
    "start_time": "2023-05-21T23:18:39.888Z"
   },
   {
    "duration": 10,
    "start_time": "2023-05-21T23:18:39.899Z"
   },
   {
    "duration": 17,
    "start_time": "2023-05-21T23:18:39.925Z"
   },
   {
    "duration": 200,
    "start_time": "2023-05-21T23:18:39.944Z"
   },
   {
    "duration": 5,
    "start_time": "2023-05-21T23:18:40.146Z"
   },
   {
    "duration": 16,
    "start_time": "2023-05-21T23:18:40.153Z"
   },
   {
    "duration": 22,
    "start_time": "2023-05-21T23:18:40.171Z"
   },
   {
    "duration": 307,
    "start_time": "2023-05-21T23:18:40.195Z"
   },
   {
    "duration": 20,
    "start_time": "2023-05-21T23:18:40.504Z"
   },
   {
    "duration": 23,
    "start_time": "2023-05-21T23:18:40.525Z"
   },
   {
    "duration": 25,
    "start_time": "2023-05-21T23:18:40.550Z"
   },
   {
    "duration": 285,
    "start_time": "2023-05-21T23:18:40.577Z"
   },
   {
    "duration": 22,
    "start_time": "2023-05-21T23:18:40.864Z"
   },
   {
    "duration": 7,
    "start_time": "2023-05-21T23:18:40.888Z"
   },
   {
    "duration": 39,
    "start_time": "2023-05-21T23:18:40.897Z"
   },
   {
    "duration": 30,
    "start_time": "2023-05-21T23:18:40.938Z"
   },
   {
    "duration": 30,
    "start_time": "2023-05-21T23:18:40.969Z"
   },
   {
    "duration": 39,
    "start_time": "2023-05-21T23:18:41.000Z"
   },
   {
    "duration": 344,
    "start_time": "2023-05-21T23:18:41.041Z"
   },
   {
    "duration": 21,
    "start_time": "2023-05-21T23:18:41.387Z"
   },
   {
    "duration": 44,
    "start_time": "2023-05-21T23:18:41.410Z"
   },
   {
    "duration": 389,
    "start_time": "2023-05-21T23:18:41.457Z"
   },
   {
    "duration": 28,
    "start_time": "2023-05-21T23:18:41.848Z"
   },
   {
    "duration": 303,
    "start_time": "2023-05-21T23:18:41.878Z"
   },
   {
    "duration": 339,
    "start_time": "2023-05-21T23:18:42.185Z"
   },
   {
    "duration": 823,
    "start_time": "2023-05-21T23:18:42.526Z"
   },
   {
    "duration": 16,
    "start_time": "2023-05-21T23:18:43.351Z"
   },
   {
    "duration": 209,
    "start_time": "2023-05-21T23:18:43.369Z"
   },
   {
    "duration": 8,
    "start_time": "2023-05-21T23:18:43.579Z"
   },
   {
    "duration": 37,
    "start_time": "2023-05-21T23:18:43.588Z"
   },
   {
    "duration": 28,
    "start_time": "2023-05-21T23:18:43.626Z"
   },
   {
    "duration": 24,
    "start_time": "2023-05-21T23:18:43.656Z"
   },
   {
    "duration": 117,
    "start_time": "2023-05-21T23:18:43.682Z"
   },
   {
    "duration": 1464,
    "start_time": "2023-05-22T02:37:59.998Z"
   },
   {
    "duration": 3,
    "start_time": "2023-05-22T02:38:01.464Z"
   },
   {
    "duration": 245,
    "start_time": "2023-05-22T02:38:01.469Z"
   },
   {
    "duration": 124,
    "start_time": "2023-05-22T02:49:13.593Z"
   },
   {
    "duration": 1163,
    "start_time": "2023-05-22T02:50:04.285Z"
   },
   {
    "duration": 3,
    "start_time": "2023-05-22T02:50:05.450Z"
   },
   {
    "duration": 77,
    "start_time": "2023-05-22T02:50:05.455Z"
   },
   {
    "duration": 145,
    "start_time": "2023-05-22T02:50:05.534Z"
   },
   {
    "duration": 0,
    "start_time": "2023-05-22T02:50:05.682Z"
   },
   {
    "duration": 0,
    "start_time": "2023-05-22T02:50:05.683Z"
   },
   {
    "duration": 0,
    "start_time": "2023-05-22T02:50:05.684Z"
   },
   {
    "duration": 0,
    "start_time": "2023-05-22T02:50:05.685Z"
   },
   {
    "duration": 0,
    "start_time": "2023-05-22T02:50:05.686Z"
   },
   {
    "duration": 0,
    "start_time": "2023-05-22T02:50:05.687Z"
   },
   {
    "duration": 0,
    "start_time": "2023-05-22T02:50:05.688Z"
   },
   {
    "duration": 0,
    "start_time": "2023-05-22T02:50:05.689Z"
   },
   {
    "duration": 0,
    "start_time": "2023-05-22T02:50:05.690Z"
   },
   {
    "duration": 0,
    "start_time": "2023-05-22T02:50:05.691Z"
   },
   {
    "duration": 0,
    "start_time": "2023-05-22T02:50:05.692Z"
   },
   {
    "duration": 0,
    "start_time": "2023-05-22T02:50:05.693Z"
   },
   {
    "duration": 0,
    "start_time": "2023-05-22T02:50:05.694Z"
   },
   {
    "duration": 0,
    "start_time": "2023-05-22T02:50:05.695Z"
   },
   {
    "duration": 0,
    "start_time": "2023-05-22T02:50:05.696Z"
   },
   {
    "duration": 0,
    "start_time": "2023-05-22T02:50:05.697Z"
   },
   {
    "duration": 0,
    "start_time": "2023-05-22T02:50:05.698Z"
   },
   {
    "duration": 0,
    "start_time": "2023-05-22T02:50:05.699Z"
   },
   {
    "duration": 0,
    "start_time": "2023-05-22T02:50:05.700Z"
   },
   {
    "duration": 0,
    "start_time": "2023-05-22T02:50:05.701Z"
   },
   {
    "duration": 0,
    "start_time": "2023-05-22T02:50:05.702Z"
   },
   {
    "duration": 0,
    "start_time": "2023-05-22T02:50:05.703Z"
   },
   {
    "duration": 0,
    "start_time": "2023-05-22T02:50:05.704Z"
   },
   {
    "duration": 0,
    "start_time": "2023-05-22T02:50:05.705Z"
   },
   {
    "duration": 0,
    "start_time": "2023-05-22T02:50:05.706Z"
   },
   {
    "duration": 0,
    "start_time": "2023-05-22T02:50:05.707Z"
   },
   {
    "duration": 0,
    "start_time": "2023-05-22T02:50:05.708Z"
   },
   {
    "duration": 0,
    "start_time": "2023-05-22T02:50:05.709Z"
   },
   {
    "duration": 0,
    "start_time": "2023-05-22T02:50:05.710Z"
   },
   {
    "duration": 0,
    "start_time": "2023-05-22T02:50:05.710Z"
   },
   {
    "duration": 0,
    "start_time": "2023-05-22T02:50:05.711Z"
   },
   {
    "duration": 0,
    "start_time": "2023-05-22T02:50:05.712Z"
   },
   {
    "duration": 0,
    "start_time": "2023-05-22T02:50:05.713Z"
   },
   {
    "duration": 0,
    "start_time": "2023-05-22T02:50:05.714Z"
   },
   {
    "duration": 0,
    "start_time": "2023-05-22T02:50:05.714Z"
   },
   {
    "duration": 0,
    "start_time": "2023-05-22T02:50:05.715Z"
   },
   {
    "duration": 0,
    "start_time": "2023-05-22T02:50:05.716Z"
   },
   {
    "duration": 0,
    "start_time": "2023-05-22T02:50:05.717Z"
   },
   {
    "duration": 0,
    "start_time": "2023-05-22T02:50:05.718Z"
   },
   {
    "duration": 0,
    "start_time": "2023-05-22T02:50:05.719Z"
   },
   {
    "duration": 0,
    "start_time": "2023-05-22T02:50:05.720Z"
   },
   {
    "duration": 0,
    "start_time": "2023-05-22T02:50:05.725Z"
   },
   {
    "duration": 0,
    "start_time": "2023-05-22T02:50:05.726Z"
   },
   {
    "duration": 1,
    "start_time": "2023-05-22T02:50:05.726Z"
   },
   {
    "duration": 0,
    "start_time": "2023-05-22T02:50:05.727Z"
   },
   {
    "duration": 0,
    "start_time": "2023-05-22T02:50:05.728Z"
   },
   {
    "duration": 0,
    "start_time": "2023-05-22T02:50:05.729Z"
   },
   {
    "duration": 1084,
    "start_time": "2023-05-22T02:50:27.049Z"
   },
   {
    "duration": 2,
    "start_time": "2023-05-22T02:50:28.135Z"
   },
   {
    "duration": 114,
    "start_time": "2023-05-22T02:50:28.138Z"
   },
   {
    "duration": 81,
    "start_time": "2023-05-22T02:50:28.254Z"
   },
   {
    "duration": 0,
    "start_time": "2023-05-22T02:50:28.338Z"
   },
   {
    "duration": 0,
    "start_time": "2023-05-22T02:50:28.338Z"
   },
   {
    "duration": 0,
    "start_time": "2023-05-22T02:50:28.340Z"
   },
   {
    "duration": 0,
    "start_time": "2023-05-22T02:50:28.341Z"
   },
   {
    "duration": 0,
    "start_time": "2023-05-22T02:50:28.342Z"
   },
   {
    "duration": 0,
    "start_time": "2023-05-22T02:50:28.343Z"
   },
   {
    "duration": 0,
    "start_time": "2023-05-22T02:50:28.344Z"
   },
   {
    "duration": 0,
    "start_time": "2023-05-22T02:50:28.345Z"
   },
   {
    "duration": 0,
    "start_time": "2023-05-22T02:50:28.346Z"
   },
   {
    "duration": 0,
    "start_time": "2023-05-22T02:50:28.347Z"
   },
   {
    "duration": 0,
    "start_time": "2023-05-22T02:50:28.348Z"
   },
   {
    "duration": 0,
    "start_time": "2023-05-22T02:50:28.349Z"
   },
   {
    "duration": 0,
    "start_time": "2023-05-22T02:50:28.350Z"
   },
   {
    "duration": 0,
    "start_time": "2023-05-22T02:50:28.352Z"
   },
   {
    "duration": 0,
    "start_time": "2023-05-22T02:50:28.353Z"
   },
   {
    "duration": 0,
    "start_time": "2023-05-22T02:50:28.354Z"
   },
   {
    "duration": 0,
    "start_time": "2023-05-22T02:50:28.355Z"
   },
   {
    "duration": 0,
    "start_time": "2023-05-22T02:50:28.356Z"
   },
   {
    "duration": 0,
    "start_time": "2023-05-22T02:50:28.357Z"
   },
   {
    "duration": 0,
    "start_time": "2023-05-22T02:50:28.357Z"
   },
   {
    "duration": 0,
    "start_time": "2023-05-22T02:50:28.358Z"
   },
   {
    "duration": 0,
    "start_time": "2023-05-22T02:50:28.360Z"
   },
   {
    "duration": 0,
    "start_time": "2023-05-22T02:50:28.361Z"
   },
   {
    "duration": 0,
    "start_time": "2023-05-22T02:50:28.361Z"
   },
   {
    "duration": 0,
    "start_time": "2023-05-22T02:50:28.362Z"
   },
   {
    "duration": 0,
    "start_time": "2023-05-22T02:50:28.363Z"
   },
   {
    "duration": 0,
    "start_time": "2023-05-22T02:50:28.364Z"
   },
   {
    "duration": 0,
    "start_time": "2023-05-22T02:50:28.365Z"
   },
   {
    "duration": 0,
    "start_time": "2023-05-22T02:50:28.366Z"
   },
   {
    "duration": 0,
    "start_time": "2023-05-22T02:50:28.367Z"
   },
   {
    "duration": 0,
    "start_time": "2023-05-22T02:50:28.368Z"
   },
   {
    "duration": 0,
    "start_time": "2023-05-22T02:50:28.369Z"
   },
   {
    "duration": 0,
    "start_time": "2023-05-22T02:50:28.370Z"
   },
   {
    "duration": 0,
    "start_time": "2023-05-22T02:50:28.371Z"
   },
   {
    "duration": 0,
    "start_time": "2023-05-22T02:50:28.372Z"
   },
   {
    "duration": 0,
    "start_time": "2023-05-22T02:50:28.425Z"
   },
   {
    "duration": 0,
    "start_time": "2023-05-22T02:50:28.426Z"
   },
   {
    "duration": 0,
    "start_time": "2023-05-22T02:50:28.427Z"
   },
   {
    "duration": 0,
    "start_time": "2023-05-22T02:50:28.428Z"
   },
   {
    "duration": 0,
    "start_time": "2023-05-22T02:50:28.429Z"
   },
   {
    "duration": 0,
    "start_time": "2023-05-22T02:50:28.429Z"
   },
   {
    "duration": 0,
    "start_time": "2023-05-22T02:50:28.431Z"
   },
   {
    "duration": 0,
    "start_time": "2023-05-22T02:50:28.432Z"
   },
   {
    "duration": 0,
    "start_time": "2023-05-22T02:50:28.433Z"
   },
   {
    "duration": 0,
    "start_time": "2023-05-22T02:50:28.434Z"
   },
   {
    "duration": 0,
    "start_time": "2023-05-22T02:50:28.435Z"
   },
   {
    "duration": 0,
    "start_time": "2023-05-22T02:50:28.436Z"
   },
   {
    "duration": 113,
    "start_time": "2023-05-22T02:52:02.945Z"
   },
   {
    "duration": 342,
    "start_time": "2023-05-22T02:52:06.769Z"
   },
   {
    "duration": 122,
    "start_time": "2023-05-22T02:52:37.353Z"
   },
   {
    "duration": 1145,
    "start_time": "2023-05-22T02:53:47.303Z"
   },
   {
    "duration": 3,
    "start_time": "2023-05-22T02:53:48.450Z"
   },
   {
    "duration": 73,
    "start_time": "2023-05-22T02:53:48.454Z"
   },
   {
    "duration": 23,
    "start_time": "2023-05-22T02:53:48.529Z"
   },
   {
    "duration": 12,
    "start_time": "2023-05-22T02:53:48.554Z"
   },
   {
    "duration": 9,
    "start_time": "2023-05-22T02:53:48.567Z"
   },
   {
    "duration": 10,
    "start_time": "2023-05-22T02:53:48.578Z"
   },
   {
    "duration": 35,
    "start_time": "2023-05-22T02:53:48.590Z"
   },
   {
    "duration": 5,
    "start_time": "2023-05-22T02:53:48.626Z"
   },
   {
    "duration": 10,
    "start_time": "2023-05-22T02:53:48.632Z"
   },
   {
    "duration": 9,
    "start_time": "2023-05-22T02:53:48.644Z"
   },
   {
    "duration": 6,
    "start_time": "2023-05-22T02:53:48.655Z"
   },
   {
    "duration": 17,
    "start_time": "2023-05-22T02:53:48.662Z"
   },
   {
    "duration": 4,
    "start_time": "2023-05-22T02:53:48.682Z"
   },
   {
    "duration": 11,
    "start_time": "2023-05-22T02:53:48.688Z"
   },
   {
    "duration": 28,
    "start_time": "2023-05-22T02:53:48.700Z"
   },
   {
    "duration": 159,
    "start_time": "2023-05-22T02:53:48.729Z"
   },
   {
    "duration": 131,
    "start_time": "2023-05-22T02:53:48.889Z"
   },
   {
    "duration": 7,
    "start_time": "2023-05-22T02:53:49.022Z"
   },
   {
    "duration": 20,
    "start_time": "2023-05-22T02:53:49.030Z"
   },
   {
    "duration": 17,
    "start_time": "2023-05-22T02:53:49.051Z"
   },
   {
    "duration": 215,
    "start_time": "2023-05-22T02:53:49.069Z"
   },
   {
    "duration": 5,
    "start_time": "2023-05-22T02:53:49.286Z"
   },
   {
    "duration": 26,
    "start_time": "2023-05-22T02:53:49.293Z"
   },
   {
    "duration": 18,
    "start_time": "2023-05-22T02:53:49.320Z"
   },
   {
    "duration": 290,
    "start_time": "2023-05-22T02:53:49.340Z"
   },
   {
    "duration": 10,
    "start_time": "2023-05-22T02:53:49.631Z"
   },
   {
    "duration": 13,
    "start_time": "2023-05-22T02:53:49.643Z"
   },
   {
    "duration": 24,
    "start_time": "2023-05-22T02:53:49.658Z"
   },
   {
    "duration": 307,
    "start_time": "2023-05-22T02:53:49.683Z"
   },
   {
    "duration": 36,
    "start_time": "2023-05-22T02:53:49.992Z"
   },
   {
    "duration": 8,
    "start_time": "2023-05-22T02:53:50.030Z"
   },
   {
    "duration": 25,
    "start_time": "2023-05-22T02:53:50.039Z"
   },
   {
    "duration": 46,
    "start_time": "2023-05-22T02:53:50.065Z"
   },
   {
    "duration": 23,
    "start_time": "2023-05-22T02:53:50.113Z"
   },
   {
    "duration": 23,
    "start_time": "2023-05-22T02:53:50.138Z"
   },
   {
    "duration": 302,
    "start_time": "2023-05-22T02:53:50.163Z"
   },
   {
    "duration": 19,
    "start_time": "2023-05-22T02:53:50.467Z"
   },
   {
    "duration": 41,
    "start_time": "2023-05-22T02:53:50.488Z"
   },
   {
    "duration": 351,
    "start_time": "2023-05-22T02:53:50.531Z"
   },
   {
    "duration": 20,
    "start_time": "2023-05-22T02:53:50.886Z"
   },
   {
    "duration": 294,
    "start_time": "2023-05-22T02:53:50.907Z"
   },
   {
    "duration": 274,
    "start_time": "2023-05-22T02:53:51.202Z"
   },
   {
    "duration": 737,
    "start_time": "2023-05-22T02:53:51.478Z"
   },
   {
    "duration": 18,
    "start_time": "2023-05-22T02:53:52.217Z"
   },
   {
    "duration": 191,
    "start_time": "2023-05-22T02:53:52.237Z"
   },
   {
    "duration": 8,
    "start_time": "2023-05-22T02:53:52.430Z"
   },
   {
    "duration": 17,
    "start_time": "2023-05-22T02:53:52.440Z"
   },
   {
    "duration": 8,
    "start_time": "2023-05-22T02:53:52.459Z"
   },
   {
    "duration": 16,
    "start_time": "2023-05-22T02:53:52.468Z"
   },
   {
    "duration": 369,
    "start_time": "2023-05-22T02:57:24.784Z"
   },
   {
    "duration": 137,
    "start_time": "2023-05-22T02:58:00.575Z"
   },
   {
    "duration": 152,
    "start_time": "2023-05-22T02:58:10.010Z"
   },
   {
    "duration": 225,
    "start_time": "2023-05-22T02:59:06.908Z"
   },
   {
    "duration": 142,
    "start_time": "2023-05-22T03:02:13.830Z"
   },
   {
    "duration": 1210,
    "start_time": "2023-05-22T03:02:52.625Z"
   },
   {
    "duration": 4,
    "start_time": "2023-05-22T03:02:53.837Z"
   },
   {
    "duration": 76,
    "start_time": "2023-05-22T03:02:53.843Z"
   },
   {
    "duration": 26,
    "start_time": "2023-05-22T03:02:53.921Z"
   },
   {
    "duration": 12,
    "start_time": "2023-05-22T03:02:53.949Z"
   },
   {
    "duration": 16,
    "start_time": "2023-05-22T03:02:53.962Z"
   },
   {
    "duration": 39,
    "start_time": "2023-05-22T03:02:53.980Z"
   },
   {
    "duration": 25,
    "start_time": "2023-05-22T03:02:54.020Z"
   },
   {
    "duration": 10,
    "start_time": "2023-05-22T03:02:54.046Z"
   },
   {
    "duration": 254,
    "start_time": "2023-05-22T03:02:54.058Z"
   },
   {
    "duration": 0,
    "start_time": "2023-05-22T03:02:54.315Z"
   },
   {
    "duration": 0,
    "start_time": "2023-05-22T03:02:54.317Z"
   },
   {
    "duration": 0,
    "start_time": "2023-05-22T03:02:54.324Z"
   },
   {
    "duration": 0,
    "start_time": "2023-05-22T03:02:54.326Z"
   },
   {
    "duration": 0,
    "start_time": "2023-05-22T03:02:54.327Z"
   },
   {
    "duration": 0,
    "start_time": "2023-05-22T03:02:54.329Z"
   },
   {
    "duration": 0,
    "start_time": "2023-05-22T03:02:54.330Z"
   },
   {
    "duration": 0,
    "start_time": "2023-05-22T03:02:54.331Z"
   },
   {
    "duration": 0,
    "start_time": "2023-05-22T03:02:54.333Z"
   },
   {
    "duration": 0,
    "start_time": "2023-05-22T03:02:54.334Z"
   },
   {
    "duration": 0,
    "start_time": "2023-05-22T03:02:54.335Z"
   },
   {
    "duration": 0,
    "start_time": "2023-05-22T03:02:54.337Z"
   },
   {
    "duration": 0,
    "start_time": "2023-05-22T03:02:54.338Z"
   },
   {
    "duration": 0,
    "start_time": "2023-05-22T03:02:54.340Z"
   },
   {
    "duration": 0,
    "start_time": "2023-05-22T03:02:54.341Z"
   },
   {
    "duration": 1,
    "start_time": "2023-05-22T03:02:54.342Z"
   },
   {
    "duration": 0,
    "start_time": "2023-05-22T03:02:54.344Z"
   },
   {
    "duration": 0,
    "start_time": "2023-05-22T03:02:54.346Z"
   },
   {
    "duration": 0,
    "start_time": "2023-05-22T03:02:54.347Z"
   },
   {
    "duration": 0,
    "start_time": "2023-05-22T03:02:54.348Z"
   },
   {
    "duration": 0,
    "start_time": "2023-05-22T03:02:54.350Z"
   },
   {
    "duration": 0,
    "start_time": "2023-05-22T03:02:54.351Z"
   },
   {
    "duration": 0,
    "start_time": "2023-05-22T03:02:54.353Z"
   },
   {
    "duration": 0,
    "start_time": "2023-05-22T03:02:54.354Z"
   },
   {
    "duration": 0,
    "start_time": "2023-05-22T03:02:54.355Z"
   },
   {
    "duration": 0,
    "start_time": "2023-05-22T03:02:54.357Z"
   },
   {
    "duration": 0,
    "start_time": "2023-05-22T03:02:54.357Z"
   },
   {
    "duration": 0,
    "start_time": "2023-05-22T03:02:54.358Z"
   },
   {
    "duration": 0,
    "start_time": "2023-05-22T03:02:54.359Z"
   },
   {
    "duration": 0,
    "start_time": "2023-05-22T03:02:54.361Z"
   },
   {
    "duration": 0,
    "start_time": "2023-05-22T03:02:54.362Z"
   },
   {
    "duration": 0,
    "start_time": "2023-05-22T03:02:54.363Z"
   },
   {
    "duration": 0,
    "start_time": "2023-05-22T03:02:54.365Z"
   },
   {
    "duration": 0,
    "start_time": "2023-05-22T03:02:54.425Z"
   },
   {
    "duration": 0,
    "start_time": "2023-05-22T03:02:54.426Z"
   },
   {
    "duration": 0,
    "start_time": "2023-05-22T03:02:54.427Z"
   },
   {
    "duration": 0,
    "start_time": "2023-05-22T03:02:54.428Z"
   },
   {
    "duration": 0,
    "start_time": "2023-05-22T03:02:54.429Z"
   },
   {
    "duration": 0,
    "start_time": "2023-05-22T03:02:54.430Z"
   },
   {
    "duration": 0,
    "start_time": "2023-05-22T03:02:54.431Z"
   },
   {
    "duration": 0,
    "start_time": "2023-05-22T03:02:54.432Z"
   },
   {
    "duration": 591,
    "start_time": "2023-05-22T03:04:29.782Z"
   },
   {
    "duration": 9,
    "start_time": "2023-05-22T03:09:53.474Z"
   },
   {
    "duration": 335,
    "start_time": "2023-05-22T03:10:15.973Z"
   },
   {
    "duration": 1454,
    "start_time": "2023-05-22T03:10:33.692Z"
   },
   {
    "duration": 308,
    "start_time": "2023-05-22T03:10:50.777Z"
   },
   {
    "duration": 232,
    "start_time": "2023-05-22T03:11:10.512Z"
   },
   {
    "duration": 9,
    "start_time": "2023-05-22T03:14:48.745Z"
   },
   {
    "duration": 9,
    "start_time": "2023-05-22T03:14:54.190Z"
   },
   {
    "duration": 233,
    "start_time": "2023-05-22T03:14:58.236Z"
   },
   {
    "duration": 396,
    "start_time": "2023-05-22T03:15:01.361Z"
   },
   {
    "duration": 8,
    "start_time": "2023-05-22T03:15:27.451Z"
   },
   {
    "duration": 9,
    "start_time": "2023-05-22T03:15:37.880Z"
   },
   {
    "duration": 9,
    "start_time": "2023-05-22T03:15:40.920Z"
   },
   {
    "duration": 12,
    "start_time": "2023-05-22T03:15:44.806Z"
   },
   {
    "duration": 7,
    "start_time": "2023-05-22T03:16:32.016Z"
   },
   {
    "duration": 1116,
    "start_time": "2023-05-22T03:16:58.323Z"
   },
   {
    "duration": 3,
    "start_time": "2023-05-22T03:16:59.442Z"
   },
   {
    "duration": 85,
    "start_time": "2023-05-22T03:16:59.446Z"
   },
   {
    "duration": 40,
    "start_time": "2023-05-22T03:16:59.533Z"
   },
   {
    "duration": 18,
    "start_time": "2023-05-22T03:16:59.577Z"
   },
   {
    "duration": 32,
    "start_time": "2023-05-22T03:16:59.597Z"
   },
   {
    "duration": 18,
    "start_time": "2023-05-22T03:16:59.631Z"
   },
   {
    "duration": 11,
    "start_time": "2023-05-22T03:16:59.650Z"
   },
   {
    "duration": 9,
    "start_time": "2023-05-22T03:16:59.663Z"
   },
   {
    "duration": 1222,
    "start_time": "2023-05-22T03:18:04.877Z"
   },
   {
    "duration": 3,
    "start_time": "2023-05-22T03:18:06.102Z"
   },
   {
    "duration": 152,
    "start_time": "2023-05-22T03:18:06.108Z"
   },
   {
    "duration": 38,
    "start_time": "2023-05-22T03:18:06.262Z"
   },
   {
    "duration": 36,
    "start_time": "2023-05-22T03:18:06.302Z"
   },
   {
    "duration": 58,
    "start_time": "2023-05-22T03:18:06.340Z"
   },
   {
    "duration": 44,
    "start_time": "2023-05-22T03:18:06.400Z"
   },
   {
    "duration": 54,
    "start_time": "2023-05-22T03:18:06.447Z"
   },
   {
    "duration": 53,
    "start_time": "2023-05-22T03:18:06.502Z"
   },
   {
    "duration": 55,
    "start_time": "2023-05-22T03:18:06.557Z"
   },
   {
    "duration": 57,
    "start_time": "2023-05-22T03:18:06.614Z"
   },
   {
    "duration": 50,
    "start_time": "2023-05-22T03:18:06.674Z"
   },
   {
    "duration": 53,
    "start_time": "2023-05-22T03:18:06.726Z"
   },
   {
    "duration": 61,
    "start_time": "2023-05-22T03:18:06.782Z"
   },
   {
    "duration": 58,
    "start_time": "2023-05-22T03:18:06.844Z"
   },
   {
    "duration": 46,
    "start_time": "2023-05-22T03:18:06.903Z"
   },
   {
    "duration": 37,
    "start_time": "2023-05-22T03:18:06.951Z"
   },
   {
    "duration": 202,
    "start_time": "2023-05-22T03:18:06.990Z"
   },
   {
    "duration": 174,
    "start_time": "2023-05-22T03:18:07.194Z"
   },
   {
    "duration": 9,
    "start_time": "2023-05-22T03:18:07.371Z"
   },
   {
    "duration": 52,
    "start_time": "2023-05-22T03:18:07.382Z"
   },
   {
    "duration": 102,
    "start_time": "2023-05-22T03:18:07.436Z"
   },
   {
    "duration": 284,
    "start_time": "2023-05-22T03:18:07.540Z"
   },
   {
    "duration": 6,
    "start_time": "2023-05-22T03:18:07.826Z"
   },
   {
    "duration": 59,
    "start_time": "2023-05-22T03:18:07.833Z"
   },
   {
    "duration": 45,
    "start_time": "2023-05-22T03:18:07.894Z"
   },
   {
    "duration": 325,
    "start_time": "2023-05-22T03:18:07.942Z"
   },
   {
    "duration": 17,
    "start_time": "2023-05-22T03:18:08.269Z"
   },
   {
    "duration": 46,
    "start_time": "2023-05-22T03:18:08.289Z"
   },
   {
    "duration": 87,
    "start_time": "2023-05-22T03:18:08.337Z"
   },
   {
    "duration": 389,
    "start_time": "2023-05-22T03:18:08.426Z"
   },
   {
    "duration": 26,
    "start_time": "2023-05-22T03:18:08.825Z"
   },
   {
    "duration": 33,
    "start_time": "2023-05-22T03:18:08.853Z"
   },
   {
    "duration": 52,
    "start_time": "2023-05-22T03:18:08.889Z"
   },
   {
    "duration": 62,
    "start_time": "2023-05-22T03:18:08.943Z"
   },
   {
    "duration": 63,
    "start_time": "2023-05-22T03:18:09.007Z"
   },
   {
    "duration": 54,
    "start_time": "2023-05-22T03:18:09.072Z"
   },
   {
    "duration": 367,
    "start_time": "2023-05-22T03:18:09.128Z"
   },
   {
    "duration": 40,
    "start_time": "2023-05-22T03:18:09.498Z"
   },
   {
    "duration": 27,
    "start_time": "2023-05-22T03:18:09.540Z"
   },
   {
    "duration": 428,
    "start_time": "2023-05-22T03:18:09.571Z"
   },
   {
    "duration": 39,
    "start_time": "2023-05-22T03:18:10.001Z"
   },
   {
    "duration": 328,
    "start_time": "2023-05-22T03:18:10.042Z"
   },
   {
    "duration": 441,
    "start_time": "2023-05-22T03:18:10.372Z"
   },
   {
    "duration": 941,
    "start_time": "2023-05-22T03:18:10.815Z"
   },
   {
    "duration": 20,
    "start_time": "2023-05-22T03:18:11.758Z"
   },
   {
    "duration": 231,
    "start_time": "2023-05-22T03:18:11.781Z"
   },
   {
    "duration": 19,
    "start_time": "2023-05-22T03:18:12.015Z"
   },
   {
    "duration": 24,
    "start_time": "2023-05-22T03:18:12.037Z"
   },
   {
    "duration": 17,
    "start_time": "2023-05-22T03:18:12.063Z"
   },
   {
    "duration": 22,
    "start_time": "2023-05-22T03:18:12.083Z"
   },
   {
    "duration": 2,
    "start_time": "2023-05-22T03:24:36.667Z"
   },
   {
    "duration": 9,
    "start_time": "2023-05-22T03:24:38.473Z"
   },
   {
    "duration": 11,
    "start_time": "2023-05-22T03:24:50.030Z"
   },
   {
    "duration": 338,
    "start_time": "2023-05-22T03:26:20.833Z"
   },
   {
    "duration": 138,
    "start_time": "2023-05-22T03:31:47.766Z"
   },
   {
    "duration": 165,
    "start_time": "2023-05-22T03:33:08.245Z"
   },
   {
    "duration": 8,
    "start_time": "2023-05-22T03:36:52.818Z"
   },
   {
    "duration": 15,
    "start_time": "2023-05-22T03:38:21.861Z"
   },
   {
    "duration": 7,
    "start_time": "2023-05-22T03:38:44.473Z"
   },
   {
    "duration": 11,
    "start_time": "2023-05-22T03:38:45.058Z"
   },
   {
    "duration": 8,
    "start_time": "2023-05-22T03:38:45.462Z"
   },
   {
    "duration": 1177,
    "start_time": "2023-05-22T03:39:11.182Z"
   },
   {
    "duration": 3,
    "start_time": "2023-05-22T03:39:12.361Z"
   },
   {
    "duration": 77,
    "start_time": "2023-05-22T03:39:12.365Z"
   },
   {
    "duration": 26,
    "start_time": "2023-05-22T03:39:12.444Z"
   },
   {
    "duration": 12,
    "start_time": "2023-05-22T03:39:12.472Z"
   },
   {
    "duration": 17,
    "start_time": "2023-05-22T03:39:12.486Z"
   },
   {
    "duration": 23,
    "start_time": "2023-05-22T03:39:12.505Z"
   },
   {
    "duration": 17,
    "start_time": "2023-05-22T03:39:12.530Z"
   },
   {
    "duration": 11,
    "start_time": "2023-05-22T03:39:12.548Z"
   },
   {
    "duration": 12,
    "start_time": "2023-05-22T03:39:12.560Z"
   },
   {
    "duration": 141,
    "start_time": "2023-05-22T03:39:12.573Z"
   },
   {
    "duration": 13,
    "start_time": "2023-05-22T03:39:12.716Z"
   },
   {
    "duration": 39,
    "start_time": "2023-05-22T03:39:12.731Z"
   },
   {
    "duration": 38,
    "start_time": "2023-05-22T03:39:12.774Z"
   },
   {
    "duration": 110,
    "start_time": "2023-05-22T03:39:12.814Z"
   },
   {
    "duration": 0,
    "start_time": "2023-05-22T03:39:12.926Z"
   },
   {
    "duration": 0,
    "start_time": "2023-05-22T03:39:12.927Z"
   },
   {
    "duration": 0,
    "start_time": "2023-05-22T03:39:12.930Z"
   },
   {
    "duration": 0,
    "start_time": "2023-05-22T03:39:12.931Z"
   },
   {
    "duration": 0,
    "start_time": "2023-05-22T03:39:12.932Z"
   },
   {
    "duration": 0,
    "start_time": "2023-05-22T03:39:12.933Z"
   },
   {
    "duration": 0,
    "start_time": "2023-05-22T03:39:12.934Z"
   },
   {
    "duration": 0,
    "start_time": "2023-05-22T03:39:12.935Z"
   },
   {
    "duration": 0,
    "start_time": "2023-05-22T03:39:12.937Z"
   },
   {
    "duration": 0,
    "start_time": "2023-05-22T03:39:12.938Z"
   },
   {
    "duration": 0,
    "start_time": "2023-05-22T03:39:12.940Z"
   },
   {
    "duration": 0,
    "start_time": "2023-05-22T03:39:12.941Z"
   },
   {
    "duration": 0,
    "start_time": "2023-05-22T03:39:12.942Z"
   },
   {
    "duration": 0,
    "start_time": "2023-05-22T03:39:12.943Z"
   },
   {
    "duration": 0,
    "start_time": "2023-05-22T03:39:12.945Z"
   },
   {
    "duration": 0,
    "start_time": "2023-05-22T03:39:12.946Z"
   },
   {
    "duration": 0,
    "start_time": "2023-05-22T03:39:12.947Z"
   },
   {
    "duration": 0,
    "start_time": "2023-05-22T03:39:12.949Z"
   },
   {
    "duration": 0,
    "start_time": "2023-05-22T03:39:12.950Z"
   },
   {
    "duration": 0,
    "start_time": "2023-05-22T03:39:12.952Z"
   },
   {
    "duration": 0,
    "start_time": "2023-05-22T03:39:12.953Z"
   },
   {
    "duration": 0,
    "start_time": "2023-05-22T03:39:12.954Z"
   },
   {
    "duration": 0,
    "start_time": "2023-05-22T03:39:12.955Z"
   },
   {
    "duration": 0,
    "start_time": "2023-05-22T03:39:12.957Z"
   },
   {
    "duration": 0,
    "start_time": "2023-05-22T03:39:12.958Z"
   },
   {
    "duration": 0,
    "start_time": "2023-05-22T03:39:12.960Z"
   },
   {
    "duration": 0,
    "start_time": "2023-05-22T03:39:12.962Z"
   },
   {
    "duration": 0,
    "start_time": "2023-05-22T03:39:12.964Z"
   },
   {
    "duration": 0,
    "start_time": "2023-05-22T03:39:13.026Z"
   },
   {
    "duration": 0,
    "start_time": "2023-05-22T03:39:13.027Z"
   },
   {
    "duration": 0,
    "start_time": "2023-05-22T03:39:13.028Z"
   },
   {
    "duration": 0,
    "start_time": "2023-05-22T03:39:13.029Z"
   },
   {
    "duration": 0,
    "start_time": "2023-05-22T03:39:13.030Z"
   },
   {
    "duration": 0,
    "start_time": "2023-05-22T03:39:13.032Z"
   },
   {
    "duration": 0,
    "start_time": "2023-05-22T03:39:13.033Z"
   },
   {
    "duration": 0,
    "start_time": "2023-05-22T03:39:13.034Z"
   },
   {
    "duration": 0,
    "start_time": "2023-05-22T03:39:13.035Z"
   },
   {
    "duration": 0,
    "start_time": "2023-05-22T03:39:13.036Z"
   },
   {
    "duration": 0,
    "start_time": "2023-05-22T03:39:13.037Z"
   },
   {
    "duration": 0,
    "start_time": "2023-05-22T03:39:13.038Z"
   },
   {
    "duration": 1128,
    "start_time": "2023-05-22T03:39:57.548Z"
   },
   {
    "duration": 3,
    "start_time": "2023-05-22T03:39:58.678Z"
   },
   {
    "duration": 80,
    "start_time": "2023-05-22T03:39:58.683Z"
   },
   {
    "duration": 25,
    "start_time": "2023-05-22T03:39:58.765Z"
   },
   {
    "duration": 15,
    "start_time": "2023-05-22T03:39:58.792Z"
   },
   {
    "duration": 10,
    "start_time": "2023-05-22T03:39:58.808Z"
   },
   {
    "duration": 11,
    "start_time": "2023-05-22T03:39:58.824Z"
   },
   {
    "duration": 17,
    "start_time": "2023-05-22T03:39:58.837Z"
   },
   {
    "duration": 9,
    "start_time": "2023-05-22T03:39:58.855Z"
   },
   {
    "duration": 8,
    "start_time": "2023-05-22T03:39:58.866Z"
   },
   {
    "duration": 113,
    "start_time": "2023-05-22T03:39:58.875Z"
   },
   {
    "duration": 6,
    "start_time": "2023-05-22T03:39:58.990Z"
   },
   {
    "duration": 18,
    "start_time": "2023-05-22T03:39:58.998Z"
   },
   {
    "duration": 9,
    "start_time": "2023-05-22T03:39:59.025Z"
   },
   {
    "duration": 24,
    "start_time": "2023-05-22T03:39:59.035Z"
   },
   {
    "duration": 20,
    "start_time": "2023-05-22T03:39:59.062Z"
   },
   {
    "duration": 15,
    "start_time": "2023-05-22T03:39:59.083Z"
   },
   {
    "duration": 26,
    "start_time": "2023-05-22T03:39:59.100Z"
   },
   {
    "duration": 7,
    "start_time": "2023-05-22T03:39:59.127Z"
   },
   {
    "duration": 15,
    "start_time": "2023-05-22T03:39:59.136Z"
   },
   {
    "duration": 43,
    "start_time": "2023-05-22T03:39:59.153Z"
   },
   {
    "duration": 170,
    "start_time": "2023-05-22T03:39:59.198Z"
   },
   {
    "duration": 128,
    "start_time": "2023-05-22T03:39:59.369Z"
   },
   {
    "duration": 10,
    "start_time": "2023-05-22T03:39:59.499Z"
   },
   {
    "duration": 30,
    "start_time": "2023-05-22T03:39:59.512Z"
   },
   {
    "duration": 20,
    "start_time": "2023-05-22T03:39:59.544Z"
   },
   {
    "duration": 215,
    "start_time": "2023-05-22T03:39:59.565Z"
   },
   {
    "duration": 6,
    "start_time": "2023-05-22T03:39:59.787Z"
   },
   {
    "duration": 18,
    "start_time": "2023-05-22T03:39:59.795Z"
   },
   {
    "duration": 25,
    "start_time": "2023-05-22T03:39:59.824Z"
   },
   {
    "duration": 290,
    "start_time": "2023-05-22T03:39:59.851Z"
   },
   {
    "duration": 16,
    "start_time": "2023-05-22T03:40:00.143Z"
   },
   {
    "duration": 27,
    "start_time": "2023-05-22T03:40:00.161Z"
   },
   {
    "duration": 46,
    "start_time": "2023-05-22T03:40:00.189Z"
   },
   {
    "duration": 336,
    "start_time": "2023-05-22T03:40:00.238Z"
   },
   {
    "duration": 24,
    "start_time": "2023-05-22T03:40:00.576Z"
   },
   {
    "duration": 26,
    "start_time": "2023-05-22T03:40:00.602Z"
   },
   {
    "duration": 37,
    "start_time": "2023-05-22T03:40:00.630Z"
   },
   {
    "duration": 43,
    "start_time": "2023-05-22T03:40:00.669Z"
   },
   {
    "duration": 48,
    "start_time": "2023-05-22T03:40:00.715Z"
   },
   {
    "duration": 45,
    "start_time": "2023-05-22T03:40:00.765Z"
   },
   {
    "duration": 424,
    "start_time": "2023-05-22T03:40:00.812Z"
   },
   {
    "duration": 21,
    "start_time": "2023-05-22T03:40:01.238Z"
   },
   {
    "duration": 100,
    "start_time": "2023-05-22T03:40:01.261Z"
   },
   {
    "duration": 327,
    "start_time": "2023-05-22T03:40:01.364Z"
   },
   {
    "duration": 31,
    "start_time": "2023-05-22T03:40:01.693Z"
   },
   {
    "duration": 316,
    "start_time": "2023-05-22T03:40:01.727Z"
   },
   {
    "duration": 303,
    "start_time": "2023-05-22T03:40:02.044Z"
   },
   {
    "duration": 876,
    "start_time": "2023-05-22T03:40:02.349Z"
   },
   {
    "duration": 20,
    "start_time": "2023-05-22T03:40:03.227Z"
   },
   {
    "duration": 217,
    "start_time": "2023-05-22T03:40:03.249Z"
   },
   {
    "duration": 8,
    "start_time": "2023-05-22T03:40:03.467Z"
   },
   {
    "duration": 14,
    "start_time": "2023-05-22T03:40:03.476Z"
   },
   {
    "duration": 12,
    "start_time": "2023-05-22T03:40:03.491Z"
   },
   {
    "duration": 37,
    "start_time": "2023-05-22T03:40:03.504Z"
   },
   {
    "duration": 8,
    "start_time": "2023-05-22T03:41:06.154Z"
   },
   {
    "duration": 122,
    "start_time": "2023-05-22T03:42:08.777Z"
   },
   {
    "duration": 157,
    "start_time": "2023-05-22T03:42:13.869Z"
   },
   {
    "duration": 148,
    "start_time": "2023-05-22T03:42:38.739Z"
   },
   {
    "duration": 50,
    "start_time": "2023-05-22T03:43:34.731Z"
   },
   {
    "duration": 293,
    "start_time": "2023-05-22T03:44:12.826Z"
   },
   {
    "duration": 158,
    "start_time": "2023-05-22T03:44:33.411Z"
   },
   {
    "duration": 9,
    "start_time": "2023-05-22T03:45:23.083Z"
   },
   {
    "duration": 150,
    "start_time": "2023-05-22T03:46:03.441Z"
   },
   {
    "duration": 5,
    "start_time": "2023-05-22T03:46:14.353Z"
   },
   {
    "duration": 98,
    "start_time": "2023-05-22T03:46:43.547Z"
   },
   {
    "duration": 95,
    "start_time": "2023-05-22T03:46:57.195Z"
   },
   {
    "duration": 12,
    "start_time": "2023-05-22T03:52:20.572Z"
   },
   {
    "duration": 195,
    "start_time": "2023-05-22T03:52:39.886Z"
   },
   {
    "duration": 1248,
    "start_time": "2023-05-22T03:53:04.995Z"
   },
   {
    "duration": 6,
    "start_time": "2023-05-22T03:53:39.544Z"
   },
   {
    "duration": 4,
    "start_time": "2023-05-22T03:54:10.801Z"
   },
   {
    "duration": 7,
    "start_time": "2023-05-22T03:54:14.832Z"
   },
   {
    "duration": 6,
    "start_time": "2023-05-22T03:54:28.139Z"
   },
   {
    "duration": 7,
    "start_time": "2023-05-22T03:54:32.381Z"
   },
   {
    "duration": 5,
    "start_time": "2023-05-22T04:01:52.750Z"
   },
   {
    "duration": 183,
    "start_time": "2023-05-22T04:02:29.454Z"
   },
   {
    "duration": 127,
    "start_time": "2023-05-22T04:02:36.948Z"
   },
   {
    "duration": 1289,
    "start_time": "2023-05-22T04:02:48.785Z"
   },
   {
    "duration": 7,
    "start_time": "2023-05-22T04:02:59.794Z"
   },
   {
    "duration": 7,
    "start_time": "2023-05-22T04:03:09.817Z"
   },
   {
    "duration": 5,
    "start_time": "2023-05-22T04:03:37.037Z"
   },
   {
    "duration": 5,
    "start_time": "2023-05-22T04:03:55.240Z"
   },
   {
    "duration": 14,
    "start_time": "2023-05-22T04:04:02.070Z"
   },
   {
    "duration": 11,
    "start_time": "2023-05-22T04:04:08.052Z"
   },
   {
    "duration": 13,
    "start_time": "2023-05-22T04:04:19.853Z"
   },
   {
    "duration": 15,
    "start_time": "2023-05-22T04:04:21.852Z"
   },
   {
    "duration": 1136,
    "start_time": "2023-05-22T04:04:28.432Z"
   },
   {
    "duration": 3,
    "start_time": "2023-05-22T04:04:29.570Z"
   },
   {
    "duration": 70,
    "start_time": "2023-05-22T04:04:29.574Z"
   },
   {
    "duration": 32,
    "start_time": "2023-05-22T04:04:29.647Z"
   },
   {
    "duration": 18,
    "start_time": "2023-05-22T04:04:29.681Z"
   },
   {
    "duration": 10,
    "start_time": "2023-05-22T04:04:29.701Z"
   },
   {
    "duration": 7,
    "start_time": "2023-05-22T04:04:29.725Z"
   },
   {
    "duration": 15,
    "start_time": "2023-05-22T04:04:29.737Z"
   },
   {
    "duration": 6,
    "start_time": "2023-05-22T04:04:29.754Z"
   },
   {
    "duration": 23,
    "start_time": "2023-05-22T04:04:29.763Z"
   },
   {
    "duration": 191,
    "start_time": "2023-05-22T04:04:29.788Z"
   },
   {
    "duration": 7,
    "start_time": "2023-05-22T04:04:29.981Z"
   },
   {
    "duration": 10,
    "start_time": "2023-05-22T04:04:29.990Z"
   },
   {
    "duration": 28,
    "start_time": "2023-05-22T04:04:30.002Z"
   },
   {
    "duration": 40,
    "start_time": "2023-05-22T04:04:30.032Z"
   },
   {
    "duration": 42,
    "start_time": "2023-05-22T04:04:30.074Z"
   },
   {
    "duration": 41,
    "start_time": "2023-05-22T04:04:30.118Z"
   },
   {
    "duration": 19,
    "start_time": "2023-05-22T04:04:30.161Z"
   },
   {
    "duration": 47,
    "start_time": "2023-05-22T04:04:30.182Z"
   },
   {
    "duration": 29,
    "start_time": "2023-05-22T04:04:30.231Z"
   },
   {
    "duration": 19,
    "start_time": "2023-05-22T04:04:30.262Z"
   },
   {
    "duration": 188,
    "start_time": "2023-05-22T04:04:30.283Z"
   },
   {
    "duration": 13,
    "start_time": "2023-05-22T04:04:30.473Z"
   },
   {
    "duration": 210,
    "start_time": "2023-05-22T04:04:30.487Z"
   },
   {
    "duration": 9,
    "start_time": "2023-05-22T04:04:30.699Z"
   },
   {
    "duration": 17,
    "start_time": "2023-05-22T04:04:30.724Z"
   },
   {
    "duration": 22,
    "start_time": "2023-05-22T04:04:30.743Z"
   },
   {
    "duration": 240,
    "start_time": "2023-05-22T04:04:30.772Z"
   },
   {
    "duration": 11,
    "start_time": "2023-05-22T04:04:31.015Z"
   },
   {
    "duration": 23,
    "start_time": "2023-05-22T04:04:31.027Z"
   },
   {
    "duration": 37,
    "start_time": "2023-05-22T04:04:31.053Z"
   },
   {
    "duration": 332,
    "start_time": "2023-05-22T04:04:31.092Z"
   },
   {
    "duration": 12,
    "start_time": "2023-05-22T04:04:31.426Z"
   },
   {
    "duration": 28,
    "start_time": "2023-05-22T04:04:31.440Z"
   },
   {
    "duration": 25,
    "start_time": "2023-05-22T04:04:31.470Z"
   },
   {
    "duration": 326,
    "start_time": "2023-05-22T04:04:31.497Z"
   },
   {
    "duration": 29,
    "start_time": "2023-05-22T04:04:31.825Z"
   },
   {
    "duration": 18,
    "start_time": "2023-05-22T04:04:31.856Z"
   },
   {
    "duration": 23,
    "start_time": "2023-05-22T04:04:31.876Z"
   },
   {
    "duration": 54,
    "start_time": "2023-05-22T04:04:31.901Z"
   },
   {
    "duration": 24,
    "start_time": "2023-05-22T04:04:31.957Z"
   },
   {
    "duration": 55,
    "start_time": "2023-05-22T04:04:31.983Z"
   },
   {
    "duration": 394,
    "start_time": "2023-05-22T04:04:32.040Z"
   },
   {
    "duration": 31,
    "start_time": "2023-05-22T04:04:32.437Z"
   },
   {
    "duration": 26,
    "start_time": "2023-05-22T04:04:32.470Z"
   },
   {
    "duration": 330,
    "start_time": "2023-05-22T04:04:32.498Z"
   },
   {
    "duration": 22,
    "start_time": "2023-05-22T04:04:32.830Z"
   },
   {
    "duration": 774,
    "start_time": "2023-05-22T04:04:32.854Z"
   },
   {
    "duration": 911,
    "start_time": "2023-05-22T04:04:33.631Z"
   },
   {
    "duration": 1184,
    "start_time": "2023-05-22T04:04:34.544Z"
   },
   {
    "duration": 14,
    "start_time": "2023-05-22T04:04:35.730Z"
   },
   {
    "duration": 191,
    "start_time": "2023-05-22T04:04:35.747Z"
   },
   {
    "duration": 8,
    "start_time": "2023-05-22T04:04:35.940Z"
   },
   {
    "duration": 19,
    "start_time": "2023-05-22T04:04:35.950Z"
   },
   {
    "duration": 14,
    "start_time": "2023-05-22T04:04:35.971Z"
   },
   {
    "duration": 16,
    "start_time": "2023-05-22T04:04:35.987Z"
   },
   {
    "duration": 14,
    "start_time": "2023-05-22T04:05:08.838Z"
   },
   {
    "duration": 444,
    "start_time": "2023-05-22T04:07:10.234Z"
   },
   {
    "duration": 19,
    "start_time": "2023-05-22T04:07:28.630Z"
   },
   {
    "duration": 1243,
    "start_time": "2023-05-22T04:07:36.415Z"
   },
   {
    "duration": 4,
    "start_time": "2023-05-22T04:07:37.661Z"
   },
   {
    "duration": 96,
    "start_time": "2023-05-22T04:07:37.667Z"
   },
   {
    "duration": 25,
    "start_time": "2023-05-22T04:07:37.765Z"
   },
   {
    "duration": 13,
    "start_time": "2023-05-22T04:07:37.794Z"
   },
   {
    "duration": 23,
    "start_time": "2023-05-22T04:07:37.808Z"
   },
   {
    "duration": 28,
    "start_time": "2023-05-22T04:07:37.832Z"
   },
   {
    "duration": 22,
    "start_time": "2023-05-22T04:07:37.862Z"
   },
   {
    "duration": 14,
    "start_time": "2023-05-22T04:07:37.886Z"
   },
   {
    "duration": 22,
    "start_time": "2023-05-22T04:07:37.902Z"
   },
   {
    "duration": 130,
    "start_time": "2023-05-22T04:07:37.926Z"
   },
   {
    "duration": 6,
    "start_time": "2023-05-22T04:07:38.059Z"
   },
   {
    "duration": 41,
    "start_time": "2023-05-22T04:07:38.067Z"
   },
   {
    "duration": 26,
    "start_time": "2023-05-22T04:07:38.113Z"
   },
   {
    "duration": 27,
    "start_time": "2023-05-22T04:07:38.141Z"
   },
   {
    "duration": 76,
    "start_time": "2023-05-22T04:07:38.170Z"
   },
   {
    "duration": 16,
    "start_time": "2023-05-22T04:07:38.248Z"
   },
   {
    "duration": 36,
    "start_time": "2023-05-22T04:07:38.266Z"
   },
   {
    "duration": 29,
    "start_time": "2023-05-22T04:07:38.303Z"
   },
   {
    "duration": 13,
    "start_time": "2023-05-22T04:07:38.334Z"
   },
   {
    "duration": 23,
    "start_time": "2023-05-22T04:07:38.349Z"
   },
   {
    "duration": 183,
    "start_time": "2023-05-22T04:07:38.374Z"
   },
   {
    "duration": 5,
    "start_time": "2023-05-22T04:07:38.560Z"
   },
   {
    "duration": 150,
    "start_time": "2023-05-22T04:07:38.567Z"
   },
   {
    "duration": 9,
    "start_time": "2023-05-22T04:07:38.720Z"
   },
   {
    "duration": 24,
    "start_time": "2023-05-22T04:07:38.731Z"
   },
   {
    "duration": 27,
    "start_time": "2023-05-22T04:07:38.757Z"
   },
   {
    "duration": 242,
    "start_time": "2023-05-22T04:07:38.786Z"
   },
   {
    "duration": 5,
    "start_time": "2023-05-22T04:07:39.031Z"
   },
   {
    "duration": 33,
    "start_time": "2023-05-22T04:07:39.038Z"
   },
   {
    "duration": 18,
    "start_time": "2023-05-22T04:07:39.073Z"
   },
   {
    "duration": 358,
    "start_time": "2023-05-22T04:07:39.092Z"
   },
   {
    "duration": 12,
    "start_time": "2023-05-22T04:07:39.453Z"
   },
   {
    "duration": 15,
    "start_time": "2023-05-22T04:07:39.466Z"
   },
   {
    "duration": 44,
    "start_time": "2023-05-22T04:07:39.482Z"
   },
   {
    "duration": 613,
    "start_time": "2023-05-22T04:07:39.527Z"
   },
   {
    "duration": 21,
    "start_time": "2023-05-22T04:07:40.142Z"
   },
   {
    "duration": 71,
    "start_time": "2023-05-22T04:07:40.165Z"
   },
   {
    "duration": 31,
    "start_time": "2023-05-22T04:07:40.237Z"
   },
   {
    "duration": 81,
    "start_time": "2023-05-22T04:07:40.270Z"
   },
   {
    "duration": 76,
    "start_time": "2023-05-22T04:07:40.355Z"
   },
   {
    "duration": 22,
    "start_time": "2023-05-22T04:07:40.433Z"
   },
   {
    "duration": 793,
    "start_time": "2023-05-22T04:07:40.457Z"
   },
   {
    "duration": 75,
    "start_time": "2023-05-22T04:07:41.252Z"
   },
   {
    "duration": 26,
    "start_time": "2023-05-22T04:07:41.329Z"
   },
   {
    "duration": 586,
    "start_time": "2023-05-22T04:07:41.357Z"
   },
   {
    "duration": 79,
    "start_time": "2023-05-22T04:07:41.945Z"
   },
   {
    "duration": 554,
    "start_time": "2023-05-22T04:07:42.027Z"
   },
   {
    "duration": 332,
    "start_time": "2023-05-22T04:07:42.583Z"
   },
   {
    "duration": 966,
    "start_time": "2023-05-22T04:07:42.917Z"
   },
   {
    "duration": 16,
    "start_time": "2023-05-22T04:07:43.885Z"
   },
   {
    "duration": 209,
    "start_time": "2023-05-22T04:07:43.903Z"
   },
   {
    "duration": 15,
    "start_time": "2023-05-22T04:07:44.113Z"
   },
   {
    "duration": 33,
    "start_time": "2023-05-22T04:07:44.130Z"
   },
   {
    "duration": 36,
    "start_time": "2023-05-22T04:07:44.167Z"
   },
   {
    "duration": 22,
    "start_time": "2023-05-22T04:07:44.205Z"
   },
   {
    "duration": 10,
    "start_time": "2023-05-22T04:07:56.105Z"
   },
   {
    "duration": 232,
    "start_time": "2023-05-22T04:08:03.726Z"
   },
   {
    "duration": 695,
    "start_time": "2023-05-22T04:08:16.566Z"
   },
   {
    "duration": 143,
    "start_time": "2023-05-22T04:08:24.131Z"
   },
   {
    "duration": 183,
    "start_time": "2023-05-22T04:08:42.934Z"
   },
   {
    "duration": 169,
    "start_time": "2023-05-22T04:08:55.893Z"
   },
   {
    "duration": 156,
    "start_time": "2023-05-22T04:09:10.704Z"
   },
   {
    "duration": 293,
    "start_time": "2023-05-22T04:09:30.973Z"
   },
   {
    "duration": 1301,
    "start_time": "2023-05-22T04:09:43.119Z"
   },
   {
    "duration": 3,
    "start_time": "2023-05-22T04:09:44.425Z"
   },
   {
    "duration": 79,
    "start_time": "2023-05-22T04:09:44.430Z"
   },
   {
    "duration": 27,
    "start_time": "2023-05-22T04:09:44.511Z"
   },
   {
    "duration": 12,
    "start_time": "2023-05-22T04:09:44.542Z"
   },
   {
    "duration": 18,
    "start_time": "2023-05-22T04:09:44.556Z"
   },
   {
    "duration": 14,
    "start_time": "2023-05-22T04:09:44.576Z"
   },
   {
    "duration": 9,
    "start_time": "2023-05-22T04:09:44.592Z"
   },
   {
    "duration": 26,
    "start_time": "2023-05-22T04:09:44.603Z"
   },
   {
    "duration": 12,
    "start_time": "2023-05-22T04:09:44.630Z"
   },
   {
    "duration": 150,
    "start_time": "2023-05-22T04:09:44.644Z"
   },
   {
    "duration": 9,
    "start_time": "2023-05-22T04:09:44.796Z"
   },
   {
    "duration": 21,
    "start_time": "2023-05-22T04:09:44.807Z"
   },
   {
    "duration": 19,
    "start_time": "2023-05-22T04:09:44.833Z"
   },
   {
    "duration": 17,
    "start_time": "2023-05-22T04:09:44.855Z"
   },
   {
    "duration": 57,
    "start_time": "2023-05-22T04:09:44.877Z"
   },
   {
    "duration": 22,
    "start_time": "2023-05-22T04:09:44.936Z"
   },
   {
    "duration": 85,
    "start_time": "2023-05-22T04:09:44.961Z"
   },
   {
    "duration": 18,
    "start_time": "2023-05-22T04:09:45.052Z"
   },
   {
    "duration": 25,
    "start_time": "2023-05-22T04:09:45.072Z"
   },
   {
    "duration": 13,
    "start_time": "2023-05-22T04:09:45.100Z"
   },
   {
    "duration": 214,
    "start_time": "2023-05-22T04:09:45.115Z"
   },
   {
    "duration": 9,
    "start_time": "2023-05-22T04:09:45.331Z"
   },
   {
    "duration": 186,
    "start_time": "2023-05-22T04:09:45.342Z"
   },
   {
    "duration": 9,
    "start_time": "2023-05-22T04:09:45.530Z"
   },
   {
    "duration": 41,
    "start_time": "2023-05-22T04:09:45.541Z"
   },
   {
    "duration": 10,
    "start_time": "2023-05-22T04:09:45.584Z"
   },
   {
    "duration": 217,
    "start_time": "2023-05-22T04:09:45.595Z"
   },
   {
    "duration": 13,
    "start_time": "2023-05-22T04:09:45.814Z"
   },
   {
    "duration": 19,
    "start_time": "2023-05-22T04:09:45.829Z"
   },
   {
    "duration": 20,
    "start_time": "2023-05-22T04:09:45.850Z"
   },
   {
    "duration": 340,
    "start_time": "2023-05-22T04:09:45.872Z"
   },
   {
    "duration": 16,
    "start_time": "2023-05-22T04:09:46.214Z"
   },
   {
    "duration": 15,
    "start_time": "2023-05-22T04:09:46.231Z"
   },
   {
    "duration": 21,
    "start_time": "2023-05-22T04:09:46.248Z"
   },
   {
    "duration": 367,
    "start_time": "2023-05-22T04:09:46.271Z"
   },
   {
    "duration": 24,
    "start_time": "2023-05-22T04:09:46.640Z"
   },
   {
    "duration": 9,
    "start_time": "2023-05-22T04:09:46.666Z"
   },
   {
    "duration": 49,
    "start_time": "2023-05-22T04:09:46.676Z"
   },
   {
    "duration": 23,
    "start_time": "2023-05-22T04:09:46.727Z"
   },
   {
    "duration": 21,
    "start_time": "2023-05-22T04:09:46.754Z"
   },
   {
    "duration": 58,
    "start_time": "2023-05-22T04:09:46.777Z"
   },
   {
    "duration": 424,
    "start_time": "2023-05-22T04:09:46.837Z"
   },
   {
    "duration": 27,
    "start_time": "2023-05-22T04:09:47.264Z"
   },
   {
    "duration": 40,
    "start_time": "2023-05-22T04:09:47.293Z"
   },
   {
    "duration": 317,
    "start_time": "2023-05-22T04:09:47.335Z"
   },
   {
    "duration": 26,
    "start_time": "2023-05-22T04:09:47.654Z"
   },
   {
    "duration": 329,
    "start_time": "2023-05-22T04:09:47.682Z"
   },
   {
    "duration": 306,
    "start_time": "2023-05-22T04:09:48.013Z"
   },
   {
    "duration": 855,
    "start_time": "2023-05-22T04:09:48.324Z"
   },
   {
    "duration": 15,
    "start_time": "2023-05-22T04:09:49.181Z"
   },
   {
    "duration": 213,
    "start_time": "2023-05-22T04:09:49.198Z"
   },
   {
    "duration": 13,
    "start_time": "2023-05-22T04:09:49.413Z"
   },
   {
    "duration": 20,
    "start_time": "2023-05-22T04:09:49.428Z"
   },
   {
    "duration": 13,
    "start_time": "2023-05-22T04:09:49.450Z"
   },
   {
    "duration": 15,
    "start_time": "2023-05-22T04:09:49.465Z"
   },
   {
    "duration": 112,
    "start_time": "2023-05-22T04:10:45.358Z"
   },
   {
    "duration": 238,
    "start_time": "2023-05-22T04:10:49.357Z"
   },
   {
    "duration": 148,
    "start_time": "2023-05-22T04:12:37.746Z"
   },
   {
    "duration": 158,
    "start_time": "2023-05-22T04:12:48.116Z"
   },
   {
    "duration": 18,
    "start_time": "2023-05-22T04:13:41.040Z"
   },
   {
    "duration": 209,
    "start_time": "2023-05-22T04:13:52.011Z"
   },
   {
    "duration": 154,
    "start_time": "2023-05-22T04:14:13.180Z"
   },
   {
    "duration": 119,
    "start_time": "2023-05-22T04:14:41.057Z"
   },
   {
    "duration": 232,
    "start_time": "2023-05-22T04:16:31.827Z"
   },
   {
    "duration": 137,
    "start_time": "2023-05-22T04:17:32.162Z"
   },
   {
    "duration": 128,
    "start_time": "2023-05-22T04:17:36.574Z"
   },
   {
    "duration": 148,
    "start_time": "2023-05-22T04:17:49.806Z"
   },
   {
    "duration": 151,
    "start_time": "2023-05-22T04:17:55.506Z"
   },
   {
    "duration": 179,
    "start_time": "2023-05-22T04:17:59.164Z"
   },
   {
    "duration": 149,
    "start_time": "2023-05-22T04:18:04.328Z"
   },
   {
    "duration": 145,
    "start_time": "2023-05-22T04:19:00.650Z"
   },
   {
    "duration": 196,
    "start_time": "2023-05-22T04:19:08.044Z"
   },
   {
    "duration": 150,
    "start_time": "2023-05-22T04:21:07.452Z"
   },
   {
    "duration": 354,
    "start_time": "2023-05-22T04:21:47.967Z"
   },
   {
    "duration": 120,
    "start_time": "2023-05-22T04:24:00.735Z"
   },
   {
    "duration": 97,
    "start_time": "2023-05-22T04:24:28.177Z"
   },
   {
    "duration": 109,
    "start_time": "2023-05-22T04:24:36.340Z"
   },
   {
    "duration": 106,
    "start_time": "2023-05-22T04:24:41.100Z"
   },
   {
    "duration": 102,
    "start_time": "2023-05-22T04:25:00.070Z"
   },
   {
    "duration": 126,
    "start_time": "2023-05-22T04:29:40.429Z"
   },
   {
    "duration": 107,
    "start_time": "2023-05-22T04:29:49.051Z"
   },
   {
    "duration": 229,
    "start_time": "2023-05-22T04:29:51.630Z"
   },
   {
    "duration": 230,
    "start_time": "2023-05-22T04:29:55.170Z"
   },
   {
    "duration": 263,
    "start_time": "2023-05-22T04:31:25.103Z"
   },
   {
    "duration": 18,
    "start_time": "2023-05-22T04:52:22.426Z"
   },
   {
    "duration": 24,
    "start_time": "2023-05-22T04:53:55.105Z"
   },
   {
    "duration": 26,
    "start_time": "2023-05-22T04:54:10.930Z"
   },
   {
    "duration": 1159,
    "start_time": "2023-05-22T04:54:16.268Z"
   },
   {
    "duration": 4,
    "start_time": "2023-05-22T04:54:17.429Z"
   },
   {
    "duration": 90,
    "start_time": "2023-05-22T04:54:17.435Z"
   },
   {
    "duration": 35,
    "start_time": "2023-05-22T04:54:17.528Z"
   },
   {
    "duration": 61,
    "start_time": "2023-05-22T04:54:17.565Z"
   },
   {
    "duration": 9,
    "start_time": "2023-05-22T04:54:17.628Z"
   },
   {
    "duration": 30,
    "start_time": "2023-05-22T04:54:17.639Z"
   },
   {
    "duration": 34,
    "start_time": "2023-05-22T04:54:17.671Z"
   },
   {
    "duration": 45,
    "start_time": "2023-05-22T04:54:17.707Z"
   },
   {
    "duration": 34,
    "start_time": "2023-05-22T04:54:17.755Z"
   },
   {
    "duration": 241,
    "start_time": "2023-05-22T04:54:17.792Z"
   },
   {
    "duration": 7,
    "start_time": "2023-05-22T04:54:18.035Z"
   },
   {
    "duration": 19,
    "start_time": "2023-05-22T04:54:18.044Z"
   },
   {
    "duration": 14,
    "start_time": "2023-05-22T04:54:18.066Z"
   },
   {
    "duration": 29,
    "start_time": "2023-05-22T04:54:18.082Z"
   },
   {
    "duration": 20,
    "start_time": "2023-05-22T04:54:18.113Z"
   },
   {
    "duration": 8,
    "start_time": "2023-05-22T04:54:18.135Z"
   },
   {
    "duration": 21,
    "start_time": "2023-05-22T04:54:18.145Z"
   },
   {
    "duration": 31,
    "start_time": "2023-05-22T04:54:18.168Z"
   },
   {
    "duration": 15,
    "start_time": "2023-05-22T04:54:18.201Z"
   },
   {
    "duration": 21,
    "start_time": "2023-05-22T04:54:18.218Z"
   },
   {
    "duration": 167,
    "start_time": "2023-05-22T04:54:18.241Z"
   },
   {
    "duration": 17,
    "start_time": "2023-05-22T04:54:18.411Z"
   },
   {
    "duration": 217,
    "start_time": "2023-05-22T04:54:18.430Z"
   },
   {
    "duration": 134,
    "start_time": "2023-05-22T04:54:18.649Z"
   },
   {
    "duration": 9,
    "start_time": "2023-05-22T04:54:18.785Z"
   },
   {
    "duration": 42,
    "start_time": "2023-05-22T04:54:18.796Z"
   },
   {
    "duration": 24,
    "start_time": "2023-05-22T04:54:18.842Z"
   },
   {
    "duration": 244,
    "start_time": "2023-05-22T04:54:18.868Z"
   },
   {
    "duration": 16,
    "start_time": "2023-05-22T04:54:19.114Z"
   },
   {
    "duration": 25,
    "start_time": "2023-05-22T04:54:19.132Z"
   },
   {
    "duration": 29,
    "start_time": "2023-05-22T04:54:19.159Z"
   },
   {
    "duration": 348,
    "start_time": "2023-05-22T04:54:19.190Z"
   },
   {
    "duration": 14,
    "start_time": "2023-05-22T04:54:19.540Z"
   },
   {
    "duration": 23,
    "start_time": "2023-05-22T04:54:19.556Z"
   },
   {
    "duration": 47,
    "start_time": "2023-05-22T04:54:19.582Z"
   },
   {
    "duration": 303,
    "start_time": "2023-05-22T04:54:19.631Z"
   },
   {
    "duration": 294,
    "start_time": "2023-05-22T04:54:19.936Z"
   },
   {
    "duration": 21,
    "start_time": "2023-05-22T04:54:20.232Z"
   },
   {
    "duration": 12,
    "start_time": "2023-05-22T04:54:20.255Z"
   },
   {
    "duration": 39,
    "start_time": "2023-05-22T04:54:20.269Z"
   },
   {
    "duration": 36,
    "start_time": "2023-05-22T04:54:20.310Z"
   },
   {
    "duration": 40,
    "start_time": "2023-05-22T04:54:20.348Z"
   },
   {
    "duration": 34,
    "start_time": "2023-05-22T04:54:20.390Z"
   },
   {
    "duration": 304,
    "start_time": "2023-05-22T04:54:20.426Z"
   },
   {
    "duration": 29,
    "start_time": "2023-05-22T04:54:20.732Z"
   },
   {
    "duration": 24,
    "start_time": "2023-05-22T04:54:20.763Z"
   },
   {
    "duration": 324,
    "start_time": "2023-05-22T04:54:20.789Z"
   },
   {
    "duration": 32,
    "start_time": "2023-05-22T04:54:21.117Z"
   },
   {
    "duration": 326,
    "start_time": "2023-05-22T04:54:21.151Z"
   },
   {
    "duration": 302,
    "start_time": "2023-05-22T04:54:21.480Z"
   },
   {
    "duration": 797,
    "start_time": "2023-05-22T04:54:21.783Z"
   },
   {
    "duration": 19,
    "start_time": "2023-05-22T04:54:22.581Z"
   },
   {
    "duration": 302,
    "start_time": "2023-05-22T04:54:22.602Z"
   },
   {
    "duration": 20,
    "start_time": "2023-05-22T04:54:22.905Z"
   },
   {
    "duration": 20,
    "start_time": "2023-05-22T04:54:22.927Z"
   },
   {
    "duration": 30,
    "start_time": "2023-05-22T04:54:22.949Z"
   },
   {
    "duration": 18,
    "start_time": "2023-05-22T04:54:22.981Z"
   },
   {
    "duration": 13,
    "start_time": "2023-05-22T05:25:14.979Z"
   },
   {
    "duration": 11,
    "start_time": "2023-05-22T05:25:20.984Z"
   },
   {
    "duration": 9,
    "start_time": "2023-05-22T05:38:57.442Z"
   },
   {
    "duration": 11,
    "start_time": "2023-05-22T05:39:17.030Z"
   },
   {
    "duration": 170,
    "start_time": "2023-05-22T05:42:23.214Z"
   },
   {
    "duration": 12,
    "start_time": "2023-05-22T05:42:30.387Z"
   },
   {
    "duration": 11,
    "start_time": "2023-05-22T05:42:39.853Z"
   },
   {
    "duration": 1129,
    "start_time": "2023-05-22T10:35:49.008Z"
   },
   {
    "duration": 3,
    "start_time": "2023-05-22T10:35:50.139Z"
   },
   {
    "duration": 74,
    "start_time": "2023-05-22T10:35:50.143Z"
   },
   {
    "duration": 21,
    "start_time": "2023-05-22T10:35:50.219Z"
   },
   {
    "duration": 20,
    "start_time": "2023-05-22T10:35:50.242Z"
   },
   {
    "duration": 10,
    "start_time": "2023-05-22T10:35:50.263Z"
   },
   {
    "duration": 15,
    "start_time": "2023-05-22T10:35:50.274Z"
   },
   {
    "duration": 23,
    "start_time": "2023-05-22T10:35:50.290Z"
   },
   {
    "duration": 31,
    "start_time": "2023-05-22T10:35:50.315Z"
   },
   {
    "duration": 35,
    "start_time": "2023-05-22T10:35:50.348Z"
   },
   {
    "duration": 110,
    "start_time": "2023-05-22T10:35:50.385Z"
   },
   {
    "duration": 7,
    "start_time": "2023-05-22T10:35:50.496Z"
   },
   {
    "duration": 17,
    "start_time": "2023-05-22T10:35:50.505Z"
   },
   {
    "duration": 13,
    "start_time": "2023-05-22T10:35:50.526Z"
   },
   {
    "duration": 20,
    "start_time": "2023-05-22T10:35:50.541Z"
   },
   {
    "duration": 34,
    "start_time": "2023-05-22T10:35:50.563Z"
   },
   {
    "duration": 12,
    "start_time": "2023-05-22T10:35:50.599Z"
   },
   {
    "duration": 17,
    "start_time": "2023-05-22T10:35:50.613Z"
   },
   {
    "duration": 21,
    "start_time": "2023-05-22T10:35:50.632Z"
   },
   {
    "duration": 15,
    "start_time": "2023-05-22T10:35:50.655Z"
   },
   {
    "duration": 14,
    "start_time": "2023-05-22T10:35:50.671Z"
   },
   {
    "duration": 145,
    "start_time": "2023-05-22T10:35:50.687Z"
   },
   {
    "duration": 10,
    "start_time": "2023-05-22T10:35:50.834Z"
   },
   {
    "duration": 197,
    "start_time": "2023-05-22T10:35:50.845Z"
   },
   {
    "duration": 123,
    "start_time": "2023-05-22T10:35:51.044Z"
   },
   {
    "duration": 6,
    "start_time": "2023-05-22T10:35:51.169Z"
   },
   {
    "duration": 10,
    "start_time": "2023-05-22T10:35:51.177Z"
   },
   {
    "duration": 13,
    "start_time": "2023-05-22T10:35:51.188Z"
   },
   {
    "duration": 192,
    "start_time": "2023-05-22T10:35:51.202Z"
   },
   {
    "duration": 4,
    "start_time": "2023-05-22T10:35:51.396Z"
   },
   {
    "duration": 28,
    "start_time": "2023-05-22T10:35:51.402Z"
   },
   {
    "duration": 20,
    "start_time": "2023-05-22T10:35:51.432Z"
   },
   {
    "duration": 258,
    "start_time": "2023-05-22T10:35:51.454Z"
   },
   {
    "duration": 11,
    "start_time": "2023-05-22T10:35:51.713Z"
   },
   {
    "duration": 13,
    "start_time": "2023-05-22T10:35:51.726Z"
   },
   {
    "duration": 17,
    "start_time": "2023-05-22T10:35:51.740Z"
   },
   {
    "duration": 278,
    "start_time": "2023-05-22T10:35:51.758Z"
   },
   {
    "duration": 254,
    "start_time": "2023-05-22T10:35:52.037Z"
   },
   {
    "duration": 32,
    "start_time": "2023-05-22T10:35:52.293Z"
   },
   {
    "duration": 7,
    "start_time": "2023-05-22T10:35:52.327Z"
   },
   {
    "duration": 23,
    "start_time": "2023-05-22T10:35:52.338Z"
   },
   {
    "duration": 22,
    "start_time": "2023-05-22T10:35:52.363Z"
   },
   {
    "duration": 36,
    "start_time": "2023-05-22T10:35:52.386Z"
   },
   {
    "duration": 21,
    "start_time": "2023-05-22T10:35:52.423Z"
   },
   {
    "duration": 255,
    "start_time": "2023-05-22T10:35:52.445Z"
   },
   {
    "duration": 23,
    "start_time": "2023-05-22T10:35:52.701Z"
   },
   {
    "duration": 21,
    "start_time": "2023-05-22T10:35:52.725Z"
   },
   {
    "duration": 251,
    "start_time": "2023-05-22T10:35:52.747Z"
   },
   {
    "duration": 23,
    "start_time": "2023-05-22T10:35:53.000Z"
   },
   {
    "duration": 245,
    "start_time": "2023-05-22T10:35:53.025Z"
   },
   {
    "duration": 254,
    "start_time": "2023-05-22T10:35:53.272Z"
   },
   {
    "duration": 894,
    "start_time": "2023-05-22T10:35:53.527Z"
   },
   {
    "duration": 14,
    "start_time": "2023-05-22T10:35:54.422Z"
   },
   {
    "duration": 272,
    "start_time": "2023-05-22T10:35:54.438Z"
   },
   {
    "duration": 12,
    "start_time": "2023-05-22T10:35:54.717Z"
   },
   {
    "duration": 33,
    "start_time": "2023-05-22T10:35:54.731Z"
   },
   {
    "duration": 22,
    "start_time": "2023-05-22T10:35:54.765Z"
   },
   {
    "duration": 53,
    "start_time": "2023-05-22T10:59:20.962Z"
   },
   {
    "duration": 1414,
    "start_time": "2023-05-22T10:59:26.954Z"
   },
   {
    "duration": 3,
    "start_time": "2023-05-22T10:59:28.371Z"
   },
   {
    "duration": 337,
    "start_time": "2023-05-22T10:59:28.375Z"
   },
   {
    "duration": 36,
    "start_time": "2023-05-22T10:59:28.714Z"
   },
   {
    "duration": 13,
    "start_time": "2023-05-22T10:59:28.753Z"
   },
   {
    "duration": 10,
    "start_time": "2023-05-22T10:59:28.767Z"
   },
   {
    "duration": 9,
    "start_time": "2023-05-22T10:59:28.779Z"
   },
   {
    "duration": 11,
    "start_time": "2023-05-22T10:59:28.789Z"
   },
   {
    "duration": 30,
    "start_time": "2023-05-22T10:59:28.802Z"
   },
   {
    "duration": 12,
    "start_time": "2023-05-22T10:59:28.839Z"
   },
   {
    "duration": 153,
    "start_time": "2023-05-22T10:59:28.852Z"
   },
   {
    "duration": 6,
    "start_time": "2023-05-22T10:59:29.007Z"
   },
   {
    "duration": 25,
    "start_time": "2023-05-22T10:59:29.014Z"
   },
   {
    "duration": 7,
    "start_time": "2023-05-22T10:59:29.043Z"
   },
   {
    "duration": 8,
    "start_time": "2023-05-22T10:59:29.052Z"
   },
   {
    "duration": 9,
    "start_time": "2023-05-22T10:59:29.062Z"
   },
   {
    "duration": 6,
    "start_time": "2023-05-22T10:59:29.072Z"
   },
   {
    "duration": 11,
    "start_time": "2023-05-22T10:59:29.079Z"
   },
   {
    "duration": 45,
    "start_time": "2023-05-22T10:59:29.092Z"
   },
   {
    "duration": 5,
    "start_time": "2023-05-22T10:59:29.139Z"
   },
   {
    "duration": 15,
    "start_time": "2023-05-22T10:59:29.145Z"
   },
   {
    "duration": 182,
    "start_time": "2023-05-22T10:59:29.161Z"
   },
   {
    "duration": 9,
    "start_time": "2023-05-22T10:59:29.345Z"
   },
   {
    "duration": 190,
    "start_time": "2023-05-22T10:59:29.355Z"
   },
   {
    "duration": 162,
    "start_time": "2023-05-22T10:59:29.547Z"
   },
   {
    "duration": 16,
    "start_time": "2023-05-22T10:59:29.711Z"
   },
   {
    "duration": 8,
    "start_time": "2023-05-22T10:59:29.739Z"
   },
   {
    "duration": 11,
    "start_time": "2023-05-22T10:59:29.750Z"
   },
   {
    "duration": 250,
    "start_time": "2023-05-22T10:59:29.763Z"
   },
   {
    "duration": 24,
    "start_time": "2023-05-22T10:59:30.016Z"
   },
   {
    "duration": 36,
    "start_time": "2023-05-22T10:59:30.042Z"
   },
   {
    "duration": 22,
    "start_time": "2023-05-22T10:59:30.080Z"
   },
   {
    "duration": 307,
    "start_time": "2023-05-22T10:59:30.103Z"
   },
   {
    "duration": 26,
    "start_time": "2023-05-22T10:59:30.412Z"
   },
   {
    "duration": 31,
    "start_time": "2023-05-22T10:59:30.440Z"
   },
   {
    "duration": 35,
    "start_time": "2023-05-22T10:59:30.473Z"
   },
   {
    "duration": 359,
    "start_time": "2023-05-22T10:59:30.511Z"
   },
   {
    "duration": 304,
    "start_time": "2023-05-22T10:59:30.872Z"
   },
   {
    "duration": 20,
    "start_time": "2023-05-22T10:59:31.178Z"
   },
   {
    "duration": 73,
    "start_time": "2023-05-22T10:59:31.200Z"
   },
   {
    "duration": 60,
    "start_time": "2023-05-22T10:59:31.276Z"
   },
   {
    "duration": 47,
    "start_time": "2023-05-22T10:59:31.338Z"
   },
   {
    "duration": 32,
    "start_time": "2023-05-22T10:59:31.387Z"
   },
   {
    "duration": 45,
    "start_time": "2023-05-22T10:59:31.420Z"
   },
   {
    "duration": 310,
    "start_time": "2023-05-22T10:59:31.467Z"
   },
   {
    "duration": 23,
    "start_time": "2023-05-22T10:59:31.779Z"
   },
   {
    "duration": 43,
    "start_time": "2023-05-22T10:59:31.804Z"
   },
   {
    "duration": 298,
    "start_time": "2023-05-22T10:59:31.849Z"
   },
   {
    "duration": 22,
    "start_time": "2023-05-22T10:59:32.149Z"
   },
   {
    "duration": 305,
    "start_time": "2023-05-22T10:59:32.172Z"
   },
   {
    "duration": 306,
    "start_time": "2023-05-22T10:59:32.478Z"
   },
   {
    "duration": 829,
    "start_time": "2023-05-22T10:59:32.785Z"
   },
   {
    "duration": 26,
    "start_time": "2023-05-22T10:59:33.615Z"
   },
   {
    "duration": 277,
    "start_time": "2023-05-22T10:59:33.642Z"
   },
   {
    "duration": 16,
    "start_time": "2023-05-22T10:59:33.920Z"
   },
   {
    "duration": 46,
    "start_time": "2023-05-22T10:59:33.938Z"
   },
   {
    "duration": 21,
    "start_time": "2023-05-22T10:59:33.986Z"
   },
   {
    "duration": 8,
    "start_time": "2023-05-22T11:01:21.668Z"
   },
   {
    "duration": 1504,
    "start_time": "2023-05-22T17:57:59.143Z"
   },
   {
    "duration": 3,
    "start_time": "2023-05-22T17:58:00.650Z"
   },
   {
    "duration": 438,
    "start_time": "2023-05-22T17:58:00.656Z"
   },
   {
    "duration": 30,
    "start_time": "2023-05-22T17:58:01.096Z"
   },
   {
    "duration": 69,
    "start_time": "2023-05-22T17:58:01.128Z"
   },
   {
    "duration": 87,
    "start_time": "2023-05-22T17:58:01.200Z"
   },
   {
    "duration": 62,
    "start_time": "2023-05-22T17:58:01.289Z"
   },
   {
    "duration": 52,
    "start_time": "2023-05-22T17:58:01.353Z"
   },
   {
    "duration": 79,
    "start_time": "2023-05-22T17:58:01.407Z"
   },
   {
    "duration": 25,
    "start_time": "2023-05-22T17:58:01.488Z"
   },
   {
    "duration": 293,
    "start_time": "2023-05-22T17:58:01.515Z"
   },
   {
    "duration": 16,
    "start_time": "2023-05-22T17:58:01.810Z"
   },
   {
    "duration": 73,
    "start_time": "2023-05-22T17:58:01.832Z"
   },
   {
    "duration": 87,
    "start_time": "2023-05-22T17:58:01.910Z"
   },
   {
    "duration": 64,
    "start_time": "2023-05-22T17:58:01.999Z"
   },
   {
    "duration": 130,
    "start_time": "2023-05-22T17:58:02.066Z"
   },
   {
    "duration": 88,
    "start_time": "2023-05-22T17:58:02.198Z"
   },
   {
    "duration": 23,
    "start_time": "2023-05-22T17:58:02.288Z"
   },
   {
    "duration": 72,
    "start_time": "2023-05-22T17:58:02.313Z"
   },
   {
    "duration": 99,
    "start_time": "2023-05-22T17:58:02.390Z"
   },
   {
    "duration": 15,
    "start_time": "2023-05-22T17:58:02.493Z"
   },
   {
    "duration": 294,
    "start_time": "2023-05-22T17:58:02.510Z"
   },
   {
    "duration": 10,
    "start_time": "2023-05-22T17:58:02.805Z"
   },
   {
    "duration": 370,
    "start_time": "2023-05-22T17:58:02.819Z"
   },
   {
    "duration": 178,
    "start_time": "2023-05-22T17:58:03.196Z"
   },
   {
    "duration": 14,
    "start_time": "2023-05-22T17:58:03.382Z"
   },
   {
    "duration": 24,
    "start_time": "2023-05-22T17:58:03.401Z"
   },
   {
    "duration": 86,
    "start_time": "2023-05-22T17:58:03.430Z"
   },
   {
    "duration": 310,
    "start_time": "2023-05-22T17:58:03.541Z"
   },
   {
    "duration": 5,
    "start_time": "2023-05-22T17:58:03.853Z"
   },
   {
    "duration": 67,
    "start_time": "2023-05-22T17:58:03.860Z"
   },
   {
    "duration": 55,
    "start_time": "2023-05-22T17:58:03.938Z"
   },
   {
    "duration": 382,
    "start_time": "2023-05-22T17:58:03.995Z"
   },
   {
    "duration": 15,
    "start_time": "2023-05-22T17:58:04.378Z"
   },
   {
    "duration": 90,
    "start_time": "2023-05-22T17:58:04.399Z"
   },
   {
    "duration": 31,
    "start_time": "2023-05-22T17:58:04.490Z"
   },
   {
    "duration": 572,
    "start_time": "2023-05-22T17:58:04.524Z"
   },
   {
    "duration": 478,
    "start_time": "2023-05-22T17:58:05.105Z"
   },
   {
    "duration": 43,
    "start_time": "2023-05-22T17:58:05.592Z"
   },
   {
    "duration": 35,
    "start_time": "2023-05-22T17:58:05.655Z"
   },
   {
    "duration": 62,
    "start_time": "2023-05-22T17:58:05.696Z"
   },
   {
    "duration": 88,
    "start_time": "2023-05-22T17:58:05.761Z"
   },
   {
    "duration": 64,
    "start_time": "2023-05-22T17:58:05.851Z"
   },
   {
    "duration": 85,
    "start_time": "2023-05-22T17:58:05.916Z"
   },
   {
    "duration": 393,
    "start_time": "2023-05-22T17:58:06.003Z"
   },
   {
    "duration": 33,
    "start_time": "2023-05-22T17:58:06.398Z"
   },
   {
    "duration": 64,
    "start_time": "2023-05-22T17:58:06.433Z"
   },
   {
    "duration": 332,
    "start_time": "2023-05-22T17:58:06.499Z"
   },
   {
    "duration": 35,
    "start_time": "2023-05-22T17:58:06.833Z"
   },
   {
    "duration": 368,
    "start_time": "2023-05-22T17:58:06.869Z"
   },
   {
    "duration": 351,
    "start_time": "2023-05-22T17:58:07.242Z"
   },
   {
    "duration": 1093,
    "start_time": "2023-05-22T17:58:07.595Z"
   },
   {
    "duration": 16,
    "start_time": "2023-05-22T17:58:08.690Z"
   },
   {
    "duration": 381,
    "start_time": "2023-05-22T17:58:08.708Z"
   },
   {
    "duration": 11,
    "start_time": "2023-05-22T17:58:09.091Z"
   },
   {
    "duration": 20,
    "start_time": "2023-05-22T17:58:09.103Z"
   },
   {
    "duration": 60,
    "start_time": "2023-05-22T17:58:09.127Z"
   },
   {
    "duration": 16,
    "start_time": "2023-05-22T17:59:28.363Z"
   },
   {
    "duration": 10,
    "start_time": "2023-05-22T17:59:38.184Z"
   },
   {
    "duration": 11,
    "start_time": "2023-05-22T18:00:06.088Z"
   },
   {
    "duration": 10,
    "start_time": "2023-05-22T18:00:09.573Z"
   },
   {
    "duration": 1759,
    "start_time": "2023-05-22T18:02:54.424Z"
   },
   {
    "duration": 13,
    "start_time": "2023-05-22T18:03:07.239Z"
   },
   {
    "duration": 10,
    "start_time": "2023-05-22T18:03:52.293Z"
   },
   {
    "duration": 10,
    "start_time": "2023-05-22T18:04:18.858Z"
   }
  ],
  "kernelspec": {
   "display_name": "Python 3 (ipykernel)",
   "language": "python",
   "name": "python3"
  },
  "language_info": {
   "codemirror_mode": {
    "name": "ipython",
    "version": 3
   },
   "file_extension": ".py",
   "mimetype": "text/x-python",
   "name": "python",
   "nbconvert_exporter": "python",
   "pygments_lexer": "ipython3",
   "version": "3.9.16"
  },
  "toc": {
   "base_numbering": 1,
   "nav_menu": {},
   "number_sections": true,
   "sideBar": true,
   "skip_h1_title": false,
   "title_cell": "Table of Contents",
   "title_sidebar": "Contents",
   "toc_cell": false,
   "toc_position": {
    "height": "calc(100% - 180px)",
    "left": "10px",
    "top": "150px",
    "width": "264px"
   },
   "toc_section_display": true,
   "toc_window_display": true
  },
  "varInspector": {
   "cols": {
    "lenName": 16,
    "lenType": 16,
    "lenVar": 40
   },
   "kernels_config": {
    "python": {
     "delete_cmd_postfix": "",
     "delete_cmd_prefix": "del ",
     "library": "var_list.py",
     "varRefreshCmd": "print(var_dic_list())"
    },
    "r": {
     "delete_cmd_postfix": ") ",
     "delete_cmd_prefix": "rm(",
     "library": "var_list.r",
     "varRefreshCmd": "cat(var_dic_list()) "
    }
   },
   "types_to_exclude": [
    "module",
    "function",
    "builtin_function_or_method",
    "instance",
    "_Feature"
   ],
   "window_display": false
  }
 },
 "nbformat": 4,
 "nbformat_minor": 5
}
