{
 "cells": [
  {
   "cell_type": "markdown",
   "id": "386f2ae7",
   "metadata": {
    "deletable": false,
    "editable": false,
    "id": "386f2ae7"
   },
   "source": [
    "# Исследование надежности заемщиков\n"
   ]
  },
  {
   "cell_type": "markdown",
   "id": "ffe86f65",
   "metadata": {
    "deletable": false,
    "editable": false,
    "id": "ffe86f65"
   },
   "source": [
    "Во второй части проекта вы выполните шаги 3 и 4. Их вручную проверит ревьюер.\n",
    "Чтобы вам не пришлось писать код заново для шагов 1 и 2, мы добавили авторские решения в ячейки с кодом. \n",
    "\n"
   ]
  },
  {
   "cell_type": "markdown",
   "id": "26613308",
   "metadata": {
    "deletable": false,
    "editable": false,
    "id": "26613308"
   },
   "source": [
    "## Откройте таблицу и изучите общую информацию о данных"
   ]
  },
  {
   "cell_type": "markdown",
   "id": "3c9f838e",
   "metadata": {
    "deletable": false,
    "editable": false,
    "id": "3c9f838e"
   },
   "source": [
    "**Задание 1. Импортируйте библиотеку pandas. Считайте данные из csv-файла в датафрейм и сохраните в переменную `data`. Путь к файлу:**\n",
    "\n",
    "`/datasets/data.csv`"
   ]
  },
  {
   "cell_type": "code",
   "execution_count": 1,
   "id": "77a68a90",
   "metadata": {
    "deletable": false,
    "id": "77a68a90"
   },
   "outputs": [],
   "source": [
    "import pandas as pd\n",
    "\n",
    "try:\n",
    "    data = pd.read_csv('/datasets/data.csv')\n",
    "except:\n",
    "    data = pd.read_csv('https://code.s3.yandex.net/datasets/data.csv')"
   ]
  },
  {
   "cell_type": "markdown",
   "id": "45365635",
   "metadata": {
    "deletable": false,
    "editable": false,
    "id": "45365635"
   },
   "source": [
    "**Задание 2. Выведите первые 20 строчек датафрейма `data` на экран.**"
   ]
  },
  {
   "cell_type": "code",
   "execution_count": 2,
   "id": "b0451a9a",
   "metadata": {
    "deletable": false,
    "id": "b0451a9a",
    "outputId": "1a8f3ef2-d323-4ec2-ddf7-89670b5944c4"
   },
   "outputs": [
    {
     "data": {
      "text/html": [
       "<div>\n",
       "<style scoped>\n",
       "    .dataframe tbody tr th:only-of-type {\n",
       "        vertical-align: middle;\n",
       "    }\n",
       "\n",
       "    .dataframe tbody tr th {\n",
       "        vertical-align: top;\n",
       "    }\n",
       "\n",
       "    .dataframe thead th {\n",
       "        text-align: right;\n",
       "    }\n",
       "</style>\n",
       "<table border=\"1\" class=\"dataframe\">\n",
       "  <thead>\n",
       "    <tr style=\"text-align: right;\">\n",
       "      <th></th>\n",
       "      <th>children</th>\n",
       "      <th>days_employed</th>\n",
       "      <th>dob_years</th>\n",
       "      <th>education</th>\n",
       "      <th>education_id</th>\n",
       "      <th>family_status</th>\n",
       "      <th>family_status_id</th>\n",
       "      <th>gender</th>\n",
       "      <th>income_type</th>\n",
       "      <th>debt</th>\n",
       "      <th>total_income</th>\n",
       "      <th>purpose</th>\n",
       "    </tr>\n",
       "  </thead>\n",
       "  <tbody>\n",
       "    <tr>\n",
       "      <th>0</th>\n",
       "      <td>1</td>\n",
       "      <td>-8437.673028</td>\n",
       "      <td>42</td>\n",
       "      <td>высшее</td>\n",
       "      <td>0</td>\n",
       "      <td>женат / замужем</td>\n",
       "      <td>0</td>\n",
       "      <td>F</td>\n",
       "      <td>сотрудник</td>\n",
       "      <td>0</td>\n",
       "      <td>253875.639453</td>\n",
       "      <td>покупка жилья</td>\n",
       "    </tr>\n",
       "    <tr>\n",
       "      <th>1</th>\n",
       "      <td>1</td>\n",
       "      <td>-4024.803754</td>\n",
       "      <td>36</td>\n",
       "      <td>среднее</td>\n",
       "      <td>1</td>\n",
       "      <td>женат / замужем</td>\n",
       "      <td>0</td>\n",
       "      <td>F</td>\n",
       "      <td>сотрудник</td>\n",
       "      <td>0</td>\n",
       "      <td>112080.014102</td>\n",
       "      <td>приобретение автомобиля</td>\n",
       "    </tr>\n",
       "    <tr>\n",
       "      <th>2</th>\n",
       "      <td>0</td>\n",
       "      <td>-5623.422610</td>\n",
       "      <td>33</td>\n",
       "      <td>Среднее</td>\n",
       "      <td>1</td>\n",
       "      <td>женат / замужем</td>\n",
       "      <td>0</td>\n",
       "      <td>M</td>\n",
       "      <td>сотрудник</td>\n",
       "      <td>0</td>\n",
       "      <td>145885.952297</td>\n",
       "      <td>покупка жилья</td>\n",
       "    </tr>\n",
       "    <tr>\n",
       "      <th>3</th>\n",
       "      <td>3</td>\n",
       "      <td>-4124.747207</td>\n",
       "      <td>32</td>\n",
       "      <td>среднее</td>\n",
       "      <td>1</td>\n",
       "      <td>женат / замужем</td>\n",
       "      <td>0</td>\n",
       "      <td>M</td>\n",
       "      <td>сотрудник</td>\n",
       "      <td>0</td>\n",
       "      <td>267628.550329</td>\n",
       "      <td>дополнительное образование</td>\n",
       "    </tr>\n",
       "    <tr>\n",
       "      <th>4</th>\n",
       "      <td>0</td>\n",
       "      <td>340266.072047</td>\n",
       "      <td>53</td>\n",
       "      <td>среднее</td>\n",
       "      <td>1</td>\n",
       "      <td>гражданский брак</td>\n",
       "      <td>1</td>\n",
       "      <td>F</td>\n",
       "      <td>пенсионер</td>\n",
       "      <td>0</td>\n",
       "      <td>158616.077870</td>\n",
       "      <td>сыграть свадьбу</td>\n",
       "    </tr>\n",
       "    <tr>\n",
       "      <th>5</th>\n",
       "      <td>0</td>\n",
       "      <td>-926.185831</td>\n",
       "      <td>27</td>\n",
       "      <td>высшее</td>\n",
       "      <td>0</td>\n",
       "      <td>гражданский брак</td>\n",
       "      <td>1</td>\n",
       "      <td>M</td>\n",
       "      <td>компаньон</td>\n",
       "      <td>0</td>\n",
       "      <td>255763.565419</td>\n",
       "      <td>покупка жилья</td>\n",
       "    </tr>\n",
       "    <tr>\n",
       "      <th>6</th>\n",
       "      <td>0</td>\n",
       "      <td>-2879.202052</td>\n",
       "      <td>43</td>\n",
       "      <td>высшее</td>\n",
       "      <td>0</td>\n",
       "      <td>женат / замужем</td>\n",
       "      <td>0</td>\n",
       "      <td>F</td>\n",
       "      <td>компаньон</td>\n",
       "      <td>0</td>\n",
       "      <td>240525.971920</td>\n",
       "      <td>операции с жильем</td>\n",
       "    </tr>\n",
       "    <tr>\n",
       "      <th>7</th>\n",
       "      <td>0</td>\n",
       "      <td>-152.779569</td>\n",
       "      <td>50</td>\n",
       "      <td>СРЕДНЕЕ</td>\n",
       "      <td>1</td>\n",
       "      <td>женат / замужем</td>\n",
       "      <td>0</td>\n",
       "      <td>M</td>\n",
       "      <td>сотрудник</td>\n",
       "      <td>0</td>\n",
       "      <td>135823.934197</td>\n",
       "      <td>образование</td>\n",
       "    </tr>\n",
       "    <tr>\n",
       "      <th>8</th>\n",
       "      <td>2</td>\n",
       "      <td>-6929.865299</td>\n",
       "      <td>35</td>\n",
       "      <td>ВЫСШЕЕ</td>\n",
       "      <td>0</td>\n",
       "      <td>гражданский брак</td>\n",
       "      <td>1</td>\n",
       "      <td>F</td>\n",
       "      <td>сотрудник</td>\n",
       "      <td>0</td>\n",
       "      <td>95856.832424</td>\n",
       "      <td>на проведение свадьбы</td>\n",
       "    </tr>\n",
       "    <tr>\n",
       "      <th>9</th>\n",
       "      <td>0</td>\n",
       "      <td>-2188.756445</td>\n",
       "      <td>41</td>\n",
       "      <td>среднее</td>\n",
       "      <td>1</td>\n",
       "      <td>женат / замужем</td>\n",
       "      <td>0</td>\n",
       "      <td>M</td>\n",
       "      <td>сотрудник</td>\n",
       "      <td>0</td>\n",
       "      <td>144425.938277</td>\n",
       "      <td>покупка жилья для семьи</td>\n",
       "    </tr>\n",
       "    <tr>\n",
       "      <th>10</th>\n",
       "      <td>2</td>\n",
       "      <td>-4171.483647</td>\n",
       "      <td>36</td>\n",
       "      <td>высшее</td>\n",
       "      <td>0</td>\n",
       "      <td>женат / замужем</td>\n",
       "      <td>0</td>\n",
       "      <td>M</td>\n",
       "      <td>компаньон</td>\n",
       "      <td>0</td>\n",
       "      <td>113943.491460</td>\n",
       "      <td>покупка недвижимости</td>\n",
       "    </tr>\n",
       "    <tr>\n",
       "      <th>11</th>\n",
       "      <td>0</td>\n",
       "      <td>-792.701887</td>\n",
       "      <td>40</td>\n",
       "      <td>среднее</td>\n",
       "      <td>1</td>\n",
       "      <td>женат / замужем</td>\n",
       "      <td>0</td>\n",
       "      <td>F</td>\n",
       "      <td>сотрудник</td>\n",
       "      <td>0</td>\n",
       "      <td>77069.234271</td>\n",
       "      <td>покупка коммерческой недвижимости</td>\n",
       "    </tr>\n",
       "    <tr>\n",
       "      <th>12</th>\n",
       "      <td>0</td>\n",
       "      <td>NaN</td>\n",
       "      <td>65</td>\n",
       "      <td>среднее</td>\n",
       "      <td>1</td>\n",
       "      <td>гражданский брак</td>\n",
       "      <td>1</td>\n",
       "      <td>M</td>\n",
       "      <td>пенсионер</td>\n",
       "      <td>0</td>\n",
       "      <td>NaN</td>\n",
       "      <td>сыграть свадьбу</td>\n",
       "    </tr>\n",
       "    <tr>\n",
       "      <th>13</th>\n",
       "      <td>0</td>\n",
       "      <td>-1846.641941</td>\n",
       "      <td>54</td>\n",
       "      <td>неоконченное высшее</td>\n",
       "      <td>2</td>\n",
       "      <td>женат / замужем</td>\n",
       "      <td>0</td>\n",
       "      <td>F</td>\n",
       "      <td>сотрудник</td>\n",
       "      <td>0</td>\n",
       "      <td>130458.228857</td>\n",
       "      <td>приобретение автомобиля</td>\n",
       "    </tr>\n",
       "    <tr>\n",
       "      <th>14</th>\n",
       "      <td>0</td>\n",
       "      <td>-1844.956182</td>\n",
       "      <td>56</td>\n",
       "      <td>высшее</td>\n",
       "      <td>0</td>\n",
       "      <td>гражданский брак</td>\n",
       "      <td>1</td>\n",
       "      <td>F</td>\n",
       "      <td>компаньон</td>\n",
       "      <td>1</td>\n",
       "      <td>165127.911772</td>\n",
       "      <td>покупка жилой недвижимости</td>\n",
       "    </tr>\n",
       "    <tr>\n",
       "      <th>15</th>\n",
       "      <td>1</td>\n",
       "      <td>-972.364419</td>\n",
       "      <td>26</td>\n",
       "      <td>среднее</td>\n",
       "      <td>1</td>\n",
       "      <td>женат / замужем</td>\n",
       "      <td>0</td>\n",
       "      <td>F</td>\n",
       "      <td>сотрудник</td>\n",
       "      <td>0</td>\n",
       "      <td>116820.904450</td>\n",
       "      <td>строительство собственной недвижимости</td>\n",
       "    </tr>\n",
       "    <tr>\n",
       "      <th>16</th>\n",
       "      <td>0</td>\n",
       "      <td>-1719.934226</td>\n",
       "      <td>35</td>\n",
       "      <td>среднее</td>\n",
       "      <td>1</td>\n",
       "      <td>женат / замужем</td>\n",
       "      <td>0</td>\n",
       "      <td>F</td>\n",
       "      <td>сотрудник</td>\n",
       "      <td>0</td>\n",
       "      <td>289202.704229</td>\n",
       "      <td>недвижимость</td>\n",
       "    </tr>\n",
       "    <tr>\n",
       "      <th>17</th>\n",
       "      <td>0</td>\n",
       "      <td>-2369.999720</td>\n",
       "      <td>33</td>\n",
       "      <td>высшее</td>\n",
       "      <td>0</td>\n",
       "      <td>гражданский брак</td>\n",
       "      <td>1</td>\n",
       "      <td>M</td>\n",
       "      <td>сотрудник</td>\n",
       "      <td>0</td>\n",
       "      <td>90410.586745</td>\n",
       "      <td>строительство недвижимости</td>\n",
       "    </tr>\n",
       "    <tr>\n",
       "      <th>18</th>\n",
       "      <td>0</td>\n",
       "      <td>400281.136913</td>\n",
       "      <td>53</td>\n",
       "      <td>среднее</td>\n",
       "      <td>1</td>\n",
       "      <td>вдовец / вдова</td>\n",
       "      <td>2</td>\n",
       "      <td>F</td>\n",
       "      <td>пенсионер</td>\n",
       "      <td>0</td>\n",
       "      <td>56823.777243</td>\n",
       "      <td>на покупку подержанного автомобиля</td>\n",
       "    </tr>\n",
       "    <tr>\n",
       "      <th>19</th>\n",
       "      <td>0</td>\n",
       "      <td>-10038.818549</td>\n",
       "      <td>48</td>\n",
       "      <td>СРЕДНЕЕ</td>\n",
       "      <td>1</td>\n",
       "      <td>в разводе</td>\n",
       "      <td>3</td>\n",
       "      <td>F</td>\n",
       "      <td>сотрудник</td>\n",
       "      <td>0</td>\n",
       "      <td>242831.107982</td>\n",
       "      <td>на покупку своего автомобиля</td>\n",
       "    </tr>\n",
       "  </tbody>\n",
       "</table>\n",
       "</div>"
      ],
      "text/plain": [
       "    children  days_employed  dob_years            education  education_id  \\\n",
       "0          1   -8437.673028         42               высшее             0   \n",
       "1          1   -4024.803754         36              среднее             1   \n",
       "2          0   -5623.422610         33              Среднее             1   \n",
       "3          3   -4124.747207         32              среднее             1   \n",
       "4          0  340266.072047         53              среднее             1   \n",
       "5          0    -926.185831         27               высшее             0   \n",
       "6          0   -2879.202052         43               высшее             0   \n",
       "7          0    -152.779569         50              СРЕДНЕЕ             1   \n",
       "8          2   -6929.865299         35               ВЫСШЕЕ             0   \n",
       "9          0   -2188.756445         41              среднее             1   \n",
       "10         2   -4171.483647         36               высшее             0   \n",
       "11         0    -792.701887         40              среднее             1   \n",
       "12         0            NaN         65              среднее             1   \n",
       "13         0   -1846.641941         54  неоконченное высшее             2   \n",
       "14         0   -1844.956182         56               высшее             0   \n",
       "15         1    -972.364419         26              среднее             1   \n",
       "16         0   -1719.934226         35              среднее             1   \n",
       "17         0   -2369.999720         33               высшее             0   \n",
       "18         0  400281.136913         53              среднее             1   \n",
       "19         0  -10038.818549         48              СРЕДНЕЕ             1   \n",
       "\n",
       "       family_status  family_status_id gender income_type  debt  \\\n",
       "0    женат / замужем                 0      F   сотрудник     0   \n",
       "1    женат / замужем                 0      F   сотрудник     0   \n",
       "2    женат / замужем                 0      M   сотрудник     0   \n",
       "3    женат / замужем                 0      M   сотрудник     0   \n",
       "4   гражданский брак                 1      F   пенсионер     0   \n",
       "5   гражданский брак                 1      M   компаньон     0   \n",
       "6    женат / замужем                 0      F   компаньон     0   \n",
       "7    женат / замужем                 0      M   сотрудник     0   \n",
       "8   гражданский брак                 1      F   сотрудник     0   \n",
       "9    женат / замужем                 0      M   сотрудник     0   \n",
       "10   женат / замужем                 0      M   компаньон     0   \n",
       "11   женат / замужем                 0      F   сотрудник     0   \n",
       "12  гражданский брак                 1      M   пенсионер     0   \n",
       "13   женат / замужем                 0      F   сотрудник     0   \n",
       "14  гражданский брак                 1      F   компаньон     1   \n",
       "15   женат / замужем                 0      F   сотрудник     0   \n",
       "16   женат / замужем                 0      F   сотрудник     0   \n",
       "17  гражданский брак                 1      M   сотрудник     0   \n",
       "18    вдовец / вдова                 2      F   пенсионер     0   \n",
       "19         в разводе                 3      F   сотрудник     0   \n",
       "\n",
       "     total_income                                 purpose  \n",
       "0   253875.639453                           покупка жилья  \n",
       "1   112080.014102                 приобретение автомобиля  \n",
       "2   145885.952297                           покупка жилья  \n",
       "3   267628.550329              дополнительное образование  \n",
       "4   158616.077870                         сыграть свадьбу  \n",
       "5   255763.565419                           покупка жилья  \n",
       "6   240525.971920                       операции с жильем  \n",
       "7   135823.934197                             образование  \n",
       "8    95856.832424                   на проведение свадьбы  \n",
       "9   144425.938277                 покупка жилья для семьи  \n",
       "10  113943.491460                    покупка недвижимости  \n",
       "11   77069.234271       покупка коммерческой недвижимости  \n",
       "12            NaN                         сыграть свадьбу  \n",
       "13  130458.228857                 приобретение автомобиля  \n",
       "14  165127.911772              покупка жилой недвижимости  \n",
       "15  116820.904450  строительство собственной недвижимости  \n",
       "16  289202.704229                            недвижимость  \n",
       "17   90410.586745              строительство недвижимости  \n",
       "18   56823.777243      на покупку подержанного автомобиля  \n",
       "19  242831.107982            на покупку своего автомобиля  "
      ]
     },
     "execution_count": 2,
     "metadata": {},
     "output_type": "execute_result"
    }
   ],
   "source": [
    "data.head(20)"
   ]
  },
  {
   "cell_type": "markdown",
   "id": "0ed8f27f",
   "metadata": {
    "deletable": false,
    "editable": false,
    "id": "0ed8f27f"
   },
   "source": [
    "**Задание 3. Выведите основную информацию о датафрейме с помощью метода `info()`.**"
   ]
  },
  {
   "cell_type": "code",
   "execution_count": 3,
   "id": "ab3f863b",
   "metadata": {
    "deletable": false,
    "id": "ab3f863b",
    "outputId": "15376089-8dad-46c9-b520-c05248d43158"
   },
   "outputs": [
    {
     "name": "stdout",
     "output_type": "stream",
     "text": [
      "<class 'pandas.core.frame.DataFrame'>\n",
      "RangeIndex: 21525 entries, 0 to 21524\n",
      "Data columns (total 12 columns):\n",
      " #   Column            Non-Null Count  Dtype  \n",
      "---  ------            --------------  -----  \n",
      " 0   children          21525 non-null  int64  \n",
      " 1   days_employed     19351 non-null  float64\n",
      " 2   dob_years         21525 non-null  int64  \n",
      " 3   education         21525 non-null  object \n",
      " 4   education_id      21525 non-null  int64  \n",
      " 5   family_status     21525 non-null  object \n",
      " 6   family_status_id  21525 non-null  int64  \n",
      " 7   gender            21525 non-null  object \n",
      " 8   income_type       21525 non-null  object \n",
      " 9   debt              21525 non-null  int64  \n",
      " 10  total_income      19351 non-null  float64\n",
      " 11  purpose           21525 non-null  object \n",
      "dtypes: float64(2), int64(5), object(5)\n",
      "memory usage: 2.0+ MB\n"
     ]
    }
   ],
   "source": [
    "data.info()"
   ]
  },
  {
   "cell_type": "markdown",
   "id": "60e3e22d",
   "metadata": {
    "deletable": false,
    "editable": false,
    "id": "60e3e22d"
   },
   "source": [
    "## Предобработка данных"
   ]
  },
  {
   "cell_type": "markdown",
   "id": "03dc170c",
   "metadata": {
    "deletable": false,
    "editable": false,
    "id": "03dc170c"
   },
   "source": [
    "### Удаление пропусков"
   ]
  },
  {
   "cell_type": "markdown",
   "id": "a4f54eef",
   "metadata": {
    "deletable": false,
    "editable": false,
    "id": "a4f54eef"
   },
   "source": [
    "**Задание 4. Выведите количество пропущенных значений для каждого столбца. Используйте комбинацию двух методов.**"
   ]
  },
  {
   "cell_type": "code",
   "execution_count": 4,
   "id": "2dc372b2",
   "metadata": {
    "deletable": false,
    "id": "2dc372b2",
    "outputId": "81f4d817-781c-465c-ed15-91ce4446810d"
   },
   "outputs": [
    {
     "data": {
      "text/plain": [
       "children               0\n",
       "days_employed       2174\n",
       "dob_years              0\n",
       "education              0\n",
       "education_id           0\n",
       "family_status          0\n",
       "family_status_id       0\n",
       "gender                 0\n",
       "income_type            0\n",
       "debt                   0\n",
       "total_income        2174\n",
       "purpose                0\n",
       "dtype: int64"
      ]
     },
     "execution_count": 4,
     "metadata": {},
     "output_type": "execute_result"
    }
   ],
   "source": [
    "data.isna().sum()"
   ]
  },
  {
   "cell_type": "markdown",
   "id": "14f011b1",
   "metadata": {
    "deletable": false,
    "editable": false,
    "id": "14f011b1"
   },
   "source": [
    "**Задание 5. В двух столбцах есть пропущенные значения. Один из них — `days_employed`. Пропуски в этом столбце вы обработаете на следующем этапе. Другой столбец с пропущенными значениями — `total_income` — хранит данные о доходах. На сумму дохода сильнее всего влияет тип занятости, поэтому заполнить пропуски в этом столбце нужно медианным значением по каждому типу из столбца `income_type`. Например, у человека с типом занятости `сотрудник` пропуск в столбце `total_income` должен быть заполнен медианным доходом среди всех записей с тем же типом.**"
   ]
  },
  {
   "cell_type": "code",
   "execution_count": 5,
   "id": "bdabfb6e",
   "metadata": {
    "deletable": false,
    "id": "bdabfb6e"
   },
   "outputs": [],
   "source": [
    "for t in data['income_type'].unique():\n",
    "    data.loc[(data['income_type'] == t) & (data['total_income'].isna()), 'total_income'] = \\\n",
    "    data.loc[(data['income_type'] == t), 'total_income'].median()"
   ]
  },
  {
   "cell_type": "markdown",
   "id": "5be34059",
   "metadata": {
    "deletable": false,
    "editable": false,
    "id": "5be34059"
   },
   "source": [
    "### Обработка аномальных значений"
   ]
  },
  {
   "cell_type": "markdown",
   "id": "a87606cb",
   "metadata": {
    "deletable": false,
    "editable": false,
    "id": "a87606cb"
   },
   "source": [
    "**Задание 6. В данных могут встречаться артефакты (аномалии) — значения, которые не отражают действительность и появились по какой-то ошибке. таким артефактом будет отрицательное количество дней трудового стажа в столбце `days_employed`. Для реальных данных это нормально. Обработайте значения в этом столбце: замените все отрицательные значения положительными с помощью метода `abs()`.**"
   ]
  },
  {
   "cell_type": "code",
   "execution_count": 6,
   "id": "020c46cc",
   "metadata": {
    "deletable": false,
    "id": "020c46cc"
   },
   "outputs": [],
   "source": [
    "data['days_employed'] = data['days_employed'].abs()"
   ]
  },
  {
   "cell_type": "markdown",
   "id": "45538a3a",
   "metadata": {
    "deletable": false,
    "editable": false,
    "id": "45538a3a"
   },
   "source": [
    "**Задание 7. Для каждого типа занятости выведите медианное значение трудового стажа `days_employed` в днях.**"
   ]
  },
  {
   "cell_type": "code",
   "execution_count": 7,
   "id": "cd3e6328",
   "metadata": {
    "deletable": false,
    "id": "cd3e6328",
    "outputId": "801ef80e-522b-4668-f34e-565af7432bcf"
   },
   "outputs": [
    {
     "data": {
      "text/plain": [
       "income_type\n",
       "безработный        366413.652744\n",
       "в декрете            3296.759962\n",
       "госслужащий          2689.368353\n",
       "компаньон            1547.382223\n",
       "пенсионер          365213.306266\n",
       "предприниматель       520.848083\n",
       "сотрудник            1574.202821\n",
       "студент               578.751554\n",
       "Name: days_employed, dtype: float64"
      ]
     },
     "execution_count": 7,
     "metadata": {},
     "output_type": "execute_result"
    }
   ],
   "source": [
    "data.groupby('income_type')['days_employed'].agg('median')"
   ]
  },
  {
   "cell_type": "markdown",
   "id": "90c5f058",
   "metadata": {
    "deletable": false,
    "editable": false,
    "id": "90c5f058"
   },
   "source": [
    "У двух типов (безработные и пенсионеры) получатся аномально большие значения. Исправить такие значения сложно, поэтому оставьте их как есть."
   ]
  },
  {
   "cell_type": "markdown",
   "id": "9652e50d",
   "metadata": {
    "deletable": false,
    "editable": false,
    "id": "9652e50d"
   },
   "source": [
    "**Задание 8. Выведите перечень уникальных значений столбца `children`.**"
   ]
  },
  {
   "cell_type": "code",
   "execution_count": 8,
   "id": "dbb37b8e",
   "metadata": {
    "deletable": false,
    "id": "dbb37b8e",
    "outputId": "6975b15c-7f95-4697-d16d-a0c79b657b03"
   },
   "outputs": [
    {
     "data": {
      "text/plain": [
       "array([ 1,  0,  3,  2, -1,  4, 20,  5])"
      ]
     },
     "execution_count": 8,
     "metadata": {},
     "output_type": "execute_result"
    }
   ],
   "source": [
    "data['children'].unique()"
   ]
  },
  {
   "cell_type": "markdown",
   "id": "2b8b0715",
   "metadata": {
    "deletable": false,
    "editable": false,
    "id": "2b8b0715"
   },
   "source": [
    "**Задание 9. В столбце `children` есть два аномальных значения. Удалите строки, в которых встречаются такие аномальные значения из датафрейма `data`.**"
   ]
  },
  {
   "cell_type": "code",
   "execution_count": 9,
   "id": "20009df8",
   "metadata": {
    "deletable": false,
    "id": "20009df8"
   },
   "outputs": [],
   "source": [
    "data = data[(data['children'] != -1) & (data['children'] != 20)]"
   ]
  },
  {
   "cell_type": "markdown",
   "id": "8c6ac9f1",
   "metadata": {
    "deletable": false,
    "editable": false,
    "id": "8c6ac9f1"
   },
   "source": [
    "**Задание 10. Ещё раз выведите перечень уникальных значений столбца `children`, чтобы убедиться, что артефакты удалены.**"
   ]
  },
  {
   "cell_type": "code",
   "execution_count": 10,
   "id": "07337b81",
   "metadata": {
    "deletable": false,
    "id": "07337b81",
    "outputId": "b2097101-d49d-44d9-901b-32a65c9463d1"
   },
   "outputs": [
    {
     "data": {
      "text/plain": [
       "array([1, 0, 3, 2, 4, 5])"
      ]
     },
     "execution_count": 10,
     "metadata": {},
     "output_type": "execute_result"
    }
   ],
   "source": [
    "data['children'].unique()"
   ]
  },
  {
   "cell_type": "markdown",
   "id": "ee3f52d4",
   "metadata": {
    "deletable": false,
    "editable": false,
    "id": "ee3f52d4"
   },
   "source": [
    "### Удаление пропусков (продолжение)"
   ]
  },
  {
   "cell_type": "markdown",
   "id": "a700b0e4",
   "metadata": {
    "deletable": false,
    "editable": false,
    "id": "a700b0e4"
   },
   "source": [
    "**Задание 11. Заполните пропуски в столбце `days_employed` медианными значениями по каждого типа занятости `income_type`.**"
   ]
  },
  {
   "cell_type": "code",
   "execution_count": 11,
   "id": "61946b83",
   "metadata": {
    "deletable": false,
    "id": "61946b83"
   },
   "outputs": [],
   "source": [
    "for t in data['income_type'].unique():\n",
    "    data.loc[(data['income_type'] == t) & (data['days_employed'].isna()), 'days_employed'] = \\\n",
    "    data.loc[(data['income_type'] == t), 'days_employed'].median()"
   ]
  },
  {
   "cell_type": "markdown",
   "id": "550dcd9b",
   "metadata": {
    "deletable": false,
    "editable": false,
    "id": "550dcd9b"
   },
   "source": [
    "**Задание 12. Убедитесь, что все пропуски заполнены. Проверьте себя и ещё раз выведите количество пропущенных значений для каждого столбца с помощью двух методов.**"
   ]
  },
  {
   "cell_type": "code",
   "execution_count": 12,
   "id": "937c7014",
   "metadata": {
    "deletable": false,
    "id": "937c7014",
    "outputId": "8da1e4e1-358e-4e87-98c9-f261bce0a7b2"
   },
   "outputs": [
    {
     "data": {
      "text/plain": [
       "children            0\n",
       "days_employed       0\n",
       "dob_years           0\n",
       "education           0\n",
       "education_id        0\n",
       "family_status       0\n",
       "family_status_id    0\n",
       "gender              0\n",
       "income_type         0\n",
       "debt                0\n",
       "total_income        0\n",
       "purpose             0\n",
       "dtype: int64"
      ]
     },
     "execution_count": 12,
     "metadata": {},
     "output_type": "execute_result"
    }
   ],
   "source": [
    "data.isna().sum()"
   ]
  },
  {
   "cell_type": "markdown",
   "id": "d522e295",
   "metadata": {
    "deletable": false,
    "editable": false,
    "id": "d522e295"
   },
   "source": [
    "### Изменение типов данных"
   ]
  },
  {
   "cell_type": "markdown",
   "id": "c229c581",
   "metadata": {
    "deletable": false,
    "editable": false,
    "id": "c229c581"
   },
   "source": [
    "**Задание 13. Замените вещественный тип данных в столбце `total_income` на целочисленный с помощью метода `astype()`.**"
   ]
  },
  {
   "cell_type": "code",
   "execution_count": 13,
   "id": "31036462",
   "metadata": {
    "deletable": false,
    "id": "31036462"
   },
   "outputs": [],
   "source": [
    "data['total_income'] = data['total_income'].astype(int)"
   ]
  },
  {
   "cell_type": "markdown",
   "id": "b8e3d1d9",
   "metadata": {
    "deletable": false,
    "editable": false,
    "id": "b8e3d1d9"
   },
   "source": [
    "### Обработка дубликатов"
   ]
  },
  {
   "cell_type": "markdown",
   "id": "9be53c49",
   "metadata": {
    "deletable": false,
    "editable": false,
    "id": "9be53c49"
   },
   "source": [
    "**Задание 14. Обработайте неявные дубликаты в столбце `education`. В этом столбце есть одни и те же значения, но записанные по-разному: с использованием заглавных и строчных букв. Приведите их к нижнему регистру.**"
   ]
  },
  {
   "cell_type": "code",
   "execution_count": 14,
   "id": "d89e73e1",
   "metadata": {
    "deletable": false,
    "id": "d89e73e1"
   },
   "outputs": [],
   "source": [
    "data['education'] = data['education'].str.lower()"
   ]
  },
  {
   "cell_type": "markdown",
   "id": "01d4500e",
   "metadata": {
    "deletable": false,
    "editable": false,
    "id": "01d4500e"
   },
   "source": [
    "**Задание 15. Выведите на экран количество строк-дубликатов в данных. Если такие строки присутствуют, удалите их.**"
   ]
  },
  {
   "cell_type": "code",
   "execution_count": 15,
   "id": "e10efb23",
   "metadata": {
    "deletable": false,
    "id": "e10efb23",
    "outputId": "9684deba-1934-42d1-99e1-cda61740f822"
   },
   "outputs": [
    {
     "data": {
      "text/plain": [
       "71"
      ]
     },
     "execution_count": 15,
     "metadata": {},
     "output_type": "execute_result"
    }
   ],
   "source": [
    "data.duplicated().sum()"
   ]
  },
  {
   "cell_type": "code",
   "execution_count": 16,
   "id": "df853f20",
   "metadata": {
    "deletable": false,
    "id": "df853f20"
   },
   "outputs": [],
   "source": [
    "data = data.drop_duplicates()"
   ]
  },
  {
   "cell_type": "markdown",
   "id": "627be38f",
   "metadata": {
    "deletable": false,
    "editable": false,
    "id": "627be38f"
   },
   "source": [
    "### Категоризация данных"
   ]
  },
  {
   "cell_type": "markdown",
   "id": "4684c3e0",
   "metadata": {
    "deletable": false,
    "editable": false,
    "id": "4684c3e0"
   },
   "source": [
    "**Задание 16. На основании диапазонов, указанных ниже, создайте в датафрейме `data` столбец `total_income_category` с категориями:**\n",
    "\n",
    "- 0–30000 — `'E'`;\n",
    "- 30001–50000 — `'D'`;\n",
    "- 50001–200000 — `'C'`;\n",
    "- 200001–1000000 — `'B'`;\n",
    "- 1000001 и выше — `'A'`.\n",
    "\n",
    "\n",
    "**Например, кредитополучателю с доходом 25000 нужно назначить категорию `'E'`, а клиенту, получающему 235000, — `'B'`. Используйте собственную функцию с именем `categorize_income()` и метод `apply()`.**"
   ]
  },
  {
   "cell_type": "code",
   "execution_count": 17,
   "id": "78965238",
   "metadata": {
    "deletable": false,
    "id": "78965238"
   },
   "outputs": [],
   "source": [
    "def categorize_income(income):\n",
    "    try:\n",
    "        if 0 <= income <= 30000:\n",
    "            return 'E'\n",
    "        elif 30001 <= income <= 50000:\n",
    "            return 'D'\n",
    "        elif 50001 <= income <= 200000:\n",
    "            return 'C'\n",
    "        elif 200001 <= income <= 1000000:\n",
    "            return 'B'\n",
    "        elif income >= 1000001:\n",
    "            return 'A'\n",
    "    except:\n",
    "        pass"
   ]
  },
  {
   "cell_type": "code",
   "execution_count": 18,
   "id": "0980ada1",
   "metadata": {
    "deletable": false,
    "id": "0980ada1"
   },
   "outputs": [],
   "source": [
    "data['total_income_category'] = data['total_income'].apply(categorize_income)"
   ]
  },
  {
   "cell_type": "markdown",
   "id": "9917bba0",
   "metadata": {
    "deletable": false,
    "editable": false,
    "id": "9917bba0"
   },
   "source": [
    "**Задание 17. Выведите на экран перечень уникальных целей взятия кредита из столбца `purpose`.**"
   ]
  },
  {
   "cell_type": "code",
   "execution_count": 19,
   "id": "ee07b65e",
   "metadata": {
    "deletable": false,
    "id": "ee07b65e",
    "outputId": "673c12d9-7d7e-4ae0-9812-c622c89dd244"
   },
   "outputs": [
    {
     "data": {
      "text/plain": [
       "array(['покупка жилья', 'приобретение автомобиля',\n",
       "       'дополнительное образование', 'сыграть свадьбу',\n",
       "       'операции с жильем', 'образование', 'на проведение свадьбы',\n",
       "       'покупка жилья для семьи', 'покупка недвижимости',\n",
       "       'покупка коммерческой недвижимости', 'покупка жилой недвижимости',\n",
       "       'строительство собственной недвижимости', 'недвижимость',\n",
       "       'строительство недвижимости', 'на покупку подержанного автомобиля',\n",
       "       'на покупку своего автомобиля',\n",
       "       'операции с коммерческой недвижимостью',\n",
       "       'строительство жилой недвижимости', 'жилье',\n",
       "       'операции со своей недвижимостью', 'автомобили',\n",
       "       'заняться образованием', 'сделка с подержанным автомобилем',\n",
       "       'получение образования', 'автомобиль', 'свадьба',\n",
       "       'получение дополнительного образования', 'покупка своего жилья',\n",
       "       'операции с недвижимостью', 'получение высшего образования',\n",
       "       'свой автомобиль', 'сделка с автомобилем',\n",
       "       'профильное образование', 'высшее образование',\n",
       "       'покупка жилья для сдачи', 'на покупку автомобиля', 'ремонт жилью',\n",
       "       'заняться высшим образованием'], dtype=object)"
      ]
     },
     "execution_count": 19,
     "metadata": {},
     "output_type": "execute_result"
    }
   ],
   "source": [
    "data['purpose'].unique()"
   ]
  },
  {
   "cell_type": "markdown",
   "id": "52b79d56",
   "metadata": {
    "deletable": false,
    "editable": false,
    "id": "52b79d56"
   },
   "source": [
    "**Задание 18. Создайте функцию, которая на основании данных из столбца `purpose` сформирует новый столбец `purpose_category`, в который войдут следующие категории:**\n",
    "\n",
    "- `'операции с автомобилем'`,\n",
    "- `'операции с недвижимостью'`,\n",
    "- `'проведение свадьбы'`,\n",
    "- `'получение образования'`.\n",
    "\n",
    "**Например, если в столбце `purpose` находится подстрока `'на покупку автомобиля'`, то в столбце `purpose_category` должна появиться строка `'операции с автомобилем'`.**\n",
    "\n",
    "**Используйте собственную функцию с именем `categorize_purpose()` и метод `apply()`. Изучите данные в столбце `purpose` и определите, какие подстроки помогут вам правильно определить категорию.**"
   ]
  },
  {
   "cell_type": "code",
   "execution_count": 20,
   "id": "be41da5d",
   "metadata": {
    "deletable": false,
    "id": "be41da5d"
   },
   "outputs": [],
   "source": [
    "def categorize_purpose(row):\n",
    "    try:\n",
    "        if 'автом' in row:\n",
    "            return 'операции с автомобилем'\n",
    "        elif 'жил' in row or 'недвиж' in row:\n",
    "            return 'операции с недвижимостью'\n",
    "        elif 'свад' in row:\n",
    "            return 'проведение свадьбы'\n",
    "        elif 'образов' in row:\n",
    "            return 'получение образования'\n",
    "    except:\n",
    "        return 'нет категории'"
   ]
  },
  {
   "cell_type": "code",
   "execution_count": 21,
   "id": "94c4a19a",
   "metadata": {
    "deletable": false,
    "id": "94c4a19a"
   },
   "outputs": [],
   "source": [
    "data['purpose_category'] = data['purpose'].apply(categorize_purpose)"
   ]
  },
  {
   "cell_type": "markdown",
   "id": "3d596c34",
   "metadata": {
    "deletable": false,
    "editable": false,
    "id": "3d596c34"
   },
   "source": [
    "### Шаг 3. Исследуйте данные и ответьте на вопросы"
   ]
  },
  {
   "cell_type": "markdown",
   "id": "648db036",
   "metadata": {
    "deletable": false,
    "editable": false,
    "id": "648db036"
   },
   "source": [
    "#### 3.1 Есть ли зависимость между количеством детей и возвратом кредита в срок?"
   ]
  },
  {
   "cell_type": "markdown",
   "id": "5cf1f659",
   "metadata": {},
   "source": [
    "Создаем сводную таблицу **children_debt_ratio** для подсчета колличества значений наличия задолженности у клиента в зависимости от колличества детей:\n",
    "- *children* - колличество детей (от 0 до 5);\n",
    "- *debt* - имел ли клиент задолженность по возврату кредита (0 - не имел, 1 - имел).\n"
   ]
  },
  {
   "cell_type": "code",
   "execution_count": 22,
   "id": "7fcff25e",
   "metadata": {
    "deletable": false,
    "id": "7fcff25e",
    "scrolled": false
   },
   "outputs": [
    {
     "data": {
      "text/html": [
       "<div>\n",
       "<style scoped>\n",
       "    .dataframe tbody tr th:only-of-type {\n",
       "        vertical-align: middle;\n",
       "    }\n",
       "\n",
       "    .dataframe tbody tr th {\n",
       "        vertical-align: top;\n",
       "    }\n",
       "\n",
       "    .dataframe thead th {\n",
       "        text-align: right;\n",
       "    }\n",
       "</style>\n",
       "<table border=\"1\" class=\"dataframe\">\n",
       "  <thead>\n",
       "    <tr style=\"text-align: right;\">\n",
       "      <th>debt</th>\n",
       "      <th>Без задолженности</th>\n",
       "      <th>Просроченные кредиты</th>\n",
       "      <th>Всего займов</th>\n",
       "      <th>Без задолженности, %</th>\n",
       "      <th>Просроченные кредиты, %</th>\n",
       "    </tr>\n",
       "    <tr>\n",
       "      <th>children</th>\n",
       "      <th></th>\n",
       "      <th></th>\n",
       "      <th></th>\n",
       "      <th></th>\n",
       "      <th></th>\n",
       "    </tr>\n",
       "  </thead>\n",
       "  <tbody>\n",
       "    <tr>\n",
       "      <th>0</th>\n",
       "      <td>13028.0</td>\n",
       "      <td>1063.0</td>\n",
       "      <td>14091</td>\n",
       "      <td>92.46</td>\n",
       "      <td>7.54</td>\n",
       "    </tr>\n",
       "    <tr>\n",
       "      <th>1</th>\n",
       "      <td>4364.0</td>\n",
       "      <td>444.0</td>\n",
       "      <td>4808</td>\n",
       "      <td>90.77</td>\n",
       "      <td>9.23</td>\n",
       "    </tr>\n",
       "    <tr>\n",
       "      <th>2</th>\n",
       "      <td>1858.0</td>\n",
       "      <td>194.0</td>\n",
       "      <td>2052</td>\n",
       "      <td>90.55</td>\n",
       "      <td>9.45</td>\n",
       "    </tr>\n",
       "    <tr>\n",
       "      <th>3</th>\n",
       "      <td>303.0</td>\n",
       "      <td>27.0</td>\n",
       "      <td>330</td>\n",
       "      <td>91.82</td>\n",
       "      <td>8.18</td>\n",
       "    </tr>\n",
       "    <tr>\n",
       "      <th>4</th>\n",
       "      <td>37.0</td>\n",
       "      <td>4.0</td>\n",
       "      <td>41</td>\n",
       "      <td>90.24</td>\n",
       "      <td>9.76</td>\n",
       "    </tr>\n",
       "    <tr>\n",
       "      <th>5</th>\n",
       "      <td>9.0</td>\n",
       "      <td>NaN</td>\n",
       "      <td>9</td>\n",
       "      <td>100.00</td>\n",
       "      <td>NaN</td>\n",
       "    </tr>\n",
       "    <tr>\n",
       "      <th>All</th>\n",
       "      <td>19599.0</td>\n",
       "      <td>1732.0</td>\n",
       "      <td>21331</td>\n",
       "      <td>91.88</td>\n",
       "      <td>8.12</td>\n",
       "    </tr>\n",
       "  </tbody>\n",
       "</table>\n",
       "</div>"
      ],
      "text/plain": [
       "debt      Без задолженности  Просроченные кредиты  Всего займов  \\\n",
       "children                                                          \n",
       "0                   13028.0                1063.0         14091   \n",
       "1                    4364.0                 444.0          4808   \n",
       "2                    1858.0                 194.0          2052   \n",
       "3                     303.0                  27.0           330   \n",
       "4                      37.0                   4.0            41   \n",
       "5                       9.0                   NaN             9   \n",
       "All                 19599.0                1732.0         21331   \n",
       "\n",
       "debt      Без задолженности, %  Просроченные кредиты, %  \n",
       "children                                                 \n",
       "0                        92.46                     7.54  \n",
       "1                        90.77                     9.23  \n",
       "2                        90.55                     9.45  \n",
       "3                        91.82                     8.18  \n",
       "4                        90.24                     9.76  \n",
       "5                       100.00                      NaN  \n",
       "All                      91.88                     8.12  "
      ]
     },
     "execution_count": 22,
     "metadata": {},
     "output_type": "execute_result"
    }
   ],
   "source": [
    "children_debt_ratio = data.pivot_table(index = 'children', \n",
    "                                       columns = 'debt', \n",
    "                                       values = 'days_employed', \n",
    "                                       aggfunc = 'count',\n",
    "                                       margins = True) \n",
    "#в значении values считает общее колличество строк, поэтому можно выбирать любой столбец\n",
    "children_debt_ratio['ratio_0'] = round(children_debt_ratio.loc[:,0] / children_debt_ratio.loc[:,'All']*100, 2)\n",
    "children_debt_ratio['ratio_1'] = round(children_debt_ratio.loc[:,1] / children_debt_ratio.loc[:,'All']*100, 2)\n",
    "children_debt_ratio.rename(columns = {0:'Без задолженности',\n",
    "                                      1:'Просроченные кредиты',\n",
    "                                      'All':'Всего займов',\n",
    "                                      'ratio_0':'Без задолженности, %',\n",
    "                                      'ratio_1':'Просроченные кредиты, %'})\n",
    "#для удобства прочтения таблица была переименована"
   ]
  },
  {
   "cell_type": "markdown",
   "id": "76cb2ea5",
   "metadata": {},
   "source": [
    "Процент просроченных кредитов и погашенных без задолженности кредитов был вычислен по формуле:\n",
    "$$ Проценты = \\frac{Кредит\\:с/без\\:задолженности}{Общее\\:колличество\\:выданных\\:кредитов} $$"
   ]
  },
  {
   "cell_type": "markdown",
   "id": "2eb9088e",
   "metadata": {
    "deletable": false,
    "id": "2eb9088e"
   },
   "source": [
    " **Вывод:** "
   ]
  },
  {
   "cell_type": "markdown",
   "id": "681754f9",
   "metadata": {},
   "source": [
    "Из таблицы мы видим, что процент просроченных кредитов у клиентов без детей несколько ниже, чем у клиентов с детьми. Тем не менее, наличие 1 или более детей показывает приблезительно одинаковый процент выплат с задолженностью. Таким образом, можно разделить клиентов на две категории: без детей и с детьми, колличество же детей на процент выплат в срок не влияет. "
   ]
  },
  {
   "cell_type": "markdown",
   "id": "74c9b3a7",
   "metadata": {
    "deletable": false,
    "editable": false,
    "id": "74c9b3a7"
   },
   "source": [
    "#### 3.2 Есть ли зависимость между семейным положением и возвратом кредита в срок?"
   ]
  },
  {
   "cell_type": "markdown",
   "id": "327a3459",
   "metadata": {},
   "source": [
    "Создаем сводную таблицу **family_debt_ratio** для подсчета колличества значений наличия задолженности у клиента в зависимости от семейного положения клиента:\n",
    "- *family_status* - идентификатор семейного положения;\n",
    "- *debt* - имел ли клиент задолженность по возврату кредита (0 - не имел, 1 - имел)."
   ]
  },
  {
   "cell_type": "code",
   "execution_count": 23,
   "id": "8098ab3b",
   "metadata": {
    "deletable": false,
    "id": "8098ab3b",
    "scrolled": true
   },
   "outputs": [
    {
     "data": {
      "text/html": [
       "<div>\n",
       "<style scoped>\n",
       "    .dataframe tbody tr th:only-of-type {\n",
       "        vertical-align: middle;\n",
       "    }\n",
       "\n",
       "    .dataframe tbody tr th {\n",
       "        vertical-align: top;\n",
       "    }\n",
       "\n",
       "    .dataframe thead th {\n",
       "        text-align: right;\n",
       "    }\n",
       "</style>\n",
       "<table border=\"1\" class=\"dataframe\">\n",
       "  <thead>\n",
       "    <tr style=\"text-align: right;\">\n",
       "      <th>debt</th>\n",
       "      <th>Без задолженности</th>\n",
       "      <th>Просроченные кредиты</th>\n",
       "      <th>Всего займов</th>\n",
       "      <th>Без задолженности, %</th>\n",
       "      <th>Просроченные кредиты, %</th>\n",
       "    </tr>\n",
       "    <tr>\n",
       "      <th>family_status</th>\n",
       "      <th></th>\n",
       "      <th></th>\n",
       "      <th></th>\n",
       "      <th></th>\n",
       "      <th></th>\n",
       "    </tr>\n",
       "  </thead>\n",
       "  <tbody>\n",
       "    <tr>\n",
       "      <th>Не женат / не замужем</th>\n",
       "      <td>2523</td>\n",
       "      <td>273</td>\n",
       "      <td>2796</td>\n",
       "      <td>90.24</td>\n",
       "      <td>9.76</td>\n",
       "    </tr>\n",
       "    <tr>\n",
       "      <th>в разводе</th>\n",
       "      <td>1105</td>\n",
       "      <td>84</td>\n",
       "      <td>1189</td>\n",
       "      <td>92.94</td>\n",
       "      <td>7.06</td>\n",
       "    </tr>\n",
       "    <tr>\n",
       "      <th>вдовец / вдова</th>\n",
       "      <td>888</td>\n",
       "      <td>63</td>\n",
       "      <td>951</td>\n",
       "      <td>93.38</td>\n",
       "      <td>6.62</td>\n",
       "    </tr>\n",
       "    <tr>\n",
       "      <th>гражданский брак</th>\n",
       "      <td>3749</td>\n",
       "      <td>385</td>\n",
       "      <td>4134</td>\n",
       "      <td>90.69</td>\n",
       "      <td>9.31</td>\n",
       "    </tr>\n",
       "    <tr>\n",
       "      <th>женат / замужем</th>\n",
       "      <td>11334</td>\n",
       "      <td>927</td>\n",
       "      <td>12261</td>\n",
       "      <td>92.44</td>\n",
       "      <td>7.56</td>\n",
       "    </tr>\n",
       "    <tr>\n",
       "      <th>All</th>\n",
       "      <td>19599</td>\n",
       "      <td>1732</td>\n",
       "      <td>21331</td>\n",
       "      <td>91.88</td>\n",
       "      <td>8.12</td>\n",
       "    </tr>\n",
       "  </tbody>\n",
       "</table>\n",
       "</div>"
      ],
      "text/plain": [
       "debt                   Без задолженности  Просроченные кредиты  Всего займов  \\\n",
       "family_status                                                                  \n",
       "Не женат / не замужем               2523                   273          2796   \n",
       "в разводе                           1105                    84          1189   \n",
       "вдовец / вдова                       888                    63           951   \n",
       "гражданский брак                    3749                   385          4134   \n",
       "женат / замужем                    11334                   927         12261   \n",
       "All                                19599                  1732         21331   \n",
       "\n",
       "debt                   Без задолженности, %  Просроченные кредиты, %  \n",
       "family_status                                                         \n",
       "Не женат / не замужем                 90.24                     9.76  \n",
       "в разводе                             92.94                     7.06  \n",
       "вдовец / вдова                        93.38                     6.62  \n",
       "гражданский брак                      90.69                     9.31  \n",
       "женат / замужем                       92.44                     7.56  \n",
       "All                                   91.88                     8.12  "
      ]
     },
     "execution_count": 23,
     "metadata": {},
     "output_type": "execute_result"
    }
   ],
   "source": [
    "family_debt_ratio = data.pivot_table(index = 'family_status', \n",
    "                                       columns = 'debt', \n",
    "                                       values = 'days_employed', \n",
    "                                       aggfunc = 'count',\n",
    "                                       margins = True) \n",
    "#в значении values считает общее колличество строк, поэтому можно выбирать любой столбец\n",
    "family_debt_ratio['ratio_0'] = round(family_debt_ratio.loc[:,0] / family_debt_ratio.loc[:,'All']*100, 2)\n",
    "family_debt_ratio['ratio_1'] = round(family_debt_ratio.loc[:,1] / family_debt_ratio.loc[:,'All']*100, 2)\n",
    "family_debt_ratio.rename(columns = {0:'Без задолженности',\n",
    "                                    1:'Просроченные кредиты',\n",
    "                                    'All':'Всего займов',\n",
    "                                    'ratio_0':'Без задолженности, %',\n",
    "                                    'ratio_1':'Просроченные кредиты, %'})\n",
    "#для удобства прочтения таблица была переименована"
   ]
  },
  {
   "cell_type": "markdown",
   "id": "c389ca63",
   "metadata": {
    "deletable": false,
    "id": "c389ca63"
   },
   "source": [
    "**Вывод:** "
   ]
  },
  {
   "cell_type": "markdown",
   "id": "94aee914",
   "metadata": {},
   "source": [
    "Из таблицы видно, что клиенты, которые не женаты, либо живут в гражданском браке чаще склонны к просрочке кредита. А клиенты в браке, в разводе, или вдовы/вдовцы чаще платят без задолженностей. "
   ]
  },
  {
   "cell_type": "markdown",
   "id": "9529de68",
   "metadata": {
    "deletable": false,
    "editable": false,
    "id": "9529de68"
   },
   "source": [
    "#### 3.3 Есть ли зависимость между уровнем дохода и возвратом кредита в срок?"
   ]
  },
  {
   "cell_type": "markdown",
   "id": "81420266",
   "metadata": {},
   "source": [
    "Создаем сводную таблицу **income_debt_ratio** для подсчета колличества значений наличия задолженности у клиента в зависимости от уровня дохода клиента:\n",
    "- *total_income_category* - категории по доходу, где  A - самая высокая,  E - самая низкая;\n",
    "- *debt* - имел ли клиент задолженность по возврату кредита (0 - не имел, 1 - имел)."
   ]
  },
  {
   "cell_type": "code",
   "execution_count": 24,
   "id": "8787f44a",
   "metadata": {
    "deletable": false,
    "id": "8787f44a"
   },
   "outputs": [
    {
     "data": {
      "text/html": [
       "<div>\n",
       "<style scoped>\n",
       "    .dataframe tbody tr th:only-of-type {\n",
       "        vertical-align: middle;\n",
       "    }\n",
       "\n",
       "    .dataframe tbody tr th {\n",
       "        vertical-align: top;\n",
       "    }\n",
       "\n",
       "    .dataframe thead th {\n",
       "        text-align: right;\n",
       "    }\n",
       "</style>\n",
       "<table border=\"1\" class=\"dataframe\">\n",
       "  <thead>\n",
       "    <tr style=\"text-align: right;\">\n",
       "      <th>debt</th>\n",
       "      <th>Без задолженности</th>\n",
       "      <th>Просроченные кредиты</th>\n",
       "      <th>Всего займов</th>\n",
       "      <th>Без задолженности, %</th>\n",
       "      <th>Просроченные кредиты, %</th>\n",
       "    </tr>\n",
       "    <tr>\n",
       "      <th>total_income_category</th>\n",
       "      <th></th>\n",
       "      <th></th>\n",
       "      <th></th>\n",
       "      <th></th>\n",
       "      <th></th>\n",
       "    </tr>\n",
       "  </thead>\n",
       "  <tbody>\n",
       "    <tr>\n",
       "      <th>A</th>\n",
       "      <td>23</td>\n",
       "      <td>2</td>\n",
       "      <td>25</td>\n",
       "      <td>92.00</td>\n",
       "      <td>8.00</td>\n",
       "    </tr>\n",
       "    <tr>\n",
       "      <th>B</th>\n",
       "      <td>4660</td>\n",
       "      <td>354</td>\n",
       "      <td>5014</td>\n",
       "      <td>92.94</td>\n",
       "      <td>7.06</td>\n",
       "    </tr>\n",
       "    <tr>\n",
       "      <th>C</th>\n",
       "      <td>14568</td>\n",
       "      <td>1353</td>\n",
       "      <td>15921</td>\n",
       "      <td>91.50</td>\n",
       "      <td>8.50</td>\n",
       "    </tr>\n",
       "    <tr>\n",
       "      <th>D</th>\n",
       "      <td>328</td>\n",
       "      <td>21</td>\n",
       "      <td>349</td>\n",
       "      <td>93.98</td>\n",
       "      <td>6.02</td>\n",
       "    </tr>\n",
       "    <tr>\n",
       "      <th>E</th>\n",
       "      <td>20</td>\n",
       "      <td>2</td>\n",
       "      <td>22</td>\n",
       "      <td>90.91</td>\n",
       "      <td>9.09</td>\n",
       "    </tr>\n",
       "    <tr>\n",
       "      <th>All</th>\n",
       "      <td>19599</td>\n",
       "      <td>1732</td>\n",
       "      <td>21331</td>\n",
       "      <td>91.88</td>\n",
       "      <td>8.12</td>\n",
       "    </tr>\n",
       "  </tbody>\n",
       "</table>\n",
       "</div>"
      ],
      "text/plain": [
       "debt                   Без задолженности  Просроченные кредиты  Всего займов  \\\n",
       "total_income_category                                                          \n",
       "A                                     23                     2            25   \n",
       "B                                   4660                   354          5014   \n",
       "C                                  14568                  1353         15921   \n",
       "D                                    328                    21           349   \n",
       "E                                     20                     2            22   \n",
       "All                                19599                  1732         21331   \n",
       "\n",
       "debt                   Без задолженности, %  Просроченные кредиты, %  \n",
       "total_income_category                                                 \n",
       "A                                     92.00                     8.00  \n",
       "B                                     92.94                     7.06  \n",
       "C                                     91.50                     8.50  \n",
       "D                                     93.98                     6.02  \n",
       "E                                     90.91                     9.09  \n",
       "All                                   91.88                     8.12  "
      ]
     },
     "execution_count": 24,
     "metadata": {},
     "output_type": "execute_result"
    }
   ],
   "source": [
    "income_debt_ratio = data.pivot_table(index = 'total_income_category', \n",
    "                                       columns = 'debt', \n",
    "                                       values = 'days_employed', \n",
    "                                       aggfunc = 'count',\n",
    "                                       margins = True) \n",
    "#в значении values считает общее колличество строк, поэтому можно выбирать любой столбец\n",
    "income_debt_ratio['ratio_0'] = round(income_debt_ratio.loc[:,0] / income_debt_ratio.loc[:,'All']*100, 2)\n",
    "income_debt_ratio['ratio_1'] = round(income_debt_ratio.loc[:,1] / income_debt_ratio.loc[:,'All']*100, 2)\n",
    "income_debt_ratio.rename(columns = {0:'Без задолженности',\n",
    "                                    1:'Просроченные кредиты',\n",
    "                                    'All':'Всего займов',\n",
    "                                    'ratio_0':'Без задолженности, %',\n",
    "                                    'ratio_1':'Просроченные кредиты, %'})\n",
    "#для удобства прочтения таблица была переименована"
   ]
  },
  {
   "cell_type": "markdown",
   "id": "6dd14b57",
   "metadata": {
    "deletable": false,
    "id": "6dd14b57"
   },
   "source": [
    "**Вывод:** "
   ]
  },
  {
   "cell_type": "markdown",
   "id": "132d9495",
   "metadata": {},
   "source": [
    "Из таблицы видно, что клиентов категории А и категории Е довольно мало для оценки их платёжеспособности, поэтому, по ним трудно сделать определенные выводы. Основные группы для статистики будут: \n",
    "- категория В, где процент просроченных кредитов ниже среднего, т.е. группа наиболее платежеспособная;\n",
    "- категория С, где процент просроченных кредитов (без учета группы Е) будет самым высоким, т,е, вырастает риск просрочки по кредиту;\n",
    "- категория D, где процент по просрочке самый низкий, но из за малого колличесва могут быть погрешности в расчетах. \n",
    "\n",
    "Таким образом, установлена зависимость между категорией уровня дохода клиента и возвратом кредита в срок. "
   ]
  },
  {
   "cell_type": "markdown",
   "id": "1dcc9b12",
   "metadata": {
    "deletable": false,
    "editable": false,
    "id": "1dcc9b12"
   },
   "source": [
    "#### 3.4 Как разные цели кредита влияют на его возврат в срок?"
   ]
  },
  {
   "cell_type": "markdown",
   "id": "69f58cd6",
   "metadata": {},
   "source": [
    "Создаем сводную таблицу **purpose_debt_ratio** для подсчета колличества значений наличия задолженности у клиента в зависимости от категории цели получения кредита:\n",
    "- *purpose_category* - категория целей получения кредита;\n",
    "- *debt* - имел ли клиент задолженность по возврату кредита (0 - не имел, 1 - имел)."
   ]
  },
  {
   "cell_type": "code",
   "execution_count": 25,
   "id": "c602bc8b",
   "metadata": {
    "deletable": false,
    "id": "c602bc8b"
   },
   "outputs": [
    {
     "data": {
      "text/html": [
       "<div>\n",
       "<style scoped>\n",
       "    .dataframe tbody tr th:only-of-type {\n",
       "        vertical-align: middle;\n",
       "    }\n",
       "\n",
       "    .dataframe tbody tr th {\n",
       "        vertical-align: top;\n",
       "    }\n",
       "\n",
       "    .dataframe thead th {\n",
       "        text-align: right;\n",
       "    }\n",
       "</style>\n",
       "<table border=\"1\" class=\"dataframe\">\n",
       "  <thead>\n",
       "    <tr style=\"text-align: right;\">\n",
       "      <th>debt</th>\n",
       "      <th>Без задолженности</th>\n",
       "      <th>Просроченные кредиты</th>\n",
       "      <th>Всего займов</th>\n",
       "      <th>Без задолженности, %</th>\n",
       "      <th>Просроченные кредиты, %</th>\n",
       "    </tr>\n",
       "    <tr>\n",
       "      <th>purpose_category</th>\n",
       "      <th></th>\n",
       "      <th></th>\n",
       "      <th></th>\n",
       "      <th></th>\n",
       "      <th></th>\n",
       "    </tr>\n",
       "  </thead>\n",
       "  <tbody>\n",
       "    <tr>\n",
       "      <th>операции с автомобилем</th>\n",
       "      <td>3879</td>\n",
       "      <td>400</td>\n",
       "      <td>4279</td>\n",
       "      <td>90.65</td>\n",
       "      <td>9.35</td>\n",
       "    </tr>\n",
       "    <tr>\n",
       "      <th>операции с недвижимостью</th>\n",
       "      <td>9971</td>\n",
       "      <td>780</td>\n",
       "      <td>10751</td>\n",
       "      <td>92.74</td>\n",
       "      <td>7.26</td>\n",
       "    </tr>\n",
       "    <tr>\n",
       "      <th>получение образования</th>\n",
       "      <td>3619</td>\n",
       "      <td>369</td>\n",
       "      <td>3988</td>\n",
       "      <td>90.75</td>\n",
       "      <td>9.25</td>\n",
       "    </tr>\n",
       "    <tr>\n",
       "      <th>проведение свадьбы</th>\n",
       "      <td>2130</td>\n",
       "      <td>183</td>\n",
       "      <td>2313</td>\n",
       "      <td>92.09</td>\n",
       "      <td>7.91</td>\n",
       "    </tr>\n",
       "    <tr>\n",
       "      <th>All</th>\n",
       "      <td>19599</td>\n",
       "      <td>1732</td>\n",
       "      <td>21331</td>\n",
       "      <td>91.88</td>\n",
       "      <td>8.12</td>\n",
       "    </tr>\n",
       "  </tbody>\n",
       "</table>\n",
       "</div>"
      ],
      "text/plain": [
       "debt                      Без задолженности  Просроченные кредиты  \\\n",
       "purpose_category                                                    \n",
       "операции с автомобилем                 3879                   400   \n",
       "операции с недвижимостью               9971                   780   \n",
       "получение образования                  3619                   369   \n",
       "проведение свадьбы                     2130                   183   \n",
       "All                                   19599                  1732   \n",
       "\n",
       "debt                      Всего займов  Без задолженности, %  \\\n",
       "purpose_category                                               \n",
       "операции с автомобилем            4279                 90.65   \n",
       "операции с недвижимостью         10751                 92.74   \n",
       "получение образования             3988                 90.75   \n",
       "проведение свадьбы                2313                 92.09   \n",
       "All                              21331                 91.88   \n",
       "\n",
       "debt                      Просроченные кредиты, %  \n",
       "purpose_category                                   \n",
       "операции с автомобилем                       9.35  \n",
       "операции с недвижимостью                     7.26  \n",
       "получение образования                        9.25  \n",
       "проведение свадьбы                           7.91  \n",
       "All                                          8.12  "
      ]
     },
     "execution_count": 25,
     "metadata": {},
     "output_type": "execute_result"
    }
   ],
   "source": [
    "purpose_debt_ratio = data.pivot_table(index = 'purpose_category', \n",
    "                                       columns = 'debt', \n",
    "                                       values = 'days_employed', \n",
    "                                       aggfunc = 'count',\n",
    "                                       margins = True) \n",
    "#в значении values считает общее колличество строк, поэтому можно выбирать любой столбец\n",
    "purpose_debt_ratio['ratio_0'] = round(purpose_debt_ratio.loc[:,0] / purpose_debt_ratio.loc[:,'All']*100, 2)\n",
    "purpose_debt_ratio['ratio_1'] = round(purpose_debt_ratio.loc[:,1] / purpose_debt_ratio.loc[:,'All']*100, 2)\n",
    "purpose_debt_ratio.rename(columns = {0:'Без задолженности',\n",
    "                                      1:'Просроченные кредиты',\n",
    "                                      'All':'Всего займов',\n",
    "                                      'ratio_0':'Без задолженности, %',\n",
    "                                      'ratio_1':'Просроченные кредиты, %'})\n",
    "#для удобства прочтения таблица была переименована"
   ]
  },
  {
   "cell_type": "markdown",
   "id": "cf05ed63",
   "metadata": {
    "deletable": false,
    "id": "cf05ed63"
   },
   "source": [
    "**Вывод:** "
   ]
  },
  {
   "cell_type": "markdown",
   "id": "4e9fccdd",
   "metadata": {},
   "source": [
    "Из таблицы видно, что наиболее просроченные проценты по кредитам, у клиентов, которые берут займ для операций с автомобилем или получением образования. Клиенты, которые берут займ на операции с нежвижимостью или проведением свадьбы, чаще отдают кредит без задолженностей."
   ]
  },
  {
   "cell_type": "markdown",
   "id": "46c1f10b",
   "metadata": {
    "deletable": false,
    "editable": false,
    "id": "46c1f10b"
   },
   "source": [
    "#### 3.5 Приведите возможные причины появления пропусков в исходных данных."
   ]
  },
  {
   "cell_type": "markdown",
   "id": "3697d2a9",
   "metadata": {
    "deletable": false,
    "id": "3697d2a9"
   },
   "source": [
    "*Ответ:*  в данной таблице основные проблемы с данными были в столбцах **days_employed**, где были отрицательные дни трудового стажа, и **total_income**, где были пропущены значения дохода клиентов. Данные ошибки могли быть вызваны либо по причине человеческого фактора, либо сбоем системы. "
   ]
  },
  {
   "cell_type": "markdown",
   "id": "3137d257",
   "metadata": {
    "deletable": false,
    "editable": false,
    "id": "3137d257"
   },
   "source": [
    "#### 3.6 Объясните, почему заполнить пропуски медианным значением — лучшее решение для количественных переменных."
   ]
  },
  {
   "cell_type": "markdown",
   "id": "cf40012a",
   "metadata": {
    "deletable": false,
    "id": "cf40012a"
   },
   "source": [
    "*Ответ:* математическим свойством медианы является то, что сумма абсолютных (по модулю) отклонений от медианного значения дает минимально возможное значение, если сравнивать с отклонениями от любой другой величины. То есть она более устойчева к аномальным значениям в данных."
   ]
  },
  {
   "cell_type": "markdown",
   "id": "57bc304e",
   "metadata": {
    "deletable": false,
    "editable": false,
    "id": "57bc304e"
   },
   "source": [
    "### Шаг 4: общий вывод."
   ]
  },
  {
   "cell_type": "markdown",
   "id": "1ab75d1c",
   "metadata": {
    "deletable": false,
    "id": "1ab75d1c"
   },
   "source": [
    "Проектная работа заключалась в обработке данных от кредитного отдела банка, для выяснения зависимстей наличия и колличества детей, семейного положения, уровня дохода и причин взятия кредита на факт погашения кредита в срок. \n",
    "\n",
    "В ходе выполнения проектной работы были выполнены действия по предобработке данных, в которых: были заменены пропуски в исходных данных по ежемесячному доходу клиентов (столбец **total_income**) на медианное значение для каждого типа заработка (столбец **income_type**). Данное значение позволило учесть особенности обработки данных без изменения статистических показателей. Также, были обработаны аномальные значения трудового стажа (столбец **days_employed**) и значения колличества детей (столбец **children**), которые не отражают действительности и появились по какой-либо ошибке (*человеческий фактор*, *програмная ошибка*). Помимо этого, были убраны дубликанты, приведены все данные к нижнему регистру. Заключительной частью предварительной обработки данных было изменение типов данных на целочисление в столбце ежемесячного дохода. Таким образом, все действия по предварительной обработке были выполнены. \n",
    "\n",
    "Далее, все клиенты были разбиты на категории по уровню дохода: \n",
    "   - С доходом выше 1000001 - категория 'А';\n",
    "   - С доходом от 200001 до 1000000 - категория 'В';\n",
    "   - С доходом от 50001 до 200000 - категория 'C';\n",
    "   - С доходом от 30001 до 50000 - категория 'D';\n",
    "   - С доходом до 30000 - категория 'E'.\n",
    "   \n",
    "Также, цели получения кредита были обобщены по следующим операциям:\n",
    "   - Операции с автомобилем;\n",
    "   - Операции с недвижимостью;\n",
    "   - Проведение свадьбы;\n",
    "   - Получение образования.\n",
    "   \n",
    "Исходя из предложеных категорий были выявлены зависимости, которые позволяют ответить на первоначальные вопросы:\n",
    "\n",
    "1. Есть ли зависимость между колличеством детей и возвратом кредита в срок?\n",
    "\n",
    "Да, статистика показывает, что у клиентов без детей просроченных кредитов **7.54%**, что меньше, чем средние показатели для клиентов с детьми **8.12%**. Более того, при выявлении статистики, стало видно, что при большем колличестве детей, растет процент по просроченным кредитам, таким образом, для клиентов с 4 детьми, процент просроченных кредитов уже достигает **9.76%**, что заметно выше среднего значения. \n",
    "\n",
    "2. Есть ли зависимость между семейным положением и возвратом кредита в срок?\n",
    "\n",
    "По статистике, заемщики, которые ранее состояли или состоящие в браке реже допускают просрочку **7.06%** и **7.56%** соответственное. А для остальных категорий, процент просрочки сильно выше, для не женатых/не замужем он достигает **9.76%**, для состоящих в гражданском браке **9.31%**. Стоит учитывать, что самым низким показателем просроченных кредитов, обладает категория вдова/вдовец **6.62%**.\n",
    "\n",
    "3. Есть ли зависимость между уровнем дохода и возвратом кредита в срок?\n",
    "\n",
    "Было установлено, что при увеличении уровня дохода заемщики реже допускают задолженности по кредитам, так для категории ***Е*** процент задолженности по займу доходит до **9.09%**, для категории ***D*** составлет **6.02%**, для категории ***С*** будет **6.02%**, категории ***В*** будет **7.06%**, а для категории ***А*** уже **8%** ровно. Тем не менее, стоит также учесть, что статистических данных для категории ***А*** и категории ***Е*** довольно мало, чтобы сделать однозначные выводы по ним, поэтому они могут быть статистически незначительными. \n",
    "\n",
    "4. Как разные цели кредита влияют на его возврат в срок?\n",
    "\n",
    "Из данных установлено, что наиболее обширной и добросовестной категорией платильщиков являются заемщики, которые берут кредит на операции с недвижимостью, для них процент просроченных кредитов состовляет **7.26%**, также, небольшой процент просроченных кредитов у заемщиков, чьей целбю получения кредита стало процедение свадьбы **7.91%**, а вот займы, выданные на получение образования и операции с автомобилем имеют наибольший процент просроченных кредитов **9.25%** и **9.35%** соответственно. \n",
    "\n",
    "Таким образом, были проведены работы по предварительной обработке и обработке данных, и получены необходимые зависимости. "
   ]
  }
 ],
 "metadata": {
  "ExecuteTimeLog": [
   {
    "duration": 62,
    "start_time": "2023-04-22T13:07:45.227Z"
   },
   {
    "duration": 555,
    "start_time": "2023-04-22T13:07:53.953Z"
   },
   {
    "duration": 20,
    "start_time": "2023-04-22T13:07:54.510Z"
   },
   {
    "duration": 14,
    "start_time": "2023-04-22T13:07:54.532Z"
   },
   {
    "duration": 9,
    "start_time": "2023-04-22T13:07:54.547Z"
   },
   {
    "duration": 61,
    "start_time": "2023-04-22T13:07:54.558Z"
   },
   {
    "duration": 3,
    "start_time": "2023-04-22T13:07:54.621Z"
   },
   {
    "duration": 9,
    "start_time": "2023-04-22T13:07:54.626Z"
   },
   {
    "duration": 4,
    "start_time": "2023-04-22T13:07:54.636Z"
   },
   {
    "duration": 8,
    "start_time": "2023-04-22T13:07:54.642Z"
   },
   {
    "duration": 4,
    "start_time": "2023-04-22T13:07:54.651Z"
   },
   {
    "duration": 35,
    "start_time": "2023-04-22T13:07:54.685Z"
   },
   {
    "duration": 10,
    "start_time": "2023-04-22T13:07:54.722Z"
   },
   {
    "duration": 4,
    "start_time": "2023-04-22T13:07:54.733Z"
   },
   {
    "duration": 20,
    "start_time": "2023-04-22T13:07:54.739Z"
   },
   {
    "duration": 41,
    "start_time": "2023-04-22T13:07:54.760Z"
   },
   {
    "duration": 15,
    "start_time": "2023-04-22T13:07:54.803Z"
   },
   {
    "duration": 3,
    "start_time": "2023-04-22T13:07:54.820Z"
   },
   {
    "duration": 13,
    "start_time": "2023-04-22T13:07:54.825Z"
   },
   {
    "duration": 5,
    "start_time": "2023-04-22T13:07:54.840Z"
   },
   {
    "duration": 3,
    "start_time": "2023-04-22T13:07:54.847Z"
   },
   {
    "duration": 41,
    "start_time": "2023-04-22T13:07:54.852Z"
   },
   {
    "duration": 62,
    "start_time": "2023-04-22T13:07:54.895Z"
   },
   {
    "duration": 0,
    "start_time": "2023-04-22T13:07:54.959Z"
   },
   {
    "duration": 0,
    "start_time": "2023-04-22T13:07:54.960Z"
   },
   {
    "duration": 0,
    "start_time": "2023-04-22T13:07:54.962Z"
   },
   {
    "duration": 14,
    "start_time": "2023-04-22T13:08:15.904Z"
   },
   {
    "duration": 18,
    "start_time": "2023-04-22T13:08:28.881Z"
   },
   {
    "duration": 73,
    "start_time": "2023-04-22T13:29:38.905Z"
   },
   {
    "duration": 3,
    "start_time": "2023-04-22T13:42:47.579Z"
   },
   {
    "duration": 3,
    "start_time": "2023-04-22T13:42:57.578Z"
   },
   {
    "duration": 8,
    "start_time": "2023-04-22T13:43:12.288Z"
   },
   {
    "duration": 9,
    "start_time": "2023-04-22T13:43:18.264Z"
   },
   {
    "duration": 6,
    "start_time": "2023-04-22T13:43:30.073Z"
   },
   {
    "duration": 6,
    "start_time": "2023-04-22T13:43:35.309Z"
   },
   {
    "duration": 7,
    "start_time": "2023-04-22T13:43:50.637Z"
   },
   {
    "duration": 6,
    "start_time": "2023-04-22T13:43:53.257Z"
   },
   {
    "duration": 22,
    "start_time": "2023-04-22T13:56:05.816Z"
   },
   {
    "duration": 1113,
    "start_time": "2023-04-22T13:56:32.408Z"
   },
   {
    "duration": 16,
    "start_time": "2023-04-22T13:56:43.434Z"
   },
   {
    "duration": 17,
    "start_time": "2023-04-22T13:57:00.306Z"
   },
   {
    "duration": 97,
    "start_time": "2023-04-22T13:57:10.858Z"
   },
   {
    "duration": 105,
    "start_time": "2023-04-22T13:57:16.561Z"
   },
   {
    "duration": 89,
    "start_time": "2023-04-22T13:57:20.370Z"
   },
   {
    "duration": 111,
    "start_time": "2023-04-22T13:57:24.270Z"
   },
   {
    "duration": 17,
    "start_time": "2023-04-22T13:57:26.916Z"
   },
   {
    "duration": 25,
    "start_time": "2023-04-22T13:58:05.577Z"
   },
   {
    "duration": 22,
    "start_time": "2023-04-22T13:58:32.976Z"
   },
   {
    "duration": 22,
    "start_time": "2023-04-22T13:59:04.141Z"
   },
   {
    "duration": 16,
    "start_time": "2023-04-22T13:59:16.051Z"
   },
   {
    "duration": 121,
    "start_time": "2023-04-22T14:00:00.422Z"
   },
   {
    "duration": 87,
    "start_time": "2023-04-22T14:00:08.920Z"
   },
   {
    "duration": 40,
    "start_time": "2023-04-22T14:00:15.005Z"
   },
   {
    "duration": 660,
    "start_time": "2023-04-22T14:04:13.687Z"
   },
   {
    "duration": 635,
    "start_time": "2023-04-22T14:04:25.500Z"
   },
   {
    "duration": 607,
    "start_time": "2023-04-22T14:04:40.640Z"
   },
   {
    "duration": 38,
    "start_time": "2023-04-22T14:04:53.131Z"
   },
   {
    "duration": 91,
    "start_time": "2023-04-22T14:05:23.105Z"
   },
   {
    "duration": 1397,
    "start_time": "2023-04-22T14:05:44.052Z"
   },
   {
    "duration": 46,
    "start_time": "2023-04-22T14:07:13.957Z"
   },
   {
    "duration": 41,
    "start_time": "2023-04-22T14:09:55.072Z"
   },
   {
    "duration": 1313,
    "start_time": "2023-04-22T14:10:08.785Z"
   },
   {
    "duration": 1294,
    "start_time": "2023-04-22T14:10:15.611Z"
   },
   {
    "duration": 37,
    "start_time": "2023-04-22T14:10:31.341Z"
   },
   {
    "duration": 10,
    "start_time": "2023-04-22T14:10:45.746Z"
   },
   {
    "duration": 38,
    "start_time": "2023-04-22T14:10:50.066Z"
   },
   {
    "duration": 18,
    "start_time": "2023-04-22T14:10:59.717Z"
   },
   {
    "duration": 18,
    "start_time": "2023-04-22T14:11:22.628Z"
   },
   {
    "duration": 13,
    "start_time": "2023-04-22T14:11:33.144Z"
   },
   {
    "duration": 16,
    "start_time": "2023-04-22T14:11:38.857Z"
   },
   {
    "duration": 14,
    "start_time": "2023-04-22T14:14:18.598Z"
   },
   {
    "duration": 14,
    "start_time": "2023-04-22T14:14:46.168Z"
   },
   {
    "duration": 19,
    "start_time": "2023-04-22T14:14:53.303Z"
   },
   {
    "duration": 19,
    "start_time": "2023-04-22T14:15:00.555Z"
   },
   {
    "duration": 31,
    "start_time": "2023-04-22T14:15:18.180Z"
   },
   {
    "duration": 79,
    "start_time": "2023-04-22T14:15:41.812Z"
   },
   {
    "duration": 3,
    "start_time": "2023-04-22T14:15:47.298Z"
   },
   {
    "duration": 21,
    "start_time": "2023-04-22T14:15:51.780Z"
   },
   {
    "duration": 19,
    "start_time": "2023-04-22T14:16:06.410Z"
   },
   {
    "duration": 974,
    "start_time": "2023-04-22T14:16:48.005Z"
   },
   {
    "duration": 974,
    "start_time": "2023-04-22T14:16:54.359Z"
   },
   {
    "duration": 22,
    "start_time": "2023-04-22T14:17:02.969Z"
   },
   {
    "duration": 701,
    "start_time": "2023-04-22T14:17:32.199Z"
   },
   {
    "duration": 630,
    "start_time": "2023-04-22T14:17:37.114Z"
   },
   {
    "duration": 18,
    "start_time": "2023-04-22T14:17:41.640Z"
   },
   {
    "duration": 43,
    "start_time": "2023-04-22T14:18:48.584Z"
   },
   {
    "duration": 34,
    "start_time": "2023-04-22T14:20:38.533Z"
   },
   {
    "duration": 1346,
    "start_time": "2023-04-22T14:20:42.700Z"
   },
   {
    "duration": 45,
    "start_time": "2023-04-22T14:20:49.449Z"
   },
   {
    "duration": 41,
    "start_time": "2023-04-22T14:21:02.929Z"
   },
   {
    "duration": 1371,
    "start_time": "2023-04-22T14:21:36.108Z"
   },
   {
    "duration": 41,
    "start_time": "2023-04-22T14:21:43.601Z"
   },
   {
    "duration": 45,
    "start_time": "2023-04-22T14:21:47.777Z"
   },
   {
    "duration": 515,
    "start_time": "2023-04-22T14:22:30.315Z"
   },
   {
    "duration": 35,
    "start_time": "2023-04-22T14:22:30.832Z"
   },
   {
    "duration": 37,
    "start_time": "2023-04-22T14:22:30.869Z"
   },
   {
    "duration": 11,
    "start_time": "2023-04-22T14:22:30.908Z"
   },
   {
    "duration": 70,
    "start_time": "2023-04-22T14:22:30.921Z"
   },
   {
    "duration": 9,
    "start_time": "2023-04-22T14:22:30.993Z"
   },
   {
    "duration": 25,
    "start_time": "2023-04-22T14:22:31.004Z"
   },
   {
    "duration": 33,
    "start_time": "2023-04-22T14:22:31.031Z"
   },
   {
    "duration": 52,
    "start_time": "2023-04-22T14:22:31.066Z"
   },
   {
    "duration": 12,
    "start_time": "2023-04-22T14:22:31.121Z"
   },
   {
    "duration": 63,
    "start_time": "2023-04-22T14:22:31.135Z"
   },
   {
    "duration": 20,
    "start_time": "2023-04-22T14:22:31.199Z"
   },
   {
    "duration": 27,
    "start_time": "2023-04-22T14:22:31.221Z"
   },
   {
    "duration": 26,
    "start_time": "2023-04-22T14:22:31.250Z"
   },
   {
    "duration": 42,
    "start_time": "2023-04-22T14:22:31.278Z"
   },
   {
    "duration": 24,
    "start_time": "2023-04-22T14:22:31.322Z"
   },
   {
    "duration": 11,
    "start_time": "2023-04-22T14:22:31.348Z"
   },
   {
    "duration": 44,
    "start_time": "2023-04-22T14:22:31.361Z"
   },
   {
    "duration": 25,
    "start_time": "2023-04-22T14:22:31.407Z"
   },
   {
    "duration": 28,
    "start_time": "2023-04-22T14:22:31.434Z"
   },
   {
    "duration": 42,
    "start_time": "2023-04-22T14:22:31.463Z"
   },
   {
    "duration": 93,
    "start_time": "2023-04-22T14:22:31.506Z"
   },
   {
    "duration": 3,
    "start_time": "2023-04-22T14:22:31.603Z"
   },
   {
    "duration": 30,
    "start_time": "2023-04-22T14:22:31.609Z"
   },
   {
    "duration": 28,
    "start_time": "2023-04-22T14:22:31.642Z"
   },
   {
    "duration": 53,
    "start_time": "2023-04-22T14:22:42.360Z"
   },
   {
    "duration": 41,
    "start_time": "2023-04-22T14:22:52.924Z"
   },
   {
    "duration": 41,
    "start_time": "2023-04-22T14:22:59.547Z"
   },
   {
    "duration": 1379,
    "start_time": "2023-04-22T14:23:07.374Z"
   },
   {
    "duration": 1448,
    "start_time": "2023-04-22T14:23:16.498Z"
   },
   {
    "duration": 41,
    "start_time": "2023-04-22T14:23:22.301Z"
   },
   {
    "duration": 55,
    "start_time": "2023-04-22T14:23:28.221Z"
   },
   {
    "duration": 41,
    "start_time": "2023-04-22T14:24:04.830Z"
   },
   {
    "duration": 60,
    "start_time": "2023-04-22T14:26:50.465Z"
   },
   {
    "duration": 1416,
    "start_time": "2023-04-22T14:27:10.886Z"
   },
   {
    "duration": 41,
    "start_time": "2023-04-22T14:27:16.312Z"
   },
   {
    "duration": 37,
    "start_time": "2023-04-22T14:27:25.509Z"
   },
   {
    "duration": 40,
    "start_time": "2023-04-22T14:28:12.116Z"
   },
   {
    "duration": 1316,
    "start_time": "2023-04-22T14:28:15.665Z"
   },
   {
    "duration": 42,
    "start_time": "2023-04-22T14:28:24.563Z"
   },
   {
    "duration": 36,
    "start_time": "2023-04-22T14:28:38.010Z"
   },
   {
    "duration": 51,
    "start_time": "2023-04-22T14:30:51.672Z"
   },
   {
    "duration": 74,
    "start_time": "2023-04-22T14:33:24.014Z"
   },
   {
    "duration": 1351,
    "start_time": "2023-04-22T14:33:53.054Z"
   },
   {
    "duration": 41,
    "start_time": "2023-04-22T14:34:01.508Z"
   },
   {
    "duration": 42,
    "start_time": "2023-04-22T14:35:30.210Z"
   },
   {
    "duration": 44,
    "start_time": "2023-04-22T14:35:37.660Z"
   },
   {
    "duration": 80,
    "start_time": "2023-04-22T14:37:16.623Z"
   },
   {
    "duration": 55,
    "start_time": "2023-04-22T14:37:24.082Z"
   },
   {
    "duration": 42,
    "start_time": "2023-04-22T14:37:43.801Z"
   },
   {
    "duration": 51,
    "start_time": "2023-04-22T14:39:25.150Z"
   },
   {
    "duration": 46,
    "start_time": "2023-04-22T14:42:19.470Z"
   },
   {
    "duration": 46,
    "start_time": "2023-04-22T14:43:09.210Z"
   },
   {
    "duration": 15,
    "start_time": "2023-04-22T15:12:44.609Z"
   },
   {
    "duration": 36,
    "start_time": "2023-04-22T15:12:52.019Z"
   },
   {
    "duration": 42,
    "start_time": "2023-04-22T15:13:56.106Z"
   },
   {
    "duration": 66,
    "start_time": "2023-04-22T15:14:24.239Z"
   },
   {
    "duration": 74,
    "start_time": "2023-04-22T15:15:11.838Z"
   },
   {
    "duration": 121,
    "start_time": "2023-04-22T15:15:18.409Z"
   },
   {
    "duration": 46,
    "start_time": "2023-04-22T15:16:24.970Z"
   },
   {
    "duration": 44,
    "start_time": "2023-04-22T15:17:11.042Z"
   },
   {
    "duration": 56,
    "start_time": "2023-04-22T15:17:19.305Z"
   },
   {
    "duration": 47,
    "start_time": "2023-04-22T15:17:29.552Z"
   },
   {
    "duration": 503,
    "start_time": "2023-04-22T15:19:13.277Z"
   },
   {
    "duration": 22,
    "start_time": "2023-04-22T15:19:13.782Z"
   },
   {
    "duration": 17,
    "start_time": "2023-04-22T15:19:13.806Z"
   },
   {
    "duration": 11,
    "start_time": "2023-04-22T15:19:13.825Z"
   },
   {
    "duration": 56,
    "start_time": "2023-04-22T15:19:13.839Z"
   },
   {
    "duration": 4,
    "start_time": "2023-04-22T15:19:13.897Z"
   },
   {
    "duration": 25,
    "start_time": "2023-04-22T15:19:13.902Z"
   },
   {
    "duration": 43,
    "start_time": "2023-04-22T15:19:13.928Z"
   },
   {
    "duration": 57,
    "start_time": "2023-04-22T15:19:13.974Z"
   },
   {
    "duration": 15,
    "start_time": "2023-04-22T15:19:14.034Z"
   },
   {
    "duration": 75,
    "start_time": "2023-04-22T15:19:14.051Z"
   },
   {
    "duration": 13,
    "start_time": "2023-04-22T15:19:14.128Z"
   },
   {
    "duration": 32,
    "start_time": "2023-04-22T15:19:14.143Z"
   },
   {
    "duration": 32,
    "start_time": "2023-04-22T15:19:14.177Z"
   },
   {
    "duration": 54,
    "start_time": "2023-04-22T15:19:14.210Z"
   },
   {
    "duration": 17,
    "start_time": "2023-04-22T15:19:14.266Z"
   },
   {
    "duration": 9,
    "start_time": "2023-04-22T15:19:14.285Z"
   },
   {
    "duration": 31,
    "start_time": "2023-04-22T15:19:14.296Z"
   },
   {
    "duration": 13,
    "start_time": "2023-04-22T15:19:14.329Z"
   },
   {
    "duration": 14,
    "start_time": "2023-04-22T15:19:14.344Z"
   },
   {
    "duration": 37,
    "start_time": "2023-04-22T15:19:14.360Z"
   },
   {
    "duration": 54,
    "start_time": "2023-04-22T15:19:14.399Z"
   },
   {
    "duration": 49,
    "start_time": "2023-04-22T15:19:14.455Z"
   },
   {
    "duration": 3,
    "start_time": "2023-04-22T15:19:14.506Z"
   },
   {
    "duration": 18,
    "start_time": "2023-04-22T15:19:14.510Z"
   },
   {
    "duration": 41,
    "start_time": "2023-04-22T15:22:32.153Z"
   },
   {
    "duration": 40,
    "start_time": "2023-04-22T15:30:29.841Z"
   },
   {
    "duration": 63,
    "start_time": "2023-04-22T15:30:43.491Z"
   },
   {
    "duration": 39,
    "start_time": "2023-04-22T15:34:33.279Z"
   },
   {
    "duration": 47,
    "start_time": "2023-04-22T15:57:03.656Z"
   },
   {
    "duration": 41,
    "start_time": "2023-04-22T15:57:23.603Z"
   },
   {
    "duration": 439,
    "start_time": "2023-04-22T16:28:20.522Z"
   },
   {
    "duration": 22,
    "start_time": "2023-04-22T16:28:20.962Z"
   },
   {
    "duration": 15,
    "start_time": "2023-04-22T16:28:20.985Z"
   },
   {
    "duration": 21,
    "start_time": "2023-04-22T16:28:21.002Z"
   },
   {
    "duration": 39,
    "start_time": "2023-04-22T16:28:21.024Z"
   },
   {
    "duration": 4,
    "start_time": "2023-04-22T16:28:21.065Z"
   },
   {
    "duration": 21,
    "start_time": "2023-04-22T16:28:21.071Z"
   },
   {
    "duration": 5,
    "start_time": "2023-04-22T16:28:21.094Z"
   },
   {
    "duration": 8,
    "start_time": "2023-04-22T16:28:21.101Z"
   },
   {
    "duration": 6,
    "start_time": "2023-04-22T16:28:21.112Z"
   },
   {
    "duration": 34,
    "start_time": "2023-04-22T16:28:21.120Z"
   },
   {
    "duration": 11,
    "start_time": "2023-04-22T16:28:21.185Z"
   },
   {
    "duration": 6,
    "start_time": "2023-04-22T16:28:21.197Z"
   },
   {
    "duration": 12,
    "start_time": "2023-04-22T16:28:21.205Z"
   },
   {
    "duration": 19,
    "start_time": "2023-04-22T16:28:21.219Z"
   },
   {
    "duration": 16,
    "start_time": "2023-04-22T16:28:21.239Z"
   },
   {
    "duration": 29,
    "start_time": "2023-04-22T16:28:21.256Z"
   },
   {
    "duration": 10,
    "start_time": "2023-04-22T16:28:21.287Z"
   },
   {
    "duration": 8,
    "start_time": "2023-04-22T16:28:21.298Z"
   },
   {
    "duration": 3,
    "start_time": "2023-04-22T16:28:21.307Z"
   },
   {
    "duration": 15,
    "start_time": "2023-04-22T16:28:21.312Z"
   },
   {
    "duration": 65,
    "start_time": "2023-04-22T16:28:21.329Z"
   },
   {
    "duration": 41,
    "start_time": "2023-04-22T16:28:21.396Z"
   },
   {
    "duration": 57,
    "start_time": "2023-04-22T16:28:21.439Z"
   },
   {
    "duration": 42,
    "start_time": "2023-04-22T16:28:21.498Z"
   },
   {
    "duration": 693,
    "start_time": "2023-04-22T17:47:34.080Z"
   },
   {
    "duration": 21,
    "start_time": "2023-04-22T17:47:34.775Z"
   },
   {
    "duration": 13,
    "start_time": "2023-04-22T17:47:34.798Z"
   },
   {
    "duration": 9,
    "start_time": "2023-04-22T17:47:34.813Z"
   },
   {
    "duration": 41,
    "start_time": "2023-04-22T17:47:34.823Z"
   },
   {
    "duration": 3,
    "start_time": "2023-04-22T17:47:34.865Z"
   },
   {
    "duration": 17,
    "start_time": "2023-04-22T17:47:34.870Z"
   },
   {
    "duration": 6,
    "start_time": "2023-04-22T17:47:34.888Z"
   },
   {
    "duration": 9,
    "start_time": "2023-04-22T17:47:34.895Z"
   },
   {
    "duration": 4,
    "start_time": "2023-04-22T17:47:34.907Z"
   },
   {
    "duration": 50,
    "start_time": "2023-04-22T17:47:34.912Z"
   },
   {
    "duration": 10,
    "start_time": "2023-04-22T17:47:34.963Z"
   },
   {
    "duration": 4,
    "start_time": "2023-04-22T17:47:34.974Z"
   },
   {
    "duration": 13,
    "start_time": "2023-04-22T17:47:34.979Z"
   },
   {
    "duration": 21,
    "start_time": "2023-04-22T17:47:34.993Z"
   },
   {
    "duration": 39,
    "start_time": "2023-04-22T17:47:35.015Z"
   },
   {
    "duration": 3,
    "start_time": "2023-04-22T17:47:35.056Z"
   },
   {
    "duration": 15,
    "start_time": "2023-04-22T17:47:35.061Z"
   },
   {
    "duration": 9,
    "start_time": "2023-04-22T17:47:35.078Z"
   },
   {
    "duration": 3,
    "start_time": "2023-04-22T17:47:35.088Z"
   },
   {
    "duration": 12,
    "start_time": "2023-04-22T17:47:35.093Z"
   },
   {
    "duration": 66,
    "start_time": "2023-04-22T17:47:35.106Z"
   },
   {
    "duration": 40,
    "start_time": "2023-04-22T17:47:35.174Z"
   },
   {
    "duration": 57,
    "start_time": "2023-04-22T17:47:35.215Z"
   },
   {
    "duration": 39,
    "start_time": "2023-04-22T17:47:35.274Z"
   },
   {
    "duration": 686,
    "start_time": "2023-04-23T16:43:40.674Z"
   },
   {
    "duration": 22,
    "start_time": "2023-04-23T16:43:41.363Z"
   },
   {
    "duration": 16,
    "start_time": "2023-04-23T16:43:41.387Z"
   },
   {
    "duration": 19,
    "start_time": "2023-04-23T16:43:41.405Z"
   },
   {
    "duration": 45,
    "start_time": "2023-04-23T16:43:41.426Z"
   },
   {
    "duration": 3,
    "start_time": "2023-04-23T16:43:41.473Z"
   },
   {
    "duration": 26,
    "start_time": "2023-04-23T16:43:41.478Z"
   },
   {
    "duration": 35,
    "start_time": "2023-04-23T16:43:41.506Z"
   },
   {
    "duration": 24,
    "start_time": "2023-04-23T16:43:41.543Z"
   },
   {
    "duration": 5,
    "start_time": "2023-04-23T16:43:41.570Z"
   },
   {
    "duration": 40,
    "start_time": "2023-04-23T16:43:41.576Z"
   },
   {
    "duration": 10,
    "start_time": "2023-04-23T16:43:41.617Z"
   },
   {
    "duration": 7,
    "start_time": "2023-04-23T16:43:41.629Z"
   },
   {
    "duration": 17,
    "start_time": "2023-04-23T16:43:41.638Z"
   },
   {
    "duration": 29,
    "start_time": "2023-04-23T16:43:41.657Z"
   },
   {
    "duration": 18,
    "start_time": "2023-04-23T16:43:41.688Z"
   },
   {
    "duration": 4,
    "start_time": "2023-04-23T16:43:41.717Z"
   },
   {
    "duration": 20,
    "start_time": "2023-04-23T16:43:41.723Z"
   },
   {
    "duration": 8,
    "start_time": "2023-04-23T16:43:41.745Z"
   },
   {
    "duration": 17,
    "start_time": "2023-04-23T16:43:41.755Z"
   },
   {
    "duration": 22,
    "start_time": "2023-04-23T16:43:41.773Z"
   },
   {
    "duration": 52,
    "start_time": "2023-04-23T16:43:41.797Z"
   },
   {
    "duration": 47,
    "start_time": "2023-04-23T16:43:41.851Z"
   },
   {
    "duration": 75,
    "start_time": "2023-04-23T16:43:41.899Z"
   },
   {
    "duration": 62,
    "start_time": "2023-04-23T16:43:41.977Z"
   }
  ],
  "colab": {
   "provenance": []
  },
  "kernelspec": {
   "display_name": "Python 3 (ipykernel)",
   "language": "python",
   "name": "python3"
  },
  "language_info": {
   "codemirror_mode": {
    "name": "ipython",
    "version": 3
   },
   "file_extension": ".py",
   "mimetype": "text/x-python",
   "name": "python",
   "nbconvert_exporter": "python",
   "pygments_lexer": "ipython3",
   "version": "3.9.16"
  },
  "toc": {
   "base_numbering": 1,
   "nav_menu": {},
   "number_sections": true,
   "sideBar": true,
   "skip_h1_title": true,
   "title_cell": "Table of Contents",
   "title_sidebar": "Contents",
   "toc_cell": false,
   "toc_position": {},
   "toc_section_display": true,
   "toc_window_display": true
  },
  "varInspector": {
   "cols": {
    "lenName": 16,
    "lenType": 16,
    "lenVar": 40
   },
   "kernels_config": {
    "python": {
     "delete_cmd_postfix": "",
     "delete_cmd_prefix": "del ",
     "library": "var_list.py",
     "varRefreshCmd": "print(var_dic_list())"
    },
    "r": {
     "delete_cmd_postfix": ") ",
     "delete_cmd_prefix": "rm(",
     "library": "var_list.r",
     "varRefreshCmd": "cat(var_dic_list()) "
    }
   },
   "types_to_exclude": [
    "module",
    "function",
    "builtin_function_or_method",
    "instance",
    "_Feature"
   ],
   "window_display": false
  }
 },
 "nbformat": 4,
 "nbformat_minor": 5
}
