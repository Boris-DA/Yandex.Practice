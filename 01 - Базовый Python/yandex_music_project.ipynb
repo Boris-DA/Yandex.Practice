{
 "cells": [
  {
   "cell_type": "markdown",
   "metadata": {
    "deletable": false,
    "editable": false,
    "id": "E0vqbgi9ay0H"
   },
   "source": [
    "# Яндекс.Музыка"
   ]
  },
  {
   "cell_type": "markdown",
   "metadata": {
    "deletable": false,
    "editable": false,
    "id": "VUC88oWjTJw2"
   },
   "source": [
    "Сравнение Москвы и Петербурга окружено мифами. Например:\n",
    " * Москва — мегаполис, подчинённый жёсткому ритму рабочей недели;\n",
    " * Петербург — культурная столица, со своими вкусами.\n",
    "\n",
    "На данных Яндекс Музыки вы сравните поведение пользователей двух столиц.\n",
    "\n",
    "**Цель исследования** — проверьте три гипотезы:\n",
    "1. Активность пользователей зависит от дня недели. Причём в Москве и Петербурге это проявляется по-разному.\n",
    "2. В понедельник утром в Москве преобладают одни жанры, а в Петербурге — другие. Так же и вечером пятницы преобладают разные жанры — в зависимости от города. \n",
    "3. Москва и Петербург предпочитают разные жанры музыки. В Москве чаще слушают поп-музыку, в Петербурге — русский рэп.\n",
    "\n",
    "**Ход исследования**\n",
    "\n",
    "Данные о поведении пользователей вы получите из файла `yandex_music_project.csv`. О качестве данных ничего не известно. Поэтому перед проверкой гипотез понадобится обзор данных. \n",
    "\n",
    "Вы проверите данные на ошибки и оцените их влияние на исследование. Затем, на этапе предобработки вы поищете возможность исправить самые критичные ошибки данных.\n",
    " \n",
    "Таким образом, исследование пройдёт в три этапа:\n",
    " 1. Обзор данных.\n",
    " 2. Предобработка данных.\n",
    " 3. Проверка гипотез.\n",
    "\n"
   ]
  },
  {
   "cell_type": "markdown",
   "metadata": {
    "deletable": false,
    "editable": false,
    "id": "Ml1hmfXC_Zcs"
   },
   "source": [
    "## Обзор данных\n",
    "\n",
    "Составьте первое представление о данных Яндекс Музыки.\n",
    "\n",
    "\n"
   ]
  },
  {
   "cell_type": "markdown",
   "metadata": {
    "deletable": false,
    "editable": false,
    "id": "57eAOGIz_Zcs",
    "tags": [
     "start_task"
    ]
   },
   "source": [
    "**Задание 1**\n",
    "\n",
    "Основной инструмент аналитика — `pandas`. Импортируйте эту библиотеку."
   ]
  },
  {
   "cell_type": "code",
   "execution_count": 1,
   "metadata": {
    "deletable": false,
    "id": "AXN7PHPN_Zcs"
   },
   "outputs": [],
   "source": [
    "import pandas as pd # импорт библиотеки pandas"
   ]
  },
  {
   "cell_type": "markdown",
   "metadata": {
    "deletable": false,
    "editable": false,
    "id": "SG23P8tt_Zcs",
    "tags": [
     "start_task"
    ]
   },
   "source": [
    "**Задание 2**\n",
    "\n",
    "Прочитайте файл `yandex_music_project.csv` из папки `/datasets` и сохраните его в переменной `df`:"
   ]
  },
  {
   "cell_type": "code",
   "execution_count": 2,
   "metadata": {
    "deletable": false,
    "id": "fFVu7vqh_Zct"
   },
   "outputs": [],
   "source": [
    "df = pd.read_csv('/datasets/yandex_music_project.csv')  # чтение файла с данными и сохранение в df"
   ]
  },
  {
   "cell_type": "markdown",
   "metadata": {
    "deletable": false,
    "editable": false,
    "id": "rDoOMd3uTqnZ",
    "tags": [
     "start_task"
    ]
   },
   "source": [
    "**Задание 3**\n",
    "\n",
    "\n",
    "Выведите на экран первые десять строк таблицы:"
   ]
  },
  {
   "cell_type": "code",
   "execution_count": 3,
   "metadata": {
    "deletable": false,
    "id": "oWTVX3gW_Zct"
   },
   "outputs": [
    {
     "data": {
      "text/html": [
       "<div>\n",
       "<style scoped>\n",
       "    .dataframe tbody tr th:only-of-type {\n",
       "        vertical-align: middle;\n",
       "    }\n",
       "\n",
       "    .dataframe tbody tr th {\n",
       "        vertical-align: top;\n",
       "    }\n",
       "\n",
       "    .dataframe thead th {\n",
       "        text-align: right;\n",
       "    }\n",
       "</style>\n",
       "<table border=\"1\" class=\"dataframe\">\n",
       "  <thead>\n",
       "    <tr style=\"text-align: right;\">\n",
       "      <th></th>\n",
       "      <th>userID</th>\n",
       "      <th>Track</th>\n",
       "      <th>artist</th>\n",
       "      <th>genre</th>\n",
       "      <th>City</th>\n",
       "      <th>time</th>\n",
       "      <th>Day</th>\n",
       "    </tr>\n",
       "  </thead>\n",
       "  <tbody>\n",
       "    <tr>\n",
       "      <th>0</th>\n",
       "      <td>FFB692EC</td>\n",
       "      <td>Kamigata To Boots</td>\n",
       "      <td>The Mass Missile</td>\n",
       "      <td>rock</td>\n",
       "      <td>Saint-Petersburg</td>\n",
       "      <td>20:28:33</td>\n",
       "      <td>Wednesday</td>\n",
       "    </tr>\n",
       "    <tr>\n",
       "      <th>1</th>\n",
       "      <td>55204538</td>\n",
       "      <td>Delayed Because of Accident</td>\n",
       "      <td>Andreas Rönnberg</td>\n",
       "      <td>rock</td>\n",
       "      <td>Moscow</td>\n",
       "      <td>14:07:09</td>\n",
       "      <td>Friday</td>\n",
       "    </tr>\n",
       "    <tr>\n",
       "      <th>2</th>\n",
       "      <td>20EC38</td>\n",
       "      <td>Funiculì funiculà</td>\n",
       "      <td>Mario Lanza</td>\n",
       "      <td>pop</td>\n",
       "      <td>Saint-Petersburg</td>\n",
       "      <td>20:58:07</td>\n",
       "      <td>Wednesday</td>\n",
       "    </tr>\n",
       "    <tr>\n",
       "      <th>3</th>\n",
       "      <td>A3DD03C9</td>\n",
       "      <td>Dragons in the Sunset</td>\n",
       "      <td>Fire + Ice</td>\n",
       "      <td>folk</td>\n",
       "      <td>Saint-Petersburg</td>\n",
       "      <td>08:37:09</td>\n",
       "      <td>Monday</td>\n",
       "    </tr>\n",
       "    <tr>\n",
       "      <th>4</th>\n",
       "      <td>E2DC1FAE</td>\n",
       "      <td>Soul People</td>\n",
       "      <td>Space Echo</td>\n",
       "      <td>dance</td>\n",
       "      <td>Moscow</td>\n",
       "      <td>08:34:34</td>\n",
       "      <td>Monday</td>\n",
       "    </tr>\n",
       "    <tr>\n",
       "      <th>5</th>\n",
       "      <td>842029A1</td>\n",
       "      <td>Преданная</td>\n",
       "      <td>IMPERVTOR</td>\n",
       "      <td>rusrap</td>\n",
       "      <td>Saint-Petersburg</td>\n",
       "      <td>13:09:41</td>\n",
       "      <td>Friday</td>\n",
       "    </tr>\n",
       "    <tr>\n",
       "      <th>6</th>\n",
       "      <td>4CB90AA5</td>\n",
       "      <td>True</td>\n",
       "      <td>Roman Messer</td>\n",
       "      <td>dance</td>\n",
       "      <td>Moscow</td>\n",
       "      <td>13:00:07</td>\n",
       "      <td>Wednesday</td>\n",
       "    </tr>\n",
       "    <tr>\n",
       "      <th>7</th>\n",
       "      <td>F03E1C1F</td>\n",
       "      <td>Feeling This Way</td>\n",
       "      <td>Polina Griffith</td>\n",
       "      <td>dance</td>\n",
       "      <td>Moscow</td>\n",
       "      <td>20:47:49</td>\n",
       "      <td>Wednesday</td>\n",
       "    </tr>\n",
       "    <tr>\n",
       "      <th>8</th>\n",
       "      <td>8FA1D3BE</td>\n",
       "      <td>И вновь продолжается бой</td>\n",
       "      <td>NaN</td>\n",
       "      <td>ruspop</td>\n",
       "      <td>Moscow</td>\n",
       "      <td>09:17:40</td>\n",
       "      <td>Friday</td>\n",
       "    </tr>\n",
       "    <tr>\n",
       "      <th>9</th>\n",
       "      <td>E772D5C0</td>\n",
       "      <td>Pessimist</td>\n",
       "      <td>NaN</td>\n",
       "      <td>dance</td>\n",
       "      <td>Saint-Petersburg</td>\n",
       "      <td>21:20:49</td>\n",
       "      <td>Wednesday</td>\n",
       "    </tr>\n",
       "  </tbody>\n",
       "</table>\n",
       "</div>"
      ],
      "text/plain": [
       "     userID                        Track            artist   genre  \\\n",
       "0  FFB692EC            Kamigata To Boots  The Mass Missile    rock   \n",
       "1  55204538  Delayed Because of Accident  Andreas Rönnberg    rock   \n",
       "2    20EC38            Funiculì funiculà       Mario Lanza     pop   \n",
       "3  A3DD03C9        Dragons in the Sunset        Fire + Ice    folk   \n",
       "4  E2DC1FAE                  Soul People        Space Echo   dance   \n",
       "5  842029A1                    Преданная         IMPERVTOR  rusrap   \n",
       "6  4CB90AA5                         True      Roman Messer   dance   \n",
       "7  F03E1C1F             Feeling This Way   Polina Griffith   dance   \n",
       "8  8FA1D3BE     И вновь продолжается бой               NaN  ruspop   \n",
       "9  E772D5C0                    Pessimist               NaN   dance   \n",
       "\n",
       "             City        time        Day  \n",
       "0  Saint-Petersburg  20:28:33  Wednesday  \n",
       "1            Moscow  14:07:09     Friday  \n",
       "2  Saint-Petersburg  20:58:07  Wednesday  \n",
       "3  Saint-Petersburg  08:37:09     Monday  \n",
       "4            Moscow  08:34:34     Monday  \n",
       "5  Saint-Petersburg  13:09:41     Friday  \n",
       "6            Moscow  13:00:07  Wednesday  \n",
       "7            Moscow  20:47:49  Wednesday  \n",
       "8            Moscow  09:17:40     Friday  \n",
       "9  Saint-Petersburg  21:20:49  Wednesday  "
      ]
     },
     "execution_count": 3,
     "metadata": {},
     "output_type": "execute_result"
    }
   ],
   "source": [
    "df.head(10)  # получение первых 10 строк таблицы df"
   ]
  },
  {
   "cell_type": "markdown",
   "metadata": {
    "deletable": false,
    "editable": false,
    "id": "EO73Kwic_Zct",
    "tags": [
     "start_task"
    ]
   },
   "source": [
    "**Задание 4**\n",
    "\n",
    "\n",
    "Одной командой получить общую информацию о таблице c помощью метода `info()`:"
   ]
  },
  {
   "cell_type": "code",
   "execution_count": 4,
   "metadata": {
    "deletable": false,
    "id": "DSf2kIb-_Zct"
   },
   "outputs": [
    {
     "name": "stdout",
     "output_type": "stream",
     "text": [
      "<class 'pandas.core.frame.DataFrame'>\n",
      "RangeIndex: 65079 entries, 0 to 65078\n",
      "Data columns (total 7 columns):\n",
      " #   Column    Non-Null Count  Dtype \n",
      "---  ------    --------------  ----- \n",
      " 0     userID  65079 non-null  object\n",
      " 1   Track     63848 non-null  object\n",
      " 2   artist    57876 non-null  object\n",
      " 3   genre     63881 non-null  object\n",
      " 4     City    65079 non-null  object\n",
      " 5   time      65079 non-null  object\n",
      " 6   Day       65079 non-null  object\n",
      "dtypes: object(7)\n",
      "memory usage: 3.5+ MB\n"
     ]
    }
   ],
   "source": [
    "df.info()  # получение общей информации о данных в таблице df"
   ]
  },
  {
   "cell_type": "markdown",
   "metadata": {
    "deletable": false,
    "editable": false,
    "id": "TaQ2Iwbr_Zct"
   },
   "source": [
    "Итак, в таблице семь столбцов. Тип данных во всех столбцах — `object`.\n",
    "\n",
    "Согласно документации к данным:\n",
    "* `userID` — идентификатор пользователя;\n",
    "* `Track` — название трека;  \n",
    "* `artist` — имя исполнителя;\n",
    "* `genre` — название жанра;\n",
    "* `City` — город пользователя;\n",
    "* `time` — время начала прослушивания;\n",
    "* `Day` — день недели.\n",
    "\n",
    "Количество значений в столбцах различается. Значит, в данных есть пропущенные значения."
   ]
  },
  {
   "cell_type": "markdown",
   "metadata": {
    "deletable": false,
    "editable": false,
    "id": "4P0UCWzswgEm",
    "tags": [
     "start_task"
    ]
   },
   "source": [
    "**Задание 5**\n",
    "\n",
    "**Вопрос со свободной формой ответа**\n",
    "\n",
    "В названиях колонок видны три нарушения стиля:\n",
    "1. Строчные буквы сочетаются с прописными.\n",
    "2. Встречаются пробелы."
   ]
  },
  {
   "cell_type": "code",
   "execution_count": 5,
   "metadata": {
    "id": "c137-ZstwgEm"
   },
   "outputs": [],
   "source": [
    "# Напишите ваш ответ здесь комментарием. Не удаляйте символ #. Не меняйте тип этой ячейки на Markdown.\n",
    "# Нарушение стиля в имени переменных: 'Day', ' City', 'Track', ' userID' - строчные буквы сочетаются с прописными\n",
    "# Нарушение стиля в имени переменных: ' userID', ' City' - встречаются пробелы"
   ]
  },
  {
   "cell_type": "markdown",
   "metadata": {
    "deletable": false,
    "editable": false,
    "id": "MCB6-dXG_Zct"
   },
   "source": [
    "**Выводы**\n",
    "\n",
    "В каждой строке таблицы — данные о прослушанном треке. Часть колонок описывает саму композицию: название, исполнителя и жанр. Остальные данные рассказывают о пользователе: из какого он города, когда он слушал музыку. \n",
    "\n",
    "Предварительно можно утверждать, что, данных достаточно для проверки гипотез. Но встречаются пропуски в данных, а в названиях колонок — расхождения с хорошим стилем.\n",
    "\n",
    "Чтобы двигаться дальше, нужно устранить проблемы в данных."
   ]
  },
  {
   "cell_type": "markdown",
   "metadata": {
    "deletable": false,
    "editable": false,
    "id": "SjYF6Ub9_Zct"
   },
   "source": [
    "## Предобработка данных\n",
    "Исправьте стиль в заголовках столбцов, исключите пропуски. Затем проверьте данные на дубликаты."
   ]
  },
  {
   "cell_type": "markdown",
   "metadata": {
    "deletable": false,
    "editable": false,
    "id": "dIaKXr29_Zct",
    "tags": [
     "start_task"
    ]
   },
   "source": [
    "### Стиль заголовков\n",
    "\n",
    "**Задание 6**\n",
    "\n",
    "Выведите на экран названия столбцов:"
   ]
  },
  {
   "cell_type": "code",
   "execution_count": 6,
   "metadata": {
    "deletable": false,
    "id": "oKOTdF_Q_Zct"
   },
   "outputs": [
    {
     "data": {
      "text/plain": [
       "Index(['  userID', 'Track', 'artist', 'genre', '  City  ', 'time', 'Day'], dtype='object')"
      ]
     },
     "execution_count": 6,
     "metadata": {},
     "output_type": "execute_result"
    }
   ],
   "source": [
    "df.columns  # перечень названий столбцов таблицы df"
   ]
  },
  {
   "cell_type": "markdown",
   "metadata": {
    "deletable": false,
    "editable": false,
    "id": "zj5534cv_Zct",
    "tags": [
     "start_task"
    ]
   },
   "source": [
    "**Задание 7**\n",
    "\n",
    "\n",
    "Приведите названия в соответствие с хорошим стилем:\n",
    "* несколько слов в названии запишите в «змеином_регистре»,\n",
    "* все символы сделайте строчными,\n",
    "* устраните пробелы.\n",
    "\n",
    "Для этого переименуйте колонки так:\n",
    "* `'  userID'` → `'user_id'`;\n",
    "* `'Track'` → `'track'`;\n",
    "* `'  City  '` → `'city'`;\n",
    "* `'Day'` → `'day'`."
   ]
  },
  {
   "cell_type": "code",
   "execution_count": 7,
   "metadata": {
    "deletable": false,
    "id": "ISlFqs5y_Zct",
    "scrolled": true
   },
   "outputs": [],
   "source": [
    "df = df.rename(columns={'  userID': 'user_id','Track': 'track','  City  ': 'city','Day': 'day',}) # переименование столбцов"
   ]
  },
  {
   "cell_type": "markdown",
   "metadata": {
    "deletable": false,
    "editable": false,
    "id": "1dqbh00J_Zct",
    "tags": [
     "start_task"
    ]
   },
   "source": [
    "**Задание 8**\n",
    "\n",
    "\n",
    "Проверьте результат. Для этого ещё раз выведите на экран названия столбцов:"
   ]
  },
  {
   "cell_type": "code",
   "execution_count": 8,
   "metadata": {
    "deletable": false,
    "id": "d4NOAmTW_Zct",
    "scrolled": true
   },
   "outputs": [
    {
     "data": {
      "text/plain": [
       "Index(['user_id', 'track', 'artist', 'genre', 'city', 'time', 'day'], dtype='object')"
      ]
     },
     "execution_count": 8,
     "metadata": {},
     "output_type": "execute_result"
    }
   ],
   "source": [
    "df.columns # проверка результатов - перечень названий столбцов"
   ]
  },
  {
   "cell_type": "markdown",
   "metadata": {
    "deletable": false,
    "editable": false,
    "id": "5ISfbcfY_Zct",
    "tags": [
     "start_task"
    ]
   },
   "source": [
    "### Пропуски значений\n",
    "\n",
    "**Задание 9**\n",
    "\n",
    "Сначала посчитайте, сколько в таблице пропущенных значений. Для этого достаточно двух методов `pandas`:"
   ]
  },
  {
   "cell_type": "code",
   "execution_count": 9,
   "metadata": {
    "deletable": false,
    "id": "RskX29qr_Zct"
   },
   "outputs": [
    {
     "data": {
      "text/plain": [
       "user_id       0\n",
       "track      1231\n",
       "artist     7203\n",
       "genre      1198\n",
       "city          0\n",
       "time          0\n",
       "day           0\n",
       "dtype: int64"
      ]
     },
     "execution_count": 9,
     "metadata": {},
     "output_type": "execute_result"
    }
   ],
   "source": [
    "df.isna().sum()  # подсчёт пропусков"
   ]
  },
  {
   "cell_type": "markdown",
   "metadata": {
    "deletable": false,
    "editable": false,
    "id": "qubhgnlO_Zct"
   },
   "source": [
    "Не все пропущенные значения влияют на исследование. Так в `track` и `artist` пропуски не важны для вашей работы. Достаточно заменить их явными обозначениями.\n",
    "\n",
    "Но пропуски в `genre` могут помешать сравнению музыкальных вкусов в Москве и Санкт-Петербурге. На практике было бы правильно установить причину пропусков и восстановить данные. Такой возможности нет в учебном проекте. Придётся:\n",
    "* заполнить и эти пропуски явными обозначениями,\n",
    "* оценить, насколько они повредят расчётам. "
   ]
  },
  {
   "cell_type": "markdown",
   "metadata": {
    "deletable": false,
    "editable": false,
    "id": "fSv2laPA_Zct",
    "tags": [
     "start_task"
    ]
   },
   "source": [
    "**Задание 10**\n",
    "\n",
    "Замените пропущенные значения в столбцах `track`, `artist` и `genre` на строку `'unknown'`. Для этого создайте список `columns_to_replace`, переберите его элементы циклом `for` и для каждого столбца выполните замену пропущенных значений:"
   ]
  },
  {
   "cell_type": "code",
   "execution_count": 10,
   "metadata": {
    "deletable": false,
    "id": "KplB5qWs_Zct"
   },
   "outputs": [],
   "source": [
    "columns_to_replace=['track', 'artist', 'genre'] \n",
    "for columns in columns_to_replace:\n",
    "    df[columns]=df[columns].fillna('unknown') # перебор названий столбцов в цикле и замена пропущенных значений на 'unknown'"
   ]
  },
  {
   "cell_type": "markdown",
   "metadata": {
    "deletable": false,
    "editable": false,
    "id": "Ilsm-MZo_Zct",
    "tags": [
     "start_task"
    ]
   },
   "source": [
    "**Задание 11**\n",
    "\n",
    "Убедитесь, что в таблице не осталось пропусков. Для этого ещё раз посчитайте пропущенные значения."
   ]
  },
  {
   "cell_type": "code",
   "execution_count": 11,
   "metadata": {
    "deletable": false,
    "id": "Tq4nYRX4_Zct"
   },
   "outputs": [
    {
     "data": {
      "text/plain": [
       "user_id    0\n",
       "track      0\n",
       "artist     0\n",
       "genre      0\n",
       "city       0\n",
       "time       0\n",
       "day        0\n",
       "dtype: int64"
      ]
     },
     "execution_count": 11,
     "metadata": {},
     "output_type": "execute_result"
    }
   ],
   "source": [
    "df.isna().sum()  # подсчёт пропусков"
   ]
  },
  {
   "cell_type": "markdown",
   "metadata": {
    "deletable": false,
    "editable": false,
    "id": "BWKRtBJ3_Zct",
    "tags": [
     "start_task"
    ]
   },
   "source": [
    "### Дубликаты\n",
    "\n",
    "**Задание 12**\n",
    "\n",
    "Посчитайте явные дубликаты в таблице одной командой:"
   ]
  },
  {
   "cell_type": "code",
   "execution_count": 12,
   "metadata": {
    "deletable": false,
    "id": "36eES_S0_Zct"
   },
   "outputs": [
    {
     "data": {
      "text/plain": [
       "3826"
      ]
     },
     "execution_count": 12,
     "metadata": {},
     "output_type": "execute_result"
    }
   ],
   "source": [
    "df.duplicated().sum() # подсчёт явных дубликатов"
   ]
  },
  {
   "cell_type": "markdown",
   "metadata": {
    "deletable": false,
    "editable": false,
    "id": "Ot25h6XR_Zct",
    "tags": [
     "start_task"
    ]
   },
   "source": [
    "**Задание 13**\n",
    "\n",
    "Вызовите специальный метод `pandas`, чтобы удалить явные дубликаты:"
   ]
  },
  {
   "cell_type": "code",
   "execution_count": 13,
   "metadata": {
    "deletable": false,
    "id": "exFHq6tt_Zct"
   },
   "outputs": [],
   "source": [
    "df = df.drop_duplicates()  # удаление явных дубликатов (с удалением старых индексов и формированием новых)"
   ]
  },
  {
   "cell_type": "markdown",
   "metadata": {
    "deletable": false,
    "editable": false,
    "id": "Im2YwBEG_Zct",
    "tags": [
     "start_task"
    ]
   },
   "source": [
    "**Задание 14**\n",
    "\n",
    "Ещё раз посчитайте явные дубликаты в таблице — убедитесь, что полностью от них избавились:"
   ]
  },
  {
   "cell_type": "code",
   "execution_count": 14,
   "metadata": {
    "deletable": false,
    "id": "-8PuNWQ0_Zct"
   },
   "outputs": [
    {
     "data": {
      "text/plain": [
       "0"
      ]
     },
     "execution_count": 14,
     "metadata": {},
     "output_type": "execute_result"
    }
   ],
   "source": [
    "df.duplicated().sum() # проверка на отсутствие дубликатов"
   ]
  },
  {
   "cell_type": "markdown",
   "metadata": {
    "deletable": false,
    "editable": false,
    "id": "QlFBsxAr_Zct"
   },
   "source": [
    "Теперь избавьтесь от неявных дубликатов в колонке `genre`. Например, название одного и того же жанра может быть записано немного по-разному. Такие ошибки тоже повлияют на результат исследования."
   ]
  },
  {
   "cell_type": "markdown",
   "metadata": {
    "deletable": false,
    "editable": false,
    "id": "eSjWwsOh_Zct",
    "tags": [
     "start_task"
    ]
   },
   "source": [
    "**Задание 15**\n",
    "\n",
    "Выведите на экран список уникальных названий жанров, отсортированный в алфавитном порядке. Для этого:\n",
    "* извлеките нужный столбец датафрейма, \n",
    "* примените к нему метод сортировки,\n",
    "* для отсортированного столбца вызовите метод, который вернёт уникальные значения из столбца."
   ]
  },
  {
   "cell_type": "code",
   "execution_count": 15,
   "metadata": {
    "deletable": false,
    "id": "JIUcqzZN_Zct"
   },
   "outputs": [
    {
     "data": {
      "text/plain": [
       "array(['acid', 'acoustic', 'action', 'adult', 'africa', 'afrikaans',\n",
       "       'alternative', 'alternativepunk', 'ambient', 'americana',\n",
       "       'animated', 'anime', 'arabesk', 'arabic', 'arena',\n",
       "       'argentinetango', 'art', 'audiobook', 'author', 'avantgarde',\n",
       "       'axé', 'baile', 'balkan', 'beats', 'bigroom', 'black', 'bluegrass',\n",
       "       'blues', 'bollywood', 'bossa', 'brazilian', 'breakbeat', 'breaks',\n",
       "       'broadway', 'cantautori', 'cantopop', 'canzone', 'caribbean',\n",
       "       'caucasian', 'celtic', 'chamber', 'chanson', 'children', 'chill',\n",
       "       'chinese', 'choral', 'christian', 'christmas', 'classical',\n",
       "       'classicmetal', 'club', 'colombian', 'comedy', 'conjazz',\n",
       "       'contemporary', 'country', 'cuban', 'dance', 'dancehall',\n",
       "       'dancepop', 'dark', 'death', 'deep', 'deutschrock', 'deutschspr',\n",
       "       'dirty', 'disco', 'dnb', 'documentary', 'downbeat', 'downtempo',\n",
       "       'drum', 'dub', 'dubstep', 'eastern', 'easy', 'electronic',\n",
       "       'electropop', 'emo', 'entehno', 'epicmetal', 'estrada', 'ethnic',\n",
       "       'eurofolk', 'european', 'experimental', 'extrememetal', 'fado',\n",
       "       'fairytail', 'film', 'fitness', 'flamenco', 'folk', 'folklore',\n",
       "       'folkmetal', 'folkrock', 'folktronica', 'forró', 'frankreich',\n",
       "       'französisch', 'french', 'funk', 'future', 'gangsta', 'garage',\n",
       "       'german', 'ghazal', 'gitarre', 'glitch', 'gospel', 'gothic',\n",
       "       'grime', 'grunge', 'gypsy', 'handsup', \"hard'n'heavy\", 'hardcore',\n",
       "       'hardstyle', 'hardtechno', 'hip', 'hip-hop', 'hiphop',\n",
       "       'historisch', 'holiday', 'hop', 'horror', 'house', 'hymn', 'idm',\n",
       "       'independent', 'indian', 'indie', 'indipop', 'industrial',\n",
       "       'inspirational', 'instrumental', 'international', 'irish', 'jam',\n",
       "       'japanese', 'jazz', 'jewish', 'jpop', 'jungle', 'k-pop',\n",
       "       'karadeniz', 'karaoke', 'kayokyoku', 'korean', 'laiko', 'latin',\n",
       "       'latino', 'leftfield', 'local', 'lounge', 'loungeelectronic',\n",
       "       'lovers', 'malaysian', 'mandopop', 'marschmusik', 'meditative',\n",
       "       'mediterranean', 'melodic', 'metal', 'metalcore', 'mexican',\n",
       "       'middle', 'minimal', 'miscellaneous', 'modern', 'mood', 'mpb',\n",
       "       'muslim', 'native', 'neoklassik', 'neue', 'new', 'newage',\n",
       "       'newwave', 'nu', 'nujazz', 'numetal', 'oceania', 'old', 'opera',\n",
       "       'orchestral', 'other', 'piano', 'podcasts', 'pop', 'popdance',\n",
       "       'popelectronic', 'popeurodance', 'poprussian', 'post',\n",
       "       'posthardcore', 'postrock', 'power', 'progmetal', 'progressive',\n",
       "       'psychedelic', 'punjabi', 'punk', 'quebecois', 'ragga', 'ram',\n",
       "       'rancheras', 'rap', 'rave', 'reggae', 'reggaeton', 'regional',\n",
       "       'relax', 'religious', 'retro', 'rhythm', 'rnb', 'rnr', 'rock',\n",
       "       'rockabilly', 'rockalternative', 'rockindie', 'rockother',\n",
       "       'romance', 'roots', 'ruspop', 'rusrap', 'rusrock', 'russian',\n",
       "       'salsa', 'samba', 'scenic', 'schlager', 'self', 'sertanejo',\n",
       "       'shanson', 'shoegazing', 'showtunes', 'singer', 'ska', 'skarock',\n",
       "       'slow', 'smooth', 'soft', 'soul', 'soulful', 'sound', 'soundtrack',\n",
       "       'southern', 'specialty', 'speech', 'spiritual', 'sport',\n",
       "       'stonerrock', 'surf', 'swing', 'synthpop', 'synthrock',\n",
       "       'sängerportrait', 'tango', 'tanzorchester', 'taraftar', 'tatar',\n",
       "       'tech', 'techno', 'teen', 'thrash', 'top', 'traditional',\n",
       "       'tradjazz', 'trance', 'tribal', 'trip', 'triphop', 'tropical',\n",
       "       'türk', 'türkçe', 'ukrrock', 'unknown', 'urban', 'uzbek',\n",
       "       'variété', 'vi', 'videogame', 'vocal', 'western', 'world',\n",
       "       'worldbeat', 'ïîï', 'электроника'], dtype=object)"
      ]
     },
     "execution_count": 15,
     "metadata": {},
     "output_type": "execute_result"
    }
   ],
   "source": [
    "# Просмотр уникальных названий жанров\n",
    "df['genre'].sort_values().unique()"
   ]
  },
  {
   "cell_type": "markdown",
   "metadata": {
    "deletable": false,
    "editable": false,
    "id": "qej-Qmuo_Zct",
    "tags": [
     "start_task"
    ]
   },
   "source": [
    "**Задание 16**\n",
    "\n",
    "Просмотрите список и найдите неявные дубликаты названия `hiphop`. Это могут быть названия с ошибками или альтернативные названия того же жанра.\n",
    "\n",
    "Вы увидите следующие неявные дубликаты:\n",
    "* *hip*,\n",
    "* *hop*,\n",
    "* *hip-hop*.\n",
    "\n",
    "Чтобы очистить от них таблицу используйте метод `replace()` с двумя аргументами: списком строк-дубликатов (включащий *hip*, *hop* и *hip-hop*) и строкой с правильным значением. Вам нужно исправить колонку `genre` в таблице `df`: заменить каждое значение из списка дубликатов на верное. Вместо `hip`, `hop` и `hip-hop` в таблице должно быть значение `hiphop`:"
   ]
  },
  {
   "cell_type": "code",
   "execution_count": 16,
   "metadata": {
    "deletable": false,
    "id": "ErNDkmns_Zct"
   },
   "outputs": [],
   "source": [
    "# Устранение неявных дубликатов\n",
    "df['genre'] = df['genre'].replace('hip','hiphop')\n",
    "df['genre'] = df['genre'].replace('hop','hiphop')\n",
    "df['genre'] = df['genre'].replace('hip-hop','hiphop')"
   ]
  },
  {
   "cell_type": "markdown",
   "metadata": {
    "deletable": false,
    "editable": false,
    "id": "zQKF16_RG15m",
    "tags": [
     "start_task"
    ]
   },
   "source": [
    "**Задание 17**\n",
    "\n",
    "Проверьте, что заменили неправильные названия:\n",
    "\n",
    "*   hip\n",
    "*   hop\n",
    "*   hip-hop\n",
    "\n",
    "Выведите отсортированный список уникальных значений столбца `genre`:"
   ]
  },
  {
   "cell_type": "code",
   "execution_count": 17,
   "metadata": {
    "deletable": false,
    "id": "wvixALnFG15m"
   },
   "outputs": [
    {
     "data": {
      "text/plain": [
       "array(['acid', 'acoustic', 'action', 'adult', 'africa', 'afrikaans',\n",
       "       'alternative', 'alternativepunk', 'ambient', 'americana',\n",
       "       'animated', 'anime', 'arabesk', 'arabic', 'arena',\n",
       "       'argentinetango', 'art', 'audiobook', 'author', 'avantgarde',\n",
       "       'axé', 'baile', 'balkan', 'beats', 'bigroom', 'black', 'bluegrass',\n",
       "       'blues', 'bollywood', 'bossa', 'brazilian', 'breakbeat', 'breaks',\n",
       "       'broadway', 'cantautori', 'cantopop', 'canzone', 'caribbean',\n",
       "       'caucasian', 'celtic', 'chamber', 'chanson', 'children', 'chill',\n",
       "       'chinese', 'choral', 'christian', 'christmas', 'classical',\n",
       "       'classicmetal', 'club', 'colombian', 'comedy', 'conjazz',\n",
       "       'contemporary', 'country', 'cuban', 'dance', 'dancehall',\n",
       "       'dancepop', 'dark', 'death', 'deep', 'deutschrock', 'deutschspr',\n",
       "       'dirty', 'disco', 'dnb', 'documentary', 'downbeat', 'downtempo',\n",
       "       'drum', 'dub', 'dubstep', 'eastern', 'easy', 'electronic',\n",
       "       'electropop', 'emo', 'entehno', 'epicmetal', 'estrada', 'ethnic',\n",
       "       'eurofolk', 'european', 'experimental', 'extrememetal', 'fado',\n",
       "       'fairytail', 'film', 'fitness', 'flamenco', 'folk', 'folklore',\n",
       "       'folkmetal', 'folkrock', 'folktronica', 'forró', 'frankreich',\n",
       "       'französisch', 'french', 'funk', 'future', 'gangsta', 'garage',\n",
       "       'german', 'ghazal', 'gitarre', 'glitch', 'gospel', 'gothic',\n",
       "       'grime', 'grunge', 'gypsy', 'handsup', \"hard'n'heavy\", 'hardcore',\n",
       "       'hardstyle', 'hardtechno', 'hiphop', 'historisch', 'holiday',\n",
       "       'horror', 'house', 'hymn', 'idm', 'independent', 'indian', 'indie',\n",
       "       'indipop', 'industrial', 'inspirational', 'instrumental',\n",
       "       'international', 'irish', 'jam', 'japanese', 'jazz', 'jewish',\n",
       "       'jpop', 'jungle', 'k-pop', 'karadeniz', 'karaoke', 'kayokyoku',\n",
       "       'korean', 'laiko', 'latin', 'latino', 'leftfield', 'local',\n",
       "       'lounge', 'loungeelectronic', 'lovers', 'malaysian', 'mandopop',\n",
       "       'marschmusik', 'meditative', 'mediterranean', 'melodic', 'metal',\n",
       "       'metalcore', 'mexican', 'middle', 'minimal', 'miscellaneous',\n",
       "       'modern', 'mood', 'mpb', 'muslim', 'native', 'neoklassik', 'neue',\n",
       "       'new', 'newage', 'newwave', 'nu', 'nujazz', 'numetal', 'oceania',\n",
       "       'old', 'opera', 'orchestral', 'other', 'piano', 'podcasts', 'pop',\n",
       "       'popdance', 'popelectronic', 'popeurodance', 'poprussian', 'post',\n",
       "       'posthardcore', 'postrock', 'power', 'progmetal', 'progressive',\n",
       "       'psychedelic', 'punjabi', 'punk', 'quebecois', 'ragga', 'ram',\n",
       "       'rancheras', 'rap', 'rave', 'reggae', 'reggaeton', 'regional',\n",
       "       'relax', 'religious', 'retro', 'rhythm', 'rnb', 'rnr', 'rock',\n",
       "       'rockabilly', 'rockalternative', 'rockindie', 'rockother',\n",
       "       'romance', 'roots', 'ruspop', 'rusrap', 'rusrock', 'russian',\n",
       "       'salsa', 'samba', 'scenic', 'schlager', 'self', 'sertanejo',\n",
       "       'shanson', 'shoegazing', 'showtunes', 'singer', 'ska', 'skarock',\n",
       "       'slow', 'smooth', 'soft', 'soul', 'soulful', 'sound', 'soundtrack',\n",
       "       'southern', 'specialty', 'speech', 'spiritual', 'sport',\n",
       "       'stonerrock', 'surf', 'swing', 'synthpop', 'synthrock',\n",
       "       'sängerportrait', 'tango', 'tanzorchester', 'taraftar', 'tatar',\n",
       "       'tech', 'techno', 'teen', 'thrash', 'top', 'traditional',\n",
       "       'tradjazz', 'trance', 'tribal', 'trip', 'triphop', 'tropical',\n",
       "       'türk', 'türkçe', 'ukrrock', 'unknown', 'urban', 'uzbek',\n",
       "       'variété', 'vi', 'videogame', 'vocal', 'western', 'world',\n",
       "       'worldbeat', 'ïîï', 'электроника'], dtype=object)"
      ]
     },
     "execution_count": 17,
     "metadata": {},
     "output_type": "execute_result"
    }
   ],
   "source": [
    "df['genre'].sort_values().unique() # Проверка на неявные дубликаты"
   ]
  },
  {
   "cell_type": "markdown",
   "metadata": {
    "deletable": false,
    "editable": false,
    "id": "jz6a9-7HQUDd"
   },
   "source": [
    "**Выводы**\n",
    "\n",
    "Предобработка обнаружила три проблемы в данных:\n",
    "\n",
    "- нарушения в стиле заголовков,\n",
    "- пропущенные значения,\n",
    "- дубликаты — явные и неявные.\n",
    "\n",
    "Вы исправили заголовки, чтобы упростить работу с таблицей. Без дубликатов исследование станет более точным.\n",
    "\n",
    "Пропущенные значения вы заменили на `'unknown'`. Ещё предстоит увидеть, не повредят ли исследованию пропуски в колонке `genre`.\n",
    "\n",
    "Теперь можно перейти к проверке гипотез. "
   ]
  },
  {
   "cell_type": "markdown",
   "metadata": {
    "deletable": false,
    "editable": false,
    "id": "WttZHXH0SqKk"
   },
   "source": [
    "## Проверка гипотез"
   ]
  },
  {
   "cell_type": "markdown",
   "metadata": {
    "deletable": false,
    "editable": false,
    "id": "Im936VVi_Zcu"
   },
   "source": [
    "### Сравнение поведения пользователей двух столиц"
   ]
  },
  {
   "cell_type": "markdown",
   "metadata": {
    "deletable": false,
    "editable": false,
    "id": "nwt_MuaL_Zcu"
   },
   "source": [
    "Первая гипотеза утверждает, что пользователи по-разному слушают музыку в Москве и Санкт-Петербурге. Проверьте это предположение по данным о трёх днях недели — понедельнике, среде и пятнице. Для этого:\n",
    "\n",
    "* Разделите пользователей Москвы и Санкт-Петербурга\n",
    "* Сравните, сколько треков послушала каждая группа пользователей в понедельник, среду и пятницу.\n"
   ]
  },
  {
   "cell_type": "markdown",
   "metadata": {
    "deletable": false,
    "editable": false,
    "id": "8Dw_YMmT_Zcu",
    "tags": [
     "start_task"
    ]
   },
   "source": [
    "**Задание 18**\n",
    "\n",
    "Для тренировки сначала выполните каждый из расчётов по отдельности. \n",
    "\n",
    "Оцените активность пользователей в каждом городе. Сгруппируйте данные по городу и посчитайте прослушивания в каждой группе.\n",
    "\n"
   ]
  },
  {
   "cell_type": "code",
   "execution_count": 18,
   "metadata": {
    "deletable": false,
    "id": "0_Qs96oh_Zcu"
   },
   "outputs": [
    {
     "data": {
      "text/plain": [
       "city\n",
       "Moscow              42741\n",
       "Saint-Petersburg    18512\n",
       "Name: user_id, dtype: int64"
      ]
     },
     "execution_count": 18,
     "metadata": {},
     "output_type": "execute_result"
    }
   ],
   "source": [
    "# Подсчёт прослушиваний в каждом городе\n",
    "df.groupby('city')['user_id'].count()"
   ]
  },
  {
   "cell_type": "markdown",
   "metadata": {
    "deletable": false,
    "editable": false,
    "id": "dzli3w8o_Zcu",
    "tags": [
     "start_task"
    ]
   },
   "source": [
    "В Москве прослушиваний больше, чем в Петербурге. Из этого не следует, что московские пользователи чаще слушают музыку. Просто самих пользователей в Москве больше.\n",
    "\n",
    "**Задание 19**\n",
    "\n",
    "Теперь сгруппируйте данные по дню недели и подсчитайте прослушивания в понедельник, среду и пятницу. Учтите, что в данных есть информация только о прослушиваниях только за эти дни.\n"
   ]
  },
  {
   "cell_type": "code",
   "execution_count": 19,
   "metadata": {
    "deletable": false,
    "id": "uZMKjiJz_Zcu"
   },
   "outputs": [
    {
     "data": {
      "text/plain": [
       "day\n",
       "Friday       21840\n",
       "Monday       21354\n",
       "Wednesday    18059\n",
       "Name: user_id, dtype: int64"
      ]
     },
     "execution_count": 19,
     "metadata": {},
     "output_type": "execute_result"
    }
   ],
   "source": [
    "# Подсчёт прослушиваний в каждый из трёх дней\n",
    "df.groupby('day')['user_id'].count()"
   ]
  },
  {
   "cell_type": "markdown",
   "metadata": {
    "deletable": false,
    "editable": false,
    "id": "cC2tNrlL_Zcu"
   },
   "source": [
    "В среднем пользователи из двух городов менее активны по средам. Но картина может измениться, если рассмотреть каждый город в отдельности."
   ]
  },
  {
   "cell_type": "markdown",
   "metadata": {
    "deletable": false,
    "editable": false,
    "id": "POzs8bGa_Zcu",
    "tags": [
     "start_task"
    ]
   },
   "source": [
    "**Задание 20**\n",
    "\n",
    "\n",
    "Вы видели, как работает группировка по городу и по дням недели. Теперь напишите функцию, которая объединит два эти расчёта.\n",
    "\n",
    "Создайте функцию `number_tracks()`, которая посчитает прослушивания для заданного дня и города. Ей понадобятся два параметра:\n",
    "* день недели,\n",
    "* название города.\n",
    "\n",
    "В функции сохраните в переменную строки исходной таблицы, у которых значение:\n",
    "  * в колонке `day` равно параметру `day`,\n",
    "  * в колонке `city` равно параметру `city`.\n",
    "\n",
    "Для этого примените последовательную фильтрацию с логической индексацией (или сложные логические выражения в одну строку, если вы уже знакомы с ними).\n",
    "\n",
    "Затем посчитайте значения в столбце `user_id` получившейся таблицы. Результат сохраните в новую переменную. Верните эту переменную из функции."
   ]
  },
  {
   "cell_type": "code",
   "execution_count": 20,
   "metadata": {
    "deletable": false,
    "id": "Nz3GdQB1_Zcu"
   },
   "outputs": [],
   "source": [
    "# <создание функции number_tracks()>\n",
    "# Объявляется функция с двумя параметрами: day, city.\n",
    "# В переменной track_list сохраняются те строки таблицы df, для которых \n",
    "# значение в столбце 'day' равно параметру day и одновременно значение\n",
    "# в столбце 'city' равно параметру city (используйте последовательную фильтрацию\n",
    "# с помощью логической индексации или сложные логические выражения в одну строку, если вы уже знакомы с ними).\n",
    "# В переменной track_list_count сохраняется число значений столбца 'user_id',\n",
    "# рассчитанное методом count() для таблицы track_list.\n",
    "# Функция возвращает число - значение track_list_count.\n",
    "\n",
    "# Функция для подсчёта прослушиваний для конкретного города и дня.\n",
    "# С помощью последовательной фильтрации с логической индексацией она \n",
    "# сначала получит из исходной таблицы строки с нужным днём,\n",
    "# затем из результата отфильтрует строки с нужным городом,\n",
    "# методом count() посчитает количество значений в колонке user_id. \n",
    "# Это количество функция вернёт в качестве результата\n",
    "def number_tracks(day,city):\n",
    "    track_list = df[(df['day']==day)&(df['city']==city)]\n",
    "    track_list_count = track_list['user_id'].count()\n",
    "    return track_list_count\n",
    "\n",
    "        "
   ]
  },
  {
   "cell_type": "markdown",
   "metadata": {
    "deletable": false,
    "editable": false,
    "id": "ytf7xFrFJQ2r",
    "tags": [
     "start_task"
    ]
   },
   "source": [
    "**Задание 21**\n",
    "\n",
    "Вызовите `number_tracks()` шесть раз, меняя значение параметров — так, чтобы получить данные для каждого города в каждый из трёх дней."
   ]
  },
  {
   "cell_type": "code",
   "execution_count": 21,
   "metadata": {
    "deletable": false,
    "id": "rJcRATNQ_Zcu"
   },
   "outputs": [
    {
     "data": {
      "text/plain": [
       "15740"
      ]
     },
     "execution_count": 21,
     "metadata": {},
     "output_type": "execute_result"
    }
   ],
   "source": [
    "# количество прослушиваний в Москве по понедельникам\n",
    "number_tracks('Monday', 'Moscow')"
   ]
  },
  {
   "cell_type": "code",
   "execution_count": 22,
   "metadata": {
    "deletable": false,
    "id": "hq_ncZ5T_Zcu"
   },
   "outputs": [
    {
     "data": {
      "text/plain": [
       "5614"
      ]
     },
     "execution_count": 22,
     "metadata": {},
     "output_type": "execute_result"
    }
   ],
   "source": [
    "# количество прослушиваний в Санкт-Петербурге по понедельникам\n",
    "number_tracks('Monday', 'Saint-Petersburg')"
   ]
  },
  {
   "cell_type": "code",
   "execution_count": 23,
   "metadata": {
    "deletable": false,
    "id": "_NTy2VPU_Zcu"
   },
   "outputs": [
    {
     "data": {
      "text/plain": [
       "11056"
      ]
     },
     "execution_count": 23,
     "metadata": {},
     "output_type": "execute_result"
    }
   ],
   "source": [
    "# количество прослушиваний в Москве по средам\n",
    "number_tracks('Wednesday', 'Moscow')"
   ]
  },
  {
   "cell_type": "code",
   "execution_count": 24,
   "metadata": {
    "deletable": false,
    "id": "j2y3TAwo_Zcu"
   },
   "outputs": [
    {
     "data": {
      "text/plain": [
       "7003"
      ]
     },
     "execution_count": 24,
     "metadata": {},
     "output_type": "execute_result"
    }
   ],
   "source": [
    "# количество прослушиваний в Санкт-Петербурге по средам\n",
    "number_tracks('Wednesday', 'Saint-Petersburg')"
   ]
  },
  {
   "cell_type": "code",
   "execution_count": 25,
   "metadata": {
    "deletable": false,
    "id": "vYDw5u_K_Zcu"
   },
   "outputs": [
    {
     "data": {
      "text/plain": [
       "15945"
      ]
     },
     "execution_count": 25,
     "metadata": {},
     "output_type": "execute_result"
    }
   ],
   "source": [
    "# количество прослушиваний в Москве по пятницам\n",
    "number_tracks('Friday', 'Moscow')"
   ]
  },
  {
   "cell_type": "code",
   "execution_count": 26,
   "metadata": {
    "deletable": false,
    "id": "8_yzFtW3_Zcu"
   },
   "outputs": [
    {
     "data": {
      "text/plain": [
       "5895"
      ]
     },
     "execution_count": 26,
     "metadata": {},
     "output_type": "execute_result"
    }
   ],
   "source": [
    "# количество прослушиваний в Санкт-Петербурге по пятницам\n",
    "number_tracks('Friday', 'Saint-Petersburg')"
   ]
  },
  {
   "cell_type": "markdown",
   "metadata": {
    "deletable": false,
    "editable": false,
    "id": "7QXffbO-_Zcu",
    "tags": [
     "start_task"
    ]
   },
   "source": [
    "**Задание 22**\n",
    "\n",
    "Создайте c помощью конструктора `pd.DataFrame` таблицу, где\n",
    "* названия колонок — `['city', 'monday', 'wednesday', 'friday']`;\n",
    "* данные — результаты, которые вы получили с помощью `number_tracks`."
   ]
  },
  {
   "cell_type": "code",
   "execution_count": 27,
   "metadata": {
    "deletable": false,
    "id": "APAcLpOr_Zcu"
   },
   "outputs": [],
   "source": [
    "# Таблица с результатами\n",
    "data = [\n",
    "    ['Moscow',15740,11056,15945],\n",
    "    ['Saint-Petersburg',5614,7003,5895]\n",
    "]\n",
    "columns = ['city','monday','wednesday','friday']\n",
    "info = pd.DataFrame(data=data,columns=columns)"
   ]
  },
  {
   "cell_type": "markdown",
   "metadata": {
    "deletable": false,
    "editable": false,
    "id": "-EgPIHYu_Zcu"
   },
   "source": [
    "**Выводы**\n",
    "\n",
    "Данные показывают разницу поведения пользователей:\n",
    "\n",
    "- В Москве пик прослушиваний приходится на понедельник и пятницу, а в среду заметен спад.\n",
    "- В Петербурге, наоборот, больше слушают музыку по средам. Активность в понедельник и пятницу здесь почти в равной мере уступает среде.\n",
    "\n",
    "Значит, данные говорят в пользу первой гипотезы."
   ]
  },
  {
   "cell_type": "markdown",
   "metadata": {
    "deletable": false,
    "editable": false,
    "id": "atZAxtq4_Zcu"
   },
   "source": [
    "### Музыка в начале и в конце недели"
   ]
  },
  {
   "cell_type": "markdown",
   "metadata": {
    "deletable": false,
    "editable": false,
    "id": "eXrQqXFH_Zcu"
   },
   "source": [
    "Согласно второй гипотезе, утром в понедельник в Москве преобладают одни жанры, а в Петербурге — другие. Так же и вечером пятницы преобладают разные жанры — в зависимости от города."
   ]
  },
  {
   "cell_type": "markdown",
   "metadata": {
    "deletable": false,
    "editable": false,
    "id": "S8UcW6Hw_Zcu",
    "tags": [
     "start_task"
    ]
   },
   "source": [
    "**Задание 23**\n",
    "\n",
    "Сохраните таблицы с данными в две переменные:\n",
    "* по Москве — в `moscow_general`;\n",
    "* по Санкт-Петербургу — в `spb_general`."
   ]
  },
  {
   "cell_type": "code",
   "execution_count": 28,
   "metadata": {
    "deletable": false,
    "id": "qeaFfM_P_Zcu"
   },
   "outputs": [],
   "source": [
    "# получение таблицы moscow_general из тех строк таблицы df, \n",
    "# для которых значение в столбце 'city' равно 'Moscow'\n",
    "moscow_general = df[df['city']=='Moscow']"
   ]
  },
  {
   "cell_type": "code",
   "execution_count": 29,
   "metadata": {
    "deletable": false,
    "id": "ORaVRKto_Zcu"
   },
   "outputs": [],
   "source": [
    "# получение таблицы spb_general из тех строк таблицы df,\n",
    "# для которых значение в столбце 'city' равно 'Saint-Petersburg'\n",
    "spb_general = df[df['city']=='Saint-Petersburg']"
   ]
  },
  {
   "cell_type": "markdown",
   "metadata": {
    "deletable": false,
    "id": "MEJV-CX2_Zcu",
    "tags": [
     "start_task"
    ]
   },
   "source": [
    "**Задание 24**\n",
    "\n",
    "Создайте функцию `genre_weekday()` с четырьмя параметрами:\n",
    "* таблица (датафрейм) с данными,\n",
    "* день недели,\n",
    "* начальная временная метка в формате 'hh:mm', \n",
    "* последняя временная метка в формате 'hh:mm'.\n",
    "\n",
    "Функция должна вернуть информацию о топ-10 жанров тех треков, которые прослушивали в указанный день, в промежутке между двумя отметками времени."
   ]
  },
  {
   "cell_type": "code",
   "execution_count": 30,
   "metadata": {
    "deletable": false,
    "id": "laJT9BYl_Zcu"
   },
   "outputs": [],
   "source": [
    "# Объявление функции genre_weekday() с параметрами table, day, time1, time2,\n",
    "# которая возвращает информацию о самых популярных жанрах в указанный день в\n",
    "# заданное время:\n",
    "# 1) в переменную genre_df сохраняются те строки переданного датафрейма table, для\n",
    "#    которых одновременно:\n",
    "#    - значение в столбце day равно значению аргумента day\n",
    "#    - значение в столбце time больше значения аргумента time1\n",
    "#    - значение в столбце time меньше значения аргумента time2\n",
    "#    Используйте последовательную фильтрацию с помощью логической индексации.\n",
    "# 2) сгруппировать датафрейм genre_df по столбцу genre, взять один из его\n",
    "#    столбцов и посчитать методом count() количество записей для каждого из\n",
    "#    присутствующих жанров, получившийся Series записать в переменную\n",
    "#    genre_df_grouped\n",
    "# 3) отсортировать genre_df_grouped по убыванию встречаемости и сохранить\n",
    "#    в переменную genre_df_sorted\n",
    "# 4) вернуть Series из 10 первых значений genre_df_sorted, это будут топ-10\n",
    "#    популярных жанров (в указанный день, в заданное время)\n",
    "\n",
    "def genre_weekday(df, day, time1, time2):\n",
    "    # последовательная фильтрация\n",
    "    # оставляем в genre_df только те строки df, у которых день равен day\n",
    "    genre_df = df[df['day']==day] # ваш код здесь\n",
    "    # оставляем в genre_df только те строки genre_df, у которых время меньше time2\n",
    "    genre_df = genre_df[df['time']<time2] # ваш код здесь\n",
    "    # оставляем в genre_df только те строки genre_df, у которых время больше time1\n",
    "    genre_df = genre_df[df['time']>time1] # ваш код здесь\n",
    "    # сгруппируем отфильтрованный датафрейм по столбцу с названиями жанров, возьмём столбец genre и посчитаем кол-во строк для каждого жанра методом count()\n",
    "    genre_df_grouped = genre_df.groupby('genre')['genre'].count() # ваш код здесь\n",
    "    # отсортируем результат по убыванию (чтобы в начале Series оказались самые популярные жанры)\n",
    "    genre_df_sorted = genre_df_grouped.sort_values(ascending=False) # ваш код здесь\n",
    "    # вернём Series с 10 самыми популярными жанрами в указанный отрезок времени заданного дня\n",
    "    return genre_df_sorted[:10]"
   ]
  },
  {
   "cell_type": "markdown",
   "metadata": {
    "deletable": false,
    "editable": false,
    "id": "la2s2_PF_Zcu",
    "tags": [
     "start_task"
    ]
   },
   "source": [
    "**Задание 25**\n",
    "\n",
    "\n",
    "Cравните результаты функции `genre_weekday()` для Москвы и Санкт-Петербурга в понедельник утром (с 7:00 до 11:00) и в пятницу вечером (с 17:00 до 23:00):"
   ]
  },
  {
   "cell_type": "code",
   "execution_count": 31,
   "metadata": {
    "deletable": false,
    "id": "yz7itPUQ_Zcu"
   },
   "outputs": [
    {
     "name": "stderr",
     "output_type": "stream",
     "text": [
      "/tmp/ipykernel_301/70816155.py:24: UserWarning: Boolean Series key will be reindexed to match DataFrame index.\n",
      "  genre_df = genre_df[df['time']<time2] # ваш код здесь\n",
      "/tmp/ipykernel_301/70816155.py:26: UserWarning: Boolean Series key will be reindexed to match DataFrame index.\n",
      "  genre_df = genre_df[df['time']>time1] # ваш код здесь\n"
     ]
    },
    {
     "data": {
      "text/plain": [
       "genre\n",
       "pop            781\n",
       "dance          549\n",
       "electronic     480\n",
       "rock           474\n",
       "hiphop         286\n",
       "ruspop         186\n",
       "world          181\n",
       "rusrap         175\n",
       "alternative    164\n",
       "unknown        161\n",
       "Name: genre, dtype: int64"
      ]
     },
     "execution_count": 31,
     "metadata": {},
     "output_type": "execute_result"
    }
   ],
   "source": [
    "# вызов функции для утра понедельника в Москве (вместо df — таблица moscow_general)\n",
    "# объекты, хранящие время, являются строками и сравниваются как строки\n",
    "# пример вызова: genre_weekday(moscow_general, 'Monday', '07:00', '11:00')\n",
    "genre_weekday(moscow_general, 'Monday', '07:00', '11:00')"
   ]
  },
  {
   "cell_type": "code",
   "execution_count": 32,
   "metadata": {
    "deletable": false,
    "id": "kwUcHPdy_Zcu"
   },
   "outputs": [
    {
     "name": "stderr",
     "output_type": "stream",
     "text": [
      "/tmp/ipykernel_301/70816155.py:24: UserWarning: Boolean Series key will be reindexed to match DataFrame index.\n",
      "  genre_df = genre_df[df['time']<time2] # ваш код здесь\n",
      "/tmp/ipykernel_301/70816155.py:26: UserWarning: Boolean Series key will be reindexed to match DataFrame index.\n",
      "  genre_df = genre_df[df['time']>time1] # ваш код здесь\n"
     ]
    },
    {
     "data": {
      "text/plain": [
       "genre\n",
       "pop            218\n",
       "dance          182\n",
       "rock           162\n",
       "electronic     147\n",
       "hiphop          80\n",
       "ruspop          64\n",
       "alternative     58\n",
       "rusrap          55\n",
       "jazz            44\n",
       "classical       40\n",
       "Name: genre, dtype: int64"
      ]
     },
     "execution_count": 32,
     "metadata": {},
     "output_type": "execute_result"
    }
   ],
   "source": [
    "# вызов функции для утра понедельника в Петербурге (вместо df — таблица spb_general)\n",
    "genre_weekday(spb_general, 'Monday', '07:00', '11:00')"
   ]
  },
  {
   "cell_type": "code",
   "execution_count": 33,
   "metadata": {
    "deletable": false,
    "id": "EzXVRE1o_Zcu"
   },
   "outputs": [
    {
     "name": "stderr",
     "output_type": "stream",
     "text": [
      "/tmp/ipykernel_301/70816155.py:24: UserWarning: Boolean Series key will be reindexed to match DataFrame index.\n",
      "  genre_df = genre_df[df['time']<time2] # ваш код здесь\n",
      "/tmp/ipykernel_301/70816155.py:26: UserWarning: Boolean Series key will be reindexed to match DataFrame index.\n",
      "  genre_df = genre_df[df['time']>time1] # ваш код здесь\n"
     ]
    },
    {
     "data": {
      "text/plain": [
       "genre\n",
       "pop            713\n",
       "rock           517\n",
       "dance          495\n",
       "electronic     482\n",
       "hiphop         273\n",
       "world          208\n",
       "ruspop         170\n",
       "alternative    163\n",
       "classical      163\n",
       "rusrap         142\n",
       "Name: genre, dtype: int64"
      ]
     },
     "execution_count": 33,
     "metadata": {},
     "output_type": "execute_result"
    }
   ],
   "source": [
    "# вызов функции для вечера пятницы в Москве\n",
    "genre_weekday(moscow_general, 'Friday', '17:00', '23:00')"
   ]
  },
  {
   "cell_type": "code",
   "execution_count": 34,
   "metadata": {
    "deletable": false,
    "id": "JZaEKu5v_Zcu"
   },
   "outputs": [
    {
     "name": "stderr",
     "output_type": "stream",
     "text": [
      "/tmp/ipykernel_301/70816155.py:24: UserWarning: Boolean Series key will be reindexed to match DataFrame index.\n",
      "  genre_df = genre_df[df['time']<time2] # ваш код здесь\n",
      "/tmp/ipykernel_301/70816155.py:26: UserWarning: Boolean Series key will be reindexed to match DataFrame index.\n",
      "  genre_df = genre_df[df['time']>time1] # ваш код здесь\n"
     ]
    },
    {
     "data": {
      "text/plain": [
       "genre\n",
       "pop            256\n",
       "electronic     216\n",
       "rock           216\n",
       "dance          210\n",
       "hiphop          97\n",
       "alternative     63\n",
       "jazz            61\n",
       "classical       60\n",
       "rusrap          59\n",
       "world           54\n",
       "Name: genre, dtype: int64"
      ]
     },
     "execution_count": 34,
     "metadata": {},
     "output_type": "execute_result"
    }
   ],
   "source": [
    "# вызов функции для вечера пятницы в Петербурге\n",
    "genre_weekday(spb_general, 'Friday', '17:00', '23:00')"
   ]
  },
  {
   "cell_type": "markdown",
   "metadata": {
    "deletable": false,
    "editable": false,
    "id": "wrCe4MNX_Zcu"
   },
   "source": [
    "**Выводы**\n",
    "\n",
    "Если сравнить топ-10 жанров в понедельник утром, можно сделать такие выводы:\n",
    "\n",
    "1. В Москве и Петербурге слушают похожую музыку. Единственное отличие — в московский рейтинг вошёл жанр “world”, а в петербургский — джаз и классика.\n",
    "\n",
    "2. В Москве пропущенных значений оказалось так много, что значение `'unknown'` заняло десятое место среди самых популярных жанров. Значит, пропущенные значения занимают существенную долю в данных и угрожают достоверности исследования.\n",
    "\n",
    "Вечер пятницы не меняет эту картину. Некоторые жанры поднимаются немного выше, другие спускаются, но в целом топ-10 остаётся тем же самым.\n",
    "\n",
    "Таким образом, вторая гипотеза подтвердилась лишь частично:\n",
    "* Пользователи слушают похожую музыку в начале недели и в конце.\n",
    "* Разница между Москвой и Петербургом не слишком выражена. В Москве чаще слушают русскую популярную музыку, в Петербурге — джаз.\n",
    "\n",
    "Однако пропуски в данных ставят под сомнение этот результат. В Москве их так много, что рейтинг топ-10 мог бы выглядеть иначе, если бы не утерянные  данные о жанрах."
   ]
  },
  {
   "cell_type": "markdown",
   "metadata": {
    "deletable": false,
    "editable": false,
    "id": "JolODAqr_Zcu"
   },
   "source": [
    "### Жанровые предпочтения в Москве и Петербурге\n",
    "\n",
    "Гипотеза: Петербург — столица рэпа, музыку этого жанра там слушают чаще, чем в Москве.  А Москва — город контрастов, в котором, тем не менее, преобладает поп-музыка."
   ]
  },
  {
   "cell_type": "markdown",
   "metadata": {
    "deletable": false,
    "editable": false,
    "id": "DlegSvaT_Zcu",
    "tags": [
     "start_task"
    ]
   },
   "source": [
    "**Задание 26**\n",
    "\n",
    "Сгруппируйте таблицу `moscow_general` по жанру и посчитайте прослушивания треков каждого жанра методом `count()`. Затем отсортируйте результат в порядке убывания и сохраните его в таблице `moscow_genres`."
   ]
  },
  {
   "cell_type": "code",
   "execution_count": 39,
   "metadata": {
    "deletable": false,
    "id": "r19lIPke_Zcu"
   },
   "outputs": [],
   "source": [
    "# одной строкой: группировка таблицы moscow_general по столбцу 'genre', \n",
    "# подсчёт числа значений 'genre' в этой группировке методом count(), \n",
    "# сортировка получившегося Series в порядке убывания и сохранение в moscow_genres\n",
    "moscow_genres = moscow_general.groupby('genre')['genre'].count().sort_values(ascending=False)"
   ]
  },
  {
   "cell_type": "markdown",
   "metadata": {
    "deletable": false,
    "editable": false,
    "id": "6kMuomxTiIr8",
    "tags": [
     "start_task"
    ]
   },
   "source": [
    "**Задание 27**\n",
    "\n",
    "Выведите на экран первые десять строк `moscow_genres`:"
   ]
  },
  {
   "cell_type": "code",
   "execution_count": 40,
   "metadata": {
    "deletable": false,
    "id": "WhCSooF8_Zcv"
   },
   "outputs": [
    {
     "data": {
      "text/plain": [
       "genre\n",
       "pop            5892\n",
       "dance          4435\n",
       "rock           3965\n",
       "electronic     3786\n",
       "hiphop         2096\n",
       "classical      1616\n",
       "world          1432\n",
       "alternative    1379\n",
       "ruspop         1372\n",
       "rusrap         1161\n",
       "Name: genre, dtype: int64"
      ]
     },
     "execution_count": 40,
     "metadata": {},
     "output_type": "execute_result"
    }
   ],
   "source": [
    "# просмотр первых 10 строк moscow_genres\n",
    "moscow_genres.head(10)"
   ]
  },
  {
   "cell_type": "markdown",
   "metadata": {
    "deletable": false,
    "editable": false,
    "id": "cnPG2vnN_Zcv",
    "tags": [
     "start_task"
    ]
   },
   "source": [
    "**Задание 28**\n",
    "\n",
    "\n",
    "Теперь повторите то же и для Петербурга.\n",
    "\n",
    "Сгруппируйте таблицу `spb_general` по жанру. Посчитайте прослушивания треков каждого жанра. Результат отсортируйте в порядке убывания и сохраните в таблице `spb_genres`:\n"
   ]
  },
  {
   "cell_type": "code",
   "execution_count": 41,
   "metadata": {
    "deletable": false,
    "id": "gluLIpE7_Zcv"
   },
   "outputs": [],
   "source": [
    "# одной строкой: группировка таблицы spb_general по столбцу 'genre', \n",
    "# подсчёт числа значений 'genre' в этой группировке методом count(), \n",
    "# сортировка получившегося Series в порядке убывания и сохранение в spb_genres\n",
    "spb_genres = spb_general.groupby('genre')['genre'].count().sort_values(ascending=False)"
   ]
  },
  {
   "cell_type": "markdown",
   "metadata": {
    "deletable": false,
    "editable": false,
    "id": "5Doha_ODgyQ8",
    "tags": [
     "start_task"
    ]
   },
   "source": [
    "**Задание 29**\n",
    "\n",
    "Выведите на экран первые десять строк `spb_genres`:"
   ]
  },
  {
   "cell_type": "code",
   "execution_count": 42,
   "metadata": {
    "deletable": false,
    "id": "uaGJHjVU_Zcv"
   },
   "outputs": [
    {
     "data": {
      "text/plain": [
       "genre\n",
       "pop            2431\n",
       "dance          1932\n",
       "rock           1879\n",
       "electronic     1736\n",
       "hiphop          960\n",
       "alternative     649\n",
       "classical       646\n",
       "rusrap          564\n",
       "ruspop          538\n",
       "world           515\n",
       "Name: genre, dtype: int64"
      ]
     },
     "execution_count": 42,
     "metadata": {},
     "output_type": "execute_result"
    }
   ],
   "source": [
    "# просмотр первых 10 строк spb_genres\n",
    "spb_genres.head(10)"
   ]
  },
  {
   "cell_type": "markdown",
   "metadata": {
    "deletable": false,
    "editable": false,
    "id": "RY51YJYu_Zcv"
   },
   "source": [
    "**Выводы**"
   ]
  },
  {
   "cell_type": "markdown",
   "metadata": {
    "deletable": false,
    "editable": false,
    "id": "nVhnJEm__Zcv"
   },
   "source": [
    "Гипотеза частично подтвердилась:\n",
    "* Поп-музыка — самый популярный жанр в Москве, как и предполагала гипотеза. Более того, в топ-10 жанров встречается близкий жанр — русская популярная музыка.\n",
    "* Вопреки ожиданиям, рэп одинаково популярен в Москве и Петербурге. \n"
   ]
  },
  {
   "cell_type": "markdown",
   "metadata": {
    "deletable": false,
    "editable": false,
    "id": "ykKQ0N65_Zcv"
   },
   "source": [
    "## Итоги исследования"
   ]
  },
  {
   "cell_type": "markdown",
   "metadata": {
    "deletable": false,
    "editable": false,
    "id": "tjUwbHb3_Zcv"
   },
   "source": [
    "Вы проверили три гипотезы и установили:\n",
    "\n",
    "1. День недели по-разному влияет на активность пользователей в Москве и Петербурге. \n",
    "\n",
    "Первая гипотеза полностью подтвердилась.\n",
    "\n",
    "2. Музыкальные предпочтения не сильно меняются в течение недели — будь то Москва или Петербург. Небольшие различия заметны в начале недели, по понедельникам:\n",
    "* в Москве слушают музыку жанра “world”,\n",
    "* в Петербурге — джаз и классику.\n",
    "\n",
    "Таким образом, вторая гипотеза подтвердилась лишь отчасти. Этот результат мог оказаться иным, если бы не пропуски в данных.\n",
    "\n",
    "3. Во вкусах пользователей Москвы и Петербурга больше общего чем различий. Вопреки ожиданиям, предпочтения жанров в Петербурге напоминают московские.\n",
    "\n",
    "Третья гипотеза не подтвердилась. Если различия в предпочтениях и существуют, на основной массе пользователей они незаметны.\n",
    "\n",
    "**На практике исследования содержат проверки статистических гипотез.**\n",
    "Из данных одного сервиса не всегда можно сделать вывод о всех жителях города.\n",
    "Проверки статистических гипотез покажут, насколько они достоверны, исходя из имеющихся данных. \n",
    "С методами проверок гипотез вы ещё познакомитесь в следующих темах."
   ]
  }
 ],
 "metadata": {
  "ExecuteTimeLog": [
   {
    "duration": 355,
    "start_time": "2023-04-05T05:01:59.012Z"
   },
   {
    "duration": 70,
    "start_time": "2023-04-05T05:02:01.458Z"
   },
   {
    "duration": 15,
    "start_time": "2023-04-05T05:02:19.012Z"
   },
   {
    "duration": 12,
    "start_time": "2023-04-05T05:02:49.765Z"
   },
   {
    "duration": 174,
    "start_time": "2023-04-05T05:03:55.110Z"
   },
   {
    "duration": 21,
    "start_time": "2023-04-05T05:04:10.050Z"
   },
   {
    "duration": 33,
    "start_time": "2023-04-05T05:06:52.157Z"
   },
   {
    "duration": 2,
    "start_time": "2023-04-05T05:09:15.476Z"
   },
   {
    "duration": 2,
    "start_time": "2023-04-05T05:09:42.822Z"
   },
   {
    "duration": 6,
    "start_time": "2023-04-05T05:13:01.767Z"
   },
   {
    "duration": 4,
    "start_time": "2023-04-05T05:13:05.973Z"
   },
   {
    "duration": 9,
    "start_time": "2023-04-05T05:15:39.493Z"
   },
   {
    "duration": 12,
    "start_time": "2023-04-05T05:15:58.036Z"
   },
   {
    "duration": 4,
    "start_time": "2023-04-05T05:16:09.078Z"
   },
   {
    "duration": 178,
    "start_time": "2023-04-05T05:16:51.341Z"
   },
   {
    "duration": 13,
    "start_time": "2023-04-05T05:17:37.336Z"
   },
   {
    "duration": 3,
    "start_time": "2023-04-05T05:17:39.724Z"
   },
   {
    "duration": 14,
    "start_time": "2023-04-05T05:21:34.764Z"
   },
   {
    "duration": 14,
    "start_time": "2023-04-05T05:21:37.194Z"
   },
   {
    "duration": 6,
    "start_time": "2023-04-05T05:23:27.725Z"
   },
   {
    "duration": 4,
    "start_time": "2023-04-05T05:23:29.014Z"
   },
   {
    "duration": 20,
    "start_time": "2023-04-05T05:24:11.652Z"
   },
   {
    "duration": 13,
    "start_time": "2023-04-05T05:24:34.148Z"
   },
   {
    "duration": 4,
    "start_time": "2023-04-05T05:24:39.006Z"
   },
   {
    "duration": 7,
    "start_time": "2023-04-05T05:25:04.132Z"
   },
   {
    "duration": 6,
    "start_time": "2023-04-05T05:25:05.635Z"
   },
   {
    "duration": 8,
    "start_time": "2023-04-05T05:25:20.774Z"
   },
   {
    "duration": 7,
    "start_time": "2023-04-05T05:25:51.833Z"
   },
   {
    "duration": 8,
    "start_time": "2023-04-05T05:26:00.333Z"
   },
   {
    "duration": 7,
    "start_time": "2023-04-05T05:26:03.561Z"
   },
   {
    "duration": 7,
    "start_time": "2023-04-05T05:30:03.548Z"
   },
   {
    "duration": 6,
    "start_time": "2023-04-05T05:31:03.609Z"
   },
   {
    "duration": 2,
    "start_time": "2023-04-05T05:31:46.650Z"
   },
   {
    "duration": 9,
    "start_time": "2023-04-05T05:32:58.052Z"
   },
   {
    "duration": 8,
    "start_time": "2023-04-05T05:33:08.341Z"
   },
   {
    "duration": 6,
    "start_time": "2023-04-05T05:34:07.233Z"
   },
   {
    "duration": 7,
    "start_time": "2023-04-05T05:34:27.810Z"
   },
   {
    "duration": 183,
    "start_time": "2023-04-05T05:34:34.376Z"
   },
   {
    "duration": 42,
    "start_time": "2023-04-05T05:34:43.508Z"
   },
   {
    "duration": 8,
    "start_time": "2023-04-05T05:34:49.949Z"
   },
   {
    "duration": 4,
    "start_time": "2023-04-05T05:35:03.428Z"
   },
   {
    "duration": 9,
    "start_time": "2023-04-05T05:35:10.079Z"
   },
   {
    "duration": 7,
    "start_time": "2023-04-05T05:35:26.718Z"
   },
   {
    "duration": 9,
    "start_time": "2023-04-05T05:35:40.501Z"
   },
   {
    "duration": 7,
    "start_time": "2023-04-05T05:36:15.880Z"
   },
   {
    "duration": 8,
    "start_time": "2023-04-05T05:36:18.803Z"
   },
   {
    "duration": 7,
    "start_time": "2023-04-05T05:36:24.688Z"
   },
   {
    "duration": 6,
    "start_time": "2023-04-05T05:36:33.209Z"
   },
   {
    "duration": 158,
    "start_time": "2023-04-05T05:36:42.792Z"
   },
   {
    "duration": 11,
    "start_time": "2023-04-05T05:36:44.727Z"
   },
   {
    "duration": 35,
    "start_time": "2023-04-05T05:36:46.930Z"
   },
   {
    "duration": 4,
    "start_time": "2023-04-05T05:36:50.185Z"
   },
   {
    "duration": 4,
    "start_time": "2023-04-05T05:36:52.554Z"
   },
   {
    "duration": 7,
    "start_time": "2023-04-05T05:36:55.348Z"
   },
   {
    "duration": 7,
    "start_time": "2023-04-05T05:37:03.645Z"
   },
   {
    "duration": 8,
    "start_time": "2023-04-05T05:37:05.845Z"
   },
   {
    "duration": 8,
    "start_time": "2023-04-05T05:37:22.643Z"
   },
   {
    "duration": 8,
    "start_time": "2023-04-05T05:37:39.870Z"
   },
   {
    "duration": 8,
    "start_time": "2023-04-05T05:37:44.145Z"
   },
   {
    "duration": 7,
    "start_time": "2023-04-05T05:37:46.951Z"
   },
   {
    "duration": 166,
    "start_time": "2023-04-05T05:37:48.839Z"
   },
   {
    "duration": 424,
    "start_time": "2023-04-05T05:38:06.487Z"
   },
   {
    "duration": 170,
    "start_time": "2023-04-05T05:38:06.912Z"
   },
   {
    "duration": 17,
    "start_time": "2023-04-05T05:38:07.084Z"
   },
   {
    "duration": 59,
    "start_time": "2023-04-05T05:38:07.103Z"
   },
   {
    "duration": 16,
    "start_time": "2023-04-05T05:38:07.164Z"
   },
   {
    "duration": 43,
    "start_time": "2023-04-05T05:38:07.182Z"
   },
   {
    "duration": 25,
    "start_time": "2023-04-05T05:38:07.227Z"
   },
   {
    "duration": 74,
    "start_time": "2023-04-05T05:38:07.253Z"
   },
   {
    "duration": 0,
    "start_time": "2023-04-05T05:38:07.330Z"
   },
   {
    "duration": 0,
    "start_time": "2023-04-05T05:38:07.331Z"
   },
   {
    "duration": 0,
    "start_time": "2023-04-05T05:38:07.332Z"
   },
   {
    "duration": 0,
    "start_time": "2023-04-05T05:38:07.333Z"
   },
   {
    "duration": 0,
    "start_time": "2023-04-05T05:38:07.335Z"
   },
   {
    "duration": 0,
    "start_time": "2023-04-05T05:38:07.336Z"
   },
   {
    "duration": 0,
    "start_time": "2023-04-05T05:38:07.338Z"
   },
   {
    "duration": 0,
    "start_time": "2023-04-05T05:38:07.339Z"
   },
   {
    "duration": 0,
    "start_time": "2023-04-05T05:38:07.340Z"
   },
   {
    "duration": 0,
    "start_time": "2023-04-05T05:38:07.341Z"
   },
   {
    "duration": 0,
    "start_time": "2023-04-05T05:38:07.342Z"
   },
   {
    "duration": 0,
    "start_time": "2023-04-05T05:38:07.343Z"
   },
   {
    "duration": 0,
    "start_time": "2023-04-05T05:38:07.344Z"
   },
   {
    "duration": 0,
    "start_time": "2023-04-05T05:38:07.345Z"
   },
   {
    "duration": 0,
    "start_time": "2023-04-05T05:38:07.347Z"
   },
   {
    "duration": 0,
    "start_time": "2023-04-05T05:38:07.384Z"
   },
   {
    "duration": 0,
    "start_time": "2023-04-05T05:38:07.384Z"
   },
   {
    "duration": 0,
    "start_time": "2023-04-05T05:38:07.386Z"
   },
   {
    "duration": 0,
    "start_time": "2023-04-05T05:38:07.387Z"
   },
   {
    "duration": 0,
    "start_time": "2023-04-05T05:38:07.388Z"
   },
   {
    "duration": 0,
    "start_time": "2023-04-05T05:38:07.389Z"
   },
   {
    "duration": 0,
    "start_time": "2023-04-05T05:38:07.390Z"
   },
   {
    "duration": 0,
    "start_time": "2023-04-05T05:38:07.391Z"
   },
   {
    "duration": 0,
    "start_time": "2023-04-05T05:38:07.392Z"
   },
   {
    "duration": 0,
    "start_time": "2023-04-05T05:38:07.393Z"
   },
   {
    "duration": 0,
    "start_time": "2023-04-05T05:38:07.394Z"
   },
   {
    "duration": 0,
    "start_time": "2023-04-05T05:38:07.395Z"
   },
   {
    "duration": 0,
    "start_time": "2023-04-05T05:38:07.396Z"
   },
   {
    "duration": 0,
    "start_time": "2023-04-05T05:38:07.397Z"
   },
   {
    "duration": 0,
    "start_time": "2023-04-05T05:38:07.398Z"
   },
   {
    "duration": 9,
    "start_time": "2023-04-05T05:39:50.200Z"
   },
   {
    "duration": 386,
    "start_time": "2023-04-05T05:39:57.841Z"
   },
   {
    "duration": 164,
    "start_time": "2023-04-05T05:39:58.229Z"
   },
   {
    "duration": 18,
    "start_time": "2023-04-05T05:39:58.394Z"
   },
   {
    "duration": 76,
    "start_time": "2023-04-05T05:39:58.414Z"
   },
   {
    "duration": 8,
    "start_time": "2023-04-05T05:39:58.492Z"
   },
   {
    "duration": 10,
    "start_time": "2023-04-05T05:39:58.503Z"
   },
   {
    "duration": 25,
    "start_time": "2023-04-05T05:39:58.515Z"
   },
   {
    "duration": 32,
    "start_time": "2023-04-05T05:39:58.542Z"
   },
   {
    "duration": 6,
    "start_time": "2023-04-05T05:39:58.576Z"
   },
   {
    "duration": 13,
    "start_time": "2023-04-05T05:39:58.584Z"
   },
   {
    "duration": 5,
    "start_time": "2023-04-05T05:39:58.599Z"
   },
   {
    "duration": 18,
    "start_time": "2023-04-05T05:39:58.606Z"
   },
   {
    "duration": 13,
    "start_time": "2023-04-05T05:39:58.626Z"
   },
   {
    "duration": 20,
    "start_time": "2023-04-05T05:39:58.640Z"
   },
   {
    "duration": 13,
    "start_time": "2023-04-05T05:39:58.661Z"
   },
   {
    "duration": 6,
    "start_time": "2023-04-05T05:39:58.676Z"
   },
   {
    "duration": 11,
    "start_time": "2023-04-05T05:39:58.683Z"
   },
   {
    "duration": 7,
    "start_time": "2023-04-05T05:39:58.695Z"
   },
   {
    "duration": 14,
    "start_time": "2023-04-05T05:39:58.703Z"
   },
   {
    "duration": 23,
    "start_time": "2023-04-05T05:39:58.718Z"
   },
   {
    "duration": 13,
    "start_time": "2023-04-05T05:39:58.743Z"
   },
   {
    "duration": 30,
    "start_time": "2023-04-05T05:39:58.759Z"
   },
   {
    "duration": 10,
    "start_time": "2023-04-05T05:39:58.791Z"
   },
   {
    "duration": 14,
    "start_time": "2023-04-05T05:39:58.803Z"
   },
   {
    "duration": 17,
    "start_time": "2023-04-05T05:39:58.819Z"
   },
   {
    "duration": 13,
    "start_time": "2023-04-05T05:39:58.837Z"
   },
   {
    "duration": 8,
    "start_time": "2023-04-05T05:39:58.851Z"
   },
   {
    "duration": 12,
    "start_time": "2023-04-05T05:39:58.863Z"
   },
   {
    "duration": 15,
    "start_time": "2023-04-05T05:39:58.877Z"
   },
   {
    "duration": 103,
    "start_time": "2023-04-05T05:39:58.894Z"
   },
   {
    "duration": 0,
    "start_time": "2023-04-05T05:39:58.999Z"
   },
   {
    "duration": 0,
    "start_time": "2023-04-05T05:39:59.000Z"
   },
   {
    "duration": 0,
    "start_time": "2023-04-05T05:39:59.001Z"
   },
   {
    "duration": 0,
    "start_time": "2023-04-05T05:39:59.003Z"
   },
   {
    "duration": 0,
    "start_time": "2023-04-05T05:39:59.004Z"
   },
   {
    "duration": 0,
    "start_time": "2023-04-05T05:39:59.005Z"
   },
   {
    "duration": 0,
    "start_time": "2023-04-05T05:39:59.007Z"
   },
   {
    "duration": 0,
    "start_time": "2023-04-05T05:39:59.008Z"
   },
   {
    "duration": 15,
    "start_time": "2023-04-05T05:42:37.772Z"
   },
   {
    "duration": 5,
    "start_time": "2023-04-05T05:42:39.483Z"
   },
   {
    "duration": 12,
    "start_time": "2023-04-05T05:43:07.829Z"
   },
   {
    "duration": 4,
    "start_time": "2023-04-05T05:43:10.221Z"
   },
   {
    "duration": 13,
    "start_time": "2023-04-05T05:43:20.473Z"
   },
   {
    "duration": 6,
    "start_time": "2023-04-05T05:43:22.485Z"
   },
   {
    "duration": 472,
    "start_time": "2023-04-05T05:43:30.378Z"
   },
   {
    "duration": 167,
    "start_time": "2023-04-05T05:43:30.852Z"
   },
   {
    "duration": 17,
    "start_time": "2023-04-05T05:43:31.021Z"
   },
   {
    "duration": 64,
    "start_time": "2023-04-05T05:43:31.039Z"
   },
   {
    "duration": 61,
    "start_time": "2023-04-05T05:43:31.106Z"
   },
   {
    "duration": 58,
    "start_time": "2023-04-05T05:43:31.169Z"
   },
   {
    "duration": 71,
    "start_time": "2023-04-05T05:43:31.229Z"
   },
   {
    "duration": 60,
    "start_time": "2023-04-05T05:43:31.302Z"
   },
   {
    "duration": 55,
    "start_time": "2023-04-05T05:43:31.363Z"
   },
   {
    "duration": 55,
    "start_time": "2023-04-05T05:43:31.420Z"
   },
   {
    "duration": 38,
    "start_time": "2023-04-05T05:43:31.477Z"
   },
   {
    "duration": 82,
    "start_time": "2023-04-05T05:43:31.517Z"
   },
   {
    "duration": 78,
    "start_time": "2023-04-05T05:43:31.601Z"
   },
   {
    "duration": 44,
    "start_time": "2023-04-05T05:43:31.683Z"
   },
   {
    "duration": 43,
    "start_time": "2023-04-05T05:43:31.730Z"
   },
   {
    "duration": 38,
    "start_time": "2023-04-05T05:43:31.775Z"
   },
   {
    "duration": 18,
    "start_time": "2023-04-05T05:43:31.815Z"
   },
   {
    "duration": 25,
    "start_time": "2023-04-05T05:43:31.835Z"
   },
   {
    "duration": 8,
    "start_time": "2023-04-05T05:43:31.862Z"
   },
   {
    "duration": 30,
    "start_time": "2023-04-05T05:43:31.872Z"
   },
   {
    "duration": 30,
    "start_time": "2023-04-05T05:43:31.904Z"
   },
   {
    "duration": 17,
    "start_time": "2023-04-05T05:43:31.936Z"
   },
   {
    "duration": 12,
    "start_time": "2023-04-05T05:43:31.956Z"
   },
   {
    "duration": 17,
    "start_time": "2023-04-05T05:43:31.970Z"
   },
   {
    "duration": 66,
    "start_time": "2023-04-05T05:43:31.989Z"
   },
   {
    "duration": 29,
    "start_time": "2023-04-05T05:43:32.057Z"
   },
   {
    "duration": 30,
    "start_time": "2023-04-05T05:43:32.088Z"
   },
   {
    "duration": 56,
    "start_time": "2023-04-05T05:43:32.120Z"
   },
   {
    "duration": 40,
    "start_time": "2023-04-05T05:43:32.178Z"
   },
   {
    "duration": 58,
    "start_time": "2023-04-05T05:43:32.220Z"
   },
   {
    "duration": 0,
    "start_time": "2023-04-05T05:43:32.280Z"
   },
   {
    "duration": 0,
    "start_time": "2023-04-05T05:43:32.281Z"
   },
   {
    "duration": 0,
    "start_time": "2023-04-05T05:43:32.282Z"
   },
   {
    "duration": 0,
    "start_time": "2023-04-05T05:43:32.284Z"
   },
   {
    "duration": 0,
    "start_time": "2023-04-05T05:43:32.285Z"
   },
   {
    "duration": 0,
    "start_time": "2023-04-05T05:43:32.286Z"
   },
   {
    "duration": 0,
    "start_time": "2023-04-05T05:43:32.287Z"
   },
   {
    "duration": 0,
    "start_time": "2023-04-05T05:43:32.288Z"
   },
   {
    "duration": 14,
    "start_time": "2023-04-05T05:43:50.854Z"
   },
   {
    "duration": 4,
    "start_time": "2023-04-05T05:44:00.533Z"
   },
   {
    "duration": 13,
    "start_time": "2023-04-05T05:44:30.667Z"
   },
   {
    "duration": 6,
    "start_time": "2023-04-05T05:44:32.028Z"
   },
   {
    "duration": 13,
    "start_time": "2023-04-05T05:44:34.357Z"
   },
   {
    "duration": 5,
    "start_time": "2023-04-05T05:44:36.598Z"
   },
   {
    "duration": 12,
    "start_time": "2023-04-05T05:45:18.497Z"
   },
   {
    "duration": 6,
    "start_time": "2023-04-05T05:45:20.578Z"
   },
   {
    "duration": 11,
    "start_time": "2023-04-05T05:45:36.995Z"
   },
   {
    "duration": 4,
    "start_time": "2023-04-05T05:45:39.073Z"
   },
   {
    "duration": 8,
    "start_time": "2023-04-05T05:46:33.325Z"
   },
   {
    "duration": 4,
    "start_time": "2023-04-05T05:46:35.372Z"
   },
   {
    "duration": 11,
    "start_time": "2023-04-05T05:46:55.494Z"
   },
   {
    "duration": 5,
    "start_time": "2023-04-05T05:46:57.177Z"
   },
   {
    "duration": 8,
    "start_time": "2023-04-05T05:47:53.335Z"
   },
   {
    "duration": 6,
    "start_time": "2023-04-05T05:47:54.781Z"
   },
   {
    "duration": 32,
    "start_time": "2023-04-05T05:48:34.897Z"
   },
   {
    "duration": 1031,
    "start_time": "2023-04-05T06:20:24.757Z"
   },
   {
    "duration": 787,
    "start_time": "2023-04-05T06:20:35.066Z"
   },
   {
    "duration": 4,
    "start_time": "2023-04-05T06:20:40.037Z"
   },
   {
    "duration": 913,
    "start_time": "2023-04-05T06:25:33.157Z"
   },
   {
    "duration": 7,
    "start_time": "2023-04-05T06:33:32.323Z"
   },
   {
    "duration": 238,
    "start_time": "2023-04-05T06:35:04.565Z"
   },
   {
    "duration": 16,
    "start_time": "2023-04-05T06:35:11.213Z"
   },
   {
    "duration": 15,
    "start_time": "2023-04-05T06:35:17.438Z"
   },
   {
    "duration": 25,
    "start_time": "2023-04-05T06:36:08.332Z"
   },
   {
    "duration": 20,
    "start_time": "2023-04-05T07:09:00.650Z"
   },
   {
    "duration": 10,
    "start_time": "2023-04-05T07:09:11.500Z"
   },
   {
    "duration": 1645,
    "start_time": "2023-04-05T07:12:16.744Z"
   },
   {
    "duration": 3141,
    "start_time": "2023-04-05T07:14:33.241Z"
   },
   {
    "duration": 2,
    "start_time": "2023-04-05T07:16:34.657Z"
   },
   {
    "duration": 166,
    "start_time": "2023-04-05T07:16:37.142Z"
   },
   {
    "duration": 15,
    "start_time": "2023-04-05T07:16:38.272Z"
   },
   {
    "duration": 3099,
    "start_time": "2023-04-05T07:27:50.062Z"
   },
   {
    "duration": 3592,
    "start_time": "2023-04-05T07:29:53.966Z"
   },
   {
    "duration": 953,
    "start_time": "2023-04-05T07:30:55.063Z"
   },
   {
    "duration": 766,
    "start_time": "2023-04-05T07:31:33.507Z"
   },
   {
    "duration": 413,
    "start_time": "2023-04-05T07:31:46.274Z"
   },
   {
    "duration": 161,
    "start_time": "2023-04-05T07:31:46.688Z"
   },
   {
    "duration": 15,
    "start_time": "2023-04-05T07:31:46.851Z"
   },
   {
    "duration": 42,
    "start_time": "2023-04-05T07:31:46.867Z"
   },
   {
    "duration": 12,
    "start_time": "2023-04-05T07:31:46.912Z"
   },
   {
    "duration": 37,
    "start_time": "2023-04-05T07:31:46.926Z"
   },
   {
    "duration": 46,
    "start_time": "2023-04-05T07:31:46.964Z"
   },
   {
    "duration": 34,
    "start_time": "2023-04-05T07:31:47.012Z"
   },
   {
    "duration": 54,
    "start_time": "2023-04-05T07:31:47.048Z"
   },
   {
    "duration": 29,
    "start_time": "2023-04-05T07:31:47.104Z"
   },
   {
    "duration": 8,
    "start_time": "2023-04-05T07:31:47.135Z"
   },
   {
    "duration": 15,
    "start_time": "2023-04-05T07:31:47.145Z"
   },
   {
    "duration": 21,
    "start_time": "2023-04-05T07:31:47.162Z"
   },
   {
    "duration": 17,
    "start_time": "2023-04-05T07:31:47.187Z"
   },
   {
    "duration": 16,
    "start_time": "2023-04-05T07:31:47.206Z"
   },
   {
    "duration": 23,
    "start_time": "2023-04-05T07:31:47.223Z"
   },
   {
    "duration": 17,
    "start_time": "2023-04-05T07:31:47.248Z"
   },
   {
    "duration": 28,
    "start_time": "2023-04-05T07:31:47.267Z"
   },
   {
    "duration": 29,
    "start_time": "2023-04-05T07:31:47.297Z"
   },
   {
    "duration": 16,
    "start_time": "2023-04-05T07:31:47.328Z"
   },
   {
    "duration": 36,
    "start_time": "2023-04-05T07:31:47.345Z"
   },
   {
    "duration": 22,
    "start_time": "2023-04-05T07:31:47.382Z"
   },
   {
    "duration": 13,
    "start_time": "2023-04-05T07:31:47.406Z"
   },
   {
    "duration": 9,
    "start_time": "2023-04-05T07:31:47.420Z"
   },
   {
    "duration": 19,
    "start_time": "2023-04-05T07:31:47.430Z"
   },
   {
    "duration": 26,
    "start_time": "2023-04-05T07:31:47.450Z"
   },
   {
    "duration": 15,
    "start_time": "2023-04-05T07:31:47.477Z"
   },
   {
    "duration": 9,
    "start_time": "2023-04-05T07:31:47.494Z"
   },
   {
    "duration": 8,
    "start_time": "2023-04-05T07:31:47.505Z"
   },
   {
    "duration": 61,
    "start_time": "2023-04-05T07:31:47.515Z"
   },
   {
    "duration": 0,
    "start_time": "2023-04-05T07:31:47.578Z"
   },
   {
    "duration": 0,
    "start_time": "2023-04-05T07:31:47.579Z"
   },
   {
    "duration": 0,
    "start_time": "2023-04-05T07:31:47.580Z"
   },
   {
    "duration": 0,
    "start_time": "2023-04-05T07:31:47.581Z"
   },
   {
    "duration": 0,
    "start_time": "2023-04-05T07:31:47.582Z"
   },
   {
    "duration": 0,
    "start_time": "2023-04-05T07:31:47.583Z"
   },
   {
    "duration": 0,
    "start_time": "2023-04-05T07:31:47.584Z"
   },
   {
    "duration": 0,
    "start_time": "2023-04-05T07:31:47.585Z"
   },
   {
    "duration": 28,
    "start_time": "2023-04-05T07:33:33.110Z"
   },
   {
    "duration": 68,
    "start_time": "2023-04-05T07:34:07.918Z"
   },
   {
    "duration": 63,
    "start_time": "2023-04-05T07:34:21.713Z"
   },
   {
    "duration": 93,
    "start_time": "2023-04-05T07:35:30.251Z"
   },
   {
    "duration": 92,
    "start_time": "2023-04-05T07:35:50.930Z"
   },
   {
    "duration": 51,
    "start_time": "2023-04-05T07:37:39.606Z"
   },
   {
    "duration": 96,
    "start_time": "2023-04-05T07:38:54.765Z"
   },
   {
    "duration": 43,
    "start_time": "2023-04-05T07:40:25.952Z"
   },
   {
    "duration": 11,
    "start_time": "2023-04-05T07:44:39.343Z"
   },
   {
    "duration": 38,
    "start_time": "2023-04-05T07:45:29.042Z"
   },
   {
    "duration": 4681,
    "start_time": "2023-04-05T07:47:39.593Z"
   },
   {
    "duration": 4456,
    "start_time": "2023-04-05T07:48:09.231Z"
   },
   {
    "duration": 4403,
    "start_time": "2023-04-05T07:48:20.091Z"
   },
   {
    "duration": 14,
    "start_time": "2023-04-05T07:48:36.844Z"
   },
   {
    "duration": 4384,
    "start_time": "2023-04-05T07:48:49.642Z"
   },
   {
    "duration": 15,
    "start_time": "2023-04-05T07:49:28.903Z"
   },
   {
    "duration": 13,
    "start_time": "2023-04-05T07:50:37.375Z"
   },
   {
    "duration": 13,
    "start_time": "2023-04-05T07:50:55.848Z"
   },
   {
    "duration": 5,
    "start_time": "2023-04-05T08:02:27.959Z"
   },
   {
    "duration": 8,
    "start_time": "2023-04-05T08:06:51.274Z"
   },
   {
    "duration": 5,
    "start_time": "2023-04-05T08:08:12.844Z"
   },
   {
    "duration": 11,
    "start_time": "2023-04-05T08:08:15.939Z"
   },
   {
    "duration": 14,
    "start_time": "2023-04-05T08:09:04.526Z"
   },
   {
    "duration": 12,
    "start_time": "2023-04-05T08:09:05.955Z"
   },
   {
    "duration": 13,
    "start_time": "2023-04-05T08:09:06.622Z"
   },
   {
    "duration": 12,
    "start_time": "2023-04-05T08:09:07.258Z"
   },
   {
    "duration": 13,
    "start_time": "2023-04-05T08:09:07.734Z"
   },
   {
    "duration": 17,
    "start_time": "2023-04-05T08:09:08.157Z"
   },
   {
    "duration": 425,
    "start_time": "2023-04-05T08:09:34.158Z"
   },
   {
    "duration": 228,
    "start_time": "2023-04-05T08:09:34.586Z"
   },
   {
    "duration": 36,
    "start_time": "2023-04-05T08:09:34.816Z"
   },
   {
    "duration": 50,
    "start_time": "2023-04-05T08:09:34.856Z"
   },
   {
    "duration": 16,
    "start_time": "2023-04-05T08:09:34.910Z"
   },
   {
    "duration": 112,
    "start_time": "2023-04-05T08:09:34.929Z"
   },
   {
    "duration": 21,
    "start_time": "2023-04-05T08:09:35.043Z"
   },
   {
    "duration": 45,
    "start_time": "2023-04-05T08:09:35.067Z"
   },
   {
    "duration": 48,
    "start_time": "2023-04-05T08:09:35.114Z"
   },
   {
    "duration": 46,
    "start_time": "2023-04-05T08:09:35.165Z"
   },
   {
    "duration": 40,
    "start_time": "2023-04-05T08:09:35.213Z"
   },
   {
    "duration": 94,
    "start_time": "2023-04-05T08:09:35.257Z"
   },
   {
    "duration": 94,
    "start_time": "2023-04-05T08:09:35.353Z"
   },
   {
    "duration": 81,
    "start_time": "2023-04-05T08:09:35.450Z"
   },
   {
    "duration": 75,
    "start_time": "2023-04-05T08:09:35.533Z"
   },
   {
    "duration": 10,
    "start_time": "2023-04-05T08:09:35.610Z"
   },
   {
    "duration": 39,
    "start_time": "2023-04-05T08:09:35.621Z"
   },
   {
    "duration": 41,
    "start_time": "2023-04-05T08:09:35.662Z"
   },
   {
    "duration": 17,
    "start_time": "2023-04-05T08:09:35.706Z"
   },
   {
    "duration": 4,
    "start_time": "2023-04-05T08:09:35.725Z"
   },
   {
    "duration": 19,
    "start_time": "2023-04-05T08:09:35.731Z"
   },
   {
    "duration": 19,
    "start_time": "2023-04-05T08:09:35.752Z"
   },
   {
    "duration": 21,
    "start_time": "2023-04-05T08:09:35.772Z"
   },
   {
    "duration": 28,
    "start_time": "2023-04-05T08:09:35.796Z"
   },
   {
    "duration": 15,
    "start_time": "2023-04-05T08:09:35.826Z"
   },
   {
    "duration": 21,
    "start_time": "2023-04-05T08:09:35.842Z"
   },
   {
    "duration": 4,
    "start_time": "2023-04-05T08:09:35.865Z"
   },
   {
    "duration": 5,
    "start_time": "2023-04-05T08:09:35.871Z"
   },
   {
    "duration": 4,
    "start_time": "2023-04-05T08:09:35.903Z"
   },
   {
    "duration": 110,
    "start_time": "2023-04-05T08:09:35.909Z"
   },
   {
    "duration": 0,
    "start_time": "2023-04-05T08:09:36.021Z"
   },
   {
    "duration": 0,
    "start_time": "2023-04-05T08:09:36.023Z"
   },
   {
    "duration": 0,
    "start_time": "2023-04-05T08:09:36.024Z"
   },
   {
    "duration": 0,
    "start_time": "2023-04-05T08:09:36.027Z"
   },
   {
    "duration": 0,
    "start_time": "2023-04-05T08:09:36.028Z"
   },
   {
    "duration": 0,
    "start_time": "2023-04-05T08:09:36.029Z"
   },
   {
    "duration": 1,
    "start_time": "2023-04-05T08:09:36.031Z"
   },
   {
    "duration": 0,
    "start_time": "2023-04-05T08:09:36.033Z"
   },
   {
    "duration": 492,
    "start_time": "2023-04-05T08:10:14.271Z"
   },
   {
    "duration": 229,
    "start_time": "2023-04-05T08:10:14.765Z"
   },
   {
    "duration": 25,
    "start_time": "2023-04-05T08:10:14.996Z"
   },
   {
    "duration": 79,
    "start_time": "2023-04-05T08:10:15.024Z"
   },
   {
    "duration": 65,
    "start_time": "2023-04-05T08:10:15.106Z"
   },
   {
    "duration": 26,
    "start_time": "2023-04-05T08:10:15.173Z"
   },
   {
    "duration": 24,
    "start_time": "2023-04-05T08:10:15.201Z"
   },
   {
    "duration": 49,
    "start_time": "2023-04-05T08:10:15.227Z"
   },
   {
    "duration": 68,
    "start_time": "2023-04-05T08:10:15.277Z"
   },
   {
    "duration": 56,
    "start_time": "2023-04-05T08:10:15.348Z"
   },
   {
    "duration": 51,
    "start_time": "2023-04-05T08:10:15.406Z"
   },
   {
    "duration": 95,
    "start_time": "2023-04-05T08:10:15.459Z"
   },
   {
    "duration": 120,
    "start_time": "2023-04-05T08:10:15.556Z"
   },
   {
    "duration": 109,
    "start_time": "2023-04-05T08:10:15.679Z"
   },
   {
    "duration": 69,
    "start_time": "2023-04-05T08:10:15.790Z"
   },
   {
    "duration": 27,
    "start_time": "2023-04-05T08:10:15.860Z"
   },
   {
    "duration": 63,
    "start_time": "2023-04-05T08:10:15.889Z"
   },
   {
    "duration": 12,
    "start_time": "2023-04-05T08:10:15.953Z"
   },
   {
    "duration": 87,
    "start_time": "2023-04-05T08:10:15.966Z"
   },
   {
    "duration": 50,
    "start_time": "2023-04-05T08:10:16.055Z"
   },
   {
    "duration": 95,
    "start_time": "2023-04-05T08:10:16.107Z"
   },
   {
    "duration": 59,
    "start_time": "2023-04-05T08:10:16.204Z"
   },
   {
    "duration": 37,
    "start_time": "2023-04-05T08:10:16.264Z"
   },
   {
    "duration": 45,
    "start_time": "2023-04-05T08:10:16.304Z"
   },
   {
    "duration": 36,
    "start_time": "2023-04-05T08:10:16.350Z"
   },
   {
    "duration": 57,
    "start_time": "2023-04-05T08:10:16.388Z"
   },
   {
    "duration": 16,
    "start_time": "2023-04-05T08:10:16.447Z"
   },
   {
    "duration": 34,
    "start_time": "2023-04-05T08:10:16.468Z"
   },
   {
    "duration": 42,
    "start_time": "2023-04-05T08:10:16.504Z"
   },
   {
    "duration": 87,
    "start_time": "2023-04-05T08:10:16.549Z"
   },
   {
    "duration": 0,
    "start_time": "2023-04-05T08:10:16.638Z"
   },
   {
    "duration": 0,
    "start_time": "2023-04-05T08:10:16.639Z"
   },
   {
    "duration": 0,
    "start_time": "2023-04-05T08:10:16.640Z"
   },
   {
    "duration": 0,
    "start_time": "2023-04-05T08:10:16.642Z"
   },
   {
    "duration": 0,
    "start_time": "2023-04-05T08:10:16.643Z"
   },
   {
    "duration": 0,
    "start_time": "2023-04-05T08:10:16.644Z"
   },
   {
    "duration": 0,
    "start_time": "2023-04-05T08:10:16.646Z"
   },
   {
    "duration": 0,
    "start_time": "2023-04-05T08:10:16.647Z"
   },
   {
    "duration": 77,
    "start_time": "2023-04-05T08:11:52.540Z"
   },
   {
    "duration": 9,
    "start_time": "2023-04-05T08:17:02.697Z"
   },
   {
    "duration": 9,
    "start_time": "2023-04-05T08:17:37.500Z"
   },
   {
    "duration": 10,
    "start_time": "2023-04-05T08:17:43.726Z"
   },
   {
    "duration": 5,
    "start_time": "2023-04-05T08:17:52.753Z"
   },
   {
    "duration": 17,
    "start_time": "2023-04-05T08:19:41.401Z"
   },
   {
    "duration": 9,
    "start_time": "2023-04-05T08:20:13.747Z"
   },
   {
    "duration": 5,
    "start_time": "2023-04-05T08:36:26.213Z"
   },
   {
    "duration": 5,
    "start_time": "2023-04-05T08:36:32.501Z"
   },
   {
    "duration": 6,
    "start_time": "2023-04-05T08:38:20.003Z"
   },
   {
    "duration": 38,
    "start_time": "2023-04-05T08:43:22.433Z"
   },
   {
    "duration": 491,
    "start_time": "2023-04-05T08:43:37.487Z"
   },
   {
    "duration": 202,
    "start_time": "2023-04-05T08:43:37.981Z"
   },
   {
    "duration": 24,
    "start_time": "2023-04-05T08:43:38.186Z"
   },
   {
    "duration": 75,
    "start_time": "2023-04-05T08:43:38.212Z"
   },
   {
    "duration": 9,
    "start_time": "2023-04-05T08:43:38.290Z"
   },
   {
    "duration": 52,
    "start_time": "2023-04-05T08:43:38.303Z"
   },
   {
    "duration": 31,
    "start_time": "2023-04-05T08:43:38.356Z"
   },
   {
    "duration": 27,
    "start_time": "2023-04-05T08:43:38.389Z"
   },
   {
    "duration": 41,
    "start_time": "2023-04-05T08:43:38.418Z"
   },
   {
    "duration": 47,
    "start_time": "2023-04-05T08:43:38.461Z"
   },
   {
    "duration": 42,
    "start_time": "2023-04-05T08:43:38.510Z"
   },
   {
    "duration": 99,
    "start_time": "2023-04-05T08:43:38.554Z"
   },
   {
    "duration": 103,
    "start_time": "2023-04-05T08:43:38.654Z"
   },
   {
    "duration": 80,
    "start_time": "2023-04-05T08:43:38.761Z"
   },
   {
    "duration": 58,
    "start_time": "2023-04-05T08:43:38.843Z"
   },
   {
    "duration": 15,
    "start_time": "2023-04-05T08:43:38.903Z"
   },
   {
    "duration": 57,
    "start_time": "2023-04-05T08:43:38.920Z"
   },
   {
    "duration": 21,
    "start_time": "2023-04-05T08:43:38.984Z"
   },
   {
    "duration": 28,
    "start_time": "2023-04-05T08:43:39.007Z"
   },
   {
    "duration": 6,
    "start_time": "2023-04-05T08:43:39.037Z"
   },
   {
    "duration": 46,
    "start_time": "2023-04-05T08:43:39.044Z"
   },
   {
    "duration": 23,
    "start_time": "2023-04-05T08:43:39.092Z"
   },
   {
    "duration": 27,
    "start_time": "2023-04-05T08:43:39.117Z"
   },
   {
    "duration": 14,
    "start_time": "2023-04-05T08:43:39.145Z"
   },
   {
    "duration": 25,
    "start_time": "2023-04-05T08:43:39.184Z"
   },
   {
    "duration": 21,
    "start_time": "2023-04-05T08:43:39.211Z"
   },
   {
    "duration": 4,
    "start_time": "2023-04-05T08:43:39.234Z"
   },
   {
    "duration": 13,
    "start_time": "2023-04-05T08:43:39.240Z"
   },
   {
    "duration": 38,
    "start_time": "2023-04-05T08:43:39.255Z"
   },
   {
    "duration": 7,
    "start_time": "2023-04-05T08:43:39.295Z"
   },
   {
    "duration": 34,
    "start_time": "2023-04-05T08:43:39.304Z"
   },
   {
    "duration": 13,
    "start_time": "2023-04-05T08:43:39.340Z"
   },
   {
    "duration": 56,
    "start_time": "2023-04-05T08:43:39.355Z"
   },
   {
    "duration": 20,
    "start_time": "2023-04-05T08:43:39.413Z"
   },
   {
    "duration": 3,
    "start_time": "2023-04-05T08:43:39.435Z"
   },
   {
    "duration": 7,
    "start_time": "2023-04-05T08:43:39.441Z"
   },
   {
    "duration": 34,
    "start_time": "2023-04-05T08:43:39.450Z"
   },
   {
    "duration": 8,
    "start_time": "2023-04-05T08:43:39.486Z"
   },
   {
    "duration": 36,
    "start_time": "2023-04-05T08:48:21.111Z"
   },
   {
    "duration": 9,
    "start_time": "2023-04-05T08:48:54.434Z"
   },
   {
    "duration": 6,
    "start_time": "2023-04-05T08:49:34.687Z"
   },
   {
    "duration": 5,
    "start_time": "2023-04-05T08:50:43.901Z"
   },
   {
    "duration": 7,
    "start_time": "2023-04-05T08:50:46.490Z"
   },
   {
    "duration": 480,
    "start_time": "2023-04-05T08:50:54.379Z"
   },
   {
    "duration": 216,
    "start_time": "2023-04-05T08:50:54.862Z"
   },
   {
    "duration": 26,
    "start_time": "2023-04-05T08:50:55.082Z"
   },
   {
    "duration": 35,
    "start_time": "2023-04-05T08:50:55.110Z"
   },
   {
    "duration": 4,
    "start_time": "2023-04-05T08:50:55.147Z"
   },
   {
    "duration": 19,
    "start_time": "2023-04-05T08:50:55.153Z"
   },
   {
    "duration": 43,
    "start_time": "2023-04-05T08:50:55.183Z"
   },
   {
    "duration": 17,
    "start_time": "2023-04-05T08:50:55.228Z"
   },
   {
    "duration": 32,
    "start_time": "2023-04-05T08:50:55.246Z"
   },
   {
    "duration": 39,
    "start_time": "2023-04-05T08:50:55.280Z"
   },
   {
    "duration": 33,
    "start_time": "2023-04-05T08:50:55.321Z"
   },
   {
    "duration": 107,
    "start_time": "2023-04-05T08:50:55.356Z"
   },
   {
    "duration": 85,
    "start_time": "2023-04-05T08:50:55.465Z"
   },
   {
    "duration": 80,
    "start_time": "2023-04-05T08:50:55.553Z"
   },
   {
    "duration": 39,
    "start_time": "2023-04-05T08:50:55.635Z"
   },
   {
    "duration": 14,
    "start_time": "2023-04-05T08:50:55.684Z"
   },
   {
    "duration": 69,
    "start_time": "2023-04-05T08:50:55.700Z"
   },
   {
    "duration": 19,
    "start_time": "2023-04-05T08:50:55.783Z"
   },
   {
    "duration": 38,
    "start_time": "2023-04-05T08:50:55.804Z"
   },
   {
    "duration": 31,
    "start_time": "2023-04-05T08:50:55.844Z"
   },
   {
    "duration": 45,
    "start_time": "2023-04-05T08:50:55.877Z"
   },
   {
    "duration": 25,
    "start_time": "2023-04-05T08:50:55.924Z"
   },
   {
    "duration": 38,
    "start_time": "2023-04-05T08:50:55.951Z"
   },
   {
    "duration": 38,
    "start_time": "2023-04-05T08:50:55.991Z"
   },
   {
    "duration": 28,
    "start_time": "2023-04-05T08:50:56.031Z"
   },
   {
    "duration": 35,
    "start_time": "2023-04-05T08:50:56.061Z"
   },
   {
    "duration": 18,
    "start_time": "2023-04-05T08:50:56.098Z"
   },
   {
    "duration": 35,
    "start_time": "2023-04-05T08:50:56.118Z"
   },
   {
    "duration": 20,
    "start_time": "2023-04-05T08:50:56.155Z"
   },
   {
    "duration": 19,
    "start_time": "2023-04-05T08:50:56.177Z"
   },
   {
    "duration": 49,
    "start_time": "2023-04-05T08:50:56.197Z"
   },
   {
    "duration": 13,
    "start_time": "2023-04-05T08:50:56.248Z"
   },
   {
    "duration": 40,
    "start_time": "2023-04-05T08:50:56.262Z"
   },
   {
    "duration": 21,
    "start_time": "2023-04-05T08:50:56.304Z"
   },
   {
    "duration": 30,
    "start_time": "2023-04-05T08:50:56.327Z"
   },
   {
    "duration": 25,
    "start_time": "2023-04-05T08:50:56.359Z"
   },
   {
    "duration": 30,
    "start_time": "2023-04-05T08:50:56.386Z"
   },
   {
    "duration": 22,
    "start_time": "2023-04-05T08:50:56.418Z"
   },
   {
    "duration": 9,
    "start_time": "2023-04-05T08:51:14.643Z"
   },
   {
    "duration": 6,
    "start_time": "2023-04-05T08:51:17.120Z"
   },
   {
    "duration": 80,
    "start_time": "2023-04-05T08:51:39.755Z"
   },
   {
    "duration": 10,
    "start_time": "2023-04-05T08:51:57.063Z"
   },
   {
    "duration": 8,
    "start_time": "2023-04-05T08:52:14.408Z"
   },
   {
    "duration": 10,
    "start_time": "2023-04-05T08:53:33.676Z"
   },
   {
    "duration": 433,
    "start_time": "2023-04-05T08:53:41.799Z"
   },
   {
    "duration": 187,
    "start_time": "2023-04-05T08:53:42.233Z"
   },
   {
    "duration": 21,
    "start_time": "2023-04-05T08:53:42.422Z"
   },
   {
    "duration": 71,
    "start_time": "2023-04-05T08:53:42.445Z"
   },
   {
    "duration": 3,
    "start_time": "2023-04-05T08:53:42.520Z"
   },
   {
    "duration": 19,
    "start_time": "2023-04-05T08:53:42.525Z"
   },
   {
    "duration": 25,
    "start_time": "2023-04-05T08:53:42.546Z"
   },
   {
    "duration": 17,
    "start_time": "2023-04-05T08:53:42.573Z"
   },
   {
    "duration": 47,
    "start_time": "2023-04-05T08:53:42.592Z"
   },
   {
    "duration": 40,
    "start_time": "2023-04-05T08:53:42.642Z"
   },
   {
    "duration": 43,
    "start_time": "2023-04-05T08:53:42.685Z"
   },
   {
    "duration": 97,
    "start_time": "2023-04-05T08:53:42.731Z"
   },
   {
    "duration": 83,
    "start_time": "2023-04-05T08:53:42.829Z"
   },
   {
    "duration": 69,
    "start_time": "2023-04-05T08:53:42.915Z"
   },
   {
    "duration": 64,
    "start_time": "2023-04-05T08:53:42.986Z"
   },
   {
    "duration": 32,
    "start_time": "2023-04-05T08:53:43.053Z"
   },
   {
    "duration": 50,
    "start_time": "2023-04-05T08:53:43.087Z"
   },
   {
    "duration": 25,
    "start_time": "2023-04-05T08:53:43.140Z"
   },
   {
    "duration": 32,
    "start_time": "2023-04-05T08:53:43.185Z"
   },
   {
    "duration": 4,
    "start_time": "2023-04-05T08:53:43.220Z"
   },
   {
    "duration": 42,
    "start_time": "2023-04-05T08:53:43.226Z"
   },
   {
    "duration": 26,
    "start_time": "2023-04-05T08:53:43.270Z"
   },
   {
    "duration": 27,
    "start_time": "2023-04-05T08:53:43.298Z"
   },
   {
    "duration": 24,
    "start_time": "2023-04-05T08:53:43.328Z"
   },
   {
    "duration": 18,
    "start_time": "2023-04-05T08:53:43.354Z"
   },
   {
    "duration": 16,
    "start_time": "2023-04-05T08:53:43.383Z"
   },
   {
    "duration": 6,
    "start_time": "2023-04-05T08:53:43.401Z"
   },
   {
    "duration": 41,
    "start_time": "2023-04-05T08:53:43.409Z"
   },
   {
    "duration": 20,
    "start_time": "2023-04-05T08:53:43.453Z"
   },
   {
    "duration": 6,
    "start_time": "2023-04-05T08:53:43.475Z"
   },
   {
    "duration": 59,
    "start_time": "2023-04-05T08:53:43.484Z"
   },
   {
    "duration": 26,
    "start_time": "2023-04-05T08:53:43.545Z"
   },
   {
    "duration": 28,
    "start_time": "2023-04-05T08:53:43.573Z"
   },
   {
    "duration": 24,
    "start_time": "2023-04-05T08:53:43.603Z"
   },
   {
    "duration": 14,
    "start_time": "2023-04-05T08:53:43.629Z"
   },
   {
    "duration": 40,
    "start_time": "2023-04-05T08:53:43.645Z"
   },
   {
    "duration": 11,
    "start_time": "2023-04-05T08:53:43.688Z"
   },
   {
    "duration": 15,
    "start_time": "2023-04-05T08:53:43.702Z"
   },
   {
    "duration": 9,
    "start_time": "2023-04-05T08:53:58.757Z"
   },
   {
    "duration": 4,
    "start_time": "2023-04-05T08:54:00.593Z"
   },
   {
    "duration": 8,
    "start_time": "2023-04-05T08:55:35.269Z"
   },
   {
    "duration": 5,
    "start_time": "2023-04-05T08:56:01.497Z"
   }
  ],
  "colab": {
   "collapsed_sections": [
    "E0vqbgi9ay0H",
    "VUC88oWjTJw2"
   ],
   "provenance": []
  },
  "kernelspec": {
   "display_name": "Python 3 (ipykernel)",
   "language": "python",
   "name": "python3"
  },
  "language_info": {
   "codemirror_mode": {
    "name": "ipython",
    "version": 3
   },
   "file_extension": ".py",
   "mimetype": "text/x-python",
   "name": "python",
   "nbconvert_exporter": "python",
   "pygments_lexer": "ipython3",
   "version": "3.9.16"
  },
  "toc": {
   "base_numbering": 1,
   "nav_menu": {
    "height": "215px",
    "width": "403px"
   },
   "number_sections": true,
   "sideBar": true,
   "skip_h1_title": true,
   "title_cell": "Table of Contents",
   "title_sidebar": "Contents",
   "toc_cell": false,
   "toc_position": {
    "height": "calc(100% - 180px)",
    "left": "10px",
    "top": "150px",
    "width": "285.825px"
   },
   "toc_section_display": true,
   "toc_window_display": false
  },
  "varInspector": {
   "cols": {
    "lenName": 16,
    "lenType": 16,
    "lenVar": 40
   },
   "kernels_config": {
    "python": {
     "delete_cmd_postfix": "",
     "delete_cmd_prefix": "del ",
     "library": "var_list.py",
     "varRefreshCmd": "print(var_dic_list())"
    },
    "r": {
     "delete_cmd_postfix": ") ",
     "delete_cmd_prefix": "rm(",
     "library": "var_list.r",
     "varRefreshCmd": "cat(var_dic_list()) "
    }
   },
   "types_to_exclude": [
    "module",
    "function",
    "builtin_function_or_method",
    "instance",
    "_Feature"
   ],
   "window_display": false
  }
 },
 "nbformat": 4,
 "nbformat_minor": 1
}
