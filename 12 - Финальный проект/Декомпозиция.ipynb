{
 "cells": [
  {
   "cell_type": "markdown",
   "id": "1a77d470",
   "metadata": {},
   "source": [
    "`Декомпозиция проекта:`  \n",
    "\n",
    "1. **Сбор предварительной информации о проекте:**\n",
    "    - Описание данных;\n",
    "    - Постановка задач и ожидаемого результата.\n",
    "2. **Подготовительный этап:**\n",
    "    - Испорт необходимых библиотек;\n",
    "    - Загрузка данных;\n",
    "    - Предварительный просмотр данных.\n",
    "3. **Предобработка данных:**\n",
    "    - Проверка на корректность наименований колонок\n",
    "    - Приведение к корректному типу данных;\n",
    "    - Проверка на наличие пропусков;\n",
    "    - Проверка на наличие дубликатов (явных/неявных);\n",
    "    - Проверка значений на наличие выбросов;\n",
    "    - Написание вывода по разделу.\n",
    "4. **Исследовательский анализ данных:**\n",
    "    - Анализ параметров набора данных;\n",
    "    - Поиск взаимосвязей между параметрами данных;\n",
    "    - Составление портретов уходящих клиентов;\n",
    "    - Написание вывода по разделу.\n",
    "5. **Статистический анализ данных:**\n",
    "    - Выдвижение первой гипотезы и ее проверка;\n",
    "    - Выводы по резльтатам проверки первой гипотезы;\n",
    "    - Выдвижение второй гипотезы и ее проверка;\n",
    "    - Выводы по результатам проверки второй гипотезы;\n",
    "    - Написание вывода по разделу.\n",
    "6. **Сегментация пользователей и их приоритизация в рамках проводимого исследования.**\n",
    "7. **Итоговые выводы и рекомендации по каждому из сегментов.**"
   ]
  },
  {
   "cell_type": "code",
   "execution_count": null,
   "id": "59d73c4b",
   "metadata": {},
   "outputs": [],
   "source": []
  }
 ],
 "metadata": {
  "kernelspec": {
   "display_name": "Python 3 (ipykernel)",
   "language": "python",
   "name": "python3"
  },
  "language_info": {
   "codemirror_mode": {
    "name": "ipython",
    "version": 3
   },
   "file_extension": ".py",
   "mimetype": "text/x-python",
   "name": "python",
   "nbconvert_exporter": "python",
   "pygments_lexer": "ipython3",
   "version": "3.9.16"
  },
  "toc": {
   "base_numbering": 1,
   "nav_menu": {},
   "number_sections": true,
   "sideBar": true,
   "skip_h1_title": true,
   "title_cell": "Table of Contents",
   "title_sidebar": "Contents",
   "toc_cell": false,
   "toc_position": {},
   "toc_section_display": true,
   "toc_window_display": false
  },
  "varInspector": {
   "cols": {
    "lenName": 16,
    "lenType": 16,
    "lenVar": 40
   },
   "kernels_config": {
    "python": {
     "delete_cmd_postfix": "",
     "delete_cmd_prefix": "del ",
     "library": "var_list.py",
     "varRefreshCmd": "print(var_dic_list())"
    },
    "r": {
     "delete_cmd_postfix": ") ",
     "delete_cmd_prefix": "rm(",
     "library": "var_list.r",
     "varRefreshCmd": "cat(var_dic_list()) "
    }
   },
   "types_to_exclude": [
    "module",
    "function",
    "builtin_function_or_method",
    "instance",
    "_Feature"
   ],
   "window_display": false
  }
 },
 "nbformat": 4,
 "nbformat_minor": 5
}
