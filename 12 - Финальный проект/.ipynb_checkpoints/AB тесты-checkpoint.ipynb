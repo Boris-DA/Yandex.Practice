{
 "cells": [
  {
   "cell_type": "markdown",
   "id": "bc376445",
   "metadata": {},
   "source": [
    "**Постановка задачи**  \n",
    "\n",
    "Провести оценку результатов A/B-теста. \n",
    "\n",
    "В нашем распоряжении есть датасет с действиями пользователей, техническое задание и несколько\n",
    "вспомогательных датасетов. Оцените корректность проведения теста и проанализируйте его результаты.  \n",
    "\n",
    "Чтобы оценить корректность проведения теста:\n",
    "   - удостоверьтесь, что нет пересечений с конкурирующим тестом и нет пользователей, участвующих в двух группах теста одновременно;\n",
    "   - проверьте равномерность распределения пользователей по тестовым группам и правильность их формирования.\n",
    "   \n",
    "**Техническое задание**  \n",
    "\n",
    "**Название теста**: recommender_system_test;  \n",
    "**Группы**: А (контрольная), B (новая платёжная воронка);  \n",
    "**Дата запуска**: 2020-12-07;  \n",
    "**Дата остановки набора новых пользователей**: 2020-12-21;  \n",
    "**Дата остановки**: 2021-01-04;  \n",
    "**Ожидаемое количество участников теста**: 15% новых пользователей из региона EU;  \n",
    "**Назначение теста**: тестирование изменений, связанных с внедрением улучшенной рекомендательной системы;  \n",
    "**Ожидаемый эффект**: за 14 дней с момента регистрации в системе пользователи покажут улучшение каждой метрики не менее, чем на 5 процентных пунктов:  \n",
    "   - конверсии в просмотр карточек товаров — событие product_page\n",
    "   - просмотры корзины — product_cart\n",
    "   - покупки — purchase ."
   ]
  },
  {
   "cell_type": "code",
   "execution_count": 1,
   "id": "c6f307d8",
   "metadata": {},
   "outputs": [],
   "source": [
    "# Загружаем библиотеки\n",
    "import warnings\n",
    "warnings.simplefilter(action='ignore', category=FutureWarning)\n",
    "import pandas as pd\n",
    "import numpy as np\n",
    "import seaborn as sns\n",
    "import matplotlib.pyplot as plt\n",
    "import seaborn as sns\n",
    "import scipy.stats as st\n",
    "import datetime as dt\n",
    "from pandas.plotting import register_matplotlib_converters"
   ]
  },
  {
   "cell_type": "code",
   "execution_count": 2,
   "id": "26c60369",
   "metadata": {},
   "outputs": [],
   "source": [
    "# Указываем базовые настройки \n",
    "pd.set_option('display.max_colwidth', None)\n",
    "pd.set_option('display.float_format', '{:.2f}'.format)\n",
    "register_matplotlib_converters()"
   ]
  },
  {
   "cell_type": "code",
   "execution_count": 3,
   "id": "3f4ffb94",
   "metadata": {},
   "outputs": [],
   "source": [
    "# Указываем настройки графиков\n",
    "large = 16; med = 10; small = 8\n",
    "params = {'axes.titlesize': large,\n",
    "          'legend.fontsize': med,\n",
    "          'figure.figsize': (10, 6),\n",
    "          'axes.labelsize': med,\n",
    "          'axes.titlesize': med,\n",
    "          'xtick.labelsize': med,\n",
    "          'ytick.labelsize': med,\n",
    "          'figure.titlesize': large}\n",
    "plt.rcParams.update(params)\n",
    "sns.set_style(\"whitegrid\")\n",
    "%matplotlib inline"
   ]
  },
  {
   "cell_type": "code",
   "execution_count": 4,
   "id": "b54d70e5",
   "metadata": {},
   "outputs": [],
   "source": [
    "# Указываем путь к файлу\n",
    "try:\n",
    "    marketing_events, new_users, events, participants = (\n",
    "        pd.read_csv('C:/Users/Boris/Desktop/datasets/ab_project_marketing_events.csv'),\n",
    "        pd.read_csv('C:/Users/Boris/Desktop/datasets/final_ab_new_users.csv'),\n",
    "        pd.read_csv('C:/Users/Boris/Desktop/datasets/final_ab_events.csv'),\n",
    "        pd.read_csv('C:/Users/Boris/Desktop/datasets/final_ab_participants.csv')\n",
    "    )\n",
    "except:\n",
    "    marketing_events, new_users, events, participants = (\n",
    "        pd.read_csv('/datasets/ab_project_marketing_events.csv'),\n",
    "        pd.read_csv('/datasets/final_ab_new_users.csv'),\n",
    "        pd.read_csv('/datasets/final_ab_events.csv'),\n",
    "        pd.read_csv('/datasets/final_ab_participants.csv')\n",
    "    )"
   ]
  },
  {
   "cell_type": "markdown",
   "id": "43ff8713",
   "metadata": {},
   "source": [
    "## Предварительная обработка данных"
   ]
  },
  {
   "cell_type": "markdown",
   "id": "62b3620a",
   "metadata": {},
   "source": [
    "Проведем предварительную обработку данных для имеющихся наборов данных:"
   ]
  },
  {
   "cell_type": "code",
   "execution_count": 5,
   "id": "ca730154",
   "metadata": {},
   "outputs": [],
   "source": [
    "# Зададим функцию с параметрами необходимого набора данных\n",
    "def first_look(df):\n",
    "    \n",
    "    # Сделаем новый набор данных, в который будет добавлять искомые значения\n",
    "    fl_df = pd.DataFrame(columns=list(df.columns))\n",
    "    \n",
    "    # Начнем итерировать по колонкам набора данных\n",
    "    for column in df.columns:\n",
    "        fl_df.loc[1, column] = df[column].nunique()\n",
    "        fl_df.loc[2, column] = df[column].isna().sum()\n",
    "        fl_df.loc[3, column] = round(df[column].isna().sum() / len(df[column]), 4) * 100\n",
    "        fl_df.loc[4, column] = df[column].duplicated().sum()\n",
    "        fl_df.loc[5, column] = round(df[column].duplicated().sum() / len(df[column]), 4) * 100\n",
    "    \n",
    "    # Переименуем индексы строк\n",
    "    fl_df.index = ['Уникальные значения',\n",
    "                   'Пропуски',\n",
    "                   'Пропуски, %',\n",
    "                   'Дубликаты',\n",
    "                   'Дубликаты, %']\n",
    "    \n",
    "    print('Выводим информацию о наборе данных:', '\\n')\n",
    "    df.info()\n",
    "    \n",
    "    # Выводим получившийся набор данных\n",
    "    return display(fl_df)"
   ]
  },
  {
   "cell_type": "markdown",
   "id": "d39b5321",
   "metadata": {},
   "source": [
    "### Обработка marketing_events"
   ]
  },
  {
   "cell_type": "code",
   "execution_count": 6,
   "id": "e46ae977",
   "metadata": {
    "scrolled": false
   },
   "outputs": [
    {
     "name": "stdout",
     "output_type": "stream",
     "text": [
      "Выводим информацию о наборе данных: \n",
      "\n",
      "<class 'pandas.core.frame.DataFrame'>\n",
      "RangeIndex: 14 entries, 0 to 13\n",
      "Data columns (total 4 columns):\n",
      " #   Column     Non-Null Count  Dtype \n",
      "---  ------     --------------  ----- \n",
      " 0   name       14 non-null     object\n",
      " 1   regions    14 non-null     object\n",
      " 2   start_dt   14 non-null     object\n",
      " 3   finish_dt  14 non-null     object\n",
      "dtypes: object(4)\n",
      "memory usage: 576.0+ bytes\n"
     ]
    },
    {
     "data": {
      "text/html": [
       "<div>\n",
       "<style scoped>\n",
       "    .dataframe tbody tr th:only-of-type {\n",
       "        vertical-align: middle;\n",
       "    }\n",
       "\n",
       "    .dataframe tbody tr th {\n",
       "        vertical-align: top;\n",
       "    }\n",
       "\n",
       "    .dataframe thead th {\n",
       "        text-align: right;\n",
       "    }\n",
       "</style>\n",
       "<table border=\"1\" class=\"dataframe\">\n",
       "  <thead>\n",
       "    <tr style=\"text-align: right;\">\n",
       "      <th></th>\n",
       "      <th>name</th>\n",
       "      <th>regions</th>\n",
       "      <th>start_dt</th>\n",
       "      <th>finish_dt</th>\n",
       "    </tr>\n",
       "  </thead>\n",
       "  <tbody>\n",
       "    <tr>\n",
       "      <th>Уникальные значения</th>\n",
       "      <td>14</td>\n",
       "      <td>6</td>\n",
       "      <td>14</td>\n",
       "      <td>14</td>\n",
       "    </tr>\n",
       "    <tr>\n",
       "      <th>Пропуски</th>\n",
       "      <td>0</td>\n",
       "      <td>0</td>\n",
       "      <td>0</td>\n",
       "      <td>0</td>\n",
       "    </tr>\n",
       "    <tr>\n",
       "      <th>Пропуски, %</th>\n",
       "      <td>0.00</td>\n",
       "      <td>0.00</td>\n",
       "      <td>0.00</td>\n",
       "      <td>0.00</td>\n",
       "    </tr>\n",
       "    <tr>\n",
       "      <th>Дубликаты</th>\n",
       "      <td>0</td>\n",
       "      <td>8</td>\n",
       "      <td>0</td>\n",
       "      <td>0</td>\n",
       "    </tr>\n",
       "    <tr>\n",
       "      <th>Дубликаты, %</th>\n",
       "      <td>0.00</td>\n",
       "      <td>57.14</td>\n",
       "      <td>0.00</td>\n",
       "      <td>0.00</td>\n",
       "    </tr>\n",
       "  </tbody>\n",
       "</table>\n",
       "</div>"
      ],
      "text/plain": [
       "                    name regions start_dt finish_dt\n",
       "Уникальные значения   14       6       14        14\n",
       "Пропуски               0       0        0         0\n",
       "Пропуски, %         0.00    0.00     0.00      0.00\n",
       "Дубликаты              0       8        0         0\n",
       "Дубликаты, %        0.00   57.14     0.00      0.00"
      ]
     },
     "metadata": {},
     "output_type": "display_data"
    }
   ],
   "source": [
    "first_look(marketing_events)"
   ]
  },
  {
   "cell_type": "markdown",
   "id": "21242ee2",
   "metadata": {},
   "source": [
    "Получили предварительную информацию о имеющиемся наборе данных."
   ]
  },
  {
   "cell_type": "code",
   "execution_count": 7,
   "id": "2d929ecd",
   "metadata": {},
   "outputs": [
    {
     "data": {
      "text/plain": [
       "array(['EU, N.America', 'EU, CIS, APAC, N.America', 'N.America', 'APAC',\n",
       "       'EU, CIS, APAC', 'CIS'], dtype=object)"
      ]
     },
     "execution_count": 7,
     "metadata": {},
     "output_type": "execute_result"
    }
   ],
   "source": [
    "marketing_events['regions'].unique()"
   ]
  },
  {
   "cell_type": "markdown",
   "id": "4d2669f3",
   "metadata": {},
   "source": [
    "Приведем столбцы к нужному формату"
   ]
  },
  {
   "cell_type": "code",
   "execution_count": 8,
   "id": "9b2e4db0",
   "metadata": {},
   "outputs": [],
   "source": [
    "marketing_events['start_dt']=pd.to_datetime(marketing_events['start_dt'])\n",
    "marketing_events['finish_dt']=pd.to_datetime(marketing_events['finish_dt'])"
   ]
  },
  {
   "cell_type": "markdown",
   "id": "ccb8c813",
   "metadata": {},
   "source": [
    "### Обработка new_users"
   ]
  },
  {
   "cell_type": "code",
   "execution_count": 9,
   "id": "a95257cb",
   "metadata": {},
   "outputs": [
    {
     "name": "stdout",
     "output_type": "stream",
     "text": [
      "Выводим информацию о наборе данных: \n",
      "\n",
      "<class 'pandas.core.frame.DataFrame'>\n",
      "RangeIndex: 61733 entries, 0 to 61732\n",
      "Data columns (total 4 columns):\n",
      " #   Column      Non-Null Count  Dtype \n",
      "---  ------      --------------  ----- \n",
      " 0   user_id     61733 non-null  object\n",
      " 1   first_date  61733 non-null  object\n",
      " 2   region      61733 non-null  object\n",
      " 3   device      61733 non-null  object\n",
      "dtypes: object(4)\n",
      "memory usage: 1.9+ MB\n"
     ]
    },
    {
     "data": {
      "text/html": [
       "<div>\n",
       "<style scoped>\n",
       "    .dataframe tbody tr th:only-of-type {\n",
       "        vertical-align: middle;\n",
       "    }\n",
       "\n",
       "    .dataframe tbody tr th {\n",
       "        vertical-align: top;\n",
       "    }\n",
       "\n",
       "    .dataframe thead th {\n",
       "        text-align: right;\n",
       "    }\n",
       "</style>\n",
       "<table border=\"1\" class=\"dataframe\">\n",
       "  <thead>\n",
       "    <tr style=\"text-align: right;\">\n",
       "      <th></th>\n",
       "      <th>user_id</th>\n",
       "      <th>first_date</th>\n",
       "      <th>region</th>\n",
       "      <th>device</th>\n",
       "    </tr>\n",
       "  </thead>\n",
       "  <tbody>\n",
       "    <tr>\n",
       "      <th>Уникальные значения</th>\n",
       "      <td>61733</td>\n",
       "      <td>17</td>\n",
       "      <td>4</td>\n",
       "      <td>4</td>\n",
       "    </tr>\n",
       "    <tr>\n",
       "      <th>Пропуски</th>\n",
       "      <td>0</td>\n",
       "      <td>0</td>\n",
       "      <td>0</td>\n",
       "      <td>0</td>\n",
       "    </tr>\n",
       "    <tr>\n",
       "      <th>Пропуски, %</th>\n",
       "      <td>0.00</td>\n",
       "      <td>0.00</td>\n",
       "      <td>0.00</td>\n",
       "      <td>0.00</td>\n",
       "    </tr>\n",
       "    <tr>\n",
       "      <th>Дубликаты</th>\n",
       "      <td>0</td>\n",
       "      <td>61716</td>\n",
       "      <td>61729</td>\n",
       "      <td>61729</td>\n",
       "    </tr>\n",
       "    <tr>\n",
       "      <th>Дубликаты, %</th>\n",
       "      <td>0.00</td>\n",
       "      <td>99.97</td>\n",
       "      <td>99.99</td>\n",
       "      <td>99.99</td>\n",
       "    </tr>\n",
       "  </tbody>\n",
       "</table>\n",
       "</div>"
      ],
      "text/plain": [
       "                    user_id first_date region device\n",
       "Уникальные значения   61733         17      4      4\n",
       "Пропуски                  0          0      0      0\n",
       "Пропуски, %            0.00       0.00   0.00   0.00\n",
       "Дубликаты                 0      61716  61729  61729\n",
       "Дубликаты, %           0.00      99.97  99.99  99.99"
      ]
     },
     "metadata": {},
     "output_type": "display_data"
    }
   ],
   "source": [
    "first_look(new_users)"
   ]
  },
  {
   "cell_type": "markdown",
   "id": "caf943cd",
   "metadata": {},
   "source": [
    "Получили предварительную информацию о имеющиемся наборе данных.  \n",
    "Приведем столбцы к нужному формату:"
   ]
  },
  {
   "cell_type": "code",
   "execution_count": 10,
   "id": "44cd08e6",
   "metadata": {},
   "outputs": [],
   "source": [
    "new_users['first_date']=pd.to_datetime(new_users['first_date'])"
   ]
  },
  {
   "cell_type": "markdown",
   "id": "b4b89316",
   "metadata": {},
   "source": [
    "### Обработка events"
   ]
  },
  {
   "cell_type": "code",
   "execution_count": 11,
   "id": "b98b3688",
   "metadata": {},
   "outputs": [
    {
     "name": "stdout",
     "output_type": "stream",
     "text": [
      "Выводим информацию о наборе данных: \n",
      "\n",
      "<class 'pandas.core.frame.DataFrame'>\n",
      "RangeIndex: 440317 entries, 0 to 440316\n",
      "Data columns (total 4 columns):\n",
      " #   Column      Non-Null Count   Dtype  \n",
      "---  ------      --------------   -----  \n",
      " 0   user_id     440317 non-null  object \n",
      " 1   event_dt    440317 non-null  object \n",
      " 2   event_name  440317 non-null  object \n",
      " 3   details     62740 non-null   float64\n",
      "dtypes: float64(1), object(3)\n",
      "memory usage: 13.4+ MB\n"
     ]
    },
    {
     "data": {
      "text/html": [
       "<div>\n",
       "<style scoped>\n",
       "    .dataframe tbody tr th:only-of-type {\n",
       "        vertical-align: middle;\n",
       "    }\n",
       "\n",
       "    .dataframe tbody tr th {\n",
       "        vertical-align: top;\n",
       "    }\n",
       "\n",
       "    .dataframe thead th {\n",
       "        text-align: right;\n",
       "    }\n",
       "</style>\n",
       "<table border=\"1\" class=\"dataframe\">\n",
       "  <thead>\n",
       "    <tr style=\"text-align: right;\">\n",
       "      <th></th>\n",
       "      <th>user_id</th>\n",
       "      <th>event_dt</th>\n",
       "      <th>event_name</th>\n",
       "      <th>details</th>\n",
       "    </tr>\n",
       "  </thead>\n",
       "  <tbody>\n",
       "    <tr>\n",
       "      <th>Уникальные значения</th>\n",
       "      <td>58703</td>\n",
       "      <td>267268</td>\n",
       "      <td>4</td>\n",
       "      <td>4</td>\n",
       "    </tr>\n",
       "    <tr>\n",
       "      <th>Пропуски</th>\n",
       "      <td>0</td>\n",
       "      <td>0</td>\n",
       "      <td>0</td>\n",
       "      <td>377577</td>\n",
       "    </tr>\n",
       "    <tr>\n",
       "      <th>Пропуски, %</th>\n",
       "      <td>0.00</td>\n",
       "      <td>0.00</td>\n",
       "      <td>0.00</td>\n",
       "      <td>85.75</td>\n",
       "    </tr>\n",
       "    <tr>\n",
       "      <th>Дубликаты</th>\n",
       "      <td>381614</td>\n",
       "      <td>173049</td>\n",
       "      <td>440313</td>\n",
       "      <td>440312</td>\n",
       "    </tr>\n",
       "    <tr>\n",
       "      <th>Дубликаты, %</th>\n",
       "      <td>86.67</td>\n",
       "      <td>39.30</td>\n",
       "      <td>100.00</td>\n",
       "      <td>100.00</td>\n",
       "    </tr>\n",
       "  </tbody>\n",
       "</table>\n",
       "</div>"
      ],
      "text/plain": [
       "                    user_id event_dt event_name details\n",
       "Уникальные значения   58703   267268          4       4\n",
       "Пропуски                  0        0          0  377577\n",
       "Пропуски, %            0.00     0.00       0.00   85.75\n",
       "Дубликаты            381614   173049     440313  440312\n",
       "Дубликаты, %          86.67    39.30     100.00  100.00"
      ]
     },
     "metadata": {},
     "output_type": "display_data"
    }
   ],
   "source": [
    "first_look(events)"
   ]
  },
  {
   "cell_type": "markdown",
   "id": "512c41cc",
   "metadata": {},
   "source": [
    "Получили предварительную информацию о имеющиемся наборе данных.  \n",
    "Приведем столбцы к нужному формату:"
   ]
  },
  {
   "cell_type": "code",
   "execution_count": 12,
   "id": "055de836",
   "metadata": {},
   "outputs": [],
   "source": [
    "events['event_dt']=pd.to_datetime(events['event_dt'])"
   ]
  },
  {
   "cell_type": "markdown",
   "id": "ae06636a",
   "metadata": {},
   "source": [
    "### Обработка participants"
   ]
  },
  {
   "cell_type": "code",
   "execution_count": 13,
   "id": "435727c5",
   "metadata": {},
   "outputs": [
    {
     "name": "stdout",
     "output_type": "stream",
     "text": [
      "Выводим информацию о наборе данных: \n",
      "\n",
      "<class 'pandas.core.frame.DataFrame'>\n",
      "RangeIndex: 18268 entries, 0 to 18267\n",
      "Data columns (total 3 columns):\n",
      " #   Column   Non-Null Count  Dtype \n",
      "---  ------   --------------  ----- \n",
      " 0   user_id  18268 non-null  object\n",
      " 1   group    18268 non-null  object\n",
      " 2   ab_test  18268 non-null  object\n",
      "dtypes: object(3)\n",
      "memory usage: 428.3+ KB\n"
     ]
    },
    {
     "data": {
      "text/html": [
       "<div>\n",
       "<style scoped>\n",
       "    .dataframe tbody tr th:only-of-type {\n",
       "        vertical-align: middle;\n",
       "    }\n",
       "\n",
       "    .dataframe tbody tr th {\n",
       "        vertical-align: top;\n",
       "    }\n",
       "\n",
       "    .dataframe thead th {\n",
       "        text-align: right;\n",
       "    }\n",
       "</style>\n",
       "<table border=\"1\" class=\"dataframe\">\n",
       "  <thead>\n",
       "    <tr style=\"text-align: right;\">\n",
       "      <th></th>\n",
       "      <th>user_id</th>\n",
       "      <th>group</th>\n",
       "      <th>ab_test</th>\n",
       "    </tr>\n",
       "  </thead>\n",
       "  <tbody>\n",
       "    <tr>\n",
       "      <th>Уникальные значения</th>\n",
       "      <td>16666</td>\n",
       "      <td>2</td>\n",
       "      <td>2</td>\n",
       "    </tr>\n",
       "    <tr>\n",
       "      <th>Пропуски</th>\n",
       "      <td>0</td>\n",
       "      <td>0</td>\n",
       "      <td>0</td>\n",
       "    </tr>\n",
       "    <tr>\n",
       "      <th>Пропуски, %</th>\n",
       "      <td>0.00</td>\n",
       "      <td>0.00</td>\n",
       "      <td>0.00</td>\n",
       "    </tr>\n",
       "    <tr>\n",
       "      <th>Дубликаты</th>\n",
       "      <td>1602</td>\n",
       "      <td>18266</td>\n",
       "      <td>18266</td>\n",
       "    </tr>\n",
       "    <tr>\n",
       "      <th>Дубликаты, %</th>\n",
       "      <td>8.77</td>\n",
       "      <td>99.99</td>\n",
       "      <td>99.99</td>\n",
       "    </tr>\n",
       "  </tbody>\n",
       "</table>\n",
       "</div>"
      ],
      "text/plain": [
       "                    user_id  group ab_test\n",
       "Уникальные значения   16666      2       2\n",
       "Пропуски                  0      0       0\n",
       "Пропуски, %            0.00   0.00    0.00\n",
       "Дубликаты              1602  18266   18266\n",
       "Дубликаты, %           8.77  99.99   99.99"
      ]
     },
     "metadata": {},
     "output_type": "display_data"
    }
   ],
   "source": [
    "first_look(participants)"
   ]
  },
  {
   "cell_type": "markdown",
   "id": "e43858ae",
   "metadata": {},
   "source": [
    "Получили предварительную информацию о имеющиемся наборе данных. Пользователи могут попадать в несколько групп сразу, поэтому дубликаты в столбце user_id убирать не будем."
   ]
  },
  {
   "cell_type": "markdown",
   "id": "f8529b4a",
   "metadata": {},
   "source": [
    "### Вывод по разделу"
   ]
  },
  {
   "cell_type": "markdown",
   "id": "27e1e78f",
   "metadata": {},
   "source": [
    "Была проведена предварительная обработка данных:\n",
    "   - Просмотрены пропуски и дубликаты;\n",
    "   - Приведены столбцы к нужному формату."
   ]
  },
  {
   "cell_type": "markdown",
   "id": "d04581b6",
   "metadata": {},
   "source": [
    "## Оценка корректности проведения теста"
   ]
  },
  {
   "cell_type": "markdown",
   "id": "7e50c495",
   "metadata": {},
   "source": [
    "Необходимо выделить пользователей участвующих в тесте и проверить параметры.\n",
    "\n",
    "Зададим необходимые параметры в соответсвии с тех.заданием:"
   ]
  },
  {
   "cell_type": "code",
   "execution_count": 14,
   "id": "b1260fb3",
   "metadata": {},
   "outputs": [
    {
     "data": {
      "text/html": [
       "<div>\n",
       "<style scoped>\n",
       "    .dataframe tbody tr th:only-of-type {\n",
       "        vertical-align: middle;\n",
       "    }\n",
       "\n",
       "    .dataframe tbody tr th {\n",
       "        vertical-align: top;\n",
       "    }\n",
       "\n",
       "    .dataframe thead th {\n",
       "        text-align: right;\n",
       "    }\n",
       "</style>\n",
       "<table border=\"1\" class=\"dataframe\">\n",
       "  <thead>\n",
       "    <tr style=\"text-align: right;\">\n",
       "      <th></th>\n",
       "      <th>user_id</th>\n",
       "      <th>group</th>\n",
       "      <th>ab_test</th>\n",
       "      <th>first_date</th>\n",
       "      <th>region</th>\n",
       "    </tr>\n",
       "  </thead>\n",
       "  <tbody>\n",
       "    <tr>\n",
       "      <th>0</th>\n",
       "      <td>D1ABA3E2887B6A73</td>\n",
       "      <td>A</td>\n",
       "      <td>recommender_system_test</td>\n",
       "      <td>2020-12-07</td>\n",
       "      <td>EU</td>\n",
       "    </tr>\n",
       "    <tr>\n",
       "      <th>1</th>\n",
       "      <td>A7A3664BD6242119</td>\n",
       "      <td>A</td>\n",
       "      <td>recommender_system_test</td>\n",
       "      <td>2020-12-20</td>\n",
       "      <td>EU</td>\n",
       "    </tr>\n",
       "    <tr>\n",
       "      <th>2</th>\n",
       "      <td>DABC14FDDFADD29E</td>\n",
       "      <td>A</td>\n",
       "      <td>recommender_system_test</td>\n",
       "      <td>2020-12-08</td>\n",
       "      <td>EU</td>\n",
       "    </tr>\n",
       "  </tbody>\n",
       "</table>\n",
       "</div>"
      ],
      "text/plain": [
       "            user_id group                  ab_test first_date region\n",
       "0  D1ABA3E2887B6A73     A  recommender_system_test 2020-12-07     EU\n",
       "1  A7A3664BD6242119     A  recommender_system_test 2020-12-20     EU\n",
       "2  DABC14FDDFADD29E     A  recommender_system_test 2020-12-08     EU"
      ]
     },
     "execution_count": 14,
     "metadata": {},
     "output_type": "execute_result"
    }
   ],
   "source": [
    "# Сделаем срез по нужному тесту\n",
    "rst=participants.query('ab_test == \"recommender_system_test\"')\n",
    "# Добавим новых пользователей\n",
    "rst=rst.merge(new_users[['user_id', 'first_date', 'region']],\n",
    "              on='user_id',\n",
    "              how='left')\n",
    "rst.head(3)"
   ]
  },
  {
   "cell_type": "markdown",
   "id": "acefdae0",
   "metadata": {},
   "source": [
    "### Период набора пользователей"
   ]
  },
  {
   "cell_type": "code",
   "execution_count": 15,
   "id": "7e09d2fb",
   "metadata": {},
   "outputs": [],
   "source": [
    "# Зададим начало и окончание исследований, которое нам дано по тех.заданию\n",
    "start=dt.date(2020, 12, 7)\n",
    "finish=dt.date(2021, 1, 4)\n",
    "finish_regist=dt.date(2020, 12, 21)"
   ]
  },
  {
   "cell_type": "code",
   "execution_count": 16,
   "id": "cc61f811",
   "metadata": {},
   "outputs": [
    {
     "name": "stdout",
     "output_type": "stream",
     "text": [
      "Дата начала тестов 2020-12-07 00:00:00\n",
      "Дата окончания тестов тестов 2020-12-21 00:00:00\n"
     ]
    }
   ],
   "source": [
    "print(f'Дата начала тестов {rst[\"first_date\"].min()}')\n",
    "print(f'Дата окончания тестов тестов {rst[\"first_date\"].max()}')"
   ]
  },
  {
   "cell_type": "markdown",
   "id": "fcc1c207",
   "metadata": {},
   "source": [
    "Даты начала и окончания регистрации при тестировании подтверждены."
   ]
  },
  {
   "cell_type": "markdown",
   "id": "02a580bd",
   "metadata": {},
   "source": [
    "### Регион регистрации пользователей"
   ]
  },
  {
   "cell_type": "code",
   "execution_count": 17,
   "id": "3aa21826",
   "metadata": {},
   "outputs": [
    {
     "data": {
      "image/png": "[encoded data removed]",
      "text/plain": [
       "<Figure size 1200x400 with 2 Axes>"
      ]
     },
     "metadata": {},
     "output_type": "display_data"
    }
   ],
   "source": [
    "reg=rst.groupby('region')['user_id'].count().reset_index().sort_values(by='user_id',ascending=False)\n",
    "\n",
    "fig,(ax1,ax2)=plt.subplots(1, 2,\n",
    "                           figsize=(12, 4),\n",
    "                           gridspec_kw={'width_ratios':[1, 1]})\n",
    "\n",
    "ax1=sns.barplot(data=reg,\n",
    "                x='region',\n",
    "                y='user_id',\n",
    "                palette='pastel',\n",
    "                ax=ax1)\n",
    "# Делаем подписи\n",
    "for bar in ax1.patches:\n",
    "    ax1.annotate(format(bar.get_height(),'.0f'),\n",
    "                        (bar.get_x() + bar.get_width() / 2,\n",
    "                        bar.get_height()//2), ha='center', va='center',\n",
    "                        size=14, xytext=(0, 10),\n",
    "                        textcoords='offset points')\n",
    "\n",
    "ax1.set_xlabel('Регион')   \n",
    "ax1.set_ylabel('Количество пользователей')\n",
    "ax1.set_title('Пользователи по регионам')\n",
    "    \n",
    "ax2.pie(reg['user_id'], \n",
    "        labels =reg['region'],\n",
    "        colors = sns.color_palette('pastel'),\n",
    "        autopct ='%.0f%%')\n",
    "ax2.set_title('Соотношение пользователей по регионам')\n",
    "plt.tight_layout(pad=0)\n",
    "plt.show()"
   ]
  },
  {
   "cell_type": "markdown",
   "id": "b16946f2",
   "metadata": {},
   "source": [
    "Как мы видим, больше всего пользователей из Европы, дальше идёт Северная Америка, потом Азиатско-Тихоокеанский регион и СНГ. \n",
    "\n",
    "Посмотрим сколько новых пользователей зарегистрировалось в Европе в интересующие нас даты:"
   ]
  },
  {
   "cell_type": "code",
   "execution_count": 24,
   "id": "048ebc36",
   "metadata": {},
   "outputs": [
    {
     "data": {
      "text/plain": [
       "0.15"
      ]
     },
     "execution_count": 24,
     "metadata": {},
     "output_type": "execute_result"
    }
   ],
   "source": [
    "len(new_users.query('(user_id in @rst[\"user_id\"]) and (region == \"EU\") and \\\n",
    "                     (first_date <= @finish_regist) and (first_date >= @start)'))\\\n",
    "/len(new_users.query('(region == \"EU\") and (first_date <= @finish_regist) and \\\n",
    "                     (first_date >= @start)'))"
   ]
  },
  {
   "cell_type": "markdown",
   "id": "00b0c840",
   "metadata": {},
   "source": [
    "Ровно 15 процентов, как по ТЗ"
   ]
  },
  {
   "cell_type": "markdown",
   "id": "b1331836",
   "metadata": {},
   "source": [
    "### Динамика набора пользователей"
   ]
  },
  {
   "cell_type": "code",
   "execution_count": 19,
   "id": "2133e4e9",
   "metadata": {},
   "outputs": [
    {
     "data": {
      "image/png": "[encoded data removed]",
      "text/plain": [
       "<Figure size 1000x600 with 1 Axes>"
      ]
     },
     "metadata": {},
     "output_type": "display_data"
    }
   ],
   "source": [
    "# Строим график плотности пользователей в зависимости от даты регистрации\n",
    "sns.histplot(data=rst,\n",
    "             x='first_date',\n",
    "             bins=14,\n",
    "             stat='density',\n",
    "             common_norm=False,\n",
    "             hue='group',\n",
    "             multiple='dodge',\n",
    "             shrink=0.8,\n",
    "             kde=True)\n",
    "plt.title('Плотность распределения регистрации пользователей по дате')\n",
    "plt.xlabel('Дата')\n",
    "plt.ylabel('Плотность')\n",
    "plt.show()"
   ]
  },
  {
   "cell_type": "markdown",
   "id": "1ac86b03",
   "metadata": {},
   "source": [
    "Как мы видим было несколько колебаний графика регистрации пользователей, тем не менее, обе группы показывают очень схожие результаты."
   ]
  },
  {
   "cell_type": "markdown",
   "id": "4e40e52f",
   "metadata": {},
   "source": [
    "### Пересекающиеся пользователи"
   ]
  },
  {
   "cell_type": "markdown",
   "id": "b38e29de",
   "metadata": {},
   "source": [
    "Проверим наличие пользователей, которые состоят в двух группах одновременно:"
   ]
  },
  {
   "cell_type": "code",
   "execution_count": 20,
   "id": "7814a8aa",
   "metadata": {},
   "outputs": [
    {
     "name": "stdout",
     "output_type": "stream",
     "text": [
      "Колличество пользователей в обеих группах 0\n"
     ]
    }
   ],
   "source": [
    "# находим пересечение множеств пользователей групп\n",
    "intersection = list(\n",
    "    set(rst.query('group == \\\"A\\\"')['user_id'].unique()) & \n",
    "    set(rst.query('group == \\\"B\\\"')['user_id'].unique())\n",
    ")\n",
    "print('Колличество пользователей в обеих группах', len(intersection))"
   ]
  },
  {
   "cell_type": "markdown",
   "id": "267db825",
   "metadata": {},
   "source": [
    "Пересечений в группах нет"
   ]
  },
  {
   "cell_type": "markdown",
   "id": "bbfb668b",
   "metadata": {},
   "source": [
    "### Пересекающиеся события"
   ]
  },
  {
   "cell_type": "markdown",
   "id": "cec0ac8f",
   "metadata": {},
   "source": [
    "Проверим какие события проходили в интересующие нас даты:"
   ]
  },
  {
   "cell_type": "code",
   "execution_count": 21,
   "id": "3e7a0aa4",
   "metadata": {
    "scrolled": true
   },
   "outputs": [
    {
     "data": {
      "text/html": [
       "<div>\n",
       "<style scoped>\n",
       "    .dataframe tbody tr th:only-of-type {\n",
       "        vertical-align: middle;\n",
       "    }\n",
       "\n",
       "    .dataframe tbody tr th {\n",
       "        vertical-align: top;\n",
       "    }\n",
       "\n",
       "    .dataframe thead th {\n",
       "        text-align: right;\n",
       "    }\n",
       "</style>\n",
       "<table border=\"1\" class=\"dataframe\">\n",
       "  <thead>\n",
       "    <tr style=\"text-align: right;\">\n",
       "      <th></th>\n",
       "      <th>name</th>\n",
       "      <th>regions</th>\n",
       "      <th>start_dt</th>\n",
       "      <th>finish_dt</th>\n",
       "    </tr>\n",
       "  </thead>\n",
       "  <tbody>\n",
       "    <tr>\n",
       "      <th>0</th>\n",
       "      <td>Christmas&amp;New Year Promo</td>\n",
       "      <td>EU, N.America</td>\n",
       "      <td>2020-12-25</td>\n",
       "      <td>2021-01-03</td>\n",
       "    </tr>\n",
       "    <tr>\n",
       "      <th>10</th>\n",
       "      <td>CIS New Year Gift Lottery</td>\n",
       "      <td>CIS</td>\n",
       "      <td>2020-12-30</td>\n",
       "      <td>2021-01-07</td>\n",
       "    </tr>\n",
       "  </tbody>\n",
       "</table>\n",
       "</div>"
      ],
      "text/plain": [
       "                         name        regions   start_dt  finish_dt\n",
       "0    Christmas&New Year Promo  EU, N.America 2020-12-25 2021-01-03\n",
       "10  CIS New Year Gift Lottery            CIS 2020-12-30 2021-01-07"
      ]
     },
     "execution_count": 21,
     "metadata": {},
     "output_type": "execute_result"
    }
   ],
   "source": [
    "marketing_events.loc[(marketing_events['start_dt']>='2020-12-07') & \n",
    "                     (marketing_events['start_dt']<='2021-01-04')]"
   ]
  },
  {
   "cell_type": "markdown",
   "id": "04f7b9f6",
   "metadata": {},
   "source": [
    "Как мы видим, было 2 события в эти даты."
   ]
  },
  {
   "cell_type": "markdown",
   "id": "1c65385f",
   "metadata": {},
   "source": [
    "### Пересечение с конкурирующим тестом"
   ]
  },
  {
   "cell_type": "code",
   "execution_count": 22,
   "id": "168c9938",
   "metadata": {
    "scrolled": true
   },
   "outputs": [
    {
     "data": {
      "text/plain": [
       "1602"
      ]
     },
     "execution_count": 22,
     "metadata": {},
     "output_type": "execute_result"
    }
   ],
   "source": [
    "intersection=participants.query('ab_test != \"recommender_system_test\" and \\\n",
    "                                 user_id in @rst[\"user_id\"]')\n",
    "intersection['user_id'].count()"
   ]
  },
  {
   "cell_type": "markdown",
   "id": "2f33ba4e",
   "metadata": {},
   "source": [
    "Как мы видим, 1602 пользователя попали в обе группы."
   ]
  },
  {
   "cell_type": "markdown",
   "id": "3b3670f8",
   "metadata": {},
   "source": [
    "## Пользовательская активность"
   ]
  },
  {
   "cell_type": "code",
   "execution_count": null,
   "id": "c914de67",
   "metadata": {},
   "outputs": [],
   "source": []
  }
 ],
 "metadata": {
  "kernelspec": {
   "display_name": "Python 3 (ipykernel)",
   "language": "python",
   "name": "python3"
  },
  "language_info": {
   "codemirror_mode": {
    "name": "ipython",
    "version": 3
   },
   "file_extension": ".py",
   "mimetype": "text/x-python",
   "name": "python",
   "nbconvert_exporter": "python",
   "pygments_lexer": "ipython3",
   "version": "3.9.16"
  },
  "toc": {
   "base_numbering": 1,
   "nav_menu": {},
   "number_sections": true,
   "sideBar": true,
   "skip_h1_title": true,
   "title_cell": "Table of Contents",
   "title_sidebar": "Contents",
   "toc_cell": false,
   "toc_position": {},
   "toc_section_display": true,
   "toc_window_display": false
  },
  "varInspector": {
   "cols": {
    "lenName": 16,
    "lenType": 16,
    "lenVar": 40
   },
   "kernels_config": {
    "python": {
     "delete_cmd_postfix": "",
     "delete_cmd_prefix": "del ",
     "library": "var_list.py",
     "varRefreshCmd": "print(var_dic_list())"
    },
    "r": {
     "delete_cmd_postfix": ") ",
     "delete_cmd_prefix": "rm(",
     "library": "var_list.r",
     "varRefreshCmd": "cat(var_dic_list()) "
    }
   },
   "types_to_exclude": [
    "module",
    "function",
    "builtin_function_or_method",
    "instance",
    "_Feature"
   ],
   "window_display": false
  }
 },
 "nbformat": 4,
 "nbformat_minor": 5
}
